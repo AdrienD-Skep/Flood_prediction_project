{
 "cells": [
  {
   "cell_type": "code",
   "execution_count": null,
   "metadata": {},
   "outputs": [],
   "source": [
    "import pandas as pd\n",
    "import requests\n",
    "import time\n",
    "import geopandas as gpd\n",
    "from shapely.geometry import Point\n",
    "import matplotlib.pyplot as plt\n",
    "import plotly.express as px\n",
    "import os"
   ]
  },
  {
   "cell_type": "code",
   "execution_count": null,
   "metadata": {},
   "outputs": [],
   "source": [
    "region_df = pd.read_csv(\"src/S3_regions_codes_and_names_v2021.csv\")"
   ]
  },
  {
   "cell_type": "code",
   "execution_count": 14,
   "metadata": {},
   "outputs": [],
   "source": [
    "region_df[\"Country code\"] = region_df[\"Code\"].apply(lambda x : x[:2])"
   ]
  },
  {
   "cell_type": "code",
   "execution_count": null,
   "metadata": {},
   "outputs": [],
   "source": [
    "flood_df = pd.read_csv(\"src/HANZE_events.csv\")"
   ]
  },
  {
   "cell_type": "code",
   "execution_count": 24,
   "metadata": {},
   "outputs": [],
   "source": [
    "country_codes_df = flood_df.loc[:,[\"Country code\", \"Country name\"]].drop_duplicates().reset_index()"
   ]
  },
  {
   "cell_type": "code",
   "execution_count": 27,
   "metadata": {},
   "outputs": [],
   "source": [
    "region_df = pd.merge(region_df, country_codes_df, on='Country code', how='left')"
   ]
  },
  {
   "cell_type": "code",
   "execution_count": null,
   "metadata": {},
   "outputs": [],
   "source": [
    "Google_API_key = os.getenv(\"Google_API_KEY\")\n",
    "def geocode_region(name, country_name):\n",
    "    # Construct the query with region name and country code\n",
    "    query = f\"{name} {country_name}\"\n",
    "    url = f\"https://maps.googleapis.com/maps/api/geocode/json?address={query}&key={Google_API_key}\"\n",
    "    response = requests.get(url)\n",
    "    \n",
    "    if response.status_code == 200:\n",
    "        results = response.json()\n",
    "        if results['status'] == 'OK':  # Check if the request was successful\n",
    "            location = results['results'][0]['geometry']['location']\n",
    "            return location['lat'], location['lng']\n",
    "        else:\n",
    "            print(f\"Geocoding failed for {query}. Status: {results['status']}\")\n",
    "    else:\n",
    "        print(f\"HTTP request failed for {query}. Status code: {response.status_code}\")\n",
    "    \n",
    "    return None, None"
   ]
  },
  {
   "cell_type": "code",
   "execution_count": 29,
   "metadata": {},
   "outputs": [
    {
     "name": "stdout",
     "output_type": "stream",
     "text": [
      "Geocoding failed for Caithness & Sutherland and Ross & Cromarty United Kingdom. Status: ZERO_RESULTS\n"
     ]
    }
   ],
   "source": [
    "for index, row in region_df.iterrows():\n",
    "    country_code = row['Code'][:2]  # Extract the first two characters as the country code\n",
    "    lat, lon = geocode_region(row['Name'], row[\"Country name\"])\n",
    "    region_df.at[index, 'Latitude'] = lat\n",
    "    region_df.at[index, 'Longitude'] = lon\n",
    "    time.sleep(0.05) \n"
   ]
  },
  {
   "cell_type": "code",
   "execution_count": 37,
   "metadata": {},
   "outputs": [
    {
     "data": {
      "text/html": [
       "<div>\n",
       "<style scoped>\n",
       "    .dataframe tbody tr th:only-of-type {\n",
       "        vertical-align: middle;\n",
       "    }\n",
       "\n",
       "    .dataframe tbody tr th {\n",
       "        vertical-align: top;\n",
       "    }\n",
       "\n",
       "    .dataframe thead th {\n",
       "        text-align: right;\n",
       "    }\n",
       "</style>\n",
       "<table border=\"1\" class=\"dataframe\">\n",
       "  <thead>\n",
       "    <tr style=\"text-align: right;\">\n",
       "      <th></th>\n",
       "      <th>Code</th>\n",
       "      <th>Name</th>\n",
       "      <th>Country code</th>\n",
       "      <th>Country name</th>\n",
       "      <th>Latitude</th>\n",
       "      <th>Longitude</th>\n",
       "    </tr>\n",
       "  </thead>\n",
       "  <tbody>\n",
       "    <tr>\n",
       "      <th>0</th>\n",
       "      <td>AD000</td>\n",
       "      <td>Andorra</td>\n",
       "      <td>AD</td>\n",
       "      <td>Andorra</td>\n",
       "      <td>42.506285</td>\n",
       "      <td>1.521801</td>\n",
       "    </tr>\n",
       "    <tr>\n",
       "      <th>1</th>\n",
       "      <td>AL011</td>\n",
       "      <td>Dibër</td>\n",
       "      <td>AL</td>\n",
       "      <td>Albania</td>\n",
       "      <td>41.588816</td>\n",
       "      <td>20.235565</td>\n",
       "    </tr>\n",
       "    <tr>\n",
       "      <th>2</th>\n",
       "      <td>AL012</td>\n",
       "      <td>Durrës</td>\n",
       "      <td>AL</td>\n",
       "      <td>Albania</td>\n",
       "      <td>41.324590</td>\n",
       "      <td>19.456469</td>\n",
       "    </tr>\n",
       "    <tr>\n",
       "      <th>3</th>\n",
       "      <td>AL013</td>\n",
       "      <td>Kukës</td>\n",
       "      <td>AL</td>\n",
       "      <td>Albania</td>\n",
       "      <td>42.075584</td>\n",
       "      <td>20.425946</td>\n",
       "    </tr>\n",
       "    <tr>\n",
       "      <th>4</th>\n",
       "      <td>AL014</td>\n",
       "      <td>Lezhë</td>\n",
       "      <td>AL</td>\n",
       "      <td>Albania</td>\n",
       "      <td>41.786073</td>\n",
       "      <td>19.646076</td>\n",
       "    </tr>\n",
       "    <tr>\n",
       "      <th>...</th>\n",
       "      <td>...</td>\n",
       "      <td>...</td>\n",
       "      <td>...</td>\n",
       "      <td>...</td>\n",
       "      <td>...</td>\n",
       "      <td>...</td>\n",
       "    </tr>\n",
       "    <tr>\n",
       "      <th>1438</th>\n",
       "      <td>XK006</td>\n",
       "      <td>Gjilan/Gnjilane</td>\n",
       "      <td>XK</td>\n",
       "      <td>Kosovo</td>\n",
       "      <td>42.388746</td>\n",
       "      <td>21.427589</td>\n",
       "    </tr>\n",
       "    <tr>\n",
       "      <th>1439</th>\n",
       "      <td>XK002</td>\n",
       "      <td>Mitrovicë/Mitrovica</td>\n",
       "      <td>XK</td>\n",
       "      <td>Kosovo</td>\n",
       "      <td>42.994799</td>\n",
       "      <td>20.807608</td>\n",
       "    </tr>\n",
       "    <tr>\n",
       "      <th>1440</th>\n",
       "      <td>XK003</td>\n",
       "      <td>Pejë/Peć</td>\n",
       "      <td>XK</td>\n",
       "      <td>Kosovo</td>\n",
       "      <td>42.720918</td>\n",
       "      <td>20.473876</td>\n",
       "    </tr>\n",
       "    <tr>\n",
       "      <th>1441</th>\n",
       "      <td>XK001</td>\n",
       "      <td>Prishtinë/Priština</td>\n",
       "      <td>XK</td>\n",
       "      <td>Kosovo</td>\n",
       "      <td>42.669461</td>\n",
       "      <td>21.141423</td>\n",
       "    </tr>\n",
       "    <tr>\n",
       "      <th>1442</th>\n",
       "      <td>XK004</td>\n",
       "      <td>Prizren/Prizren</td>\n",
       "      <td>XK</td>\n",
       "      <td>Kosovo</td>\n",
       "      <td>42.217144</td>\n",
       "      <td>20.743650</td>\n",
       "    </tr>\n",
       "  </tbody>\n",
       "</table>\n",
       "<p>1443 rows × 6 columns</p>\n",
       "</div>"
      ],
      "text/plain": [
       "       Code                 Name Country code Country name   Latitude  \\\n",
       "0     AD000              Andorra           AD      Andorra  42.506285   \n",
       "1     AL011                Dibër           AL      Albania  41.588816   \n",
       "2     AL012               Durrës           AL      Albania  41.324590   \n",
       "3     AL013                Kukës           AL      Albania  42.075584   \n",
       "4     AL014                Lezhë           AL      Albania  41.786073   \n",
       "...     ...                  ...          ...          ...        ...   \n",
       "1438  XK006      Gjilan/Gnjilane           XK       Kosovo  42.388746   \n",
       "1439  XK002  Mitrovicë/Mitrovica           XK       Kosovo  42.994799   \n",
       "1440  XK003             Pejë/Peć           XK       Kosovo  42.720918   \n",
       "1441  XK001   Prishtinë/Priština           XK       Kosovo  42.669461   \n",
       "1442  XK004      Prizren/Prizren           XK       Kosovo  42.217144   \n",
       "\n",
       "      Longitude  \n",
       "0      1.521801  \n",
       "1     20.235565  \n",
       "2     19.456469  \n",
       "3     20.425946  \n",
       "4     19.646076  \n",
       "...         ...  \n",
       "1438  21.427589  \n",
       "1439  20.807608  \n",
       "1440  20.473876  \n",
       "1441  21.141423  \n",
       "1442  20.743650  \n",
       "\n",
       "[1443 rows x 6 columns]"
      ]
     },
     "execution_count": 37,
     "metadata": {},
     "output_type": "execute_result"
    }
   ],
   "source": [
    "region_df"
   ]
  },
  {
   "cell_type": "code",
   "execution_count": 38,
   "metadata": {},
   "outputs": [],
   "source": [
    "region_df.loc[region_df[\"Name\"] == \"Caithness & Sutherland and Ross & Cromarty\", ['Latitude', 'Longitude']] = 57.948211, -4.436254"
   ]
  },
  {
   "cell_type": "code",
   "execution_count": 42,
   "metadata": {},
   "outputs": [
    {
     "data": {
      "application/vnd.plotly.v1+json": {
       "config": {
        "plotlyServerURL": "https://plot.ly"
       },
       "data": [
        {
         "customdata": [
          [
           "AD000"
          ],
          [
           "AL011"
          ],
          [
           "AL012"
          ],
          [
           "AL013"
          ],
          [
           "AL014"
          ],
          [
           "AL015"
          ],
          [
           "AL021"
          ],
          [
           "AL022"
          ],
          [
           "AL031"
          ],
          [
           "AL032"
          ],
          [
           "AL033"
          ],
          [
           "AL034"
          ],
          [
           "AL035"
          ],
          [
           "AT111"
          ],
          [
           "AT112"
          ],
          [
           "AT113"
          ],
          [
           "AT121"
          ],
          [
           "AT122"
          ],
          [
           "AT123"
          ],
          [
           "AT124"
          ],
          [
           "AT125"
          ],
          [
           "AT126"
          ],
          [
           "AT127"
          ],
          [
           "AT130"
          ],
          [
           "AT211"
          ],
          [
           "AT212"
          ],
          [
           "AT213"
          ],
          [
           "AT221"
          ],
          [
           "AT222"
          ],
          [
           "AT223"
          ],
          [
           "AT224"
          ],
          [
           "AT225"
          ],
          [
           "AT226"
          ],
          [
           "AT311"
          ],
          [
           "AT312"
          ],
          [
           "AT313"
          ],
          [
           "AT314"
          ],
          [
           "AT315"
          ],
          [
           "AT321"
          ],
          [
           "AT322"
          ],
          [
           "AT323"
          ],
          [
           "AT331"
          ],
          [
           "AT332"
          ],
          [
           "AT333"
          ],
          [
           "AT334"
          ],
          [
           "AT335"
          ],
          [
           "AT341"
          ],
          [
           "AT342"
          ],
          [
           "BA011"
          ],
          [
           "BA012"
          ],
          [
           "BA013"
          ],
          [
           "BA014"
          ],
          [
           "BA015"
          ],
          [
           "BA016"
          ],
          [
           "BA017"
          ],
          [
           "BA018"
          ],
          [
           "BA019"
          ],
          [
           "BA01A"
          ],
          [
           "BA021"
          ],
          [
           "BA022"
          ],
          [
           "BA023"
          ],
          [
           "BA024"
          ],
          [
           "BA025"
          ],
          [
           "BA026"
          ],
          [
           "BA030"
          ],
          [
           "BE100"
          ],
          [
           "BE211"
          ],
          [
           "BE212"
          ],
          [
           "BE213"
          ],
          [
           "BE223"
          ],
          [
           "BE224"
          ],
          [
           "BE225"
          ],
          [
           "BE231"
          ],
          [
           "BE232"
          ],
          [
           "BE233"
          ],
          [
           "BE234"
          ],
          [
           "BE235"
          ],
          [
           "BE236"
          ],
          [
           "BE241"
          ],
          [
           "BE242"
          ],
          [
           "BE251"
          ],
          [
           "BE252"
          ],
          [
           "BE253"
          ],
          [
           "BE254"
          ],
          [
           "BE255"
          ],
          [
           "BE256"
          ],
          [
           "BE257"
          ],
          [
           "BE258"
          ],
          [
           "BE310"
          ],
          [
           "BE323"
          ],
          [
           "BE328"
          ],
          [
           "BE329"
          ],
          [
           "BE32A"
          ],
          [
           "BE32B"
          ],
          [
           "BE32C"
          ],
          [
           "BE32D"
          ],
          [
           "BE331"
          ],
          [
           "BE332"
          ],
          [
           "BE334"
          ],
          [
           "BE335"
          ],
          [
           "BE336"
          ],
          [
           "BE341"
          ],
          [
           "BE342"
          ],
          [
           "BE343"
          ],
          [
           "BE344"
          ],
          [
           "BE345"
          ],
          [
           "BE351"
          ],
          [
           "BE352"
          ],
          [
           "BE353"
          ],
          [
           "BG311"
          ],
          [
           "BG312"
          ],
          [
           "BG313"
          ],
          [
           "BG314"
          ],
          [
           "BG315"
          ],
          [
           "BG321"
          ],
          [
           "BG322"
          ],
          [
           "BG323"
          ],
          [
           "BG324"
          ],
          [
           "BG325"
          ],
          [
           "BG331"
          ],
          [
           "BG332"
          ],
          [
           "BG333"
          ],
          [
           "BG334"
          ],
          [
           "BG341"
          ],
          [
           "BG342"
          ],
          [
           "BG343"
          ],
          [
           "BG344"
          ],
          [
           "BG411"
          ],
          [
           "BG412"
          ],
          [
           "BG413"
          ],
          [
           "BG414"
          ],
          [
           "BG415"
          ],
          [
           "BG421"
          ],
          [
           "BG422"
          ],
          [
           "BG423"
          ],
          [
           "BG424"
          ],
          [
           "BG425"
          ],
          [
           "CH011"
          ],
          [
           "CH012"
          ],
          [
           "CH013"
          ],
          [
           "CH021"
          ],
          [
           "CH022"
          ],
          [
           "CH023"
          ],
          [
           "CH024"
          ],
          [
           "CH025"
          ],
          [
           "CH031"
          ],
          [
           "CH032"
          ],
          [
           "CH033"
          ],
          [
           "CH040"
          ],
          [
           "CH051"
          ],
          [
           "CH052"
          ],
          [
           "CH053"
          ],
          [
           "CH054"
          ],
          [
           "CH055"
          ],
          [
           "CH056"
          ],
          [
           "CH057"
          ],
          [
           "CH061"
          ],
          [
           "CH062"
          ],
          [
           "CH063"
          ],
          [
           "CH064"
          ],
          [
           "CH065"
          ],
          [
           "CH066"
          ],
          [
           "CH070"
          ],
          [
           "CY000"
          ],
          [
           "CZ010"
          ],
          [
           "CZ020"
          ],
          [
           "CZ031"
          ],
          [
           "CZ032"
          ],
          [
           "CZ041"
          ],
          [
           "CZ042"
          ],
          [
           "CZ051"
          ],
          [
           "CZ052"
          ],
          [
           "CZ053"
          ],
          [
           "CZ063"
          ],
          [
           "CZ064"
          ],
          [
           "CZ071"
          ],
          [
           "CZ072"
          ],
          [
           "CZ080"
          ],
          [
           "DE111"
          ],
          [
           "DE112"
          ],
          [
           "DE113"
          ],
          [
           "DE114"
          ],
          [
           "DE115"
          ],
          [
           "DE116"
          ],
          [
           "DE117"
          ],
          [
           "DE118"
          ],
          [
           "DE119"
          ],
          [
           "DE11A"
          ],
          [
           "DE11B"
          ],
          [
           "DE11C"
          ],
          [
           "DE11D"
          ],
          [
           "DE121"
          ],
          [
           "DE122"
          ],
          [
           "DE123"
          ],
          [
           "DE124"
          ],
          [
           "DE125"
          ],
          [
           "DE126"
          ],
          [
           "DE127"
          ],
          [
           "DE128"
          ],
          [
           "DE129"
          ],
          [
           "DE12A"
          ],
          [
           "DE12B"
          ],
          [
           "DE12C"
          ],
          [
           "DE131"
          ],
          [
           "DE132"
          ],
          [
           "DE133"
          ],
          [
           "DE134"
          ],
          [
           "DE135"
          ],
          [
           "DE136"
          ],
          [
           "DE137"
          ],
          [
           "DE138"
          ],
          [
           "DE139"
          ],
          [
           "DE13A"
          ],
          [
           "DE141"
          ],
          [
           "DE142"
          ],
          [
           "DE143"
          ],
          [
           "DE144"
          ],
          [
           "DE145"
          ],
          [
           "DE146"
          ],
          [
           "DE147"
          ],
          [
           "DE148"
          ],
          [
           "DE149"
          ],
          [
           "DE211"
          ],
          [
           "DE212"
          ],
          [
           "DE213"
          ],
          [
           "DE214"
          ],
          [
           "DE215"
          ],
          [
           "DE216"
          ],
          [
           "DE217"
          ],
          [
           "DE218"
          ],
          [
           "DE219"
          ],
          [
           "DE21A"
          ],
          [
           "DE21B"
          ],
          [
           "DE21C"
          ],
          [
           "DE21D"
          ],
          [
           "DE21E"
          ],
          [
           "DE21F"
          ],
          [
           "DE21G"
          ],
          [
           "DE21H"
          ],
          [
           "DE21I"
          ],
          [
           "DE21J"
          ],
          [
           "DE21K"
          ],
          [
           "DE21L"
          ],
          [
           "DE21M"
          ],
          [
           "DE21N"
          ],
          [
           "DE221"
          ],
          [
           "DE222"
          ],
          [
           "DE223"
          ],
          [
           "DE224"
          ],
          [
           "DE225"
          ],
          [
           "DE226"
          ],
          [
           "DE227"
          ],
          [
           "DE228"
          ],
          [
           "DE229"
          ],
          [
           "DE22A"
          ],
          [
           "DE22B"
          ],
          [
           "DE22C"
          ],
          [
           "DE231"
          ],
          [
           "DE232"
          ],
          [
           "DE233"
          ],
          [
           "DE234"
          ],
          [
           "DE235"
          ],
          [
           "DE236"
          ],
          [
           "DE237"
          ],
          [
           "DE238"
          ],
          [
           "DE239"
          ],
          [
           "DE23A"
          ],
          [
           "DE241"
          ],
          [
           "DE242"
          ],
          [
           "DE243"
          ],
          [
           "DE244"
          ],
          [
           "DE245"
          ],
          [
           "DE246"
          ],
          [
           "DE247"
          ],
          [
           "DE248"
          ],
          [
           "DE249"
          ],
          [
           "DE24A"
          ],
          [
           "DE24B"
          ],
          [
           "DE24C"
          ],
          [
           "DE24D"
          ],
          [
           "DE251"
          ],
          [
           "DE252"
          ],
          [
           "DE253"
          ],
          [
           "DE254"
          ],
          [
           "DE255"
          ],
          [
           "DE256"
          ],
          [
           "DE257"
          ],
          [
           "DE258"
          ],
          [
           "DE259"
          ],
          [
           "DE25A"
          ],
          [
           "DE25B"
          ],
          [
           "DE25C"
          ],
          [
           "DE261"
          ],
          [
           "DE262"
          ],
          [
           "DE263"
          ],
          [
           "DE264"
          ],
          [
           "DE265"
          ],
          [
           "DE266"
          ],
          [
           "DE267"
          ],
          [
           "DE268"
          ],
          [
           "DE269"
          ],
          [
           "DE26A"
          ],
          [
           "DE26B"
          ],
          [
           "DE26C"
          ],
          [
           "DE271"
          ],
          [
           "DE272"
          ],
          [
           "DE273"
          ],
          [
           "DE274"
          ],
          [
           "DE275"
          ],
          [
           "DE276"
          ],
          [
           "DE277"
          ],
          [
           "DE278"
          ],
          [
           "DE279"
          ],
          [
           "DE27A"
          ],
          [
           "DE27B"
          ],
          [
           "DE27C"
          ],
          [
           "DE27D"
          ],
          [
           "DE27E"
          ],
          [
           "DE300"
          ],
          [
           "DE401"
          ],
          [
           "DE402"
          ],
          [
           "DE403"
          ],
          [
           "DE404"
          ],
          [
           "DE405"
          ],
          [
           "DE406"
          ],
          [
           "DE407"
          ],
          [
           "DE408"
          ],
          [
           "DE409"
          ],
          [
           "DE40A"
          ],
          [
           "DE40B"
          ],
          [
           "DE40C"
          ],
          [
           "DE40D"
          ],
          [
           "DE40E"
          ],
          [
           "DE40F"
          ],
          [
           "DE40G"
          ],
          [
           "DE40H"
          ],
          [
           "DE40I"
          ],
          [
           "DE501"
          ],
          [
           "DE502"
          ],
          [
           "DE600"
          ],
          [
           "DE711"
          ],
          [
           "DE712"
          ],
          [
           "DE713"
          ],
          [
           "DE714"
          ],
          [
           "DE715"
          ],
          [
           "DE716"
          ],
          [
           "DE717"
          ],
          [
           "DE718"
          ],
          [
           "DE719"
          ],
          [
           "DE71A"
          ],
          [
           "DE71B"
          ],
          [
           "DE71C"
          ],
          [
           "DE71D"
          ],
          [
           "DE71E"
          ],
          [
           "DE721"
          ],
          [
           "DE722"
          ],
          [
           "DE723"
          ],
          [
           "DE724"
          ],
          [
           "DE725"
          ],
          [
           "DE731"
          ],
          [
           "DE732"
          ],
          [
           "DE733"
          ],
          [
           "DE734"
          ],
          [
           "DE735"
          ],
          [
           "DE736"
          ],
          [
           "DE737"
          ],
          [
           "DE803"
          ],
          [
           "DE804"
          ],
          [
           "DE80J"
          ],
          [
           "DE80K"
          ],
          [
           "DE80L"
          ],
          [
           "DE80M"
          ],
          [
           "DE80N"
          ],
          [
           "DE80O"
          ],
          [
           "DE911"
          ],
          [
           "DE912"
          ],
          [
           "DE913"
          ],
          [
           "DE914"
          ],
          [
           "DE916"
          ],
          [
           "DE917"
          ],
          [
           "DE918"
          ],
          [
           "DE91A"
          ],
          [
           "DE91B"
          ],
          [
           "DE91C"
          ],
          [
           "DE922"
          ],
          [
           "DE923"
          ],
          [
           "DE925"
          ],
          [
           "DE926"
          ],
          [
           "DE927"
          ],
          [
           "DE928"
          ],
          [
           "DE929"
          ],
          [
           "DE931"
          ],
          [
           "DE932"
          ],
          [
           "DE933"
          ],
          [
           "DE934"
          ],
          [
           "DE935"
          ],
          [
           "DE936"
          ],
          [
           "DE937"
          ],
          [
           "DE938"
          ],
          [
           "DE939"
          ],
          [
           "DE93A"
          ],
          [
           "DE93B"
          ],
          [
           "DE941"
          ],
          [
           "DE942"
          ],
          [
           "DE943"
          ],
          [
           "DE944"
          ],
          [
           "DE945"
          ],
          [
           "DE946"
          ],
          [
           "DE947"
          ],
          [
           "DE948"
          ],
          [
           "DE949"
          ],
          [
           "DE94A"
          ],
          [
           "DE94B"
          ],
          [
           "DE94C"
          ],
          [
           "DE94D"
          ],
          [
           "DE94E"
          ],
          [
           "DE94F"
          ],
          [
           "DE94G"
          ],
          [
           "DE94H"
          ],
          [
           "DEA11"
          ],
          [
           "DEA12"
          ],
          [
           "DEA13"
          ],
          [
           "DEA14"
          ],
          [
           "DEA15"
          ],
          [
           "DEA16"
          ],
          [
           "DEA17"
          ],
          [
           "DEA18"
          ],
          [
           "DEA19"
          ],
          [
           "DEA1A"
          ],
          [
           "DEA1B"
          ],
          [
           "DEA1C"
          ],
          [
           "DEA1D"
          ],
          [
           "DEA1E"
          ],
          [
           "DEA1F"
          ],
          [
           "DEA22"
          ],
          [
           "DEA23"
          ],
          [
           "DEA24"
          ],
          [
           "DEA26"
          ],
          [
           "DEA27"
          ],
          [
           "DEA28"
          ],
          [
           "DEA29"
          ],
          [
           "DEA2A"
          ],
          [
           "DEA2B"
          ],
          [
           "DEA2C"
          ],
          [
           "DEA2D"
          ],
          [
           "DEA31"
          ],
          [
           "DEA32"
          ],
          [
           "DEA33"
          ],
          [
           "DEA34"
          ],
          [
           "DEA35"
          ],
          [
           "DEA36"
          ],
          [
           "DEA37"
          ],
          [
           "DEA38"
          ],
          [
           "DEA41"
          ],
          [
           "DEA42"
          ],
          [
           "DEA43"
          ],
          [
           "DEA44"
          ],
          [
           "DEA45"
          ],
          [
           "DEA46"
          ],
          [
           "DEA47"
          ],
          [
           "DEA51"
          ],
          [
           "DEA52"
          ],
          [
           "DEA53"
          ],
          [
           "DEA54"
          ],
          [
           "DEA55"
          ],
          [
           "DEA56"
          ],
          [
           "DEA57"
          ],
          [
           "DEA58"
          ],
          [
           "DEA59"
          ],
          [
           "DEA5A"
          ],
          [
           "DEA5B"
          ],
          [
           "DEA5C"
          ],
          [
           "DEB11"
          ],
          [
           "DEB12"
          ],
          [
           "DEB13"
          ],
          [
           "DEB14"
          ],
          [
           "DEB15"
          ],
          [
           "DEB17"
          ],
          [
           "DEB18"
          ],
          [
           "DEB1A"
          ],
          [
           "DEB1B"
          ],
          [
           "DEB1C"
          ],
          [
           "DEB1D"
          ],
          [
           "DEB21"
          ],
          [
           "DEB22"
          ],
          [
           "DEB23"
          ],
          [
           "DEB24"
          ],
          [
           "DEB25"
          ],
          [
           "DEB31"
          ],
          [
           "DEB32"
          ],
          [
           "DEB33"
          ],
          [
           "DEB34"
          ],
          [
           "DEB35"
          ],
          [
           "DEB36"
          ],
          [
           "DEB37"
          ],
          [
           "DEB38"
          ],
          [
           "DEB39"
          ],
          [
           "DEB3A"
          ],
          [
           "DEB3B"
          ],
          [
           "DEB3C"
          ],
          [
           "DEB3D"
          ],
          [
           "DEB3E"
          ],
          [
           "DEB3F"
          ],
          [
           "DEB3G"
          ],
          [
           "DEB3H"
          ],
          [
           "DEB3I"
          ],
          [
           "DEB3J"
          ],
          [
           "DEB3K"
          ],
          [
           "Dec-01"
          ],
          [
           "Dec-02"
          ],
          [
           "Dec-03"
          ],
          [
           "Dec-04"
          ],
          [
           "Dec-05"
          ],
          [
           "Dec-06"
          ],
          [
           "DED21"
          ],
          [
           "DED2C"
          ],
          [
           "DED2D"
          ],
          [
           "DED2E"
          ],
          [
           "DED2F"
          ],
          [
           "DED41"
          ],
          [
           "DED42"
          ],
          [
           "DED43"
          ],
          [
           "DED44"
          ],
          [
           "DED45"
          ],
          [
           "DED51"
          ],
          [
           "DED52"
          ],
          [
           "DED53"
          ],
          [
           "DEE01"
          ],
          [
           "DEE02"
          ],
          [
           "DEE03"
          ],
          [
           "DEE04"
          ],
          [
           "DEE05"
          ],
          [
           "DEE06"
          ],
          [
           "DEE07"
          ],
          [
           "DEE08"
          ],
          [
           "DEE09"
          ],
          [
           "DEE0A"
          ],
          [
           "DEE0B"
          ],
          [
           "DEE0C"
          ],
          [
           "DEE0D"
          ],
          [
           "DEE0E"
          ],
          [
           "DEF01"
          ],
          [
           "DEF02"
          ],
          [
           "DEF03"
          ],
          [
           "DEF04"
          ],
          [
           "DEF05"
          ],
          [
           "DEF06"
          ],
          [
           "DEF07"
          ],
          [
           "DEF08"
          ],
          [
           "DEF09"
          ],
          [
           "DEF0A"
          ],
          [
           "DEF0B"
          ],
          [
           "DEF0C"
          ],
          [
           "DEF0D"
          ],
          [
           "DEF0E"
          ],
          [
           "DEF0F"
          ],
          [
           "DEG01"
          ],
          [
           "DEG02"
          ],
          [
           "DEG03"
          ],
          [
           "DEG04"
          ],
          [
           "DEG05"
          ],
          [
           "DEG06"
          ],
          [
           "DEG07"
          ],
          [
           "DEG09"
          ],
          [
           "DEG0A"
          ],
          [
           "DEG0B"
          ],
          [
           "DEG0C"
          ],
          [
           "DEG0D"
          ],
          [
           "DEG0E"
          ],
          [
           "DEG0F"
          ],
          [
           "DEG0G"
          ],
          [
           "DEG0H"
          ],
          [
           "DEG0I"
          ],
          [
           "DEG0J"
          ],
          [
           "DEG0K"
          ],
          [
           "DEG0L"
          ],
          [
           "DEG0M"
          ],
          [
           "DEG0N"
          ],
          [
           "DEG0P"
          ],
          [
           "DK011"
          ],
          [
           "DK012"
          ],
          [
           "DK013"
          ],
          [
           "DK014"
          ],
          [
           "DK021"
          ],
          [
           "DK022"
          ],
          [
           "DK031"
          ],
          [
           "DK032"
          ],
          [
           "DK041"
          ],
          [
           "DK042"
          ],
          [
           "DK050"
          ],
          [
           "EE001"
          ],
          [
           "EE004"
          ],
          [
           "EE008"
          ],
          [
           "EE009"
          ],
          [
           "EE00A"
          ],
          [
           "EL301"
          ],
          [
           "EL302"
          ],
          [
           "EL303"
          ],
          [
           "EL304"
          ],
          [
           "EL305"
          ],
          [
           "EL306"
          ],
          [
           "EL307"
          ],
          [
           "EL411"
          ],
          [
           "EL412"
          ],
          [
           "EL413"
          ],
          [
           "EL421"
          ],
          [
           "EL422"
          ],
          [
           "EL431"
          ],
          [
           "EL432"
          ],
          [
           "EL433"
          ],
          [
           "EL434"
          ],
          [
           "EL511"
          ],
          [
           "EL512"
          ],
          [
           "EL513"
          ],
          [
           "EL514"
          ],
          [
           "EL515"
          ],
          [
           "EL521"
          ],
          [
           "EL522"
          ],
          [
           "EL523"
          ],
          [
           "EL524"
          ],
          [
           "EL525"
          ],
          [
           "EL526"
          ],
          [
           "EL527"
          ],
          [
           "EL531"
          ],
          [
           "EL532"
          ],
          [
           "EL533"
          ],
          [
           "EL541"
          ],
          [
           "EL542"
          ],
          [
           "EL543"
          ],
          [
           "EL611"
          ],
          [
           "EL612"
          ],
          [
           "EL613"
          ],
          [
           "EL621"
          ],
          [
           "EL622"
          ],
          [
           "EL623"
          ],
          [
           "EL624"
          ],
          [
           "EL631"
          ],
          [
           "EL632"
          ],
          [
           "EL633"
          ],
          [
           "EL641"
          ],
          [
           "EL642"
          ],
          [
           "EL643"
          ],
          [
           "EL644"
          ],
          [
           "EL645"
          ],
          [
           "EL651"
          ],
          [
           "EL652"
          ],
          [
           "EL653"
          ],
          [
           "ES111"
          ],
          [
           "ES112"
          ],
          [
           "ES113"
          ],
          [
           "ES114"
          ],
          [
           "ES120"
          ],
          [
           "ES130"
          ],
          [
           "ES211"
          ],
          [
           "ES212"
          ],
          [
           "ES213"
          ],
          [
           "ES220"
          ],
          [
           "ES230"
          ],
          [
           "ES241"
          ],
          [
           "ES242"
          ],
          [
           "ES243"
          ],
          [
           "ES300"
          ],
          [
           "ES411"
          ],
          [
           "ES412"
          ],
          [
           "ES413"
          ],
          [
           "ES414"
          ],
          [
           "ES415"
          ],
          [
           "ES416"
          ],
          [
           "ES417"
          ],
          [
           "ES418"
          ],
          [
           "ES419"
          ],
          [
           "ES421"
          ],
          [
           "ES422"
          ],
          [
           "ES423"
          ],
          [
           "ES424"
          ],
          [
           "ES425"
          ],
          [
           "ES431"
          ],
          [
           "ES432"
          ],
          [
           "ES511"
          ],
          [
           "ES512"
          ],
          [
           "ES513"
          ],
          [
           "ES514"
          ],
          [
           "ES521"
          ],
          [
           "ES522"
          ],
          [
           "ES523"
          ],
          [
           "ES531"
          ],
          [
           "ES532"
          ],
          [
           "ES533"
          ],
          [
           "ES611"
          ],
          [
           "ES612"
          ],
          [
           "ES613"
          ],
          [
           "ES614"
          ],
          [
           "ES615"
          ],
          [
           "ES616"
          ],
          [
           "ES617"
          ],
          [
           "ES618"
          ],
          [
           "ES620"
          ],
          [
           "FI193"
          ],
          [
           "FI194"
          ],
          [
           "FI195"
          ],
          [
           "FI196"
          ],
          [
           "FI197"
          ],
          [
           "FI1B1"
          ],
          [
           "FI1C1"
          ],
          [
           "FI1C2"
          ],
          [
           "FI1C3"
          ],
          [
           "FI1C4"
          ],
          [
           "FI1C5"
          ],
          [
           "FI1D1"
          ],
          [
           "FI1D2"
          ],
          [
           "FI1D3"
          ],
          [
           "FI1D5"
          ],
          [
           "FI1D7"
          ],
          [
           "FI1D8"
          ],
          [
           "FI1D9"
          ],
          [
           "FI200"
          ],
          [
           "FR101"
          ],
          [
           "FR102"
          ],
          [
           "FR103"
          ],
          [
           "FR104"
          ],
          [
           "FR105"
          ],
          [
           "FR106"
          ],
          [
           "FR107"
          ],
          [
           "FR108"
          ],
          [
           "FRB01"
          ],
          [
           "FRB02"
          ],
          [
           "FRB03"
          ],
          [
           "FRB04"
          ],
          [
           "FRB05"
          ],
          [
           "FRB06"
          ],
          [
           "FRC11"
          ],
          [
           "FRC12"
          ],
          [
           "FRC13"
          ],
          [
           "FRC14"
          ],
          [
           "FRC21"
          ],
          [
           "FRC22"
          ],
          [
           "FRC23"
          ],
          [
           "FRC24"
          ],
          [
           "FRD11"
          ],
          [
           "FRD12"
          ],
          [
           "FRD13"
          ],
          [
           "FRD21"
          ],
          [
           "FRD22"
          ],
          [
           "FRE11"
          ],
          [
           "FRE12"
          ],
          [
           "FRE21"
          ],
          [
           "FRE22"
          ],
          [
           "FRE23"
          ],
          [
           "FRF11"
          ],
          [
           "FRF12"
          ],
          [
           "FRF21"
          ],
          [
           "FRF22"
          ],
          [
           "FRF23"
          ],
          [
           "FRF24"
          ],
          [
           "FRF31"
          ],
          [
           "FRF32"
          ],
          [
           "FRF33"
          ],
          [
           "FRF34"
          ],
          [
           "FRG01"
          ],
          [
           "FRG02"
          ],
          [
           "FRG03"
          ],
          [
           "FRG04"
          ],
          [
           "FRG05"
          ],
          [
           "FRH01"
          ],
          [
           "FRH02"
          ],
          [
           "FRH03"
          ],
          [
           "FRH04"
          ],
          [
           "FRI11"
          ],
          [
           "FRI12"
          ],
          [
           "FRI13"
          ],
          [
           "FRI14"
          ],
          [
           "FRI15"
          ],
          [
           "FRI21"
          ],
          [
           "FRI22"
          ],
          [
           "FRI23"
          ],
          [
           "FRI31"
          ],
          [
           "FRI32"
          ],
          [
           "FRI33"
          ],
          [
           "FRI34"
          ],
          [
           "FRJ11"
          ],
          [
           "FRJ12"
          ],
          [
           "FRJ13"
          ],
          [
           "FRJ14"
          ],
          [
           "FRJ15"
          ],
          [
           "FRJ21"
          ],
          [
           "FRJ22"
          ],
          [
           "FRJ23"
          ],
          [
           "FRJ24"
          ],
          [
           "FRJ25"
          ],
          [
           "FRJ26"
          ],
          [
           "FRJ27"
          ],
          [
           "FRJ28"
          ],
          [
           "FRK11"
          ],
          [
           "FRK12"
          ],
          [
           "FRK13"
          ],
          [
           "FRK14"
          ],
          [
           "FRK21"
          ],
          [
           "FRK22"
          ],
          [
           "FRK23"
          ],
          [
           "FRK24"
          ],
          [
           "FRK25"
          ],
          [
           "FRK26"
          ],
          [
           "FRK27"
          ],
          [
           "FRK28"
          ],
          [
           "FRL01"
          ],
          [
           "FRL02"
          ],
          [
           "FRL03"
          ],
          [
           "FRL04"
          ],
          [
           "FRL05"
          ],
          [
           "FRL06"
          ],
          [
           "FRM01"
          ],
          [
           "FRM02"
          ],
          [
           "HR021"
          ],
          [
           "HR022"
          ],
          [
           "HR023"
          ],
          [
           "HR024"
          ],
          [
           "HR025"
          ],
          [
           "HR026"
          ],
          [
           "HR027"
          ],
          [
           "HR028"
          ],
          [
           "HR031"
          ],
          [
           "HR032"
          ],
          [
           "HR033"
          ],
          [
           "HR034"
          ],
          [
           "HR035"
          ],
          [
           "HR036"
          ],
          [
           "HR037"
          ],
          [
           "HR050"
          ],
          [
           "HR061"
          ],
          [
           "HR062"
          ],
          [
           "HR063"
          ],
          [
           "HR064"
          ],
          [
           "HR065"
          ],
          [
           "HU110"
          ],
          [
           "HU120"
          ],
          [
           "HU211"
          ],
          [
           "HU212"
          ],
          [
           "HU213"
          ],
          [
           "HU221"
          ],
          [
           "HU222"
          ],
          [
           "HU223"
          ],
          [
           "HU231"
          ],
          [
           "HU232"
          ],
          [
           "HU233"
          ],
          [
           "HU311"
          ],
          [
           "HU312"
          ],
          [
           "HU313"
          ],
          [
           "HU321"
          ],
          [
           "HU322"
          ],
          [
           "HU323"
          ],
          [
           "HU331"
          ],
          [
           "HU332"
          ],
          [
           "HU333"
          ],
          [
           "IE041"
          ],
          [
           "IE042"
          ],
          [
           "IE051"
          ],
          [
           "IE052"
          ],
          [
           "IE053"
          ],
          [
           "IE061"
          ],
          [
           "IE062"
          ],
          [
           "IE063"
          ],
          [
           "IM000"
          ],
          [
           "IS001"
          ],
          [
           "IS002"
          ],
          [
           "ITC11"
          ],
          [
           "ITC12"
          ],
          [
           "ITC13"
          ],
          [
           "ITC14"
          ],
          [
           "ITC15"
          ],
          [
           "ITC16"
          ],
          [
           "ITC17"
          ],
          [
           "ITC18"
          ],
          [
           "ITC20"
          ],
          [
           "ITC31"
          ],
          [
           "ITC32"
          ],
          [
           "ITC33"
          ],
          [
           "ITC34"
          ],
          [
           "ITC41"
          ],
          [
           "ITC42"
          ],
          [
           "ITC43"
          ],
          [
           "ITC44"
          ],
          [
           "ITC46"
          ],
          [
           "ITC47"
          ],
          [
           "ITC48"
          ],
          [
           "ITC49"
          ],
          [
           "ITC4A"
          ],
          [
           "ITC4B"
          ],
          [
           "ITC4C"
          ],
          [
           "ITC4D"
          ],
          [
           "ITF11"
          ],
          [
           "ITF12"
          ],
          [
           "ITF13"
          ],
          [
           "ITF14"
          ],
          [
           "ITF21"
          ],
          [
           "ITF22"
          ],
          [
           "ITF31"
          ],
          [
           "ITF32"
          ],
          [
           "ITF33"
          ],
          [
           "ITF34"
          ],
          [
           "ITF35"
          ],
          [
           "ITF43"
          ],
          [
           "ITF44"
          ],
          [
           "ITF45"
          ],
          [
           "ITF46"
          ],
          [
           "ITF47"
          ],
          [
           "ITF48"
          ],
          [
           "ITF51"
          ],
          [
           "ITF52"
          ],
          [
           "ITF61"
          ],
          [
           "ITF62"
          ],
          [
           "ITF63"
          ],
          [
           "ITF64"
          ],
          [
           "ITF65"
          ],
          [
           "ITG11"
          ],
          [
           "ITG12"
          ],
          [
           "ITG13"
          ],
          [
           "ITG14"
          ],
          [
           "ITG15"
          ],
          [
           "ITG16"
          ],
          [
           "ITG17"
          ],
          [
           "ITG18"
          ],
          [
           "ITG19"
          ],
          [
           "ITG2D"
          ],
          [
           "ITG2E"
          ],
          [
           "ITG2F"
          ],
          [
           "ITG2G"
          ],
          [
           "ITG2H"
          ],
          [
           "ITH10"
          ],
          [
           "ITH20"
          ],
          [
           "ITH31"
          ],
          [
           "ITH32"
          ],
          [
           "ITH33"
          ],
          [
           "ITH34"
          ],
          [
           "ITH35"
          ],
          [
           "ITH36"
          ],
          [
           "ITH37"
          ],
          [
           "ITH41"
          ],
          [
           "ITH42"
          ],
          [
           "ITH43"
          ],
          [
           "ITH44"
          ],
          [
           "ITH51"
          ],
          [
           "ITH52"
          ],
          [
           "ITH53"
          ],
          [
           "ITH54"
          ],
          [
           "ITH55"
          ],
          [
           "ITH56"
          ],
          [
           "ITH57"
          ],
          [
           "ITH58"
          ],
          [
           "ITH59"
          ],
          [
           "ITI11"
          ],
          [
           "ITI12"
          ],
          [
           "ITI13"
          ],
          [
           "ITI14"
          ],
          [
           "ITI15"
          ],
          [
           "ITI16"
          ],
          [
           "ITI17"
          ],
          [
           "ITI18"
          ],
          [
           "ITI19"
          ],
          [
           "ITI1A"
          ],
          [
           "ITI21"
          ],
          [
           "ITI22"
          ],
          [
           "ITI31"
          ],
          [
           "ITI32"
          ],
          [
           "ITI33"
          ],
          [
           "ITI34"
          ],
          [
           "ITI35"
          ],
          [
           "ITI41"
          ],
          [
           "ITI42"
          ],
          [
           "ITI43"
          ],
          [
           "ITI44"
          ],
          [
           "ITI45"
          ],
          [
           "LI000"
          ],
          [
           "LT011"
          ],
          [
           "LT021"
          ],
          [
           "LT022"
          ],
          [
           "LT023"
          ],
          [
           "LT024"
          ],
          [
           "LT025"
          ],
          [
           "LT026"
          ],
          [
           "LT027"
          ],
          [
           "LT028"
          ],
          [
           "LT029"
          ],
          [
           "LU000"
          ],
          [
           "LV003"
          ],
          [
           "LV005"
          ],
          [
           "LV006"
          ],
          [
           "LV007"
          ],
          [
           "LV008"
          ],
          [
           "LV009"
          ],
          [
           "MC000"
          ],
          [
           "ME000"
          ],
          [
           "MK001"
          ],
          [
           "MK002"
          ],
          [
           "MK003"
          ],
          [
           "MK004"
          ],
          [
           "MK005"
          ],
          [
           "MK006"
          ],
          [
           "MK007"
          ],
          [
           "MK008"
          ],
          [
           "MT001"
          ],
          [
           "MT002"
          ],
          [
           "NL111"
          ],
          [
           "NL112"
          ],
          [
           "NL113"
          ],
          [
           "NL124"
          ],
          [
           "NL125"
          ],
          [
           "NL126"
          ],
          [
           "NL131"
          ],
          [
           "NL132"
          ],
          [
           "NL133"
          ],
          [
           "NL211"
          ],
          [
           "NL212"
          ],
          [
           "NL213"
          ],
          [
           "NL221"
          ],
          [
           "NL224"
          ],
          [
           "NL225"
          ],
          [
           "NL226"
          ],
          [
           "NL230"
          ],
          [
           "NL310"
          ],
          [
           "NL321"
          ],
          [
           "NL323"
          ],
          [
           "NL324"
          ],
          [
           "NL325"
          ],
          [
           "NL327"
          ],
          [
           "NL328"
          ],
          [
           "NL329"
          ],
          [
           "NL332"
          ],
          [
           "NL333"
          ],
          [
           "NL337"
          ],
          [
           "NL33A"
          ],
          [
           "NL33B"
          ],
          [
           "NL33C"
          ],
          [
           "NL341"
          ],
          [
           "NL342"
          ],
          [
           "NL411"
          ],
          [
           "NL412"
          ],
          [
           "NL413"
          ],
          [
           "NL414"
          ],
          [
           "NL421"
          ],
          [
           "NL422"
          ],
          [
           "NL423"
          ],
          [
           "NO020"
          ],
          [
           "NO060"
          ],
          [
           "NO071"
          ],
          [
           "NO074"
          ],
          [
           "NO081"
          ],
          [
           "NO082"
          ],
          [
           "NO091"
          ],
          [
           "NO092"
          ],
          [
           "NO0A1"
          ],
          [
           "NO0A2"
          ],
          [
           "NO0A3"
          ],
          [
           "PL213"
          ],
          [
           "PL214"
          ],
          [
           "PL217"
          ],
          [
           "PL218"
          ],
          [
           "PL219"
          ],
          [
           "PL21A"
          ],
          [
           "PL224"
          ],
          [
           "PL225"
          ],
          [
           "PL227"
          ],
          [
           "PL228"
          ],
          [
           "PL229"
          ],
          [
           "PL22A"
          ],
          [
           "PL22B"
          ],
          [
           "PL22C"
          ],
          [
           "PL411"
          ],
          [
           "PL414"
          ],
          [
           "PL415"
          ],
          [
           "PL416"
          ],
          [
           "PL417"
          ],
          [
           "PL418"
          ],
          [
           "PL424"
          ],
          [
           "PL426"
          ],
          [
           "PL427"
          ],
          [
           "PL428"
          ],
          [
           "PL431"
          ],
          [
           "PL432"
          ],
          [
           "PL514"
          ],
          [
           "PL515"
          ],
          [
           "PL516"
          ],
          [
           "PL517"
          ],
          [
           "PL518"
          ],
          [
           "PL523"
          ],
          [
           "PL524"
          ],
          [
           "PL613"
          ],
          [
           "PL616"
          ],
          [
           "PL617"
          ],
          [
           "PL618"
          ],
          [
           "PL619"
          ],
          [
           "PL621"
          ],
          [
           "PL622"
          ],
          [
           "PL623"
          ],
          [
           "PL633"
          ],
          [
           "PL634"
          ],
          [
           "PL636"
          ],
          [
           "PL637"
          ],
          [
           "PL638"
          ],
          [
           "PL711"
          ],
          [
           "PL712"
          ],
          [
           "PL713"
          ],
          [
           "PL714"
          ],
          [
           "PL715"
          ],
          [
           "PL721"
          ],
          [
           "PL722"
          ],
          [
           "PL811"
          ],
          [
           "PL812"
          ],
          [
           "PL814"
          ],
          [
           "PL815"
          ],
          [
           "PL821"
          ],
          [
           "PL822"
          ],
          [
           "PL823"
          ],
          [
           "PL824"
          ],
          [
           "PL841"
          ],
          [
           "PL842"
          ],
          [
           "PL843"
          ],
          [
           "PL911"
          ],
          [
           "PL912"
          ],
          [
           "PL913"
          ],
          [
           "PL921"
          ],
          [
           "PL922"
          ],
          [
           "PL923"
          ],
          [
           "PL924"
          ],
          [
           "PL925"
          ],
          [
           "PL926"
          ],
          [
           "PT111"
          ],
          [
           "PT112"
          ],
          [
           "PT119"
          ],
          [
           "PT11A"
          ],
          [
           "PT11B"
          ],
          [
           "PT11C"
          ],
          [
           "PT11D"
          ],
          [
           "PT11E"
          ],
          [
           "PT150"
          ],
          [
           "PT16B"
          ],
          [
           "PT16D"
          ],
          [
           "PT16E"
          ],
          [
           "PT16F"
          ],
          [
           "PT16G"
          ],
          [
           "PT16H"
          ],
          [
           "PT16I"
          ],
          [
           "PT16J"
          ],
          [
           "PT170"
          ],
          [
           "PT181"
          ],
          [
           "PT184"
          ],
          [
           "PT185"
          ],
          [
           "PT186"
          ],
          [
           "PT187"
          ],
          [
           "RO111"
          ],
          [
           "RO112"
          ],
          [
           "RO113"
          ],
          [
           "RO114"
          ],
          [
           "RO115"
          ],
          [
           "RO116"
          ],
          [
           "RO121"
          ],
          [
           "RO122"
          ],
          [
           "RO123"
          ],
          [
           "RO124"
          ],
          [
           "RO125"
          ],
          [
           "RO126"
          ],
          [
           "RO211"
          ],
          [
           "RO212"
          ],
          [
           "RO213"
          ],
          [
           "RO214"
          ],
          [
           "RO215"
          ],
          [
           "RO216"
          ],
          [
           "RO221"
          ],
          [
           "RO222"
          ],
          [
           "RO223"
          ],
          [
           "RO224"
          ],
          [
           "RO225"
          ],
          [
           "RO226"
          ],
          [
           "RO311"
          ],
          [
           "RO312"
          ],
          [
           "RO313"
          ],
          [
           "RO314"
          ],
          [
           "RO315"
          ],
          [
           "RO316"
          ],
          [
           "RO317"
          ],
          [
           "RO321"
          ],
          [
           "RO322"
          ],
          [
           "RO411"
          ],
          [
           "RO412"
          ],
          [
           "RO413"
          ],
          [
           "RO414"
          ],
          [
           "RO415"
          ],
          [
           "RO421"
          ],
          [
           "RO422"
          ],
          [
           "RO423"
          ],
          [
           "RO424"
          ],
          [
           "RS110"
          ],
          [
           "RS121"
          ],
          [
           "RS122"
          ],
          [
           "RS123"
          ],
          [
           "RS124"
          ],
          [
           "RS125"
          ],
          [
           "RS126"
          ],
          [
           "RS127"
          ],
          [
           "RS211"
          ],
          [
           "RS212"
          ],
          [
           "RS213"
          ],
          [
           "RS214"
          ],
          [
           "RS215"
          ],
          [
           "RS216"
          ],
          [
           "RS217"
          ],
          [
           "RS218"
          ],
          [
           "RS221"
          ],
          [
           "RS222"
          ],
          [
           "RS223"
          ],
          [
           "RS224"
          ],
          [
           "RS225"
          ],
          [
           "RS226"
          ],
          [
           "RS227"
          ],
          [
           "RS228"
          ],
          [
           "RS229"
          ],
          [
           "SE110"
          ],
          [
           "SE121"
          ],
          [
           "SE122"
          ],
          [
           "SE123"
          ],
          [
           "SE124"
          ],
          [
           "SE125"
          ],
          [
           "SE211"
          ],
          [
           "SE212"
          ],
          [
           "SE213"
          ],
          [
           "SE214"
          ],
          [
           "SE221"
          ],
          [
           "SE224"
          ],
          [
           "SE231"
          ],
          [
           "SE232"
          ],
          [
           "SE311"
          ],
          [
           "SE312"
          ],
          [
           "SE313"
          ],
          [
           "SE321"
          ],
          [
           "SE322"
          ],
          [
           "SE331"
          ],
          [
           "SE332"
          ],
          [
           "SI031"
          ],
          [
           "SI032"
          ],
          [
           "SI033"
          ],
          [
           "SI034"
          ],
          [
           "SI035"
          ],
          [
           "SI036"
          ],
          [
           "SI037"
          ],
          [
           "SI038"
          ],
          [
           "SI041"
          ],
          [
           "SI042"
          ],
          [
           "SI043"
          ],
          [
           "SI044"
          ],
          [
           "SK010"
          ],
          [
           "SK021"
          ],
          [
           "SK022"
          ],
          [
           "SK023"
          ],
          [
           "SK031"
          ],
          [
           "SK032"
          ],
          [
           "SK041"
          ],
          [
           "SK042"
          ],
          [
           "SM000"
          ],
          [
           "UKC11"
          ],
          [
           "UKC12"
          ],
          [
           "UKC13"
          ],
          [
           "UKC14"
          ],
          [
           "UKC21"
          ],
          [
           "UKC22"
          ],
          [
           "UKC23"
          ],
          [
           "UKD11"
          ],
          [
           "UKD12"
          ],
          [
           "UKD33"
          ],
          [
           "UKD34"
          ],
          [
           "UKD35"
          ],
          [
           "UKD36"
          ],
          [
           "UKD37"
          ],
          [
           "UKD41"
          ],
          [
           "UKD42"
          ],
          [
           "UKD44"
          ],
          [
           "UKD45"
          ],
          [
           "UKD46"
          ],
          [
           "UKD47"
          ],
          [
           "UKD61"
          ],
          [
           "UKD62"
          ],
          [
           "UKD63"
          ],
          [
           "UKD71"
          ],
          [
           "UKD72"
          ],
          [
           "UKD73"
          ],
          [
           "UKD74"
          ],
          [
           "UKE11"
          ],
          [
           "UKE12"
          ],
          [
           "UKE13"
          ],
          [
           "UKE21"
          ],
          [
           "UKE22"
          ],
          [
           "UKE31"
          ],
          [
           "UKE32"
          ],
          [
           "UKE41"
          ],
          [
           "UKE42"
          ],
          [
           "UKE44"
          ],
          [
           "UKE45"
          ],
          [
           "UKF11"
          ],
          [
           "UKF12"
          ],
          [
           "UKF13"
          ],
          [
           "UKF14"
          ],
          [
           "UKF15"
          ],
          [
           "UKF16"
          ],
          [
           "UKF21"
          ],
          [
           "UKF22"
          ],
          [
           "UKF24"
          ],
          [
           "UKF25"
          ],
          [
           "UKF30"
          ],
          [
           "UKG11"
          ],
          [
           "UKG12"
          ],
          [
           "UKG13"
          ],
          [
           "UKG21"
          ],
          [
           "UKG22"
          ],
          [
           "UKG23"
          ],
          [
           "UKG24"
          ],
          [
           "UKG31"
          ],
          [
           "UKG32"
          ],
          [
           "UKG33"
          ],
          [
           "UKG36"
          ],
          [
           "UKG37"
          ],
          [
           "UKG38"
          ],
          [
           "UKG39"
          ],
          [
           "UKH11"
          ],
          [
           "UKH12"
          ],
          [
           "UKH14"
          ],
          [
           "UKH15"
          ],
          [
           "UKH16"
          ],
          [
           "UKH17"
          ],
          [
           "UKH21"
          ],
          [
           "UKH23"
          ],
          [
           "UKH24"
          ],
          [
           "UKH25"
          ],
          [
           "UKH31"
          ],
          [
           "UKH32"
          ],
          [
           "UKH34"
          ],
          [
           "UKH35"
          ],
          [
           "UKH36"
          ],
          [
           "UKH37"
          ],
          [
           "UKI31"
          ],
          [
           "UKI32"
          ],
          [
           "UKI33"
          ],
          [
           "UKI34"
          ],
          [
           "UKI41"
          ],
          [
           "UKI42"
          ],
          [
           "UKI43"
          ],
          [
           "UKI44"
          ],
          [
           "UKI45"
          ],
          [
           "UKI51"
          ],
          [
           "UKI52"
          ],
          [
           "UKI53"
          ],
          [
           "UKI54"
          ],
          [
           "UKI61"
          ],
          [
           "UKI62"
          ],
          [
           "UKI63"
          ],
          [
           "UKI71"
          ],
          [
           "UKI72"
          ],
          [
           "UKI73"
          ],
          [
           "UKI74"
          ],
          [
           "UKI75"
          ],
          [
           "UKJ11"
          ],
          [
           "UKJ12"
          ],
          [
           "UKJ13"
          ],
          [
           "UKJ14"
          ],
          [
           "UKJ21"
          ],
          [
           "UKJ22"
          ],
          [
           "UKJ25"
          ],
          [
           "UKJ26"
          ],
          [
           "UKJ27"
          ],
          [
           "UKJ28"
          ],
          [
           "UKJ31"
          ],
          [
           "UKJ32"
          ],
          [
           "UKJ34"
          ],
          [
           "UKJ35"
          ],
          [
           "UKJ36"
          ],
          [
           "UKJ37"
          ],
          [
           "UKJ41"
          ],
          [
           "UKJ43"
          ],
          [
           "UKJ44"
          ],
          [
           "UKJ45"
          ],
          [
           "UKJ46"
          ],
          [
           "UKK11"
          ],
          [
           "UKK12"
          ],
          [
           "UKK13"
          ],
          [
           "UKK14"
          ],
          [
           "UKK15"
          ],
          [
           "UKK23"
          ],
          [
           "UKK24"
          ],
          [
           "UKK25"
          ],
          [
           "UKK30"
          ],
          [
           "UKK41"
          ],
          [
           "UKK42"
          ],
          [
           "UKK43"
          ],
          [
           "UKL11"
          ],
          [
           "UKL12"
          ],
          [
           "UKL13"
          ],
          [
           "UKL14"
          ],
          [
           "UKL15"
          ],
          [
           "UKL16"
          ],
          [
           "UKL17"
          ],
          [
           "UKL18"
          ],
          [
           "UKL21"
          ],
          [
           "UKL22"
          ],
          [
           "UKL23"
          ],
          [
           "UKL24"
          ],
          [
           "UKM50"
          ],
          [
           "UKM61"
          ],
          [
           "UKM62"
          ],
          [
           "UKM63"
          ],
          [
           "UKM64"
          ],
          [
           "UKM65"
          ],
          [
           "UKM66"
          ],
          [
           "UKM71"
          ],
          [
           "UKM72"
          ],
          [
           "UKM73"
          ],
          [
           "UKM75"
          ],
          [
           "UKM76"
          ],
          [
           "UKM77"
          ],
          [
           "UKM78"
          ],
          [
           "UKM81"
          ],
          [
           "UKM82"
          ],
          [
           "UKM83"
          ],
          [
           "UKM84"
          ],
          [
           "UKM91"
          ],
          [
           "UKM92"
          ],
          [
           "UKM93"
          ],
          [
           "UKM94"
          ],
          [
           "UKM95"
          ],
          [
           "UKN06"
          ],
          [
           "UKN07"
          ],
          [
           "UKN08"
          ],
          [
           "UKN09"
          ],
          [
           "UKN0A"
          ],
          [
           "UKN0B"
          ],
          [
           "UKN0C"
          ],
          [
           "UKN0D"
          ],
          [
           "UKN0E"
          ],
          [
           "UKN0F"
          ],
          [
           "UKN0G"
          ],
          [
           "XK005"
          ],
          [
           "XK007"
          ],
          [
           "XK006"
          ],
          [
           "XK002"
          ],
          [
           "XK003"
          ],
          [
           "XK001"
          ],
          [
           "XK004"
          ]
         ],
         "hovertemplate": "<b>%{hovertext}</b><br><br>Latitude=%{lat}<br>Longitude=%{lon}<br>Code=%{customdata[0]}<extra></extra>",
         "hovertext": [
          "Andorra",
          "Dibër",
          "Durrës",
          "Kukës",
          "Lezhë",
          "Shkodër",
          "Elbasan",
          "Tiranë",
          "Berat",
          "Fier",
          "Gjirokastër",
          "Korçë",
          "Vlorë",
          "Mittelburgenland",
          "Nordburgenland",
          "Südburgenland",
          "Mostviertel-Eisenwurzen",
          "Niederösterreich-Süd",
          "Sankt Pölten",
          "Waldviertel",
          "Weinviertel",
          "Wiener Umland/Nordteil",
          "Wiener Umland/Südteil",
          "Wien",
          "Klagenfurt-Villach",
          "Oberkärnten",
          "Unterkärnten",
          "Graz",
          "Liezen",
          "Östliche Obersteiermark",
          "Oststeiermark",
          "West- und Südsteiermark",
          "Westliche Obersteiermark",
          "Innviertel",
          "Linz-Wels",
          "Mühlviertel",
          "Steyr-Kirchdorf",
          "Traunviertel",
          "Lungau",
          "Pinzgau-Pongau",
          "Salzburg und Umgebung",
          "Außerfern",
          "Innsbruck",
          "Osttirol",
          "Tiroler Oberland",
          "Tiroler Unterland",
          "Bludenz-Bregenzer Wald",
          "Rheintal-Bodenseegebiet",
          "Unsko-sanski kanton",
          "Posavski kanton",
          "Tuzlanski kanton",
          "Zeničko-dobojski kanton",
          "Bosansko-podrinjski kanton Goražde",
          "Srednjobosanski kanton",
          "Hercegovačko-neretvanski kanton",
          "Zapadnohercegovački kanton",
          "Kanton Sarajevo",
          "Kanton 10",
          "Banjalučka",
          "Bijeljinska",
          "Dobojska",
          "Ist. Sarajevska",
          "Prijedorska",
          "Trebinjska",
          "Brčko Distrikt",
          "Arr. De Bruxelles-Capitale / Arr. Van Brussel-Hoofdstad",
          "Arr. Antwerpen",
          "Arr. Mechelen",
          "Arr. Turnhout",
          "Arr. Tongeren",
          "Arr. Hasselt",
          "Arr. Maaseik",
          "Arr. Aalst",
          "Arr. Dendermonde",
          "Arr. Eeklo",
          "Arr. Gent",
          "Arr. Oudenaarde",
          "Arr. Sint-Niklaas",
          "Arr. Halle-Vilvoorde",
          "Arr. Leuven",
          "Arr. Brugge",
          "Arr. Diksmuide",
          "Arr. Ieper",
          "Arr. Kortrijk",
          "Arr. Oostende",
          "Arr. Roeselare",
          "Arr. Tielt",
          "Arr. Veurne",
          "Arr. Nivelles",
          "Arr. Mons",
          "Arr. Tournai-Mouscron",
          "Arr. La Louvière",
          "Arr. Ath",
          "Arr. Charleroi",
          "Arr. Soignies",
          "Arr. Thuin",
          "Arr. Huy",
          "Arr. Liège",
          "Arr. Waremme",
          "Arr. Verviers - Communes Francophones",
          "Bezirk Verviers - Deutschsprachige Gemeinschaft",
          "Arr. Arlon",
          "Arr. Bastogne",
          "Arr. Marche-en-Famenne",
          "Arr. Neufchâteau",
          "Arr. Virton",
          "Arr. Dinant",
          "Arr. Namur",
          "Arr. Philippeville",
          "Vidin",
          "Montana",
          "Vratsa",
          "Pleven",
          "Lovech",
          "Veliko Tarnovo",
          "Gabrovo",
          "Ruse",
          "Razgrad",
          "Silistra",
          "Varna",
          "Dobrich",
          "Shumen",
          "Targovishte",
          "Burgas",
          "Sliven",
          "Yambol",
          "Stara Zagora",
          "Sofia (stolitsa)",
          "Sofia",
          "Blagoevgrad",
          "Pernik",
          "Kyustendil",
          "Plovdiv",
          "Haskovo",
          "Pazardzhik",
          "Smolyan",
          "Kardzhali",
          "Vaud",
          "Valais / Wallis",
          "Genève",
          "Bern / Berne",
          "Fribourg / Freiburg",
          "Solothurn",
          "Neuchâtel",
          "Jura",
          "Basel-Stadt",
          "Basel-Landschaft",
          "Aargau",
          "Zürich",
          "Glarus",
          "Schaffhausen",
          "Appenzell Ausserrhoden",
          "Appenzell Innerrhoden",
          "St. Gallen",
          "Graubünden / Grigioni / Grischun",
          "Thurgau",
          "Luzern",
          "Uri",
          "Schwyz",
          "Obwalden",
          "Nidwalden",
          "Zug",
          "Ticino",
          "Kýpros",
          "Hlavní město Praha",
          "Středočeský kraj",
          "Jihočeský kraj",
          "Plzeňský kraj",
          "Karlovarský kraj",
          "Ústecký kraj",
          "Liberecký kraj",
          "Královéhradecký kraj",
          "Pardubický kraj",
          "Kraj Vysočina",
          "Jihomoravský kraj",
          "Olomoucký kraj",
          "Zlínský kraj",
          "Moravskoslezský kraj",
          "Stuttgart, Stadtkreis",
          "Böblingen",
          "Esslingen",
          "Göppingen",
          "Ludwigsburg",
          "Rems-Murr-Kreis",
          "Heilbronn, Stadtkreis",
          "Heilbronn, Landkreis",
          "Hohenlohekreis",
          "Schwäbisch Hall",
          "Main-Tauber-Kreis",
          "Heidenheim",
          "Ostalbkreis",
          "Baden-Baden, Stadtkreis",
          "Karlsruhe, Stadtkreis",
          "Karlsruhe, Landkreis",
          "Rastatt",
          "Heidelberg, Stadtkreis",
          "Mannheim, Stadtkreis",
          "Neckar-Odenwald-Kreis",
          "Rhein-Neckar-Kreis",
          "Pforzheim, Stadtkreis",
          "Calw",
          "Enzkreis",
          "Freudenstadt",
          "Freiburg im Breisgau, Stadtkreis",
          "Breisgau-Hochschwarzwald",
          "Emmendingen",
          "Ortenaukreis",
          "Rottweil",
          "Schwarzwald-Baar-Kreis",
          "Tuttlingen",
          "Konstanz",
          "Lörrach",
          "Waldshut",
          "Reutlingen",
          "Tübingen, Landkreis",
          "Zollernalbkreis",
          "Ulm, Stadtkreis",
          "Alb-Donau-Kreis",
          "Biberach",
          "Bodenseekreis",
          "Ravensburg",
          "Sigmaringen",
          "Ingolstadt, Kreisfreie Stadt",
          "München, Kreisfreie Stadt",
          "Rosenheim, Kreisfreie Stadt",
          "Altötting",
          "Berchtesgadener Land",
          "Bad Tölz-Wolfratshausen",
          "Dachau",
          "Ebersberg",
          "Eichstätt",
          "Erding",
          "Freising",
          "Fürstenfeldbruck",
          "Garmisch-Partenkirchen",
          "Landsberg am Lech",
          "Miesbach",
          "Mühldorf a. Inn",
          "München, Landkreis",
          "Neuburg-Schrobenhausen",
          "Pfaffenhofen a. d. Ilm",
          "Rosenheim, Landkreis",
          "Starnberg",
          "Traunstein",
          "Weilheim-Schongau",
          "Landshut, Kreisfreie Stadt",
          "Passau, Kreisfreie Stadt",
          "Straubing, Kreisfreie Stadt",
          "Deggendorf",
          "Freyung-Grafenau",
          "Kelheim",
          "Landshut, Landkreis",
          "Passau, Landkreis",
          "Regen",
          "Rottal-Inn",
          "Straubing-Bogen",
          "Dingolfing-Landau",
          "Amberg, Kreisfreie Stadt",
          "Regensburg, Kreisfreie Stadt",
          "Weiden i. d. Opf, Kreisfreie Stadt",
          "Amberg-Sulzbach",
          "Cham",
          "Neumarkt i. d. OPf.",
          "Neustadt a. d. Waldnaab",
          "Regensburg, Landkreis",
          "Schwandorf",
          "Tirschenreuth",
          "Bamberg, Kreisfreie Stadt",
          "Bayreuth, Kreisfreie Stadt",
          "Coburg, Kreisfreie Stadt",
          "Hof, Kreisfreie Stadt",
          "Bamberg, Landkreis",
          "Bayreuth, Landkreis",
          "Coburg, Landkreis",
          "Forchheim",
          "Hof, Landkreis",
          "Kronach",
          "Kulmbach",
          "Lichtenfels",
          "Wunsiedel i. Fichtelgebirge",
          "Ansbach, Kreisfreie Stadt",
          "Erlangen, Kreisfreie Stadt",
          "Fürth, Kreisfreie Stadt",
          "Nürnberg, Kreisfreie Stadt",
          "Schwabach, Kreisfreie Stadt",
          "Ansbach, Landkreis",
          "Erlangen-Höchstadt",
          "Fürth, Landkreis",
          "Nürnberger Land",
          "Neustadt a. d. Aisch-Bad Windsheim",
          "Roth",
          "Weißenburg-Gunzenhausen",
          "Aschaffenburg, Kreisfreie Stadt",
          "Schweinfurt, Kreisfreie Stadt",
          "Würzburg, Kreisfreie Stadt",
          "Aschaffenburg, Landkreis",
          "Bad Kissingen",
          "Rhön-Grabfeld",
          "Haßberge",
          "Kitzingen",
          "Miltenberg",
          "Main-Spessart",
          "Schweinfurt, Landkreis",
          "Würzburg, Landkreis",
          "Augsburg, Kreisfreie Stadt",
          "Kaufbeuren, Kreisfreie Stadt",
          "Kempten (Allgäu), Kreisfreie Stadt",
          "Memmingen, Kreisfreie Stadt",
          "Aichach-Friedberg",
          "Augsburg, Landkreis",
          "Dillingen a.d. Donau",
          "Günzburg",
          "Neu-Ulm",
          "Lindau (Bodensee)",
          "Ostallgäu",
          "Unterallgäu",
          "Donau-Ries",
          "Oberallgäu",
          "Berlin",
          "Brandenburg an der Havel, Kreisfreie Stadt",
          "Cottbus, Kreisfreie Stadt",
          "Frankfurt (Oder), Kreisfreie Stadt",
          "Potsdam, Kreisfreie Stadt",
          "Barnim",
          "Dahme-Spreewald",
          "Elbe-Elster",
          "Havelland",
          "Märkisch-Oderland",
          "Oberhavel",
          "Oberspreewald-Lausitz",
          "Oder-Spree",
          "Ostprignitz-Ruppin",
          "Potsdam-Mittelmark",
          "Prignitz",
          "Spree-Neiße",
          "Teltow-Fläming",
          "Uckermark",
          "Bremen, Kreisfreie Stadt",
          "Bremerhaven, Kreisfreie Stadt",
          "Hamburg",
          "Darmstadt, Kreisfreie Stadt",
          "Frankfurt am Main, Kreisfreie Stadt",
          "Offenbach am Main, Kreisfreie Stadt",
          "Wiesbaden, Kreisfreie Stadt",
          "Bergstraße",
          "Darmstadt-Dieburg",
          "Groß-Gerau",
          "Hochtaunuskreis",
          "Main-Kinzig-Kreis",
          "Main-Taunus-Kreis",
          "Odenwaldkreis",
          "Offenbach, Landkreis",
          "Rheingau-Taunus-Kreis",
          "Wetteraukreis",
          "Gießen, Landkreis",
          "Lahn-Dill-Kreis",
          "Limburg-Weilburg",
          "Marburg-Biedenkopf",
          "Vogelsbergkreis",
          "Kassel, Kreisfreie Stadt",
          "Fulda",
          "Hersfeld-Rotenburg",
          "Kassel, Landkreis",
          "Schwalm-Eder-Kreis",
          "Waldeck-Frankenberg",
          "Werra-Meißner-Kreis",
          "Rostock, Kreisfreie Stadt",
          "Schwerin, Kreisfreie Stadt",
          "Mecklenburgische Seenplatte",
          "Landkreis Rostock",
          "Vorpommern-Rügen",
          "Nordwestmecklenburg",
          "Vorpommern-Greifswald",
          "Ludwigslust-Parchim",
          "Braunschweig, Kreisfreie Stadt",
          "Salzgitter, Kreisfreie Stadt",
          "Wolfsburg, Kreisfreie Stadt",
          "Gifhorn",
          "Goslar",
          "Helmstedt",
          "Northeim",
          "Peine",
          "Wolfenbüttel",
          "Göttingen",
          "Diepholz",
          "Hameln-Pyrmont",
          "Hildesheim",
          "Holzminden",
          "Nienburg (Weser)",
          "Schaumburg",
          "Region Hannover",
          "Celle",
          "Cuxhaven",
          "Harburg",
          "Lüchow-Dannenberg",
          "Lüneburg, Landkreis",
          "Osterholz",
          "Rotenburg (Wümme)",
          "Heidekreis",
          "Stade",
          "Uelzen",
          "Verden",
          "Delmenhorst, Kreisfreie Stadt",
          "Emden, Kreisfreie Stadt",
          "Oldenburg (Oldenburg), Kreisfreie Stadt",
          "Osnabrück, Kreisfreie Stadt",
          "Wilhelmshaven, Kreisfreie Stadt",
          "Ammerland",
          "Aurich",
          "Cloppenburg",
          "Emsland",
          "Friesland (DE)",
          "Grafschaft Bentheim",
          "Leer",
          "Oldenburg, Landkreis",
          "Osnabrück, Landkreis",
          "Vechta",
          "Wesermarsch",
          "Wittmund",
          "Düsseldorf, Kreisfreie Stadt",
          "Duisburg, Kreisfreie Stadt",
          "Essen, Kreisfreie Stadt",
          "Krefeld, Kreisfreie Stadt",
          "Mönchengladbach, Kreisfreie Stadt",
          "Mülheim an der Ruhr, Kreisfreie Stadt",
          "Oberhausen, Kreisfreie Stadt",
          "Remscheid, Kreisfreie Stadt",
          "Solingen, Kreisfreie Stadt",
          "Wuppertal, Kreisfreie Stadt",
          "Kleve",
          "Mettmann",
          "Rhein-Kreis Neuss",
          "Viersen",
          "Wesel",
          "Bonn, Kreisfreie Stadt",
          "Köln, Kreisfreie Stadt",
          "Leverkusen, Kreisfreie Stadt",
          "Düren",
          "Rhein-Erft-Kreis",
          "Euskirchen",
          "Heinsberg",
          "Oberbergischer Kreis",
          "Rheinisch-Bergischer Kreis",
          "Rhein-Sieg-Kreis",
          "Städteregion Aachen",
          "Bottrop, Kreisfreie Stadt",
          "Gelsenkirchen, Kreisfreie Stadt",
          "Münster, Kreisfreie Stadt",
          "Borken",
          "Coesfeld",
          "Recklinghausen",
          "Steinfurt",
          "Warendorf",
          "Bielefeld, Kreisfreie Stadt",
          "Gütersloh",
          "Herford",
          "Höxter",
          "Lippe",
          "Minden-Lübbecke",
          "Paderborn",
          "Bochum, Kreisfreie Stadt",
          "Dortmund, Kreisfreie Stadt",
          "Hagen, Kreisfreie Stadt",
          "Hamm, Kreisfreie Stadt",
          "Herne, Kreisfreie Stadt",
          "Ennepe-Ruhr-Kreis",
          "Hochsauerlandkreis",
          "Märkischer Kreis",
          "Olpe",
          "Siegen-Wittgenstein",
          "Soest",
          "Unna",
          "Koblenz, Kreisfreie Stadt",
          "Ahrweiler",
          "Altenkirchen (Westerwald)",
          "Bad Kreuznach",
          "Birkenfeld",
          "Mayen-Koblenz",
          "Neuwied",
          "Rhein-Lahn-Kreis",
          "Westerwaldkreis",
          "Cochem-Zell",
          "Rhein-Hunsrück-Kreis",
          "Trier, Kreisfreie Stadt",
          "Bernkastel-Wittlich",
          "Eifelkreis Bitburg-Prüm",
          "Vulkaneifel",
          "Trier-Saarburg",
          "Frankenthal (Pfalz), Kreisfreie Stadt",
          "Kaiserslautern, Kreisfreie Stadt",
          "Landau in der Pfalz, Kreisfreie Stadt",
          "Ludwigshafen am Rhein, Kreisfreie Stadt",
          "Mainz, Kreisfreie Stadt",
          "Neustadt an der Weinstraße, Kreisfreie Stadt",
          "Pirmasens, Kreisfreie Stadt",
          "Speyer, Kreisfreie Stadt",
          "Worms, Kreisfreie Stadt",
          "Zweibrücken, Kreisfreie Stadt",
          "Alzey-Worms",
          "Bad Dürkheim",
          "Donnersbergkreis",
          "Germersheim",
          "Kaiserslautern, Landkreis",
          "Kusel",
          "Südliche Weinstraße",
          "Rhein-Pfalz-Kreis",
          "Mainz-Bingen",
          "Südwestpfalz",
          "Regionalverband Saarbrücken",
          "Merzig-Wadern",
          "Neunkirchen",
          "Saarlouis",
          "Saarpfalz-Kreis",
          "St. Wendel",
          "Dresden, Kreisfreie Stadt",
          "Bautzen",
          "Görlitz",
          "Meißen",
          "Sächsische Schweiz-Osterzgebirge",
          "Chemnitz, Kreisfreie Stadt",
          "Erzgebirgskreis",
          "Mittelsachsen",
          "Vogtlandkreis",
          "Zwickau",
          "Leipzig, Kreisfreie Stadt",
          "Leipzig",
          "Nordsachsen",
          "Dessau-Roßlau, Kreisfreie Stadt",
          "Halle (Saale), Kreisfreie Stadt",
          "Magdeburg, Kreisfreie Stadt",
          "Altmarkkreis Salzwedel",
          "Anhalt-Bitterfeld",
          "Jerichower Land",
          "Börde",
          "Burgenlandkreis",
          "Harz",
          "Mansfeld-Südharz",
          "Saalekreis",
          "Salzlandkreis",
          "Stendal",
          "Wittenberg",
          "Flensburg, Kreisfreie Stadt",
          "Kiel, Kreisfreie Stadt",
          "Lübeck, Kreisfreie Stadt",
          "Neumünster, Kreisfreie Stadt",
          "Dithmarschen",
          "Herzogtum Lauenburg",
          "Nordfriesland",
          "Ostholstein",
          "Pinneberg",
          "Plön",
          "Rendsburg-Eckernförde",
          "Schleswig-Flensburg",
          "Segeberg",
          "Steinburg",
          "Stormarn",
          "Erfurt, Kreisfreie Stadt",
          "Gera, Kreisfreie Stadt",
          "Jena, Kreisfreie Stadt",
          "Suhl, Kreisfreie Stadt",
          "Weimar, Kreisfreie Stadt",
          "Eichsfeld",
          "Nordhausen",
          "Unstrut-Hainich-Kreis",
          "Kyffhäuserkreis",
          "Schmalkalden-Meiningen",
          "Gotha",
          "Sömmerda",
          "Hildburghausen",
          "Ilm-Kreis",
          "Weimarer Land",
          "Sonneberg",
          "Saalfeld-Rudolstadt",
          "Saale-Holzland-Kreis",
          "Saale-Orla-Kreis",
          "Greiz",
          "Altenburger Land",
          "Eisenach, Kreisfreie Stadt",
          "Wartburgkreis",
          "Byen København",
          "Københavns omegn",
          "Nordsjælland",
          "Bornholm",
          "Østsjælland",
          "Vest- og Sydsjælland",
          "Fyn",
          "Sydjylland",
          "Vestjylland",
          "Østjylland",
          "Nordjylland",
          "Põhja-Eesti",
          "Lääne-Eesti",
          "Lõuna-Eesti",
          "Kesk-Eesti",
          "Kirde-Eesti",
          "Voreios Tomeas Athinon",
          "Dytikos Tomeas Athinon",
          "Kentrikos Tomeas Athinon",
          "Notios Tomeas Athinon",
          "Anatoliki Attiki",
          "Dytiki Attiki",
          "Peiraias, Nisoi",
          "Lesvos, Limnos",
          "Ikaria, Samos",
          "Chios",
          "Kalymnos, Karpathos, Kasos, Kos, Rodos",
          "Andros, Thira, Kea, Milos, Mykonos, Naxos, Paros, Syros, Tinos",
          "Irakleio",
          "Lasithi",
          "Rethymni",
          "Chania",
          "Evros",
          "Xanthi",
          "Rodopi",
          "Drama",
          "Thasos, Kavala",
          "Imathia",
          "Thessaloniki",
          "Kilkis",
          "Pella",
          "Pieria",
          "Serres",
          "Chalkidiki",
          "Grevena, Kozani",
          "Kastoria",
          "Florina",
          "Arta, Preveza",
          "Thesprotia",
          "Ioannina",
          "Karditsa, Trikala",
          "Larisa",
          "Magnisia, Sporades",
          "Zakynthos",
          "Kerkyra",
          "Ithaki, Kefallinia",
          "Lefkada",
          "Aitoloakarnania",
          "Achaia",
          "Ileia",
          "Voiotia",
          "Evvoia",
          "Evrytania",
          "Fthiotida",
          "Fokida",
          "Argolida, Arkadia",
          "Korinthia",
          "Lakonia, Messinia",
          "A Coruña",
          "Lugo",
          "Ourense",
          "Pontevedra",
          "Asturias",
          "Cantabria",
          "Araba/Álava",
          "Gipuzkoa",
          "Bizkaia",
          "Navarra",
          "La Rioja",
          "Huesca",
          "Teruel",
          "Zaragoza",
          "Madrid",
          "Ávila",
          "Burgos",
          "León",
          "Palencia",
          "Salamanca",
          "Segovia",
          "Soria",
          "Valladolid",
          "Zamora",
          "Albacete",
          "Ciudad Real",
          "Cuenca",
          "Guadalajara",
          "Toledo",
          "Badajoz",
          "Cáceres",
          "Barcelona",
          "Girona",
          "Lleida",
          "Tarragona",
          "Alicante/Alacant",
          "Castellón/Castelló",
          "Valencia/València",
          "Eivissa y Formentera",
          "Mallorca",
          "Menorca",
          "Almería",
          "Cádiz",
          "Córdoba",
          "Granada",
          "Huelva",
          "Jaén",
          "Málaga",
          "Sevilla",
          "Murcia",
          "Keski-Suomi",
          "Etelä-Pohjanmaa",
          "Pohjanmaa",
          "Satakunta",
          "Pirkanmaa",
          "Helsinki-Uusimaa",
          "Varsinais-Suomi",
          "Kanta-Häme",
          "Päijät-Häme",
          "Kymenlaakso",
          "Etelä-Karjala",
          "Etelä-Savo",
          "Pohjois-Savo",
          "Pohjois-Karjala",
          "Keski-Pohjanmaa",
          "Lappi",
          "Kainuu",
          "Pohjois-Pohjanmaa",
          "Åland",
          "Paris",
          "Seine-et-Marne ",
          "Yvelines ",
          "Essonne",
          "Hauts-de-Seine ",
          "Seine-Saint-Denis ",
          "Val-de-Marne",
          "Val-d’Oise",
          "Cher",
          "Eure-et-Loir",
          "Indre",
          "Indre-et-Loire",
          "Loir-et-Cher",
          "Loiret",
          "Côte-d’Or",
          "Nièvre",
          "Saône-et-Loire",
          "Yonne",
          "Doubs",
          "Jura",
          "Haute-Saône",
          "Territoire de Belfort",
          "Calvados",
          "Manche",
          "Orne",
          "Eure",
          "Seine-Maritime",
          "Nord",
          "Pas-de-Calais",
          "Aisne",
          "Oise",
          "Somme",
          "Bas-Rhin",
          "Haut-Rhin",
          "Ardennes",
          "Aube",
          "Marne",
          "Haute-Marne",
          "Meurthe-et-Moselle ",
          "Meuse ",
          "Moselle",
          "Vosges",
          "Loire-Atlantique",
          "Maine-et-Loire",
          "Mayenne",
          "Sarthe",
          "Vendée",
          "Côtes-d’Armor",
          "Finistère",
          "Ille-et-Vilaine",
          "Morbihan",
          "Dordogne",
          "Gironde",
          "Landes",
          "Lot-et-Garonne",
          "Pyrénées-Atlantiques",
          "Corrèze",
          "Creuse",
          "Haute-Vienne",
          "Charente",
          "Charente-Maritime",
          "Deux-Sèvres",
          "Vienne",
          "Aude",
          "Gard",
          "Hérault",
          "Lozère",
          "Pyrénées-Orientales",
          "Ariège",
          "Aveyron",
          "Haute-Garonne",
          "Gers",
          "Lot",
          "Hautes-Pyrénées",
          "Tarn",
          "Tarn-et-Garonne",
          "Allier",
          "Cantal",
          "Haute-Loire",
          "Puy-de-Dôme",
          "Ain",
          "Ardèche",
          "Drôme",
          "Isère",
          "Loire",
          "Rhône",
          "Savoie",
          "Haute-Savoie",
          "Alpes-de-Haute-Provence",
          "Hautes-Alpes ",
          "Alpes-Maritimes",
          "Bouches-du-Rhône",
          "Var",
          "Vaucluse",
          "Corse-du-Sud",
          "Haute-Corse",
          "Bjelovarsko-bilogorska županija",
          "Virovitičko-podravska županija",
          "Požeško-slavonska županija",
          "Brodsko-posavska županija",
          "Osječko-baranjska županija",
          "Vukovarsko-srijemska županija",
          "Karlovačka županija",
          "Sisačko-moslavačka županija",
          "Primorsko-goranska županija",
          "Ličko-senjska županija",
          "Zadarska županija",
          "Šibensko-kninska županija",
          "Splitsko-dalmatinska županija",
          "Istarska županija",
          "Dubrovačko-neretvanska županija",
          "Grad Zagreb",
          "Međimurska županija",
          "Varaždinska županija",
          "Koprivničko-križevačka županija",
          "Krapinsko-zagorska županija",
          "Zagrebačka županija",
          "Budapest",
          "Pest",
          "Fejér",
          "Komárom-Esztergom",
          "Veszprém",
          "Győr-Moson-Sopron",
          "Vas",
          "Zala",
          "Baranya",
          "Somogy",
          "Tolna",
          "Borsod-Abaúj-Zemplén",
          "Heves",
          "Nógrád",
          "Hajdú-Bihar",
          "Jász-Nagykun-Szolnok",
          "Szabolcs-Szatmár-Bereg",
          "Bács-Kiskun",
          "Békés",
          "Csongrád",
          "Border",
          "West",
          "Mid-West",
          "South-East (IE)",
          "South-West (IE)",
          "Dublin",
          "Mid-East",
          "Midland",
          "Isle of Man",
          "Höfuðborgarsvæði",
          "Landsbyggð",
          "Torino",
          "Vercelli",
          "Biella",
          "Verbano-Cusio-Ossola",
          "Novara",
          "Cuneo",
          "Asti",
          "Alessandria",
          "Valle d’Aosta/Vallée d’Aoste",
          "Imperia",
          "Savona",
          "Genova",
          "La Spezia",
          "Varese",
          "Como",
          "Lecco",
          "Sondrio",
          "Bergamo",
          "Brescia",
          "Pavia",
          "Lodi",
          "Cremona",
          "Mantova",
          "Milano",
          "Monza e della Brianza",
          "L’Aquila",
          "Teramo",
          "Pescara",
          "Chieti",
          "Isernia",
          "Campobasso",
          "Caserta",
          "Benevento",
          "Napoli",
          "Avellino",
          "Salerno",
          "Taranto",
          "Brindisi",
          "Lecce",
          "Foggia",
          "Bari",
          "Barletta-Andria-Trani",
          "Potenza",
          "Matera",
          "Cosenza",
          "Crotone",
          "Catanzaro",
          "Vibo Valentia",
          "Reggio di Calabria",
          "Trapani",
          "Palermo",
          "Messina",
          "Agrigento",
          "Caltanissetta",
          "Enna",
          "Catania",
          "Ragusa",
          "Siracusa",
          "Sassari",
          "Nuoro",
          "Cagliari",
          "Oristano",
          "Sud Sardegna",
          "Bolzano-Bozen",
          "Trento",
          "Verona",
          "Vicenza",
          "Belluno",
          "Treviso",
          "Venezia",
          "Padova",
          "Rovigo",
          "Pordenone",
          "Udine",
          "Gorizia",
          "Trieste",
          "Piacenza",
          "Parma",
          "Reggio nell’Emilia",
          "Modena",
          "Bologna",
          "Ferrara",
          "Ravenna",
          "Forlì-Cesena",
          "Rimini",
          "Massa-Carrara",
          "Lucca",
          "Pistoia",
          "Firenze",
          "Prato",
          "Livorno",
          "Pisa",
          "Arezzo",
          "Siena",
          "Grosseto",
          "Perugia",
          "Terni",
          "Pesaro e Urbino",
          "Ancona",
          "Macerata",
          "Ascoli Piceno",
          "Fermo",
          "Viterbo",
          "Rieti",
          "Roma",
          "Latina",
          "Frosinone",
          "Liechtenstein",
          "Vilniaus apskritis",
          "Alytaus apskritis",
          "Kauno apskritis",
          "Klaipėdos apskritis",
          "Marijampolės apskritis",
          "Panevėžio apskritis",
          "Šiaulių apskritis",
          "Tauragės apskritis",
          "Telšių apskritis",
          "Utenos apskritis",
          "Luxembourg",
          "Kurzeme",
          "Latgale",
          "Rīga",
          "Pierīga",
          "Vidzeme",
          "Zemgale",
          "Monaco",
          "Crna Gora",
          "Vardarski",
          "Istočen",
          "Jugozapaden",
          "Jugoistočen",
          "Pelagoniski",
          "Pološki",
          "Severoistočen",
          "Skopski",
          "Malta",
          "Gozo and Comino/Għawdex u Kemmuna",
          "Oost-Groningen",
          "Delfzijl en omgeving",
          "Overig Groningen",
          "Noord-Friesland",
          "Zuidwest-Friesland",
          "Zuidoost-Friesland",
          "Noord-Drenthe",
          "Zuidoost-Drenthe",
          "Zuidwest-Drenthe",
          "Noord-Overijssel",
          "Zuidwest-Overijssel",
          "Twente",
          "Veluwe",
          "Zuidwest-Gelderland",
          "Achterhoek",
          "Arnhem/Nijmegen",
          "Flevoland",
          "Utrecht",
          "Kop van Noord-Holland",
          "IJmond",
          "Agglomeratie Haarlem",
          "Zaanstreek",
          "Het Gooi en Vechtstreek",
          "Alkmaar en omgeving",
          "Groot-Amsterdam",
          "Agglomeratie ’s-Gravenhage",
          "Delft en Westland",
          "Agglomeratie Leiden en Bollenstreek",
          "Zuidoost-Zuid-Holland",
          "Oost-Zuid-Holland",
          "Groot-Rijnmond",
          "Zeeuwsch-Vlaanderen",
          "Overig Zeeland",
          "West-Noord-Brabant",
          "Midden-Noord-Brabant",
          "Noordoost-Noord-Brabant",
          "Zuidoost-Noord-Brabant",
          "Noord-Limburg",
          "Midden-Limburg",
          "Zuid-Limburg",
          "Innlandet",
          "Trøndelag",
          "Nordland",
          "Troms og Finnmark",
          "Oslo",
          "Viken",
          "Vestfold og Telemark",
          "Agder",
          "Rogaland",
          "Vestland",
          "Møre og Romsdal",
          "Miasto Kraków",
          "Krakowski",
          "Tarnowski",
          "Nowosądecki",
          "Nowotarski",
          "Oświęcimski",
          "Częstochowski",
          "Bielski",
          "Rybnicki",
          "Bytomski",
          "Gliwicki",
          "Katowicki",
          "Sosnowiecki",
          "Tyski",
          "Pilski",
          "Koniński",
          "Miasto Poznań",
          "Kaliski",
          "Leszczyński",
          "Poznański",
          "Miasto Szczecin",
          "Koszaliński",
          "Szczecinecko-pyrzycki",
          "Szczeciński",
          "Gorzowski",
          "Zielonogórski",
          "Miasto Wrocław",
          "Jeleniogórski",
          "Legnicko-głogowski",
          "Wałbrzyski",
          "Wrocławski",
          "Nyski",
          "Opolski",
          "Bydgosko-toruński",
          "Grudziądzki",
          "Inowrocławski",
          "Świecki",
          "Włocławski",
          "Elbląski",
          "Olsztyński",
          "Ełcki",
          "Trójmiejski",
          "Gdański",
          "Słupski",
          "Chojnicki",
          "Starogardzki",
          "Miasto Łódź",
          "Łódzki",
          "Piotrkowski",
          "Sieradzki",
          "Skierniewicki",
          "Kielecki",
          "Sandomiersko-jędrzejowski",
          "Bialski",
          "Chełmsko-zamojski",
          "Lubelski",
          "Puławski",
          "Krośnieński",
          "Przemyski",
          "Rzeszowski",
          "Tarnobrzeski",
          "Białostocki",
          "Łomżyński",
          "Suwalski",
          "Miasto Warszawa",
          "Warszawski wschodni",
          "Warszawski zachodni",
          "Radomski",
          "Ciechanowski",
          "Płocki",
          "Ostrołęcki",
          "Siedlecki",
          "Żyrardowski",
          "Alto Minho",
          "Cávado",
          "Ave",
          "Área Metropolitana do Porto",
          "Alto Tâmega",
          "Tâmega e Sousa",
          "Douro",
          "Terras de Trás-os-Montes",
          "Algarve",
          "Oeste",
          "Região de Aveiro",
          "Região de Coimbra",
          "Região de Leiria",
          "Viseu Dão Lafões",
          "Beira Baixa",
          "Médio Tejo",
          "Beiras e Serra da Estrela",
          "Área Metropolitana de Lisboa",
          "Alentejo Litoral",
          "Baixo Alentejo",
          "Lezíria do Tejo",
          "Alto Alentejo",
          "Alentejo Central",
          "Bihor",
          "Bistriţa-Năsăud",
          "Cluj",
          "Maramureş",
          "Satu Mare",
          "Sălaj",
          "Alba",
          "Braşov",
          "Covasna",
          "Harghita",
          "Mureş",
          "Sibiu",
          "Bacău",
          "Botoşani",
          "Iaşi",
          "Neamţ",
          "Suceava",
          "Vaslui",
          "Brăila",
          "Buzău",
          "Constanţa",
          "Galaţi",
          "Tulcea",
          "Vrancea",
          "Argeş",
          "Călăraşi",
          "Dâmboviţa",
          "Giurgiu",
          "Ialomiţa",
          "Prahova",
          "Teleorman",
          "Bucureşti",
          "Ilfov",
          "Dolj",
          "Gorj",
          "Mehedinţi",
          "Olt",
          "Vâlcea",
          "Arad",
          "Caraş-Severin",
          "Hunedoara",
          "Timiş",
          "City of Belgrade",
          "Zapadnobačka oblast ",
          "Južnobanatska oblast",
          "Južnobačka oblast",
          "Severnobanatska oblast",
          "Severnobačka oblast",
          "Srednjobanatska oblast",
          "Sremska oblast",
          "Zlatiborska oblast",
          "Kolubarska oblast",
          "Mačvanska oblast",
          "Moravička oblast",
          "Pomoravska oblast",
          "Rasinska oblast",
          "Raška oblast",
          "Šumadijska oblast",
          "Borska oblast",
          "Braničevska oblast",
          "Zaječarska oblast",
          "Jablanička oblast",
          "Nišavska oblast",
          "Pirotska oblast",
          "Podunavska oblast",
          "Pčinjska oblast",
          "Toplička oblast",
          "Stockholms län",
          "Uppsala län",
          "Södermanlands län",
          "Östergötlands län",
          "Örebro län",
          "Västmanlands län",
          "Jönköpings län",
          "Kronobergs län",
          "Kalmar län",
          "Gotlands län",
          "Blekinge län",
          "Skåne län",
          "Hallands län",
          "Västra Götalands län",
          "Värmlands län",
          "Dalarnas län",
          "Gävleborgs län",
          "Västernorrlands län",
          "Jämtlands län",
          "Västerbottens län",
          "Norrbottens län",
          "Pomurska",
          "Podravska",
          "Koroška",
          "Savinjska",
          "Zasavska",
          "Posavska",
          "Jugovzhodna Slovenija",
          "Primorsko-notranjska",
          "Osrednjeslovenska",
          "Gorenjska",
          "Goriška",
          "Obalno-kraška",
          "Bratislavský kraj",
          "Trnavský kraj",
          "Trenčiansky kraj",
          "Nitriansky kraj",
          "Žilinský kraj",
          "Banskobystrický kraj",
          "Prešovský kraj",
          "Košický kraj",
          "San Marino",
          "Hartlepool and Stockton-on-Tees",
          "South Teesside",
          "Darlington",
          "Durham CC",
          "Northumberland",
          "Tyneside",
          "Sunderland",
          "West Cumbria",
          "East Cumbria",
          "Manchester",
          "Greater Manchester South West",
          "Greater Manchester South East",
          "Greater Manchester North West",
          "Greater Manchester North East",
          "Blackburn with Darwen",
          "Blackpool",
          "Lancaster and Wyre",
          "Mid Lancashire",
          "East Lancashire",
          "Chorley and West Lancashire",
          "Warrington",
          "Cheshire East",
          "Cheshire West and Chester",
          "East Merseyside",
          "Liverpool",
          "Sefton",
          "Wirral",
          "Kingston upon Hull, City of",
          "East Riding of Yorkshire",
          "North and North East Lincolnshire",
          "York",
          "North Yorkshire CC",
          "Barnsley, Doncaster and Rotherham",
          "Sheffield",
          "Bradford",
          "Leeds",
          "Calderdale and Kirklees",
          "Wakefield",
          "Derby",
          "East Derbyshire",
          "South and West Derbyshire",
          "Nottingham",
          "North Nottinghamshire",
          "South Nottinghamshire",
          "Leicester",
          "Leicestershire CC and Rutland",
          "West Northamptonshire",
          "North Northamptonshire",
          "Lincolnshire",
          "Herefordshire, County of",
          "Worcestershire",
          "Warwickshire",
          "Telford and Wrekin",
          "Shropshire CC",
          "Stoke-on-Trent",
          "Staffordshire CC",
          "Birmingham",
          "Solihull",
          "Coventry",
          "Dudley",
          "Sandwell",
          "Walsall",
          "Wolverhampton",
          "Peterborough",
          "Cambridgeshire CC",
          "Suffolk",
          "Norwich and East Norfolk",
          "North and West Norfolk",
          "Breckland and South Norfolk",
          "Luton",
          "Hertfordshire",
          "Bedford",
          "Central Bedfordshire",
          "Southend-on-Sea",
          "Thurrock",
          "Essex Haven Gateway",
          "West Essex",
          "Heart of Essex",
          "Essex Thames Gateway",
          "Camden and City of London",
          "Westminster",
          "Kensington & Chelsea and Hammersmith & Fulham",
          "Wandsworth",
          "Hackney and Newham",
          "Tower Hamlets",
          "Haringey and Islington",
          "Lewisham and Southwark",
          "Lambeth",
          "Bexley and Greenwich",
          "Barking & Dagenham and Havering",
          "Redbridge and Waltham Forest",
          "Enfield",
          "Bromley",
          "Croydon",
          "Merton, Kingston upon Thames and Sutton",
          "Barnet",
          "Brent",
          "Ealing",
          "Harrow and Hillingdon",
          "Hounslow and Richmond upon Thames",
          "Berkshire",
          "Milton Keynes",
          "Buckinghamshire CC",
          "Oxfordshire",
          "Brighton and Hove",
          "East Sussex CC",
          "West Surrey",
          "East Surrey",
          "West Sussex (South West)",
          "West Sussex (North East)",
          "Portsmouth",
          "Southampton",
          "Isle of Wight",
          "South Hampshire",
          "Central Hampshire",
          "North Hampshire",
          "Medway",
          "Kent Thames Gateway",
          "East Kent",
          "Mid Kent",
          "West Kent",
          "Bristol, City of",
          "Bath and North East Somerset, North Somerset and South Gloucestershire",
          "Gloucestershire",
          "Swindon",
          "Wiltshire CC",
          "Somerset",
          "Bournemouth, Christchurch and Poole",
          "Dorset",
          "Cornwall and Isles of Scilly",
          "Plymouth",
          "Torbay",
          "Devon CC",
          "Isle of Anglesey",
          "Gwynedd",
          "Conwy and Denbighshire",
          "South West Wales",
          "Central Valleys",
          "Gwent Valleys",
          "Bridgend and Neath Port Talbot",
          "Swansea",
          "Monmouthshire and Newport",
          "Cardiff and Vale of Glamorgan",
          "Flintshire and Wrexham",
          "Powys",
          "Aberdeen City and Aberdeenshire",
          "Caithness & Sutherland and Ross & Cromarty",
          "Inverness & Nairn and Moray, Badenoch & Strathspey",
          "Lochaber, Skye & Lochalsh, Arran & Cumbrae and Argyll & Bute",
          "Na h-Eileanan Siar (Western Isles)",
          "Orkney Islands",
          "Shetland Islands",
          "Angus and Dundee City",
          "Clackmannanshire and Fife",
          "East Lothian and Midlothian",
          "Edinburgh, City of",
          "Falkirk",
          "Perth & Kinross and Stirling",
          "West Lothian",
          "East Dunbartonshire, West Dunbartonshire and Helensburgh & Lomond",
          "Glasgow City",
          "Inverclyde, East Renfrewshire and Renfrewshire",
          "North Lanarkshire",
          "Scottish Borders",
          "Dumfries & Galloway",
          "East Ayrshire and North Ayrshire mainland",
          "South Ayrshire",
          "South Lanarkshire",
          "Belfast",
          "Armagh City, Banbridge and Craigavon",
          "Newry, Mourne and Down",
          "Ards and North Down",
          "Derry City and Strabane",
          "Mid Ulster",
          "Causeway Coast and Glens",
          "Antrim and Newtownabbey",
          "Lisburn and Castlereagh",
          "Mid and East Antrim",
          "Fermanagh and Omagh",
          "Ferizaj/Uroševac",
          "Gjakovë/Đakovica",
          "Gjilan/Gnjilane",
          "Mitrovicë/Mitrovica",
          "Pejë/Peć",
          "Prishtinë/Priština",
          "Prizren/Prizren"
         ],
         "lat": [
          42.506285,
          41.5888163,
          41.3245904,
          42.0755845,
          41.78607299999999,
          42.064714,
          41.1113835,
          41.3275459,
          40.705251,
          40.7278698,
          40.0801494,
          40.616136,
          40.4660668,
          47.4788231,
          47.516231,
          47.15371649999999,
          48.1769994,
          48.07322000000001,
          48.204549,
          48.6022146,
          47.516231,
          48.20806959999999,
          48.20806959999999,
          48.20806959999999,
          46.625704,
          47.516231,
          47.516231,
          47.0678961,
          47.5626179,
          47.2649012,
          47.2649012,
          46.7754628,
          47.2649012,
          48.18941539999999,
          48.3069096,
          48.43086100000001,
          47.93963902723531,
          47.9111056,
          47.18195480000001,
          47.3807105,
          47.8394807,
          47.3927114,
          47.2675322,
          46.8469104,
          47.0751392,
          47.2537414,
          47.2662703,
          47.516231,
          44.65031159999999,
          45.0752094,
          44.5343463,
          44.2127109,
          43.68749,
          44.1381856,
          43.5265159,
          43.4369244,
          43.8512564,
          43.9534155,
          44.7721811,
          44.75695109999999,
          43.915886,
          43.8512564,
          43.8453737,
          43.915886,
          44.8405944,
          50.8475937,
          51.2199302,
          51.0279827,
          51.3216148,
          50.78220719999999,
          50.9304628,
          51.09616760000001,
          50.9460841,
          51.0256441,
          51.1852279,
          51.0499922,
          50.8459758,
          51.1657403,
          50.9263319,
          50.874481,
          51.20845079999999,
          51.0317365,
          50.8576861,
          50.8270689,
          51.22471849999999,
          50.9452778,
          50.9984732,
          51.0726963,
          50.5992013,
          50.4538181,
          50.7430148,
          50.4761175,
          50.6342274,
          50.408128,
          50.576408,
          50.3405742,
          50.5167024,
          50.6329465,
          50.6980418,
          50.5910337,
          50.5911695,
          49.678116,
          50.0005481,
          50.2295567,
          49.8417887,
          49.5668607,
          50.26270969999999,
          50.46493340000001,
          50.19599119999999,
          43.996159,
          43.4085161,
          43.2102375,
          43.4170423,
          43.1369534,
          43.0756739,
          42.8742212,
          43.83557130000001,
          43.53367189999999,
          44.1147271,
          43.2140504,
          43.57259,
          43.2712398,
          43.2493556,
          42.50479259999999,
          42.6816536,
          42.48419990000001,
          42.4257769,
          42.7570109,
          42.6977082,
          42.0208569,
          42.6051862,
          42.2868817,
          42.1354079,
          41.9344366,
          42.1927654,
          41.5774233,
          41.6338439,
          46.5613135,
          46.1904614,
          46.2043907,
          46.9479739,
          46.8064773,
          47.2088348,
          46.9899874,
          47.3444474,
          47.58482739999999,
          47.44181220000001,
          47.390434,
          47.3768866,
          47.0411232,
          47.6958897,
          47.366481,
          47.3161925,
          47.4244818,
          46.65698709999999,
          47.60378559999999,
          47.05016819999999,
          46.7738629,
          47.0207138,
          46.877858,
          46.9267016,
          47.1661672,
          46.0580636,
          35.126413,
          50.0755381,
          49.8782223,
          48.9457789,
          49.4134812,
          50.1435,
          50.6119037,
          50.65942399999999,
          50.3512484,
          49.9444479,
          49.44900519999999,
          48.9544528,
          49.65865489999999,
          49.2162296,
          49.7305327,
          48.7758459,
          48.6845486,
          48.742178,
          48.7054382,
          48.8891149,
          48.8293432,
          49.2247372,
          49.2247372,
          49.2035203,
          49.1124645,
          49.49086,
          48.6785503,
          48.8372475,
          48.76564,
          48.9540631,
          48.9540631,
          48.8590212,
          49.3987524,
          49.4873329,
          49.3404928,
          49.366219,
          48.8921862,
          48.7126752,
          48.870703,
          48.4644796,
          47.9990077,
          47.9183347,
          48.1216285,
          48.4734256,
          48.1652577,
          48.05948679999999,
          47.98233159999999,
          47.6779808,
          47.6167921,
          47.6327253,
          48.49437,
          48.52158379999999,
          48.2171741,
          48.38916,
          48.2856064,
          48.0951473,
          47.6567103,
          47.78543579999999,
          48.0867209,
          48.7667395,
          48.1351253,
          47.8571272,
          48.2236975,
          47.6300314,
          47.7619038,
          48.26315289999999,
          48.0753354,
          48.8910779,
          48.3058389,
          48.401454,
          48.1739373,
          47.4919023,
          48.0464144,
          47.7904174,
          48.2461124,
          48.04991949999999,
          48.7302514,
          48.5274509,
          47.8606902,
          47.9999615,
          47.8677574,
          47.84223670000001,
          48.5441917,
          48.5667364,
          48.8777333,
          48.8414126,
          48.8089162,
          48.9175771,
          48.5646524,
          48.63462029999999,
          48.9696953,
          48.3909799,
          48.9094236,
          48.6618851,
          49.4403198,
          49.01305180000001,
          49.6743636,
          49.4199446,
          49.2251155,
          49.2772606,
          49.7326102,
          48.9944617,
          49.3308876,
          49.8817388,
          49.8988135,
          49.94561479999999,
          50.2612581,
          50.3135391,
          49.8240063,
          49.89007669999999,
          50.2549851,
          49.7188374,
          50.2677774,
          50.2359898,
          50.1039282,
          50.1435387,
          50.03991629999999,
          49.3004246,
          49.5896744,
          49.4771169,
          49.45428810000001,
          49.3288905,
          49.2353649,
          49.7095371,
          49.4428542,
          49.5136538,
          49.579834,
          49.2456337,
          49.0329644,
          49.9806625,
          50.0494345,
          49.79130439999999,
          50.0045709,
          50.19862089999999,
          50.329727,
          50.0371545,
          49.7413592,
          49.7019294,
          49.9902258,
          49.9811769,
          49.8523466,
          48.3705449,
          47.8830175,
          47.7285699,
          47.9844094,
          48.4588474,
          48.4853882,
          48.5790918,
          48.45284119999999,
          48.3830252,
          47.55365430000001,
          47.779563,
          48.0462322,
          48.6905338,
          47.52295549999999,
          52.52000659999999,
          52.4125287,
          51.75631079999999,
          52.3472237,
          52.3905689,
          52.8392907,
          51.8520753,
          51.5157876,
          52.6045635,
          52.5338195,
          52.7557351,
          51.5204143,
          52.17418170000001,
          52.9211097,
          52.1420644,
          53.0819589,
          51.7445739,
          52.0917676,
          53.2170222,
          53.07929619999999,
          53.5395845,
          53.5488282,
          49.8727703,
          50.1109203,
          50.09563620000001,
          50.0782184,
          49.6487606,
          49.9057615,
          49.9203655,
          50.2284759,
          50.2498702,
          50.1418176,
          49.6558833,
          50.0087969,
          50.1402994,
          50.3308526,
          50.5950778,
          50.5635252,
          50.3999442,
          50.8018843,
          50.6334203,
          51.3118828,
          50.5558095,
          50.87046789999999,
          51.362739,
          51.03125259999999,
          51.2762346,
          51.2109649,
          54.0924406,
          53.6353316,
          53.5649226,
          53.8002061,
          54.30643569999999,
          53.8879781,
          54.0945362,
          53.4250386,
          52.2677907,
          52.13786589999999,
          52.4226503,
          52.4809091,
          51.9059531,
          52.2272927,
          51.7013769,
          52.3204095,
          52.160443,
          51.54128040000001,
          52.6056456,
          52.1042035,
          52.154778,
          51.8274802,
          52.6380924,
          52.3230742,
          52.375874,
          52.6263797,
          53.859336,
          53.4607681,
          52.9664534,
          53.2478704,
          53.2269225,
          53.1034008,
          52.98149069999999,
          53.59286179999999,
          52.9652883,
          52.924648,
          53.0485048,
          53.35940290000001,
          53.1434501,
          52.2799112,
          53.53234029999999,
          53.2577806,
          53.472548,
          52.8452899,
          52.5227021,
          53.57557869999999,
          52.4407445,
          53.235657,
          52.89262799999999,
          52.52771079999999,
          52.7337273,
          53.3263116,
          53.5783573,
          51.2230411,
          51.4344079,
          51.4575573,
          51.33453,
          51.1941686,
          51.4185682,
          51.4878429,
          51.1801079,
          51.1748808,
          51.2562128,
          51.78672599999999,
          51.2481156,
          51.206105,
          51.2554987,
          51.6643079,
          50.73743,
          50.937531,
          51.04592479999999,
          50.8037183,
          50.93695160000001,
          50.6574392,
          51.0640858,
          51.0275951,
          50.98964789999999,
          50.7922467,
          50.7724749,
          51.529086,
          51.5187651,
          51.9606649,
          51.8488761,
          51.9382944,
          51.6117809,
          52.1495113,
          51.9514351,
          52.0302304,
          51.9032375,
          52.1180196,
          51.7790274,
          51.94158729999999,
          52.2923549,
          51.7189205,
          51.4818445,
          51.5135872,
          51.3678219,
          51.6738583,
          51.5368948,
          51.2978242,
          51.3449774,
          51.2189518,
          51.0295385,
          50.8982403,
          51.5714188,
          51.5410778,
          50.3569429,
          50.5417777,
          50.6854009,
          49.8440162,
          49.6474625,
          50.33049519999999,
          50.4361866,
          50.3710022,
          50.4715629,
          50.1473919,
          50.0613664,
          49.7500569,
          49.987343,
          49.96791,
          50.1961469,
          49.69934929999999,
          49.53770720000001,
          49.4400657,
          49.19888599999999,
          49.4774018,
          49.9928617,
          49.3501864,
          49.20155500000001,
          49.3172765,
          49.6341372,
          49.2450528,
          49.7445096,
          49.46141480000001,
          49.6630863,
          49.211472,
          49.48140129999999,
          49.5383747,
          49.14021169999999,
          49.4289082,
          49.96701849999999,
          49.2309251,
          49.2362191,
          49.4411943,
          49.348932,
          49.3123607,
          49.2367465,
          49.4677707,
          51.0504088,
          51.18229299999999,
          51.1524553,
          51.1617842,
          50.9574182,
          50.8282222,
          50.5851228,
          50.9160943,
          50.4933929,
          50.7176452,
          51.3397149,
          51.3396955,
          51.55689049999999,
          51.84282779999999,
          51.49535669999999,
          52.1131758,
          52.8513597,
          51.7505762,
          52.2647474,
          52.2827241,
          51.1554762,
          51.716667,
          51.6045104,
          51.38343159999999,
          51.7916385,
          52.6041444,
          51.87046429999999,
          54.7937431,
          54.3232927,
          53.8654209,
          54.0729431,
          53.9984273,
          53.69895349999999,
          54.4855686,
          54.1320096,
          53.6633556,
          54.16133019999999,
          54.308135,
          54.52497520000001,
          53.9332035,
          53.7068547,
          53.80761529999999,
          50.98476789999999,
          50.8850706,
          50.927054,
          50.6076846,
          50.9794934,
          51.3770314,
          51.4983551,
          51.2106556,
          51.3685747,
          50.727898,
          50.9474251,
          51.1594582,
          50.4263293,
          50.8354931,
          51.0255891,
          50.3601821,
          50.6495243,
          50.9705203,
          50.5772446,
          50.6556322,
          50.9930363,
          50.9795715,
          50.8147451,
          55.6760968,
          55.6760968,
          55.9061878,
          55.160428,
          55.4632518,
          55.2173722,
          55.3290605,
          56.029287,
          56.0911455,
          56.32710179999999,
          56.8307416,
          58.595272,
          58.9722742,
          58.595272,
          58.595272,
          58.595272,
          38.0708395,
          38.01392999999999,
          37.9787044,
          37.9556448,
          38.2054093,
          38.0968393,
          37.9429857,
          39.2645095,
          37.7587341,
          38.36818239999999,
          36.9533092,
          37.43850279999999,
          35.3387352,
          35.0811693,
          35.36555450000001,
          35.5138298,
          41.2443761,
          41.1362513,
          41.1175102,
          41.1502273,
          40.9425965,
          40.60600669999999,
          40.6400629,
          40.99370709999999,
          40.9148039,
          40.26690990000001,
          41.0863854,
          40.3694997,
          40.2955218,
          40.5192691,
          40.78452619999999,
          39.1582421,
          39.4935011,
          39.66502880000001,
          39.3640258,
          39.63902239999999,
          39.116667,
          37.7870331,
          39.6242621,
          38.1526611,
          38.8333663,
          38.7084386,
          38.1158729,
          37.7045099,
          38.3663664,
          38.5,
          39.0032334,
          38.999785,
          38.5598641,
          37.6525404,
          37.9386365,
          37.1424653,
          43.3637626,
          43.0071361,
          42.33578929999999,
          42.4298846,
          43.2504393,
          43.1828396,
          42.9099989,
          43.0756299,
          43.2204286,
          42.6953909,
          42.2870733,
          42.131845,
          40.3456879,
          41.6474339,
          40.41672790000001,
          40.656685,
          42.3504659,
          42.59836110000001,
          42.0096857,
          40.9701039,
          40.9429032,
          41.766436,
          41.6543639,
          41.5034712,
          38.9943983,
          38.9848295,
          40.0703925,
          40.632489,
          39.8628296,
          38.8781352,
          39.4755328,
          41.3873974,
          41.9794005,
          41.6168393,
          41.1188827,
          38.3457685,
          40.1451772,
          39.4738338,
          38.6964006,
          39.6952629,
          39.9496287,
          36.8512151,
          36.5210142,
          37.8893025,
          37.1824607,
          37.2619585,
          37.779552,
          36.7178196,
          37.3890924,
          37.9893044,
          62.5666743,
          62.9433099,
          63.28620240000001,
          61.59327580000001,
          61.6986918,
          60.16985569999999,
          60.36279139999999,
          60.90701499999999,
          61.3230041,
          60.59772,
          61.2033481,
          61.6945148,
          62.94236739999999,
          62.8062078,
          63.5621735,
          67.9222304,
          64.3736564,
          64.7151463,
          61.92410999999999,
          48.8575475,
          48.841082,
          48.7850939,
          48.4585698,
          48.828508,
          48.9137455,
          48.7931426,
          49.0615901,
          46.954005,
          48.5525242,
          46.6613966,
          47.28949249999999,
          47.6761905,
          47.900771,
          47.5126795,
          47.2381708,
          46.5827512,
          47.8652728,
          46.92760000000001,
          46.76247499999999,
          47.7569806,
          47.59465729999999,
          49.1213315,
          49.114712,
          48.6388567,
          49.11817629999999,
          49.60541869999999,
          50.3851246,
          50.5732769,
          49.4769199,
          49.42145679999999,
          49.914518,
          48.6343172,
          47.9315041,
          49.7624642,
          48.1563418,
          49.128754,
          48.1260968,
          48.7997007,
          49.0824319,
          49.0983839,
          48.1446427,
          47.27804680000001,
          47.2913545,
          48.3061239,
          47.9217014,
          46.6613966,
          48.5152204,
          48.2520249,
          48.2292016,
          47.8852929,
          45.14694859999999,
          44.84966499999999,
          43.9412045,
          44.2470173,
          43.3269942,
          45.372114,
          46.03776329999999,
          45.7435173,
          45.7519958,
          45.74948999999999,
          46.5926541,
          45.525587,
          43.0724667,
          43.9446996,
          43.5912356,
          44.494203,
          42.6012912,
          42.9326292,
          44.2179747,
          43.4010462,
          43.6366479,
          44.5379358,
          43.0193924,
          43.9264401,
          44.0126679,
          46.3115552,
          45.1191997,
          45.0821226,
          45.7801582,
          46.2475706,
          44.759629,
          44.73118960000001,
          44.9957745,
          46.32292990875975,
          45.7351456,
          45.4932045,
          46.1756788,
          44.07787159999999,
          44.6008723,
          43.9466791,
          43.59116789999999,
          43.46764599999999,
          44.0565054,
          41.8102633,
          42.4097877,
          45.7809992,
          45.83203410000001,
          45.3417868,
          45.2637951,
          45.5576428,
          45.1773552,
          45.2389445,
          45.3837926,
          45.31739959999999,
          44.6192218,
          44.1318273,
          43.9281485,
          43.5240328,
          45.1286455,
          43.0766588,
          45.8150108,
          46.3766644,
          46.23174729999999,
          46.1639381,
          46.10133930000001,
          45.8706612,
          47.497912,
          47.5002356,
          47.1217932,
          47.7390852,
          47.1028087,
          47.6509285,
          47.09291109999999,
          46.73844039999999,
          46.0484585,
          46.554859,
          46.4258265,
          48.2939401,
          47.5971694,
          47.90410310000001,
          47.4688355,
          47.2555579,
          48.0394954,
          46.5661437,
          46.7711185,
          46.7084264,
          54.55181260000001,
          53.77975540000001,
          53.77975540000001,
          52.5698681,
          53.41291,
          53.3498053,
          53.77975540000001,
          53.77975540000001,
          54.236107,
          64.1846369,
          64.963051,
          45.0703155,
          45.3207342,
          45.56288420000001,
          46.1399688,
          45.4467749,
          44.3844766,
          44.900765,
          44.9072727,
          45.7388878,
          43.8897316,
          44.3034046,
          44.4071448,
          44.1024504,
          45.8182892,
          45.8063817,
          45.8524098,
          46.171298,
          45.6941966,
          45.5415526,
          45.1853967,
          45.30969899999999,
          45.1333135,
          45.1563425,
          45.468503,
          45.623599,
          42.350697,
          42.6611431,
          42.4617624,
          42.3479367,
          41.5971629,
          41.5602674,
          41.0720677,
          41.1297194,
          40.8517746,
          40.9168443,
          40.6813313,
          40.4622052,
          40.6327732,
          40.3515255,
          41.4623132,
          41.1171432,
          41.2004543,
          40.6377715,
          40.66636010000001,
          39.3071324,
          39.0807848,
          38.9097707,
          38.6755587,
          38.1109851,
          38.0174282,
          38.1156864,
          38.1937342,
          37.3088381,
          37.4900647,
          37.56915550000001,
          37.5078836,
          36.9239306,
          37.0754013,
          40.7258034,
          40.3200954,
          39.2237323,
          39.9061169,
          39.5560012,
          46.4949259,
          46.06738559999999,
          45.4383659,
          45.5461815,
          46.14163749999999,
          45.6669338,
          45.440379,
          45.4105029,
          45.0748447,
          45.9626508,
          46.0652851,
          45.9400855,
          45.65083420000001,
          45.0526415,
          44.8014788,
          44.70309659999999,
          44.647128,
          44.494887,
          44.83925,
          44.418441,
          43.99476809999999,
          44.0565776,
          44.2213998,
          43.8430391,
          43.9298397,
          43.7699685,
          43.8777049,
          43.548476,
          43.72283849999999,
          43.4633082,
          43.3184741,
          42.7635468,
          43.1107168,
          42.5604522,
          43.6130118,
          43.6071395,
          43.2984479,
          42.8540985,
          43.1640745,
          42.4204278,
          42.4045985,
          41.8967068,
          41.4674949,
          41.6394526,
          47.14103919999999,
          54.8086502,
          54.2000214,
          54.9872863,
          55.6686983,
          54.78199710000001,
          55.9748049,
          55.9985751,
          55.3072586,
          56.1026616,
          55.53189690000001,
          49.815273,
          56.9969845,
          56.553227,
          56.9676941,
          56.879635,
          57.4087617,
          56.580626,
          43.73841760000001,
          42.708678,
          41.608635,
          41.608635,
          41.608635,
          41.608635,
          41.608635,
          41.608635,
          41.608635,
          41.9981294,
          35.937496,
          36.012457,
          53.21784220000001,
          53.33102719999999,
          53.2193835,
          53.30439519999999,
          53.04886519999999,
          53.04886519999999,
          52.9476012,
          52.9476012,
          52.9476012,
          52.5803827,
          52.4387814,
          52.2663667,
          52.2387683,
          52.19003439999999,
          52.132633,
          51.8432807,
          52.4930507,
          52.09192549999999,
          52.8163253,
          52.4965056,
          52.3873878,
          52.4707899,
          52.132633,
          52.6323813,
          52.3702141,
          52.03764469999999,
          51.9991757,
          52.16361879999999,
          52.0207975,
          52.0207975,
          52.132633,
          51.5375988,
          51.5375988,
          51.5336343,
          51.4826537,
          51.4826537,
          51.4826537,
          51.4427238,
          51.1987949,
          51.4427238,
          61.3368595,
          63.4305149,
          67.097529,
          70.0718208,
          59.9138688,
          60.0389059,
          59.35421950000001,
          58.50320840000001,
          59.1489544,
          60.8138379,
          62.84068329999999,
          50.06465009999999,
          50.06465009999999,
          50.0121011,
          49.6084971,
          49.4706746,
          50.0343982,
          50.7734391,
          52.762826,
          50.1021742,
          51.919438,
          50.2921738,
          50.26489189999999,
          50.27798740000001,
          50.1249683,
          53.1509671,
          52.2230334,
          52.40567859999999,
          52.319344,
          51.8419861,
          52.40567859999999,
          53.4285139,
          54.1943219,
          53.1032411,
          53.4285438,
          52.7325285,
          51.9062861,
          51.10929480000001,
          50.8073683,
          51.6469064,
          50.7437049,
          51.10929480000001,
          50.4653195,
          50.8003761,
          53.0099889,
          53.4837486,
          52.7993317,
          53.4958476,
          52.6578834,
          54.01609000000001,
          53.783365,
          53.7888026,
          54.3919577,
          54.35202520000001,
          54.4643059,
          53.7745398,
          53.8589184,
          51.7592924,
          51.7592924,
          51.40517209999999,
          51.5956014,
          51.9547169,
          50.7941995,
          50.65754,
          51.9008206,
          51.919438,
          51.2493519,
          51.4174556,
          52.0001091,
          49.7771435,
          50.0411867,
          50.5729079,
          53.0438238,
          53.1734141,
          54.15459440000001,
          52.2296756,
          52.2738835,
          52.2738835,
          51.9483956,
          52.8814838,
          52.5463446,
          53.0876544,
          52.1682859,
          52.0129718,
          41.8372138,
          41.64423794024597,
          39.39987199999999,
          41.2517226,
          39.39987199999999,
          39.39987199999999,
          41.50561058101842,
          41.8080133,
          37.2555153,
          39.39987199999999,
          40.7209023,
          40.110932,
          39.7709532,
          40.6565861,
          39.39987199999999,
          39.5954974,
          40.5337561,
          38.6850433,
          38.2003808,
          39.39987199999999,
          39.164378,
          39.237805,
          38.2003808,
          47.01575159999999,
          47.2486107,
          46.7712101,
          47.6737598,
          47.8016702,
          47.2090813,
          46.1558924,
          45.6426802,
          45.84727669999999,
          46.4928507,
          46.5569904,
          45.80347889999999,
          46.5692207,
          47.7406537,
          47.1584549,
          46.9758685,
          47.6634521,
          46.6406915,
          45.2652463,
          45.1371109,
          44.1759147,
          45.4353208,
          45.1716165,
          45.81348759999999,
          45.0722527,
          44.2085144,
          44.9289893,
          43.9037076,
          44.603133,
          45.08919059999999,
          44.0160491,
          44.4267674,
          44.535548,
          44.1623022,
          44.94855949999999,
          44.5515053,
          44.200797,
          45.30095439999999,
          46.1865606,
          45.1139646,
          45.7678128,
          45.7557559,
          44.5850395,
          45.7355385,
          44.016521,
          44.016521,
          45.906839,
          44.016521,
          44.016521,
          44.979777,
          44.016521,
          43.242652,
          44.7977773,
          43.84147,
          44.016521,
          43.5601024,
          43.2863993,
          44.016521,
          44.750415,
          44.7946768,
          43.3197745,
          44.7488325,
          43.327169,
          44.0597897,
          44.4729156,
          44.7898488,
          44.2604657,
          59.4069048,
          60.2724233,
          59.03363489999999,
          58.3453635,
          59.535036,
          59.6713879,
          57.3708434,
          56.89064940000001,
          57.0942447,
          57.531291,
          56.143109,
          55.99025719999999,
          56.7957699,
          58.15991589999999,
          59.5807897,
          61.33649999999999,
          61.51322,
          62.98552900000001,
          63.1711922,
          65.3337311,
          66.8309216,
          46.151241,
          46.151241,
          45.7457284,
          46.151241,
          46.151241,
          46.151241,
          46.151241,
          46.151241,
          46.151241,
          46.315418,
          46.151241,
          46.151241,
          48.1485965,
          48.3709108,
          48.884936,
          48.3061414,
          49.2031435,
          48.5312499,
          49.0018324,
          48.6375737,
          43.94236,
          54.691745,
          55.378051,
          54.52361,
          54.77525,
          55.2082542,
          55.0182399,
          54.906869,
          54.5772323,
          54.5772323,
          53.4807593,
          53.4575955,
          53.4575955,
          53.4575955,
          53.4575955,
          53.68985960000001,
          53.81674229999999,
          53.992,
          53.9690089,
          53.9690089,
          53.653511,
          53.39203999999999,
          53.1530116,
          53.2302974,
          53.46295809999999,
          53.4083714,
          53.5034449,
          53.3727181,
          53.7674909,
          53.8215889,
          53.5418558,
          53.9614205,
          54.25035949999999,
          53.4326035,
          53.38112899999999,
          53.7937996,
          53.8007554,
          53.7247845,
          53.6848162,
          52.9225301,
          53.2003512,
          53.1407037,
          52.9540223,
          53.1285044,
          52.9467693,
          52.6368778,
          55.378051,
          52.27137700000001,
          52.4022353,
          53.2178821,
          52.0765164,
          52.2545225,
          52.2671353,
          52.7409916,
          52.7063657,
          53.0033369,
          52.7697957,
          52.4822694,
          52.411811,
          52.4128163,
          52.5106724,
          52.5361674,
          52.586214,
          52.5868159,
          52.57031689999999,
          52.2761928,
          52.27137700000001,
          52.6292567,
          52.7516798,
          52.4828179,
          51.8786707,
          51.80978229999999,
          52.1386603,
          51.97800609999999,
          51.5459269,
          51.4934557,
          51.88072409999999,
          51.76683689999999,
          51.76683689999999,
          51.5351832,
          51.5134068,
          51.4974948,
          39.9934039,
          51.45837299999999,
          51.5436387,
          51.5251066,
          51.538621,
          51.502781,
          51.4935082,
          51.439933,
          51.5377369,
          51.5901724,
          51.6522994,
          51.4063204,
          51.3769529,
          51.41233,
          51.6569225,
          51.5570677,
          51.5132537,
          51.5805011,
          51.4704304,
          51.4669939,
          52.0406224,
          51.8072204,
          51.7612056,
          50.83516050000001,
          50.9285982,
          51.32941779999999,
          51.2622513,
          50.969873,
          50.969873,
          50.8197675,
          50.9105468,
          50.69384789999999,
          51.0895203,
          51.0895203,
          51.0895203,
          51.450714,
          51.5351832,
          51.0928319,
          51.25,
          51.27329599999999,
          51.47552049999999,
          51.531456,
          51.74677399999999,
          51.5581438,
          51.2462714,
          51.0634565,
          50.7220163,
          50.7390661,
          50.5036299,
          50.3754565,
          50.4619209,
          50.77721349999999,
          53.265325,
          52.8483607,
          53.12830890000001,
          51.79077059999999,
          55.378051,
          55.378051,
          51.5946799,
          51.62144,
          51.774928,
          51.483707,
          53.197787,
          52.1430868,
          57.16214290000001,
          57.948211,
          57.477773,
          57.274,
          57.75989180000001,
          59.03629,
          60.3213009,
          56.462018,
          56.2082078,
          55.8292247,
          55.953252,
          56.00187750000001,
          -31.9513993,
          55.9070198,
          56.002318,
          55.86167039999999,
          55.8298581,
          55.8289139,
          55.54856969999999,
          55.070859,
          55.7113902,
          55.4588988,
          55.5243038,
          54.59728500000001,
          54.3932592,
          54.1510979,
          54.5899645,
          54.7806842,
          54.6411301,
          55.043183,
          54.6722244,
          54.49815839999999,
          54.85836029999999,
          54.4513524,
          42.3701844,
          42.3844104,
          42.3887458,
          42.99479880000001,
          42.7209182,
          42.6694606,
          42.2171438
         ],
         "legendgroup": "",
         "lon": [
          1.521801,
          20.2355647,
          19.4564686,
          20.4259456,
          19.6460758,
          19.5090237,
          20.0822631,
          19.8186982,
          19.9518907,
          19.5596305,
          20.1382971,
          20.7802439,
          19.491356,
          16.5170481,
          14.550072,
          16.2688797,
          15.6161377,
          16.32214,
          15.6306934,
          15.1683758,
          14.550072,
          16.3713095,
          16.3713095,
          16.3713095,
          14.3137371,
          14.550072,
          14.550072,
          15.4417305,
          14.2445206,
          14.8939302,
          14.8939302,
          15.5480547,
          14.8939302,
          13.2863628,
          14.285918,
          14.2948274,
          14.28508607288545,
          14.2441444,
          13.6637498,
          13.332992,
          13.1750587,
          10.5845109,
          11.3910349,
          12.4583338,
          10.6642951,
          11.601487,
          9.890495999999999,
          14.550072,
          16.3171629,
          18.3776304,
          18.6972797,
          18.1604625,
          18.8244394,
          17.6866714,
          17.763621,
          17.3848831,
          18.2953442,
          16.9425187,
          17.191,
          19.2150224,
          17.679076,
          18.2953442,
          18.3691935,
          17.679076,
          18.742153,
          4.3573821,
          4.414990299999999,
          4.4793443,
          4.9373026,
          5.4607492,
          5.3324297,
          5.7864575,
          4.0502929,
          4.102013599999999,
          3.5641894,
          3.7303853,
          3.6022745,
          4.1370695,
          4.4258387,
          4.714456,
          3.2250586,
          2.8638919,
          2.8712378,
          3.2603645,
          2.9092214,
          3.1237049,
          3.3342635,
          2.6625315,
          4.3272356,
          3.9612155,
          3.2138896,
          4.1830322,
          3.772344,
          4.4476076,
          4.0708753,
          4.2867825,
          5.2403015,
          5.5697697,
          5.2607231,
          5.865577399999999,
          5.8666477,
          5.8036952,
          5.7152698,
          5.3437708,
          5.4343204,
          5.5341917,
          4.9106023,
          4.864973099999999,
          4.543220799999999,
          22.8679302,
          23.2257292,
          23.5528803,
          24.6066847,
          24.7141906,
          25.6171514,
          25.3186837,
          25.9656554,
          26.5411164,
          27.2671901,
          27.9147333,
          27.8272606,
          26.9361286,
          26.5727357,
          27.4626361,
          26.3228685,
          26.5035023,
          25.6344644,
          23.4504683,
          23.3218675,
          23.0943385,
          23.0378368,
          22.6939308,
          24.7452904,
          25.5554462,
          24.3335662,
          24.7011138,
          25.3777119,
          6.536765,
          7.5449226,
          6.1431577,
          7.4474468,
          7.161971899999999,
          7.532291,
          6.9292732,
          7.143060800000001,
          7.649911100000001,
          7.7644002,
          8.0457015,
          8.541694,
          9.0679,
          8.6380488,
          9.3000916,
          9.4316573,
          9.3767173,
          9.578025700000001,
          9.0557371,
          8.3093072,
          8.602515300000002,
          8.652988400000002,
          8.251249,
          8.3849982,
          8.5154946,
          8.9901808,
          33.429859,
          14.4378005,
          14.9362955,
          14.4416055,
          13.3157246,
          12.7501899,
          13.7870086,
          14.7632424,
          15.7976459,
          16.2856916,
          15.6405934,
          16.7676899,
          17.0811406,
          17.7720353,
          18.2332637,
          9.1829321,
          9.0073513,
          9.3144229,
          9.6512491,
          9.1942834,
          9.3185678,
          9.2179717,
          9.2179717,
          9.510221399999999,
          9.7372649,
          9.7694561,
          10.1506915,
          10.098392,
          8.228524199999999,
          8.7259257,
          8.7259257,
          8.2099996,
          8.6724335,
          8.4646441,
          9.1199511,
          8.7504175,
          8.6946286,
          8.7425205,
          8.634570199999999,
          8.4179988,
          7.842104299999999,
          7.702876299999999,
          7.8514309,
          7.949782099999999,
          8.628453,
          8.4640942,
          8.8192095,
          9.1736741,
          7.6691015,
          8.2719155,
          9.202803099999999,
          9.057599999999999,
          9.0269897,
          10.0028465,
          9.7306434,
          9.7901525,
          9.4649513,
          9.6103864,
          9.2147866,
          11.4226498,
          11.5819806,
          12.1181047,
          12.6799462,
          13.001148,
          11.5661472,
          11.4341515,
          11.9717235,
          11.185239,
          11.9068811,
          11.7413524,
          11.2430079,
          11.0947806,
          10.8718015,
          11.8318549,
          12.5229789,
          11.6166939,
          11.1887376,
          11.5124179,
          12.1554597,
          11.3390089,
          12.6384037,
          11.1427605,
          12.1468532,
          13.4319466,
          12.5801538,
          12.9572212,
          13.5475018,
          11.8931689,
          12.1659698,
          13.1851498,
          13.1267534,
          12.9450981,
          12.6922665,
          12.7026356,
          11.8633445,
          12.1016257,
          12.1489337,
          11.8873748,
          12.6631896,
          11.4671996,
          12.1756154,
          12.1942913,
          12.1068067,
          12.3272219,
          10.9027636,
          11.5715312,
          10.962576,
          11.9127814,
          10.8412281,
          11.5100916,
          10.8778201,
          11.0679502,
          11.8436218,
          11.3310482,
          11.4448178,
          11.0555414,
          12.0039132,
          10.5719357,
          11.0119611,
          10.988667,
          11.0745641,
          11.0244827,
          10.4948894,
          10.81289,
          10.9613528,
          11.28343,
          10.6140979,
          11.0911607,
          10.9719688,
          9.135555400000001,
          10.2200758,
          9.9533548,
          9.1400131,
          10.0755912,
          10.2064521,
          10.5151591,
          10.1681783,
          9.2559213,
          9.6833263,
          10.1006968,
          9.9596355,
          10.89779,
          10.625966,
          10.3157835,
          10.1774423,
          11.1328472,
          10.860918,
          10.4940239,
          10.2775127,
          10.0054584,
          9.693054499999999,
          10.6183077,
          10.4913003,
          10.9207435,
          10.2629016,
          13.404954,
          12.5316444,
          14.3328679,
          14.5505673,
          13.0644729,
          13.7257801,
          13.7231361,
          13.3944593,
          12.3371397,
          14.381125,
          13.2408643,
          14.0049711,
          14.2481076,
          12.8002556,
          12.5826067,
          11.8598802,
          14.6451394,
          13.1738359,
          13.8404787,
          8.8016937,
          8.5809424,
          9.987170299999999,
          8.6512219,
          8.682099599999999,
          8.776084299999999,
          8.239760799999999,
          8.6384116,
          8.5884941,
          8.4847038,
          8.617773099999999,
          9.289959099999999,
          8.5037452,
          8.9961468,
          8.7849493,
          8.0695976,
          8.7510993,
          8.8191603,
          8.5002611,
          8.081812,
          8.765777,
          9.3960049,
          9.4915751,
          9.6808449,
          9.7049197,
          9.4563581,
          9.413365599999999,
          8.870396999999999,
          9.9374241,
          12.0991466,
          11.4003136,
          13.2695452,
          12.1745761,
          13.0661047,
          11.4621292,
          13.3874129,
          11.8478548,
          10.5245656,
          10.3899126,
          10.7865461,
          10.5507829,
          10.4289963,
          11.003723,
          9.995866000000001,
          10.243267,
          10.5342445,
          9.915803499999999,
          8.3707878,
          9.3616,
          9.9579652,
          9.458815999999999,
          9.2084155,
          9.1925881,
          9.732007,
          10.080865,
          8.6879057,
          9.9835844,
          11.1503314,
          10.4160637,
          8.790036299999999,
          9.3973149,
          9.8321352,
          9.4709494,
          10.5573402,
          9.2280756,
          8.6254748,
          7.2060095,
          8.214552099999999,
          8.0471788,
          8.1068722,
          7.9222968,
          7.4833137,
          8.0472991,
          7.3256322,
          7.9002789,
          7.0648882,
          7.4679018,
          8.430555499999999,
          7.858459099999999,
          8.292668599999999,
          8.4782391,
          7.779684899999999,
          6.7824545,
          6.762329299999999,
          7.0224632,
          6.565408199999999,
          6.4315392,
          6.884522599999999,
          6.863308,
          7.225058799999999,
          7.0847931,
          7.150763599999999,
          6.12954,
          6.975103,
          6.6785213,
          6.3965235,
          6.6295679,
          7.0982068,
          6.9602786,
          7.0192196,
          6.4793683,
          6.6938808,
          6.7899945,
          6.0943707,
          7.563750499999999,
          7.1229954,
          7.2071586,
          6.080458699999999,
          6.9446888,
          7.0838411,
          7.6261347,
          6.859919499999999,
          7.1675831,
          7.197388500000001,
          7.336075,
          7.984100100000001,
          8.5324472,
          8.385753500000002,
          8.677477200000002,
          9.3787782,
          8.8859628,
          8.9160539,
          8.757509299999999,
          7.216236299999999,
          7.465298100000001,
          7.463638599999999,
          7.815981600000001,
          7.200914699999999,
          7.357053100000001,
          8.282988999999999,
          7.6313366,
          7.8496836,
          8.0271417,
          8.110529099999999,
          7.687836,
          7.5889959,
          7.102891,
          7.6359735,
          7.873134599999999,
          7.1650865,
          7.225527899999999,
          7.4664546,
          7.9835871,
          7.7962156,
          7.1702846,
          7.5526519,
          6.637188999999999,
          6.8914538,
          6.5224296,
          6.8353544,
          6.572670500000001,
          8.3560768,
          7.7491265,
          8.1185622,
          8.4447451,
          8.2472526,
          8.1486886,
          7.600216100000001,
          8.441217199999999,
          8.3507182,
          7.3634022,
          8.119709,
          8.1694167,
          8.0127925,
          8.363785199999999,
          7.631242299999999,
          7.406452799999999,
          8.0183933,
          8.3136511,
          7.899461899999999,
          7.5487474,
          6.9960017,
          6.6168415,
          7.1780408,
          6.7506976,
          7.2609634,
          7.169062499999999,
          13.7372621,
          14.4237749,
          14.9688941,
          13.4976592,
          13.9310499,
          12.9208547,
          13.0149313,
          13.3468175,
          12.1533687,
          12.4968797,
          12.3730474,
          12.3730747,
          12.9930272,
          12.2303935,
          11.9662371,
          11.6080863,
          11.1644408,
          11.9802356,
          11.8465522,
          11.4170506,
          11.8132834,
          10.4,
          11.4636002,
          11.9864641,
          11.7400999,
          11.8517729,
          12.6411506,
          9.4469964,
          10.1227652,
          10.6865732,
          9.9840158,
          9.2568555,
          10.7435897,
          9.056635499999999,
          10.6138943,
          9.7925675,
          10.4259498,
          9.6606645,
          9.560847599999999,
          10.3035862,
          10.3851991,
          10.3822377,
          11.0298799,
          12.0807203,
          11.5892372,
          10.6881255,
          11.3235439,
          10.1439183,
          10.7931122,
          10.4659026,
          10.8683186,
          10.4562553,
          10.7097574,
          11.1188764,
          10.7312097,
          10.9478015,
          11.5111264,
          11.1709899,
          11.3619973,
          11.89803,
          11.8074105,
          12.2021724,
          12.4366972,
          10.3146872,
          10.2325859,
          12.5683371,
          12.5683371,
          12.2570022,
          14.8668836,
          11.7214979,
          11.940432,
          10.2352908,
          9.335822799999999,
          8.6327856,
          10.0481901,
          9.4930528,
          25.013607,
          23.8740834,
          25.013607,
          25.013607,
          25.013607,
          23.8346776,
          23.6799766,
          23.7513827,
          23.6987982,
          23.8584737,
          23.429984,
          23.6469832,
          26.2777073,
          26.9714842,
          26.1310056,
          26.9798133,
          24.9139344,
          25.1442126,
          25.7101789,
          24.4919838,
          24.0180367,
          26.1359431,
          24.8877024,
          25.4058674,
          24.1469489,
          24.425739,
          22.1430215,
          22.9444191,
          22.8753674,
          22.1430215,
          22.4768287,
          23.5483819,
          23.287085,
          21.7856879,
          21.2687171,
          21.4131222,
          20.9876839,
          20.3785438,
          20.8537466,
          21.9214049,
          22.4191254,
          23.716667,
          20.8998759,
          19.9216777,
          20.773795,
          20.7069108,
          21.3798928,
          21.9522491,
          21.5706786,
          23.0965064,
          24,
          21.7137694,
          22.3337769,
          22.1430215,
          22.858217,
          22.9322383,
          21.9522491,
          -8.4103923,
          -7.556398600000001,
          -7.863880999999998,
          -8.6446202,
          -5.983257699999999,
          -3.9878427,
          -2.6983868,
          -2.2236667,
          -2.6983868,
          -1.6760691,
          -2.539603,
          -0.4078058,
          -1.1064345,
          -0.8861451,
          -3.7032905,
          -4.6812086,
          -3.689354499999999,
          -5.5718779,
          -4.5288016,
          -5.663539699999999,
          -4.108806899999999,
          -2.4790872,
          -4.722273299999999,
          -5.7467879,
          -1.860173,
          -3.927377799999999,
          -2.1374162,
          -3.16017,
          -4.0273067,
          -6.9704837,
          -6.3734664,
          2.168568,
          2.8214264,
          0.6204561,
          1.2444909,
          -0.4909444,
          -0.1494988,
          -0.3756348,
          1.4531355,
          3.0175712,
          4.1104449,
          -2.4521658,
          -6.2804565,
          -4.779275300000001,
          -3.601167599999999,
          -6.9427327,
          -3.7849699,
          -4.425557,
          -5.9844589,
          -1.1320073,
          25.5549445,
          23.5285266,
          21.4765525,
          22.148308,
          23.7895598,
          24.938379,
          22.4439369,
          24.3005498,
          25.7322496,
          27.2591176,
          28.6226138,
          27.8005015,
          27.7043601,
          30.1553887,
          24.001363,
          26.5046438,
          28.7437475,
          26.018763,
          25.748151,
          2.3513765,
          2.999366,
          1.8256572,
          2.1569416,
          2.2188068,
          2.4845729,
          2.4740337,
          2.1581351,
          2.4671908,
          1.1989814,
          1.4482662,
          0.816097,
          1.4159072,
          2.2018172,
          4.635412,
          3.5294522,
          4.486670999999999,
          3.6079823,
          6.349000999999999,
          5.6729159,
          6.1556282,
          6.920771599999999,
          -0.4330578,
          -1.3115949,
          0.0848201,
          0.9582113999999999,
          0.9748439,
          3.2642436,
          2.3244679,
          3.4417368,
          2.4146396,
          2.2707095,
          7.525293800000001,
          7.2441099,
          4.6285053,
          4.3732462,
          4.1475445,
          5.1071322,
          6.094701400000001,
          5.282399700000001,
          6.5527641,
          6.3355935,
          -1.8157647,
          -0.4877852,
          -0.620935,
          0.1655803,
          -1.4482662,
          -2.7662789,
          -3.9300525,
          -1.5300695,
          -2.9001865,
          0.7572205,
          -0.4502368,
          -0.7532808999999999,
          0.4502368,
          -0.7532808999999999,
          1.873739,
          2.0627832,
          1.4025484,
          0.1534761,
          -0.7733188,
          -0.3962844,
          4.874339,
          2.3813621,
          4.1513764,
          3.2583626,
          3.5812692,
          2.539603,
          1.443469,
          2.6189273,
          1.135302,
          0.4502368,
          1.6760691,
          0.1494988,
          1.9881527,
          1.2891036,
          3.4167655,
          2.6326062,
          3.9266366,
          3.0821043,
          5.1307681,
          4.5624426,
          5.2266675,
          5.9293476,
          1.067424858710008,
          4.6108043,
          6.472399999999999,
          6.5389621,
          6.2375947,
          6.322607199999999,
          7.179025999999999,
          5.3102505,
          6.2375947,
          5.1432068,
          8.9245343,
          9.2785583,
          16.9936575,
          17.386757,
          17.8114359,
          17.3264562,
          18.3942141,
          18.8053527,
          15.3980067,
          16.5380995,
          14.8167466,
          15.4701608,
          15.4556962,
          16.1037694,
          16.8178377,
          13.901542,
          17.5268471,
          15.981919,
          16.4213298,
          16.3360558,
          16.8334752,
          15.8809693,
          16.395491,
          19.040235,
          19.1000054,
          18.5294815,
          18.1267006,
          17.9093019,
          17.2505883,
          16.6812183,
          16.9152252,
          18.2719173,
          17.5866732,
          18.7752069,
          20.6934113,
          20.280156,
          19.0498504,
          21.5453228,
          20.5232456,
          22.00333,
          19.4272464,
          21.1289753,
          20.1436061,
          -7.215162550000001,
          -7.3055309,
          -7.3055309,
          -7.1976382,
          -8.24389,
          -6.2603097,
          -7.3055309,
          -7.3055309,
          -4.548056,
          -21.6131424,
          -19.020835,
          7.6868552,
          8.4180379,
          8.0583397,
          8.2724649,
          8.6168696,
          7.5426711,
          8.206434999999999,
          8.6116796,
          7.426186599999999,
          8.0393482,
          8.4743315,
          8.934738099999999,
          9.824082599999999,
          8.8252083,
          9.0851867,
          9.3951697,
          9.8693571,
          9.6707462,
          10.2118019,
          9.1552562,
          9.5035435,
          10.0227044,
          10.7914387,
          9.182402699999999,
          9.258801499999999,
          13.399934,
          13.6986639,
          14.2160321,
          14.1636412,
          14.234533,
          14.6617334,
          14.3312935,
          14.7826577,
          14.2681244,
          14.7898404,
          14.7743583,
          17.2689165,
          17.9418724,
          18.174966,
          15.5447402,
          16.8718715,
          16.2051484,
          15.805502,
          16.6044454,
          16.2474125,
          17.127163,
          16.5877804,
          16.0994697,
          15.6478516,
          12.5364464,
          13.3614635,
          15.5542088,
          13.5857818,
          14.0631576,
          14.2748887,
          15.0830032,
          14.7198951,
          15.2867415,
          8.5557334,
          9.3238703,
          9.1217194,
          8.5883687,
          8.9245343,
          11.3402543,
          11.1267378,
          10.9917136,
          11.5413779,
          12.2148261,
          12.2430608,
          12.3159547,
          11.8782071,
          11.7850885,
          12.6551504,
          13.2373414,
          13.6203249,
          13.7674486,
          9.6936883,
          10.3279911,
          10.6346153,
          10.9252269,
          11.3426163,
          11.6175537,
          12.2034957,
          11.9804613,
          12.5713325,
          10.0359661,
          10.5156532,
          10.906814,
          11.2576706,
          11.102228,
          10.3106087,
          10.4017581,
          11.8796215,
          11.3305812,
          11.1123865,
          12.3908279,
          12.6470618,
          12.7135121,
          13.5101741,
          13.4556559,
          13.5688168,
          13.7219535,
          12.1075465,
          12.8567824,
          12.4822025,
          12.9028558,
          13.3426709,
          9.520935000000001,
          25.2182138,
          24.1512634,
          23.9525736,
          21.4241373,
          23.1341364,
          25.0794767,
          23.1380051,
          22.357294,
          22.1113916,
          25.7904699,
          6.129582999999999,
          24.0229928,
          26.916053,
          24.1056221,
          24.603189,
          25.8768386,
          23.5533943,
          7.424615799999999,
          19.37439,
          21.745275,
          21.745275,
          21.745275,
          21.745275,
          21.745275,
          21.745275,
          21.745275,
          21.4254355,
          14.375416,
          14.339222,
          6.569171799999999,
          6.924459799999999,
          6.566501799999999,
          6.006783,
          5.48219,
          5.48219,
          6.623058599999999,
          6.623058599999999,
          6.623058599999999,
          5.9227255,
          6.5016411,
          6.7875833,
          5.8322737,
          5.950022499999999,
          5.291265999999999,
          5.8609313,
          5.4264142,
          5.1229572,
          4.894034599999999,
          4.658564999999999,
          4.6462194,
          4.8053726,
          5.291265999999999,
          4.753375399999999,
          4.8951761,
          4.3221419,
          4.217457,
          4.4802444,
          4.4937836,
          4.4937836,
          5.291265999999999,
          3.8050334,
          3.8050334,
          4.44472,
          5.2321687,
          5.2321687,
          5.2321687,
          6.0608726,
          5.99187,
          6.0608726,
          9.946462799999999,
          10.3950528,
          14.5736287,
          23.2171664,
          10.7522454,
          9.725371899999999,
          8.8817981,
          7.757197499999999,
          6.0143431,
          6.1410712,
          7.007143,
          19.9449799,
          19.9449799,
          20.9858407,
          20.6960387,
          19.9993836,
          19.2097782,
          19.4016035,
          23.1381261,
          18.5462847,
          19.145136,
          18.6673092,
          19.0237815,
          19.1268002,
          18.990102,
          16.7382266,
          18.2510729,
          16.9312766,
          22.4682282,
          16.5937545,
          16.9312766,
          14.6067449,
          16.1714908,
          14.9137558,
          14.5528116,
          15.2369305,
          15.5474593,
          17.0386019,
          15.7249659,
          16.0784291,
          16.1796128,
          17.0386019,
          17.3424977,
          17.937989,
          18.5845197,
          18.753565,
          18.2562032,
          18.3687808,
          19.0676872,
          19.5895991,
          20.4735725,
          22.3323582,
          18.5406663,
          18.6466384,
          17.0283557,
          17.7291612,
          18.3428483,
          19.4558778,
          19.4558778,
          19.7030244,
          18.7302994,
          20.1583303,
          20.7373565,
          20.3008653,
          23.1749819,
          19.145136,
          23.1011392,
          22.0546731,
          15.0030846,
          22.7785702,
          21.9991196,
          21.6790698,
          23.3148968,
          22.047289,
          22.8025066,
          21.0122287,
          20.6938283,
          20.6938283,
          15.3654099,
          20.6197948,
          19.7065364,
          21.5592554,
          22.2705817,
          20.4227517,
          -8.5721016,
          -8.373041720420288,
          -8.224454,
          -8.440357299999999,
          -8.224454,
          -8.224454,
          -5.492254831585304,
          -6.761025999999999,
          -8.3964938,
          -8.224454,
          -8.5721016,
          -8.0465185,
          -8.7921836,
          -7.9124712,
          -8.224454,
          -8.3964938,
          -7.252864499999999,
          -8.968701099999999,
          -7.800084999999998,
          -8.224454,
          -8.6600586,
          -7.6114217,
          -7.800084999999998,
          22.172266,
          24.5322814,
          23.6236353,
          23.7456285,
          22.8575926,
          23.2121901,
          23.5556121,
          25.5887252,
          26.1783452,
          25.6456696,
          24.6723215,
          24.1449997,
          26.9108498,
          26.6658127,
          27.6014418,
          26.3818764,
          26.2732302,
          27.7276468,
          27.9594714,
          26.8171122,
          28.6519359,
          28.0079945,
          28.7914439,
          27.0657531,
          24.8142726,
          27.3137439,
          25.425385,
          25.9699265,
          27.3789914,
          26.0829312,
          25.2986628,
          26.1025384,
          26.2324886,
          23.6325054,
          23.2427079,
          22.9044157,
          24.5022981,
          24.1590342,
          21.3122677,
          22.0740993,
          22.9072331,
          21.2322208,
          20.3964026,
          19.1897364,
          21.005859,
          21.005859,
          19.9993417,
          21.005859,
          21.005859,
          19.6102033,
          21.005859,
          21.5917123,
          20.4715526,
          20.2904987,
          21.005859,
          21.3450086,
          20.6150936,
          21.005859,
          20.4556424,
          20.469398,
          21.8865547,
          20.420022,
          21.9086097,
          22.1135151,
          20.9901426,
          20.4748218,
          19.8865489,
          18.8230665,
          18.1396124,
          16.7518899,
          15.5197843,
          15.0065731,
          16.2158954,
          14.3439173,
          14.5084523,
          16.5435605,
          18.6901396,
          15.3666703,
          13.5957692,
          12.893493,
          12.1360549,
          12.8472974,
          14.16401,
          15.53581,
          18.1258604,
          14.95918,
          16.5161695,
          20.3991966,
          14.995463,
          14.995463,
          15.1952451,
          14.995463,
          14.995463,
          14.995463,
          14.995463,
          14.995463,
          14.995463,
          14.2913118,
          14.995463,
          14.995463,
          17.1077477,
          17.5833218,
          18.0335209,
          18.076376,
          19.3645733,
          19.382874,
          21.2393119,
          21.0834225,
          12.457777,
          -1.212926,
          -3.435973,
          -1.559458,
          -1.584852,
          -2.0784138,
          -1.4858436,
          -1.383801,
          -2.7974835,
          -2.7974835,
          -2.2426305,
          -2.1578377,
          -2.1578377,
          -2.1578377,
          -2.1578377,
          -2.4678625,
          -3.0370485,
          -2.928,
          -2.6276908,
          -2.6276908,
          -2.632596,
          -2.6023453,
          -2.2898096,
          -2.7151117,
          -2.9240946,
          -2.9915726,
          -2.970359,
          -3.073754,
          -0.3273025,
          -0.7189977,
          -0.1263736,
          -1.0739108,
          -1.4708553,
          -1.3635009,
          -1.470085,
          -1.7563583,
          -1.5490774,
          -1.8658357,
          -1.5038596,
          -1.4746186,
          -1.4338363,
          -1.5466361,
          -1.1549892,
          -0.9030999,
          -1.0757267,
          -1.1397592,
          -3.435973,
          -1.0721487,
          -0.6337493,
          -0.1999702,
          -2.6544182,
          -2.2668382,
          -1.4675216,
          -2.4868586,
          -2.7417849,
          -2.1827408,
          -2.1045243,
          -1.8900078,
          -1.77761,
          -1.5089521,
          -2.0865972,
          -2.010793,
          -1.982919,
          -2.1256587,
          -0.2407996999999999,
          -0.0965375,
          1.0721487,
          1.2978802,
          0.4022963000000001,
          1.2294887,
          -0.4200255,
          -0.2376744,
          -0.4667687,
          -0.5275981,
          0.7077123,
          0.3529197,
          0.9424155999999999,
          0.4757762,
          0.4757762,
          0.4481378,
          -0.0890441,
          -0.1356583,
          -75.1179823,
          -0.1891356,
          -0.0553621,
          -0.0347399,
          -0.1028346,
          -0.087738,
          -0.1178424,
          0.154327,
          0.076127,
          -0.0173754,
          -0.0807119,
          0.0186804,
          -0.0956895,
          -0.300689,
          -0.1949252,
          -0.2859694,
          -0.3043136,
          -0.3421192,
          -0.3632267,
          -1.1853677,
          -0.7594171,
          -0.8127664,
          -1.2464674,
          -0.1261028,
          0.2764899,
          -0.662914,
          -0.4672517,
          -0.4159547,
          -0.4159547,
          -1.0879769,
          -1.4049018,
          -1.304734,
          -1.216844,
          -1.216844,
          -1.216844,
          0.5413719,
          0.4481378,
          0.8392470999999999,
          0.7999999999999999,
          0.189347,
          -2.6100556,
          -2.4547158,
          -2.2257856,
          -1.7798258,
          -1.9922127,
          -2.7546704,
          -1.866724,
          -2.3382346,
          -4.6524982,
          -4.1426565,
          -3.525315,
          -3.999461,
          -4.429140299999999,
          -4.042521799999999,
          -3.3371083,
          -3.9887224,
          -3.435973,
          -3.435973,
          -3.784097,
          -3.943645999999999,
          -2.8759245,
          -3.1680962,
          -3.1599793,
          -3.3736821,
          -2.7194167,
          -4.436254,
          -4.224721,
          -5.896,
          -7.0194035,
          -2.8970293,
          -1.221926,
          -2.970721,
          -3.1495175,
          -3.1338428,
          -3.188267,
          -3.7839131,
          115.8616783,
          -3.5517167,
          -4.734014,
          -4.2583345,
          -4.5428385,
          -3.9221958,
          -2.7861388,
          -3.60512,
          -4.729983400000001,
          -4.6291994,
          -3.7035077,
          -5.93012,
          -6.4563401,
          -6.052497499999999,
          -5.5984972,
          -7.385386899999999,
          -6.752254900000001,
          -6.6741288,
          -6.1703968,
          -6.1306791,
          -5.9773795,
          -7.7125018,
          21.1483281,
          20.4285021,
          21.4275888,
          20.8076084,
          20.4738762,
          21.1414226,
          20.7436495
         ],
         "marker": {
          "color": "#636efa"
         },
         "mode": "markers",
         "name": "",
         "showlegend": false,
         "subplot": "map",
         "type": "scattermap"
        }
       ],
       "layout": {
        "legend": {
         "tracegroupgap": 0
        },
        "map": {
         "center": {
          "lat": 48.70563919872298,
          "lon": 10.106395770290776
         },
         "domain": {
          "x": [
           0,
           1
          ],
          "y": [
           0,
           1
          ]
         },
         "zoom": 8
        },
        "mapbox": {
         "center": {
          "lat": 48.70563919872298,
          "lon": 10.106395770290776
         },
         "zoom": 8
        },
        "margin": {
         "t": 60
        },
        "template": {
         "data": {
          "bar": [
           {
            "error_x": {
             "color": "#2a3f5f"
            },
            "error_y": {
             "color": "#2a3f5f"
            },
            "marker": {
             "line": {
              "color": "#E5ECF6",
              "width": 0.5
             },
             "pattern": {
              "fillmode": "overlay",
              "size": 10,
              "solidity": 0.2
             }
            },
            "type": "bar"
           }
          ],
          "barpolar": [
           {
            "marker": {
             "line": {
              "color": "#E5ECF6",
              "width": 0.5
             },
             "pattern": {
              "fillmode": "overlay",
              "size": 10,
              "solidity": 0.2
             }
            },
            "type": "barpolar"
           }
          ],
          "carpet": [
           {
            "aaxis": {
             "endlinecolor": "#2a3f5f",
             "gridcolor": "white",
             "linecolor": "white",
             "minorgridcolor": "white",
             "startlinecolor": "#2a3f5f"
            },
            "baxis": {
             "endlinecolor": "#2a3f5f",
             "gridcolor": "white",
             "linecolor": "white",
             "minorgridcolor": "white",
             "startlinecolor": "#2a3f5f"
            },
            "type": "carpet"
           }
          ],
          "choropleth": [
           {
            "colorbar": {
             "outlinewidth": 0,
             "ticks": ""
            },
            "type": "choropleth"
           }
          ],
          "contour": [
           {
            "colorbar": {
             "outlinewidth": 0,
             "ticks": ""
            },
            "colorscale": [
             [
              0,
              "#0d0887"
             ],
             [
              0.1111111111111111,
              "#46039f"
             ],
             [
              0.2222222222222222,
              "#7201a8"
             ],
             [
              0.3333333333333333,
              "#9c179e"
             ],
             [
              0.4444444444444444,
              "#bd3786"
             ],
             [
              0.5555555555555556,
              "#d8576b"
             ],
             [
              0.6666666666666666,
              "#ed7953"
             ],
             [
              0.7777777777777778,
              "#fb9f3a"
             ],
             [
              0.8888888888888888,
              "#fdca26"
             ],
             [
              1,
              "#f0f921"
             ]
            ],
            "type": "contour"
           }
          ],
          "contourcarpet": [
           {
            "colorbar": {
             "outlinewidth": 0,
             "ticks": ""
            },
            "type": "contourcarpet"
           }
          ],
          "heatmap": [
           {
            "colorbar": {
             "outlinewidth": 0,
             "ticks": ""
            },
            "colorscale": [
             [
              0,
              "#0d0887"
             ],
             [
              0.1111111111111111,
              "#46039f"
             ],
             [
              0.2222222222222222,
              "#7201a8"
             ],
             [
              0.3333333333333333,
              "#9c179e"
             ],
             [
              0.4444444444444444,
              "#bd3786"
             ],
             [
              0.5555555555555556,
              "#d8576b"
             ],
             [
              0.6666666666666666,
              "#ed7953"
             ],
             [
              0.7777777777777778,
              "#fb9f3a"
             ],
             [
              0.8888888888888888,
              "#fdca26"
             ],
             [
              1,
              "#f0f921"
             ]
            ],
            "type": "heatmap"
           }
          ],
          "heatmapgl": [
           {
            "colorbar": {
             "outlinewidth": 0,
             "ticks": ""
            },
            "colorscale": [
             [
              0,
              "#0d0887"
             ],
             [
              0.1111111111111111,
              "#46039f"
             ],
             [
              0.2222222222222222,
              "#7201a8"
             ],
             [
              0.3333333333333333,
              "#9c179e"
             ],
             [
              0.4444444444444444,
              "#bd3786"
             ],
             [
              0.5555555555555556,
              "#d8576b"
             ],
             [
              0.6666666666666666,
              "#ed7953"
             ],
             [
              0.7777777777777778,
              "#fb9f3a"
             ],
             [
              0.8888888888888888,
              "#fdca26"
             ],
             [
              1,
              "#f0f921"
             ]
            ],
            "type": "heatmapgl"
           }
          ],
          "histogram": [
           {
            "marker": {
             "pattern": {
              "fillmode": "overlay",
              "size": 10,
              "solidity": 0.2
             }
            },
            "type": "histogram"
           }
          ],
          "histogram2d": [
           {
            "colorbar": {
             "outlinewidth": 0,
             "ticks": ""
            },
            "colorscale": [
             [
              0,
              "#0d0887"
             ],
             [
              0.1111111111111111,
              "#46039f"
             ],
             [
              0.2222222222222222,
              "#7201a8"
             ],
             [
              0.3333333333333333,
              "#9c179e"
             ],
             [
              0.4444444444444444,
              "#bd3786"
             ],
             [
              0.5555555555555556,
              "#d8576b"
             ],
             [
              0.6666666666666666,
              "#ed7953"
             ],
             [
              0.7777777777777778,
              "#fb9f3a"
             ],
             [
              0.8888888888888888,
              "#fdca26"
             ],
             [
              1,
              "#f0f921"
             ]
            ],
            "type": "histogram2d"
           }
          ],
          "histogram2dcontour": [
           {
            "colorbar": {
             "outlinewidth": 0,
             "ticks": ""
            },
            "colorscale": [
             [
              0,
              "#0d0887"
             ],
             [
              0.1111111111111111,
              "#46039f"
             ],
             [
              0.2222222222222222,
              "#7201a8"
             ],
             [
              0.3333333333333333,
              "#9c179e"
             ],
             [
              0.4444444444444444,
              "#bd3786"
             ],
             [
              0.5555555555555556,
              "#d8576b"
             ],
             [
              0.6666666666666666,
              "#ed7953"
             ],
             [
              0.7777777777777778,
              "#fb9f3a"
             ],
             [
              0.8888888888888888,
              "#fdca26"
             ],
             [
              1,
              "#f0f921"
             ]
            ],
            "type": "histogram2dcontour"
           }
          ],
          "mesh3d": [
           {
            "colorbar": {
             "outlinewidth": 0,
             "ticks": ""
            },
            "type": "mesh3d"
           }
          ],
          "parcoords": [
           {
            "line": {
             "colorbar": {
              "outlinewidth": 0,
              "ticks": ""
             }
            },
            "type": "parcoords"
           }
          ],
          "pie": [
           {
            "automargin": true,
            "type": "pie"
           }
          ],
          "scatter": [
           {
            "fillpattern": {
             "fillmode": "overlay",
             "size": 10,
             "solidity": 0.2
            },
            "type": "scatter"
           }
          ],
          "scatter3d": [
           {
            "line": {
             "colorbar": {
              "outlinewidth": 0,
              "ticks": ""
             }
            },
            "marker": {
             "colorbar": {
              "outlinewidth": 0,
              "ticks": ""
             }
            },
            "type": "scatter3d"
           }
          ],
          "scattercarpet": [
           {
            "marker": {
             "colorbar": {
              "outlinewidth": 0,
              "ticks": ""
             }
            },
            "type": "scattercarpet"
           }
          ],
          "scattergeo": [
           {
            "marker": {
             "colorbar": {
              "outlinewidth": 0,
              "ticks": ""
             }
            },
            "type": "scattergeo"
           }
          ],
          "scattergl": [
           {
            "marker": {
             "colorbar": {
              "outlinewidth": 0,
              "ticks": ""
             }
            },
            "type": "scattergl"
           }
          ],
          "scattermapbox": [
           {
            "marker": {
             "colorbar": {
              "outlinewidth": 0,
              "ticks": ""
             }
            },
            "type": "scattermapbox"
           }
          ],
          "scatterpolar": [
           {
            "marker": {
             "colorbar": {
              "outlinewidth": 0,
              "ticks": ""
             }
            },
            "type": "scatterpolar"
           }
          ],
          "scatterpolargl": [
           {
            "marker": {
             "colorbar": {
              "outlinewidth": 0,
              "ticks": ""
             }
            },
            "type": "scatterpolargl"
           }
          ],
          "scatterternary": [
           {
            "marker": {
             "colorbar": {
              "outlinewidth": 0,
              "ticks": ""
             }
            },
            "type": "scatterternary"
           }
          ],
          "surface": [
           {
            "colorbar": {
             "outlinewidth": 0,
             "ticks": ""
            },
            "colorscale": [
             [
              0,
              "#0d0887"
             ],
             [
              0.1111111111111111,
              "#46039f"
             ],
             [
              0.2222222222222222,
              "#7201a8"
             ],
             [
              0.3333333333333333,
              "#9c179e"
             ],
             [
              0.4444444444444444,
              "#bd3786"
             ],
             [
              0.5555555555555556,
              "#d8576b"
             ],
             [
              0.6666666666666666,
              "#ed7953"
             ],
             [
              0.7777777777777778,
              "#fb9f3a"
             ],
             [
              0.8888888888888888,
              "#fdca26"
             ],
             [
              1,
              "#f0f921"
             ]
            ],
            "type": "surface"
           }
          ],
          "table": [
           {
            "cells": {
             "fill": {
              "color": "#EBF0F8"
             },
             "line": {
              "color": "white"
             }
            },
            "header": {
             "fill": {
              "color": "#C8D4E3"
             },
             "line": {
              "color": "white"
             }
            },
            "type": "table"
           }
          ]
         },
         "layout": {
          "annotationdefaults": {
           "arrowcolor": "#2a3f5f",
           "arrowhead": 0,
           "arrowwidth": 1
          },
          "autotypenumbers": "strict",
          "coloraxis": {
           "colorbar": {
            "outlinewidth": 0,
            "ticks": ""
           }
          },
          "colorscale": {
           "diverging": [
            [
             0,
             "#8e0152"
            ],
            [
             0.1,
             "#c51b7d"
            ],
            [
             0.2,
             "#de77ae"
            ],
            [
             0.3,
             "#f1b6da"
            ],
            [
             0.4,
             "#fde0ef"
            ],
            [
             0.5,
             "#f7f7f7"
            ],
            [
             0.6,
             "#e6f5d0"
            ],
            [
             0.7,
             "#b8e186"
            ],
            [
             0.8,
             "#7fbc41"
            ],
            [
             0.9,
             "#4d9221"
            ],
            [
             1,
             "#276419"
            ]
           ],
           "sequential": [
            [
             0,
             "#0d0887"
            ],
            [
             0.1111111111111111,
             "#46039f"
            ],
            [
             0.2222222222222222,
             "#7201a8"
            ],
            [
             0.3333333333333333,
             "#9c179e"
            ],
            [
             0.4444444444444444,
             "#bd3786"
            ],
            [
             0.5555555555555556,
             "#d8576b"
            ],
            [
             0.6666666666666666,
             "#ed7953"
            ],
            [
             0.7777777777777778,
             "#fb9f3a"
            ],
            [
             0.8888888888888888,
             "#fdca26"
            ],
            [
             1,
             "#f0f921"
            ]
           ],
           "sequentialminus": [
            [
             0,
             "#0d0887"
            ],
            [
             0.1111111111111111,
             "#46039f"
            ],
            [
             0.2222222222222222,
             "#7201a8"
            ],
            [
             0.3333333333333333,
             "#9c179e"
            ],
            [
             0.4444444444444444,
             "#bd3786"
            ],
            [
             0.5555555555555556,
             "#d8576b"
            ],
            [
             0.6666666666666666,
             "#ed7953"
            ],
            [
             0.7777777777777778,
             "#fb9f3a"
            ],
            [
             0.8888888888888888,
             "#fdca26"
            ],
            [
             1,
             "#f0f921"
            ]
           ]
          },
          "colorway": [
           "#636efa",
           "#EF553B",
           "#00cc96",
           "#ab63fa",
           "#FFA15A",
           "#19d3f3",
           "#FF6692",
           "#B6E880",
           "#FF97FF",
           "#FECB52"
          ],
          "font": {
           "color": "#2a3f5f"
          },
          "geo": {
           "bgcolor": "white",
           "lakecolor": "white",
           "landcolor": "#E5ECF6",
           "showlakes": true,
           "showland": true,
           "subunitcolor": "white"
          },
          "hoverlabel": {
           "align": "left"
          },
          "hovermode": "closest",
          "mapbox": {
           "style": "light"
          },
          "paper_bgcolor": "white",
          "plot_bgcolor": "#E5ECF6",
          "polar": {
           "angularaxis": {
            "gridcolor": "white",
            "linecolor": "white",
            "ticks": ""
           },
           "bgcolor": "#E5ECF6",
           "radialaxis": {
            "gridcolor": "white",
            "linecolor": "white",
            "ticks": ""
           }
          },
          "scene": {
           "xaxis": {
            "backgroundcolor": "#E5ECF6",
            "gridcolor": "white",
            "gridwidth": 2,
            "linecolor": "white",
            "showbackground": true,
            "ticks": "",
            "zerolinecolor": "white"
           },
           "yaxis": {
            "backgroundcolor": "#E5ECF6",
            "gridcolor": "white",
            "gridwidth": 2,
            "linecolor": "white",
            "showbackground": true,
            "ticks": "",
            "zerolinecolor": "white"
           },
           "zaxis": {
            "backgroundcolor": "#E5ECF6",
            "gridcolor": "white",
            "gridwidth": 2,
            "linecolor": "white",
            "showbackground": true,
            "ticks": "",
            "zerolinecolor": "white"
           }
          },
          "shapedefaults": {
           "line": {
            "color": "#2a3f5f"
           }
          },
          "ternary": {
           "aaxis": {
            "gridcolor": "white",
            "linecolor": "white",
            "ticks": ""
           },
           "baxis": {
            "gridcolor": "white",
            "linecolor": "white",
            "ticks": ""
           },
           "bgcolor": "#E5ECF6",
           "caxis": {
            "gridcolor": "white",
            "linecolor": "white",
            "ticks": ""
           }
          },
          "title": {
           "x": 0.05
          },
          "xaxis": {
           "automargin": true,
           "gridcolor": "white",
           "linecolor": "white",
           "ticks": "",
           "title": {
            "standoff": 15
           },
           "zerolinecolor": "white",
           "zerolinewidth": 2
          },
          "yaxis": {
           "automargin": true,
           "gridcolor": "white",
           "linecolor": "white",
           "ticks": "",
           "title": {
            "standoff": 15
           },
           "zerolinecolor": "white",
           "zerolinewidth": 2
          }
         }
        }
       }
      }
     },
     "metadata": {},
     "output_type": "display_data"
    }
   ],
   "source": [
    "px.scatter_map(region_df, lat=\"Latitude\", lon=\"Longitude\", hover_name=\"Name\", hover_data=\"Code\")"
   ]
  },
  {
   "cell_type": "code",
   "execution_count": 43,
   "metadata": {},
   "outputs": [],
   "source": [
    "region_df.loc[region_df[\"Name\"] == \"Kensington & Chelsea and Hammersmith & Fulham\", ['Latitude', 'Longitude']] = 51.499399, -0.215796\n",
    "region_df.loc[region_df[\"Name\"] == \"Perth & Kinross and Stirling\", ['Latitude', 'Longitude']] = 56.208394, -3.436359"
   ]
  },
  {
   "cell_type": "code",
   "execution_count": 99,
   "metadata": {},
   "outputs": [],
   "source": [
    "# Load a global dataset of oceans/seas (Natural Earth dataset)\n",
    "coastline_gpd = gpd.read_file(\"src/worlds-coastline_808.geojson\")\n"
   ]
  },
  {
   "cell_type": "code",
   "execution_count": 100,
   "metadata": {},
   "outputs": [
    {
     "data": {
      "text/html": [
       "<div>\n",
       "<style scoped>\n",
       "    .dataframe tbody tr th:only-of-type {\n",
       "        vertical-align: middle;\n",
       "    }\n",
       "\n",
       "    .dataframe tbody tr th {\n",
       "        vertical-align: top;\n",
       "    }\n",
       "\n",
       "    .dataframe thead th {\n",
       "        text-align: right;\n",
       "    }\n",
       "</style>\n",
       "<table border=\"1\" class=\"dataframe\">\n",
       "  <thead>\n",
       "    <tr style=\"text-align: right;\">\n",
       "      <th></th>\n",
       "      <th>scalerank</th>\n",
       "      <th>featureclass</th>\n",
       "      <th>geometry</th>\n",
       "    </tr>\n",
       "  </thead>\n",
       "  <tbody>\n",
       "    <tr>\n",
       "      <th>0</th>\n",
       "      <td>0</td>\n",
       "      <td>Ocean</td>\n",
       "      <td>POLYGON ((49.11029 41.28229, 48.58447 41.8089,...</td>\n",
       "    </tr>\n",
       "    <tr>\n",
       "      <th>1</th>\n",
       "      <td>0</td>\n",
       "      <td>Ocean</td>\n",
       "      <td>POLYGON ((180 71.51571, 178.7253 71.0988, 178....</td>\n",
       "    </tr>\n",
       "  </tbody>\n",
       "</table>\n",
       "</div>"
      ],
      "text/plain": [
       "   scalerank featureclass                                           geometry\n",
       "0          0        Ocean  POLYGON ((49.11029 41.28229, 48.58447 41.8089,...\n",
       "1          0        Ocean  POLYGON ((180 71.51571, 178.7253 71.0988, 178...."
      ]
     },
     "execution_count": 100,
     "metadata": {},
     "output_type": "execute_result"
    }
   ],
   "source": [
    "coastline_gpd"
   ]
  },
  {
   "cell_type": "code",
   "execution_count": 101,
   "metadata": {},
   "outputs": [
    {
     "data": {
      "image/png": "[encoded data removed]",
      "text/plain": [
       "<Figure size 640x480 with 1 Axes>"
      ]
     },
     "metadata": {},
     "output_type": "display_data"
    }
   ],
   "source": [
    "coastline_gpd.drop(1).plot(edgecolor='black', facecolor='white')\n",
    "plt.title(\"Coastline Visualization\")\n",
    "plt.show()"
   ]
  },
  {
   "cell_type": "code",
   "execution_count": 102,
   "metadata": {},
   "outputs": [
    {
     "data": {
      "image/png": "[encoded data removed]",
      "text/plain": [
       "<Figure size 640x480 with 1 Axes>"
      ]
     },
     "metadata": {},
     "output_type": "display_data"
    }
   ],
   "source": [
    "coastline_gpd.drop(0).plot(edgecolor='black', facecolor='white')\n",
    "plt.title(\"Coastline Visualization\")\n",
    "plt.show()"
   ]
  },
  {
   "cell_type": "code",
   "execution_count": 103,
   "metadata": {},
   "outputs": [],
   "source": [
    "coastline_gpd.drop(0, inplace=True)"
   ]
  },
  {
   "cell_type": "code",
   "execution_count": 104,
   "metadata": {},
   "outputs": [],
   "source": [
    "coastline_gpd.geometry = coastline_gpd.geometry.to_crs(epsg=3035)\n",
    "coastline_geo = coastline_gpd.geometry"
   ]
  },
  {
   "cell_type": "code",
   "execution_count": 105,
   "metadata": {},
   "outputs": [
    {
     "data": {
      "image/png": "[encoded data removed]",
      "text/plain": [
       "<Figure size 640x480 with 1 Axes>"
      ]
     },
     "metadata": {},
     "output_type": "display_data"
    }
   ],
   "source": [
    "coastline_gpd.plot(edgecolor='black', facecolor='white')\n",
    "plt.title(\"Coastline Visualization\")\n",
    "plt.show()"
   ]
  },
  {
   "cell_type": "code",
   "execution_count": 106,
   "metadata": {},
   "outputs": [
    {
     "name": "stdout",
     "output_type": "stream",
     "text": [
      "Closest Ocean/Sea: 1    POINT (3703258.087 3038204.321)\n",
      "dtype: geometry\n"
     ]
    },
    {
     "name": "stderr",
     "output_type": "stream",
     "text": [
      "c:\\Users\\ad98\\anaconda3\\Lib\\site-packages\\shapely\\linear.py:88: RuntimeWarning: invalid value encountered in line_locate_point\n",
      "  return lib.line_locate_point(line, other)\n"
     ]
    }
   ],
   "source": [
    "# Define the input location (lat, lon)\n",
    "lat, lon = 48.858844, 2.294351  # Example: Eiffel Tower, France\n",
    "point = Point(lon, lat)\n",
    "point = gpd.GeoSeries([point], crs='EPSG:4326').to_crs(epsg=3035).iloc[0]\n",
    "# Find the closest ocean/sea\n",
    "a = coastline_geo.exterior.interpolate(coastline_geo.exterior.project(point))\n",
    "\n",
    "print(f\"Closest Ocean/Sea: {a}\")"
   ]
  },
  {
   "cell_type": "code",
   "execution_count": null,
   "metadata": {},
   "outputs": [
    {
     "data": {
      "image/png": "[encoded data removed]",
      "text/plain": [
       "<Figure size 640x480 with 1 Axes>"
      ]
     },
     "metadata": {},
     "output_type": "display_data"
    }
   ],
   "source": [
    "ax = coastline_gpd.plot(edgecolor='black', facecolor='white')\n",
    "\n",
    "# Plot the point on top of the coastline\n",
    "plt.plot(point.x, point.y, color='red', marker='o', markersize=3, label='Eiffel Tower')\n",
    "closest_coastline_point = a.iloc[0]\n",
    "plt.plot(closest_coastline_point.x, closest_coastline_point.y, color='blue', marker='o', markersize=3, label='Closest coastline point')\n",
    "\n",
    "plt.legend()\n",
    "\n",
    "plt.title(\"Coastline with Added Point\")\n",
    "plt.xlabel(\"Longitude\")\n",
    "plt.ylabel(\"Latitude\")\n",
    "plt.show()"
   ]
  },
  {
   "cell_type": "code",
   "execution_count": 109,
   "metadata": {},
   "outputs": [
    {
     "name": "stderr",
     "output_type": "stream",
     "text": [
      "c:\\Users\\ad98\\anaconda3\\Lib\\site-packages\\shapely\\linear.py:88: RuntimeWarning: invalid value encountered in line_locate_point\n",
      "  return lib.line_locate_point(line, other)\n",
      "c:\\Users\\ad98\\anaconda3\\Lib\\site-packages\\shapely\\linear.py:88: RuntimeWarning: invalid value encountered in line_locate_point\n",
      "  return lib.line_locate_point(line, other)\n",
      "c:\\Users\\ad98\\anaconda3\\Lib\\site-packages\\shapely\\linear.py:88: RuntimeWarning: invalid value encountered in line_locate_point\n",
      "  return lib.line_locate_point(line, other)\n",
      "c:\\Users\\ad98\\anaconda3\\Lib\\site-packages\\shapely\\linear.py:88: RuntimeWarning: invalid value encountered in line_locate_point\n",
      "  return lib.line_locate_point(line, other)\n",
      "c:\\Users\\ad98\\anaconda3\\Lib\\site-packages\\shapely\\linear.py:88: RuntimeWarning: invalid value encountered in line_locate_point\n",
      "  return lib.line_locate_point(line, other)\n",
      "c:\\Users\\ad98\\anaconda3\\Lib\\site-packages\\shapely\\linear.py:88: RuntimeWarning: invalid value encountered in line_locate_point\n",
      "  return lib.line_locate_point(line, other)\n",
      "c:\\Users\\ad98\\anaconda3\\Lib\\site-packages\\shapely\\linear.py:88: RuntimeWarning: invalid value encountered in line_locate_point\n",
      "  return lib.line_locate_point(line, other)\n",
      "c:\\Users\\ad98\\anaconda3\\Lib\\site-packages\\shapely\\linear.py:88: RuntimeWarning: invalid value encountered in line_locate_point\n",
      "  return lib.line_locate_point(line, other)\n",
      "c:\\Users\\ad98\\anaconda3\\Lib\\site-packages\\shapely\\linear.py:88: RuntimeWarning: invalid value encountered in line_locate_point\n",
      "  return lib.line_locate_point(line, other)\n",
      "c:\\Users\\ad98\\anaconda3\\Lib\\site-packages\\shapely\\linear.py:88: RuntimeWarning: invalid value encountered in line_locate_point\n",
      "  return lib.line_locate_point(line, other)\n",
      "c:\\Users\\ad98\\anaconda3\\Lib\\site-packages\\shapely\\linear.py:88: RuntimeWarning: invalid value encountered in line_locate_point\n",
      "  return lib.line_locate_point(line, other)\n",
      "c:\\Users\\ad98\\anaconda3\\Lib\\site-packages\\shapely\\linear.py:88: RuntimeWarning: invalid value encountered in line_locate_point\n",
      "  return lib.line_locate_point(line, other)\n",
      "c:\\Users\\ad98\\anaconda3\\Lib\\site-packages\\shapely\\linear.py:88: RuntimeWarning: invalid value encountered in line_locate_point\n",
      "  return lib.line_locate_point(line, other)\n",
      "c:\\Users\\ad98\\anaconda3\\Lib\\site-packages\\shapely\\linear.py:88: RuntimeWarning: invalid value encountered in line_locate_point\n",
      "  return lib.line_locate_point(line, other)\n",
      "c:\\Users\\ad98\\anaconda3\\Lib\\site-packages\\shapely\\linear.py:88: RuntimeWarning: invalid value encountered in line_locate_point\n",
      "  return lib.line_locate_point(line, other)\n",
      "c:\\Users\\ad98\\anaconda3\\Lib\\site-packages\\shapely\\linear.py:88: RuntimeWarning: invalid value encountered in line_locate_point\n",
      "  return lib.line_locate_point(line, other)\n",
      "c:\\Users\\ad98\\anaconda3\\Lib\\site-packages\\shapely\\linear.py:88: RuntimeWarning: invalid value encountered in line_locate_point\n",
      "  return lib.line_locate_point(line, other)\n",
      "c:\\Users\\ad98\\anaconda3\\Lib\\site-packages\\shapely\\linear.py:88: RuntimeWarning: invalid value encountered in line_locate_point\n",
      "  return lib.line_locate_point(line, other)\n",
      "c:\\Users\\ad98\\anaconda3\\Lib\\site-packages\\shapely\\linear.py:88: RuntimeWarning: invalid value encountered in line_locate_point\n",
      "  return lib.line_locate_point(line, other)\n",
      "c:\\Users\\ad98\\anaconda3\\Lib\\site-packages\\shapely\\linear.py:88: RuntimeWarning: invalid value encountered in line_locate_point\n",
      "  return lib.line_locate_point(line, other)\n",
      "c:\\Users\\ad98\\anaconda3\\Lib\\site-packages\\shapely\\linear.py:88: RuntimeWarning: invalid value encountered in line_locate_point\n",
      "  return lib.line_locate_point(line, other)\n",
      "c:\\Users\\ad98\\anaconda3\\Lib\\site-packages\\shapely\\linear.py:88: RuntimeWarning: invalid value encountered in line_locate_point\n",
      "  return lib.line_locate_point(line, other)\n",
      "c:\\Users\\ad98\\anaconda3\\Lib\\site-packages\\shapely\\linear.py:88: RuntimeWarning: invalid value encountered in line_locate_point\n",
      "  return lib.line_locate_point(line, other)\n",
      "c:\\Users\\ad98\\anaconda3\\Lib\\site-packages\\shapely\\linear.py:88: RuntimeWarning: invalid value encountered in line_locate_point\n",
      "  return lib.line_locate_point(line, other)\n",
      "c:\\Users\\ad98\\anaconda3\\Lib\\site-packages\\shapely\\linear.py:88: RuntimeWarning: invalid value encountered in line_locate_point\n",
      "  return lib.line_locate_point(line, other)\n",
      "c:\\Users\\ad98\\anaconda3\\Lib\\site-packages\\shapely\\linear.py:88: RuntimeWarning: invalid value encountered in line_locate_point\n",
      "  return lib.line_locate_point(line, other)\n",
      "c:\\Users\\ad98\\anaconda3\\Lib\\site-packages\\shapely\\linear.py:88: RuntimeWarning: invalid value encountered in line_locate_point\n",
      "  return lib.line_locate_point(line, other)\n",
      "c:\\Users\\ad98\\anaconda3\\Lib\\site-packages\\shapely\\linear.py:88: RuntimeWarning: invalid value encountered in line_locate_point\n",
      "  return lib.line_locate_point(line, other)\n",
      "c:\\Users\\ad98\\anaconda3\\Lib\\site-packages\\shapely\\linear.py:88: RuntimeWarning: invalid value encountered in line_locate_point\n",
      "  return lib.line_locate_point(line, other)\n",
      "c:\\Users\\ad98\\anaconda3\\Lib\\site-packages\\shapely\\linear.py:88: RuntimeWarning: invalid value encountered in line_locate_point\n",
      "  return lib.line_locate_point(line, other)\n",
      "c:\\Users\\ad98\\anaconda3\\Lib\\site-packages\\shapely\\linear.py:88: RuntimeWarning: invalid value encountered in line_locate_point\n",
      "  return lib.line_locate_point(line, other)\n",
      "c:\\Users\\ad98\\anaconda3\\Lib\\site-packages\\shapely\\linear.py:88: RuntimeWarning: invalid value encountered in line_locate_point\n",
      "  return lib.line_locate_point(line, other)\n",
      "c:\\Users\\ad98\\anaconda3\\Lib\\site-packages\\shapely\\linear.py:88: RuntimeWarning: invalid value encountered in line_locate_point\n",
      "  return lib.line_locate_point(line, other)\n",
      "c:\\Users\\ad98\\anaconda3\\Lib\\site-packages\\shapely\\linear.py:88: RuntimeWarning: invalid value encountered in line_locate_point\n",
      "  return lib.line_locate_point(line, other)\n",
      "c:\\Users\\ad98\\anaconda3\\Lib\\site-packages\\shapely\\linear.py:88: RuntimeWarning: invalid value encountered in line_locate_point\n",
      "  return lib.line_locate_point(line, other)\n",
      "c:\\Users\\ad98\\anaconda3\\Lib\\site-packages\\shapely\\linear.py:88: RuntimeWarning: invalid value encountered in line_locate_point\n",
      "  return lib.line_locate_point(line, other)\n",
      "c:\\Users\\ad98\\anaconda3\\Lib\\site-packages\\shapely\\linear.py:88: RuntimeWarning: invalid value encountered in line_locate_point\n",
      "  return lib.line_locate_point(line, other)\n",
      "c:\\Users\\ad98\\anaconda3\\Lib\\site-packages\\shapely\\linear.py:88: RuntimeWarning: invalid value encountered in line_locate_point\n",
      "  return lib.line_locate_point(line, other)\n",
      "c:\\Users\\ad98\\anaconda3\\Lib\\site-packages\\shapely\\linear.py:88: RuntimeWarning: invalid value encountered in line_locate_point\n",
      "  return lib.line_locate_point(line, other)\n",
      "c:\\Users\\ad98\\anaconda3\\Lib\\site-packages\\shapely\\linear.py:88: RuntimeWarning: invalid value encountered in line_locate_point\n",
      "  return lib.line_locate_point(line, other)\n",
      "c:\\Users\\ad98\\anaconda3\\Lib\\site-packages\\shapely\\linear.py:88: RuntimeWarning: invalid value encountered in line_locate_point\n",
      "  return lib.line_locate_point(line, other)\n",
      "c:\\Users\\ad98\\anaconda3\\Lib\\site-packages\\shapely\\linear.py:88: RuntimeWarning: invalid value encountered in line_locate_point\n",
      "  return lib.line_locate_point(line, other)\n",
      "c:\\Users\\ad98\\anaconda3\\Lib\\site-packages\\shapely\\linear.py:88: RuntimeWarning: invalid value encountered in line_locate_point\n",
      "  return lib.line_locate_point(line, other)\n",
      "c:\\Users\\ad98\\anaconda3\\Lib\\site-packages\\shapely\\linear.py:88: RuntimeWarning: invalid value encountered in line_locate_point\n",
      "  return lib.line_locate_point(line, other)\n",
      "c:\\Users\\ad98\\anaconda3\\Lib\\site-packages\\shapely\\linear.py:88: RuntimeWarning: invalid value encountered in line_locate_point\n",
      "  return lib.line_locate_point(line, other)\n",
      "c:\\Users\\ad98\\anaconda3\\Lib\\site-packages\\shapely\\linear.py:88: RuntimeWarning: invalid value encountered in line_locate_point\n",
      "  return lib.line_locate_point(line, other)\n",
      "c:\\Users\\ad98\\anaconda3\\Lib\\site-packages\\shapely\\linear.py:88: RuntimeWarning: invalid value encountered in line_locate_point\n",
      "  return lib.line_locate_point(line, other)\n",
      "c:\\Users\\ad98\\anaconda3\\Lib\\site-packages\\shapely\\linear.py:88: RuntimeWarning: invalid value encountered in line_locate_point\n",
      "  return lib.line_locate_point(line, other)\n",
      "c:\\Users\\ad98\\anaconda3\\Lib\\site-packages\\shapely\\linear.py:88: RuntimeWarning: invalid value encountered in line_locate_point\n",
      "  return lib.line_locate_point(line, other)\n",
      "c:\\Users\\ad98\\anaconda3\\Lib\\site-packages\\shapely\\linear.py:88: RuntimeWarning: invalid value encountered in line_locate_point\n",
      "  return lib.line_locate_point(line, other)\n",
      "c:\\Users\\ad98\\anaconda3\\Lib\\site-packages\\shapely\\linear.py:88: RuntimeWarning: invalid value encountered in line_locate_point\n",
      "  return lib.line_locate_point(line, other)\n",
      "c:\\Users\\ad98\\anaconda3\\Lib\\site-packages\\shapely\\linear.py:88: RuntimeWarning: invalid value encountered in line_locate_point\n",
      "  return lib.line_locate_point(line, other)\n",
      "c:\\Users\\ad98\\anaconda3\\Lib\\site-packages\\shapely\\linear.py:88: RuntimeWarning: invalid value encountered in line_locate_point\n",
      "  return lib.line_locate_point(line, other)\n",
      "c:\\Users\\ad98\\anaconda3\\Lib\\site-packages\\shapely\\linear.py:88: RuntimeWarning: invalid value encountered in line_locate_point\n",
      "  return lib.line_locate_point(line, other)\n",
      "c:\\Users\\ad98\\anaconda3\\Lib\\site-packages\\shapely\\linear.py:88: RuntimeWarning: invalid value encountered in line_locate_point\n",
      "  return lib.line_locate_point(line, other)\n",
      "c:\\Users\\ad98\\anaconda3\\Lib\\site-packages\\shapely\\linear.py:88: RuntimeWarning: invalid value encountered in line_locate_point\n",
      "  return lib.line_locate_point(line, other)\n",
      "c:\\Users\\ad98\\anaconda3\\Lib\\site-packages\\shapely\\linear.py:88: RuntimeWarning: invalid value encountered in line_locate_point\n",
      "  return lib.line_locate_point(line, other)\n",
      "c:\\Users\\ad98\\anaconda3\\Lib\\site-packages\\shapely\\linear.py:88: RuntimeWarning: invalid value encountered in line_locate_point\n",
      "  return lib.line_locate_point(line, other)\n",
      "c:\\Users\\ad98\\anaconda3\\Lib\\site-packages\\shapely\\linear.py:88: RuntimeWarning: invalid value encountered in line_locate_point\n",
      "  return lib.line_locate_point(line, other)\n",
      "c:\\Users\\ad98\\anaconda3\\Lib\\site-packages\\shapely\\linear.py:88: RuntimeWarning: invalid value encountered in line_locate_point\n",
      "  return lib.line_locate_point(line, other)\n",
      "c:\\Users\\ad98\\anaconda3\\Lib\\site-packages\\shapely\\linear.py:88: RuntimeWarning: invalid value encountered in line_locate_point\n",
      "  return lib.line_locate_point(line, other)\n",
      "c:\\Users\\ad98\\anaconda3\\Lib\\site-packages\\shapely\\linear.py:88: RuntimeWarning: invalid value encountered in line_locate_point\n",
      "  return lib.line_locate_point(line, other)\n",
      "c:\\Users\\ad98\\anaconda3\\Lib\\site-packages\\shapely\\linear.py:88: RuntimeWarning: invalid value encountered in line_locate_point\n",
      "  return lib.line_locate_point(line, other)\n",
      "c:\\Users\\ad98\\anaconda3\\Lib\\site-packages\\shapely\\linear.py:88: RuntimeWarning: invalid value encountered in line_locate_point\n",
      "  return lib.line_locate_point(line, other)\n",
      "c:\\Users\\ad98\\anaconda3\\Lib\\site-packages\\shapely\\linear.py:88: RuntimeWarning: invalid value encountered in line_locate_point\n",
      "  return lib.line_locate_point(line, other)\n",
      "c:\\Users\\ad98\\anaconda3\\Lib\\site-packages\\shapely\\linear.py:88: RuntimeWarning: invalid value encountered in line_locate_point\n",
      "  return lib.line_locate_point(line, other)\n",
      "c:\\Users\\ad98\\anaconda3\\Lib\\site-packages\\shapely\\linear.py:88: RuntimeWarning: invalid value encountered in line_locate_point\n",
      "  return lib.line_locate_point(line, other)\n",
      "c:\\Users\\ad98\\anaconda3\\Lib\\site-packages\\shapely\\linear.py:88: RuntimeWarning: invalid value encountered in line_locate_point\n",
      "  return lib.line_locate_point(line, other)\n",
      "c:\\Users\\ad98\\anaconda3\\Lib\\site-packages\\shapely\\linear.py:88: RuntimeWarning: invalid value encountered in line_locate_point\n",
      "  return lib.line_locate_point(line, other)\n",
      "c:\\Users\\ad98\\anaconda3\\Lib\\site-packages\\shapely\\linear.py:88: RuntimeWarning: invalid value encountered in line_locate_point\n",
      "  return lib.line_locate_point(line, other)\n",
      "c:\\Users\\ad98\\anaconda3\\Lib\\site-packages\\shapely\\linear.py:88: RuntimeWarning: invalid value encountered in line_locate_point\n",
      "  return lib.line_locate_point(line, other)\n",
      "c:\\Users\\ad98\\anaconda3\\Lib\\site-packages\\shapely\\linear.py:88: RuntimeWarning: invalid value encountered in line_locate_point\n",
      "  return lib.line_locate_point(line, other)\n",
      "c:\\Users\\ad98\\anaconda3\\Lib\\site-packages\\shapely\\linear.py:88: RuntimeWarning: invalid value encountered in line_locate_point\n",
      "  return lib.line_locate_point(line, other)\n",
      "c:\\Users\\ad98\\anaconda3\\Lib\\site-packages\\shapely\\linear.py:88: RuntimeWarning: invalid value encountered in line_locate_point\n",
      "  return lib.line_locate_point(line, other)\n",
      "c:\\Users\\ad98\\anaconda3\\Lib\\site-packages\\shapely\\linear.py:88: RuntimeWarning: invalid value encountered in line_locate_point\n",
      "  return lib.line_locate_point(line, other)\n",
      "c:\\Users\\ad98\\anaconda3\\Lib\\site-packages\\shapely\\linear.py:88: RuntimeWarning: invalid value encountered in line_locate_point\n",
      "  return lib.line_locate_point(line, other)\n",
      "c:\\Users\\ad98\\anaconda3\\Lib\\site-packages\\shapely\\linear.py:88: RuntimeWarning: invalid value encountered in line_locate_point\n",
      "  return lib.line_locate_point(line, other)\n",
      "c:\\Users\\ad98\\anaconda3\\Lib\\site-packages\\shapely\\linear.py:88: RuntimeWarning: invalid value encountered in line_locate_point\n",
      "  return lib.line_locate_point(line, other)\n",
      "c:\\Users\\ad98\\anaconda3\\Lib\\site-packages\\shapely\\linear.py:88: RuntimeWarning: invalid value encountered in line_locate_point\n",
      "  return lib.line_locate_point(line, other)\n",
      "c:\\Users\\ad98\\anaconda3\\Lib\\site-packages\\shapely\\linear.py:88: RuntimeWarning: invalid value encountered in line_locate_point\n",
      "  return lib.line_locate_point(line, other)\n",
      "c:\\Users\\ad98\\anaconda3\\Lib\\site-packages\\shapely\\linear.py:88: RuntimeWarning: invalid value encountered in line_locate_point\n",
      "  return lib.line_locate_point(line, other)\n",
      "c:\\Users\\ad98\\anaconda3\\Lib\\site-packages\\shapely\\linear.py:88: RuntimeWarning: invalid value encountered in line_locate_point\n",
      "  return lib.line_locate_point(line, other)\n",
      "c:\\Users\\ad98\\anaconda3\\Lib\\site-packages\\shapely\\linear.py:88: RuntimeWarning: invalid value encountered in line_locate_point\n",
      "  return lib.line_locate_point(line, other)\n",
      "c:\\Users\\ad98\\anaconda3\\Lib\\site-packages\\shapely\\linear.py:88: RuntimeWarning: invalid value encountered in line_locate_point\n",
      "  return lib.line_locate_point(line, other)\n",
      "c:\\Users\\ad98\\anaconda3\\Lib\\site-packages\\shapely\\linear.py:88: RuntimeWarning: invalid value encountered in line_locate_point\n",
      "  return lib.line_locate_point(line, other)\n",
      "c:\\Users\\ad98\\anaconda3\\Lib\\site-packages\\shapely\\linear.py:88: RuntimeWarning: invalid value encountered in line_locate_point\n",
      "  return lib.line_locate_point(line, other)\n",
      "c:\\Users\\ad98\\anaconda3\\Lib\\site-packages\\shapely\\linear.py:88: RuntimeWarning: invalid value encountered in line_locate_point\n",
      "  return lib.line_locate_point(line, other)\n",
      "c:\\Users\\ad98\\anaconda3\\Lib\\site-packages\\shapely\\linear.py:88: RuntimeWarning: invalid value encountered in line_locate_point\n",
      "  return lib.line_locate_point(line, other)\n",
      "c:\\Users\\ad98\\anaconda3\\Lib\\site-packages\\shapely\\linear.py:88: RuntimeWarning: invalid value encountered in line_locate_point\n",
      "  return lib.line_locate_point(line, other)\n",
      "c:\\Users\\ad98\\anaconda3\\Lib\\site-packages\\shapely\\linear.py:88: RuntimeWarning: invalid value encountered in line_locate_point\n",
      "  return lib.line_locate_point(line, other)\n",
      "c:\\Users\\ad98\\anaconda3\\Lib\\site-packages\\shapely\\linear.py:88: RuntimeWarning: invalid value encountered in line_locate_point\n",
      "  return lib.line_locate_point(line, other)\n",
      "c:\\Users\\ad98\\anaconda3\\Lib\\site-packages\\shapely\\linear.py:88: RuntimeWarning: invalid value encountered in line_locate_point\n",
      "  return lib.line_locate_point(line, other)\n",
      "c:\\Users\\ad98\\anaconda3\\Lib\\site-packages\\shapely\\linear.py:88: RuntimeWarning: invalid value encountered in line_locate_point\n",
      "  return lib.line_locate_point(line, other)\n",
      "c:\\Users\\ad98\\anaconda3\\Lib\\site-packages\\shapely\\linear.py:88: RuntimeWarning: invalid value encountered in line_locate_point\n",
      "  return lib.line_locate_point(line, other)\n",
      "c:\\Users\\ad98\\anaconda3\\Lib\\site-packages\\shapely\\linear.py:88: RuntimeWarning: invalid value encountered in line_locate_point\n",
      "  return lib.line_locate_point(line, other)\n",
      "c:\\Users\\ad98\\anaconda3\\Lib\\site-packages\\shapely\\linear.py:88: RuntimeWarning: invalid value encountered in line_locate_point\n",
      "  return lib.line_locate_point(line, other)\n",
      "c:\\Users\\ad98\\anaconda3\\Lib\\site-packages\\shapely\\linear.py:88: RuntimeWarning: invalid value encountered in line_locate_point\n",
      "  return lib.line_locate_point(line, other)\n",
      "c:\\Users\\ad98\\anaconda3\\Lib\\site-packages\\shapely\\linear.py:88: RuntimeWarning: invalid value encountered in line_locate_point\n",
      "  return lib.line_locate_point(line, other)\n",
      "c:\\Users\\ad98\\anaconda3\\Lib\\site-packages\\shapely\\linear.py:88: RuntimeWarning: invalid value encountered in line_locate_point\n",
      "  return lib.line_locate_point(line, other)\n",
      "c:\\Users\\ad98\\anaconda3\\Lib\\site-packages\\shapely\\linear.py:88: RuntimeWarning: invalid value encountered in line_locate_point\n",
      "  return lib.line_locate_point(line, other)\n",
      "c:\\Users\\ad98\\anaconda3\\Lib\\site-packages\\shapely\\linear.py:88: RuntimeWarning: invalid value encountered in line_locate_point\n",
      "  return lib.line_locate_point(line, other)\n",
      "c:\\Users\\ad98\\anaconda3\\Lib\\site-packages\\shapely\\linear.py:88: RuntimeWarning: invalid value encountered in line_locate_point\n",
      "  return lib.line_locate_point(line, other)\n",
      "c:\\Users\\ad98\\anaconda3\\Lib\\site-packages\\shapely\\linear.py:88: RuntimeWarning: invalid value encountered in line_locate_point\n",
      "  return lib.line_locate_point(line, other)\n",
      "c:\\Users\\ad98\\anaconda3\\Lib\\site-packages\\shapely\\linear.py:88: RuntimeWarning: invalid value encountered in line_locate_point\n",
      "  return lib.line_locate_point(line, other)\n",
      "c:\\Users\\ad98\\anaconda3\\Lib\\site-packages\\shapely\\linear.py:88: RuntimeWarning: invalid value encountered in line_locate_point\n",
      "  return lib.line_locate_point(line, other)\n",
      "c:\\Users\\ad98\\anaconda3\\Lib\\site-packages\\shapely\\linear.py:88: RuntimeWarning: invalid value encountered in line_locate_point\n",
      "  return lib.line_locate_point(line, other)\n",
      "c:\\Users\\ad98\\anaconda3\\Lib\\site-packages\\shapely\\linear.py:88: RuntimeWarning: invalid value encountered in line_locate_point\n",
      "  return lib.line_locate_point(line, other)\n",
      "c:\\Users\\ad98\\anaconda3\\Lib\\site-packages\\shapely\\linear.py:88: RuntimeWarning: invalid value encountered in line_locate_point\n",
      "  return lib.line_locate_point(line, other)\n",
      "c:\\Users\\ad98\\anaconda3\\Lib\\site-packages\\shapely\\linear.py:88: RuntimeWarning: invalid value encountered in line_locate_point\n",
      "  return lib.line_locate_point(line, other)\n",
      "c:\\Users\\ad98\\anaconda3\\Lib\\site-packages\\shapely\\linear.py:88: RuntimeWarning: invalid value encountered in line_locate_point\n",
      "  return lib.line_locate_point(line, other)\n",
      "c:\\Users\\ad98\\anaconda3\\Lib\\site-packages\\shapely\\linear.py:88: RuntimeWarning: invalid value encountered in line_locate_point\n",
      "  return lib.line_locate_point(line, other)\n",
      "c:\\Users\\ad98\\anaconda3\\Lib\\site-packages\\shapely\\linear.py:88: RuntimeWarning: invalid value encountered in line_locate_point\n",
      "  return lib.line_locate_point(line, other)\n",
      "c:\\Users\\ad98\\anaconda3\\Lib\\site-packages\\shapely\\linear.py:88: RuntimeWarning: invalid value encountered in line_locate_point\n",
      "  return lib.line_locate_point(line, other)\n",
      "c:\\Users\\ad98\\anaconda3\\Lib\\site-packages\\shapely\\linear.py:88: RuntimeWarning: invalid value encountered in line_locate_point\n",
      "  return lib.line_locate_point(line, other)\n",
      "c:\\Users\\ad98\\anaconda3\\Lib\\site-packages\\shapely\\linear.py:88: RuntimeWarning: invalid value encountered in line_locate_point\n",
      "  return lib.line_locate_point(line, other)\n",
      "c:\\Users\\ad98\\anaconda3\\Lib\\site-packages\\shapely\\linear.py:88: RuntimeWarning: invalid value encountered in line_locate_point\n",
      "  return lib.line_locate_point(line, other)\n",
      "c:\\Users\\ad98\\anaconda3\\Lib\\site-packages\\shapely\\linear.py:88: RuntimeWarning: invalid value encountered in line_locate_point\n",
      "  return lib.line_locate_point(line, other)\n",
      "c:\\Users\\ad98\\anaconda3\\Lib\\site-packages\\shapely\\linear.py:88: RuntimeWarning: invalid value encountered in line_locate_point\n",
      "  return lib.line_locate_point(line, other)\n",
      "c:\\Users\\ad98\\anaconda3\\Lib\\site-packages\\shapely\\linear.py:88: RuntimeWarning: invalid value encountered in line_locate_point\n",
      "  return lib.line_locate_point(line, other)\n",
      "c:\\Users\\ad98\\anaconda3\\Lib\\site-packages\\shapely\\linear.py:88: RuntimeWarning: invalid value encountered in line_locate_point\n",
      "  return lib.line_locate_point(line, other)\n",
      "c:\\Users\\ad98\\anaconda3\\Lib\\site-packages\\shapely\\linear.py:88: RuntimeWarning: invalid value encountered in line_locate_point\n",
      "  return lib.line_locate_point(line, other)\n",
      "c:\\Users\\ad98\\anaconda3\\Lib\\site-packages\\shapely\\linear.py:88: RuntimeWarning: invalid value encountered in line_locate_point\n",
      "  return lib.line_locate_point(line, other)\n",
      "c:\\Users\\ad98\\anaconda3\\Lib\\site-packages\\shapely\\linear.py:88: RuntimeWarning: invalid value encountered in line_locate_point\n",
      "  return lib.line_locate_point(line, other)\n",
      "c:\\Users\\ad98\\anaconda3\\Lib\\site-packages\\shapely\\linear.py:88: RuntimeWarning: invalid value encountered in line_locate_point\n",
      "  return lib.line_locate_point(line, other)\n",
      "c:\\Users\\ad98\\anaconda3\\Lib\\site-packages\\shapely\\linear.py:88: RuntimeWarning: invalid value encountered in line_locate_point\n",
      "  return lib.line_locate_point(line, other)\n",
      "c:\\Users\\ad98\\anaconda3\\Lib\\site-packages\\shapely\\linear.py:88: RuntimeWarning: invalid value encountered in line_locate_point\n",
      "  return lib.line_locate_point(line, other)\n",
      "c:\\Users\\ad98\\anaconda3\\Lib\\site-packages\\shapely\\linear.py:88: RuntimeWarning: invalid value encountered in line_locate_point\n",
      "  return lib.line_locate_point(line, other)\n",
      "c:\\Users\\ad98\\anaconda3\\Lib\\site-packages\\shapely\\linear.py:88: RuntimeWarning: invalid value encountered in line_locate_point\n",
      "  return lib.line_locate_point(line, other)\n",
      "c:\\Users\\ad98\\anaconda3\\Lib\\site-packages\\shapely\\linear.py:88: RuntimeWarning: invalid value encountered in line_locate_point\n",
      "  return lib.line_locate_point(line, other)\n",
      "c:\\Users\\ad98\\anaconda3\\Lib\\site-packages\\shapely\\linear.py:88: RuntimeWarning: invalid value encountered in line_locate_point\n",
      "  return lib.line_locate_point(line, other)\n",
      "c:\\Users\\ad98\\anaconda3\\Lib\\site-packages\\shapely\\linear.py:88: RuntimeWarning: invalid value encountered in line_locate_point\n",
      "  return lib.line_locate_point(line, other)\n",
      "c:\\Users\\ad98\\anaconda3\\Lib\\site-packages\\shapely\\linear.py:88: RuntimeWarning: invalid value encountered in line_locate_point\n",
      "  return lib.line_locate_point(line, other)\n",
      "c:\\Users\\ad98\\anaconda3\\Lib\\site-packages\\shapely\\linear.py:88: RuntimeWarning: invalid value encountered in line_locate_point\n",
      "  return lib.line_locate_point(line, other)\n",
      "c:\\Users\\ad98\\anaconda3\\Lib\\site-packages\\shapely\\linear.py:88: RuntimeWarning: invalid value encountered in line_locate_point\n",
      "  return lib.line_locate_point(line, other)\n",
      "c:\\Users\\ad98\\anaconda3\\Lib\\site-packages\\shapely\\linear.py:88: RuntimeWarning: invalid value encountered in line_locate_point\n",
      "  return lib.line_locate_point(line, other)\n",
      "c:\\Users\\ad98\\anaconda3\\Lib\\site-packages\\shapely\\linear.py:88: RuntimeWarning: invalid value encountered in line_locate_point\n",
      "  return lib.line_locate_point(line, other)\n",
      "c:\\Users\\ad98\\anaconda3\\Lib\\site-packages\\shapely\\linear.py:88: RuntimeWarning: invalid value encountered in line_locate_point\n",
      "  return lib.line_locate_point(line, other)\n",
      "c:\\Users\\ad98\\anaconda3\\Lib\\site-packages\\shapely\\linear.py:88: RuntimeWarning: invalid value encountered in line_locate_point\n",
      "  return lib.line_locate_point(line, other)\n",
      "c:\\Users\\ad98\\anaconda3\\Lib\\site-packages\\shapely\\linear.py:88: RuntimeWarning: invalid value encountered in line_locate_point\n",
      "  return lib.line_locate_point(line, other)\n",
      "c:\\Users\\ad98\\anaconda3\\Lib\\site-packages\\shapely\\linear.py:88: RuntimeWarning: invalid value encountered in line_locate_point\n",
      "  return lib.line_locate_point(line, other)\n",
      "c:\\Users\\ad98\\anaconda3\\Lib\\site-packages\\shapely\\linear.py:88: RuntimeWarning: invalid value encountered in line_locate_point\n",
      "  return lib.line_locate_point(line, other)\n",
      "c:\\Users\\ad98\\anaconda3\\Lib\\site-packages\\shapely\\linear.py:88: RuntimeWarning: invalid value encountered in line_locate_point\n",
      "  return lib.line_locate_point(line, other)\n",
      "c:\\Users\\ad98\\anaconda3\\Lib\\site-packages\\shapely\\linear.py:88: RuntimeWarning: invalid value encountered in line_locate_point\n",
      "  return lib.line_locate_point(line, other)\n",
      "c:\\Users\\ad98\\anaconda3\\Lib\\site-packages\\shapely\\linear.py:88: RuntimeWarning: invalid value encountered in line_locate_point\n",
      "  return lib.line_locate_point(line, other)\n",
      "c:\\Users\\ad98\\anaconda3\\Lib\\site-packages\\shapely\\linear.py:88: RuntimeWarning: invalid value encountered in line_locate_point\n",
      "  return lib.line_locate_point(line, other)\n",
      "c:\\Users\\ad98\\anaconda3\\Lib\\site-packages\\shapely\\linear.py:88: RuntimeWarning: invalid value encountered in line_locate_point\n",
      "  return lib.line_locate_point(line, other)\n",
      "c:\\Users\\ad98\\anaconda3\\Lib\\site-packages\\shapely\\linear.py:88: RuntimeWarning: invalid value encountered in line_locate_point\n",
      "  return lib.line_locate_point(line, other)\n",
      "c:\\Users\\ad98\\anaconda3\\Lib\\site-packages\\shapely\\linear.py:88: RuntimeWarning: invalid value encountered in line_locate_point\n",
      "  return lib.line_locate_point(line, other)\n",
      "c:\\Users\\ad98\\anaconda3\\Lib\\site-packages\\shapely\\linear.py:88: RuntimeWarning: invalid value encountered in line_locate_point\n",
      "  return lib.line_locate_point(line, other)\n",
      "c:\\Users\\ad98\\anaconda3\\Lib\\site-packages\\shapely\\linear.py:88: RuntimeWarning: invalid value encountered in line_locate_point\n",
      "  return lib.line_locate_point(line, other)\n",
      "c:\\Users\\ad98\\anaconda3\\Lib\\site-packages\\shapely\\linear.py:88: RuntimeWarning: invalid value encountered in line_locate_point\n",
      "  return lib.line_locate_point(line, other)\n",
      "c:\\Users\\ad98\\anaconda3\\Lib\\site-packages\\shapely\\linear.py:88: RuntimeWarning: invalid value encountered in line_locate_point\n",
      "  return lib.line_locate_point(line, other)\n",
      "c:\\Users\\ad98\\anaconda3\\Lib\\site-packages\\shapely\\linear.py:88: RuntimeWarning: invalid value encountered in line_locate_point\n",
      "  return lib.line_locate_point(line, other)\n",
      "c:\\Users\\ad98\\anaconda3\\Lib\\site-packages\\shapely\\linear.py:88: RuntimeWarning: invalid value encountered in line_locate_point\n",
      "  return lib.line_locate_point(line, other)\n",
      "c:\\Users\\ad98\\anaconda3\\Lib\\site-packages\\shapely\\linear.py:88: RuntimeWarning: invalid value encountered in line_locate_point\n",
      "  return lib.line_locate_point(line, other)\n",
      "c:\\Users\\ad98\\anaconda3\\Lib\\site-packages\\shapely\\linear.py:88: RuntimeWarning: invalid value encountered in line_locate_point\n",
      "  return lib.line_locate_point(line, other)\n",
      "c:\\Users\\ad98\\anaconda3\\Lib\\site-packages\\shapely\\linear.py:88: RuntimeWarning: invalid value encountered in line_locate_point\n",
      "  return lib.line_locate_point(line, other)\n",
      "c:\\Users\\ad98\\anaconda3\\Lib\\site-packages\\shapely\\linear.py:88: RuntimeWarning: invalid value encountered in line_locate_point\n",
      "  return lib.line_locate_point(line, other)\n",
      "c:\\Users\\ad98\\anaconda3\\Lib\\site-packages\\shapely\\linear.py:88: RuntimeWarning: invalid value encountered in line_locate_point\n",
      "  return lib.line_locate_point(line, other)\n",
      "c:\\Users\\ad98\\anaconda3\\Lib\\site-packages\\shapely\\linear.py:88: RuntimeWarning: invalid value encountered in line_locate_point\n",
      "  return lib.line_locate_point(line, other)\n",
      "c:\\Users\\ad98\\anaconda3\\Lib\\site-packages\\shapely\\linear.py:88: RuntimeWarning: invalid value encountered in line_locate_point\n",
      "  return lib.line_locate_point(line, other)\n",
      "c:\\Users\\ad98\\anaconda3\\Lib\\site-packages\\shapely\\linear.py:88: RuntimeWarning: invalid value encountered in line_locate_point\n",
      "  return lib.line_locate_point(line, other)\n",
      "c:\\Users\\ad98\\anaconda3\\Lib\\site-packages\\shapely\\linear.py:88: RuntimeWarning: invalid value encountered in line_locate_point\n",
      "  return lib.line_locate_point(line, other)\n",
      "c:\\Users\\ad98\\anaconda3\\Lib\\site-packages\\shapely\\linear.py:88: RuntimeWarning: invalid value encountered in line_locate_point\n",
      "  return lib.line_locate_point(line, other)\n",
      "c:\\Users\\ad98\\anaconda3\\Lib\\site-packages\\shapely\\linear.py:88: RuntimeWarning: invalid value encountered in line_locate_point\n",
      "  return lib.line_locate_point(line, other)\n",
      "c:\\Users\\ad98\\anaconda3\\Lib\\site-packages\\shapely\\linear.py:88: RuntimeWarning: invalid value encountered in line_locate_point\n",
      "  return lib.line_locate_point(line, other)\n",
      "c:\\Users\\ad98\\anaconda3\\Lib\\site-packages\\shapely\\linear.py:88: RuntimeWarning: invalid value encountered in line_locate_point\n",
      "  return lib.line_locate_point(line, other)\n",
      "c:\\Users\\ad98\\anaconda3\\Lib\\site-packages\\shapely\\linear.py:88: RuntimeWarning: invalid value encountered in line_locate_point\n",
      "  return lib.line_locate_point(line, other)\n",
      "c:\\Users\\ad98\\anaconda3\\Lib\\site-packages\\shapely\\linear.py:88: RuntimeWarning: invalid value encountered in line_locate_point\n",
      "  return lib.line_locate_point(line, other)\n",
      "c:\\Users\\ad98\\anaconda3\\Lib\\site-packages\\shapely\\linear.py:88: RuntimeWarning: invalid value encountered in line_locate_point\n",
      "  return lib.line_locate_point(line, other)\n",
      "c:\\Users\\ad98\\anaconda3\\Lib\\site-packages\\shapely\\linear.py:88: RuntimeWarning: invalid value encountered in line_locate_point\n",
      "  return lib.line_locate_point(line, other)\n",
      "c:\\Users\\ad98\\anaconda3\\Lib\\site-packages\\shapely\\linear.py:88: RuntimeWarning: invalid value encountered in line_locate_point\n",
      "  return lib.line_locate_point(line, other)\n",
      "c:\\Users\\ad98\\anaconda3\\Lib\\site-packages\\shapely\\linear.py:88: RuntimeWarning: invalid value encountered in line_locate_point\n",
      "  return lib.line_locate_point(line, other)\n",
      "c:\\Users\\ad98\\anaconda3\\Lib\\site-packages\\shapely\\linear.py:88: RuntimeWarning: invalid value encountered in line_locate_point\n",
      "  return lib.line_locate_point(line, other)\n",
      "c:\\Users\\ad98\\anaconda3\\Lib\\site-packages\\shapely\\linear.py:88: RuntimeWarning: invalid value encountered in line_locate_point\n",
      "  return lib.line_locate_point(line, other)\n",
      "c:\\Users\\ad98\\anaconda3\\Lib\\site-packages\\shapely\\linear.py:88: RuntimeWarning: invalid value encountered in line_locate_point\n",
      "  return lib.line_locate_point(line, other)\n",
      "c:\\Users\\ad98\\anaconda3\\Lib\\site-packages\\shapely\\linear.py:88: RuntimeWarning: invalid value encountered in line_locate_point\n",
      "  return lib.line_locate_point(line, other)\n",
      "c:\\Users\\ad98\\anaconda3\\Lib\\site-packages\\shapely\\linear.py:88: RuntimeWarning: invalid value encountered in line_locate_point\n",
      "  return lib.line_locate_point(line, other)\n",
      "c:\\Users\\ad98\\anaconda3\\Lib\\site-packages\\shapely\\linear.py:88: RuntimeWarning: invalid value encountered in line_locate_point\n",
      "  return lib.line_locate_point(line, other)\n",
      "c:\\Users\\ad98\\anaconda3\\Lib\\site-packages\\shapely\\linear.py:88: RuntimeWarning: invalid value encountered in line_locate_point\n",
      "  return lib.line_locate_point(line, other)\n",
      "c:\\Users\\ad98\\anaconda3\\Lib\\site-packages\\shapely\\linear.py:88: RuntimeWarning: invalid value encountered in line_locate_point\n",
      "  return lib.line_locate_point(line, other)\n",
      "c:\\Users\\ad98\\anaconda3\\Lib\\site-packages\\shapely\\linear.py:88: RuntimeWarning: invalid value encountered in line_locate_point\n",
      "  return lib.line_locate_point(line, other)\n",
      "c:\\Users\\ad98\\anaconda3\\Lib\\site-packages\\shapely\\linear.py:88: RuntimeWarning: invalid value encountered in line_locate_point\n",
      "  return lib.line_locate_point(line, other)\n",
      "c:\\Users\\ad98\\anaconda3\\Lib\\site-packages\\shapely\\linear.py:88: RuntimeWarning: invalid value encountered in line_locate_point\n",
      "  return lib.line_locate_point(line, other)\n",
      "c:\\Users\\ad98\\anaconda3\\Lib\\site-packages\\shapely\\linear.py:88: RuntimeWarning: invalid value encountered in line_locate_point\n",
      "  return lib.line_locate_point(line, other)\n",
      "c:\\Users\\ad98\\anaconda3\\Lib\\site-packages\\shapely\\linear.py:88: RuntimeWarning: invalid value encountered in line_locate_point\n",
      "  return lib.line_locate_point(line, other)\n",
      "c:\\Users\\ad98\\anaconda3\\Lib\\site-packages\\shapely\\linear.py:88: RuntimeWarning: invalid value encountered in line_locate_point\n",
      "  return lib.line_locate_point(line, other)\n",
      "c:\\Users\\ad98\\anaconda3\\Lib\\site-packages\\shapely\\linear.py:88: RuntimeWarning: invalid value encountered in line_locate_point\n",
      "  return lib.line_locate_point(line, other)\n",
      "c:\\Users\\ad98\\anaconda3\\Lib\\site-packages\\shapely\\linear.py:88: RuntimeWarning: invalid value encountered in line_locate_point\n",
      "  return lib.line_locate_point(line, other)\n",
      "c:\\Users\\ad98\\anaconda3\\Lib\\site-packages\\shapely\\linear.py:88: RuntimeWarning: invalid value encountered in line_locate_point\n",
      "  return lib.line_locate_point(line, other)\n",
      "c:\\Users\\ad98\\anaconda3\\Lib\\site-packages\\shapely\\linear.py:88: RuntimeWarning: invalid value encountered in line_locate_point\n",
      "  return lib.line_locate_point(line, other)\n",
      "c:\\Users\\ad98\\anaconda3\\Lib\\site-packages\\shapely\\linear.py:88: RuntimeWarning: invalid value encountered in line_locate_point\n",
      "  return lib.line_locate_point(line, other)\n",
      "c:\\Users\\ad98\\anaconda3\\Lib\\site-packages\\shapely\\linear.py:88: RuntimeWarning: invalid value encountered in line_locate_point\n",
      "  return lib.line_locate_point(line, other)\n",
      "c:\\Users\\ad98\\anaconda3\\Lib\\site-packages\\shapely\\linear.py:88: RuntimeWarning: invalid value encountered in line_locate_point\n",
      "  return lib.line_locate_point(line, other)\n",
      "c:\\Users\\ad98\\anaconda3\\Lib\\site-packages\\shapely\\linear.py:88: RuntimeWarning: invalid value encountered in line_locate_point\n",
      "  return lib.line_locate_point(line, other)\n",
      "c:\\Users\\ad98\\anaconda3\\Lib\\site-packages\\shapely\\linear.py:88: RuntimeWarning: invalid value encountered in line_locate_point\n",
      "  return lib.line_locate_point(line, other)\n",
      "c:\\Users\\ad98\\anaconda3\\Lib\\site-packages\\shapely\\linear.py:88: RuntimeWarning: invalid value encountered in line_locate_point\n",
      "  return lib.line_locate_point(line, other)\n",
      "c:\\Users\\ad98\\anaconda3\\Lib\\site-packages\\shapely\\linear.py:88: RuntimeWarning: invalid value encountered in line_locate_point\n",
      "  return lib.line_locate_point(line, other)\n",
      "c:\\Users\\ad98\\anaconda3\\Lib\\site-packages\\shapely\\linear.py:88: RuntimeWarning: invalid value encountered in line_locate_point\n",
      "  return lib.line_locate_point(line, other)\n",
      "c:\\Users\\ad98\\anaconda3\\Lib\\site-packages\\shapely\\linear.py:88: RuntimeWarning: invalid value encountered in line_locate_point\n",
      "  return lib.line_locate_point(line, other)\n",
      "c:\\Users\\ad98\\anaconda3\\Lib\\site-packages\\shapely\\linear.py:88: RuntimeWarning: invalid value encountered in line_locate_point\n",
      "  return lib.line_locate_point(line, other)\n",
      "c:\\Users\\ad98\\anaconda3\\Lib\\site-packages\\shapely\\linear.py:88: RuntimeWarning: invalid value encountered in line_locate_point\n",
      "  return lib.line_locate_point(line, other)\n",
      "c:\\Users\\ad98\\anaconda3\\Lib\\site-packages\\shapely\\linear.py:88: RuntimeWarning: invalid value encountered in line_locate_point\n",
      "  return lib.line_locate_point(line, other)\n",
      "c:\\Users\\ad98\\anaconda3\\Lib\\site-packages\\shapely\\linear.py:88: RuntimeWarning: invalid value encountered in line_locate_point\n",
      "  return lib.line_locate_point(line, other)\n",
      "c:\\Users\\ad98\\anaconda3\\Lib\\site-packages\\shapely\\linear.py:88: RuntimeWarning: invalid value encountered in line_locate_point\n",
      "  return lib.line_locate_point(line, other)\n",
      "c:\\Users\\ad98\\anaconda3\\Lib\\site-packages\\shapely\\linear.py:88: RuntimeWarning: invalid value encountered in line_locate_point\n",
      "  return lib.line_locate_point(line, other)\n",
      "c:\\Users\\ad98\\anaconda3\\Lib\\site-packages\\shapely\\linear.py:88: RuntimeWarning: invalid value encountered in line_locate_point\n",
      "  return lib.line_locate_point(line, other)\n",
      "c:\\Users\\ad98\\anaconda3\\Lib\\site-packages\\shapely\\linear.py:88: RuntimeWarning: invalid value encountered in line_locate_point\n",
      "  return lib.line_locate_point(line, other)\n",
      "c:\\Users\\ad98\\anaconda3\\Lib\\site-packages\\shapely\\linear.py:88: RuntimeWarning: invalid value encountered in line_locate_point\n",
      "  return lib.line_locate_point(line, other)\n",
      "c:\\Users\\ad98\\anaconda3\\Lib\\site-packages\\shapely\\linear.py:88: RuntimeWarning: invalid value encountered in line_locate_point\n",
      "  return lib.line_locate_point(line, other)\n",
      "c:\\Users\\ad98\\anaconda3\\Lib\\site-packages\\shapely\\linear.py:88: RuntimeWarning: invalid value encountered in line_locate_point\n",
      "  return lib.line_locate_point(line, other)\n",
      "c:\\Users\\ad98\\anaconda3\\Lib\\site-packages\\shapely\\linear.py:88: RuntimeWarning: invalid value encountered in line_locate_point\n",
      "  return lib.line_locate_point(line, other)\n",
      "c:\\Users\\ad98\\anaconda3\\Lib\\site-packages\\shapely\\linear.py:88: RuntimeWarning: invalid value encountered in line_locate_point\n",
      "  return lib.line_locate_point(line, other)\n",
      "c:\\Users\\ad98\\anaconda3\\Lib\\site-packages\\shapely\\linear.py:88: RuntimeWarning: invalid value encountered in line_locate_point\n",
      "  return lib.line_locate_point(line, other)\n",
      "c:\\Users\\ad98\\anaconda3\\Lib\\site-packages\\shapely\\linear.py:88: RuntimeWarning: invalid value encountered in line_locate_point\n",
      "  return lib.line_locate_point(line, other)\n",
      "c:\\Users\\ad98\\anaconda3\\Lib\\site-packages\\shapely\\linear.py:88: RuntimeWarning: invalid value encountered in line_locate_point\n",
      "  return lib.line_locate_point(line, other)\n",
      "c:\\Users\\ad98\\anaconda3\\Lib\\site-packages\\shapely\\linear.py:88: RuntimeWarning: invalid value encountered in line_locate_point\n",
      "  return lib.line_locate_point(line, other)\n",
      "c:\\Users\\ad98\\anaconda3\\Lib\\site-packages\\shapely\\linear.py:88: RuntimeWarning: invalid value encountered in line_locate_point\n",
      "  return lib.line_locate_point(line, other)\n",
      "c:\\Users\\ad98\\anaconda3\\Lib\\site-packages\\shapely\\linear.py:88: RuntimeWarning: invalid value encountered in line_locate_point\n",
      "  return lib.line_locate_point(line, other)\n",
      "c:\\Users\\ad98\\anaconda3\\Lib\\site-packages\\shapely\\linear.py:88: RuntimeWarning: invalid value encountered in line_locate_point\n",
      "  return lib.line_locate_point(line, other)\n",
      "c:\\Users\\ad98\\anaconda3\\Lib\\site-packages\\shapely\\linear.py:88: RuntimeWarning: invalid value encountered in line_locate_point\n",
      "  return lib.line_locate_point(line, other)\n",
      "c:\\Users\\ad98\\anaconda3\\Lib\\site-packages\\shapely\\linear.py:88: RuntimeWarning: invalid value encountered in line_locate_point\n",
      "  return lib.line_locate_point(line, other)\n",
      "c:\\Users\\ad98\\anaconda3\\Lib\\site-packages\\shapely\\linear.py:88: RuntimeWarning: invalid value encountered in line_locate_point\n",
      "  return lib.line_locate_point(line, other)\n",
      "c:\\Users\\ad98\\anaconda3\\Lib\\site-packages\\shapely\\linear.py:88: RuntimeWarning: invalid value encountered in line_locate_point\n",
      "  return lib.line_locate_point(line, other)\n",
      "c:\\Users\\ad98\\anaconda3\\Lib\\site-packages\\shapely\\linear.py:88: RuntimeWarning: invalid value encountered in line_locate_point\n",
      "  return lib.line_locate_point(line, other)\n",
      "c:\\Users\\ad98\\anaconda3\\Lib\\site-packages\\shapely\\linear.py:88: RuntimeWarning: invalid value encountered in line_locate_point\n",
      "  return lib.line_locate_point(line, other)\n",
      "c:\\Users\\ad98\\anaconda3\\Lib\\site-packages\\shapely\\linear.py:88: RuntimeWarning: invalid value encountered in line_locate_point\n",
      "  return lib.line_locate_point(line, other)\n",
      "c:\\Users\\ad98\\anaconda3\\Lib\\site-packages\\shapely\\linear.py:88: RuntimeWarning: invalid value encountered in line_locate_point\n",
      "  return lib.line_locate_point(line, other)\n",
      "c:\\Users\\ad98\\anaconda3\\Lib\\site-packages\\shapely\\linear.py:88: RuntimeWarning: invalid value encountered in line_locate_point\n",
      "  return lib.line_locate_point(line, other)\n",
      "c:\\Users\\ad98\\anaconda3\\Lib\\site-packages\\shapely\\linear.py:88: RuntimeWarning: invalid value encountered in line_locate_point\n",
      "  return lib.line_locate_point(line, other)\n",
      "c:\\Users\\ad98\\anaconda3\\Lib\\site-packages\\shapely\\linear.py:88: RuntimeWarning: invalid value encountered in line_locate_point\n",
      "  return lib.line_locate_point(line, other)\n",
      "c:\\Users\\ad98\\anaconda3\\Lib\\site-packages\\shapely\\linear.py:88: RuntimeWarning: invalid value encountered in line_locate_point\n",
      "  return lib.line_locate_point(line, other)\n",
      "c:\\Users\\ad98\\anaconda3\\Lib\\site-packages\\shapely\\linear.py:88: RuntimeWarning: invalid value encountered in line_locate_point\n",
      "  return lib.line_locate_point(line, other)\n",
      "c:\\Users\\ad98\\anaconda3\\Lib\\site-packages\\shapely\\linear.py:88: RuntimeWarning: invalid value encountered in line_locate_point\n",
      "  return lib.line_locate_point(line, other)\n",
      "c:\\Users\\ad98\\anaconda3\\Lib\\site-packages\\shapely\\linear.py:88: RuntimeWarning: invalid value encountered in line_locate_point\n",
      "  return lib.line_locate_point(line, other)\n",
      "c:\\Users\\ad98\\anaconda3\\Lib\\site-packages\\shapely\\linear.py:88: RuntimeWarning: invalid value encountered in line_locate_point\n",
      "  return lib.line_locate_point(line, other)\n",
      "c:\\Users\\ad98\\anaconda3\\Lib\\site-packages\\shapely\\linear.py:88: RuntimeWarning: invalid value encountered in line_locate_point\n",
      "  return lib.line_locate_point(line, other)\n",
      "c:\\Users\\ad98\\anaconda3\\Lib\\site-packages\\shapely\\linear.py:88: RuntimeWarning: invalid value encountered in line_locate_point\n",
      "  return lib.line_locate_point(line, other)\n",
      "c:\\Users\\ad98\\anaconda3\\Lib\\site-packages\\shapely\\linear.py:88: RuntimeWarning: invalid value encountered in line_locate_point\n",
      "  return lib.line_locate_point(line, other)\n",
      "c:\\Users\\ad98\\anaconda3\\Lib\\site-packages\\shapely\\linear.py:88: RuntimeWarning: invalid value encountered in line_locate_point\n",
      "  return lib.line_locate_point(line, other)\n",
      "c:\\Users\\ad98\\anaconda3\\Lib\\site-packages\\shapely\\linear.py:88: RuntimeWarning: invalid value encountered in line_locate_point\n",
      "  return lib.line_locate_point(line, other)\n",
      "c:\\Users\\ad98\\anaconda3\\Lib\\site-packages\\shapely\\linear.py:88: RuntimeWarning: invalid value encountered in line_locate_point\n",
      "  return lib.line_locate_point(line, other)\n",
      "c:\\Users\\ad98\\anaconda3\\Lib\\site-packages\\shapely\\linear.py:88: RuntimeWarning: invalid value encountered in line_locate_point\n",
      "  return lib.line_locate_point(line, other)\n",
      "c:\\Users\\ad98\\anaconda3\\Lib\\site-packages\\shapely\\linear.py:88: RuntimeWarning: invalid value encountered in line_locate_point\n",
      "  return lib.line_locate_point(line, other)\n",
      "c:\\Users\\ad98\\anaconda3\\Lib\\site-packages\\shapely\\linear.py:88: RuntimeWarning: invalid value encountered in line_locate_point\n",
      "  return lib.line_locate_point(line, other)\n",
      "c:\\Users\\ad98\\anaconda3\\Lib\\site-packages\\shapely\\linear.py:88: RuntimeWarning: invalid value encountered in line_locate_point\n",
      "  return lib.line_locate_point(line, other)\n",
      "c:\\Users\\ad98\\anaconda3\\Lib\\site-packages\\shapely\\linear.py:88: RuntimeWarning: invalid value encountered in line_locate_point\n",
      "  return lib.line_locate_point(line, other)\n",
      "c:\\Users\\ad98\\anaconda3\\Lib\\site-packages\\shapely\\linear.py:88: RuntimeWarning: invalid value encountered in line_locate_point\n",
      "  return lib.line_locate_point(line, other)\n",
      "c:\\Users\\ad98\\anaconda3\\Lib\\site-packages\\shapely\\linear.py:88: RuntimeWarning: invalid value encountered in line_locate_point\n",
      "  return lib.line_locate_point(line, other)\n",
      "c:\\Users\\ad98\\anaconda3\\Lib\\site-packages\\shapely\\linear.py:88: RuntimeWarning: invalid value encountered in line_locate_point\n",
      "  return lib.line_locate_point(line, other)\n",
      "c:\\Users\\ad98\\anaconda3\\Lib\\site-packages\\shapely\\linear.py:88: RuntimeWarning: invalid value encountered in line_locate_point\n",
      "  return lib.line_locate_point(line, other)\n",
      "c:\\Users\\ad98\\anaconda3\\Lib\\site-packages\\shapely\\linear.py:88: RuntimeWarning: invalid value encountered in line_locate_point\n",
      "  return lib.line_locate_point(line, other)\n",
      "c:\\Users\\ad98\\anaconda3\\Lib\\site-packages\\shapely\\linear.py:88: RuntimeWarning: invalid value encountered in line_locate_point\n",
      "  return lib.line_locate_point(line, other)\n",
      "c:\\Users\\ad98\\anaconda3\\Lib\\site-packages\\shapely\\linear.py:88: RuntimeWarning: invalid value encountered in line_locate_point\n",
      "  return lib.line_locate_point(line, other)\n",
      "c:\\Users\\ad98\\anaconda3\\Lib\\site-packages\\shapely\\linear.py:88: RuntimeWarning: invalid value encountered in line_locate_point\n",
      "  return lib.line_locate_point(line, other)\n",
      "c:\\Users\\ad98\\anaconda3\\Lib\\site-packages\\shapely\\linear.py:88: RuntimeWarning: invalid value encountered in line_locate_point\n",
      "  return lib.line_locate_point(line, other)\n",
      "c:\\Users\\ad98\\anaconda3\\Lib\\site-packages\\shapely\\linear.py:88: RuntimeWarning: invalid value encountered in line_locate_point\n",
      "  return lib.line_locate_point(line, other)\n",
      "c:\\Users\\ad98\\anaconda3\\Lib\\site-packages\\shapely\\linear.py:88: RuntimeWarning: invalid value encountered in line_locate_point\n",
      "  return lib.line_locate_point(line, other)\n",
      "c:\\Users\\ad98\\anaconda3\\Lib\\site-packages\\shapely\\linear.py:88: RuntimeWarning: invalid value encountered in line_locate_point\n",
      "  return lib.line_locate_point(line, other)\n",
      "c:\\Users\\ad98\\anaconda3\\Lib\\site-packages\\shapely\\linear.py:88: RuntimeWarning: invalid value encountered in line_locate_point\n",
      "  return lib.line_locate_point(line, other)\n",
      "c:\\Users\\ad98\\anaconda3\\Lib\\site-packages\\shapely\\linear.py:88: RuntimeWarning: invalid value encountered in line_locate_point\n",
      "  return lib.line_locate_point(line, other)\n",
      "c:\\Users\\ad98\\anaconda3\\Lib\\site-packages\\shapely\\linear.py:88: RuntimeWarning: invalid value encountered in line_locate_point\n",
      "  return lib.line_locate_point(line, other)\n",
      "c:\\Users\\ad98\\anaconda3\\Lib\\site-packages\\shapely\\linear.py:88: RuntimeWarning: invalid value encountered in line_locate_point\n",
      "  return lib.line_locate_point(line, other)\n",
      "c:\\Users\\ad98\\anaconda3\\Lib\\site-packages\\shapely\\linear.py:88: RuntimeWarning: invalid value encountered in line_locate_point\n",
      "  return lib.line_locate_point(line, other)\n",
      "c:\\Users\\ad98\\anaconda3\\Lib\\site-packages\\shapely\\linear.py:88: RuntimeWarning: invalid value encountered in line_locate_point\n",
      "  return lib.line_locate_point(line, other)\n",
      "c:\\Users\\ad98\\anaconda3\\Lib\\site-packages\\shapely\\linear.py:88: RuntimeWarning: invalid value encountered in line_locate_point\n",
      "  return lib.line_locate_point(line, other)\n",
      "c:\\Users\\ad98\\anaconda3\\Lib\\site-packages\\shapely\\linear.py:88: RuntimeWarning: invalid value encountered in line_locate_point\n",
      "  return lib.line_locate_point(line, other)\n",
      "c:\\Users\\ad98\\anaconda3\\Lib\\site-packages\\shapely\\linear.py:88: RuntimeWarning: invalid value encountered in line_locate_point\n",
      "  return lib.line_locate_point(line, other)\n",
      "c:\\Users\\ad98\\anaconda3\\Lib\\site-packages\\shapely\\linear.py:88: RuntimeWarning: invalid value encountered in line_locate_point\n",
      "  return lib.line_locate_point(line, other)\n",
      "c:\\Users\\ad98\\anaconda3\\Lib\\site-packages\\shapely\\linear.py:88: RuntimeWarning: invalid value encountered in line_locate_point\n",
      "  return lib.line_locate_point(line, other)\n",
      "c:\\Users\\ad98\\anaconda3\\Lib\\site-packages\\shapely\\linear.py:88: RuntimeWarning: invalid value encountered in line_locate_point\n",
      "  return lib.line_locate_point(line, other)\n",
      "c:\\Users\\ad98\\anaconda3\\Lib\\site-packages\\shapely\\linear.py:88: RuntimeWarning: invalid value encountered in line_locate_point\n",
      "  return lib.line_locate_point(line, other)\n",
      "c:\\Users\\ad98\\anaconda3\\Lib\\site-packages\\shapely\\linear.py:88: RuntimeWarning: invalid value encountered in line_locate_point\n",
      "  return lib.line_locate_point(line, other)\n",
      "c:\\Users\\ad98\\anaconda3\\Lib\\site-packages\\shapely\\linear.py:88: RuntimeWarning: invalid value encountered in line_locate_point\n",
      "  return lib.line_locate_point(line, other)\n",
      "c:\\Users\\ad98\\anaconda3\\Lib\\site-packages\\shapely\\linear.py:88: RuntimeWarning: invalid value encountered in line_locate_point\n",
      "  return lib.line_locate_point(line, other)\n",
      "c:\\Users\\ad98\\anaconda3\\Lib\\site-packages\\shapely\\linear.py:88: RuntimeWarning: invalid value encountered in line_locate_point\n",
      "  return lib.line_locate_point(line, other)\n",
      "c:\\Users\\ad98\\anaconda3\\Lib\\site-packages\\shapely\\linear.py:88: RuntimeWarning: invalid value encountered in line_locate_point\n",
      "  return lib.line_locate_point(line, other)\n",
      "c:\\Users\\ad98\\anaconda3\\Lib\\site-packages\\shapely\\linear.py:88: RuntimeWarning: invalid value encountered in line_locate_point\n",
      "  return lib.line_locate_point(line, other)\n",
      "c:\\Users\\ad98\\anaconda3\\Lib\\site-packages\\shapely\\linear.py:88: RuntimeWarning: invalid value encountered in line_locate_point\n",
      "  return lib.line_locate_point(line, other)\n",
      "c:\\Users\\ad98\\anaconda3\\Lib\\site-packages\\shapely\\linear.py:88: RuntimeWarning: invalid value encountered in line_locate_point\n",
      "  return lib.line_locate_point(line, other)\n",
      "c:\\Users\\ad98\\anaconda3\\Lib\\site-packages\\shapely\\linear.py:88: RuntimeWarning: invalid value encountered in line_locate_point\n",
      "  return lib.line_locate_point(line, other)\n",
      "c:\\Users\\ad98\\anaconda3\\Lib\\site-packages\\shapely\\linear.py:88: RuntimeWarning: invalid value encountered in line_locate_point\n",
      "  return lib.line_locate_point(line, other)\n",
      "c:\\Users\\ad98\\anaconda3\\Lib\\site-packages\\shapely\\linear.py:88: RuntimeWarning: invalid value encountered in line_locate_point\n",
      "  return lib.line_locate_point(line, other)\n",
      "c:\\Users\\ad98\\anaconda3\\Lib\\site-packages\\shapely\\linear.py:88: RuntimeWarning: invalid value encountered in line_locate_point\n",
      "  return lib.line_locate_point(line, other)\n",
      "c:\\Users\\ad98\\anaconda3\\Lib\\site-packages\\shapely\\linear.py:88: RuntimeWarning: invalid value encountered in line_locate_point\n",
      "  return lib.line_locate_point(line, other)\n",
      "c:\\Users\\ad98\\anaconda3\\Lib\\site-packages\\shapely\\linear.py:88: RuntimeWarning: invalid value encountered in line_locate_point\n",
      "  return lib.line_locate_point(line, other)\n",
      "c:\\Users\\ad98\\anaconda3\\Lib\\site-packages\\shapely\\linear.py:88: RuntimeWarning: invalid value encountered in line_locate_point\n",
      "  return lib.line_locate_point(line, other)\n",
      "c:\\Users\\ad98\\anaconda3\\Lib\\site-packages\\shapely\\linear.py:88: RuntimeWarning: invalid value encountered in line_locate_point\n",
      "  return lib.line_locate_point(line, other)\n",
      "c:\\Users\\ad98\\anaconda3\\Lib\\site-packages\\shapely\\linear.py:88: RuntimeWarning: invalid value encountered in line_locate_point\n",
      "  return lib.line_locate_point(line, other)\n",
      "c:\\Users\\ad98\\anaconda3\\Lib\\site-packages\\shapely\\linear.py:88: RuntimeWarning: invalid value encountered in line_locate_point\n",
      "  return lib.line_locate_point(line, other)\n",
      "c:\\Users\\ad98\\anaconda3\\Lib\\site-packages\\shapely\\linear.py:88: RuntimeWarning: invalid value encountered in line_locate_point\n",
      "  return lib.line_locate_point(line, other)\n",
      "c:\\Users\\ad98\\anaconda3\\Lib\\site-packages\\shapely\\linear.py:88: RuntimeWarning: invalid value encountered in line_locate_point\n",
      "  return lib.line_locate_point(line, other)\n",
      "c:\\Users\\ad98\\anaconda3\\Lib\\site-packages\\shapely\\linear.py:88: RuntimeWarning: invalid value encountered in line_locate_point\n",
      "  return lib.line_locate_point(line, other)\n",
      "c:\\Users\\ad98\\anaconda3\\Lib\\site-packages\\shapely\\linear.py:88: RuntimeWarning: invalid value encountered in line_locate_point\n",
      "  return lib.line_locate_point(line, other)\n",
      "c:\\Users\\ad98\\anaconda3\\Lib\\site-packages\\shapely\\linear.py:88: RuntimeWarning: invalid value encountered in line_locate_point\n",
      "  return lib.line_locate_point(line, other)\n",
      "c:\\Users\\ad98\\anaconda3\\Lib\\site-packages\\shapely\\linear.py:88: RuntimeWarning: invalid value encountered in line_locate_point\n",
      "  return lib.line_locate_point(line, other)\n",
      "c:\\Users\\ad98\\anaconda3\\Lib\\site-packages\\shapely\\linear.py:88: RuntimeWarning: invalid value encountered in line_locate_point\n",
      "  return lib.line_locate_point(line, other)\n",
      "c:\\Users\\ad98\\anaconda3\\Lib\\site-packages\\shapely\\linear.py:88: RuntimeWarning: invalid value encountered in line_locate_point\n",
      "  return lib.line_locate_point(line, other)\n",
      "c:\\Users\\ad98\\anaconda3\\Lib\\site-packages\\shapely\\linear.py:88: RuntimeWarning: invalid value encountered in line_locate_point\n",
      "  return lib.line_locate_point(line, other)\n",
      "c:\\Users\\ad98\\anaconda3\\Lib\\site-packages\\shapely\\linear.py:88: RuntimeWarning: invalid value encountered in line_locate_point\n",
      "  return lib.line_locate_point(line, other)\n",
      "c:\\Users\\ad98\\anaconda3\\Lib\\site-packages\\shapely\\linear.py:88: RuntimeWarning: invalid value encountered in line_locate_point\n",
      "  return lib.line_locate_point(line, other)\n",
      "c:\\Users\\ad98\\anaconda3\\Lib\\site-packages\\shapely\\linear.py:88: RuntimeWarning: invalid value encountered in line_locate_point\n",
      "  return lib.line_locate_point(line, other)\n",
      "c:\\Users\\ad98\\anaconda3\\Lib\\site-packages\\shapely\\linear.py:88: RuntimeWarning: invalid value encountered in line_locate_point\n",
      "  return lib.line_locate_point(line, other)\n",
      "c:\\Users\\ad98\\anaconda3\\Lib\\site-packages\\shapely\\linear.py:88: RuntimeWarning: invalid value encountered in line_locate_point\n",
      "  return lib.line_locate_point(line, other)\n",
      "c:\\Users\\ad98\\anaconda3\\Lib\\site-packages\\shapely\\linear.py:88: RuntimeWarning: invalid value encountered in line_locate_point\n",
      "  return lib.line_locate_point(line, other)\n",
      "c:\\Users\\ad98\\anaconda3\\Lib\\site-packages\\shapely\\linear.py:88: RuntimeWarning: invalid value encountered in line_locate_point\n",
      "  return lib.line_locate_point(line, other)\n",
      "c:\\Users\\ad98\\anaconda3\\Lib\\site-packages\\shapely\\linear.py:88: RuntimeWarning: invalid value encountered in line_locate_point\n",
      "  return lib.line_locate_point(line, other)\n",
      "c:\\Users\\ad98\\anaconda3\\Lib\\site-packages\\shapely\\linear.py:88: RuntimeWarning: invalid value encountered in line_locate_point\n",
      "  return lib.line_locate_point(line, other)\n",
      "c:\\Users\\ad98\\anaconda3\\Lib\\site-packages\\shapely\\linear.py:88: RuntimeWarning: invalid value encountered in line_locate_point\n",
      "  return lib.line_locate_point(line, other)\n",
      "c:\\Users\\ad98\\anaconda3\\Lib\\site-packages\\shapely\\linear.py:88: RuntimeWarning: invalid value encountered in line_locate_point\n",
      "  return lib.line_locate_point(line, other)\n",
      "c:\\Users\\ad98\\anaconda3\\Lib\\site-packages\\shapely\\linear.py:88: RuntimeWarning: invalid value encountered in line_locate_point\n",
      "  return lib.line_locate_point(line, other)\n",
      "c:\\Users\\ad98\\anaconda3\\Lib\\site-packages\\shapely\\linear.py:88: RuntimeWarning: invalid value encountered in line_locate_point\n",
      "  return lib.line_locate_point(line, other)\n",
      "c:\\Users\\ad98\\anaconda3\\Lib\\site-packages\\shapely\\linear.py:88: RuntimeWarning: invalid value encountered in line_locate_point\n",
      "  return lib.line_locate_point(line, other)\n",
      "c:\\Users\\ad98\\anaconda3\\Lib\\site-packages\\shapely\\linear.py:88: RuntimeWarning: invalid value encountered in line_locate_point\n",
      "  return lib.line_locate_point(line, other)\n",
      "c:\\Users\\ad98\\anaconda3\\Lib\\site-packages\\shapely\\linear.py:88: RuntimeWarning: invalid value encountered in line_locate_point\n",
      "  return lib.line_locate_point(line, other)\n",
      "c:\\Users\\ad98\\anaconda3\\Lib\\site-packages\\shapely\\linear.py:88: RuntimeWarning: invalid value encountered in line_locate_point\n",
      "  return lib.line_locate_point(line, other)\n",
      "c:\\Users\\ad98\\anaconda3\\Lib\\site-packages\\shapely\\linear.py:88: RuntimeWarning: invalid value encountered in line_locate_point\n",
      "  return lib.line_locate_point(line, other)\n",
      "c:\\Users\\ad98\\anaconda3\\Lib\\site-packages\\shapely\\linear.py:88: RuntimeWarning: invalid value encountered in line_locate_point\n",
      "  return lib.line_locate_point(line, other)\n",
      "c:\\Users\\ad98\\anaconda3\\Lib\\site-packages\\shapely\\linear.py:88: RuntimeWarning: invalid value encountered in line_locate_point\n",
      "  return lib.line_locate_point(line, other)\n",
      "c:\\Users\\ad98\\anaconda3\\Lib\\site-packages\\shapely\\linear.py:88: RuntimeWarning: invalid value encountered in line_locate_point\n",
      "  return lib.line_locate_point(line, other)\n",
      "c:\\Users\\ad98\\anaconda3\\Lib\\site-packages\\shapely\\linear.py:88: RuntimeWarning: invalid value encountered in line_locate_point\n",
      "  return lib.line_locate_point(line, other)\n",
      "c:\\Users\\ad98\\anaconda3\\Lib\\site-packages\\shapely\\linear.py:88: RuntimeWarning: invalid value encountered in line_locate_point\n",
      "  return lib.line_locate_point(line, other)\n",
      "c:\\Users\\ad98\\anaconda3\\Lib\\site-packages\\shapely\\linear.py:88: RuntimeWarning: invalid value encountered in line_locate_point\n",
      "  return lib.line_locate_point(line, other)\n",
      "c:\\Users\\ad98\\anaconda3\\Lib\\site-packages\\shapely\\linear.py:88: RuntimeWarning: invalid value encountered in line_locate_point\n",
      "  return lib.line_locate_point(line, other)\n",
      "c:\\Users\\ad98\\anaconda3\\Lib\\site-packages\\shapely\\linear.py:88: RuntimeWarning: invalid value encountered in line_locate_point\n",
      "  return lib.line_locate_point(line, other)\n",
      "c:\\Users\\ad98\\anaconda3\\Lib\\site-packages\\shapely\\linear.py:88: RuntimeWarning: invalid value encountered in line_locate_point\n",
      "  return lib.line_locate_point(line, other)\n",
      "c:\\Users\\ad98\\anaconda3\\Lib\\site-packages\\shapely\\linear.py:88: RuntimeWarning: invalid value encountered in line_locate_point\n",
      "  return lib.line_locate_point(line, other)\n",
      "c:\\Users\\ad98\\anaconda3\\Lib\\site-packages\\shapely\\linear.py:88: RuntimeWarning: invalid value encountered in line_locate_point\n",
      "  return lib.line_locate_point(line, other)\n",
      "c:\\Users\\ad98\\anaconda3\\Lib\\site-packages\\shapely\\linear.py:88: RuntimeWarning: invalid value encountered in line_locate_point\n",
      "  return lib.line_locate_point(line, other)\n",
      "c:\\Users\\ad98\\anaconda3\\Lib\\site-packages\\shapely\\linear.py:88: RuntimeWarning: invalid value encountered in line_locate_point\n",
      "  return lib.line_locate_point(line, other)\n",
      "c:\\Users\\ad98\\anaconda3\\Lib\\site-packages\\shapely\\linear.py:88: RuntimeWarning: invalid value encountered in line_locate_point\n",
      "  return lib.line_locate_point(line, other)\n",
      "c:\\Users\\ad98\\anaconda3\\Lib\\site-packages\\shapely\\linear.py:88: RuntimeWarning: invalid value encountered in line_locate_point\n",
      "  return lib.line_locate_point(line, other)\n",
      "c:\\Users\\ad98\\anaconda3\\Lib\\site-packages\\shapely\\linear.py:88: RuntimeWarning: invalid value encountered in line_locate_point\n",
      "  return lib.line_locate_point(line, other)\n",
      "c:\\Users\\ad98\\anaconda3\\Lib\\site-packages\\shapely\\linear.py:88: RuntimeWarning: invalid value encountered in line_locate_point\n",
      "  return lib.line_locate_point(line, other)\n",
      "c:\\Users\\ad98\\anaconda3\\Lib\\site-packages\\shapely\\linear.py:88: RuntimeWarning: invalid value encountered in line_locate_point\n",
      "  return lib.line_locate_point(line, other)\n",
      "c:\\Users\\ad98\\anaconda3\\Lib\\site-packages\\shapely\\linear.py:88: RuntimeWarning: invalid value encountered in line_locate_point\n",
      "  return lib.line_locate_point(line, other)\n",
      "c:\\Users\\ad98\\anaconda3\\Lib\\site-packages\\shapely\\linear.py:88: RuntimeWarning: invalid value encountered in line_locate_point\n",
      "  return lib.line_locate_point(line, other)\n",
      "c:\\Users\\ad98\\anaconda3\\Lib\\site-packages\\shapely\\linear.py:88: RuntimeWarning: invalid value encountered in line_locate_point\n",
      "  return lib.line_locate_point(line, other)\n",
      "c:\\Users\\ad98\\anaconda3\\Lib\\site-packages\\shapely\\linear.py:88: RuntimeWarning: invalid value encountered in line_locate_point\n",
      "  return lib.line_locate_point(line, other)\n",
      "c:\\Users\\ad98\\anaconda3\\Lib\\site-packages\\shapely\\linear.py:88: RuntimeWarning: invalid value encountered in line_locate_point\n",
      "  return lib.line_locate_point(line, other)\n",
      "c:\\Users\\ad98\\anaconda3\\Lib\\site-packages\\shapely\\linear.py:88: RuntimeWarning: invalid value encountered in line_locate_point\n",
      "  return lib.line_locate_point(line, other)\n",
      "c:\\Users\\ad98\\anaconda3\\Lib\\site-packages\\shapely\\linear.py:88: RuntimeWarning: invalid value encountered in line_locate_point\n",
      "  return lib.line_locate_point(line, other)\n",
      "c:\\Users\\ad98\\anaconda3\\Lib\\site-packages\\shapely\\linear.py:88: RuntimeWarning: invalid value encountered in line_locate_point\n",
      "  return lib.line_locate_point(line, other)\n",
      "c:\\Users\\ad98\\anaconda3\\Lib\\site-packages\\shapely\\linear.py:88: RuntimeWarning: invalid value encountered in line_locate_point\n",
      "  return lib.line_locate_point(line, other)\n",
      "c:\\Users\\ad98\\anaconda3\\Lib\\site-packages\\shapely\\linear.py:88: RuntimeWarning: invalid value encountered in line_locate_point\n",
      "  return lib.line_locate_point(line, other)\n",
      "c:\\Users\\ad98\\anaconda3\\Lib\\site-packages\\shapely\\linear.py:88: RuntimeWarning: invalid value encountered in line_locate_point\n",
      "  return lib.line_locate_point(line, other)\n",
      "c:\\Users\\ad98\\anaconda3\\Lib\\site-packages\\shapely\\linear.py:88: RuntimeWarning: invalid value encountered in line_locate_point\n",
      "  return lib.line_locate_point(line, other)\n",
      "c:\\Users\\ad98\\anaconda3\\Lib\\site-packages\\shapely\\linear.py:88: RuntimeWarning: invalid value encountered in line_locate_point\n",
      "  return lib.line_locate_point(line, other)\n",
      "c:\\Users\\ad98\\anaconda3\\Lib\\site-packages\\shapely\\linear.py:88: RuntimeWarning: invalid value encountered in line_locate_point\n",
      "  return lib.line_locate_point(line, other)\n",
      "c:\\Users\\ad98\\anaconda3\\Lib\\site-packages\\shapely\\linear.py:88: RuntimeWarning: invalid value encountered in line_locate_point\n",
      "  return lib.line_locate_point(line, other)\n",
      "c:\\Users\\ad98\\anaconda3\\Lib\\site-packages\\shapely\\linear.py:88: RuntimeWarning: invalid value encountered in line_locate_point\n",
      "  return lib.line_locate_point(line, other)\n",
      "c:\\Users\\ad98\\anaconda3\\Lib\\site-packages\\shapely\\linear.py:88: RuntimeWarning: invalid value encountered in line_locate_point\n",
      "  return lib.line_locate_point(line, other)\n",
      "c:\\Users\\ad98\\anaconda3\\Lib\\site-packages\\shapely\\linear.py:88: RuntimeWarning: invalid value encountered in line_locate_point\n",
      "  return lib.line_locate_point(line, other)\n",
      "c:\\Users\\ad98\\anaconda3\\Lib\\site-packages\\shapely\\linear.py:88: RuntimeWarning: invalid value encountered in line_locate_point\n",
      "  return lib.line_locate_point(line, other)\n",
      "c:\\Users\\ad98\\anaconda3\\Lib\\site-packages\\shapely\\linear.py:88: RuntimeWarning: invalid value encountered in line_locate_point\n",
      "  return lib.line_locate_point(line, other)\n",
      "c:\\Users\\ad98\\anaconda3\\Lib\\site-packages\\shapely\\linear.py:88: RuntimeWarning: invalid value encountered in line_locate_point\n",
      "  return lib.line_locate_point(line, other)\n",
      "c:\\Users\\ad98\\anaconda3\\Lib\\site-packages\\shapely\\linear.py:88: RuntimeWarning: invalid value encountered in line_locate_point\n",
      "  return lib.line_locate_point(line, other)\n",
      "c:\\Users\\ad98\\anaconda3\\Lib\\site-packages\\shapely\\linear.py:88: RuntimeWarning: invalid value encountered in line_locate_point\n",
      "  return lib.line_locate_point(line, other)\n",
      "c:\\Users\\ad98\\anaconda3\\Lib\\site-packages\\shapely\\linear.py:88: RuntimeWarning: invalid value encountered in line_locate_point\n",
      "  return lib.line_locate_point(line, other)\n",
      "c:\\Users\\ad98\\anaconda3\\Lib\\site-packages\\shapely\\linear.py:88: RuntimeWarning: invalid value encountered in line_locate_point\n",
      "  return lib.line_locate_point(line, other)\n",
      "c:\\Users\\ad98\\anaconda3\\Lib\\site-packages\\shapely\\linear.py:88: RuntimeWarning: invalid value encountered in line_locate_point\n",
      "  return lib.line_locate_point(line, other)\n",
      "c:\\Users\\ad98\\anaconda3\\Lib\\site-packages\\shapely\\linear.py:88: RuntimeWarning: invalid value encountered in line_locate_point\n",
      "  return lib.line_locate_point(line, other)\n",
      "c:\\Users\\ad98\\anaconda3\\Lib\\site-packages\\shapely\\linear.py:88: RuntimeWarning: invalid value encountered in line_locate_point\n",
      "  return lib.line_locate_point(line, other)\n",
      "c:\\Users\\ad98\\anaconda3\\Lib\\site-packages\\shapely\\linear.py:88: RuntimeWarning: invalid value encountered in line_locate_point\n",
      "  return lib.line_locate_point(line, other)\n",
      "c:\\Users\\ad98\\anaconda3\\Lib\\site-packages\\shapely\\linear.py:88: RuntimeWarning: invalid value encountered in line_locate_point\n",
      "  return lib.line_locate_point(line, other)\n",
      "c:\\Users\\ad98\\anaconda3\\Lib\\site-packages\\shapely\\linear.py:88: RuntimeWarning: invalid value encountered in line_locate_point\n",
      "  return lib.line_locate_point(line, other)\n",
      "c:\\Users\\ad98\\anaconda3\\Lib\\site-packages\\shapely\\linear.py:88: RuntimeWarning: invalid value encountered in line_locate_point\n",
      "  return lib.line_locate_point(line, other)\n",
      "c:\\Users\\ad98\\anaconda3\\Lib\\site-packages\\shapely\\linear.py:88: RuntimeWarning: invalid value encountered in line_locate_point\n",
      "  return lib.line_locate_point(line, other)\n",
      "c:\\Users\\ad98\\anaconda3\\Lib\\site-packages\\shapely\\linear.py:88: RuntimeWarning: invalid value encountered in line_locate_point\n",
      "  return lib.line_locate_point(line, other)\n",
      "c:\\Users\\ad98\\anaconda3\\Lib\\site-packages\\shapely\\linear.py:88: RuntimeWarning: invalid value encountered in line_locate_point\n",
      "  return lib.line_locate_point(line, other)\n",
      "c:\\Users\\ad98\\anaconda3\\Lib\\site-packages\\shapely\\linear.py:88: RuntimeWarning: invalid value encountered in line_locate_point\n",
      "  return lib.line_locate_point(line, other)\n",
      "c:\\Users\\ad98\\anaconda3\\Lib\\site-packages\\shapely\\linear.py:88: RuntimeWarning: invalid value encountered in line_locate_point\n",
      "  return lib.line_locate_point(line, other)\n",
      "c:\\Users\\ad98\\anaconda3\\Lib\\site-packages\\shapely\\linear.py:88: RuntimeWarning: invalid value encountered in line_locate_point\n",
      "  return lib.line_locate_point(line, other)\n",
      "c:\\Users\\ad98\\anaconda3\\Lib\\site-packages\\shapely\\linear.py:88: RuntimeWarning: invalid value encountered in line_locate_point\n",
      "  return lib.line_locate_point(line, other)\n",
      "c:\\Users\\ad98\\anaconda3\\Lib\\site-packages\\shapely\\linear.py:88: RuntimeWarning: invalid value encountered in line_locate_point\n",
      "  return lib.line_locate_point(line, other)\n",
      "c:\\Users\\ad98\\anaconda3\\Lib\\site-packages\\shapely\\linear.py:88: RuntimeWarning: invalid value encountered in line_locate_point\n",
      "  return lib.line_locate_point(line, other)\n",
      "c:\\Users\\ad98\\anaconda3\\Lib\\site-packages\\shapely\\linear.py:88: RuntimeWarning: invalid value encountered in line_locate_point\n",
      "  return lib.line_locate_point(line, other)\n",
      "c:\\Users\\ad98\\anaconda3\\Lib\\site-packages\\shapely\\linear.py:88: RuntimeWarning: invalid value encountered in line_locate_point\n",
      "  return lib.line_locate_point(line, other)\n",
      "c:\\Users\\ad98\\anaconda3\\Lib\\site-packages\\shapely\\linear.py:88: RuntimeWarning: invalid value encountered in line_locate_point\n",
      "  return lib.line_locate_point(line, other)\n",
      "c:\\Users\\ad98\\anaconda3\\Lib\\site-packages\\shapely\\linear.py:88: RuntimeWarning: invalid value encountered in line_locate_point\n",
      "  return lib.line_locate_point(line, other)\n",
      "c:\\Users\\ad98\\anaconda3\\Lib\\site-packages\\shapely\\linear.py:88: RuntimeWarning: invalid value encountered in line_locate_point\n",
      "  return lib.line_locate_point(line, other)\n",
      "c:\\Users\\ad98\\anaconda3\\Lib\\site-packages\\shapely\\linear.py:88: RuntimeWarning: invalid value encountered in line_locate_point\n",
      "  return lib.line_locate_point(line, other)\n",
      "c:\\Users\\ad98\\anaconda3\\Lib\\site-packages\\shapely\\linear.py:88: RuntimeWarning: invalid value encountered in line_locate_point\n",
      "  return lib.line_locate_point(line, other)\n",
      "c:\\Users\\ad98\\anaconda3\\Lib\\site-packages\\shapely\\linear.py:88: RuntimeWarning: invalid value encountered in line_locate_point\n",
      "  return lib.line_locate_point(line, other)\n",
      "c:\\Users\\ad98\\anaconda3\\Lib\\site-packages\\shapely\\linear.py:88: RuntimeWarning: invalid value encountered in line_locate_point\n",
      "  return lib.line_locate_point(line, other)\n",
      "c:\\Users\\ad98\\anaconda3\\Lib\\site-packages\\shapely\\linear.py:88: RuntimeWarning: invalid value encountered in line_locate_point\n",
      "  return lib.line_locate_point(line, other)\n",
      "c:\\Users\\ad98\\anaconda3\\Lib\\site-packages\\shapely\\linear.py:88: RuntimeWarning: invalid value encountered in line_locate_point\n",
      "  return lib.line_locate_point(line, other)\n",
      "c:\\Users\\ad98\\anaconda3\\Lib\\site-packages\\shapely\\linear.py:88: RuntimeWarning: invalid value encountered in line_locate_point\n",
      "  return lib.line_locate_point(line, other)\n",
      "c:\\Users\\ad98\\anaconda3\\Lib\\site-packages\\shapely\\linear.py:88: RuntimeWarning: invalid value encountered in line_locate_point\n",
      "  return lib.line_locate_point(line, other)\n",
      "c:\\Users\\ad98\\anaconda3\\Lib\\site-packages\\shapely\\linear.py:88: RuntimeWarning: invalid value encountered in line_locate_point\n",
      "  return lib.line_locate_point(line, other)\n",
      "c:\\Users\\ad98\\anaconda3\\Lib\\site-packages\\shapely\\linear.py:88: RuntimeWarning: invalid value encountered in line_locate_point\n",
      "  return lib.line_locate_point(line, other)\n",
      "c:\\Users\\ad98\\anaconda3\\Lib\\site-packages\\shapely\\linear.py:88: RuntimeWarning: invalid value encountered in line_locate_point\n",
      "  return lib.line_locate_point(line, other)\n",
      "c:\\Users\\ad98\\anaconda3\\Lib\\site-packages\\shapely\\linear.py:88: RuntimeWarning: invalid value encountered in line_locate_point\n",
      "  return lib.line_locate_point(line, other)\n",
      "c:\\Users\\ad98\\anaconda3\\Lib\\site-packages\\shapely\\linear.py:88: RuntimeWarning: invalid value encountered in line_locate_point\n",
      "  return lib.line_locate_point(line, other)\n",
      "c:\\Users\\ad98\\anaconda3\\Lib\\site-packages\\shapely\\linear.py:88: RuntimeWarning: invalid value encountered in line_locate_point\n",
      "  return lib.line_locate_point(line, other)\n",
      "c:\\Users\\ad98\\anaconda3\\Lib\\site-packages\\shapely\\linear.py:88: RuntimeWarning: invalid value encountered in line_locate_point\n",
      "  return lib.line_locate_point(line, other)\n",
      "c:\\Users\\ad98\\anaconda3\\Lib\\site-packages\\shapely\\linear.py:88: RuntimeWarning: invalid value encountered in line_locate_point\n",
      "  return lib.line_locate_point(line, other)\n",
      "c:\\Users\\ad98\\anaconda3\\Lib\\site-packages\\shapely\\linear.py:88: RuntimeWarning: invalid value encountered in line_locate_point\n",
      "  return lib.line_locate_point(line, other)\n",
      "c:\\Users\\ad98\\anaconda3\\Lib\\site-packages\\shapely\\linear.py:88: RuntimeWarning: invalid value encountered in line_locate_point\n",
      "  return lib.line_locate_point(line, other)\n",
      "c:\\Users\\ad98\\anaconda3\\Lib\\site-packages\\shapely\\linear.py:88: RuntimeWarning: invalid value encountered in line_locate_point\n",
      "  return lib.line_locate_point(line, other)\n",
      "c:\\Users\\ad98\\anaconda3\\Lib\\site-packages\\shapely\\linear.py:88: RuntimeWarning: invalid value encountered in line_locate_point\n",
      "  return lib.line_locate_point(line, other)\n",
      "c:\\Users\\ad98\\anaconda3\\Lib\\site-packages\\shapely\\linear.py:88: RuntimeWarning: invalid value encountered in line_locate_point\n",
      "  return lib.line_locate_point(line, other)\n",
      "c:\\Users\\ad98\\anaconda3\\Lib\\site-packages\\shapely\\linear.py:88: RuntimeWarning: invalid value encountered in line_locate_point\n",
      "  return lib.line_locate_point(line, other)\n",
      "c:\\Users\\ad98\\anaconda3\\Lib\\site-packages\\shapely\\linear.py:88: RuntimeWarning: invalid value encountered in line_locate_point\n",
      "  return lib.line_locate_point(line, other)\n",
      "c:\\Users\\ad98\\anaconda3\\Lib\\site-packages\\shapely\\linear.py:88: RuntimeWarning: invalid value encountered in line_locate_point\n",
      "  return lib.line_locate_point(line, other)\n",
      "c:\\Users\\ad98\\anaconda3\\Lib\\site-packages\\shapely\\linear.py:88: RuntimeWarning: invalid value encountered in line_locate_point\n",
      "  return lib.line_locate_point(line, other)\n",
      "c:\\Users\\ad98\\anaconda3\\Lib\\site-packages\\shapely\\linear.py:88: RuntimeWarning: invalid value encountered in line_locate_point\n",
      "  return lib.line_locate_point(line, other)\n",
      "c:\\Users\\ad98\\anaconda3\\Lib\\site-packages\\shapely\\linear.py:88: RuntimeWarning: invalid value encountered in line_locate_point\n",
      "  return lib.line_locate_point(line, other)\n",
      "c:\\Users\\ad98\\anaconda3\\Lib\\site-packages\\shapely\\linear.py:88: RuntimeWarning: invalid value encountered in line_locate_point\n",
      "  return lib.line_locate_point(line, other)\n",
      "c:\\Users\\ad98\\anaconda3\\Lib\\site-packages\\shapely\\linear.py:88: RuntimeWarning: invalid value encountered in line_locate_point\n",
      "  return lib.line_locate_point(line, other)\n",
      "c:\\Users\\ad98\\anaconda3\\Lib\\site-packages\\shapely\\linear.py:88: RuntimeWarning: invalid value encountered in line_locate_point\n",
      "  return lib.line_locate_point(line, other)\n",
      "c:\\Users\\ad98\\anaconda3\\Lib\\site-packages\\shapely\\linear.py:88: RuntimeWarning: invalid value encountered in line_locate_point\n",
      "  return lib.line_locate_point(line, other)\n",
      "c:\\Users\\ad98\\anaconda3\\Lib\\site-packages\\shapely\\linear.py:88: RuntimeWarning: invalid value encountered in line_locate_point\n",
      "  return lib.line_locate_point(line, other)\n",
      "c:\\Users\\ad98\\anaconda3\\Lib\\site-packages\\shapely\\linear.py:88: RuntimeWarning: invalid value encountered in line_locate_point\n",
      "  return lib.line_locate_point(line, other)\n",
      "c:\\Users\\ad98\\anaconda3\\Lib\\site-packages\\shapely\\linear.py:88: RuntimeWarning: invalid value encountered in line_locate_point\n",
      "  return lib.line_locate_point(line, other)\n",
      "c:\\Users\\ad98\\anaconda3\\Lib\\site-packages\\shapely\\linear.py:88: RuntimeWarning: invalid value encountered in line_locate_point\n",
      "  return lib.line_locate_point(line, other)\n",
      "c:\\Users\\ad98\\anaconda3\\Lib\\site-packages\\shapely\\linear.py:88: RuntimeWarning: invalid value encountered in line_locate_point\n",
      "  return lib.line_locate_point(line, other)\n",
      "c:\\Users\\ad98\\anaconda3\\Lib\\site-packages\\shapely\\linear.py:88: RuntimeWarning: invalid value encountered in line_locate_point\n",
      "  return lib.line_locate_point(line, other)\n",
      "c:\\Users\\ad98\\anaconda3\\Lib\\site-packages\\shapely\\linear.py:88: RuntimeWarning: invalid value encountered in line_locate_point\n",
      "  return lib.line_locate_point(line, other)\n",
      "c:\\Users\\ad98\\anaconda3\\Lib\\site-packages\\shapely\\linear.py:88: RuntimeWarning: invalid value encountered in line_locate_point\n",
      "  return lib.line_locate_point(line, other)\n",
      "c:\\Users\\ad98\\anaconda3\\Lib\\site-packages\\shapely\\linear.py:88: RuntimeWarning: invalid value encountered in line_locate_point\n",
      "  return lib.line_locate_point(line, other)\n",
      "c:\\Users\\ad98\\anaconda3\\Lib\\site-packages\\shapely\\linear.py:88: RuntimeWarning: invalid value encountered in line_locate_point\n",
      "  return lib.line_locate_point(line, other)\n",
      "c:\\Users\\ad98\\anaconda3\\Lib\\site-packages\\shapely\\linear.py:88: RuntimeWarning: invalid value encountered in line_locate_point\n",
      "  return lib.line_locate_point(line, other)\n",
      "c:\\Users\\ad98\\anaconda3\\Lib\\site-packages\\shapely\\linear.py:88: RuntimeWarning: invalid value encountered in line_locate_point\n",
      "  return lib.line_locate_point(line, other)\n",
      "c:\\Users\\ad98\\anaconda3\\Lib\\site-packages\\shapely\\linear.py:88: RuntimeWarning: invalid value encountered in line_locate_point\n",
      "  return lib.line_locate_point(line, other)\n",
      "c:\\Users\\ad98\\anaconda3\\Lib\\site-packages\\shapely\\linear.py:88: RuntimeWarning: invalid value encountered in line_locate_point\n",
      "  return lib.line_locate_point(line, other)\n",
      "c:\\Users\\ad98\\anaconda3\\Lib\\site-packages\\shapely\\linear.py:88: RuntimeWarning: invalid value encountered in line_locate_point\n",
      "  return lib.line_locate_point(line, other)\n",
      "c:\\Users\\ad98\\anaconda3\\Lib\\site-packages\\shapely\\linear.py:88: RuntimeWarning: invalid value encountered in line_locate_point\n",
      "  return lib.line_locate_point(line, other)\n",
      "c:\\Users\\ad98\\anaconda3\\Lib\\site-packages\\shapely\\linear.py:88: RuntimeWarning: invalid value encountered in line_locate_point\n",
      "  return lib.line_locate_point(line, other)\n",
      "c:\\Users\\ad98\\anaconda3\\Lib\\site-packages\\shapely\\linear.py:88: RuntimeWarning: invalid value encountered in line_locate_point\n",
      "  return lib.line_locate_point(line, other)\n",
      "c:\\Users\\ad98\\anaconda3\\Lib\\site-packages\\shapely\\linear.py:88: RuntimeWarning: invalid value encountered in line_locate_point\n",
      "  return lib.line_locate_point(line, other)\n",
      "c:\\Users\\ad98\\anaconda3\\Lib\\site-packages\\shapely\\linear.py:88: RuntimeWarning: invalid value encountered in line_locate_point\n",
      "  return lib.line_locate_point(line, other)\n",
      "c:\\Users\\ad98\\anaconda3\\Lib\\site-packages\\shapely\\linear.py:88: RuntimeWarning: invalid value encountered in line_locate_point\n",
      "  return lib.line_locate_point(line, other)\n",
      "c:\\Users\\ad98\\anaconda3\\Lib\\site-packages\\shapely\\linear.py:88: RuntimeWarning: invalid value encountered in line_locate_point\n",
      "  return lib.line_locate_point(line, other)\n",
      "c:\\Users\\ad98\\anaconda3\\Lib\\site-packages\\shapely\\linear.py:88: RuntimeWarning: invalid value encountered in line_locate_point\n",
      "  return lib.line_locate_point(line, other)\n",
      "c:\\Users\\ad98\\anaconda3\\Lib\\site-packages\\shapely\\linear.py:88: RuntimeWarning: invalid value encountered in line_locate_point\n",
      "  return lib.line_locate_point(line, other)\n",
      "c:\\Users\\ad98\\anaconda3\\Lib\\site-packages\\shapely\\linear.py:88: RuntimeWarning: invalid value encountered in line_locate_point\n",
      "  return lib.line_locate_point(line, other)\n",
      "c:\\Users\\ad98\\anaconda3\\Lib\\site-packages\\shapely\\linear.py:88: RuntimeWarning: invalid value encountered in line_locate_point\n",
      "  return lib.line_locate_point(line, other)\n",
      "c:\\Users\\ad98\\anaconda3\\Lib\\site-packages\\shapely\\linear.py:88: RuntimeWarning: invalid value encountered in line_locate_point\n",
      "  return lib.line_locate_point(line, other)\n",
      "c:\\Users\\ad98\\anaconda3\\Lib\\site-packages\\shapely\\linear.py:88: RuntimeWarning: invalid value encountered in line_locate_point\n",
      "  return lib.line_locate_point(line, other)\n",
      "c:\\Users\\ad98\\anaconda3\\Lib\\site-packages\\shapely\\linear.py:88: RuntimeWarning: invalid value encountered in line_locate_point\n",
      "  return lib.line_locate_point(line, other)\n",
      "c:\\Users\\ad98\\anaconda3\\Lib\\site-packages\\shapely\\linear.py:88: RuntimeWarning: invalid value encountered in line_locate_point\n",
      "  return lib.line_locate_point(line, other)\n",
      "c:\\Users\\ad98\\anaconda3\\Lib\\site-packages\\shapely\\linear.py:88: RuntimeWarning: invalid value encountered in line_locate_point\n",
      "  return lib.line_locate_point(line, other)\n",
      "c:\\Users\\ad98\\anaconda3\\Lib\\site-packages\\shapely\\linear.py:88: RuntimeWarning: invalid value encountered in line_locate_point\n",
      "  return lib.line_locate_point(line, other)\n",
      "c:\\Users\\ad98\\anaconda3\\Lib\\site-packages\\shapely\\linear.py:88: RuntimeWarning: invalid value encountered in line_locate_point\n",
      "  return lib.line_locate_point(line, other)\n",
      "c:\\Users\\ad98\\anaconda3\\Lib\\site-packages\\shapely\\linear.py:88: RuntimeWarning: invalid value encountered in line_locate_point\n",
      "  return lib.line_locate_point(line, other)\n",
      "c:\\Users\\ad98\\anaconda3\\Lib\\site-packages\\shapely\\linear.py:88: RuntimeWarning: invalid value encountered in line_locate_point\n",
      "  return lib.line_locate_point(line, other)\n",
      "c:\\Users\\ad98\\anaconda3\\Lib\\site-packages\\shapely\\linear.py:88: RuntimeWarning: invalid value encountered in line_locate_point\n",
      "  return lib.line_locate_point(line, other)\n",
      "c:\\Users\\ad98\\anaconda3\\Lib\\site-packages\\shapely\\linear.py:88: RuntimeWarning: invalid value encountered in line_locate_point\n",
      "  return lib.line_locate_point(line, other)\n",
      "c:\\Users\\ad98\\anaconda3\\Lib\\site-packages\\shapely\\linear.py:88: RuntimeWarning: invalid value encountered in line_locate_point\n",
      "  return lib.line_locate_point(line, other)\n",
      "c:\\Users\\ad98\\anaconda3\\Lib\\site-packages\\shapely\\linear.py:88: RuntimeWarning: invalid value encountered in line_locate_point\n",
      "  return lib.line_locate_point(line, other)\n",
      "c:\\Users\\ad98\\anaconda3\\Lib\\site-packages\\shapely\\linear.py:88: RuntimeWarning: invalid value encountered in line_locate_point\n",
      "  return lib.line_locate_point(line, other)\n",
      "c:\\Users\\ad98\\anaconda3\\Lib\\site-packages\\shapely\\linear.py:88: RuntimeWarning: invalid value encountered in line_locate_point\n",
      "  return lib.line_locate_point(line, other)\n",
      "c:\\Users\\ad98\\anaconda3\\Lib\\site-packages\\shapely\\linear.py:88: RuntimeWarning: invalid value encountered in line_locate_point\n",
      "  return lib.line_locate_point(line, other)\n",
      "c:\\Users\\ad98\\anaconda3\\Lib\\site-packages\\shapely\\linear.py:88: RuntimeWarning: invalid value encountered in line_locate_point\n",
      "  return lib.line_locate_point(line, other)\n",
      "c:\\Users\\ad98\\anaconda3\\Lib\\site-packages\\shapely\\linear.py:88: RuntimeWarning: invalid value encountered in line_locate_point\n",
      "  return lib.line_locate_point(line, other)\n",
      "c:\\Users\\ad98\\anaconda3\\Lib\\site-packages\\shapely\\linear.py:88: RuntimeWarning: invalid value encountered in line_locate_point\n",
      "  return lib.line_locate_point(line, other)\n",
      "c:\\Users\\ad98\\anaconda3\\Lib\\site-packages\\shapely\\linear.py:88: RuntimeWarning: invalid value encountered in line_locate_point\n",
      "  return lib.line_locate_point(line, other)\n",
      "c:\\Users\\ad98\\anaconda3\\Lib\\site-packages\\shapely\\linear.py:88: RuntimeWarning: invalid value encountered in line_locate_point\n",
      "  return lib.line_locate_point(line, other)\n",
      "c:\\Users\\ad98\\anaconda3\\Lib\\site-packages\\shapely\\linear.py:88: RuntimeWarning: invalid value encountered in line_locate_point\n",
      "  return lib.line_locate_point(line, other)\n",
      "c:\\Users\\ad98\\anaconda3\\Lib\\site-packages\\shapely\\linear.py:88: RuntimeWarning: invalid value encountered in line_locate_point\n",
      "  return lib.line_locate_point(line, other)\n",
      "c:\\Users\\ad98\\anaconda3\\Lib\\site-packages\\shapely\\linear.py:88: RuntimeWarning: invalid value encountered in line_locate_point\n",
      "  return lib.line_locate_point(line, other)\n",
      "c:\\Users\\ad98\\anaconda3\\Lib\\site-packages\\shapely\\linear.py:88: RuntimeWarning: invalid value encountered in line_locate_point\n",
      "  return lib.line_locate_point(line, other)\n",
      "c:\\Users\\ad98\\anaconda3\\Lib\\site-packages\\shapely\\linear.py:88: RuntimeWarning: invalid value encountered in line_locate_point\n",
      "  return lib.line_locate_point(line, other)\n",
      "c:\\Users\\ad98\\anaconda3\\Lib\\site-packages\\shapely\\linear.py:88: RuntimeWarning: invalid value encountered in line_locate_point\n",
      "  return lib.line_locate_point(line, other)\n",
      "c:\\Users\\ad98\\anaconda3\\Lib\\site-packages\\shapely\\linear.py:88: RuntimeWarning: invalid value encountered in line_locate_point\n",
      "  return lib.line_locate_point(line, other)\n",
      "c:\\Users\\ad98\\anaconda3\\Lib\\site-packages\\shapely\\linear.py:88: RuntimeWarning: invalid value encountered in line_locate_point\n",
      "  return lib.line_locate_point(line, other)\n",
      "c:\\Users\\ad98\\anaconda3\\Lib\\site-packages\\shapely\\linear.py:88: RuntimeWarning: invalid value encountered in line_locate_point\n",
      "  return lib.line_locate_point(line, other)\n",
      "c:\\Users\\ad98\\anaconda3\\Lib\\site-packages\\shapely\\linear.py:88: RuntimeWarning: invalid value encountered in line_locate_point\n",
      "  return lib.line_locate_point(line, other)\n",
      "c:\\Users\\ad98\\anaconda3\\Lib\\site-packages\\shapely\\linear.py:88: RuntimeWarning: invalid value encountered in line_locate_point\n",
      "  return lib.line_locate_point(line, other)\n",
      "c:\\Users\\ad98\\anaconda3\\Lib\\site-packages\\shapely\\linear.py:88: RuntimeWarning: invalid value encountered in line_locate_point\n",
      "  return lib.line_locate_point(line, other)\n",
      "c:\\Users\\ad98\\anaconda3\\Lib\\site-packages\\shapely\\linear.py:88: RuntimeWarning: invalid value encountered in line_locate_point\n",
      "  return lib.line_locate_point(line, other)\n",
      "c:\\Users\\ad98\\anaconda3\\Lib\\site-packages\\shapely\\linear.py:88: RuntimeWarning: invalid value encountered in line_locate_point\n",
      "  return lib.line_locate_point(line, other)\n",
      "c:\\Users\\ad98\\anaconda3\\Lib\\site-packages\\shapely\\linear.py:88: RuntimeWarning: invalid value encountered in line_locate_point\n",
      "  return lib.line_locate_point(line, other)\n",
      "c:\\Users\\ad98\\anaconda3\\Lib\\site-packages\\shapely\\linear.py:88: RuntimeWarning: invalid value encountered in line_locate_point\n",
      "  return lib.line_locate_point(line, other)\n",
      "c:\\Users\\ad98\\anaconda3\\Lib\\site-packages\\shapely\\linear.py:88: RuntimeWarning: invalid value encountered in line_locate_point\n",
      "  return lib.line_locate_point(line, other)\n",
      "c:\\Users\\ad98\\anaconda3\\Lib\\site-packages\\shapely\\linear.py:88: RuntimeWarning: invalid value encountered in line_locate_point\n",
      "  return lib.line_locate_point(line, other)\n",
      "c:\\Users\\ad98\\anaconda3\\Lib\\site-packages\\shapely\\linear.py:88: RuntimeWarning: invalid value encountered in line_locate_point\n",
      "  return lib.line_locate_point(line, other)\n",
      "c:\\Users\\ad98\\anaconda3\\Lib\\site-packages\\shapely\\linear.py:88: RuntimeWarning: invalid value encountered in line_locate_point\n",
      "  return lib.line_locate_point(line, other)\n",
      "c:\\Users\\ad98\\anaconda3\\Lib\\site-packages\\shapely\\linear.py:88: RuntimeWarning: invalid value encountered in line_locate_point\n",
      "  return lib.line_locate_point(line, other)\n",
      "c:\\Users\\ad98\\anaconda3\\Lib\\site-packages\\shapely\\linear.py:88: RuntimeWarning: invalid value encountered in line_locate_point\n",
      "  return lib.line_locate_point(line, other)\n",
      "c:\\Users\\ad98\\anaconda3\\Lib\\site-packages\\shapely\\linear.py:88: RuntimeWarning: invalid value encountered in line_locate_point\n",
      "  return lib.line_locate_point(line, other)\n",
      "c:\\Users\\ad98\\anaconda3\\Lib\\site-packages\\shapely\\linear.py:88: RuntimeWarning: invalid value encountered in line_locate_point\n",
      "  return lib.line_locate_point(line, other)\n",
      "c:\\Users\\ad98\\anaconda3\\Lib\\site-packages\\shapely\\linear.py:88: RuntimeWarning: invalid value encountered in line_locate_point\n",
      "  return lib.line_locate_point(line, other)\n",
      "c:\\Users\\ad98\\anaconda3\\Lib\\site-packages\\shapely\\linear.py:88: RuntimeWarning: invalid value encountered in line_locate_point\n",
      "  return lib.line_locate_point(line, other)\n",
      "c:\\Users\\ad98\\anaconda3\\Lib\\site-packages\\shapely\\linear.py:88: RuntimeWarning: invalid value encountered in line_locate_point\n",
      "  return lib.line_locate_point(line, other)\n",
      "c:\\Users\\ad98\\anaconda3\\Lib\\site-packages\\shapely\\linear.py:88: RuntimeWarning: invalid value encountered in line_locate_point\n",
      "  return lib.line_locate_point(line, other)\n",
      "c:\\Users\\ad98\\anaconda3\\Lib\\site-packages\\shapely\\linear.py:88: RuntimeWarning: invalid value encountered in line_locate_point\n",
      "  return lib.line_locate_point(line, other)\n",
      "c:\\Users\\ad98\\anaconda3\\Lib\\site-packages\\shapely\\linear.py:88: RuntimeWarning: invalid value encountered in line_locate_point\n",
      "  return lib.line_locate_point(line, other)\n",
      "c:\\Users\\ad98\\anaconda3\\Lib\\site-packages\\shapely\\linear.py:88: RuntimeWarning: invalid value encountered in line_locate_point\n",
      "  return lib.line_locate_point(line, other)\n",
      "c:\\Users\\ad98\\anaconda3\\Lib\\site-packages\\shapely\\linear.py:88: RuntimeWarning: invalid value encountered in line_locate_point\n",
      "  return lib.line_locate_point(line, other)\n",
      "c:\\Users\\ad98\\anaconda3\\Lib\\site-packages\\shapely\\linear.py:88: RuntimeWarning: invalid value encountered in line_locate_point\n",
      "  return lib.line_locate_point(line, other)\n",
      "c:\\Users\\ad98\\anaconda3\\Lib\\site-packages\\shapely\\linear.py:88: RuntimeWarning: invalid value encountered in line_locate_point\n",
      "  return lib.line_locate_point(line, other)\n",
      "c:\\Users\\ad98\\anaconda3\\Lib\\site-packages\\shapely\\linear.py:88: RuntimeWarning: invalid value encountered in line_locate_point\n",
      "  return lib.line_locate_point(line, other)\n",
      "c:\\Users\\ad98\\anaconda3\\Lib\\site-packages\\shapely\\linear.py:88: RuntimeWarning: invalid value encountered in line_locate_point\n",
      "  return lib.line_locate_point(line, other)\n",
      "c:\\Users\\ad98\\anaconda3\\Lib\\site-packages\\shapely\\linear.py:88: RuntimeWarning: invalid value encountered in line_locate_point\n",
      "  return lib.line_locate_point(line, other)\n",
      "c:\\Users\\ad98\\anaconda3\\Lib\\site-packages\\shapely\\linear.py:88: RuntimeWarning: invalid value encountered in line_locate_point\n",
      "  return lib.line_locate_point(line, other)\n",
      "c:\\Users\\ad98\\anaconda3\\Lib\\site-packages\\shapely\\linear.py:88: RuntimeWarning: invalid value encountered in line_locate_point\n",
      "  return lib.line_locate_point(line, other)\n",
      "c:\\Users\\ad98\\anaconda3\\Lib\\site-packages\\shapely\\linear.py:88: RuntimeWarning: invalid value encountered in line_locate_point\n",
      "  return lib.line_locate_point(line, other)\n",
      "c:\\Users\\ad98\\anaconda3\\Lib\\site-packages\\shapely\\linear.py:88: RuntimeWarning: invalid value encountered in line_locate_point\n",
      "  return lib.line_locate_point(line, other)\n",
      "c:\\Users\\ad98\\anaconda3\\Lib\\site-packages\\shapely\\linear.py:88: RuntimeWarning: invalid value encountered in line_locate_point\n",
      "  return lib.line_locate_point(line, other)\n",
      "c:\\Users\\ad98\\anaconda3\\Lib\\site-packages\\shapely\\linear.py:88: RuntimeWarning: invalid value encountered in line_locate_point\n",
      "  return lib.line_locate_point(line, other)\n",
      "c:\\Users\\ad98\\anaconda3\\Lib\\site-packages\\shapely\\linear.py:88: RuntimeWarning: invalid value encountered in line_locate_point\n",
      "  return lib.line_locate_point(line, other)\n",
      "c:\\Users\\ad98\\anaconda3\\Lib\\site-packages\\shapely\\linear.py:88: RuntimeWarning: invalid value encountered in line_locate_point\n",
      "  return lib.line_locate_point(line, other)\n",
      "c:\\Users\\ad98\\anaconda3\\Lib\\site-packages\\shapely\\linear.py:88: RuntimeWarning: invalid value encountered in line_locate_point\n",
      "  return lib.line_locate_point(line, other)\n",
      "c:\\Users\\ad98\\anaconda3\\Lib\\site-packages\\shapely\\linear.py:88: RuntimeWarning: invalid value encountered in line_locate_point\n",
      "  return lib.line_locate_point(line, other)\n",
      "c:\\Users\\ad98\\anaconda3\\Lib\\site-packages\\shapely\\linear.py:88: RuntimeWarning: invalid value encountered in line_locate_point\n",
      "  return lib.line_locate_point(line, other)\n",
      "c:\\Users\\ad98\\anaconda3\\Lib\\site-packages\\shapely\\linear.py:88: RuntimeWarning: invalid value encountered in line_locate_point\n",
      "  return lib.line_locate_point(line, other)\n",
      "c:\\Users\\ad98\\anaconda3\\Lib\\site-packages\\shapely\\linear.py:88: RuntimeWarning: invalid value encountered in line_locate_point\n",
      "  return lib.line_locate_point(line, other)\n",
      "c:\\Users\\ad98\\anaconda3\\Lib\\site-packages\\shapely\\linear.py:88: RuntimeWarning: invalid value encountered in line_locate_point\n",
      "  return lib.line_locate_point(line, other)\n",
      "c:\\Users\\ad98\\anaconda3\\Lib\\site-packages\\shapely\\linear.py:88: RuntimeWarning: invalid value encountered in line_locate_point\n",
      "  return lib.line_locate_point(line, other)\n",
      "c:\\Users\\ad98\\anaconda3\\Lib\\site-packages\\shapely\\linear.py:88: RuntimeWarning: invalid value encountered in line_locate_point\n",
      "  return lib.line_locate_point(line, other)\n",
      "c:\\Users\\ad98\\anaconda3\\Lib\\site-packages\\shapely\\linear.py:88: RuntimeWarning: invalid value encountered in line_locate_point\n",
      "  return lib.line_locate_point(line, other)\n",
      "c:\\Users\\ad98\\anaconda3\\Lib\\site-packages\\shapely\\linear.py:88: RuntimeWarning: invalid value encountered in line_locate_point\n",
      "  return lib.line_locate_point(line, other)\n",
      "c:\\Users\\ad98\\anaconda3\\Lib\\site-packages\\shapely\\linear.py:88: RuntimeWarning: invalid value encountered in line_locate_point\n",
      "  return lib.line_locate_point(line, other)\n",
      "c:\\Users\\ad98\\anaconda3\\Lib\\site-packages\\shapely\\linear.py:88: RuntimeWarning: invalid value encountered in line_locate_point\n",
      "  return lib.line_locate_point(line, other)\n",
      "c:\\Users\\ad98\\anaconda3\\Lib\\site-packages\\shapely\\linear.py:88: RuntimeWarning: invalid value encountered in line_locate_point\n",
      "  return lib.line_locate_point(line, other)\n",
      "c:\\Users\\ad98\\anaconda3\\Lib\\site-packages\\shapely\\linear.py:88: RuntimeWarning: invalid value encountered in line_locate_point\n",
      "  return lib.line_locate_point(line, other)\n",
      "c:\\Users\\ad98\\anaconda3\\Lib\\site-packages\\shapely\\linear.py:88: RuntimeWarning: invalid value encountered in line_locate_point\n",
      "  return lib.line_locate_point(line, other)\n",
      "c:\\Users\\ad98\\anaconda3\\Lib\\site-packages\\shapely\\linear.py:88: RuntimeWarning: invalid value encountered in line_locate_point\n",
      "  return lib.line_locate_point(line, other)\n",
      "c:\\Users\\ad98\\anaconda3\\Lib\\site-packages\\shapely\\linear.py:88: RuntimeWarning: invalid value encountered in line_locate_point\n",
      "  return lib.line_locate_point(line, other)\n",
      "c:\\Users\\ad98\\anaconda3\\Lib\\site-packages\\shapely\\linear.py:88: RuntimeWarning: invalid value encountered in line_locate_point\n",
      "  return lib.line_locate_point(line, other)\n",
      "c:\\Users\\ad98\\anaconda3\\Lib\\site-packages\\shapely\\linear.py:88: RuntimeWarning: invalid value encountered in line_locate_point\n",
      "  return lib.line_locate_point(line, other)\n",
      "c:\\Users\\ad98\\anaconda3\\Lib\\site-packages\\shapely\\linear.py:88: RuntimeWarning: invalid value encountered in line_locate_point\n",
      "  return lib.line_locate_point(line, other)\n",
      "c:\\Users\\ad98\\anaconda3\\Lib\\site-packages\\shapely\\linear.py:88: RuntimeWarning: invalid value encountered in line_locate_point\n",
      "  return lib.line_locate_point(line, other)\n",
      "c:\\Users\\ad98\\anaconda3\\Lib\\site-packages\\shapely\\linear.py:88: RuntimeWarning: invalid value encountered in line_locate_point\n",
      "  return lib.line_locate_point(line, other)\n",
      "c:\\Users\\ad98\\anaconda3\\Lib\\site-packages\\shapely\\linear.py:88: RuntimeWarning: invalid value encountered in line_locate_point\n",
      "  return lib.line_locate_point(line, other)\n",
      "c:\\Users\\ad98\\anaconda3\\Lib\\site-packages\\shapely\\linear.py:88: RuntimeWarning: invalid value encountered in line_locate_point\n",
      "  return lib.line_locate_point(line, other)\n",
      "c:\\Users\\ad98\\anaconda3\\Lib\\site-packages\\shapely\\linear.py:88: RuntimeWarning: invalid value encountered in line_locate_point\n",
      "  return lib.line_locate_point(line, other)\n",
      "c:\\Users\\ad98\\anaconda3\\Lib\\site-packages\\shapely\\linear.py:88: RuntimeWarning: invalid value encountered in line_locate_point\n",
      "  return lib.line_locate_point(line, other)\n",
      "c:\\Users\\ad98\\anaconda3\\Lib\\site-packages\\shapely\\linear.py:88: RuntimeWarning: invalid value encountered in line_locate_point\n",
      "  return lib.line_locate_point(line, other)\n",
      "c:\\Users\\ad98\\anaconda3\\Lib\\site-packages\\shapely\\linear.py:88: RuntimeWarning: invalid value encountered in line_locate_point\n",
      "  return lib.line_locate_point(line, other)\n",
      "c:\\Users\\ad98\\anaconda3\\Lib\\site-packages\\shapely\\linear.py:88: RuntimeWarning: invalid value encountered in line_locate_point\n",
      "  return lib.line_locate_point(line, other)\n",
      "c:\\Users\\ad98\\anaconda3\\Lib\\site-packages\\shapely\\linear.py:88: RuntimeWarning: invalid value encountered in line_locate_point\n",
      "  return lib.line_locate_point(line, other)\n",
      "c:\\Users\\ad98\\anaconda3\\Lib\\site-packages\\shapely\\linear.py:88: RuntimeWarning: invalid value encountered in line_locate_point\n",
      "  return lib.line_locate_point(line, other)\n",
      "c:\\Users\\ad98\\anaconda3\\Lib\\site-packages\\shapely\\linear.py:88: RuntimeWarning: invalid value encountered in line_locate_point\n",
      "  return lib.line_locate_point(line, other)\n",
      "c:\\Users\\ad98\\anaconda3\\Lib\\site-packages\\shapely\\linear.py:88: RuntimeWarning: invalid value encountered in line_locate_point\n",
      "  return lib.line_locate_point(line, other)\n",
      "c:\\Users\\ad98\\anaconda3\\Lib\\site-packages\\shapely\\linear.py:88: RuntimeWarning: invalid value encountered in line_locate_point\n",
      "  return lib.line_locate_point(line, other)\n",
      "c:\\Users\\ad98\\anaconda3\\Lib\\site-packages\\shapely\\linear.py:88: RuntimeWarning: invalid value encountered in line_locate_point\n",
      "  return lib.line_locate_point(line, other)\n",
      "c:\\Users\\ad98\\anaconda3\\Lib\\site-packages\\shapely\\linear.py:88: RuntimeWarning: invalid value encountered in line_locate_point\n",
      "  return lib.line_locate_point(line, other)\n",
      "c:\\Users\\ad98\\anaconda3\\Lib\\site-packages\\shapely\\linear.py:88: RuntimeWarning: invalid value encountered in line_locate_point\n",
      "  return lib.line_locate_point(line, other)\n",
      "c:\\Users\\ad98\\anaconda3\\Lib\\site-packages\\shapely\\linear.py:88: RuntimeWarning: invalid value encountered in line_locate_point\n",
      "  return lib.line_locate_point(line, other)\n",
      "c:\\Users\\ad98\\anaconda3\\Lib\\site-packages\\shapely\\linear.py:88: RuntimeWarning: invalid value encountered in line_locate_point\n",
      "  return lib.line_locate_point(line, other)\n",
      "c:\\Users\\ad98\\anaconda3\\Lib\\site-packages\\shapely\\linear.py:88: RuntimeWarning: invalid value encountered in line_locate_point\n",
      "  return lib.line_locate_point(line, other)\n",
      "c:\\Users\\ad98\\anaconda3\\Lib\\site-packages\\shapely\\linear.py:88: RuntimeWarning: invalid value encountered in line_locate_point\n",
      "  return lib.line_locate_point(line, other)\n",
      "c:\\Users\\ad98\\anaconda3\\Lib\\site-packages\\shapely\\linear.py:88: RuntimeWarning: invalid value encountered in line_locate_point\n",
      "  return lib.line_locate_point(line, other)\n",
      "c:\\Users\\ad98\\anaconda3\\Lib\\site-packages\\shapely\\linear.py:88: RuntimeWarning: invalid value encountered in line_locate_point\n",
      "  return lib.line_locate_point(line, other)\n",
      "c:\\Users\\ad98\\anaconda3\\Lib\\site-packages\\shapely\\linear.py:88: RuntimeWarning: invalid value encountered in line_locate_point\n",
      "  return lib.line_locate_point(line, other)\n",
      "c:\\Users\\ad98\\anaconda3\\Lib\\site-packages\\shapely\\linear.py:88: RuntimeWarning: invalid value encountered in line_locate_point\n",
      "  return lib.line_locate_point(line, other)\n",
      "c:\\Users\\ad98\\anaconda3\\Lib\\site-packages\\shapely\\linear.py:88: RuntimeWarning: invalid value encountered in line_locate_point\n",
      "  return lib.line_locate_point(line, other)\n",
      "c:\\Users\\ad98\\anaconda3\\Lib\\site-packages\\shapely\\linear.py:88: RuntimeWarning: invalid value encountered in line_locate_point\n",
      "  return lib.line_locate_point(line, other)\n",
      "c:\\Users\\ad98\\anaconda3\\Lib\\site-packages\\shapely\\linear.py:88: RuntimeWarning: invalid value encountered in line_locate_point\n",
      "  return lib.line_locate_point(line, other)\n",
      "c:\\Users\\ad98\\anaconda3\\Lib\\site-packages\\shapely\\linear.py:88: RuntimeWarning: invalid value encountered in line_locate_point\n",
      "  return lib.line_locate_point(line, other)\n",
      "c:\\Users\\ad98\\anaconda3\\Lib\\site-packages\\shapely\\linear.py:88: RuntimeWarning: invalid value encountered in line_locate_point\n",
      "  return lib.line_locate_point(line, other)\n",
      "c:\\Users\\ad98\\anaconda3\\Lib\\site-packages\\shapely\\linear.py:88: RuntimeWarning: invalid value encountered in line_locate_point\n",
      "  return lib.line_locate_point(line, other)\n",
      "c:\\Users\\ad98\\anaconda3\\Lib\\site-packages\\shapely\\linear.py:88: RuntimeWarning: invalid value encountered in line_locate_point\n",
      "  return lib.line_locate_point(line, other)\n",
      "c:\\Users\\ad98\\anaconda3\\Lib\\site-packages\\shapely\\linear.py:88: RuntimeWarning: invalid value encountered in line_locate_point\n",
      "  return lib.line_locate_point(line, other)\n",
      "c:\\Users\\ad98\\anaconda3\\Lib\\site-packages\\shapely\\linear.py:88: RuntimeWarning: invalid value encountered in line_locate_point\n",
      "  return lib.line_locate_point(line, other)\n",
      "c:\\Users\\ad98\\anaconda3\\Lib\\site-packages\\shapely\\linear.py:88: RuntimeWarning: invalid value encountered in line_locate_point\n",
      "  return lib.line_locate_point(line, other)\n",
      "c:\\Users\\ad98\\anaconda3\\Lib\\site-packages\\shapely\\linear.py:88: RuntimeWarning: invalid value encountered in line_locate_point\n",
      "  return lib.line_locate_point(line, other)\n",
      "c:\\Users\\ad98\\anaconda3\\Lib\\site-packages\\shapely\\linear.py:88: RuntimeWarning: invalid value encountered in line_locate_point\n",
      "  return lib.line_locate_point(line, other)\n",
      "c:\\Users\\ad98\\anaconda3\\Lib\\site-packages\\shapely\\linear.py:88: RuntimeWarning: invalid value encountered in line_locate_point\n",
      "  return lib.line_locate_point(line, other)\n",
      "c:\\Users\\ad98\\anaconda3\\Lib\\site-packages\\shapely\\linear.py:88: RuntimeWarning: invalid value encountered in line_locate_point\n",
      "  return lib.line_locate_point(line, other)\n",
      "c:\\Users\\ad98\\anaconda3\\Lib\\site-packages\\shapely\\linear.py:88: RuntimeWarning: invalid value encountered in line_locate_point\n",
      "  return lib.line_locate_point(line, other)\n",
      "c:\\Users\\ad98\\anaconda3\\Lib\\site-packages\\shapely\\linear.py:88: RuntimeWarning: invalid value encountered in line_locate_point\n",
      "  return lib.line_locate_point(line, other)\n",
      "c:\\Users\\ad98\\anaconda3\\Lib\\site-packages\\shapely\\linear.py:88: RuntimeWarning: invalid value encountered in line_locate_point\n",
      "  return lib.line_locate_point(line, other)\n",
      "c:\\Users\\ad98\\anaconda3\\Lib\\site-packages\\shapely\\linear.py:88: RuntimeWarning: invalid value encountered in line_locate_point\n",
      "  return lib.line_locate_point(line, other)\n",
      "c:\\Users\\ad98\\anaconda3\\Lib\\site-packages\\shapely\\linear.py:88: RuntimeWarning: invalid value encountered in line_locate_point\n",
      "  return lib.line_locate_point(line, other)\n",
      "c:\\Users\\ad98\\anaconda3\\Lib\\site-packages\\shapely\\linear.py:88: RuntimeWarning: invalid value encountered in line_locate_point\n",
      "  return lib.line_locate_point(line, other)\n",
      "c:\\Users\\ad98\\anaconda3\\Lib\\site-packages\\shapely\\linear.py:88: RuntimeWarning: invalid value encountered in line_locate_point\n",
      "  return lib.line_locate_point(line, other)\n",
      "c:\\Users\\ad98\\anaconda3\\Lib\\site-packages\\shapely\\linear.py:88: RuntimeWarning: invalid value encountered in line_locate_point\n",
      "  return lib.line_locate_point(line, other)\n",
      "c:\\Users\\ad98\\anaconda3\\Lib\\site-packages\\shapely\\linear.py:88: RuntimeWarning: invalid value encountered in line_locate_point\n",
      "  return lib.line_locate_point(line, other)\n",
      "c:\\Users\\ad98\\anaconda3\\Lib\\site-packages\\shapely\\linear.py:88: RuntimeWarning: invalid value encountered in line_locate_point\n",
      "  return lib.line_locate_point(line, other)\n",
      "c:\\Users\\ad98\\anaconda3\\Lib\\site-packages\\shapely\\linear.py:88: RuntimeWarning: invalid value encountered in line_locate_point\n",
      "  return lib.line_locate_point(line, other)\n",
      "c:\\Users\\ad98\\anaconda3\\Lib\\site-packages\\shapely\\linear.py:88: RuntimeWarning: invalid value encountered in line_locate_point\n",
      "  return lib.line_locate_point(line, other)\n",
      "c:\\Users\\ad98\\anaconda3\\Lib\\site-packages\\shapely\\linear.py:88: RuntimeWarning: invalid value encountered in line_locate_point\n",
      "  return lib.line_locate_point(line, other)\n",
      "c:\\Users\\ad98\\anaconda3\\Lib\\site-packages\\shapely\\linear.py:88: RuntimeWarning: invalid value encountered in line_locate_point\n",
      "  return lib.line_locate_point(line, other)\n",
      "c:\\Users\\ad98\\anaconda3\\Lib\\site-packages\\shapely\\linear.py:88: RuntimeWarning: invalid value encountered in line_locate_point\n",
      "  return lib.line_locate_point(line, other)\n",
      "c:\\Users\\ad98\\anaconda3\\Lib\\site-packages\\shapely\\linear.py:88: RuntimeWarning: invalid value encountered in line_locate_point\n",
      "  return lib.line_locate_point(line, other)\n",
      "c:\\Users\\ad98\\anaconda3\\Lib\\site-packages\\shapely\\linear.py:88: RuntimeWarning: invalid value encountered in line_locate_point\n",
      "  return lib.line_locate_point(line, other)\n",
      "c:\\Users\\ad98\\anaconda3\\Lib\\site-packages\\shapely\\linear.py:88: RuntimeWarning: invalid value encountered in line_locate_point\n",
      "  return lib.line_locate_point(line, other)\n",
      "c:\\Users\\ad98\\anaconda3\\Lib\\site-packages\\shapely\\linear.py:88: RuntimeWarning: invalid value encountered in line_locate_point\n",
      "  return lib.line_locate_point(line, other)\n",
      "c:\\Users\\ad98\\anaconda3\\Lib\\site-packages\\shapely\\linear.py:88: RuntimeWarning: invalid value encountered in line_locate_point\n",
      "  return lib.line_locate_point(line, other)\n",
      "c:\\Users\\ad98\\anaconda3\\Lib\\site-packages\\shapely\\linear.py:88: RuntimeWarning: invalid value encountered in line_locate_point\n",
      "  return lib.line_locate_point(line, other)\n",
      "c:\\Users\\ad98\\anaconda3\\Lib\\site-packages\\shapely\\linear.py:88: RuntimeWarning: invalid value encountered in line_locate_point\n",
      "  return lib.line_locate_point(line, other)\n",
      "c:\\Users\\ad98\\anaconda3\\Lib\\site-packages\\shapely\\linear.py:88: RuntimeWarning: invalid value encountered in line_locate_point\n",
      "  return lib.line_locate_point(line, other)\n",
      "c:\\Users\\ad98\\anaconda3\\Lib\\site-packages\\shapely\\linear.py:88: RuntimeWarning: invalid value encountered in line_locate_point\n",
      "  return lib.line_locate_point(line, other)\n",
      "c:\\Users\\ad98\\anaconda3\\Lib\\site-packages\\shapely\\linear.py:88: RuntimeWarning: invalid value encountered in line_locate_point\n",
      "  return lib.line_locate_point(line, other)\n",
      "c:\\Users\\ad98\\anaconda3\\Lib\\site-packages\\shapely\\linear.py:88: RuntimeWarning: invalid value encountered in line_locate_point\n",
      "  return lib.line_locate_point(line, other)\n",
      "c:\\Users\\ad98\\anaconda3\\Lib\\site-packages\\shapely\\linear.py:88: RuntimeWarning: invalid value encountered in line_locate_point\n",
      "  return lib.line_locate_point(line, other)\n",
      "c:\\Users\\ad98\\anaconda3\\Lib\\site-packages\\shapely\\linear.py:88: RuntimeWarning: invalid value encountered in line_locate_point\n",
      "  return lib.line_locate_point(line, other)\n",
      "c:\\Users\\ad98\\anaconda3\\Lib\\site-packages\\shapely\\linear.py:88: RuntimeWarning: invalid value encountered in line_locate_point\n",
      "  return lib.line_locate_point(line, other)\n",
      "c:\\Users\\ad98\\anaconda3\\Lib\\site-packages\\shapely\\linear.py:88: RuntimeWarning: invalid value encountered in line_locate_point\n",
      "  return lib.line_locate_point(line, other)\n",
      "c:\\Users\\ad98\\anaconda3\\Lib\\site-packages\\shapely\\linear.py:88: RuntimeWarning: invalid value encountered in line_locate_point\n",
      "  return lib.line_locate_point(line, other)\n",
      "c:\\Users\\ad98\\anaconda3\\Lib\\site-packages\\shapely\\linear.py:88: RuntimeWarning: invalid value encountered in line_locate_point\n",
      "  return lib.line_locate_point(line, other)\n",
      "c:\\Users\\ad98\\anaconda3\\Lib\\site-packages\\shapely\\linear.py:88: RuntimeWarning: invalid value encountered in line_locate_point\n",
      "  return lib.line_locate_point(line, other)\n",
      "c:\\Users\\ad98\\anaconda3\\Lib\\site-packages\\shapely\\linear.py:88: RuntimeWarning: invalid value encountered in line_locate_point\n",
      "  return lib.line_locate_point(line, other)\n",
      "c:\\Users\\ad98\\anaconda3\\Lib\\site-packages\\shapely\\linear.py:88: RuntimeWarning: invalid value encountered in line_locate_point\n",
      "  return lib.line_locate_point(line, other)\n",
      "c:\\Users\\ad98\\anaconda3\\Lib\\site-packages\\shapely\\linear.py:88: RuntimeWarning: invalid value encountered in line_locate_point\n",
      "  return lib.line_locate_point(line, other)\n",
      "c:\\Users\\ad98\\anaconda3\\Lib\\site-packages\\shapely\\linear.py:88: RuntimeWarning: invalid value encountered in line_locate_point\n",
      "  return lib.line_locate_point(line, other)\n",
      "c:\\Users\\ad98\\anaconda3\\Lib\\site-packages\\shapely\\linear.py:88: RuntimeWarning: invalid value encountered in line_locate_point\n",
      "  return lib.line_locate_point(line, other)\n",
      "c:\\Users\\ad98\\anaconda3\\Lib\\site-packages\\shapely\\linear.py:88: RuntimeWarning: invalid value encountered in line_locate_point\n",
      "  return lib.line_locate_point(line, other)\n",
      "c:\\Users\\ad98\\anaconda3\\Lib\\site-packages\\shapely\\linear.py:88: RuntimeWarning: invalid value encountered in line_locate_point\n",
      "  return lib.line_locate_point(line, other)\n",
      "c:\\Users\\ad98\\anaconda3\\Lib\\site-packages\\shapely\\linear.py:88: RuntimeWarning: invalid value encountered in line_locate_point\n",
      "  return lib.line_locate_point(line, other)\n",
      "c:\\Users\\ad98\\anaconda3\\Lib\\site-packages\\shapely\\linear.py:88: RuntimeWarning: invalid value encountered in line_locate_point\n",
      "  return lib.line_locate_point(line, other)\n",
      "c:\\Users\\ad98\\anaconda3\\Lib\\site-packages\\shapely\\linear.py:88: RuntimeWarning: invalid value encountered in line_locate_point\n",
      "  return lib.line_locate_point(line, other)\n",
      "c:\\Users\\ad98\\anaconda3\\Lib\\site-packages\\shapely\\linear.py:88: RuntimeWarning: invalid value encountered in line_locate_point\n",
      "  return lib.line_locate_point(line, other)\n",
      "c:\\Users\\ad98\\anaconda3\\Lib\\site-packages\\shapely\\linear.py:88: RuntimeWarning: invalid value encountered in line_locate_point\n",
      "  return lib.line_locate_point(line, other)\n",
      "c:\\Users\\ad98\\anaconda3\\Lib\\site-packages\\shapely\\linear.py:88: RuntimeWarning: invalid value encountered in line_locate_point\n",
      "  return lib.line_locate_point(line, other)\n",
      "c:\\Users\\ad98\\anaconda3\\Lib\\site-packages\\shapely\\linear.py:88: RuntimeWarning: invalid value encountered in line_locate_point\n",
      "  return lib.line_locate_point(line, other)\n",
      "c:\\Users\\ad98\\anaconda3\\Lib\\site-packages\\shapely\\linear.py:88: RuntimeWarning: invalid value encountered in line_locate_point\n",
      "  return lib.line_locate_point(line, other)\n",
      "c:\\Users\\ad98\\anaconda3\\Lib\\site-packages\\shapely\\linear.py:88: RuntimeWarning: invalid value encountered in line_locate_point\n",
      "  return lib.line_locate_point(line, other)\n",
      "c:\\Users\\ad98\\anaconda3\\Lib\\site-packages\\shapely\\linear.py:88: RuntimeWarning: invalid value encountered in line_locate_point\n",
      "  return lib.line_locate_point(line, other)\n",
      "c:\\Users\\ad98\\anaconda3\\Lib\\site-packages\\shapely\\linear.py:88: RuntimeWarning: invalid value encountered in line_locate_point\n",
      "  return lib.line_locate_point(line, other)\n",
      "c:\\Users\\ad98\\anaconda3\\Lib\\site-packages\\shapely\\linear.py:88: RuntimeWarning: invalid value encountered in line_locate_point\n",
      "  return lib.line_locate_point(line, other)\n",
      "c:\\Users\\ad98\\anaconda3\\Lib\\site-packages\\shapely\\linear.py:88: RuntimeWarning: invalid value encountered in line_locate_point\n",
      "  return lib.line_locate_point(line, other)\n",
      "c:\\Users\\ad98\\anaconda3\\Lib\\site-packages\\shapely\\linear.py:88: RuntimeWarning: invalid value encountered in line_locate_point\n",
      "  return lib.line_locate_point(line, other)\n",
      "c:\\Users\\ad98\\anaconda3\\Lib\\site-packages\\shapely\\linear.py:88: RuntimeWarning: invalid value encountered in line_locate_point\n",
      "  return lib.line_locate_point(line, other)\n",
      "c:\\Users\\ad98\\anaconda3\\Lib\\site-packages\\shapely\\linear.py:88: RuntimeWarning: invalid value encountered in line_locate_point\n",
      "  return lib.line_locate_point(line, other)\n",
      "c:\\Users\\ad98\\anaconda3\\Lib\\site-packages\\shapely\\linear.py:88: RuntimeWarning: invalid value encountered in line_locate_point\n",
      "  return lib.line_locate_point(line, other)\n",
      "c:\\Users\\ad98\\anaconda3\\Lib\\site-packages\\shapely\\linear.py:88: RuntimeWarning: invalid value encountered in line_locate_point\n",
      "  return lib.line_locate_point(line, other)\n",
      "c:\\Users\\ad98\\anaconda3\\Lib\\site-packages\\shapely\\linear.py:88: RuntimeWarning: invalid value encountered in line_locate_point\n",
      "  return lib.line_locate_point(line, other)\n",
      "c:\\Users\\ad98\\anaconda3\\Lib\\site-packages\\shapely\\linear.py:88: RuntimeWarning: invalid value encountered in line_locate_point\n",
      "  return lib.line_locate_point(line, other)\n",
      "c:\\Users\\ad98\\anaconda3\\Lib\\site-packages\\shapely\\linear.py:88: RuntimeWarning: invalid value encountered in line_locate_point\n",
      "  return lib.line_locate_point(line, other)\n",
      "c:\\Users\\ad98\\anaconda3\\Lib\\site-packages\\shapely\\linear.py:88: RuntimeWarning: invalid value encountered in line_locate_point\n",
      "  return lib.line_locate_point(line, other)\n",
      "c:\\Users\\ad98\\anaconda3\\Lib\\site-packages\\shapely\\linear.py:88: RuntimeWarning: invalid value encountered in line_locate_point\n",
      "  return lib.line_locate_point(line, other)\n",
      "c:\\Users\\ad98\\anaconda3\\Lib\\site-packages\\shapely\\linear.py:88: RuntimeWarning: invalid value encountered in line_locate_point\n",
      "  return lib.line_locate_point(line, other)\n",
      "c:\\Users\\ad98\\anaconda3\\Lib\\site-packages\\shapely\\linear.py:88: RuntimeWarning: invalid value encountered in line_locate_point\n",
      "  return lib.line_locate_point(line, other)\n",
      "c:\\Users\\ad98\\anaconda3\\Lib\\site-packages\\shapely\\linear.py:88: RuntimeWarning: invalid value encountered in line_locate_point\n",
      "  return lib.line_locate_point(line, other)\n",
      "c:\\Users\\ad98\\anaconda3\\Lib\\site-packages\\shapely\\linear.py:88: RuntimeWarning: invalid value encountered in line_locate_point\n",
      "  return lib.line_locate_point(line, other)\n",
      "c:\\Users\\ad98\\anaconda3\\Lib\\site-packages\\shapely\\linear.py:88: RuntimeWarning: invalid value encountered in line_locate_point\n",
      "  return lib.line_locate_point(line, other)\n",
      "c:\\Users\\ad98\\anaconda3\\Lib\\site-packages\\shapely\\linear.py:88: RuntimeWarning: invalid value encountered in line_locate_point\n",
      "  return lib.line_locate_point(line, other)\n",
      "c:\\Users\\ad98\\anaconda3\\Lib\\site-packages\\shapely\\linear.py:88: RuntimeWarning: invalid value encountered in line_locate_point\n",
      "  return lib.line_locate_point(line, other)\n",
      "c:\\Users\\ad98\\anaconda3\\Lib\\site-packages\\shapely\\linear.py:88: RuntimeWarning: invalid value encountered in line_locate_point\n",
      "  return lib.line_locate_point(line, other)\n",
      "c:\\Users\\ad98\\anaconda3\\Lib\\site-packages\\shapely\\linear.py:88: RuntimeWarning: invalid value encountered in line_locate_point\n",
      "  return lib.line_locate_point(line, other)\n",
      "c:\\Users\\ad98\\anaconda3\\Lib\\site-packages\\shapely\\linear.py:88: RuntimeWarning: invalid value encountered in line_locate_point\n",
      "  return lib.line_locate_point(line, other)\n",
      "c:\\Users\\ad98\\anaconda3\\Lib\\site-packages\\shapely\\linear.py:88: RuntimeWarning: invalid value encountered in line_locate_point\n",
      "  return lib.line_locate_point(line, other)\n",
      "c:\\Users\\ad98\\anaconda3\\Lib\\site-packages\\shapely\\linear.py:88: RuntimeWarning: invalid value encountered in line_locate_point\n",
      "  return lib.line_locate_point(line, other)\n",
      "c:\\Users\\ad98\\anaconda3\\Lib\\site-packages\\shapely\\linear.py:88: RuntimeWarning: invalid value encountered in line_locate_point\n",
      "  return lib.line_locate_point(line, other)\n",
      "c:\\Users\\ad98\\anaconda3\\Lib\\site-packages\\shapely\\linear.py:88: RuntimeWarning: invalid value encountered in line_locate_point\n",
      "  return lib.line_locate_point(line, other)\n",
      "c:\\Users\\ad98\\anaconda3\\Lib\\site-packages\\shapely\\linear.py:88: RuntimeWarning: invalid value encountered in line_locate_point\n",
      "  return lib.line_locate_point(line, other)\n",
      "c:\\Users\\ad98\\anaconda3\\Lib\\site-packages\\shapely\\linear.py:88: RuntimeWarning: invalid value encountered in line_locate_point\n",
      "  return lib.line_locate_point(line, other)\n",
      "c:\\Users\\ad98\\anaconda3\\Lib\\site-packages\\shapely\\linear.py:88: RuntimeWarning: invalid value encountered in line_locate_point\n",
      "  return lib.line_locate_point(line, other)\n",
      "c:\\Users\\ad98\\anaconda3\\Lib\\site-packages\\shapely\\linear.py:88: RuntimeWarning: invalid value encountered in line_locate_point\n",
      "  return lib.line_locate_point(line, other)\n",
      "c:\\Users\\ad98\\anaconda3\\Lib\\site-packages\\shapely\\linear.py:88: RuntimeWarning: invalid value encountered in line_locate_point\n",
      "  return lib.line_locate_point(line, other)\n",
      "c:\\Users\\ad98\\anaconda3\\Lib\\site-packages\\shapely\\linear.py:88: RuntimeWarning: invalid value encountered in line_locate_point\n",
      "  return lib.line_locate_point(line, other)\n",
      "c:\\Users\\ad98\\anaconda3\\Lib\\site-packages\\shapely\\linear.py:88: RuntimeWarning: invalid value encountered in line_locate_point\n",
      "  return lib.line_locate_point(line, other)\n",
      "c:\\Users\\ad98\\anaconda3\\Lib\\site-packages\\shapely\\linear.py:88: RuntimeWarning: invalid value encountered in line_locate_point\n",
      "  return lib.line_locate_point(line, other)\n",
      "c:\\Users\\ad98\\anaconda3\\Lib\\site-packages\\shapely\\linear.py:88: RuntimeWarning: invalid value encountered in line_locate_point\n",
      "  return lib.line_locate_point(line, other)\n",
      "c:\\Users\\ad98\\anaconda3\\Lib\\site-packages\\shapely\\linear.py:88: RuntimeWarning: invalid value encountered in line_locate_point\n",
      "  return lib.line_locate_point(line, other)\n",
      "c:\\Users\\ad98\\anaconda3\\Lib\\site-packages\\shapely\\linear.py:88: RuntimeWarning: invalid value encountered in line_locate_point\n",
      "  return lib.line_locate_point(line, other)\n",
      "c:\\Users\\ad98\\anaconda3\\Lib\\site-packages\\shapely\\linear.py:88: RuntimeWarning: invalid value encountered in line_locate_point\n",
      "  return lib.line_locate_point(line, other)\n",
      "c:\\Users\\ad98\\anaconda3\\Lib\\site-packages\\shapely\\linear.py:88: RuntimeWarning: invalid value encountered in line_locate_point\n",
      "  return lib.line_locate_point(line, other)\n",
      "c:\\Users\\ad98\\anaconda3\\Lib\\site-packages\\shapely\\linear.py:88: RuntimeWarning: invalid value encountered in line_locate_point\n",
      "  return lib.line_locate_point(line, other)\n",
      "c:\\Users\\ad98\\anaconda3\\Lib\\site-packages\\shapely\\linear.py:88: RuntimeWarning: invalid value encountered in line_locate_point\n",
      "  return lib.line_locate_point(line, other)\n",
      "c:\\Users\\ad98\\anaconda3\\Lib\\site-packages\\shapely\\linear.py:88: RuntimeWarning: invalid value encountered in line_locate_point\n",
      "  return lib.line_locate_point(line, other)\n",
      "c:\\Users\\ad98\\anaconda3\\Lib\\site-packages\\shapely\\linear.py:88: RuntimeWarning: invalid value encountered in line_locate_point\n",
      "  return lib.line_locate_point(line, other)\n",
      "c:\\Users\\ad98\\anaconda3\\Lib\\site-packages\\shapely\\linear.py:88: RuntimeWarning: invalid value encountered in line_locate_point\n",
      "  return lib.line_locate_point(line, other)\n",
      "c:\\Users\\ad98\\anaconda3\\Lib\\site-packages\\shapely\\linear.py:88: RuntimeWarning: invalid value encountered in line_locate_point\n",
      "  return lib.line_locate_point(line, other)\n",
      "c:\\Users\\ad98\\anaconda3\\Lib\\site-packages\\shapely\\linear.py:88: RuntimeWarning: invalid value encountered in line_locate_point\n",
      "  return lib.line_locate_point(line, other)\n",
      "c:\\Users\\ad98\\anaconda3\\Lib\\site-packages\\shapely\\linear.py:88: RuntimeWarning: invalid value encountered in line_locate_point\n",
      "  return lib.line_locate_point(line, other)\n",
      "c:\\Users\\ad98\\anaconda3\\Lib\\site-packages\\shapely\\linear.py:88: RuntimeWarning: invalid value encountered in line_locate_point\n",
      "  return lib.line_locate_point(line, other)\n",
      "c:\\Users\\ad98\\anaconda3\\Lib\\site-packages\\shapely\\linear.py:88: RuntimeWarning: invalid value encountered in line_locate_point\n",
      "  return lib.line_locate_point(line, other)\n",
      "c:\\Users\\ad98\\anaconda3\\Lib\\site-packages\\shapely\\linear.py:88: RuntimeWarning: invalid value encountered in line_locate_point\n",
      "  return lib.line_locate_point(line, other)\n",
      "c:\\Users\\ad98\\anaconda3\\Lib\\site-packages\\shapely\\linear.py:88: RuntimeWarning: invalid value encountered in line_locate_point\n",
      "  return lib.line_locate_point(line, other)\n",
      "c:\\Users\\ad98\\anaconda3\\Lib\\site-packages\\shapely\\linear.py:88: RuntimeWarning: invalid value encountered in line_locate_point\n",
      "  return lib.line_locate_point(line, other)\n",
      "c:\\Users\\ad98\\anaconda3\\Lib\\site-packages\\shapely\\linear.py:88: RuntimeWarning: invalid value encountered in line_locate_point\n",
      "  return lib.line_locate_point(line, other)\n",
      "c:\\Users\\ad98\\anaconda3\\Lib\\site-packages\\shapely\\linear.py:88: RuntimeWarning: invalid value encountered in line_locate_point\n",
      "  return lib.line_locate_point(line, other)\n",
      "c:\\Users\\ad98\\anaconda3\\Lib\\site-packages\\shapely\\linear.py:88: RuntimeWarning: invalid value encountered in line_locate_point\n",
      "  return lib.line_locate_point(line, other)\n",
      "c:\\Users\\ad98\\anaconda3\\Lib\\site-packages\\shapely\\linear.py:88: RuntimeWarning: invalid value encountered in line_locate_point\n",
      "  return lib.line_locate_point(line, other)\n",
      "c:\\Users\\ad98\\anaconda3\\Lib\\site-packages\\shapely\\linear.py:88: RuntimeWarning: invalid value encountered in line_locate_point\n",
      "  return lib.line_locate_point(line, other)\n",
      "c:\\Users\\ad98\\anaconda3\\Lib\\site-packages\\shapely\\linear.py:88: RuntimeWarning: invalid value encountered in line_locate_point\n",
      "  return lib.line_locate_point(line, other)\n",
      "c:\\Users\\ad98\\anaconda3\\Lib\\site-packages\\shapely\\linear.py:88: RuntimeWarning: invalid value encountered in line_locate_point\n",
      "  return lib.line_locate_point(line, other)\n",
      "c:\\Users\\ad98\\anaconda3\\Lib\\site-packages\\shapely\\linear.py:88: RuntimeWarning: invalid value encountered in line_locate_point\n",
      "  return lib.line_locate_point(line, other)\n",
      "c:\\Users\\ad98\\anaconda3\\Lib\\site-packages\\shapely\\linear.py:88: RuntimeWarning: invalid value encountered in line_locate_point\n",
      "  return lib.line_locate_point(line, other)\n",
      "c:\\Users\\ad98\\anaconda3\\Lib\\site-packages\\shapely\\linear.py:88: RuntimeWarning: invalid value encountered in line_locate_point\n",
      "  return lib.line_locate_point(line, other)\n",
      "c:\\Users\\ad98\\anaconda3\\Lib\\site-packages\\shapely\\linear.py:88: RuntimeWarning: invalid value encountered in line_locate_point\n",
      "  return lib.line_locate_point(line, other)\n",
      "c:\\Users\\ad98\\anaconda3\\Lib\\site-packages\\shapely\\linear.py:88: RuntimeWarning: invalid value encountered in line_locate_point\n",
      "  return lib.line_locate_point(line, other)\n",
      "c:\\Users\\ad98\\anaconda3\\Lib\\site-packages\\shapely\\linear.py:88: RuntimeWarning: invalid value encountered in line_locate_point\n",
      "  return lib.line_locate_point(line, other)\n",
      "c:\\Users\\ad98\\anaconda3\\Lib\\site-packages\\shapely\\linear.py:88: RuntimeWarning: invalid value encountered in line_locate_point\n",
      "  return lib.line_locate_point(line, other)\n",
      "c:\\Users\\ad98\\anaconda3\\Lib\\site-packages\\shapely\\linear.py:88: RuntimeWarning: invalid value encountered in line_locate_point\n",
      "  return lib.line_locate_point(line, other)\n",
      "c:\\Users\\ad98\\anaconda3\\Lib\\site-packages\\shapely\\linear.py:88: RuntimeWarning: invalid value encountered in line_locate_point\n",
      "  return lib.line_locate_point(line, other)\n",
      "c:\\Users\\ad98\\anaconda3\\Lib\\site-packages\\shapely\\linear.py:88: RuntimeWarning: invalid value encountered in line_locate_point\n",
      "  return lib.line_locate_point(line, other)\n",
      "c:\\Users\\ad98\\anaconda3\\Lib\\site-packages\\shapely\\linear.py:88: RuntimeWarning: invalid value encountered in line_locate_point\n",
      "  return lib.line_locate_point(line, other)\n",
      "c:\\Users\\ad98\\anaconda3\\Lib\\site-packages\\shapely\\linear.py:88: RuntimeWarning: invalid value encountered in line_locate_point\n",
      "  return lib.line_locate_point(line, other)\n",
      "c:\\Users\\ad98\\anaconda3\\Lib\\site-packages\\shapely\\linear.py:88: RuntimeWarning: invalid value encountered in line_locate_point\n",
      "  return lib.line_locate_point(line, other)\n",
      "c:\\Users\\ad98\\anaconda3\\Lib\\site-packages\\shapely\\linear.py:88: RuntimeWarning: invalid value encountered in line_locate_point\n",
      "  return lib.line_locate_point(line, other)\n",
      "c:\\Users\\ad98\\anaconda3\\Lib\\site-packages\\shapely\\linear.py:88: RuntimeWarning: invalid value encountered in line_locate_point\n",
      "  return lib.line_locate_point(line, other)\n",
      "c:\\Users\\ad98\\anaconda3\\Lib\\site-packages\\shapely\\linear.py:88: RuntimeWarning: invalid value encountered in line_locate_point\n",
      "  return lib.line_locate_point(line, other)\n",
      "c:\\Users\\ad98\\anaconda3\\Lib\\site-packages\\shapely\\linear.py:88: RuntimeWarning: invalid value encountered in line_locate_point\n",
      "  return lib.line_locate_point(line, other)\n",
      "c:\\Users\\ad98\\anaconda3\\Lib\\site-packages\\shapely\\linear.py:88: RuntimeWarning: invalid value encountered in line_locate_point\n",
      "  return lib.line_locate_point(line, other)\n",
      "c:\\Users\\ad98\\anaconda3\\Lib\\site-packages\\shapely\\linear.py:88: RuntimeWarning: invalid value encountered in line_locate_point\n",
      "  return lib.line_locate_point(line, other)\n",
      "c:\\Users\\ad98\\anaconda3\\Lib\\site-packages\\shapely\\linear.py:88: RuntimeWarning: invalid value encountered in line_locate_point\n",
      "  return lib.line_locate_point(line, other)\n",
      "c:\\Users\\ad98\\anaconda3\\Lib\\site-packages\\shapely\\linear.py:88: RuntimeWarning: invalid value encountered in line_locate_point\n",
      "  return lib.line_locate_point(line, other)\n",
      "c:\\Users\\ad98\\anaconda3\\Lib\\site-packages\\shapely\\linear.py:88: RuntimeWarning: invalid value encountered in line_locate_point\n",
      "  return lib.line_locate_point(line, other)\n",
      "c:\\Users\\ad98\\anaconda3\\Lib\\site-packages\\shapely\\linear.py:88: RuntimeWarning: invalid value encountered in line_locate_point\n",
      "  return lib.line_locate_point(line, other)\n",
      "c:\\Users\\ad98\\anaconda3\\Lib\\site-packages\\shapely\\linear.py:88: RuntimeWarning: invalid value encountered in line_locate_point\n",
      "  return lib.line_locate_point(line, other)\n",
      "c:\\Users\\ad98\\anaconda3\\Lib\\site-packages\\shapely\\linear.py:88: RuntimeWarning: invalid value encountered in line_locate_point\n",
      "  return lib.line_locate_point(line, other)\n",
      "c:\\Users\\ad98\\anaconda3\\Lib\\site-packages\\shapely\\linear.py:88: RuntimeWarning: invalid value encountered in line_locate_point\n",
      "  return lib.line_locate_point(line, other)\n",
      "c:\\Users\\ad98\\anaconda3\\Lib\\site-packages\\shapely\\linear.py:88: RuntimeWarning: invalid value encountered in line_locate_point\n",
      "  return lib.line_locate_point(line, other)\n",
      "c:\\Users\\ad98\\anaconda3\\Lib\\site-packages\\shapely\\linear.py:88: RuntimeWarning: invalid value encountered in line_locate_point\n",
      "  return lib.line_locate_point(line, other)\n",
      "c:\\Users\\ad98\\anaconda3\\Lib\\site-packages\\shapely\\linear.py:88: RuntimeWarning: invalid value encountered in line_locate_point\n",
      "  return lib.line_locate_point(line, other)\n",
      "c:\\Users\\ad98\\anaconda3\\Lib\\site-packages\\shapely\\linear.py:88: RuntimeWarning: invalid value encountered in line_locate_point\n",
      "  return lib.line_locate_point(line, other)\n",
      "c:\\Users\\ad98\\anaconda3\\Lib\\site-packages\\shapely\\linear.py:88: RuntimeWarning: invalid value encountered in line_locate_point\n",
      "  return lib.line_locate_point(line, other)\n",
      "c:\\Users\\ad98\\anaconda3\\Lib\\site-packages\\shapely\\linear.py:88: RuntimeWarning: invalid value encountered in line_locate_point\n",
      "  return lib.line_locate_point(line, other)\n",
      "c:\\Users\\ad98\\anaconda3\\Lib\\site-packages\\shapely\\linear.py:88: RuntimeWarning: invalid value encountered in line_locate_point\n",
      "  return lib.line_locate_point(line, other)\n",
      "c:\\Users\\ad98\\anaconda3\\Lib\\site-packages\\shapely\\linear.py:88: RuntimeWarning: invalid value encountered in line_locate_point\n",
      "  return lib.line_locate_point(line, other)\n",
      "c:\\Users\\ad98\\anaconda3\\Lib\\site-packages\\shapely\\linear.py:88: RuntimeWarning: invalid value encountered in line_locate_point\n",
      "  return lib.line_locate_point(line, other)\n",
      "c:\\Users\\ad98\\anaconda3\\Lib\\site-packages\\shapely\\linear.py:88: RuntimeWarning: invalid value encountered in line_locate_point\n",
      "  return lib.line_locate_point(line, other)\n",
      "c:\\Users\\ad98\\anaconda3\\Lib\\site-packages\\shapely\\linear.py:88: RuntimeWarning: invalid value encountered in line_locate_point\n",
      "  return lib.line_locate_point(line, other)\n",
      "c:\\Users\\ad98\\anaconda3\\Lib\\site-packages\\shapely\\linear.py:88: RuntimeWarning: invalid value encountered in line_locate_point\n",
      "  return lib.line_locate_point(line, other)\n",
      "c:\\Users\\ad98\\anaconda3\\Lib\\site-packages\\shapely\\linear.py:88: RuntimeWarning: invalid value encountered in line_locate_point\n",
      "  return lib.line_locate_point(line, other)\n",
      "c:\\Users\\ad98\\anaconda3\\Lib\\site-packages\\shapely\\linear.py:88: RuntimeWarning: invalid value encountered in line_locate_point\n",
      "  return lib.line_locate_point(line, other)\n",
      "c:\\Users\\ad98\\anaconda3\\Lib\\site-packages\\shapely\\linear.py:88: RuntimeWarning: invalid value encountered in line_locate_point\n",
      "  return lib.line_locate_point(line, other)\n",
      "c:\\Users\\ad98\\anaconda3\\Lib\\site-packages\\shapely\\linear.py:88: RuntimeWarning: invalid value encountered in line_locate_point\n",
      "  return lib.line_locate_point(line, other)\n",
      "c:\\Users\\ad98\\anaconda3\\Lib\\site-packages\\shapely\\linear.py:88: RuntimeWarning: invalid value encountered in line_locate_point\n",
      "  return lib.line_locate_point(line, other)\n",
      "c:\\Users\\ad98\\anaconda3\\Lib\\site-packages\\shapely\\linear.py:88: RuntimeWarning: invalid value encountered in line_locate_point\n",
      "  return lib.line_locate_point(line, other)\n",
      "c:\\Users\\ad98\\anaconda3\\Lib\\site-packages\\shapely\\linear.py:88: RuntimeWarning: invalid value encountered in line_locate_point\n",
      "  return lib.line_locate_point(line, other)\n",
      "c:\\Users\\ad98\\anaconda3\\Lib\\site-packages\\shapely\\linear.py:88: RuntimeWarning: invalid value encountered in line_locate_point\n",
      "  return lib.line_locate_point(line, other)\n",
      "c:\\Users\\ad98\\anaconda3\\Lib\\site-packages\\shapely\\linear.py:88: RuntimeWarning: invalid value encountered in line_locate_point\n",
      "  return lib.line_locate_point(line, other)\n",
      "c:\\Users\\ad98\\anaconda3\\Lib\\site-packages\\shapely\\linear.py:88: RuntimeWarning: invalid value encountered in line_locate_point\n",
      "  return lib.line_locate_point(line, other)\n",
      "c:\\Users\\ad98\\anaconda3\\Lib\\site-packages\\shapely\\linear.py:88: RuntimeWarning: invalid value encountered in line_locate_point\n",
      "  return lib.line_locate_point(line, other)\n",
      "c:\\Users\\ad98\\anaconda3\\Lib\\site-packages\\shapely\\linear.py:88: RuntimeWarning: invalid value encountered in line_locate_point\n",
      "  return lib.line_locate_point(line, other)\n",
      "c:\\Users\\ad98\\anaconda3\\Lib\\site-packages\\shapely\\linear.py:88: RuntimeWarning: invalid value encountered in line_locate_point\n",
      "  return lib.line_locate_point(line, other)\n",
      "c:\\Users\\ad98\\anaconda3\\Lib\\site-packages\\shapely\\linear.py:88: RuntimeWarning: invalid value encountered in line_locate_point\n",
      "  return lib.line_locate_point(line, other)\n",
      "c:\\Users\\ad98\\anaconda3\\Lib\\site-packages\\shapely\\linear.py:88: RuntimeWarning: invalid value encountered in line_locate_point\n",
      "  return lib.line_locate_point(line, other)\n",
      "c:\\Users\\ad98\\anaconda3\\Lib\\site-packages\\shapely\\linear.py:88: RuntimeWarning: invalid value encountered in line_locate_point\n",
      "  return lib.line_locate_point(line, other)\n",
      "c:\\Users\\ad98\\anaconda3\\Lib\\site-packages\\shapely\\linear.py:88: RuntimeWarning: invalid value encountered in line_locate_point\n",
      "  return lib.line_locate_point(line, other)\n",
      "c:\\Users\\ad98\\anaconda3\\Lib\\site-packages\\shapely\\linear.py:88: RuntimeWarning: invalid value encountered in line_locate_point\n",
      "  return lib.line_locate_point(line, other)\n",
      "c:\\Users\\ad98\\anaconda3\\Lib\\site-packages\\shapely\\linear.py:88: RuntimeWarning: invalid value encountered in line_locate_point\n",
      "  return lib.line_locate_point(line, other)\n",
      "c:\\Users\\ad98\\anaconda3\\Lib\\site-packages\\shapely\\linear.py:88: RuntimeWarning: invalid value encountered in line_locate_point\n",
      "  return lib.line_locate_point(line, other)\n",
      "c:\\Users\\ad98\\anaconda3\\Lib\\site-packages\\shapely\\linear.py:88: RuntimeWarning: invalid value encountered in line_locate_point\n",
      "  return lib.line_locate_point(line, other)\n",
      "c:\\Users\\ad98\\anaconda3\\Lib\\site-packages\\shapely\\linear.py:88: RuntimeWarning: invalid value encountered in line_locate_point\n",
      "  return lib.line_locate_point(line, other)\n",
      "c:\\Users\\ad98\\anaconda3\\Lib\\site-packages\\shapely\\linear.py:88: RuntimeWarning: invalid value encountered in line_locate_point\n",
      "  return lib.line_locate_point(line, other)\n",
      "c:\\Users\\ad98\\anaconda3\\Lib\\site-packages\\shapely\\linear.py:88: RuntimeWarning: invalid value encountered in line_locate_point\n",
      "  return lib.line_locate_point(line, other)\n",
      "c:\\Users\\ad98\\anaconda3\\Lib\\site-packages\\shapely\\linear.py:88: RuntimeWarning: invalid value encountered in line_locate_point\n",
      "  return lib.line_locate_point(line, other)\n",
      "c:\\Users\\ad98\\anaconda3\\Lib\\site-packages\\shapely\\linear.py:88: RuntimeWarning: invalid value encountered in line_locate_point\n",
      "  return lib.line_locate_point(line, other)\n",
      "c:\\Users\\ad98\\anaconda3\\Lib\\site-packages\\shapely\\linear.py:88: RuntimeWarning: invalid value encountered in line_locate_point\n",
      "  return lib.line_locate_point(line, other)\n",
      "c:\\Users\\ad98\\anaconda3\\Lib\\site-packages\\shapely\\linear.py:88: RuntimeWarning: invalid value encountered in line_locate_point\n",
      "  return lib.line_locate_point(line, other)\n",
      "c:\\Users\\ad98\\anaconda3\\Lib\\site-packages\\shapely\\linear.py:88: RuntimeWarning: invalid value encountered in line_locate_point\n",
      "  return lib.line_locate_point(line, other)\n",
      "c:\\Users\\ad98\\anaconda3\\Lib\\site-packages\\shapely\\linear.py:88: RuntimeWarning: invalid value encountered in line_locate_point\n",
      "  return lib.line_locate_point(line, other)\n",
      "c:\\Users\\ad98\\anaconda3\\Lib\\site-packages\\shapely\\linear.py:88: RuntimeWarning: invalid value encountered in line_locate_point\n",
      "  return lib.line_locate_point(line, other)\n",
      "c:\\Users\\ad98\\anaconda3\\Lib\\site-packages\\shapely\\linear.py:88: RuntimeWarning: invalid value encountered in line_locate_point\n",
      "  return lib.line_locate_point(line, other)\n",
      "c:\\Users\\ad98\\anaconda3\\Lib\\site-packages\\shapely\\linear.py:88: RuntimeWarning: invalid value encountered in line_locate_point\n",
      "  return lib.line_locate_point(line, other)\n",
      "c:\\Users\\ad98\\anaconda3\\Lib\\site-packages\\shapely\\linear.py:88: RuntimeWarning: invalid value encountered in line_locate_point\n",
      "  return lib.line_locate_point(line, other)\n",
      "c:\\Users\\ad98\\anaconda3\\Lib\\site-packages\\shapely\\linear.py:88: RuntimeWarning: invalid value encountered in line_locate_point\n",
      "  return lib.line_locate_point(line, other)\n",
      "c:\\Users\\ad98\\anaconda3\\Lib\\site-packages\\shapely\\linear.py:88: RuntimeWarning: invalid value encountered in line_locate_point\n",
      "  return lib.line_locate_point(line, other)\n",
      "c:\\Users\\ad98\\anaconda3\\Lib\\site-packages\\shapely\\linear.py:88: RuntimeWarning: invalid value encountered in line_locate_point\n",
      "  return lib.line_locate_point(line, other)\n",
      "c:\\Users\\ad98\\anaconda3\\Lib\\site-packages\\shapely\\linear.py:88: RuntimeWarning: invalid value encountered in line_locate_point\n",
      "  return lib.line_locate_point(line, other)\n",
      "c:\\Users\\ad98\\anaconda3\\Lib\\site-packages\\shapely\\linear.py:88: RuntimeWarning: invalid value encountered in line_locate_point\n",
      "  return lib.line_locate_point(line, other)\n",
      "c:\\Users\\ad98\\anaconda3\\Lib\\site-packages\\shapely\\linear.py:88: RuntimeWarning: invalid value encountered in line_locate_point\n",
      "  return lib.line_locate_point(line, other)\n",
      "c:\\Users\\ad98\\anaconda3\\Lib\\site-packages\\shapely\\linear.py:88: RuntimeWarning: invalid value encountered in line_locate_point\n",
      "  return lib.line_locate_point(line, other)\n",
      "c:\\Users\\ad98\\anaconda3\\Lib\\site-packages\\shapely\\linear.py:88: RuntimeWarning: invalid value encountered in line_locate_point\n",
      "  return lib.line_locate_point(line, other)\n",
      "c:\\Users\\ad98\\anaconda3\\Lib\\site-packages\\shapely\\linear.py:88: RuntimeWarning: invalid value encountered in line_locate_point\n",
      "  return lib.line_locate_point(line, other)\n",
      "c:\\Users\\ad98\\anaconda3\\Lib\\site-packages\\shapely\\linear.py:88: RuntimeWarning: invalid value encountered in line_locate_point\n",
      "  return lib.line_locate_point(line, other)\n",
      "c:\\Users\\ad98\\anaconda3\\Lib\\site-packages\\shapely\\linear.py:88: RuntimeWarning: invalid value encountered in line_locate_point\n",
      "  return lib.line_locate_point(line, other)\n",
      "c:\\Users\\ad98\\anaconda3\\Lib\\site-packages\\shapely\\linear.py:88: RuntimeWarning: invalid value encountered in line_locate_point\n",
      "  return lib.line_locate_point(line, other)\n",
      "c:\\Users\\ad98\\anaconda3\\Lib\\site-packages\\shapely\\linear.py:88: RuntimeWarning: invalid value encountered in line_locate_point\n",
      "  return lib.line_locate_point(line, other)\n",
      "c:\\Users\\ad98\\anaconda3\\Lib\\site-packages\\shapely\\linear.py:88: RuntimeWarning: invalid value encountered in line_locate_point\n",
      "  return lib.line_locate_point(line, other)\n",
      "c:\\Users\\ad98\\anaconda3\\Lib\\site-packages\\shapely\\linear.py:88: RuntimeWarning: invalid value encountered in line_locate_point\n",
      "  return lib.line_locate_point(line, other)\n",
      "c:\\Users\\ad98\\anaconda3\\Lib\\site-packages\\shapely\\linear.py:88: RuntimeWarning: invalid value encountered in line_locate_point\n",
      "  return lib.line_locate_point(line, other)\n",
      "c:\\Users\\ad98\\anaconda3\\Lib\\site-packages\\shapely\\linear.py:88: RuntimeWarning: invalid value encountered in line_locate_point\n",
      "  return lib.line_locate_point(line, other)\n",
      "c:\\Users\\ad98\\anaconda3\\Lib\\site-packages\\shapely\\linear.py:88: RuntimeWarning: invalid value encountered in line_locate_point\n",
      "  return lib.line_locate_point(line, other)\n",
      "c:\\Users\\ad98\\anaconda3\\Lib\\site-packages\\shapely\\linear.py:88: RuntimeWarning: invalid value encountered in line_locate_point\n",
      "  return lib.line_locate_point(line, other)\n",
      "c:\\Users\\ad98\\anaconda3\\Lib\\site-packages\\shapely\\linear.py:88: RuntimeWarning: invalid value encountered in line_locate_point\n",
      "  return lib.line_locate_point(line, other)\n",
      "c:\\Users\\ad98\\anaconda3\\Lib\\site-packages\\shapely\\linear.py:88: RuntimeWarning: invalid value encountered in line_locate_point\n",
      "  return lib.line_locate_point(line, other)\n",
      "c:\\Users\\ad98\\anaconda3\\Lib\\site-packages\\shapely\\linear.py:88: RuntimeWarning: invalid value encountered in line_locate_point\n",
      "  return lib.line_locate_point(line, other)\n",
      "c:\\Users\\ad98\\anaconda3\\Lib\\site-packages\\shapely\\linear.py:88: RuntimeWarning: invalid value encountered in line_locate_point\n",
      "  return lib.line_locate_point(line, other)\n",
      "c:\\Users\\ad98\\anaconda3\\Lib\\site-packages\\shapely\\linear.py:88: RuntimeWarning: invalid value encountered in line_locate_point\n",
      "  return lib.line_locate_point(line, other)\n",
      "c:\\Users\\ad98\\anaconda3\\Lib\\site-packages\\shapely\\linear.py:88: RuntimeWarning: invalid value encountered in line_locate_point\n",
      "  return lib.line_locate_point(line, other)\n",
      "c:\\Users\\ad98\\anaconda3\\Lib\\site-packages\\shapely\\linear.py:88: RuntimeWarning: invalid value encountered in line_locate_point\n",
      "  return lib.line_locate_point(line, other)\n",
      "c:\\Users\\ad98\\anaconda3\\Lib\\site-packages\\shapely\\linear.py:88: RuntimeWarning: invalid value encountered in line_locate_point\n",
      "  return lib.line_locate_point(line, other)\n",
      "c:\\Users\\ad98\\anaconda3\\Lib\\site-packages\\shapely\\linear.py:88: RuntimeWarning: invalid value encountered in line_locate_point\n",
      "  return lib.line_locate_point(line, other)\n",
      "c:\\Users\\ad98\\anaconda3\\Lib\\site-packages\\shapely\\linear.py:88: RuntimeWarning: invalid value encountered in line_locate_point\n",
      "  return lib.line_locate_point(line, other)\n",
      "c:\\Users\\ad98\\anaconda3\\Lib\\site-packages\\shapely\\linear.py:88: RuntimeWarning: invalid value encountered in line_locate_point\n",
      "  return lib.line_locate_point(line, other)\n",
      "c:\\Users\\ad98\\anaconda3\\Lib\\site-packages\\shapely\\linear.py:88: RuntimeWarning: invalid value encountered in line_locate_point\n",
      "  return lib.line_locate_point(line, other)\n",
      "c:\\Users\\ad98\\anaconda3\\Lib\\site-packages\\shapely\\linear.py:88: RuntimeWarning: invalid value encountered in line_locate_point\n",
      "  return lib.line_locate_point(line, other)\n",
      "c:\\Users\\ad98\\anaconda3\\Lib\\site-packages\\shapely\\linear.py:88: RuntimeWarning: invalid value encountered in line_locate_point\n",
      "  return lib.line_locate_point(line, other)\n",
      "c:\\Users\\ad98\\anaconda3\\Lib\\site-packages\\shapely\\linear.py:88: RuntimeWarning: invalid value encountered in line_locate_point\n",
      "  return lib.line_locate_point(line, other)\n",
      "c:\\Users\\ad98\\anaconda3\\Lib\\site-packages\\shapely\\linear.py:88: RuntimeWarning: invalid value encountered in line_locate_point\n",
      "  return lib.line_locate_point(line, other)\n",
      "c:\\Users\\ad98\\anaconda3\\Lib\\site-packages\\shapely\\linear.py:88: RuntimeWarning: invalid value encountered in line_locate_point\n",
      "  return lib.line_locate_point(line, other)\n",
      "c:\\Users\\ad98\\anaconda3\\Lib\\site-packages\\shapely\\linear.py:88: RuntimeWarning: invalid value encountered in line_locate_point\n",
      "  return lib.line_locate_point(line, other)\n",
      "c:\\Users\\ad98\\anaconda3\\Lib\\site-packages\\shapely\\linear.py:88: RuntimeWarning: invalid value encountered in line_locate_point\n",
      "  return lib.line_locate_point(line, other)\n",
      "c:\\Users\\ad98\\anaconda3\\Lib\\site-packages\\shapely\\linear.py:88: RuntimeWarning: invalid value encountered in line_locate_point\n",
      "  return lib.line_locate_point(line, other)\n",
      "c:\\Users\\ad98\\anaconda3\\Lib\\site-packages\\shapely\\linear.py:88: RuntimeWarning: invalid value encountered in line_locate_point\n",
      "  return lib.line_locate_point(line, other)\n",
      "c:\\Users\\ad98\\anaconda3\\Lib\\site-packages\\shapely\\linear.py:88: RuntimeWarning: invalid value encountered in line_locate_point\n",
      "  return lib.line_locate_point(line, other)\n",
      "c:\\Users\\ad98\\anaconda3\\Lib\\site-packages\\shapely\\linear.py:88: RuntimeWarning: invalid value encountered in line_locate_point\n",
      "  return lib.line_locate_point(line, other)\n",
      "c:\\Users\\ad98\\anaconda3\\Lib\\site-packages\\shapely\\linear.py:88: RuntimeWarning: invalid value encountered in line_locate_point\n",
      "  return lib.line_locate_point(line, other)\n",
      "c:\\Users\\ad98\\anaconda3\\Lib\\site-packages\\shapely\\linear.py:88: RuntimeWarning: invalid value encountered in line_locate_point\n",
      "  return lib.line_locate_point(line, other)\n",
      "c:\\Users\\ad98\\anaconda3\\Lib\\site-packages\\shapely\\linear.py:88: RuntimeWarning: invalid value encountered in line_locate_point\n",
      "  return lib.line_locate_point(line, other)\n",
      "c:\\Users\\ad98\\anaconda3\\Lib\\site-packages\\shapely\\linear.py:88: RuntimeWarning: invalid value encountered in line_locate_point\n",
      "  return lib.line_locate_point(line, other)\n",
      "c:\\Users\\ad98\\anaconda3\\Lib\\site-packages\\shapely\\linear.py:88: RuntimeWarning: invalid value encountered in line_locate_point\n",
      "  return lib.line_locate_point(line, other)\n",
      "c:\\Users\\ad98\\anaconda3\\Lib\\site-packages\\shapely\\linear.py:88: RuntimeWarning: invalid value encountered in line_locate_point\n",
      "  return lib.line_locate_point(line, other)\n",
      "c:\\Users\\ad98\\anaconda3\\Lib\\site-packages\\shapely\\linear.py:88: RuntimeWarning: invalid value encountered in line_locate_point\n",
      "  return lib.line_locate_point(line, other)\n",
      "c:\\Users\\ad98\\anaconda3\\Lib\\site-packages\\shapely\\linear.py:88: RuntimeWarning: invalid value encountered in line_locate_point\n",
      "  return lib.line_locate_point(line, other)\n",
      "c:\\Users\\ad98\\anaconda3\\Lib\\site-packages\\shapely\\linear.py:88: RuntimeWarning: invalid value encountered in line_locate_point\n",
      "  return lib.line_locate_point(line, other)\n",
      "c:\\Users\\ad98\\anaconda3\\Lib\\site-packages\\shapely\\linear.py:88: RuntimeWarning: invalid value encountered in line_locate_point\n",
      "  return lib.line_locate_point(line, other)\n",
      "c:\\Users\\ad98\\anaconda3\\Lib\\site-packages\\shapely\\linear.py:88: RuntimeWarning: invalid value encountered in line_locate_point\n",
      "  return lib.line_locate_point(line, other)\n",
      "c:\\Users\\ad98\\anaconda3\\Lib\\site-packages\\shapely\\linear.py:88: RuntimeWarning: invalid value encountered in line_locate_point\n",
      "  return lib.line_locate_point(line, other)\n",
      "c:\\Users\\ad98\\anaconda3\\Lib\\site-packages\\shapely\\linear.py:88: RuntimeWarning: invalid value encountered in line_locate_point\n",
      "  return lib.line_locate_point(line, other)\n",
      "c:\\Users\\ad98\\anaconda3\\Lib\\site-packages\\shapely\\linear.py:88: RuntimeWarning: invalid value encountered in line_locate_point\n",
      "  return lib.line_locate_point(line, other)\n",
      "c:\\Users\\ad98\\anaconda3\\Lib\\site-packages\\shapely\\linear.py:88: RuntimeWarning: invalid value encountered in line_locate_point\n",
      "  return lib.line_locate_point(line, other)\n",
      "c:\\Users\\ad98\\anaconda3\\Lib\\site-packages\\shapely\\linear.py:88: RuntimeWarning: invalid value encountered in line_locate_point\n",
      "  return lib.line_locate_point(line, other)\n",
      "c:\\Users\\ad98\\anaconda3\\Lib\\site-packages\\shapely\\linear.py:88: RuntimeWarning: invalid value encountered in line_locate_point\n",
      "  return lib.line_locate_point(line, other)\n",
      "c:\\Users\\ad98\\anaconda3\\Lib\\site-packages\\shapely\\linear.py:88: RuntimeWarning: invalid value encountered in line_locate_point\n",
      "  return lib.line_locate_point(line, other)\n",
      "c:\\Users\\ad98\\anaconda3\\Lib\\site-packages\\shapely\\linear.py:88: RuntimeWarning: invalid value encountered in line_locate_point\n",
      "  return lib.line_locate_point(line, other)\n",
      "c:\\Users\\ad98\\anaconda3\\Lib\\site-packages\\shapely\\linear.py:88: RuntimeWarning: invalid value encountered in line_locate_point\n",
      "  return lib.line_locate_point(line, other)\n",
      "c:\\Users\\ad98\\anaconda3\\Lib\\site-packages\\shapely\\linear.py:88: RuntimeWarning: invalid value encountered in line_locate_point\n",
      "  return lib.line_locate_point(line, other)\n",
      "c:\\Users\\ad98\\anaconda3\\Lib\\site-packages\\shapely\\linear.py:88: RuntimeWarning: invalid value encountered in line_locate_point\n",
      "  return lib.line_locate_point(line, other)\n",
      "c:\\Users\\ad98\\anaconda3\\Lib\\site-packages\\shapely\\linear.py:88: RuntimeWarning: invalid value encountered in line_locate_point\n",
      "  return lib.line_locate_point(line, other)\n",
      "c:\\Users\\ad98\\anaconda3\\Lib\\site-packages\\shapely\\linear.py:88: RuntimeWarning: invalid value encountered in line_locate_point\n",
      "  return lib.line_locate_point(line, other)\n",
      "c:\\Users\\ad98\\anaconda3\\Lib\\site-packages\\shapely\\linear.py:88: RuntimeWarning: invalid value encountered in line_locate_point\n",
      "  return lib.line_locate_point(line, other)\n",
      "c:\\Users\\ad98\\anaconda3\\Lib\\site-packages\\shapely\\linear.py:88: RuntimeWarning: invalid value encountered in line_locate_point\n",
      "  return lib.line_locate_point(line, other)\n",
      "c:\\Users\\ad98\\anaconda3\\Lib\\site-packages\\shapely\\linear.py:88: RuntimeWarning: invalid value encountered in line_locate_point\n",
      "  return lib.line_locate_point(line, other)\n",
      "c:\\Users\\ad98\\anaconda3\\Lib\\site-packages\\shapely\\linear.py:88: RuntimeWarning: invalid value encountered in line_locate_point\n",
      "  return lib.line_locate_point(line, other)\n",
      "c:\\Users\\ad98\\anaconda3\\Lib\\site-packages\\shapely\\linear.py:88: RuntimeWarning: invalid value encountered in line_locate_point\n",
      "  return lib.line_locate_point(line, other)\n",
      "c:\\Users\\ad98\\anaconda3\\Lib\\site-packages\\shapely\\linear.py:88: RuntimeWarning: invalid value encountered in line_locate_point\n",
      "  return lib.line_locate_point(line, other)\n",
      "c:\\Users\\ad98\\anaconda3\\Lib\\site-packages\\shapely\\linear.py:88: RuntimeWarning: invalid value encountered in line_locate_point\n",
      "  return lib.line_locate_point(line, other)\n",
      "c:\\Users\\ad98\\anaconda3\\Lib\\site-packages\\shapely\\linear.py:88: RuntimeWarning: invalid value encountered in line_locate_point\n",
      "  return lib.line_locate_point(line, other)\n",
      "c:\\Users\\ad98\\anaconda3\\Lib\\site-packages\\shapely\\linear.py:88: RuntimeWarning: invalid value encountered in line_locate_point\n",
      "  return lib.line_locate_point(line, other)\n",
      "c:\\Users\\ad98\\anaconda3\\Lib\\site-packages\\shapely\\linear.py:88: RuntimeWarning: invalid value encountered in line_locate_point\n",
      "  return lib.line_locate_point(line, other)\n",
      "c:\\Users\\ad98\\anaconda3\\Lib\\site-packages\\shapely\\linear.py:88: RuntimeWarning: invalid value encountered in line_locate_point\n",
      "  return lib.line_locate_point(line, other)\n",
      "c:\\Users\\ad98\\anaconda3\\Lib\\site-packages\\shapely\\linear.py:88: RuntimeWarning: invalid value encountered in line_locate_point\n",
      "  return lib.line_locate_point(line, other)\n",
      "c:\\Users\\ad98\\anaconda3\\Lib\\site-packages\\shapely\\linear.py:88: RuntimeWarning: invalid value encountered in line_locate_point\n",
      "  return lib.line_locate_point(line, other)\n",
      "c:\\Users\\ad98\\anaconda3\\Lib\\site-packages\\shapely\\linear.py:88: RuntimeWarning: invalid value encountered in line_locate_point\n",
      "  return lib.line_locate_point(line, other)\n",
      "c:\\Users\\ad98\\anaconda3\\Lib\\site-packages\\shapely\\linear.py:88: RuntimeWarning: invalid value encountered in line_locate_point\n",
      "  return lib.line_locate_point(line, other)\n",
      "c:\\Users\\ad98\\anaconda3\\Lib\\site-packages\\shapely\\linear.py:88: RuntimeWarning: invalid value encountered in line_locate_point\n",
      "  return lib.line_locate_point(line, other)\n",
      "c:\\Users\\ad98\\anaconda3\\Lib\\site-packages\\shapely\\linear.py:88: RuntimeWarning: invalid value encountered in line_locate_point\n",
      "  return lib.line_locate_point(line, other)\n",
      "c:\\Users\\ad98\\anaconda3\\Lib\\site-packages\\shapely\\linear.py:88: RuntimeWarning: invalid value encountered in line_locate_point\n",
      "  return lib.line_locate_point(line, other)\n",
      "c:\\Users\\ad98\\anaconda3\\Lib\\site-packages\\shapely\\linear.py:88: RuntimeWarning: invalid value encountered in line_locate_point\n",
      "  return lib.line_locate_point(line, other)\n",
      "c:\\Users\\ad98\\anaconda3\\Lib\\site-packages\\shapely\\linear.py:88: RuntimeWarning: invalid value encountered in line_locate_point\n",
      "  return lib.line_locate_point(line, other)\n",
      "c:\\Users\\ad98\\anaconda3\\Lib\\site-packages\\shapely\\linear.py:88: RuntimeWarning: invalid value encountered in line_locate_point\n",
      "  return lib.line_locate_point(line, other)\n",
      "c:\\Users\\ad98\\anaconda3\\Lib\\site-packages\\shapely\\linear.py:88: RuntimeWarning: invalid value encountered in line_locate_point\n",
      "  return lib.line_locate_point(line, other)\n",
      "c:\\Users\\ad98\\anaconda3\\Lib\\site-packages\\shapely\\linear.py:88: RuntimeWarning: invalid value encountered in line_locate_point\n",
      "  return lib.line_locate_point(line, other)\n",
      "c:\\Users\\ad98\\anaconda3\\Lib\\site-packages\\shapely\\linear.py:88: RuntimeWarning: invalid value encountered in line_locate_point\n",
      "  return lib.line_locate_point(line, other)\n",
      "c:\\Users\\ad98\\anaconda3\\Lib\\site-packages\\shapely\\linear.py:88: RuntimeWarning: invalid value encountered in line_locate_point\n",
      "  return lib.line_locate_point(line, other)\n",
      "c:\\Users\\ad98\\anaconda3\\Lib\\site-packages\\shapely\\linear.py:88: RuntimeWarning: invalid value encountered in line_locate_point\n",
      "  return lib.line_locate_point(line, other)\n",
      "c:\\Users\\ad98\\anaconda3\\Lib\\site-packages\\shapely\\linear.py:88: RuntimeWarning: invalid value encountered in line_locate_point\n",
      "  return lib.line_locate_point(line, other)\n",
      "c:\\Users\\ad98\\anaconda3\\Lib\\site-packages\\shapely\\linear.py:88: RuntimeWarning: invalid value encountered in line_locate_point\n",
      "  return lib.line_locate_point(line, other)\n",
      "c:\\Users\\ad98\\anaconda3\\Lib\\site-packages\\shapely\\linear.py:88: RuntimeWarning: invalid value encountered in line_locate_point\n",
      "  return lib.line_locate_point(line, other)\n",
      "c:\\Users\\ad98\\anaconda3\\Lib\\site-packages\\shapely\\linear.py:88: RuntimeWarning: invalid value encountered in line_locate_point\n",
      "  return lib.line_locate_point(line, other)\n",
      "c:\\Users\\ad98\\anaconda3\\Lib\\site-packages\\shapely\\linear.py:88: RuntimeWarning: invalid value encountered in line_locate_point\n",
      "  return lib.line_locate_point(line, other)\n",
      "c:\\Users\\ad98\\anaconda3\\Lib\\site-packages\\shapely\\linear.py:88: RuntimeWarning: invalid value encountered in line_locate_point\n",
      "  return lib.line_locate_point(line, other)\n",
      "c:\\Users\\ad98\\anaconda3\\Lib\\site-packages\\shapely\\linear.py:88: RuntimeWarning: invalid value encountered in line_locate_point\n",
      "  return lib.line_locate_point(line, other)\n",
      "c:\\Users\\ad98\\anaconda3\\Lib\\site-packages\\shapely\\linear.py:88: RuntimeWarning: invalid value encountered in line_locate_point\n",
      "  return lib.line_locate_point(line, other)\n",
      "c:\\Users\\ad98\\anaconda3\\Lib\\site-packages\\shapely\\linear.py:88: RuntimeWarning: invalid value encountered in line_locate_point\n",
      "  return lib.line_locate_point(line, other)\n",
      "c:\\Users\\ad98\\anaconda3\\Lib\\site-packages\\shapely\\linear.py:88: RuntimeWarning: invalid value encountered in line_locate_point\n",
      "  return lib.line_locate_point(line, other)\n",
      "c:\\Users\\ad98\\anaconda3\\Lib\\site-packages\\shapely\\linear.py:88: RuntimeWarning: invalid value encountered in line_locate_point\n",
      "  return lib.line_locate_point(line, other)\n",
      "c:\\Users\\ad98\\anaconda3\\Lib\\site-packages\\shapely\\linear.py:88: RuntimeWarning: invalid value encountered in line_locate_point\n",
      "  return lib.line_locate_point(line, other)\n",
      "c:\\Users\\ad98\\anaconda3\\Lib\\site-packages\\shapely\\linear.py:88: RuntimeWarning: invalid value encountered in line_locate_point\n",
      "  return lib.line_locate_point(line, other)\n",
      "c:\\Users\\ad98\\anaconda3\\Lib\\site-packages\\shapely\\linear.py:88: RuntimeWarning: invalid value encountered in line_locate_point\n",
      "  return lib.line_locate_point(line, other)\n",
      "c:\\Users\\ad98\\anaconda3\\Lib\\site-packages\\shapely\\linear.py:88: RuntimeWarning: invalid value encountered in line_locate_point\n",
      "  return lib.line_locate_point(line, other)\n",
      "c:\\Users\\ad98\\anaconda3\\Lib\\site-packages\\shapely\\linear.py:88: RuntimeWarning: invalid value encountered in line_locate_point\n",
      "  return lib.line_locate_point(line, other)\n",
      "c:\\Users\\ad98\\anaconda3\\Lib\\site-packages\\shapely\\linear.py:88: RuntimeWarning: invalid value encountered in line_locate_point\n",
      "  return lib.line_locate_point(line, other)\n",
      "c:\\Users\\ad98\\anaconda3\\Lib\\site-packages\\shapely\\linear.py:88: RuntimeWarning: invalid value encountered in line_locate_point\n",
      "  return lib.line_locate_point(line, other)\n",
      "c:\\Users\\ad98\\anaconda3\\Lib\\site-packages\\shapely\\linear.py:88: RuntimeWarning: invalid value encountered in line_locate_point\n",
      "  return lib.line_locate_point(line, other)\n",
      "c:\\Users\\ad98\\anaconda3\\Lib\\site-packages\\shapely\\linear.py:88: RuntimeWarning: invalid value encountered in line_locate_point\n",
      "  return lib.line_locate_point(line, other)\n",
      "c:\\Users\\ad98\\anaconda3\\Lib\\site-packages\\shapely\\linear.py:88: RuntimeWarning: invalid value encountered in line_locate_point\n",
      "  return lib.line_locate_point(line, other)\n",
      "c:\\Users\\ad98\\anaconda3\\Lib\\site-packages\\shapely\\linear.py:88: RuntimeWarning: invalid value encountered in line_locate_point\n",
      "  return lib.line_locate_point(line, other)\n",
      "c:\\Users\\ad98\\anaconda3\\Lib\\site-packages\\shapely\\linear.py:88: RuntimeWarning: invalid value encountered in line_locate_point\n",
      "  return lib.line_locate_point(line, other)\n",
      "c:\\Users\\ad98\\anaconda3\\Lib\\site-packages\\shapely\\linear.py:88: RuntimeWarning: invalid value encountered in line_locate_point\n",
      "  return lib.line_locate_point(line, other)\n",
      "c:\\Users\\ad98\\anaconda3\\Lib\\site-packages\\shapely\\linear.py:88: RuntimeWarning: invalid value encountered in line_locate_point\n",
      "  return lib.line_locate_point(line, other)\n",
      "c:\\Users\\ad98\\anaconda3\\Lib\\site-packages\\shapely\\linear.py:88: RuntimeWarning: invalid value encountered in line_locate_point\n",
      "  return lib.line_locate_point(line, other)\n",
      "c:\\Users\\ad98\\anaconda3\\Lib\\site-packages\\shapely\\linear.py:88: RuntimeWarning: invalid value encountered in line_locate_point\n",
      "  return lib.line_locate_point(line, other)\n",
      "c:\\Users\\ad98\\anaconda3\\Lib\\site-packages\\shapely\\linear.py:88: RuntimeWarning: invalid value encountered in line_locate_point\n",
      "  return lib.line_locate_point(line, other)\n",
      "c:\\Users\\ad98\\anaconda3\\Lib\\site-packages\\shapely\\linear.py:88: RuntimeWarning: invalid value encountered in line_locate_point\n",
      "  return lib.line_locate_point(line, other)\n",
      "c:\\Users\\ad98\\anaconda3\\Lib\\site-packages\\shapely\\linear.py:88: RuntimeWarning: invalid value encountered in line_locate_point\n",
      "  return lib.line_locate_point(line, other)\n",
      "c:\\Users\\ad98\\anaconda3\\Lib\\site-packages\\shapely\\linear.py:88: RuntimeWarning: invalid value encountered in line_locate_point\n",
      "  return lib.line_locate_point(line, other)\n",
      "c:\\Users\\ad98\\anaconda3\\Lib\\site-packages\\shapely\\linear.py:88: RuntimeWarning: invalid value encountered in line_locate_point\n",
      "  return lib.line_locate_point(line, other)\n",
      "c:\\Users\\ad98\\anaconda3\\Lib\\site-packages\\shapely\\linear.py:88: RuntimeWarning: invalid value encountered in line_locate_point\n",
      "  return lib.line_locate_point(line, other)\n",
      "c:\\Users\\ad98\\anaconda3\\Lib\\site-packages\\shapely\\linear.py:88: RuntimeWarning: invalid value encountered in line_locate_point\n",
      "  return lib.line_locate_point(line, other)\n",
      "c:\\Users\\ad98\\anaconda3\\Lib\\site-packages\\shapely\\linear.py:88: RuntimeWarning: invalid value encountered in line_locate_point\n",
      "  return lib.line_locate_point(line, other)\n",
      "c:\\Users\\ad98\\anaconda3\\Lib\\site-packages\\shapely\\linear.py:88: RuntimeWarning: invalid value encountered in line_locate_point\n",
      "  return lib.line_locate_point(line, other)\n",
      "c:\\Users\\ad98\\anaconda3\\Lib\\site-packages\\shapely\\linear.py:88: RuntimeWarning: invalid value encountered in line_locate_point\n",
      "  return lib.line_locate_point(line, other)\n",
      "c:\\Users\\ad98\\anaconda3\\Lib\\site-packages\\shapely\\linear.py:88: RuntimeWarning: invalid value encountered in line_locate_point\n",
      "  return lib.line_locate_point(line, other)\n",
      "c:\\Users\\ad98\\anaconda3\\Lib\\site-packages\\shapely\\linear.py:88: RuntimeWarning: invalid value encountered in line_locate_point\n",
      "  return lib.line_locate_point(line, other)\n",
      "c:\\Users\\ad98\\anaconda3\\Lib\\site-packages\\shapely\\linear.py:88: RuntimeWarning: invalid value encountered in line_locate_point\n",
      "  return lib.line_locate_point(line, other)\n",
      "c:\\Users\\ad98\\anaconda3\\Lib\\site-packages\\shapely\\linear.py:88: RuntimeWarning: invalid value encountered in line_locate_point\n",
      "  return lib.line_locate_point(line, other)\n",
      "c:\\Users\\ad98\\anaconda3\\Lib\\site-packages\\shapely\\linear.py:88: RuntimeWarning: invalid value encountered in line_locate_point\n",
      "  return lib.line_locate_point(line, other)\n",
      "c:\\Users\\ad98\\anaconda3\\Lib\\site-packages\\shapely\\linear.py:88: RuntimeWarning: invalid value encountered in line_locate_point\n",
      "  return lib.line_locate_point(line, other)\n",
      "c:\\Users\\ad98\\anaconda3\\Lib\\site-packages\\shapely\\linear.py:88: RuntimeWarning: invalid value encountered in line_locate_point\n",
      "  return lib.line_locate_point(line, other)\n",
      "c:\\Users\\ad98\\anaconda3\\Lib\\site-packages\\shapely\\linear.py:88: RuntimeWarning: invalid value encountered in line_locate_point\n",
      "  return lib.line_locate_point(line, other)\n",
      "c:\\Users\\ad98\\anaconda3\\Lib\\site-packages\\shapely\\linear.py:88: RuntimeWarning: invalid value encountered in line_locate_point\n",
      "  return lib.line_locate_point(line, other)\n",
      "c:\\Users\\ad98\\anaconda3\\Lib\\site-packages\\shapely\\linear.py:88: RuntimeWarning: invalid value encountered in line_locate_point\n",
      "  return lib.line_locate_point(line, other)\n",
      "c:\\Users\\ad98\\anaconda3\\Lib\\site-packages\\shapely\\linear.py:88: RuntimeWarning: invalid value encountered in line_locate_point\n",
      "  return lib.line_locate_point(line, other)\n",
      "c:\\Users\\ad98\\anaconda3\\Lib\\site-packages\\shapely\\linear.py:88: RuntimeWarning: invalid value encountered in line_locate_point\n",
      "  return lib.line_locate_point(line, other)\n",
      "c:\\Users\\ad98\\anaconda3\\Lib\\site-packages\\shapely\\linear.py:88: RuntimeWarning: invalid value encountered in line_locate_point\n",
      "  return lib.line_locate_point(line, other)\n",
      "c:\\Users\\ad98\\anaconda3\\Lib\\site-packages\\shapely\\linear.py:88: RuntimeWarning: invalid value encountered in line_locate_point\n",
      "  return lib.line_locate_point(line, other)\n",
      "c:\\Users\\ad98\\anaconda3\\Lib\\site-packages\\shapely\\linear.py:88: RuntimeWarning: invalid value encountered in line_locate_point\n",
      "  return lib.line_locate_point(line, other)\n",
      "c:\\Users\\ad98\\anaconda3\\Lib\\site-packages\\shapely\\linear.py:88: RuntimeWarning: invalid value encountered in line_locate_point\n",
      "  return lib.line_locate_point(line, other)\n",
      "c:\\Users\\ad98\\anaconda3\\Lib\\site-packages\\shapely\\linear.py:88: RuntimeWarning: invalid value encountered in line_locate_point\n",
      "  return lib.line_locate_point(line, other)\n",
      "c:\\Users\\ad98\\anaconda3\\Lib\\site-packages\\shapely\\linear.py:88: RuntimeWarning: invalid value encountered in line_locate_point\n",
      "  return lib.line_locate_point(line, other)\n",
      "c:\\Users\\ad98\\anaconda3\\Lib\\site-packages\\shapely\\linear.py:88: RuntimeWarning: invalid value encountered in line_locate_point\n",
      "  return lib.line_locate_point(line, other)\n",
      "c:\\Users\\ad98\\anaconda3\\Lib\\site-packages\\shapely\\linear.py:88: RuntimeWarning: invalid value encountered in line_locate_point\n",
      "  return lib.line_locate_point(line, other)\n",
      "c:\\Users\\ad98\\anaconda3\\Lib\\site-packages\\shapely\\linear.py:88: RuntimeWarning: invalid value encountered in line_locate_point\n",
      "  return lib.line_locate_point(line, other)\n",
      "c:\\Users\\ad98\\anaconda3\\Lib\\site-packages\\shapely\\linear.py:88: RuntimeWarning: invalid value encountered in line_locate_point\n",
      "  return lib.line_locate_point(line, other)\n",
      "c:\\Users\\ad98\\anaconda3\\Lib\\site-packages\\shapely\\linear.py:88: RuntimeWarning: invalid value encountered in line_locate_point\n",
      "  return lib.line_locate_point(line, other)\n",
      "c:\\Users\\ad98\\anaconda3\\Lib\\site-packages\\shapely\\linear.py:88: RuntimeWarning: invalid value encountered in line_locate_point\n",
      "  return lib.line_locate_point(line, other)\n",
      "c:\\Users\\ad98\\anaconda3\\Lib\\site-packages\\shapely\\linear.py:88: RuntimeWarning: invalid value encountered in line_locate_point\n",
      "  return lib.line_locate_point(line, other)\n",
      "c:\\Users\\ad98\\anaconda3\\Lib\\site-packages\\shapely\\linear.py:88: RuntimeWarning: invalid value encountered in line_locate_point\n",
      "  return lib.line_locate_point(line, other)\n",
      "c:\\Users\\ad98\\anaconda3\\Lib\\site-packages\\shapely\\linear.py:88: RuntimeWarning: invalid value encountered in line_locate_point\n",
      "  return lib.line_locate_point(line, other)\n",
      "c:\\Users\\ad98\\anaconda3\\Lib\\site-packages\\shapely\\linear.py:88: RuntimeWarning: invalid value encountered in line_locate_point\n",
      "  return lib.line_locate_point(line, other)\n",
      "c:\\Users\\ad98\\anaconda3\\Lib\\site-packages\\shapely\\linear.py:88: RuntimeWarning: invalid value encountered in line_locate_point\n",
      "  return lib.line_locate_point(line, other)\n",
      "c:\\Users\\ad98\\anaconda3\\Lib\\site-packages\\shapely\\linear.py:88: RuntimeWarning: invalid value encountered in line_locate_point\n",
      "  return lib.line_locate_point(line, other)\n",
      "c:\\Users\\ad98\\anaconda3\\Lib\\site-packages\\shapely\\linear.py:88: RuntimeWarning: invalid value encountered in line_locate_point\n",
      "  return lib.line_locate_point(line, other)\n",
      "c:\\Users\\ad98\\anaconda3\\Lib\\site-packages\\shapely\\linear.py:88: RuntimeWarning: invalid value encountered in line_locate_point\n",
      "  return lib.line_locate_point(line, other)\n",
      "c:\\Users\\ad98\\anaconda3\\Lib\\site-packages\\shapely\\linear.py:88: RuntimeWarning: invalid value encountered in line_locate_point\n",
      "  return lib.line_locate_point(line, other)\n",
      "c:\\Users\\ad98\\anaconda3\\Lib\\site-packages\\shapely\\linear.py:88: RuntimeWarning: invalid value encountered in line_locate_point\n",
      "  return lib.line_locate_point(line, other)\n",
      "c:\\Users\\ad98\\anaconda3\\Lib\\site-packages\\shapely\\linear.py:88: RuntimeWarning: invalid value encountered in line_locate_point\n",
      "  return lib.line_locate_point(line, other)\n",
      "c:\\Users\\ad98\\anaconda3\\Lib\\site-packages\\shapely\\linear.py:88: RuntimeWarning: invalid value encountered in line_locate_point\n",
      "  return lib.line_locate_point(line, other)\n",
      "c:\\Users\\ad98\\anaconda3\\Lib\\site-packages\\shapely\\linear.py:88: RuntimeWarning: invalid value encountered in line_locate_point\n",
      "  return lib.line_locate_point(line, other)\n",
      "c:\\Users\\ad98\\anaconda3\\Lib\\site-packages\\shapely\\linear.py:88: RuntimeWarning: invalid value encountered in line_locate_point\n",
      "  return lib.line_locate_point(line, other)\n",
      "c:\\Users\\ad98\\anaconda3\\Lib\\site-packages\\shapely\\linear.py:88: RuntimeWarning: invalid value encountered in line_locate_point\n",
      "  return lib.line_locate_point(line, other)\n",
      "c:\\Users\\ad98\\anaconda3\\Lib\\site-packages\\shapely\\linear.py:88: RuntimeWarning: invalid value encountered in line_locate_point\n",
      "  return lib.line_locate_point(line, other)\n",
      "c:\\Users\\ad98\\anaconda3\\Lib\\site-packages\\shapely\\linear.py:88: RuntimeWarning: invalid value encountered in line_locate_point\n",
      "  return lib.line_locate_point(line, other)\n",
      "c:\\Users\\ad98\\anaconda3\\Lib\\site-packages\\shapely\\linear.py:88: RuntimeWarning: invalid value encountered in line_locate_point\n",
      "  return lib.line_locate_point(line, other)\n",
      "c:\\Users\\ad98\\anaconda3\\Lib\\site-packages\\shapely\\linear.py:88: RuntimeWarning: invalid value encountered in line_locate_point\n",
      "  return lib.line_locate_point(line, other)\n",
      "c:\\Users\\ad98\\anaconda3\\Lib\\site-packages\\shapely\\linear.py:88: RuntimeWarning: invalid value encountered in line_locate_point\n",
      "  return lib.line_locate_point(line, other)\n",
      "c:\\Users\\ad98\\anaconda3\\Lib\\site-packages\\shapely\\linear.py:88: RuntimeWarning: invalid value encountered in line_locate_point\n",
      "  return lib.line_locate_point(line, other)\n",
      "c:\\Users\\ad98\\anaconda3\\Lib\\site-packages\\shapely\\linear.py:88: RuntimeWarning: invalid value encountered in line_locate_point\n",
      "  return lib.line_locate_point(line, other)\n",
      "c:\\Users\\ad98\\anaconda3\\Lib\\site-packages\\shapely\\linear.py:88: RuntimeWarning: invalid value encountered in line_locate_point\n",
      "  return lib.line_locate_point(line, other)\n",
      "c:\\Users\\ad98\\anaconda3\\Lib\\site-packages\\shapely\\linear.py:88: RuntimeWarning: invalid value encountered in line_locate_point\n",
      "  return lib.line_locate_point(line, other)\n",
      "c:\\Users\\ad98\\anaconda3\\Lib\\site-packages\\shapely\\linear.py:88: RuntimeWarning: invalid value encountered in line_locate_point\n",
      "  return lib.line_locate_point(line, other)\n",
      "c:\\Users\\ad98\\anaconda3\\Lib\\site-packages\\shapely\\linear.py:88: RuntimeWarning: invalid value encountered in line_locate_point\n",
      "  return lib.line_locate_point(line, other)\n",
      "c:\\Users\\ad98\\anaconda3\\Lib\\site-packages\\shapely\\linear.py:88: RuntimeWarning: invalid value encountered in line_locate_point\n",
      "  return lib.line_locate_point(line, other)\n",
      "c:\\Users\\ad98\\anaconda3\\Lib\\site-packages\\shapely\\linear.py:88: RuntimeWarning: invalid value encountered in line_locate_point\n",
      "  return lib.line_locate_point(line, other)\n",
      "c:\\Users\\ad98\\anaconda3\\Lib\\site-packages\\shapely\\linear.py:88: RuntimeWarning: invalid value encountered in line_locate_point\n",
      "  return lib.line_locate_point(line, other)\n",
      "c:\\Users\\ad98\\anaconda3\\Lib\\site-packages\\shapely\\linear.py:88: RuntimeWarning: invalid value encountered in line_locate_point\n",
      "  return lib.line_locate_point(line, other)\n",
      "c:\\Users\\ad98\\anaconda3\\Lib\\site-packages\\shapely\\linear.py:88: RuntimeWarning: invalid value encountered in line_locate_point\n",
      "  return lib.line_locate_point(line, other)\n",
      "c:\\Users\\ad98\\anaconda3\\Lib\\site-packages\\shapely\\linear.py:88: RuntimeWarning: invalid value encountered in line_locate_point\n",
      "  return lib.line_locate_point(line, other)\n",
      "c:\\Users\\ad98\\anaconda3\\Lib\\site-packages\\shapely\\linear.py:88: RuntimeWarning: invalid value encountered in line_locate_point\n",
      "  return lib.line_locate_point(line, other)\n",
      "c:\\Users\\ad98\\anaconda3\\Lib\\site-packages\\shapely\\linear.py:88: RuntimeWarning: invalid value encountered in line_locate_point\n",
      "  return lib.line_locate_point(line, other)\n",
      "c:\\Users\\ad98\\anaconda3\\Lib\\site-packages\\shapely\\linear.py:88: RuntimeWarning: invalid value encountered in line_locate_point\n",
      "  return lib.line_locate_point(line, other)\n",
      "c:\\Users\\ad98\\anaconda3\\Lib\\site-packages\\shapely\\linear.py:88: RuntimeWarning: invalid value encountered in line_locate_point\n",
      "  return lib.line_locate_point(line, other)\n",
      "c:\\Users\\ad98\\anaconda3\\Lib\\site-packages\\shapely\\linear.py:88: RuntimeWarning: invalid value encountered in line_locate_point\n",
      "  return lib.line_locate_point(line, other)\n",
      "c:\\Users\\ad98\\anaconda3\\Lib\\site-packages\\shapely\\linear.py:88: RuntimeWarning: invalid value encountered in line_locate_point\n",
      "  return lib.line_locate_point(line, other)\n",
      "c:\\Users\\ad98\\anaconda3\\Lib\\site-packages\\shapely\\linear.py:88: RuntimeWarning: invalid value encountered in line_locate_point\n",
      "  return lib.line_locate_point(line, other)\n",
      "c:\\Users\\ad98\\anaconda3\\Lib\\site-packages\\shapely\\linear.py:88: RuntimeWarning: invalid value encountered in line_locate_point\n",
      "  return lib.line_locate_point(line, other)\n",
      "c:\\Users\\ad98\\anaconda3\\Lib\\site-packages\\shapely\\linear.py:88: RuntimeWarning: invalid value encountered in line_locate_point\n",
      "  return lib.line_locate_point(line, other)\n",
      "c:\\Users\\ad98\\anaconda3\\Lib\\site-packages\\shapely\\linear.py:88: RuntimeWarning: invalid value encountered in line_locate_point\n",
      "  return lib.line_locate_point(line, other)\n",
      "c:\\Users\\ad98\\anaconda3\\Lib\\site-packages\\shapely\\linear.py:88: RuntimeWarning: invalid value encountered in line_locate_point\n",
      "  return lib.line_locate_point(line, other)\n",
      "c:\\Users\\ad98\\anaconda3\\Lib\\site-packages\\shapely\\linear.py:88: RuntimeWarning: invalid value encountered in line_locate_point\n",
      "  return lib.line_locate_point(line, other)\n",
      "c:\\Users\\ad98\\anaconda3\\Lib\\site-packages\\shapely\\linear.py:88: RuntimeWarning: invalid value encountered in line_locate_point\n",
      "  return lib.line_locate_point(line, other)\n",
      "c:\\Users\\ad98\\anaconda3\\Lib\\site-packages\\shapely\\linear.py:88: RuntimeWarning: invalid value encountered in line_locate_point\n",
      "  return lib.line_locate_point(line, other)\n",
      "c:\\Users\\ad98\\anaconda3\\Lib\\site-packages\\shapely\\linear.py:88: RuntimeWarning: invalid value encountered in line_locate_point\n",
      "  return lib.line_locate_point(line, other)\n",
      "c:\\Users\\ad98\\anaconda3\\Lib\\site-packages\\shapely\\linear.py:88: RuntimeWarning: invalid value encountered in line_locate_point\n",
      "  return lib.line_locate_point(line, other)\n",
      "c:\\Users\\ad98\\anaconda3\\Lib\\site-packages\\shapely\\linear.py:88: RuntimeWarning: invalid value encountered in line_locate_point\n",
      "  return lib.line_locate_point(line, other)\n",
      "c:\\Users\\ad98\\anaconda3\\Lib\\site-packages\\shapely\\linear.py:88: RuntimeWarning: invalid value encountered in line_locate_point\n",
      "  return lib.line_locate_point(line, other)\n",
      "c:\\Users\\ad98\\anaconda3\\Lib\\site-packages\\shapely\\linear.py:88: RuntimeWarning: invalid value encountered in line_locate_point\n",
      "  return lib.line_locate_point(line, other)\n",
      "c:\\Users\\ad98\\anaconda3\\Lib\\site-packages\\shapely\\linear.py:88: RuntimeWarning: invalid value encountered in line_locate_point\n",
      "  return lib.line_locate_point(line, other)\n",
      "c:\\Users\\ad98\\anaconda3\\Lib\\site-packages\\shapely\\linear.py:88: RuntimeWarning: invalid value encountered in line_locate_point\n",
      "  return lib.line_locate_point(line, other)\n",
      "c:\\Users\\ad98\\anaconda3\\Lib\\site-packages\\shapely\\linear.py:88: RuntimeWarning: invalid value encountered in line_locate_point\n",
      "  return lib.line_locate_point(line, other)\n",
      "c:\\Users\\ad98\\anaconda3\\Lib\\site-packages\\shapely\\linear.py:88: RuntimeWarning: invalid value encountered in line_locate_point\n",
      "  return lib.line_locate_point(line, other)\n",
      "c:\\Users\\ad98\\anaconda3\\Lib\\site-packages\\shapely\\linear.py:88: RuntimeWarning: invalid value encountered in line_locate_point\n",
      "  return lib.line_locate_point(line, other)\n",
      "c:\\Users\\ad98\\anaconda3\\Lib\\site-packages\\shapely\\linear.py:88: RuntimeWarning: invalid value encountered in line_locate_point\n",
      "  return lib.line_locate_point(line, other)\n",
      "c:\\Users\\ad98\\anaconda3\\Lib\\site-packages\\shapely\\linear.py:88: RuntimeWarning: invalid value encountered in line_locate_point\n",
      "  return lib.line_locate_point(line, other)\n",
      "c:\\Users\\ad98\\anaconda3\\Lib\\site-packages\\shapely\\linear.py:88: RuntimeWarning: invalid value encountered in line_locate_point\n",
      "  return lib.line_locate_point(line, other)\n",
      "c:\\Users\\ad98\\anaconda3\\Lib\\site-packages\\shapely\\linear.py:88: RuntimeWarning: invalid value encountered in line_locate_point\n",
      "  return lib.line_locate_point(line, other)\n",
      "c:\\Users\\ad98\\anaconda3\\Lib\\site-packages\\shapely\\linear.py:88: RuntimeWarning: invalid value encountered in line_locate_point\n",
      "  return lib.line_locate_point(line, other)\n",
      "c:\\Users\\ad98\\anaconda3\\Lib\\site-packages\\shapely\\linear.py:88: RuntimeWarning: invalid value encountered in line_locate_point\n",
      "  return lib.line_locate_point(line, other)\n",
      "c:\\Users\\ad98\\anaconda3\\Lib\\site-packages\\shapely\\linear.py:88: RuntimeWarning: invalid value encountered in line_locate_point\n",
      "  return lib.line_locate_point(line, other)\n",
      "c:\\Users\\ad98\\anaconda3\\Lib\\site-packages\\shapely\\linear.py:88: RuntimeWarning: invalid value encountered in line_locate_point\n",
      "  return lib.line_locate_point(line, other)\n",
      "c:\\Users\\ad98\\anaconda3\\Lib\\site-packages\\shapely\\linear.py:88: RuntimeWarning: invalid value encountered in line_locate_point\n",
      "  return lib.line_locate_point(line, other)\n",
      "c:\\Users\\ad98\\anaconda3\\Lib\\site-packages\\shapely\\linear.py:88: RuntimeWarning: invalid value encountered in line_locate_point\n",
      "  return lib.line_locate_point(line, other)\n",
      "c:\\Users\\ad98\\anaconda3\\Lib\\site-packages\\shapely\\linear.py:88: RuntimeWarning: invalid value encountered in line_locate_point\n",
      "  return lib.line_locate_point(line, other)\n",
      "c:\\Users\\ad98\\anaconda3\\Lib\\site-packages\\shapely\\linear.py:88: RuntimeWarning: invalid value encountered in line_locate_point\n",
      "  return lib.line_locate_point(line, other)\n",
      "c:\\Users\\ad98\\anaconda3\\Lib\\site-packages\\shapely\\linear.py:88: RuntimeWarning: invalid value encountered in line_locate_point\n",
      "  return lib.line_locate_point(line, other)\n",
      "c:\\Users\\ad98\\anaconda3\\Lib\\site-packages\\shapely\\linear.py:88: RuntimeWarning: invalid value encountered in line_locate_point\n",
      "  return lib.line_locate_point(line, other)\n",
      "c:\\Users\\ad98\\anaconda3\\Lib\\site-packages\\shapely\\linear.py:88: RuntimeWarning: invalid value encountered in line_locate_point\n",
      "  return lib.line_locate_point(line, other)\n",
      "c:\\Users\\ad98\\anaconda3\\Lib\\site-packages\\shapely\\linear.py:88: RuntimeWarning: invalid value encountered in line_locate_point\n",
      "  return lib.line_locate_point(line, other)\n",
      "c:\\Users\\ad98\\anaconda3\\Lib\\site-packages\\shapely\\linear.py:88: RuntimeWarning: invalid value encountered in line_locate_point\n",
      "  return lib.line_locate_point(line, other)\n",
      "c:\\Users\\ad98\\anaconda3\\Lib\\site-packages\\shapely\\linear.py:88: RuntimeWarning: invalid value encountered in line_locate_point\n",
      "  return lib.line_locate_point(line, other)\n",
      "c:\\Users\\ad98\\anaconda3\\Lib\\site-packages\\shapely\\linear.py:88: RuntimeWarning: invalid value encountered in line_locate_point\n",
      "  return lib.line_locate_point(line, other)\n",
      "c:\\Users\\ad98\\anaconda3\\Lib\\site-packages\\shapely\\linear.py:88: RuntimeWarning: invalid value encountered in line_locate_point\n",
      "  return lib.line_locate_point(line, other)\n",
      "c:\\Users\\ad98\\anaconda3\\Lib\\site-packages\\shapely\\linear.py:88: RuntimeWarning: invalid value encountered in line_locate_point\n",
      "  return lib.line_locate_point(line, other)\n",
      "c:\\Users\\ad98\\anaconda3\\Lib\\site-packages\\shapely\\linear.py:88: RuntimeWarning: invalid value encountered in line_locate_point\n",
      "  return lib.line_locate_point(line, other)\n",
      "c:\\Users\\ad98\\anaconda3\\Lib\\site-packages\\shapely\\linear.py:88: RuntimeWarning: invalid value encountered in line_locate_point\n",
      "  return lib.line_locate_point(line, other)\n",
      "c:\\Users\\ad98\\anaconda3\\Lib\\site-packages\\shapely\\linear.py:88: RuntimeWarning: invalid value encountered in line_locate_point\n",
      "  return lib.line_locate_point(line, other)\n",
      "c:\\Users\\ad98\\anaconda3\\Lib\\site-packages\\shapely\\linear.py:88: RuntimeWarning: invalid value encountered in line_locate_point\n",
      "  return lib.line_locate_point(line, other)\n",
      "c:\\Users\\ad98\\anaconda3\\Lib\\site-packages\\shapely\\linear.py:88: RuntimeWarning: invalid value encountered in line_locate_point\n",
      "  return lib.line_locate_point(line, other)\n",
      "c:\\Users\\ad98\\anaconda3\\Lib\\site-packages\\shapely\\linear.py:88: RuntimeWarning: invalid value encountered in line_locate_point\n",
      "  return lib.line_locate_point(line, other)\n",
      "c:\\Users\\ad98\\anaconda3\\Lib\\site-packages\\shapely\\linear.py:88: RuntimeWarning: invalid value encountered in line_locate_point\n",
      "  return lib.line_locate_point(line, other)\n",
      "c:\\Users\\ad98\\anaconda3\\Lib\\site-packages\\shapely\\linear.py:88: RuntimeWarning: invalid value encountered in line_locate_point\n",
      "  return lib.line_locate_point(line, other)\n",
      "c:\\Users\\ad98\\anaconda3\\Lib\\site-packages\\shapely\\linear.py:88: RuntimeWarning: invalid value encountered in line_locate_point\n",
      "  return lib.line_locate_point(line, other)\n",
      "c:\\Users\\ad98\\anaconda3\\Lib\\site-packages\\shapely\\linear.py:88: RuntimeWarning: invalid value encountered in line_locate_point\n",
      "  return lib.line_locate_point(line, other)\n",
      "c:\\Users\\ad98\\anaconda3\\Lib\\site-packages\\shapely\\linear.py:88: RuntimeWarning: invalid value encountered in line_locate_point\n",
      "  return lib.line_locate_point(line, other)\n",
      "c:\\Users\\ad98\\anaconda3\\Lib\\site-packages\\shapely\\linear.py:88: RuntimeWarning: invalid value encountered in line_locate_point\n",
      "  return lib.line_locate_point(line, other)\n",
      "c:\\Users\\ad98\\anaconda3\\Lib\\site-packages\\shapely\\linear.py:88: RuntimeWarning: invalid value encountered in line_locate_point\n",
      "  return lib.line_locate_point(line, other)\n",
      "c:\\Users\\ad98\\anaconda3\\Lib\\site-packages\\shapely\\linear.py:88: RuntimeWarning: invalid value encountered in line_locate_point\n",
      "  return lib.line_locate_point(line, other)\n",
      "c:\\Users\\ad98\\anaconda3\\Lib\\site-packages\\shapely\\linear.py:88: RuntimeWarning: invalid value encountered in line_locate_point\n",
      "  return lib.line_locate_point(line, other)\n",
      "c:\\Users\\ad98\\anaconda3\\Lib\\site-packages\\shapely\\linear.py:88: RuntimeWarning: invalid value encountered in line_locate_point\n",
      "  return lib.line_locate_point(line, other)\n",
      "c:\\Users\\ad98\\anaconda3\\Lib\\site-packages\\shapely\\linear.py:88: RuntimeWarning: invalid value encountered in line_locate_point\n",
      "  return lib.line_locate_point(line, other)\n",
      "c:\\Users\\ad98\\anaconda3\\Lib\\site-packages\\shapely\\linear.py:88: RuntimeWarning: invalid value encountered in line_locate_point\n",
      "  return lib.line_locate_point(line, other)\n",
      "c:\\Users\\ad98\\anaconda3\\Lib\\site-packages\\shapely\\linear.py:88: RuntimeWarning: invalid value encountered in line_locate_point\n",
      "  return lib.line_locate_point(line, other)\n",
      "c:\\Users\\ad98\\anaconda3\\Lib\\site-packages\\shapely\\linear.py:88: RuntimeWarning: invalid value encountered in line_locate_point\n",
      "  return lib.line_locate_point(line, other)\n",
      "c:\\Users\\ad98\\anaconda3\\Lib\\site-packages\\shapely\\linear.py:88: RuntimeWarning: invalid value encountered in line_locate_point\n",
      "  return lib.line_locate_point(line, other)\n",
      "c:\\Users\\ad98\\anaconda3\\Lib\\site-packages\\shapely\\linear.py:88: RuntimeWarning: invalid value encountered in line_locate_point\n",
      "  return lib.line_locate_point(line, other)\n",
      "c:\\Users\\ad98\\anaconda3\\Lib\\site-packages\\shapely\\linear.py:88: RuntimeWarning: invalid value encountered in line_locate_point\n",
      "  return lib.line_locate_point(line, other)\n",
      "c:\\Users\\ad98\\anaconda3\\Lib\\site-packages\\shapely\\linear.py:88: RuntimeWarning: invalid value encountered in line_locate_point\n",
      "  return lib.line_locate_point(line, other)\n",
      "c:\\Users\\ad98\\anaconda3\\Lib\\site-packages\\shapely\\linear.py:88: RuntimeWarning: invalid value encountered in line_locate_point\n",
      "  return lib.line_locate_point(line, other)\n",
      "c:\\Users\\ad98\\anaconda3\\Lib\\site-packages\\shapely\\linear.py:88: RuntimeWarning: invalid value encountered in line_locate_point\n",
      "  return lib.line_locate_point(line, other)\n",
      "c:\\Users\\ad98\\anaconda3\\Lib\\site-packages\\shapely\\linear.py:88: RuntimeWarning: invalid value encountered in line_locate_point\n",
      "  return lib.line_locate_point(line, other)\n",
      "c:\\Users\\ad98\\anaconda3\\Lib\\site-packages\\shapely\\linear.py:88: RuntimeWarning: invalid value encountered in line_locate_point\n",
      "  return lib.line_locate_point(line, other)\n",
      "c:\\Users\\ad98\\anaconda3\\Lib\\site-packages\\shapely\\linear.py:88: RuntimeWarning: invalid value encountered in line_locate_point\n",
      "  return lib.line_locate_point(line, other)\n",
      "c:\\Users\\ad98\\anaconda3\\Lib\\site-packages\\shapely\\linear.py:88: RuntimeWarning: invalid value encountered in line_locate_point\n",
      "  return lib.line_locate_point(line, other)\n",
      "c:\\Users\\ad98\\anaconda3\\Lib\\site-packages\\shapely\\linear.py:88: RuntimeWarning: invalid value encountered in line_locate_point\n",
      "  return lib.line_locate_point(line, other)\n",
      "c:\\Users\\ad98\\anaconda3\\Lib\\site-packages\\shapely\\linear.py:88: RuntimeWarning: invalid value encountered in line_locate_point\n",
      "  return lib.line_locate_point(line, other)\n",
      "c:\\Users\\ad98\\anaconda3\\Lib\\site-packages\\shapely\\linear.py:88: RuntimeWarning: invalid value encountered in line_locate_point\n",
      "  return lib.line_locate_point(line, other)\n",
      "c:\\Users\\ad98\\anaconda3\\Lib\\site-packages\\shapely\\linear.py:88: RuntimeWarning: invalid value encountered in line_locate_point\n",
      "  return lib.line_locate_point(line, other)\n",
      "c:\\Users\\ad98\\anaconda3\\Lib\\site-packages\\shapely\\linear.py:88: RuntimeWarning: invalid value encountered in line_locate_point\n",
      "  return lib.line_locate_point(line, other)\n",
      "c:\\Users\\ad98\\anaconda3\\Lib\\site-packages\\shapely\\linear.py:88: RuntimeWarning: invalid value encountered in line_locate_point\n",
      "  return lib.line_locate_point(line, other)\n",
      "c:\\Users\\ad98\\anaconda3\\Lib\\site-packages\\shapely\\linear.py:88: RuntimeWarning: invalid value encountered in line_locate_point\n",
      "  return lib.line_locate_point(line, other)\n",
      "c:\\Users\\ad98\\anaconda3\\Lib\\site-packages\\shapely\\linear.py:88: RuntimeWarning: invalid value encountered in line_locate_point\n",
      "  return lib.line_locate_point(line, other)\n",
      "c:\\Users\\ad98\\anaconda3\\Lib\\site-packages\\shapely\\linear.py:88: RuntimeWarning: invalid value encountered in line_locate_point\n",
      "  return lib.line_locate_point(line, other)\n",
      "c:\\Users\\ad98\\anaconda3\\Lib\\site-packages\\shapely\\linear.py:88: RuntimeWarning: invalid value encountered in line_locate_point\n",
      "  return lib.line_locate_point(line, other)\n",
      "c:\\Users\\ad98\\anaconda3\\Lib\\site-packages\\shapely\\linear.py:88: RuntimeWarning: invalid value encountered in line_locate_point\n",
      "  return lib.line_locate_point(line, other)\n",
      "c:\\Users\\ad98\\anaconda3\\Lib\\site-packages\\shapely\\linear.py:88: RuntimeWarning: invalid value encountered in line_locate_point\n",
      "  return lib.line_locate_point(line, other)\n",
      "c:\\Users\\ad98\\anaconda3\\Lib\\site-packages\\shapely\\linear.py:88: RuntimeWarning: invalid value encountered in line_locate_point\n",
      "  return lib.line_locate_point(line, other)\n",
      "c:\\Users\\ad98\\anaconda3\\Lib\\site-packages\\shapely\\linear.py:88: RuntimeWarning: invalid value encountered in line_locate_point\n",
      "  return lib.line_locate_point(line, other)\n",
      "c:\\Users\\ad98\\anaconda3\\Lib\\site-packages\\shapely\\linear.py:88: RuntimeWarning: invalid value encountered in line_locate_point\n",
      "  return lib.line_locate_point(line, other)\n",
      "c:\\Users\\ad98\\anaconda3\\Lib\\site-packages\\shapely\\linear.py:88: RuntimeWarning: invalid value encountered in line_locate_point\n",
      "  return lib.line_locate_point(line, other)\n",
      "c:\\Users\\ad98\\anaconda3\\Lib\\site-packages\\shapely\\linear.py:88: RuntimeWarning: invalid value encountered in line_locate_point\n",
      "  return lib.line_locate_point(line, other)\n",
      "c:\\Users\\ad98\\anaconda3\\Lib\\site-packages\\shapely\\linear.py:88: RuntimeWarning: invalid value encountered in line_locate_point\n",
      "  return lib.line_locate_point(line, other)\n",
      "c:\\Users\\ad98\\anaconda3\\Lib\\site-packages\\shapely\\linear.py:88: RuntimeWarning: invalid value encountered in line_locate_point\n",
      "  return lib.line_locate_point(line, other)\n",
      "c:\\Users\\ad98\\anaconda3\\Lib\\site-packages\\shapely\\linear.py:88: RuntimeWarning: invalid value encountered in line_locate_point\n",
      "  return lib.line_locate_point(line, other)\n",
      "c:\\Users\\ad98\\anaconda3\\Lib\\site-packages\\shapely\\linear.py:88: RuntimeWarning: invalid value encountered in line_locate_point\n",
      "  return lib.line_locate_point(line, other)\n",
      "c:\\Users\\ad98\\anaconda3\\Lib\\site-packages\\shapely\\linear.py:88: RuntimeWarning: invalid value encountered in line_locate_point\n",
      "  return lib.line_locate_point(line, other)\n",
      "c:\\Users\\ad98\\anaconda3\\Lib\\site-packages\\shapely\\linear.py:88: RuntimeWarning: invalid value encountered in line_locate_point\n",
      "  return lib.line_locate_point(line, other)\n",
      "c:\\Users\\ad98\\anaconda3\\Lib\\site-packages\\shapely\\linear.py:88: RuntimeWarning: invalid value encountered in line_locate_point\n",
      "  return lib.line_locate_point(line, other)\n",
      "c:\\Users\\ad98\\anaconda3\\Lib\\site-packages\\shapely\\linear.py:88: RuntimeWarning: invalid value encountered in line_locate_point\n",
      "  return lib.line_locate_point(line, other)\n",
      "c:\\Users\\ad98\\anaconda3\\Lib\\site-packages\\shapely\\linear.py:88: RuntimeWarning: invalid value encountered in line_locate_point\n",
      "  return lib.line_locate_point(line, other)\n",
      "c:\\Users\\ad98\\anaconda3\\Lib\\site-packages\\shapely\\linear.py:88: RuntimeWarning: invalid value encountered in line_locate_point\n",
      "  return lib.line_locate_point(line, other)\n",
      "c:\\Users\\ad98\\anaconda3\\Lib\\site-packages\\shapely\\linear.py:88: RuntimeWarning: invalid value encountered in line_locate_point\n",
      "  return lib.line_locate_point(line, other)\n",
      "c:\\Users\\ad98\\anaconda3\\Lib\\site-packages\\shapely\\linear.py:88: RuntimeWarning: invalid value encountered in line_locate_point\n",
      "  return lib.line_locate_point(line, other)\n",
      "c:\\Users\\ad98\\anaconda3\\Lib\\site-packages\\shapely\\linear.py:88: RuntimeWarning: invalid value encountered in line_locate_point\n",
      "  return lib.line_locate_point(line, other)\n",
      "c:\\Users\\ad98\\anaconda3\\Lib\\site-packages\\shapely\\linear.py:88: RuntimeWarning: invalid value encountered in line_locate_point\n",
      "  return lib.line_locate_point(line, other)\n",
      "c:\\Users\\ad98\\anaconda3\\Lib\\site-packages\\shapely\\linear.py:88: RuntimeWarning: invalid value encountered in line_locate_point\n",
      "  return lib.line_locate_point(line, other)\n",
      "c:\\Users\\ad98\\anaconda3\\Lib\\site-packages\\shapely\\linear.py:88: RuntimeWarning: invalid value encountered in line_locate_point\n",
      "  return lib.line_locate_point(line, other)\n",
      "c:\\Users\\ad98\\anaconda3\\Lib\\site-packages\\shapely\\linear.py:88: RuntimeWarning: invalid value encountered in line_locate_point\n",
      "  return lib.line_locate_point(line, other)\n",
      "c:\\Users\\ad98\\anaconda3\\Lib\\site-packages\\shapely\\linear.py:88: RuntimeWarning: invalid value encountered in line_locate_point\n",
      "  return lib.line_locate_point(line, other)\n",
      "c:\\Users\\ad98\\anaconda3\\Lib\\site-packages\\shapely\\linear.py:88: RuntimeWarning: invalid value encountered in line_locate_point\n",
      "  return lib.line_locate_point(line, other)\n",
      "c:\\Users\\ad98\\anaconda3\\Lib\\site-packages\\shapely\\linear.py:88: RuntimeWarning: invalid value encountered in line_locate_point\n",
      "  return lib.line_locate_point(line, other)\n",
      "c:\\Users\\ad98\\anaconda3\\Lib\\site-packages\\shapely\\linear.py:88: RuntimeWarning: invalid value encountered in line_locate_point\n",
      "  return lib.line_locate_point(line, other)\n",
      "c:\\Users\\ad98\\anaconda3\\Lib\\site-packages\\shapely\\linear.py:88: RuntimeWarning: invalid value encountered in line_locate_point\n",
      "  return lib.line_locate_point(line, other)\n",
      "c:\\Users\\ad98\\anaconda3\\Lib\\site-packages\\shapely\\linear.py:88: RuntimeWarning: invalid value encountered in line_locate_point\n",
      "  return lib.line_locate_point(line, other)\n",
      "c:\\Users\\ad98\\anaconda3\\Lib\\site-packages\\shapely\\linear.py:88: RuntimeWarning: invalid value encountered in line_locate_point\n",
      "  return lib.line_locate_point(line, other)\n",
      "c:\\Users\\ad98\\anaconda3\\Lib\\site-packages\\shapely\\linear.py:88: RuntimeWarning: invalid value encountered in line_locate_point\n",
      "  return lib.line_locate_point(line, other)\n",
      "c:\\Users\\ad98\\anaconda3\\Lib\\site-packages\\shapely\\linear.py:88: RuntimeWarning: invalid value encountered in line_locate_point\n",
      "  return lib.line_locate_point(line, other)\n",
      "c:\\Users\\ad98\\anaconda3\\Lib\\site-packages\\shapely\\linear.py:88: RuntimeWarning: invalid value encountered in line_locate_point\n",
      "  return lib.line_locate_point(line, other)\n",
      "c:\\Users\\ad98\\anaconda3\\Lib\\site-packages\\shapely\\linear.py:88: RuntimeWarning: invalid value encountered in line_locate_point\n",
      "  return lib.line_locate_point(line, other)\n",
      "c:\\Users\\ad98\\anaconda3\\Lib\\site-packages\\shapely\\linear.py:88: RuntimeWarning: invalid value encountered in line_locate_point\n",
      "  return lib.line_locate_point(line, other)\n",
      "c:\\Users\\ad98\\anaconda3\\Lib\\site-packages\\shapely\\linear.py:88: RuntimeWarning: invalid value encountered in line_locate_point\n",
      "  return lib.line_locate_point(line, other)\n",
      "c:\\Users\\ad98\\anaconda3\\Lib\\site-packages\\shapely\\linear.py:88: RuntimeWarning: invalid value encountered in line_locate_point\n",
      "  return lib.line_locate_point(line, other)\n",
      "c:\\Users\\ad98\\anaconda3\\Lib\\site-packages\\shapely\\linear.py:88: RuntimeWarning: invalid value encountered in line_locate_point\n",
      "  return lib.line_locate_point(line, other)\n",
      "c:\\Users\\ad98\\anaconda3\\Lib\\site-packages\\shapely\\linear.py:88: RuntimeWarning: invalid value encountered in line_locate_point\n",
      "  return lib.line_locate_point(line, other)\n",
      "c:\\Users\\ad98\\anaconda3\\Lib\\site-packages\\shapely\\linear.py:88: RuntimeWarning: invalid value encountered in line_locate_point\n",
      "  return lib.line_locate_point(line, other)\n",
      "c:\\Users\\ad98\\anaconda3\\Lib\\site-packages\\shapely\\linear.py:88: RuntimeWarning: invalid value encountered in line_locate_point\n",
      "  return lib.line_locate_point(line, other)\n",
      "c:\\Users\\ad98\\anaconda3\\Lib\\site-packages\\shapely\\linear.py:88: RuntimeWarning: invalid value encountered in line_locate_point\n",
      "  return lib.line_locate_point(line, other)\n",
      "c:\\Users\\ad98\\anaconda3\\Lib\\site-packages\\shapely\\linear.py:88: RuntimeWarning: invalid value encountered in line_locate_point\n",
      "  return lib.line_locate_point(line, other)\n",
      "c:\\Users\\ad98\\anaconda3\\Lib\\site-packages\\shapely\\linear.py:88: RuntimeWarning: invalid value encountered in line_locate_point\n",
      "  return lib.line_locate_point(line, other)\n",
      "c:\\Users\\ad98\\anaconda3\\Lib\\site-packages\\shapely\\linear.py:88: RuntimeWarning: invalid value encountered in line_locate_point\n",
      "  return lib.line_locate_point(line, other)\n",
      "c:\\Users\\ad98\\anaconda3\\Lib\\site-packages\\shapely\\linear.py:88: RuntimeWarning: invalid value encountered in line_locate_point\n",
      "  return lib.line_locate_point(line, other)\n",
      "c:\\Users\\ad98\\anaconda3\\Lib\\site-packages\\shapely\\linear.py:88: RuntimeWarning: invalid value encountered in line_locate_point\n",
      "  return lib.line_locate_point(line, other)\n",
      "c:\\Users\\ad98\\anaconda3\\Lib\\site-packages\\shapely\\linear.py:88: RuntimeWarning: invalid value encountered in line_locate_point\n",
      "  return lib.line_locate_point(line, other)\n",
      "c:\\Users\\ad98\\anaconda3\\Lib\\site-packages\\shapely\\linear.py:88: RuntimeWarning: invalid value encountered in line_locate_point\n",
      "  return lib.line_locate_point(line, other)\n",
      "c:\\Users\\ad98\\anaconda3\\Lib\\site-packages\\shapely\\linear.py:88: RuntimeWarning: invalid value encountered in line_locate_point\n",
      "  return lib.line_locate_point(line, other)\n",
      "c:\\Users\\ad98\\anaconda3\\Lib\\site-packages\\shapely\\linear.py:88: RuntimeWarning: invalid value encountered in line_locate_point\n",
      "  return lib.line_locate_point(line, other)\n",
      "c:\\Users\\ad98\\anaconda3\\Lib\\site-packages\\shapely\\linear.py:88: RuntimeWarning: invalid value encountered in line_locate_point\n",
      "  return lib.line_locate_point(line, other)\n",
      "c:\\Users\\ad98\\anaconda3\\Lib\\site-packages\\shapely\\linear.py:88: RuntimeWarning: invalid value encountered in line_locate_point\n",
      "  return lib.line_locate_point(line, other)\n",
      "c:\\Users\\ad98\\anaconda3\\Lib\\site-packages\\shapely\\linear.py:88: RuntimeWarning: invalid value encountered in line_locate_point\n",
      "  return lib.line_locate_point(line, other)\n",
      "c:\\Users\\ad98\\anaconda3\\Lib\\site-packages\\shapely\\linear.py:88: RuntimeWarning: invalid value encountered in line_locate_point\n",
      "  return lib.line_locate_point(line, other)\n",
      "c:\\Users\\ad98\\anaconda3\\Lib\\site-packages\\shapely\\linear.py:88: RuntimeWarning: invalid value encountered in line_locate_point\n",
      "  return lib.line_locate_point(line, other)\n",
      "c:\\Users\\ad98\\anaconda3\\Lib\\site-packages\\shapely\\linear.py:88: RuntimeWarning: invalid value encountered in line_locate_point\n",
      "  return lib.line_locate_point(line, other)\n",
      "c:\\Users\\ad98\\anaconda3\\Lib\\site-packages\\shapely\\linear.py:88: RuntimeWarning: invalid value encountered in line_locate_point\n",
      "  return lib.line_locate_point(line, other)\n",
      "c:\\Users\\ad98\\anaconda3\\Lib\\site-packages\\shapely\\linear.py:88: RuntimeWarning: invalid value encountered in line_locate_point\n",
      "  return lib.line_locate_point(line, other)\n",
      "c:\\Users\\ad98\\anaconda3\\Lib\\site-packages\\shapely\\linear.py:88: RuntimeWarning: invalid value encountered in line_locate_point\n",
      "  return lib.line_locate_point(line, other)\n",
      "c:\\Users\\ad98\\anaconda3\\Lib\\site-packages\\shapely\\linear.py:88: RuntimeWarning: invalid value encountered in line_locate_point\n",
      "  return lib.line_locate_point(line, other)\n",
      "c:\\Users\\ad98\\anaconda3\\Lib\\site-packages\\shapely\\linear.py:88: RuntimeWarning: invalid value encountered in line_locate_point\n",
      "  return lib.line_locate_point(line, other)\n",
      "c:\\Users\\ad98\\anaconda3\\Lib\\site-packages\\shapely\\linear.py:88: RuntimeWarning: invalid value encountered in line_locate_point\n",
      "  return lib.line_locate_point(line, other)\n",
      "c:\\Users\\ad98\\anaconda3\\Lib\\site-packages\\shapely\\linear.py:88: RuntimeWarning: invalid value encountered in line_locate_point\n",
      "  return lib.line_locate_point(line, other)\n",
      "c:\\Users\\ad98\\anaconda3\\Lib\\site-packages\\shapely\\linear.py:88: RuntimeWarning: invalid value encountered in line_locate_point\n",
      "  return lib.line_locate_point(line, other)\n",
      "c:\\Users\\ad98\\anaconda3\\Lib\\site-packages\\shapely\\linear.py:88: RuntimeWarning: invalid value encountered in line_locate_point\n",
      "  return lib.line_locate_point(line, other)\n",
      "c:\\Users\\ad98\\anaconda3\\Lib\\site-packages\\shapely\\linear.py:88: RuntimeWarning: invalid value encountered in line_locate_point\n",
      "  return lib.line_locate_point(line, other)\n",
      "c:\\Users\\ad98\\anaconda3\\Lib\\site-packages\\shapely\\linear.py:88: RuntimeWarning: invalid value encountered in line_locate_point\n",
      "  return lib.line_locate_point(line, other)\n",
      "c:\\Users\\ad98\\anaconda3\\Lib\\site-packages\\shapely\\linear.py:88: RuntimeWarning: invalid value encountered in line_locate_point\n",
      "  return lib.line_locate_point(line, other)\n",
      "c:\\Users\\ad98\\anaconda3\\Lib\\site-packages\\shapely\\linear.py:88: RuntimeWarning: invalid value encountered in line_locate_point\n",
      "  return lib.line_locate_point(line, other)\n",
      "c:\\Users\\ad98\\anaconda3\\Lib\\site-packages\\shapely\\linear.py:88: RuntimeWarning: invalid value encountered in line_locate_point\n",
      "  return lib.line_locate_point(line, other)\n",
      "c:\\Users\\ad98\\anaconda3\\Lib\\site-packages\\shapely\\linear.py:88: RuntimeWarning: invalid value encountered in line_locate_point\n",
      "  return lib.line_locate_point(line, other)\n",
      "c:\\Users\\ad98\\anaconda3\\Lib\\site-packages\\shapely\\linear.py:88: RuntimeWarning: invalid value encountered in line_locate_point\n",
      "  return lib.line_locate_point(line, other)\n",
      "c:\\Users\\ad98\\anaconda3\\Lib\\site-packages\\shapely\\linear.py:88: RuntimeWarning: invalid value encountered in line_locate_point\n",
      "  return lib.line_locate_point(line, other)\n",
      "c:\\Users\\ad98\\anaconda3\\Lib\\site-packages\\shapely\\linear.py:88: RuntimeWarning: invalid value encountered in line_locate_point\n",
      "  return lib.line_locate_point(line, other)\n",
      "c:\\Users\\ad98\\anaconda3\\Lib\\site-packages\\shapely\\linear.py:88: RuntimeWarning: invalid value encountered in line_locate_point\n",
      "  return lib.line_locate_point(line, other)\n",
      "c:\\Users\\ad98\\anaconda3\\Lib\\site-packages\\shapely\\linear.py:88: RuntimeWarning: invalid value encountered in line_locate_point\n",
      "  return lib.line_locate_point(line, other)\n",
      "c:\\Users\\ad98\\anaconda3\\Lib\\site-packages\\shapely\\linear.py:88: RuntimeWarning: invalid value encountered in line_locate_point\n",
      "  return lib.line_locate_point(line, other)\n",
      "c:\\Users\\ad98\\anaconda3\\Lib\\site-packages\\shapely\\linear.py:88: RuntimeWarning: invalid value encountered in line_locate_point\n",
      "  return lib.line_locate_point(line, other)\n",
      "c:\\Users\\ad98\\anaconda3\\Lib\\site-packages\\shapely\\linear.py:88: RuntimeWarning: invalid value encountered in line_locate_point\n",
      "  return lib.line_locate_point(line, other)\n",
      "c:\\Users\\ad98\\anaconda3\\Lib\\site-packages\\shapely\\linear.py:88: RuntimeWarning: invalid value encountered in line_locate_point\n",
      "  return lib.line_locate_point(line, other)\n",
      "c:\\Users\\ad98\\anaconda3\\Lib\\site-packages\\shapely\\linear.py:88: RuntimeWarning: invalid value encountered in line_locate_point\n",
      "  return lib.line_locate_point(line, other)\n",
      "c:\\Users\\ad98\\anaconda3\\Lib\\site-packages\\shapely\\linear.py:88: RuntimeWarning: invalid value encountered in line_locate_point\n",
      "  return lib.line_locate_point(line, other)\n",
      "c:\\Users\\ad98\\anaconda3\\Lib\\site-packages\\shapely\\linear.py:88: RuntimeWarning: invalid value encountered in line_locate_point\n",
      "  return lib.line_locate_point(line, other)\n",
      "c:\\Users\\ad98\\anaconda3\\Lib\\site-packages\\shapely\\linear.py:88: RuntimeWarning: invalid value encountered in line_locate_point\n",
      "  return lib.line_locate_point(line, other)\n",
      "c:\\Users\\ad98\\anaconda3\\Lib\\site-packages\\shapely\\linear.py:88: RuntimeWarning: invalid value encountered in line_locate_point\n",
      "  return lib.line_locate_point(line, other)\n",
      "c:\\Users\\ad98\\anaconda3\\Lib\\site-packages\\shapely\\linear.py:88: RuntimeWarning: invalid value encountered in line_locate_point\n",
      "  return lib.line_locate_point(line, other)\n",
      "c:\\Users\\ad98\\anaconda3\\Lib\\site-packages\\shapely\\linear.py:88: RuntimeWarning: invalid value encountered in line_locate_point\n",
      "  return lib.line_locate_point(line, other)\n",
      "c:\\Users\\ad98\\anaconda3\\Lib\\site-packages\\shapely\\linear.py:88: RuntimeWarning: invalid value encountered in line_locate_point\n",
      "  return lib.line_locate_point(line, other)\n",
      "c:\\Users\\ad98\\anaconda3\\Lib\\site-packages\\shapely\\linear.py:88: RuntimeWarning: invalid value encountered in line_locate_point\n",
      "  return lib.line_locate_point(line, other)\n",
      "c:\\Users\\ad98\\anaconda3\\Lib\\site-packages\\shapely\\linear.py:88: RuntimeWarning: invalid value encountered in line_locate_point\n",
      "  return lib.line_locate_point(line, other)\n",
      "c:\\Users\\ad98\\anaconda3\\Lib\\site-packages\\shapely\\linear.py:88: RuntimeWarning: invalid value encountered in line_locate_point\n",
      "  return lib.line_locate_point(line, other)\n",
      "c:\\Users\\ad98\\anaconda3\\Lib\\site-packages\\shapely\\linear.py:88: RuntimeWarning: invalid value encountered in line_locate_point\n",
      "  return lib.line_locate_point(line, other)\n",
      "c:\\Users\\ad98\\anaconda3\\Lib\\site-packages\\shapely\\linear.py:88: RuntimeWarning: invalid value encountered in line_locate_point\n",
      "  return lib.line_locate_point(line, other)\n",
      "c:\\Users\\ad98\\anaconda3\\Lib\\site-packages\\shapely\\linear.py:88: RuntimeWarning: invalid value encountered in line_locate_point\n",
      "  return lib.line_locate_point(line, other)\n",
      "c:\\Users\\ad98\\anaconda3\\Lib\\site-packages\\shapely\\linear.py:88: RuntimeWarning: invalid value encountered in line_locate_point\n",
      "  return lib.line_locate_point(line, other)\n",
      "c:\\Users\\ad98\\anaconda3\\Lib\\site-packages\\shapely\\linear.py:88: RuntimeWarning: invalid value encountered in line_locate_point\n",
      "  return lib.line_locate_point(line, other)\n",
      "c:\\Users\\ad98\\anaconda3\\Lib\\site-packages\\shapely\\linear.py:88: RuntimeWarning: invalid value encountered in line_locate_point\n",
      "  return lib.line_locate_point(line, other)\n",
      "c:\\Users\\ad98\\anaconda3\\Lib\\site-packages\\shapely\\linear.py:88: RuntimeWarning: invalid value encountered in line_locate_point\n",
      "  return lib.line_locate_point(line, other)\n",
      "c:\\Users\\ad98\\anaconda3\\Lib\\site-packages\\shapely\\linear.py:88: RuntimeWarning: invalid value encountered in line_locate_point\n",
      "  return lib.line_locate_point(line, other)\n",
      "c:\\Users\\ad98\\anaconda3\\Lib\\site-packages\\shapely\\linear.py:88: RuntimeWarning: invalid value encountered in line_locate_point\n",
      "  return lib.line_locate_point(line, other)\n",
      "c:\\Users\\ad98\\anaconda3\\Lib\\site-packages\\shapely\\linear.py:88: RuntimeWarning: invalid value encountered in line_locate_point\n",
      "  return lib.line_locate_point(line, other)\n",
      "c:\\Users\\ad98\\anaconda3\\Lib\\site-packages\\shapely\\linear.py:88: RuntimeWarning: invalid value encountered in line_locate_point\n",
      "  return lib.line_locate_point(line, other)\n",
      "c:\\Users\\ad98\\anaconda3\\Lib\\site-packages\\shapely\\linear.py:88: RuntimeWarning: invalid value encountered in line_locate_point\n",
      "  return lib.line_locate_point(line, other)\n",
      "c:\\Users\\ad98\\anaconda3\\Lib\\site-packages\\shapely\\linear.py:88: RuntimeWarning: invalid value encountered in line_locate_point\n",
      "  return lib.line_locate_point(line, other)\n",
      "c:\\Users\\ad98\\anaconda3\\Lib\\site-packages\\shapely\\linear.py:88: RuntimeWarning: invalid value encountered in line_locate_point\n",
      "  return lib.line_locate_point(line, other)\n",
      "c:\\Users\\ad98\\anaconda3\\Lib\\site-packages\\shapely\\linear.py:88: RuntimeWarning: invalid value encountered in line_locate_point\n",
      "  return lib.line_locate_point(line, other)\n",
      "c:\\Users\\ad98\\anaconda3\\Lib\\site-packages\\shapely\\linear.py:88: RuntimeWarning: invalid value encountered in line_locate_point\n",
      "  return lib.line_locate_point(line, other)\n",
      "c:\\Users\\ad98\\anaconda3\\Lib\\site-packages\\shapely\\linear.py:88: RuntimeWarning: invalid value encountered in line_locate_point\n",
      "  return lib.line_locate_point(line, other)\n",
      "c:\\Users\\ad98\\anaconda3\\Lib\\site-packages\\shapely\\linear.py:88: RuntimeWarning: invalid value encountered in line_locate_point\n",
      "  return lib.line_locate_point(line, other)\n",
      "c:\\Users\\ad98\\anaconda3\\Lib\\site-packages\\shapely\\linear.py:88: RuntimeWarning: invalid value encountered in line_locate_point\n",
      "  return lib.line_locate_point(line, other)\n",
      "c:\\Users\\ad98\\anaconda3\\Lib\\site-packages\\shapely\\linear.py:88: RuntimeWarning: invalid value encountered in line_locate_point\n",
      "  return lib.line_locate_point(line, other)\n",
      "c:\\Users\\ad98\\anaconda3\\Lib\\site-packages\\shapely\\linear.py:88: RuntimeWarning: invalid value encountered in line_locate_point\n",
      "  return lib.line_locate_point(line, other)\n",
      "c:\\Users\\ad98\\anaconda3\\Lib\\site-packages\\shapely\\linear.py:88: RuntimeWarning: invalid value encountered in line_locate_point\n",
      "  return lib.line_locate_point(line, other)\n",
      "c:\\Users\\ad98\\anaconda3\\Lib\\site-packages\\shapely\\linear.py:88: RuntimeWarning: invalid value encountered in line_locate_point\n",
      "  return lib.line_locate_point(line, other)\n",
      "c:\\Users\\ad98\\anaconda3\\Lib\\site-packages\\shapely\\linear.py:88: RuntimeWarning: invalid value encountered in line_locate_point\n",
      "  return lib.line_locate_point(line, other)\n",
      "c:\\Users\\ad98\\anaconda3\\Lib\\site-packages\\shapely\\linear.py:88: RuntimeWarning: invalid value encountered in line_locate_point\n",
      "  return lib.line_locate_point(line, other)\n",
      "c:\\Users\\ad98\\anaconda3\\Lib\\site-packages\\shapely\\linear.py:88: RuntimeWarning: invalid value encountered in line_locate_point\n",
      "  return lib.line_locate_point(line, other)\n",
      "c:\\Users\\ad98\\anaconda3\\Lib\\site-packages\\shapely\\linear.py:88: RuntimeWarning: invalid value encountered in line_locate_point\n",
      "  return lib.line_locate_point(line, other)\n",
      "c:\\Users\\ad98\\anaconda3\\Lib\\site-packages\\shapely\\linear.py:88: RuntimeWarning: invalid value encountered in line_locate_point\n",
      "  return lib.line_locate_point(line, other)\n",
      "c:\\Users\\ad98\\anaconda3\\Lib\\site-packages\\shapely\\linear.py:88: RuntimeWarning: invalid value encountered in line_locate_point\n",
      "  return lib.line_locate_point(line, other)\n",
      "c:\\Users\\ad98\\anaconda3\\Lib\\site-packages\\shapely\\linear.py:88: RuntimeWarning: invalid value encountered in line_locate_point\n",
      "  return lib.line_locate_point(line, other)\n",
      "c:\\Users\\ad98\\anaconda3\\Lib\\site-packages\\shapely\\linear.py:88: RuntimeWarning: invalid value encountered in line_locate_point\n",
      "  return lib.line_locate_point(line, other)\n",
      "c:\\Users\\ad98\\anaconda3\\Lib\\site-packages\\shapely\\linear.py:88: RuntimeWarning: invalid value encountered in line_locate_point\n",
      "  return lib.line_locate_point(line, other)\n",
      "c:\\Users\\ad98\\anaconda3\\Lib\\site-packages\\shapely\\linear.py:88: RuntimeWarning: invalid value encountered in line_locate_point\n",
      "  return lib.line_locate_point(line, other)\n",
      "c:\\Users\\ad98\\anaconda3\\Lib\\site-packages\\shapely\\linear.py:88: RuntimeWarning: invalid value encountered in line_locate_point\n",
      "  return lib.line_locate_point(line, other)\n",
      "c:\\Users\\ad98\\anaconda3\\Lib\\site-packages\\shapely\\linear.py:88: RuntimeWarning: invalid value encountered in line_locate_point\n",
      "  return lib.line_locate_point(line, other)\n",
      "c:\\Users\\ad98\\anaconda3\\Lib\\site-packages\\shapely\\linear.py:88: RuntimeWarning: invalid value encountered in line_locate_point\n",
      "  return lib.line_locate_point(line, other)\n",
      "c:\\Users\\ad98\\anaconda3\\Lib\\site-packages\\shapely\\linear.py:88: RuntimeWarning: invalid value encountered in line_locate_point\n",
      "  return lib.line_locate_point(line, other)\n",
      "c:\\Users\\ad98\\anaconda3\\Lib\\site-packages\\shapely\\linear.py:88: RuntimeWarning: invalid value encountered in line_locate_point\n",
      "  return lib.line_locate_point(line, other)\n",
      "c:\\Users\\ad98\\anaconda3\\Lib\\site-packages\\shapely\\linear.py:88: RuntimeWarning: invalid value encountered in line_locate_point\n",
      "  return lib.line_locate_point(line, other)\n",
      "c:\\Users\\ad98\\anaconda3\\Lib\\site-packages\\shapely\\linear.py:88: RuntimeWarning: invalid value encountered in line_locate_point\n",
      "  return lib.line_locate_point(line, other)\n",
      "c:\\Users\\ad98\\anaconda3\\Lib\\site-packages\\shapely\\linear.py:88: RuntimeWarning: invalid value encountered in line_locate_point\n",
      "  return lib.line_locate_point(line, other)\n",
      "c:\\Users\\ad98\\anaconda3\\Lib\\site-packages\\shapely\\linear.py:88: RuntimeWarning: invalid value encountered in line_locate_point\n",
      "  return lib.line_locate_point(line, other)\n",
      "c:\\Users\\ad98\\anaconda3\\Lib\\site-packages\\shapely\\linear.py:88: RuntimeWarning: invalid value encountered in line_locate_point\n",
      "  return lib.line_locate_point(line, other)\n",
      "c:\\Users\\ad98\\anaconda3\\Lib\\site-packages\\shapely\\linear.py:88: RuntimeWarning: invalid value encountered in line_locate_point\n",
      "  return lib.line_locate_point(line, other)\n",
      "c:\\Users\\ad98\\anaconda3\\Lib\\site-packages\\shapely\\linear.py:88: RuntimeWarning: invalid value encountered in line_locate_point\n",
      "  return lib.line_locate_point(line, other)\n",
      "c:\\Users\\ad98\\anaconda3\\Lib\\site-packages\\shapely\\linear.py:88: RuntimeWarning: invalid value encountered in line_locate_point\n",
      "  return lib.line_locate_point(line, other)\n",
      "c:\\Users\\ad98\\anaconda3\\Lib\\site-packages\\shapely\\linear.py:88: RuntimeWarning: invalid value encountered in line_locate_point\n",
      "  return lib.line_locate_point(line, other)\n",
      "c:\\Users\\ad98\\anaconda3\\Lib\\site-packages\\shapely\\linear.py:88: RuntimeWarning: invalid value encountered in line_locate_point\n",
      "  return lib.line_locate_point(line, other)\n",
      "c:\\Users\\ad98\\anaconda3\\Lib\\site-packages\\shapely\\linear.py:88: RuntimeWarning: invalid value encountered in line_locate_point\n",
      "  return lib.line_locate_point(line, other)\n",
      "c:\\Users\\ad98\\anaconda3\\Lib\\site-packages\\shapely\\linear.py:88: RuntimeWarning: invalid value encountered in line_locate_point\n",
      "  return lib.line_locate_point(line, other)\n",
      "c:\\Users\\ad98\\anaconda3\\Lib\\site-packages\\shapely\\linear.py:88: RuntimeWarning: invalid value encountered in line_locate_point\n",
      "  return lib.line_locate_point(line, other)\n",
      "c:\\Users\\ad98\\anaconda3\\Lib\\site-packages\\shapely\\linear.py:88: RuntimeWarning: invalid value encountered in line_locate_point\n",
      "  return lib.line_locate_point(line, other)\n",
      "c:\\Users\\ad98\\anaconda3\\Lib\\site-packages\\shapely\\linear.py:88: RuntimeWarning: invalid value encountered in line_locate_point\n",
      "  return lib.line_locate_point(line, other)\n",
      "c:\\Users\\ad98\\anaconda3\\Lib\\site-packages\\shapely\\linear.py:88: RuntimeWarning: invalid value encountered in line_locate_point\n",
      "  return lib.line_locate_point(line, other)\n",
      "c:\\Users\\ad98\\anaconda3\\Lib\\site-packages\\shapely\\linear.py:88: RuntimeWarning: invalid value encountered in line_locate_point\n",
      "  return lib.line_locate_point(line, other)\n",
      "c:\\Users\\ad98\\anaconda3\\Lib\\site-packages\\shapely\\linear.py:88: RuntimeWarning: invalid value encountered in line_locate_point\n",
      "  return lib.line_locate_point(line, other)\n",
      "c:\\Users\\ad98\\anaconda3\\Lib\\site-packages\\shapely\\linear.py:88: RuntimeWarning: invalid value encountered in line_locate_point\n",
      "  return lib.line_locate_point(line, other)\n",
      "c:\\Users\\ad98\\anaconda3\\Lib\\site-packages\\shapely\\linear.py:88: RuntimeWarning: invalid value encountered in line_locate_point\n",
      "  return lib.line_locate_point(line, other)\n",
      "c:\\Users\\ad98\\anaconda3\\Lib\\site-packages\\shapely\\linear.py:88: RuntimeWarning: invalid value encountered in line_locate_point\n",
      "  return lib.line_locate_point(line, other)\n",
      "c:\\Users\\ad98\\anaconda3\\Lib\\site-packages\\shapely\\linear.py:88: RuntimeWarning: invalid value encountered in line_locate_point\n",
      "  return lib.line_locate_point(line, other)\n",
      "c:\\Users\\ad98\\anaconda3\\Lib\\site-packages\\shapely\\linear.py:88: RuntimeWarning: invalid value encountered in line_locate_point\n",
      "  return lib.line_locate_point(line, other)\n",
      "c:\\Users\\ad98\\anaconda3\\Lib\\site-packages\\shapely\\linear.py:88: RuntimeWarning: invalid value encountered in line_locate_point\n",
      "  return lib.line_locate_point(line, other)\n",
      "c:\\Users\\ad98\\anaconda3\\Lib\\site-packages\\shapely\\linear.py:88: RuntimeWarning: invalid value encountered in line_locate_point\n",
      "  return lib.line_locate_point(line, other)\n",
      "c:\\Users\\ad98\\anaconda3\\Lib\\site-packages\\shapely\\linear.py:88: RuntimeWarning: invalid value encountered in line_locate_point\n",
      "  return lib.line_locate_point(line, other)\n",
      "c:\\Users\\ad98\\anaconda3\\Lib\\site-packages\\shapely\\linear.py:88: RuntimeWarning: invalid value encountered in line_locate_point\n",
      "  return lib.line_locate_point(line, other)\n",
      "c:\\Users\\ad98\\anaconda3\\Lib\\site-packages\\shapely\\linear.py:88: RuntimeWarning: invalid value encountered in line_locate_point\n",
      "  return lib.line_locate_point(line, other)\n",
      "c:\\Users\\ad98\\anaconda3\\Lib\\site-packages\\shapely\\linear.py:88: RuntimeWarning: invalid value encountered in line_locate_point\n",
      "  return lib.line_locate_point(line, other)\n",
      "c:\\Users\\ad98\\anaconda3\\Lib\\site-packages\\shapely\\linear.py:88: RuntimeWarning: invalid value encountered in line_locate_point\n",
      "  return lib.line_locate_point(line, other)\n",
      "c:\\Users\\ad98\\anaconda3\\Lib\\site-packages\\shapely\\linear.py:88: RuntimeWarning: invalid value encountered in line_locate_point\n",
      "  return lib.line_locate_point(line, other)\n",
      "c:\\Users\\ad98\\anaconda3\\Lib\\site-packages\\shapely\\linear.py:88: RuntimeWarning: invalid value encountered in line_locate_point\n",
      "  return lib.line_locate_point(line, other)\n",
      "c:\\Users\\ad98\\anaconda3\\Lib\\site-packages\\shapely\\linear.py:88: RuntimeWarning: invalid value encountered in line_locate_point\n",
      "  return lib.line_locate_point(line, other)\n",
      "c:\\Users\\ad98\\anaconda3\\Lib\\site-packages\\shapely\\linear.py:88: RuntimeWarning: invalid value encountered in line_locate_point\n",
      "  return lib.line_locate_point(line, other)\n",
      "c:\\Users\\ad98\\anaconda3\\Lib\\site-packages\\shapely\\linear.py:88: RuntimeWarning: invalid value encountered in line_locate_point\n",
      "  return lib.line_locate_point(line, other)\n",
      "c:\\Users\\ad98\\anaconda3\\Lib\\site-packages\\shapely\\linear.py:88: RuntimeWarning: invalid value encountered in line_locate_point\n",
      "  return lib.line_locate_point(line, other)\n",
      "c:\\Users\\ad98\\anaconda3\\Lib\\site-packages\\shapely\\linear.py:88: RuntimeWarning: invalid value encountered in line_locate_point\n",
      "  return lib.line_locate_point(line, other)\n",
      "c:\\Users\\ad98\\anaconda3\\Lib\\site-packages\\shapely\\linear.py:88: RuntimeWarning: invalid value encountered in line_locate_point\n",
      "  return lib.line_locate_point(line, other)\n",
      "c:\\Users\\ad98\\anaconda3\\Lib\\site-packages\\shapely\\linear.py:88: RuntimeWarning: invalid value encountered in line_locate_point\n",
      "  return lib.line_locate_point(line, other)\n",
      "c:\\Users\\ad98\\anaconda3\\Lib\\site-packages\\shapely\\linear.py:88: RuntimeWarning: invalid value encountered in line_locate_point\n",
      "  return lib.line_locate_point(line, other)\n",
      "c:\\Users\\ad98\\anaconda3\\Lib\\site-packages\\shapely\\linear.py:88: RuntimeWarning: invalid value encountered in line_locate_point\n",
      "  return lib.line_locate_point(line, other)\n",
      "c:\\Users\\ad98\\anaconda3\\Lib\\site-packages\\shapely\\linear.py:88: RuntimeWarning: invalid value encountered in line_locate_point\n",
      "  return lib.line_locate_point(line, other)\n",
      "c:\\Users\\ad98\\anaconda3\\Lib\\site-packages\\shapely\\linear.py:88: RuntimeWarning: invalid value encountered in line_locate_point\n",
      "  return lib.line_locate_point(line, other)\n",
      "c:\\Users\\ad98\\anaconda3\\Lib\\site-packages\\shapely\\linear.py:88: RuntimeWarning: invalid value encountered in line_locate_point\n",
      "  return lib.line_locate_point(line, other)\n",
      "c:\\Users\\ad98\\anaconda3\\Lib\\site-packages\\shapely\\linear.py:88: RuntimeWarning: invalid value encountered in line_locate_point\n",
      "  return lib.line_locate_point(line, other)\n",
      "c:\\Users\\ad98\\anaconda3\\Lib\\site-packages\\shapely\\linear.py:88: RuntimeWarning: invalid value encountered in line_locate_point\n",
      "  return lib.line_locate_point(line, other)\n",
      "c:\\Users\\ad98\\anaconda3\\Lib\\site-packages\\shapely\\linear.py:88: RuntimeWarning: invalid value encountered in line_locate_point\n",
      "  return lib.line_locate_point(line, other)\n",
      "c:\\Users\\ad98\\anaconda3\\Lib\\site-packages\\shapely\\linear.py:88: RuntimeWarning: invalid value encountered in line_locate_point\n",
      "  return lib.line_locate_point(line, other)\n",
      "c:\\Users\\ad98\\anaconda3\\Lib\\site-packages\\shapely\\linear.py:88: RuntimeWarning: invalid value encountered in line_locate_point\n",
      "  return lib.line_locate_point(line, other)\n",
      "c:\\Users\\ad98\\anaconda3\\Lib\\site-packages\\shapely\\linear.py:88: RuntimeWarning: invalid value encountered in line_locate_point\n",
      "  return lib.line_locate_point(line, other)\n",
      "c:\\Users\\ad98\\anaconda3\\Lib\\site-packages\\shapely\\linear.py:88: RuntimeWarning: invalid value encountered in line_locate_point\n",
      "  return lib.line_locate_point(line, other)\n",
      "c:\\Users\\ad98\\anaconda3\\Lib\\site-packages\\shapely\\linear.py:88: RuntimeWarning: invalid value encountered in line_locate_point\n",
      "  return lib.line_locate_point(line, other)\n",
      "c:\\Users\\ad98\\anaconda3\\Lib\\site-packages\\shapely\\linear.py:88: RuntimeWarning: invalid value encountered in line_locate_point\n",
      "  return lib.line_locate_point(line, other)\n",
      "c:\\Users\\ad98\\anaconda3\\Lib\\site-packages\\shapely\\linear.py:88: RuntimeWarning: invalid value encountered in line_locate_point\n",
      "  return lib.line_locate_point(line, other)\n",
      "c:\\Users\\ad98\\anaconda3\\Lib\\site-packages\\shapely\\linear.py:88: RuntimeWarning: invalid value encountered in line_locate_point\n",
      "  return lib.line_locate_point(line, other)\n",
      "c:\\Users\\ad98\\anaconda3\\Lib\\site-packages\\shapely\\linear.py:88: RuntimeWarning: invalid value encountered in line_locate_point\n",
      "  return lib.line_locate_point(line, other)\n",
      "c:\\Users\\ad98\\anaconda3\\Lib\\site-packages\\shapely\\linear.py:88: RuntimeWarning: invalid value encountered in line_locate_point\n",
      "  return lib.line_locate_point(line, other)\n",
      "c:\\Users\\ad98\\anaconda3\\Lib\\site-packages\\shapely\\linear.py:88: RuntimeWarning: invalid value encountered in line_locate_point\n",
      "  return lib.line_locate_point(line, other)\n",
      "c:\\Users\\ad98\\anaconda3\\Lib\\site-packages\\shapely\\linear.py:88: RuntimeWarning: invalid value encountered in line_locate_point\n",
      "  return lib.line_locate_point(line, other)\n",
      "c:\\Users\\ad98\\anaconda3\\Lib\\site-packages\\shapely\\linear.py:88: RuntimeWarning: invalid value encountered in line_locate_point\n",
      "  return lib.line_locate_point(line, other)\n",
      "c:\\Users\\ad98\\anaconda3\\Lib\\site-packages\\shapely\\linear.py:88: RuntimeWarning: invalid value encountered in line_locate_point\n",
      "  return lib.line_locate_point(line, other)\n",
      "c:\\Users\\ad98\\anaconda3\\Lib\\site-packages\\shapely\\linear.py:88: RuntimeWarning: invalid value encountered in line_locate_point\n",
      "  return lib.line_locate_point(line, other)\n",
      "c:\\Users\\ad98\\anaconda3\\Lib\\site-packages\\shapely\\linear.py:88: RuntimeWarning: invalid value encountered in line_locate_point\n",
      "  return lib.line_locate_point(line, other)\n",
      "c:\\Users\\ad98\\anaconda3\\Lib\\site-packages\\shapely\\linear.py:88: RuntimeWarning: invalid value encountered in line_locate_point\n",
      "  return lib.line_locate_point(line, other)\n",
      "c:\\Users\\ad98\\anaconda3\\Lib\\site-packages\\shapely\\linear.py:88: RuntimeWarning: invalid value encountered in line_locate_point\n",
      "  return lib.line_locate_point(line, other)\n",
      "c:\\Users\\ad98\\anaconda3\\Lib\\site-packages\\shapely\\linear.py:88: RuntimeWarning: invalid value encountered in line_locate_point\n",
      "  return lib.line_locate_point(line, other)\n",
      "c:\\Users\\ad98\\anaconda3\\Lib\\site-packages\\shapely\\linear.py:88: RuntimeWarning: invalid value encountered in line_locate_point\n",
      "  return lib.line_locate_point(line, other)\n",
      "c:\\Users\\ad98\\anaconda3\\Lib\\site-packages\\shapely\\linear.py:88: RuntimeWarning: invalid value encountered in line_locate_point\n",
      "  return lib.line_locate_point(line, other)\n",
      "c:\\Users\\ad98\\anaconda3\\Lib\\site-packages\\shapely\\linear.py:88: RuntimeWarning: invalid value encountered in line_locate_point\n",
      "  return lib.line_locate_point(line, other)\n",
      "c:\\Users\\ad98\\anaconda3\\Lib\\site-packages\\shapely\\linear.py:88: RuntimeWarning: invalid value encountered in line_locate_point\n",
      "  return lib.line_locate_point(line, other)\n",
      "c:\\Users\\ad98\\anaconda3\\Lib\\site-packages\\shapely\\linear.py:88: RuntimeWarning: invalid value encountered in line_locate_point\n",
      "  return lib.line_locate_point(line, other)\n",
      "c:\\Users\\ad98\\anaconda3\\Lib\\site-packages\\shapely\\linear.py:88: RuntimeWarning: invalid value encountered in line_locate_point\n",
      "  return lib.line_locate_point(line, other)\n",
      "c:\\Users\\ad98\\anaconda3\\Lib\\site-packages\\shapely\\linear.py:88: RuntimeWarning: invalid value encountered in line_locate_point\n",
      "  return lib.line_locate_point(line, other)\n",
      "c:\\Users\\ad98\\anaconda3\\Lib\\site-packages\\shapely\\linear.py:88: RuntimeWarning: invalid value encountered in line_locate_point\n",
      "  return lib.line_locate_point(line, other)\n",
      "c:\\Users\\ad98\\anaconda3\\Lib\\site-packages\\shapely\\linear.py:88: RuntimeWarning: invalid value encountered in line_locate_point\n",
      "  return lib.line_locate_point(line, other)\n",
      "c:\\Users\\ad98\\anaconda3\\Lib\\site-packages\\shapely\\linear.py:88: RuntimeWarning: invalid value encountered in line_locate_point\n",
      "  return lib.line_locate_point(line, other)\n",
      "c:\\Users\\ad98\\anaconda3\\Lib\\site-packages\\shapely\\linear.py:88: RuntimeWarning: invalid value encountered in line_locate_point\n",
      "  return lib.line_locate_point(line, other)\n",
      "c:\\Users\\ad98\\anaconda3\\Lib\\site-packages\\shapely\\linear.py:88: RuntimeWarning: invalid value encountered in line_locate_point\n",
      "  return lib.line_locate_point(line, other)\n",
      "c:\\Users\\ad98\\anaconda3\\Lib\\site-packages\\shapely\\linear.py:88: RuntimeWarning: invalid value encountered in line_locate_point\n",
      "  return lib.line_locate_point(line, other)\n",
      "c:\\Users\\ad98\\anaconda3\\Lib\\site-packages\\shapely\\linear.py:88: RuntimeWarning: invalid value encountered in line_locate_point\n",
      "  return lib.line_locate_point(line, other)\n",
      "c:\\Users\\ad98\\anaconda3\\Lib\\site-packages\\shapely\\linear.py:88: RuntimeWarning: invalid value encountered in line_locate_point\n",
      "  return lib.line_locate_point(line, other)\n",
      "c:\\Users\\ad98\\anaconda3\\Lib\\site-packages\\shapely\\linear.py:88: RuntimeWarning: invalid value encountered in line_locate_point\n",
      "  return lib.line_locate_point(line, other)\n",
      "c:\\Users\\ad98\\anaconda3\\Lib\\site-packages\\shapely\\linear.py:88: RuntimeWarning: invalid value encountered in line_locate_point\n",
      "  return lib.line_locate_point(line, other)\n",
      "c:\\Users\\ad98\\anaconda3\\Lib\\site-packages\\shapely\\linear.py:88: RuntimeWarning: invalid value encountered in line_locate_point\n",
      "  return lib.line_locate_point(line, other)\n",
      "c:\\Users\\ad98\\anaconda3\\Lib\\site-packages\\shapely\\linear.py:88: RuntimeWarning: invalid value encountered in line_locate_point\n",
      "  return lib.line_locate_point(line, other)\n",
      "c:\\Users\\ad98\\anaconda3\\Lib\\site-packages\\shapely\\linear.py:88: RuntimeWarning: invalid value encountered in line_locate_point\n",
      "  return lib.line_locate_point(line, other)\n",
      "c:\\Users\\ad98\\anaconda3\\Lib\\site-packages\\shapely\\linear.py:88: RuntimeWarning: invalid value encountered in line_locate_point\n",
      "  return lib.line_locate_point(line, other)\n",
      "c:\\Users\\ad98\\anaconda3\\Lib\\site-packages\\shapely\\linear.py:88: RuntimeWarning: invalid value encountered in line_locate_point\n",
      "  return lib.line_locate_point(line, other)\n",
      "c:\\Users\\ad98\\anaconda3\\Lib\\site-packages\\shapely\\linear.py:88: RuntimeWarning: invalid value encountered in line_locate_point\n",
      "  return lib.line_locate_point(line, other)\n",
      "c:\\Users\\ad98\\anaconda3\\Lib\\site-packages\\shapely\\linear.py:88: RuntimeWarning: invalid value encountered in line_locate_point\n",
      "  return lib.line_locate_point(line, other)\n",
      "c:\\Users\\ad98\\anaconda3\\Lib\\site-packages\\shapely\\linear.py:88: RuntimeWarning: invalid value encountered in line_locate_point\n",
      "  return lib.line_locate_point(line, other)\n",
      "c:\\Users\\ad98\\anaconda3\\Lib\\site-packages\\shapely\\linear.py:88: RuntimeWarning: invalid value encountered in line_locate_point\n",
      "  return lib.line_locate_point(line, other)\n",
      "c:\\Users\\ad98\\anaconda3\\Lib\\site-packages\\shapely\\linear.py:88: RuntimeWarning: invalid value encountered in line_locate_point\n",
      "  return lib.line_locate_point(line, other)\n",
      "c:\\Users\\ad98\\anaconda3\\Lib\\site-packages\\shapely\\linear.py:88: RuntimeWarning: invalid value encountered in line_locate_point\n",
      "  return lib.line_locate_point(line, other)\n",
      "c:\\Users\\ad98\\anaconda3\\Lib\\site-packages\\shapely\\linear.py:88: RuntimeWarning: invalid value encountered in line_locate_point\n",
      "  return lib.line_locate_point(line, other)\n",
      "c:\\Users\\ad98\\anaconda3\\Lib\\site-packages\\shapely\\linear.py:88: RuntimeWarning: invalid value encountered in line_locate_point\n",
      "  return lib.line_locate_point(line, other)\n",
      "c:\\Users\\ad98\\anaconda3\\Lib\\site-packages\\shapely\\linear.py:88: RuntimeWarning: invalid value encountered in line_locate_point\n",
      "  return lib.line_locate_point(line, other)\n",
      "c:\\Users\\ad98\\anaconda3\\Lib\\site-packages\\shapely\\linear.py:88: RuntimeWarning: invalid value encountered in line_locate_point\n",
      "  return lib.line_locate_point(line, other)\n",
      "c:\\Users\\ad98\\anaconda3\\Lib\\site-packages\\shapely\\linear.py:88: RuntimeWarning: invalid value encountered in line_locate_point\n",
      "  return lib.line_locate_point(line, other)\n",
      "c:\\Users\\ad98\\anaconda3\\Lib\\site-packages\\shapely\\linear.py:88: RuntimeWarning: invalid value encountered in line_locate_point\n",
      "  return lib.line_locate_point(line, other)\n",
      "c:\\Users\\ad98\\anaconda3\\Lib\\site-packages\\shapely\\linear.py:88: RuntimeWarning: invalid value encountered in line_locate_point\n",
      "  return lib.line_locate_point(line, other)\n",
      "c:\\Users\\ad98\\anaconda3\\Lib\\site-packages\\shapely\\linear.py:88: RuntimeWarning: invalid value encountered in line_locate_point\n",
      "  return lib.line_locate_point(line, other)\n",
      "c:\\Users\\ad98\\anaconda3\\Lib\\site-packages\\shapely\\linear.py:88: RuntimeWarning: invalid value encountered in line_locate_point\n",
      "  return lib.line_locate_point(line, other)\n",
      "c:\\Users\\ad98\\anaconda3\\Lib\\site-packages\\shapely\\linear.py:88: RuntimeWarning: invalid value encountered in line_locate_point\n",
      "  return lib.line_locate_point(line, other)\n",
      "c:\\Users\\ad98\\anaconda3\\Lib\\site-packages\\shapely\\linear.py:88: RuntimeWarning: invalid value encountered in line_locate_point\n",
      "  return lib.line_locate_point(line, other)\n",
      "c:\\Users\\ad98\\anaconda3\\Lib\\site-packages\\shapely\\linear.py:88: RuntimeWarning: invalid value encountered in line_locate_point\n",
      "  return lib.line_locate_point(line, other)\n",
      "c:\\Users\\ad98\\anaconda3\\Lib\\site-packages\\shapely\\linear.py:88: RuntimeWarning: invalid value encountered in line_locate_point\n",
      "  return lib.line_locate_point(line, other)\n",
      "c:\\Users\\ad98\\anaconda3\\Lib\\site-packages\\shapely\\linear.py:88: RuntimeWarning: invalid value encountered in line_locate_point\n",
      "  return lib.line_locate_point(line, other)\n",
      "c:\\Users\\ad98\\anaconda3\\Lib\\site-packages\\shapely\\linear.py:88: RuntimeWarning: invalid value encountered in line_locate_point\n",
      "  return lib.line_locate_point(line, other)\n",
      "c:\\Users\\ad98\\anaconda3\\Lib\\site-packages\\shapely\\linear.py:88: RuntimeWarning: invalid value encountered in line_locate_point\n",
      "  return lib.line_locate_point(line, other)\n",
      "c:\\Users\\ad98\\anaconda3\\Lib\\site-packages\\shapely\\linear.py:88: RuntimeWarning: invalid value encountered in line_locate_point\n",
      "  return lib.line_locate_point(line, other)\n",
      "c:\\Users\\ad98\\anaconda3\\Lib\\site-packages\\shapely\\linear.py:88: RuntimeWarning: invalid value encountered in line_locate_point\n",
      "  return lib.line_locate_point(line, other)\n",
      "c:\\Users\\ad98\\anaconda3\\Lib\\site-packages\\shapely\\linear.py:88: RuntimeWarning: invalid value encountered in line_locate_point\n",
      "  return lib.line_locate_point(line, other)\n",
      "c:\\Users\\ad98\\anaconda3\\Lib\\site-packages\\shapely\\linear.py:88: RuntimeWarning: invalid value encountered in line_locate_point\n",
      "  return lib.line_locate_point(line, other)\n",
      "c:\\Users\\ad98\\anaconda3\\Lib\\site-packages\\shapely\\linear.py:88: RuntimeWarning: invalid value encountered in line_locate_point\n",
      "  return lib.line_locate_point(line, other)\n",
      "c:\\Users\\ad98\\anaconda3\\Lib\\site-packages\\shapely\\linear.py:88: RuntimeWarning: invalid value encountered in line_locate_point\n",
      "  return lib.line_locate_point(line, other)\n",
      "c:\\Users\\ad98\\anaconda3\\Lib\\site-packages\\shapely\\linear.py:88: RuntimeWarning: invalid value encountered in line_locate_point\n",
      "  return lib.line_locate_point(line, other)\n",
      "c:\\Users\\ad98\\anaconda3\\Lib\\site-packages\\shapely\\linear.py:88: RuntimeWarning: invalid value encountered in line_locate_point\n",
      "  return lib.line_locate_point(line, other)\n",
      "c:\\Users\\ad98\\anaconda3\\Lib\\site-packages\\shapely\\linear.py:88: RuntimeWarning: invalid value encountered in line_locate_point\n",
      "  return lib.line_locate_point(line, other)\n",
      "c:\\Users\\ad98\\anaconda3\\Lib\\site-packages\\shapely\\linear.py:88: RuntimeWarning: invalid value encountered in line_locate_point\n",
      "  return lib.line_locate_point(line, other)\n",
      "c:\\Users\\ad98\\anaconda3\\Lib\\site-packages\\shapely\\linear.py:88: RuntimeWarning: invalid value encountered in line_locate_point\n",
      "  return lib.line_locate_point(line, other)\n",
      "c:\\Users\\ad98\\anaconda3\\Lib\\site-packages\\shapely\\linear.py:88: RuntimeWarning: invalid value encountered in line_locate_point\n",
      "  return lib.line_locate_point(line, other)\n",
      "c:\\Users\\ad98\\anaconda3\\Lib\\site-packages\\shapely\\linear.py:88: RuntimeWarning: invalid value encountered in line_locate_point\n",
      "  return lib.line_locate_point(line, other)\n",
      "c:\\Users\\ad98\\anaconda3\\Lib\\site-packages\\shapely\\linear.py:88: RuntimeWarning: invalid value encountered in line_locate_point\n",
      "  return lib.line_locate_point(line, other)\n",
      "c:\\Users\\ad98\\anaconda3\\Lib\\site-packages\\shapely\\linear.py:88: RuntimeWarning: invalid value encountered in line_locate_point\n",
      "  return lib.line_locate_point(line, other)\n",
      "c:\\Users\\ad98\\anaconda3\\Lib\\site-packages\\shapely\\linear.py:88: RuntimeWarning: invalid value encountered in line_locate_point\n",
      "  return lib.line_locate_point(line, other)\n",
      "c:\\Users\\ad98\\anaconda3\\Lib\\site-packages\\shapely\\linear.py:88: RuntimeWarning: invalid value encountered in line_locate_point\n",
      "  return lib.line_locate_point(line, other)\n",
      "c:\\Users\\ad98\\anaconda3\\Lib\\site-packages\\shapely\\linear.py:88: RuntimeWarning: invalid value encountered in line_locate_point\n",
      "  return lib.line_locate_point(line, other)\n",
      "c:\\Users\\ad98\\anaconda3\\Lib\\site-packages\\shapely\\linear.py:88: RuntimeWarning: invalid value encountered in line_locate_point\n",
      "  return lib.line_locate_point(line, other)\n",
      "c:\\Users\\ad98\\anaconda3\\Lib\\site-packages\\shapely\\linear.py:88: RuntimeWarning: invalid value encountered in line_locate_point\n",
      "  return lib.line_locate_point(line, other)\n",
      "c:\\Users\\ad98\\anaconda3\\Lib\\site-packages\\shapely\\linear.py:88: RuntimeWarning: invalid value encountered in line_locate_point\n",
      "  return lib.line_locate_point(line, other)\n",
      "c:\\Users\\ad98\\anaconda3\\Lib\\site-packages\\shapely\\linear.py:88: RuntimeWarning: invalid value encountered in line_locate_point\n",
      "  return lib.line_locate_point(line, other)\n",
      "c:\\Users\\ad98\\anaconda3\\Lib\\site-packages\\shapely\\linear.py:88: RuntimeWarning: invalid value encountered in line_locate_point\n",
      "  return lib.line_locate_point(line, other)\n",
      "c:\\Users\\ad98\\anaconda3\\Lib\\site-packages\\shapely\\linear.py:88: RuntimeWarning: invalid value encountered in line_locate_point\n",
      "  return lib.line_locate_point(line, other)\n",
      "c:\\Users\\ad98\\anaconda3\\Lib\\site-packages\\shapely\\linear.py:88: RuntimeWarning: invalid value encountered in line_locate_point\n",
      "  return lib.line_locate_point(line, other)\n",
      "c:\\Users\\ad98\\anaconda3\\Lib\\site-packages\\shapely\\linear.py:88: RuntimeWarning: invalid value encountered in line_locate_point\n",
      "  return lib.line_locate_point(line, other)\n",
      "c:\\Users\\ad98\\anaconda3\\Lib\\site-packages\\shapely\\linear.py:88: RuntimeWarning: invalid value encountered in line_locate_point\n",
      "  return lib.line_locate_point(line, other)\n",
      "c:\\Users\\ad98\\anaconda3\\Lib\\site-packages\\shapely\\linear.py:88: RuntimeWarning: invalid value encountered in line_locate_point\n",
      "  return lib.line_locate_point(line, other)\n",
      "c:\\Users\\ad98\\anaconda3\\Lib\\site-packages\\shapely\\linear.py:88: RuntimeWarning: invalid value encountered in line_locate_point\n",
      "  return lib.line_locate_point(line, other)\n",
      "c:\\Users\\ad98\\anaconda3\\Lib\\site-packages\\shapely\\linear.py:88: RuntimeWarning: invalid value encountered in line_locate_point\n",
      "  return lib.line_locate_point(line, other)\n",
      "c:\\Users\\ad98\\anaconda3\\Lib\\site-packages\\shapely\\linear.py:88: RuntimeWarning: invalid value encountered in line_locate_point\n",
      "  return lib.line_locate_point(line, other)\n",
      "c:\\Users\\ad98\\anaconda3\\Lib\\site-packages\\shapely\\linear.py:88: RuntimeWarning: invalid value encountered in line_locate_point\n",
      "  return lib.line_locate_point(line, other)\n",
      "c:\\Users\\ad98\\anaconda3\\Lib\\site-packages\\shapely\\linear.py:88: RuntimeWarning: invalid value encountered in line_locate_point\n",
      "  return lib.line_locate_point(line, other)\n",
      "c:\\Users\\ad98\\anaconda3\\Lib\\site-packages\\shapely\\linear.py:88: RuntimeWarning: invalid value encountered in line_locate_point\n",
      "  return lib.line_locate_point(line, other)\n",
      "c:\\Users\\ad98\\anaconda3\\Lib\\site-packages\\shapely\\linear.py:88: RuntimeWarning: invalid value encountered in line_locate_point\n",
      "  return lib.line_locate_point(line, other)\n",
      "c:\\Users\\ad98\\anaconda3\\Lib\\site-packages\\shapely\\linear.py:88: RuntimeWarning: invalid value encountered in line_locate_point\n",
      "  return lib.line_locate_point(line, other)\n",
      "c:\\Users\\ad98\\anaconda3\\Lib\\site-packages\\shapely\\linear.py:88: RuntimeWarning: invalid value encountered in line_locate_point\n",
      "  return lib.line_locate_point(line, other)\n",
      "c:\\Users\\ad98\\anaconda3\\Lib\\site-packages\\shapely\\linear.py:88: RuntimeWarning: invalid value encountered in line_locate_point\n",
      "  return lib.line_locate_point(line, other)\n",
      "c:\\Users\\ad98\\anaconda3\\Lib\\site-packages\\shapely\\linear.py:88: RuntimeWarning: invalid value encountered in line_locate_point\n",
      "  return lib.line_locate_point(line, other)\n",
      "c:\\Users\\ad98\\anaconda3\\Lib\\site-packages\\shapely\\linear.py:88: RuntimeWarning: invalid value encountered in line_locate_point\n",
      "  return lib.line_locate_point(line, other)\n",
      "c:\\Users\\ad98\\anaconda3\\Lib\\site-packages\\shapely\\linear.py:88: RuntimeWarning: invalid value encountered in line_locate_point\n",
      "  return lib.line_locate_point(line, other)\n",
      "c:\\Users\\ad98\\anaconda3\\Lib\\site-packages\\shapely\\linear.py:88: RuntimeWarning: invalid value encountered in line_locate_point\n",
      "  return lib.line_locate_point(line, other)\n",
      "c:\\Users\\ad98\\anaconda3\\Lib\\site-packages\\shapely\\linear.py:88: RuntimeWarning: invalid value encountered in line_locate_point\n",
      "  return lib.line_locate_point(line, other)\n",
      "c:\\Users\\ad98\\anaconda3\\Lib\\site-packages\\shapely\\linear.py:88: RuntimeWarning: invalid value encountered in line_locate_point\n",
      "  return lib.line_locate_point(line, other)\n",
      "c:\\Users\\ad98\\anaconda3\\Lib\\site-packages\\shapely\\linear.py:88: RuntimeWarning: invalid value encountered in line_locate_point\n",
      "  return lib.line_locate_point(line, other)\n",
      "c:\\Users\\ad98\\anaconda3\\Lib\\site-packages\\shapely\\linear.py:88: RuntimeWarning: invalid value encountered in line_locate_point\n",
      "  return lib.line_locate_point(line, other)\n",
      "c:\\Users\\ad98\\anaconda3\\Lib\\site-packages\\shapely\\linear.py:88: RuntimeWarning: invalid value encountered in line_locate_point\n",
      "  return lib.line_locate_point(line, other)\n",
      "c:\\Users\\ad98\\anaconda3\\Lib\\site-packages\\shapely\\linear.py:88: RuntimeWarning: invalid value encountered in line_locate_point\n",
      "  return lib.line_locate_point(line, other)\n",
      "c:\\Users\\ad98\\anaconda3\\Lib\\site-packages\\shapely\\linear.py:88: RuntimeWarning: invalid value encountered in line_locate_point\n",
      "  return lib.line_locate_point(line, other)\n",
      "c:\\Users\\ad98\\anaconda3\\Lib\\site-packages\\shapely\\linear.py:88: RuntimeWarning: invalid value encountered in line_locate_point\n",
      "  return lib.line_locate_point(line, other)\n",
      "c:\\Users\\ad98\\anaconda3\\Lib\\site-packages\\shapely\\linear.py:88: RuntimeWarning: invalid value encountered in line_locate_point\n",
      "  return lib.line_locate_point(line, other)\n",
      "c:\\Users\\ad98\\anaconda3\\Lib\\site-packages\\shapely\\linear.py:88: RuntimeWarning: invalid value encountered in line_locate_point\n",
      "  return lib.line_locate_point(line, other)\n",
      "c:\\Users\\ad98\\anaconda3\\Lib\\site-packages\\shapely\\linear.py:88: RuntimeWarning: invalid value encountered in line_locate_point\n",
      "  return lib.line_locate_point(line, other)\n",
      "c:\\Users\\ad98\\anaconda3\\Lib\\site-packages\\shapely\\linear.py:88: RuntimeWarning: invalid value encountered in line_locate_point\n",
      "  return lib.line_locate_point(line, other)\n",
      "c:\\Users\\ad98\\anaconda3\\Lib\\site-packages\\shapely\\linear.py:88: RuntimeWarning: invalid value encountered in line_locate_point\n",
      "  return lib.line_locate_point(line, other)\n",
      "c:\\Users\\ad98\\anaconda3\\Lib\\site-packages\\shapely\\linear.py:88: RuntimeWarning: invalid value encountered in line_locate_point\n",
      "  return lib.line_locate_point(line, other)\n",
      "c:\\Users\\ad98\\anaconda3\\Lib\\site-packages\\shapely\\linear.py:88: RuntimeWarning: invalid value encountered in line_locate_point\n",
      "  return lib.line_locate_point(line, other)\n",
      "c:\\Users\\ad98\\anaconda3\\Lib\\site-packages\\shapely\\linear.py:88: RuntimeWarning: invalid value encountered in line_locate_point\n",
      "  return lib.line_locate_point(line, other)\n",
      "c:\\Users\\ad98\\anaconda3\\Lib\\site-packages\\shapely\\linear.py:88: RuntimeWarning: invalid value encountered in line_locate_point\n",
      "  return lib.line_locate_point(line, other)\n",
      "c:\\Users\\ad98\\anaconda3\\Lib\\site-packages\\shapely\\linear.py:88: RuntimeWarning: invalid value encountered in line_locate_point\n",
      "  return lib.line_locate_point(line, other)\n",
      "c:\\Users\\ad98\\anaconda3\\Lib\\site-packages\\shapely\\linear.py:88: RuntimeWarning: invalid value encountered in line_locate_point\n",
      "  return lib.line_locate_point(line, other)\n",
      "c:\\Users\\ad98\\anaconda3\\Lib\\site-packages\\shapely\\linear.py:88: RuntimeWarning: invalid value encountered in line_locate_point\n",
      "  return lib.line_locate_point(line, other)\n",
      "c:\\Users\\ad98\\anaconda3\\Lib\\site-packages\\shapely\\linear.py:88: RuntimeWarning: invalid value encountered in line_locate_point\n",
      "  return lib.line_locate_point(line, other)\n",
      "c:\\Users\\ad98\\anaconda3\\Lib\\site-packages\\shapely\\linear.py:88: RuntimeWarning: invalid value encountered in line_locate_point\n",
      "  return lib.line_locate_point(line, other)\n",
      "c:\\Users\\ad98\\anaconda3\\Lib\\site-packages\\shapely\\linear.py:88: RuntimeWarning: invalid value encountered in line_locate_point\n",
      "  return lib.line_locate_point(line, other)\n",
      "c:\\Users\\ad98\\anaconda3\\Lib\\site-packages\\shapely\\linear.py:88: RuntimeWarning: invalid value encountered in line_locate_point\n",
      "  return lib.line_locate_point(line, other)\n",
      "c:\\Users\\ad98\\anaconda3\\Lib\\site-packages\\shapely\\linear.py:88: RuntimeWarning: invalid value encountered in line_locate_point\n",
      "  return lib.line_locate_point(line, other)\n",
      "c:\\Users\\ad98\\anaconda3\\Lib\\site-packages\\shapely\\linear.py:88: RuntimeWarning: invalid value encountered in line_locate_point\n",
      "  return lib.line_locate_point(line, other)\n",
      "c:\\Users\\ad98\\anaconda3\\Lib\\site-packages\\shapely\\linear.py:88: RuntimeWarning: invalid value encountered in line_locate_point\n",
      "  return lib.line_locate_point(line, other)\n",
      "c:\\Users\\ad98\\anaconda3\\Lib\\site-packages\\shapely\\linear.py:88: RuntimeWarning: invalid value encountered in line_locate_point\n",
      "  return lib.line_locate_point(line, other)\n",
      "c:\\Users\\ad98\\anaconda3\\Lib\\site-packages\\shapely\\linear.py:88: RuntimeWarning: invalid value encountered in line_locate_point\n",
      "  return lib.line_locate_point(line, other)\n",
      "c:\\Users\\ad98\\anaconda3\\Lib\\site-packages\\shapely\\linear.py:88: RuntimeWarning: invalid value encountered in line_locate_point\n",
      "  return lib.line_locate_point(line, other)\n",
      "c:\\Users\\ad98\\anaconda3\\Lib\\site-packages\\shapely\\linear.py:88: RuntimeWarning: invalid value encountered in line_locate_point\n",
      "  return lib.line_locate_point(line, other)\n",
      "c:\\Users\\ad98\\anaconda3\\Lib\\site-packages\\shapely\\linear.py:88: RuntimeWarning: invalid value encountered in line_locate_point\n",
      "  return lib.line_locate_point(line, other)\n",
      "c:\\Users\\ad98\\anaconda3\\Lib\\site-packages\\shapely\\linear.py:88: RuntimeWarning: invalid value encountered in line_locate_point\n",
      "  return lib.line_locate_point(line, other)\n",
      "c:\\Users\\ad98\\anaconda3\\Lib\\site-packages\\shapely\\linear.py:88: RuntimeWarning: invalid value encountered in line_locate_point\n",
      "  return lib.line_locate_point(line, other)\n",
      "c:\\Users\\ad98\\anaconda3\\Lib\\site-packages\\shapely\\linear.py:88: RuntimeWarning: invalid value encountered in line_locate_point\n",
      "  return lib.line_locate_point(line, other)\n",
      "c:\\Users\\ad98\\anaconda3\\Lib\\site-packages\\shapely\\linear.py:88: RuntimeWarning: invalid value encountered in line_locate_point\n",
      "  return lib.line_locate_point(line, other)\n",
      "c:\\Users\\ad98\\anaconda3\\Lib\\site-packages\\shapely\\linear.py:88: RuntimeWarning: invalid value encountered in line_locate_point\n",
      "  return lib.line_locate_point(line, other)\n",
      "c:\\Users\\ad98\\anaconda3\\Lib\\site-packages\\shapely\\linear.py:88: RuntimeWarning: invalid value encountered in line_locate_point\n",
      "  return lib.line_locate_point(line, other)\n",
      "c:\\Users\\ad98\\anaconda3\\Lib\\site-packages\\shapely\\linear.py:88: RuntimeWarning: invalid value encountered in line_locate_point\n",
      "  return lib.line_locate_point(line, other)\n",
      "c:\\Users\\ad98\\anaconda3\\Lib\\site-packages\\shapely\\linear.py:88: RuntimeWarning: invalid value encountered in line_locate_point\n",
      "  return lib.line_locate_point(line, other)\n",
      "c:\\Users\\ad98\\anaconda3\\Lib\\site-packages\\shapely\\linear.py:88: RuntimeWarning: invalid value encountered in line_locate_point\n",
      "  return lib.line_locate_point(line, other)\n",
      "c:\\Users\\ad98\\anaconda3\\Lib\\site-packages\\shapely\\linear.py:88: RuntimeWarning: invalid value encountered in line_locate_point\n",
      "  return lib.line_locate_point(line, other)\n",
      "c:\\Users\\ad98\\anaconda3\\Lib\\site-packages\\shapely\\linear.py:88: RuntimeWarning: invalid value encountered in line_locate_point\n",
      "  return lib.line_locate_point(line, other)\n",
      "c:\\Users\\ad98\\anaconda3\\Lib\\site-packages\\shapely\\linear.py:88: RuntimeWarning: invalid value encountered in line_locate_point\n",
      "  return lib.line_locate_point(line, other)\n",
      "c:\\Users\\ad98\\anaconda3\\Lib\\site-packages\\shapely\\linear.py:88: RuntimeWarning: invalid value encountered in line_locate_point\n",
      "  return lib.line_locate_point(line, other)\n",
      "c:\\Users\\ad98\\anaconda3\\Lib\\site-packages\\shapely\\linear.py:88: RuntimeWarning: invalid value encountered in line_locate_point\n",
      "  return lib.line_locate_point(line, other)\n",
      "c:\\Users\\ad98\\anaconda3\\Lib\\site-packages\\shapely\\linear.py:88: RuntimeWarning: invalid value encountered in line_locate_point\n",
      "  return lib.line_locate_point(line, other)\n",
      "c:\\Users\\ad98\\anaconda3\\Lib\\site-packages\\shapely\\linear.py:88: RuntimeWarning: invalid value encountered in line_locate_point\n",
      "  return lib.line_locate_point(line, other)\n",
      "c:\\Users\\ad98\\anaconda3\\Lib\\site-packages\\shapely\\linear.py:88: RuntimeWarning: invalid value encountered in line_locate_point\n",
      "  return lib.line_locate_point(line, other)\n",
      "c:\\Users\\ad98\\anaconda3\\Lib\\site-packages\\shapely\\linear.py:88: RuntimeWarning: invalid value encountered in line_locate_point\n",
      "  return lib.line_locate_point(line, other)\n",
      "c:\\Users\\ad98\\anaconda3\\Lib\\site-packages\\shapely\\linear.py:88: RuntimeWarning: invalid value encountered in line_locate_point\n",
      "  return lib.line_locate_point(line, other)\n",
      "c:\\Users\\ad98\\anaconda3\\Lib\\site-packages\\shapely\\linear.py:88: RuntimeWarning: invalid value encountered in line_locate_point\n",
      "  return lib.line_locate_point(line, other)\n",
      "c:\\Users\\ad98\\anaconda3\\Lib\\site-packages\\shapely\\linear.py:88: RuntimeWarning: invalid value encountered in line_locate_point\n",
      "  return lib.line_locate_point(line, other)\n",
      "c:\\Users\\ad98\\anaconda3\\Lib\\site-packages\\shapely\\linear.py:88: RuntimeWarning: invalid value encountered in line_locate_point\n",
      "  return lib.line_locate_point(line, other)\n",
      "c:\\Users\\ad98\\anaconda3\\Lib\\site-packages\\shapely\\linear.py:88: RuntimeWarning: invalid value encountered in line_locate_point\n",
      "  return lib.line_locate_point(line, other)\n",
      "c:\\Users\\ad98\\anaconda3\\Lib\\site-packages\\shapely\\linear.py:88: RuntimeWarning: invalid value encountered in line_locate_point\n",
      "  return lib.line_locate_point(line, other)\n",
      "c:\\Users\\ad98\\anaconda3\\Lib\\site-packages\\shapely\\linear.py:88: RuntimeWarning: invalid value encountered in line_locate_point\n",
      "  return lib.line_locate_point(line, other)\n",
      "c:\\Users\\ad98\\anaconda3\\Lib\\site-packages\\shapely\\linear.py:88: RuntimeWarning: invalid value encountered in line_locate_point\n",
      "  return lib.line_locate_point(line, other)\n",
      "c:\\Users\\ad98\\anaconda3\\Lib\\site-packages\\shapely\\linear.py:88: RuntimeWarning: invalid value encountered in line_locate_point\n",
      "  return lib.line_locate_point(line, other)\n",
      "c:\\Users\\ad98\\anaconda3\\Lib\\site-packages\\shapely\\linear.py:88: RuntimeWarning: invalid value encountered in line_locate_point\n",
      "  return lib.line_locate_point(line, other)\n",
      "c:\\Users\\ad98\\anaconda3\\Lib\\site-packages\\shapely\\linear.py:88: RuntimeWarning: invalid value encountered in line_locate_point\n",
      "  return lib.line_locate_point(line, other)\n",
      "c:\\Users\\ad98\\anaconda3\\Lib\\site-packages\\shapely\\linear.py:88: RuntimeWarning: invalid value encountered in line_locate_point\n",
      "  return lib.line_locate_point(line, other)\n",
      "c:\\Users\\ad98\\anaconda3\\Lib\\site-packages\\shapely\\linear.py:88: RuntimeWarning: invalid value encountered in line_locate_point\n",
      "  return lib.line_locate_point(line, other)\n",
      "c:\\Users\\ad98\\anaconda3\\Lib\\site-packages\\shapely\\linear.py:88: RuntimeWarning: invalid value encountered in line_locate_point\n",
      "  return lib.line_locate_point(line, other)\n",
      "c:\\Users\\ad98\\anaconda3\\Lib\\site-packages\\shapely\\linear.py:88: RuntimeWarning: invalid value encountered in line_locate_point\n",
      "  return lib.line_locate_point(line, other)\n",
      "c:\\Users\\ad98\\anaconda3\\Lib\\site-packages\\shapely\\linear.py:88: RuntimeWarning: invalid value encountered in line_locate_point\n",
      "  return lib.line_locate_point(line, other)\n",
      "c:\\Users\\ad98\\anaconda3\\Lib\\site-packages\\shapely\\linear.py:88: RuntimeWarning: invalid value encountered in line_locate_point\n",
      "  return lib.line_locate_point(line, other)\n",
      "c:\\Users\\ad98\\anaconda3\\Lib\\site-packages\\shapely\\linear.py:88: RuntimeWarning: invalid value encountered in line_locate_point\n",
      "  return lib.line_locate_point(line, other)\n",
      "c:\\Users\\ad98\\anaconda3\\Lib\\site-packages\\shapely\\linear.py:88: RuntimeWarning: invalid value encountered in line_locate_point\n",
      "  return lib.line_locate_point(line, other)\n",
      "c:\\Users\\ad98\\anaconda3\\Lib\\site-packages\\shapely\\linear.py:88: RuntimeWarning: invalid value encountered in line_locate_point\n",
      "  return lib.line_locate_point(line, other)\n",
      "c:\\Users\\ad98\\anaconda3\\Lib\\site-packages\\shapely\\linear.py:88: RuntimeWarning: invalid value encountered in line_locate_point\n",
      "  return lib.line_locate_point(line, other)\n",
      "c:\\Users\\ad98\\anaconda3\\Lib\\site-packages\\shapely\\linear.py:88: RuntimeWarning: invalid value encountered in line_locate_point\n",
      "  return lib.line_locate_point(line, other)\n",
      "c:\\Users\\ad98\\anaconda3\\Lib\\site-packages\\shapely\\linear.py:88: RuntimeWarning: invalid value encountered in line_locate_point\n",
      "  return lib.line_locate_point(line, other)\n",
      "c:\\Users\\ad98\\anaconda3\\Lib\\site-packages\\shapely\\linear.py:88: RuntimeWarning: invalid value encountered in line_locate_point\n",
      "  return lib.line_locate_point(line, other)\n",
      "c:\\Users\\ad98\\anaconda3\\Lib\\site-packages\\shapely\\linear.py:88: RuntimeWarning: invalid value encountered in line_locate_point\n",
      "  return lib.line_locate_point(line, other)\n",
      "c:\\Users\\ad98\\anaconda3\\Lib\\site-packages\\shapely\\linear.py:88: RuntimeWarning: invalid value encountered in line_locate_point\n",
      "  return lib.line_locate_point(line, other)\n",
      "c:\\Users\\ad98\\anaconda3\\Lib\\site-packages\\shapely\\linear.py:88: RuntimeWarning: invalid value encountered in line_locate_point\n",
      "  return lib.line_locate_point(line, other)\n",
      "c:\\Users\\ad98\\anaconda3\\Lib\\site-packages\\shapely\\linear.py:88: RuntimeWarning: invalid value encountered in line_locate_point\n",
      "  return lib.line_locate_point(line, other)\n",
      "c:\\Users\\ad98\\anaconda3\\Lib\\site-packages\\shapely\\linear.py:88: RuntimeWarning: invalid value encountered in line_locate_point\n",
      "  return lib.line_locate_point(line, other)\n",
      "c:\\Users\\ad98\\anaconda3\\Lib\\site-packages\\shapely\\linear.py:88: RuntimeWarning: invalid value encountered in line_locate_point\n",
      "  return lib.line_locate_point(line, other)\n",
      "c:\\Users\\ad98\\anaconda3\\Lib\\site-packages\\shapely\\linear.py:88: RuntimeWarning: invalid value encountered in line_locate_point\n",
      "  return lib.line_locate_point(line, other)\n",
      "c:\\Users\\ad98\\anaconda3\\Lib\\site-packages\\shapely\\linear.py:88: RuntimeWarning: invalid value encountered in line_locate_point\n",
      "  return lib.line_locate_point(line, other)\n",
      "c:\\Users\\ad98\\anaconda3\\Lib\\site-packages\\shapely\\linear.py:88: RuntimeWarning: invalid value encountered in line_locate_point\n",
      "  return lib.line_locate_point(line, other)\n",
      "c:\\Users\\ad98\\anaconda3\\Lib\\site-packages\\shapely\\linear.py:88: RuntimeWarning: invalid value encountered in line_locate_point\n",
      "  return lib.line_locate_point(line, other)\n",
      "c:\\Users\\ad98\\anaconda3\\Lib\\site-packages\\shapely\\linear.py:88: RuntimeWarning: invalid value encountered in line_locate_point\n",
      "  return lib.line_locate_point(line, other)\n",
      "c:\\Users\\ad98\\anaconda3\\Lib\\site-packages\\shapely\\linear.py:88: RuntimeWarning: invalid value encountered in line_locate_point\n",
      "  return lib.line_locate_point(line, other)\n",
      "c:\\Users\\ad98\\anaconda3\\Lib\\site-packages\\shapely\\linear.py:88: RuntimeWarning: invalid value encountered in line_locate_point\n",
      "  return lib.line_locate_point(line, other)\n",
      "c:\\Users\\ad98\\anaconda3\\Lib\\site-packages\\shapely\\linear.py:88: RuntimeWarning: invalid value encountered in line_locate_point\n",
      "  return lib.line_locate_point(line, other)\n",
      "c:\\Users\\ad98\\anaconda3\\Lib\\site-packages\\shapely\\linear.py:88: RuntimeWarning: invalid value encountered in line_locate_point\n",
      "  return lib.line_locate_point(line, other)\n",
      "c:\\Users\\ad98\\anaconda3\\Lib\\site-packages\\shapely\\linear.py:88: RuntimeWarning: invalid value encountered in line_locate_point\n",
      "  return lib.line_locate_point(line, other)\n",
      "c:\\Users\\ad98\\anaconda3\\Lib\\site-packages\\shapely\\linear.py:88: RuntimeWarning: invalid value encountered in line_locate_point\n",
      "  return lib.line_locate_point(line, other)\n",
      "c:\\Users\\ad98\\anaconda3\\Lib\\site-packages\\shapely\\linear.py:88: RuntimeWarning: invalid value encountered in line_locate_point\n",
      "  return lib.line_locate_point(line, other)\n",
      "c:\\Users\\ad98\\anaconda3\\Lib\\site-packages\\shapely\\linear.py:88: RuntimeWarning: invalid value encountered in line_locate_point\n",
      "  return lib.line_locate_point(line, other)\n",
      "c:\\Users\\ad98\\anaconda3\\Lib\\site-packages\\shapely\\linear.py:88: RuntimeWarning: invalid value encountered in line_locate_point\n",
      "  return lib.line_locate_point(line, other)\n",
      "c:\\Users\\ad98\\anaconda3\\Lib\\site-packages\\shapely\\linear.py:88: RuntimeWarning: invalid value encountered in line_locate_point\n",
      "  return lib.line_locate_point(line, other)\n",
      "c:\\Users\\ad98\\anaconda3\\Lib\\site-packages\\shapely\\linear.py:88: RuntimeWarning: invalid value encountered in line_locate_point\n",
      "  return lib.line_locate_point(line, other)\n",
      "c:\\Users\\ad98\\anaconda3\\Lib\\site-packages\\shapely\\linear.py:88: RuntimeWarning: invalid value encountered in line_locate_point\n",
      "  return lib.line_locate_point(line, other)\n",
      "c:\\Users\\ad98\\anaconda3\\Lib\\site-packages\\shapely\\linear.py:88: RuntimeWarning: invalid value encountered in line_locate_point\n",
      "  return lib.line_locate_point(line, other)\n",
      "c:\\Users\\ad98\\anaconda3\\Lib\\site-packages\\shapely\\linear.py:88: RuntimeWarning: invalid value encountered in line_locate_point\n",
      "  return lib.line_locate_point(line, other)\n",
      "c:\\Users\\ad98\\anaconda3\\Lib\\site-packages\\shapely\\linear.py:88: RuntimeWarning: invalid value encountered in line_locate_point\n",
      "  return lib.line_locate_point(line, other)\n",
      "c:\\Users\\ad98\\anaconda3\\Lib\\site-packages\\shapely\\linear.py:88: RuntimeWarning: invalid value encountered in line_locate_point\n",
      "  return lib.line_locate_point(line, other)\n",
      "c:\\Users\\ad98\\anaconda3\\Lib\\site-packages\\shapely\\linear.py:88: RuntimeWarning: invalid value encountered in line_locate_point\n",
      "  return lib.line_locate_point(line, other)\n",
      "c:\\Users\\ad98\\anaconda3\\Lib\\site-packages\\shapely\\linear.py:88: RuntimeWarning: invalid value encountered in line_locate_point\n",
      "  return lib.line_locate_point(line, other)\n",
      "c:\\Users\\ad98\\anaconda3\\Lib\\site-packages\\shapely\\linear.py:88: RuntimeWarning: invalid value encountered in line_locate_point\n",
      "  return lib.line_locate_point(line, other)\n",
      "c:\\Users\\ad98\\anaconda3\\Lib\\site-packages\\shapely\\linear.py:88: RuntimeWarning: invalid value encountered in line_locate_point\n",
      "  return lib.line_locate_point(line, other)\n",
      "c:\\Users\\ad98\\anaconda3\\Lib\\site-packages\\shapely\\linear.py:88: RuntimeWarning: invalid value encountered in line_locate_point\n",
      "  return lib.line_locate_point(line, other)\n",
      "c:\\Users\\ad98\\anaconda3\\Lib\\site-packages\\shapely\\linear.py:88: RuntimeWarning: invalid value encountered in line_locate_point\n",
      "  return lib.line_locate_point(line, other)\n",
      "c:\\Users\\ad98\\anaconda3\\Lib\\site-packages\\shapely\\linear.py:88: RuntimeWarning: invalid value encountered in line_locate_point\n",
      "  return lib.line_locate_point(line, other)\n",
      "c:\\Users\\ad98\\anaconda3\\Lib\\site-packages\\shapely\\linear.py:88: RuntimeWarning: invalid value encountered in line_locate_point\n",
      "  return lib.line_locate_point(line, other)\n",
      "c:\\Users\\ad98\\anaconda3\\Lib\\site-packages\\shapely\\linear.py:88: RuntimeWarning: invalid value encountered in line_locate_point\n",
      "  return lib.line_locate_point(line, other)\n",
      "c:\\Users\\ad98\\anaconda3\\Lib\\site-packages\\shapely\\linear.py:88: RuntimeWarning: invalid value encountered in line_locate_point\n",
      "  return lib.line_locate_point(line, other)\n",
      "c:\\Users\\ad98\\anaconda3\\Lib\\site-packages\\shapely\\linear.py:88: RuntimeWarning: invalid value encountered in line_locate_point\n",
      "  return lib.line_locate_point(line, other)\n",
      "c:\\Users\\ad98\\anaconda3\\Lib\\site-packages\\shapely\\linear.py:88: RuntimeWarning: invalid value encountered in line_locate_point\n",
      "  return lib.line_locate_point(line, other)\n",
      "c:\\Users\\ad98\\anaconda3\\Lib\\site-packages\\shapely\\linear.py:88: RuntimeWarning: invalid value encountered in line_locate_point\n",
      "  return lib.line_locate_point(line, other)\n",
      "c:\\Users\\ad98\\anaconda3\\Lib\\site-packages\\shapely\\linear.py:88: RuntimeWarning: invalid value encountered in line_locate_point\n",
      "  return lib.line_locate_point(line, other)\n",
      "c:\\Users\\ad98\\anaconda3\\Lib\\site-packages\\shapely\\linear.py:88: RuntimeWarning: invalid value encountered in line_locate_point\n",
      "  return lib.line_locate_point(line, other)\n",
      "c:\\Users\\ad98\\anaconda3\\Lib\\site-packages\\shapely\\linear.py:88: RuntimeWarning: invalid value encountered in line_locate_point\n",
      "  return lib.line_locate_point(line, other)\n",
      "c:\\Users\\ad98\\anaconda3\\Lib\\site-packages\\shapely\\linear.py:88: RuntimeWarning: invalid value encountered in line_locate_point\n",
      "  return lib.line_locate_point(line, other)\n",
      "c:\\Users\\ad98\\anaconda3\\Lib\\site-packages\\shapely\\linear.py:88: RuntimeWarning: invalid value encountered in line_locate_point\n",
      "  return lib.line_locate_point(line, other)\n",
      "c:\\Users\\ad98\\anaconda3\\Lib\\site-packages\\shapely\\linear.py:88: RuntimeWarning: invalid value encountered in line_locate_point\n",
      "  return lib.line_locate_point(line, other)\n",
      "c:\\Users\\ad98\\anaconda3\\Lib\\site-packages\\shapely\\linear.py:88: RuntimeWarning: invalid value encountered in line_locate_point\n",
      "  return lib.line_locate_point(line, other)\n",
      "c:\\Users\\ad98\\anaconda3\\Lib\\site-packages\\shapely\\linear.py:88: RuntimeWarning: invalid value encountered in line_locate_point\n",
      "  return lib.line_locate_point(line, other)\n",
      "c:\\Users\\ad98\\anaconda3\\Lib\\site-packages\\shapely\\linear.py:88: RuntimeWarning: invalid value encountered in line_locate_point\n",
      "  return lib.line_locate_point(line, other)\n",
      "c:\\Users\\ad98\\anaconda3\\Lib\\site-packages\\shapely\\linear.py:88: RuntimeWarning: invalid value encountered in line_locate_point\n",
      "  return lib.line_locate_point(line, other)\n",
      "c:\\Users\\ad98\\anaconda3\\Lib\\site-packages\\shapely\\linear.py:88: RuntimeWarning: invalid value encountered in line_locate_point\n",
      "  return lib.line_locate_point(line, other)\n",
      "c:\\Users\\ad98\\anaconda3\\Lib\\site-packages\\shapely\\linear.py:88: RuntimeWarning: invalid value encountered in line_locate_point\n",
      "  return lib.line_locate_point(line, other)\n",
      "c:\\Users\\ad98\\anaconda3\\Lib\\site-packages\\shapely\\linear.py:88: RuntimeWarning: invalid value encountered in line_locate_point\n",
      "  return lib.line_locate_point(line, other)\n",
      "c:\\Users\\ad98\\anaconda3\\Lib\\site-packages\\shapely\\linear.py:88: RuntimeWarning: invalid value encountered in line_locate_point\n",
      "  return lib.line_locate_point(line, other)\n",
      "c:\\Users\\ad98\\anaconda3\\Lib\\site-packages\\shapely\\linear.py:88: RuntimeWarning: invalid value encountered in line_locate_point\n",
      "  return lib.line_locate_point(line, other)\n",
      "c:\\Users\\ad98\\anaconda3\\Lib\\site-packages\\shapely\\linear.py:88: RuntimeWarning: invalid value encountered in line_locate_point\n",
      "  return lib.line_locate_point(line, other)\n",
      "c:\\Users\\ad98\\anaconda3\\Lib\\site-packages\\shapely\\linear.py:88: RuntimeWarning: invalid value encountered in line_locate_point\n",
      "  return lib.line_locate_point(line, other)\n",
      "c:\\Users\\ad98\\anaconda3\\Lib\\site-packages\\shapely\\linear.py:88: RuntimeWarning: invalid value encountered in line_locate_point\n",
      "  return lib.line_locate_point(line, other)\n",
      "c:\\Users\\ad98\\anaconda3\\Lib\\site-packages\\shapely\\linear.py:88: RuntimeWarning: invalid value encountered in line_locate_point\n",
      "  return lib.line_locate_point(line, other)\n",
      "c:\\Users\\ad98\\anaconda3\\Lib\\site-packages\\shapely\\linear.py:88: RuntimeWarning: invalid value encountered in line_locate_point\n",
      "  return lib.line_locate_point(line, other)\n",
      "c:\\Users\\ad98\\anaconda3\\Lib\\site-packages\\shapely\\linear.py:88: RuntimeWarning: invalid value encountered in line_locate_point\n",
      "  return lib.line_locate_point(line, other)\n",
      "c:\\Users\\ad98\\anaconda3\\Lib\\site-packages\\shapely\\linear.py:88: RuntimeWarning: invalid value encountered in line_locate_point\n",
      "  return lib.line_locate_point(line, other)\n",
      "c:\\Users\\ad98\\anaconda3\\Lib\\site-packages\\shapely\\linear.py:88: RuntimeWarning: invalid value encountered in line_locate_point\n",
      "  return lib.line_locate_point(line, other)\n",
      "c:\\Users\\ad98\\anaconda3\\Lib\\site-packages\\shapely\\linear.py:88: RuntimeWarning: invalid value encountered in line_locate_point\n",
      "  return lib.line_locate_point(line, other)\n",
      "c:\\Users\\ad98\\anaconda3\\Lib\\site-packages\\shapely\\linear.py:88: RuntimeWarning: invalid value encountered in line_locate_point\n",
      "  return lib.line_locate_point(line, other)\n",
      "c:\\Users\\ad98\\anaconda3\\Lib\\site-packages\\shapely\\linear.py:88: RuntimeWarning: invalid value encountered in line_locate_point\n",
      "  return lib.line_locate_point(line, other)\n",
      "c:\\Users\\ad98\\anaconda3\\Lib\\site-packages\\shapely\\linear.py:88: RuntimeWarning: invalid value encountered in line_locate_point\n",
      "  return lib.line_locate_point(line, other)\n",
      "c:\\Users\\ad98\\anaconda3\\Lib\\site-packages\\shapely\\linear.py:88: RuntimeWarning: invalid value encountered in line_locate_point\n",
      "  return lib.line_locate_point(line, other)\n",
      "c:\\Users\\ad98\\anaconda3\\Lib\\site-packages\\shapely\\linear.py:88: RuntimeWarning: invalid value encountered in line_locate_point\n",
      "  return lib.line_locate_point(line, other)\n",
      "c:\\Users\\ad98\\anaconda3\\Lib\\site-packages\\shapely\\linear.py:88: RuntimeWarning: invalid value encountered in line_locate_point\n",
      "  return lib.line_locate_point(line, other)\n",
      "c:\\Users\\ad98\\anaconda3\\Lib\\site-packages\\shapely\\linear.py:88: RuntimeWarning: invalid value encountered in line_locate_point\n",
      "  return lib.line_locate_point(line, other)\n"
     ]
    }
   ],
   "source": [
    "def Getclosest_coast_point(row):\n",
    "    # Extract latitude and longitude from the row\n",
    "    lat, lon = row[\"Latitude\"], row[\"Longitude\"]\n",
    "    point = Point(lon, lat)\n",
    "    \n",
    "    # Reproject the point to a projected CRS\n",
    "    point_proj = gpd.GeoSeries([point], crs='EPSG:4326').to_crs(epsg=3035).iloc[0]\n",
    "    \n",
    "    # Find the closest point on the coastline\n",
    "    closest_coastline_point_proj = coastline_geo.exterior.interpolate(\n",
    "        coastline_geo.exterior.project(point_proj)\n",
    "    ).iloc[0]\n",
    "    # Reproject closest point back to EPSG:4326\n",
    "    closest_coastline_point_geo = gpd.GeoSeries([closest_coastline_point_proj], crs='EPSG:3035').to_crs(epsg=4326).iloc[0]\n",
    "    \n",
    "    # Add calculated values to the row\n",
    "    row[\"Sea distance\"] = closest_coastline_point_proj.distance(point_proj)\n",
    "    row[\"Sea latitude\"] = closest_coastline_point_geo.y  # Latitude\n",
    "    row[\"Sea longitude\"] = closest_coastline_point_geo.x  # Longitude\n",
    "    return row\n",
    "\n",
    "region_df = region_df.apply(Getclosest_coast_point, axis=1)"
   ]
  },
  {
   "cell_type": "code",
   "execution_count": 110,
   "metadata": {},
   "outputs": [
    {
     "data": {
      "text/html": [
       "<div>\n",
       "<style scoped>\n",
       "    .dataframe tbody tr th:only-of-type {\n",
       "        vertical-align: middle;\n",
       "    }\n",
       "\n",
       "    .dataframe tbody tr th {\n",
       "        vertical-align: top;\n",
       "    }\n",
       "\n",
       "    .dataframe thead th {\n",
       "        text-align: right;\n",
       "    }\n",
       "</style>\n",
       "<table border=\"1\" class=\"dataframe\">\n",
       "  <thead>\n",
       "    <tr style=\"text-align: right;\">\n",
       "      <th></th>\n",
       "      <th>Code</th>\n",
       "      <th>Name</th>\n",
       "      <th>Country code</th>\n",
       "      <th>Country name</th>\n",
       "      <th>Latitude</th>\n",
       "      <th>Longitude</th>\n",
       "      <th>Sea distance</th>\n",
       "      <th>Sea latitude</th>\n",
       "      <th>Sea longitude</th>\n",
       "    </tr>\n",
       "  </thead>\n",
       "  <tbody>\n",
       "    <tr>\n",
       "      <th>0</th>\n",
       "      <td>AD000</td>\n",
       "      <td>Andorra</td>\n",
       "      <td>AD</td>\n",
       "      <td>Andorra</td>\n",
       "      <td>42.506285</td>\n",
       "      <td>1.521801</td>\n",
       "      <td>120770.942754</td>\n",
       "      <td>42.473083</td>\n",
       "      <td>2.986084</td>\n",
       "    </tr>\n",
       "    <tr>\n",
       "      <th>1</th>\n",
       "      <td>AL011</td>\n",
       "      <td>Dibër</td>\n",
       "      <td>AL</td>\n",
       "      <td>Albania</td>\n",
       "      <td>41.588816</td>\n",
       "      <td>20.235565</td>\n",
       "      <td>59744.477832</td>\n",
       "      <td>41.720093</td>\n",
       "      <td>19.540100</td>\n",
       "    </tr>\n",
       "    <tr>\n",
       "      <th>2</th>\n",
       "      <td>AL012</td>\n",
       "      <td>Durrës</td>\n",
       "      <td>AL</td>\n",
       "      <td>Albania</td>\n",
       "      <td>41.324590</td>\n",
       "      <td>19.456469</td>\n",
       "      <td>5300.276600</td>\n",
       "      <td>41.329600</td>\n",
       "      <td>19.393639</td>\n",
       "    </tr>\n",
       "    <tr>\n",
       "      <th>3</th>\n",
       "      <td>AL013</td>\n",
       "      <td>Kukës</td>\n",
       "      <td>AL</td>\n",
       "      <td>Albania</td>\n",
       "      <td>42.075584</td>\n",
       "      <td>20.425946</td>\n",
       "      <td>83896.952278</td>\n",
       "      <td>41.720093</td>\n",
       "      <td>19.540100</td>\n",
       "    </tr>\n",
       "    <tr>\n",
       "      <th>4</th>\n",
       "      <td>AL014</td>\n",
       "      <td>Lezhë</td>\n",
       "      <td>AL</td>\n",
       "      <td>Albania</td>\n",
       "      <td>41.786073</td>\n",
       "      <td>19.646076</td>\n",
       "      <td>11519.642694</td>\n",
       "      <td>41.721554</td>\n",
       "      <td>19.538546</td>\n",
       "    </tr>\n",
       "    <tr>\n",
       "      <th>...</th>\n",
       "      <td>...</td>\n",
       "      <td>...</td>\n",
       "      <td>...</td>\n",
       "      <td>...</td>\n",
       "      <td>...</td>\n",
       "      <td>...</td>\n",
       "      <td>...</td>\n",
       "      <td>...</td>\n",
       "      <td>...</td>\n",
       "    </tr>\n",
       "    <tr>\n",
       "      <th>1438</th>\n",
       "      <td>XK006</td>\n",
       "      <td>Gjilan/Gnjilane</td>\n",
       "      <td>XK</td>\n",
       "      <td>Kosovo</td>\n",
       "      <td>42.388746</td>\n",
       "      <td>21.427589</td>\n",
       "      <td>173918.837445</td>\n",
       "      <td>41.720093</td>\n",
       "      <td>19.540100</td>\n",
       "    </tr>\n",
       "    <tr>\n",
       "      <th>1439</th>\n",
       "      <td>XK002</td>\n",
       "      <td>Mitrovicë/Mitrovica</td>\n",
       "      <td>XK</td>\n",
       "      <td>Kosovo</td>\n",
       "      <td>42.994799</td>\n",
       "      <td>20.807608</td>\n",
       "      <td>172101.299510</td>\n",
       "      <td>41.877686</td>\n",
       "      <td>19.371887</td>\n",
       "    </tr>\n",
       "    <tr>\n",
       "      <th>1440</th>\n",
       "      <td>XK003</td>\n",
       "      <td>Pejë/Peć</td>\n",
       "      <td>XK</td>\n",
       "      <td>Kosovo</td>\n",
       "      <td>42.720918</td>\n",
       "      <td>20.473876</td>\n",
       "      <td>131094.251710</td>\n",
       "      <td>41.877686</td>\n",
       "      <td>19.371887</td>\n",
       "    </tr>\n",
       "    <tr>\n",
       "      <th>1441</th>\n",
       "      <td>XK001</td>\n",
       "      <td>Prishtinë/Priština</td>\n",
       "      <td>XK</td>\n",
       "      <td>Kosovo</td>\n",
       "      <td>42.669461</td>\n",
       "      <td>21.141423</td>\n",
       "      <td>170035.123026</td>\n",
       "      <td>41.729881</td>\n",
       "      <td>19.529686</td>\n",
       "    </tr>\n",
       "    <tr>\n",
       "      <th>1442</th>\n",
       "      <td>XK004</td>\n",
       "      <td>Prizren/Prizren</td>\n",
       "      <td>XK</td>\n",
       "      <td>Kosovo</td>\n",
       "      <td>42.217144</td>\n",
       "      <td>20.743650</td>\n",
       "      <td>114640.380974</td>\n",
       "      <td>41.720093</td>\n",
       "      <td>19.540100</td>\n",
       "    </tr>\n",
       "  </tbody>\n",
       "</table>\n",
       "<p>1443 rows × 9 columns</p>\n",
       "</div>"
      ],
      "text/plain": [
       "       Code                 Name Country code Country name   Latitude  \\\n",
       "0     AD000              Andorra           AD      Andorra  42.506285   \n",
       "1     AL011                Dibër           AL      Albania  41.588816   \n",
       "2     AL012               Durrës           AL      Albania  41.324590   \n",
       "3     AL013                Kukës           AL      Albania  42.075584   \n",
       "4     AL014                Lezhë           AL      Albania  41.786073   \n",
       "...     ...                  ...          ...          ...        ...   \n",
       "1438  XK006      Gjilan/Gnjilane           XK       Kosovo  42.388746   \n",
       "1439  XK002  Mitrovicë/Mitrovica           XK       Kosovo  42.994799   \n",
       "1440  XK003             Pejë/Peć           XK       Kosovo  42.720918   \n",
       "1441  XK001   Prishtinë/Priština           XK       Kosovo  42.669461   \n",
       "1442  XK004      Prizren/Prizren           XK       Kosovo  42.217144   \n",
       "\n",
       "      Longitude   Sea distance  Sea latitude  Sea longitude  \n",
       "0      1.521801  120770.942754     42.473083       2.986084  \n",
       "1     20.235565   59744.477832     41.720093      19.540100  \n",
       "2     19.456469    5300.276600     41.329600      19.393639  \n",
       "3     20.425946   83896.952278     41.720093      19.540100  \n",
       "4     19.646076   11519.642694     41.721554      19.538546  \n",
       "...         ...            ...           ...            ...  \n",
       "1438  21.427589  173918.837445     41.720093      19.540100  \n",
       "1439  20.807608  172101.299510     41.877686      19.371887  \n",
       "1440  20.473876  131094.251710     41.877686      19.371887  \n",
       "1441  21.141423  170035.123026     41.729881      19.529686  \n",
       "1442  20.743650  114640.380974     41.720093      19.540100  \n",
       "\n",
       "[1443 rows x 9 columns]"
      ]
     },
     "execution_count": 110,
     "metadata": {},
     "output_type": "execute_result"
    }
   ],
   "source": [
    "region_df"
   ]
  },
  {
   "cell_type": "code",
   "execution_count": 114,
   "metadata": {},
   "outputs": [
    {
     "data": {
      "application/vnd.plotly.v1+json": {
       "config": {
        "plotlyServerURL": "https://plot.ly"
       },
       "data": [
        {
         "customdata": [
          [
           "AD000"
          ],
          [
           "AL011"
          ],
          [
           "AL012"
          ],
          [
           "AL013"
          ],
          [
           "AL014"
          ],
          [
           "AL015"
          ],
          [
           "AL021"
          ],
          [
           "AL022"
          ],
          [
           "AL031"
          ],
          [
           "AL032"
          ],
          [
           "AL033"
          ],
          [
           "AL034"
          ],
          [
           "AL035"
          ],
          [
           "AT111"
          ],
          [
           "AT112"
          ],
          [
           "AT113"
          ],
          [
           "AT121"
          ],
          [
           "AT122"
          ],
          [
           "AT123"
          ],
          [
           "AT124"
          ],
          [
           "AT125"
          ],
          [
           "AT126"
          ],
          [
           "AT127"
          ],
          [
           "AT130"
          ],
          [
           "AT211"
          ],
          [
           "AT212"
          ],
          [
           "AT213"
          ],
          [
           "AT221"
          ],
          [
           "AT222"
          ],
          [
           "AT223"
          ],
          [
           "AT224"
          ],
          [
           "AT225"
          ],
          [
           "AT226"
          ],
          [
           "AT311"
          ],
          [
           "AT312"
          ],
          [
           "AT313"
          ],
          [
           "AT314"
          ],
          [
           "AT315"
          ],
          [
           "AT321"
          ],
          [
           "AT322"
          ],
          [
           "AT323"
          ],
          [
           "AT331"
          ],
          [
           "AT332"
          ],
          [
           "AT333"
          ],
          [
           "AT334"
          ],
          [
           "AT335"
          ],
          [
           "AT341"
          ],
          [
           "AT342"
          ],
          [
           "BA011"
          ],
          [
           "BA012"
          ],
          [
           "BA013"
          ],
          [
           "BA014"
          ],
          [
           "BA015"
          ],
          [
           "BA016"
          ],
          [
           "BA017"
          ],
          [
           "BA018"
          ],
          [
           "BA019"
          ],
          [
           "BA01A"
          ],
          [
           "BA021"
          ],
          [
           "BA022"
          ],
          [
           "BA023"
          ],
          [
           "BA024"
          ],
          [
           "BA025"
          ],
          [
           "BA026"
          ],
          [
           "BA030"
          ],
          [
           "BE100"
          ],
          [
           "BE211"
          ],
          [
           "BE212"
          ],
          [
           "BE213"
          ],
          [
           "BE223"
          ],
          [
           "BE224"
          ],
          [
           "BE225"
          ],
          [
           "BE231"
          ],
          [
           "BE232"
          ],
          [
           "BE233"
          ],
          [
           "BE234"
          ],
          [
           "BE235"
          ],
          [
           "BE236"
          ],
          [
           "BE241"
          ],
          [
           "BE242"
          ],
          [
           "BE251"
          ],
          [
           "BE252"
          ],
          [
           "BE253"
          ],
          [
           "BE254"
          ],
          [
           "BE255"
          ],
          [
           "BE256"
          ],
          [
           "BE257"
          ],
          [
           "BE258"
          ],
          [
           "BE310"
          ],
          [
           "BE323"
          ],
          [
           "BE328"
          ],
          [
           "BE329"
          ],
          [
           "BE32A"
          ],
          [
           "BE32B"
          ],
          [
           "BE32C"
          ],
          [
           "BE32D"
          ],
          [
           "BE331"
          ],
          [
           "BE332"
          ],
          [
           "BE334"
          ],
          [
           "BE335"
          ],
          [
           "BE336"
          ],
          [
           "BE341"
          ],
          [
           "BE342"
          ],
          [
           "BE343"
          ],
          [
           "BE344"
          ],
          [
           "BE345"
          ],
          [
           "BE351"
          ],
          [
           "BE352"
          ],
          [
           "BE353"
          ],
          [
           "BG311"
          ],
          [
           "BG312"
          ],
          [
           "BG313"
          ],
          [
           "BG314"
          ],
          [
           "BG315"
          ],
          [
           "BG321"
          ],
          [
           "BG322"
          ],
          [
           "BG323"
          ],
          [
           "BG324"
          ],
          [
           "BG325"
          ],
          [
           "BG331"
          ],
          [
           "BG332"
          ],
          [
           "BG333"
          ],
          [
           "BG334"
          ],
          [
           "BG341"
          ],
          [
           "BG342"
          ],
          [
           "BG343"
          ],
          [
           "BG344"
          ],
          [
           "BG411"
          ],
          [
           "BG412"
          ],
          [
           "BG413"
          ],
          [
           "BG414"
          ],
          [
           "BG415"
          ],
          [
           "BG421"
          ],
          [
           "BG422"
          ],
          [
           "BG423"
          ],
          [
           "BG424"
          ],
          [
           "BG425"
          ],
          [
           "CH011"
          ],
          [
           "CH012"
          ],
          [
           "CH013"
          ],
          [
           "CH021"
          ],
          [
           "CH022"
          ],
          [
           "CH023"
          ],
          [
           "CH024"
          ],
          [
           "CH025"
          ],
          [
           "CH031"
          ],
          [
           "CH032"
          ],
          [
           "CH033"
          ],
          [
           "CH040"
          ],
          [
           "CH051"
          ],
          [
           "CH052"
          ],
          [
           "CH053"
          ],
          [
           "CH054"
          ],
          [
           "CH055"
          ],
          [
           "CH056"
          ],
          [
           "CH057"
          ],
          [
           "CH061"
          ],
          [
           "CH062"
          ],
          [
           "CH063"
          ],
          [
           "CH064"
          ],
          [
           "CH065"
          ],
          [
           "CH066"
          ],
          [
           "CH070"
          ],
          [
           "CY000"
          ],
          [
           "CZ010"
          ],
          [
           "CZ020"
          ],
          [
           "CZ031"
          ],
          [
           "CZ032"
          ],
          [
           "CZ041"
          ],
          [
           "CZ042"
          ],
          [
           "CZ051"
          ],
          [
           "CZ052"
          ],
          [
           "CZ053"
          ],
          [
           "CZ063"
          ],
          [
           "CZ064"
          ],
          [
           "CZ071"
          ],
          [
           "CZ072"
          ],
          [
           "CZ080"
          ],
          [
           "DE111"
          ],
          [
           "DE112"
          ],
          [
           "DE113"
          ],
          [
           "DE114"
          ],
          [
           "DE115"
          ],
          [
           "DE116"
          ],
          [
           "DE117"
          ],
          [
           "DE118"
          ],
          [
           "DE119"
          ],
          [
           "DE11A"
          ],
          [
           "DE11B"
          ],
          [
           "DE11C"
          ],
          [
           "DE11D"
          ],
          [
           "DE121"
          ],
          [
           "DE122"
          ],
          [
           "DE123"
          ],
          [
           "DE124"
          ],
          [
           "DE125"
          ],
          [
           "DE126"
          ],
          [
           "DE127"
          ],
          [
           "DE128"
          ],
          [
           "DE129"
          ],
          [
           "DE12A"
          ],
          [
           "DE12B"
          ],
          [
           "DE12C"
          ],
          [
           "DE131"
          ],
          [
           "DE132"
          ],
          [
           "DE133"
          ],
          [
           "DE134"
          ],
          [
           "DE135"
          ],
          [
           "DE136"
          ],
          [
           "DE137"
          ],
          [
           "DE138"
          ],
          [
           "DE139"
          ],
          [
           "DE13A"
          ],
          [
           "DE141"
          ],
          [
           "DE142"
          ],
          [
           "DE143"
          ],
          [
           "DE144"
          ],
          [
           "DE145"
          ],
          [
           "DE146"
          ],
          [
           "DE147"
          ],
          [
           "DE148"
          ],
          [
           "DE149"
          ],
          [
           "DE211"
          ],
          [
           "DE212"
          ],
          [
           "DE213"
          ],
          [
           "DE214"
          ],
          [
           "DE215"
          ],
          [
           "DE216"
          ],
          [
           "DE217"
          ],
          [
           "DE218"
          ],
          [
           "DE219"
          ],
          [
           "DE21A"
          ],
          [
           "DE21B"
          ],
          [
           "DE21C"
          ],
          [
           "DE21D"
          ],
          [
           "DE21E"
          ],
          [
           "DE21F"
          ],
          [
           "DE21G"
          ],
          [
           "DE21H"
          ],
          [
           "DE21I"
          ],
          [
           "DE21J"
          ],
          [
           "DE21K"
          ],
          [
           "DE21L"
          ],
          [
           "DE21M"
          ],
          [
           "DE21N"
          ],
          [
           "DE221"
          ],
          [
           "DE222"
          ],
          [
           "DE223"
          ],
          [
           "DE224"
          ],
          [
           "DE225"
          ],
          [
           "DE226"
          ],
          [
           "DE227"
          ],
          [
           "DE228"
          ],
          [
           "DE229"
          ],
          [
           "DE22A"
          ],
          [
           "DE22B"
          ],
          [
           "DE22C"
          ],
          [
           "DE231"
          ],
          [
           "DE232"
          ],
          [
           "DE233"
          ],
          [
           "DE234"
          ],
          [
           "DE235"
          ],
          [
           "DE236"
          ],
          [
           "DE237"
          ],
          [
           "DE238"
          ],
          [
           "DE239"
          ],
          [
           "DE23A"
          ],
          [
           "DE241"
          ],
          [
           "DE242"
          ],
          [
           "DE243"
          ],
          [
           "DE244"
          ],
          [
           "DE245"
          ],
          [
           "DE246"
          ],
          [
           "DE247"
          ],
          [
           "DE248"
          ],
          [
           "DE249"
          ],
          [
           "DE24A"
          ],
          [
           "DE24B"
          ],
          [
           "DE24C"
          ],
          [
           "DE24D"
          ],
          [
           "DE251"
          ],
          [
           "DE252"
          ],
          [
           "DE253"
          ],
          [
           "DE254"
          ],
          [
           "DE255"
          ],
          [
           "DE256"
          ],
          [
           "DE257"
          ],
          [
           "DE258"
          ],
          [
           "DE259"
          ],
          [
           "DE25A"
          ],
          [
           "DE25B"
          ],
          [
           "DE25C"
          ],
          [
           "DE261"
          ],
          [
           "DE262"
          ],
          [
           "DE263"
          ],
          [
           "DE264"
          ],
          [
           "DE265"
          ],
          [
           "DE266"
          ],
          [
           "DE267"
          ],
          [
           "DE268"
          ],
          [
           "DE269"
          ],
          [
           "DE26A"
          ],
          [
           "DE26B"
          ],
          [
           "DE26C"
          ],
          [
           "DE271"
          ],
          [
           "DE272"
          ],
          [
           "DE273"
          ],
          [
           "DE274"
          ],
          [
           "DE275"
          ],
          [
           "DE276"
          ],
          [
           "DE277"
          ],
          [
           "DE278"
          ],
          [
           "DE279"
          ],
          [
           "DE27A"
          ],
          [
           "DE27B"
          ],
          [
           "DE27C"
          ],
          [
           "DE27D"
          ],
          [
           "DE27E"
          ],
          [
           "DE300"
          ],
          [
           "DE401"
          ],
          [
           "DE402"
          ],
          [
           "DE403"
          ],
          [
           "DE404"
          ],
          [
           "DE405"
          ],
          [
           "DE406"
          ],
          [
           "DE407"
          ],
          [
           "DE408"
          ],
          [
           "DE409"
          ],
          [
           "DE40A"
          ],
          [
           "DE40B"
          ],
          [
           "DE40C"
          ],
          [
           "DE40D"
          ],
          [
           "DE40E"
          ],
          [
           "DE40F"
          ],
          [
           "DE40G"
          ],
          [
           "DE40H"
          ],
          [
           "DE40I"
          ],
          [
           "DE501"
          ],
          [
           "DE502"
          ],
          [
           "DE600"
          ],
          [
           "DE711"
          ],
          [
           "DE712"
          ],
          [
           "DE713"
          ],
          [
           "DE714"
          ],
          [
           "DE715"
          ],
          [
           "DE716"
          ],
          [
           "DE717"
          ],
          [
           "DE718"
          ],
          [
           "DE719"
          ],
          [
           "DE71A"
          ],
          [
           "DE71B"
          ],
          [
           "DE71C"
          ],
          [
           "DE71D"
          ],
          [
           "DE71E"
          ],
          [
           "DE721"
          ],
          [
           "DE722"
          ],
          [
           "DE723"
          ],
          [
           "DE724"
          ],
          [
           "DE725"
          ],
          [
           "DE731"
          ],
          [
           "DE732"
          ],
          [
           "DE733"
          ],
          [
           "DE734"
          ],
          [
           "DE735"
          ],
          [
           "DE736"
          ],
          [
           "DE737"
          ],
          [
           "DE803"
          ],
          [
           "DE804"
          ],
          [
           "DE80J"
          ],
          [
           "DE80K"
          ],
          [
           "DE80L"
          ],
          [
           "DE80M"
          ],
          [
           "DE80N"
          ],
          [
           "DE80O"
          ],
          [
           "DE911"
          ],
          [
           "DE912"
          ],
          [
           "DE913"
          ],
          [
           "DE914"
          ],
          [
           "DE916"
          ],
          [
           "DE917"
          ],
          [
           "DE918"
          ],
          [
           "DE91A"
          ],
          [
           "DE91B"
          ],
          [
           "DE91C"
          ],
          [
           "DE922"
          ],
          [
           "DE923"
          ],
          [
           "DE925"
          ],
          [
           "DE926"
          ],
          [
           "DE927"
          ],
          [
           "DE928"
          ],
          [
           "DE929"
          ],
          [
           "DE931"
          ],
          [
           "DE932"
          ],
          [
           "DE933"
          ],
          [
           "DE934"
          ],
          [
           "DE935"
          ],
          [
           "DE936"
          ],
          [
           "DE937"
          ],
          [
           "DE938"
          ],
          [
           "DE939"
          ],
          [
           "DE93A"
          ],
          [
           "DE93B"
          ],
          [
           "DE941"
          ],
          [
           "DE942"
          ],
          [
           "DE943"
          ],
          [
           "DE944"
          ],
          [
           "DE945"
          ],
          [
           "DE946"
          ],
          [
           "DE947"
          ],
          [
           "DE948"
          ],
          [
           "DE949"
          ],
          [
           "DE94A"
          ],
          [
           "DE94B"
          ],
          [
           "DE94C"
          ],
          [
           "DE94D"
          ],
          [
           "DE94E"
          ],
          [
           "DE94F"
          ],
          [
           "DE94G"
          ],
          [
           "DE94H"
          ],
          [
           "DEA11"
          ],
          [
           "DEA12"
          ],
          [
           "DEA13"
          ],
          [
           "DEA14"
          ],
          [
           "DEA15"
          ],
          [
           "DEA16"
          ],
          [
           "DEA17"
          ],
          [
           "DEA18"
          ],
          [
           "DEA19"
          ],
          [
           "DEA1A"
          ],
          [
           "DEA1B"
          ],
          [
           "DEA1C"
          ],
          [
           "DEA1D"
          ],
          [
           "DEA1E"
          ],
          [
           "DEA1F"
          ],
          [
           "DEA22"
          ],
          [
           "DEA23"
          ],
          [
           "DEA24"
          ],
          [
           "DEA26"
          ],
          [
           "DEA27"
          ],
          [
           "DEA28"
          ],
          [
           "DEA29"
          ],
          [
           "DEA2A"
          ],
          [
           "DEA2B"
          ],
          [
           "DEA2C"
          ],
          [
           "DEA2D"
          ],
          [
           "DEA31"
          ],
          [
           "DEA32"
          ],
          [
           "DEA33"
          ],
          [
           "DEA34"
          ],
          [
           "DEA35"
          ],
          [
           "DEA36"
          ],
          [
           "DEA37"
          ],
          [
           "DEA38"
          ],
          [
           "DEA41"
          ],
          [
           "DEA42"
          ],
          [
           "DEA43"
          ],
          [
           "DEA44"
          ],
          [
           "DEA45"
          ],
          [
           "DEA46"
          ],
          [
           "DEA47"
          ],
          [
           "DEA51"
          ],
          [
           "DEA52"
          ],
          [
           "DEA53"
          ],
          [
           "DEA54"
          ],
          [
           "DEA55"
          ],
          [
           "DEA56"
          ],
          [
           "DEA57"
          ],
          [
           "DEA58"
          ],
          [
           "DEA59"
          ],
          [
           "DEA5A"
          ],
          [
           "DEA5B"
          ],
          [
           "DEA5C"
          ],
          [
           "DEB11"
          ],
          [
           "DEB12"
          ],
          [
           "DEB13"
          ],
          [
           "DEB14"
          ],
          [
           "DEB15"
          ],
          [
           "DEB17"
          ],
          [
           "DEB18"
          ],
          [
           "DEB1A"
          ],
          [
           "DEB1B"
          ],
          [
           "DEB1C"
          ],
          [
           "DEB1D"
          ],
          [
           "DEB21"
          ],
          [
           "DEB22"
          ],
          [
           "DEB23"
          ],
          [
           "DEB24"
          ],
          [
           "DEB25"
          ],
          [
           "DEB31"
          ],
          [
           "DEB32"
          ],
          [
           "DEB33"
          ],
          [
           "DEB34"
          ],
          [
           "DEB35"
          ],
          [
           "DEB36"
          ],
          [
           "DEB37"
          ],
          [
           "DEB38"
          ],
          [
           "DEB39"
          ],
          [
           "DEB3A"
          ],
          [
           "DEB3B"
          ],
          [
           "DEB3C"
          ],
          [
           "DEB3D"
          ],
          [
           "DEB3E"
          ],
          [
           "DEB3F"
          ],
          [
           "DEB3G"
          ],
          [
           "DEB3H"
          ],
          [
           "DEB3I"
          ],
          [
           "DEB3J"
          ],
          [
           "DEB3K"
          ],
          [
           "Dec-01"
          ],
          [
           "Dec-02"
          ],
          [
           "Dec-03"
          ],
          [
           "Dec-04"
          ],
          [
           "Dec-05"
          ],
          [
           "Dec-06"
          ],
          [
           "DED21"
          ],
          [
           "DED2C"
          ],
          [
           "DED2D"
          ],
          [
           "DED2E"
          ],
          [
           "DED2F"
          ],
          [
           "DED41"
          ],
          [
           "DED42"
          ],
          [
           "DED43"
          ],
          [
           "DED44"
          ],
          [
           "DED45"
          ],
          [
           "DED51"
          ],
          [
           "DED52"
          ],
          [
           "DED53"
          ],
          [
           "DEE01"
          ],
          [
           "DEE02"
          ],
          [
           "DEE03"
          ],
          [
           "DEE04"
          ],
          [
           "DEE05"
          ],
          [
           "DEE06"
          ],
          [
           "DEE07"
          ],
          [
           "DEE08"
          ],
          [
           "DEE09"
          ],
          [
           "DEE0A"
          ],
          [
           "DEE0B"
          ],
          [
           "DEE0C"
          ],
          [
           "DEE0D"
          ],
          [
           "DEE0E"
          ],
          [
           "DEF01"
          ],
          [
           "DEF02"
          ],
          [
           "DEF03"
          ],
          [
           "DEF04"
          ],
          [
           "DEF05"
          ],
          [
           "DEF06"
          ],
          [
           "DEF07"
          ],
          [
           "DEF08"
          ],
          [
           "DEF09"
          ],
          [
           "DEF0A"
          ],
          [
           "DEF0B"
          ],
          [
           "DEF0C"
          ],
          [
           "DEF0D"
          ],
          [
           "DEF0E"
          ],
          [
           "DEF0F"
          ],
          [
           "DEG01"
          ],
          [
           "DEG02"
          ],
          [
           "DEG03"
          ],
          [
           "DEG04"
          ],
          [
           "DEG05"
          ],
          [
           "DEG06"
          ],
          [
           "DEG07"
          ],
          [
           "DEG09"
          ],
          [
           "DEG0A"
          ],
          [
           "DEG0B"
          ],
          [
           "DEG0C"
          ],
          [
           "DEG0D"
          ],
          [
           "DEG0E"
          ],
          [
           "DEG0F"
          ],
          [
           "DEG0G"
          ],
          [
           "DEG0H"
          ],
          [
           "DEG0I"
          ],
          [
           "DEG0J"
          ],
          [
           "DEG0K"
          ],
          [
           "DEG0L"
          ],
          [
           "DEG0M"
          ],
          [
           "DEG0N"
          ],
          [
           "DEG0P"
          ],
          [
           "DK011"
          ],
          [
           "DK012"
          ],
          [
           "DK013"
          ],
          [
           "DK014"
          ],
          [
           "DK021"
          ],
          [
           "DK022"
          ],
          [
           "DK031"
          ],
          [
           "DK032"
          ],
          [
           "DK041"
          ],
          [
           "DK042"
          ],
          [
           "DK050"
          ],
          [
           "EE001"
          ],
          [
           "EE004"
          ],
          [
           "EE008"
          ],
          [
           "EE009"
          ],
          [
           "EE00A"
          ],
          [
           "EL301"
          ],
          [
           "EL302"
          ],
          [
           "EL303"
          ],
          [
           "EL304"
          ],
          [
           "EL305"
          ],
          [
           "EL306"
          ],
          [
           "EL307"
          ],
          [
           "EL411"
          ],
          [
           "EL412"
          ],
          [
           "EL413"
          ],
          [
           "EL421"
          ],
          [
           "EL422"
          ],
          [
           "EL431"
          ],
          [
           "EL432"
          ],
          [
           "EL433"
          ],
          [
           "EL434"
          ],
          [
           "EL511"
          ],
          [
           "EL512"
          ],
          [
           "EL513"
          ],
          [
           "EL514"
          ],
          [
           "EL515"
          ],
          [
           "EL521"
          ],
          [
           "EL522"
          ],
          [
           "EL523"
          ],
          [
           "EL524"
          ],
          [
           "EL525"
          ],
          [
           "EL526"
          ],
          [
           "EL527"
          ],
          [
           "EL531"
          ],
          [
           "EL532"
          ],
          [
           "EL533"
          ],
          [
           "EL541"
          ],
          [
           "EL542"
          ],
          [
           "EL543"
          ],
          [
           "EL611"
          ],
          [
           "EL612"
          ],
          [
           "EL613"
          ],
          [
           "EL621"
          ],
          [
           "EL622"
          ],
          [
           "EL623"
          ],
          [
           "EL624"
          ],
          [
           "EL631"
          ],
          [
           "EL632"
          ],
          [
           "EL633"
          ],
          [
           "EL641"
          ],
          [
           "EL642"
          ],
          [
           "EL643"
          ],
          [
           "EL644"
          ],
          [
           "EL645"
          ],
          [
           "EL651"
          ],
          [
           "EL652"
          ],
          [
           "EL653"
          ],
          [
           "ES111"
          ],
          [
           "ES112"
          ],
          [
           "ES113"
          ],
          [
           "ES114"
          ],
          [
           "ES120"
          ],
          [
           "ES130"
          ],
          [
           "ES211"
          ],
          [
           "ES212"
          ],
          [
           "ES213"
          ],
          [
           "ES220"
          ],
          [
           "ES230"
          ],
          [
           "ES241"
          ],
          [
           "ES242"
          ],
          [
           "ES243"
          ],
          [
           "ES300"
          ],
          [
           "ES411"
          ],
          [
           "ES412"
          ],
          [
           "ES413"
          ],
          [
           "ES414"
          ],
          [
           "ES415"
          ],
          [
           "ES416"
          ],
          [
           "ES417"
          ],
          [
           "ES418"
          ],
          [
           "ES419"
          ],
          [
           "ES421"
          ],
          [
           "ES422"
          ],
          [
           "ES423"
          ],
          [
           "ES424"
          ],
          [
           "ES425"
          ],
          [
           "ES431"
          ],
          [
           "ES432"
          ],
          [
           "ES511"
          ],
          [
           "ES512"
          ],
          [
           "ES513"
          ],
          [
           "ES514"
          ],
          [
           "ES521"
          ],
          [
           "ES522"
          ],
          [
           "ES523"
          ],
          [
           "ES531"
          ],
          [
           "ES532"
          ],
          [
           "ES533"
          ],
          [
           "ES611"
          ],
          [
           "ES612"
          ],
          [
           "ES613"
          ],
          [
           "ES614"
          ],
          [
           "ES615"
          ],
          [
           "ES616"
          ],
          [
           "ES617"
          ],
          [
           "ES618"
          ],
          [
           "ES620"
          ],
          [
           "FI193"
          ],
          [
           "FI194"
          ],
          [
           "FI195"
          ],
          [
           "FI196"
          ],
          [
           "FI197"
          ],
          [
           "FI1B1"
          ],
          [
           "FI1C1"
          ],
          [
           "FI1C2"
          ],
          [
           "FI1C3"
          ],
          [
           "FI1C4"
          ],
          [
           "FI1C5"
          ],
          [
           "FI1D1"
          ],
          [
           "FI1D2"
          ],
          [
           "FI1D3"
          ],
          [
           "FI1D5"
          ],
          [
           "FI1D7"
          ],
          [
           "FI1D8"
          ],
          [
           "FI1D9"
          ],
          [
           "FI200"
          ],
          [
           "FR101"
          ],
          [
           "FR102"
          ],
          [
           "FR103"
          ],
          [
           "FR104"
          ],
          [
           "FR105"
          ],
          [
           "FR106"
          ],
          [
           "FR107"
          ],
          [
           "FR108"
          ],
          [
           "FRB01"
          ],
          [
           "FRB02"
          ],
          [
           "FRB03"
          ],
          [
           "FRB04"
          ],
          [
           "FRB05"
          ],
          [
           "FRB06"
          ],
          [
           "FRC11"
          ],
          [
           "FRC12"
          ],
          [
           "FRC13"
          ],
          [
           "FRC14"
          ],
          [
           "FRC21"
          ],
          [
           "FRC22"
          ],
          [
           "FRC23"
          ],
          [
           "FRC24"
          ],
          [
           "FRD11"
          ],
          [
           "FRD12"
          ],
          [
           "FRD13"
          ],
          [
           "FRD21"
          ],
          [
           "FRD22"
          ],
          [
           "FRE11"
          ],
          [
           "FRE12"
          ],
          [
           "FRE21"
          ],
          [
           "FRE22"
          ],
          [
           "FRE23"
          ],
          [
           "FRF11"
          ],
          [
           "FRF12"
          ],
          [
           "FRF21"
          ],
          [
           "FRF22"
          ],
          [
           "FRF23"
          ],
          [
           "FRF24"
          ],
          [
           "FRF31"
          ],
          [
           "FRF32"
          ],
          [
           "FRF33"
          ],
          [
           "FRF34"
          ],
          [
           "FRG01"
          ],
          [
           "FRG02"
          ],
          [
           "FRG03"
          ],
          [
           "FRG04"
          ],
          [
           "FRG05"
          ],
          [
           "FRH01"
          ],
          [
           "FRH02"
          ],
          [
           "FRH03"
          ],
          [
           "FRH04"
          ],
          [
           "FRI11"
          ],
          [
           "FRI12"
          ],
          [
           "FRI13"
          ],
          [
           "FRI14"
          ],
          [
           "FRI15"
          ],
          [
           "FRI21"
          ],
          [
           "FRI22"
          ],
          [
           "FRI23"
          ],
          [
           "FRI31"
          ],
          [
           "FRI32"
          ],
          [
           "FRI33"
          ],
          [
           "FRI34"
          ],
          [
           "FRJ11"
          ],
          [
           "FRJ12"
          ],
          [
           "FRJ13"
          ],
          [
           "FRJ14"
          ],
          [
           "FRJ15"
          ],
          [
           "FRJ21"
          ],
          [
           "FRJ22"
          ],
          [
           "FRJ23"
          ],
          [
           "FRJ24"
          ],
          [
           "FRJ25"
          ],
          [
           "FRJ26"
          ],
          [
           "FRJ27"
          ],
          [
           "FRJ28"
          ],
          [
           "FRK11"
          ],
          [
           "FRK12"
          ],
          [
           "FRK13"
          ],
          [
           "FRK14"
          ],
          [
           "FRK21"
          ],
          [
           "FRK22"
          ],
          [
           "FRK23"
          ],
          [
           "FRK24"
          ],
          [
           "FRK25"
          ],
          [
           "FRK26"
          ],
          [
           "FRK27"
          ],
          [
           "FRK28"
          ],
          [
           "FRL01"
          ],
          [
           "FRL02"
          ],
          [
           "FRL03"
          ],
          [
           "FRL04"
          ],
          [
           "FRL05"
          ],
          [
           "FRL06"
          ],
          [
           "FRM01"
          ],
          [
           "FRM02"
          ],
          [
           "HR021"
          ],
          [
           "HR022"
          ],
          [
           "HR023"
          ],
          [
           "HR024"
          ],
          [
           "HR025"
          ],
          [
           "HR026"
          ],
          [
           "HR027"
          ],
          [
           "HR028"
          ],
          [
           "HR031"
          ],
          [
           "HR032"
          ],
          [
           "HR033"
          ],
          [
           "HR034"
          ],
          [
           "HR035"
          ],
          [
           "HR036"
          ],
          [
           "HR037"
          ],
          [
           "HR050"
          ],
          [
           "HR061"
          ],
          [
           "HR062"
          ],
          [
           "HR063"
          ],
          [
           "HR064"
          ],
          [
           "HR065"
          ],
          [
           "HU110"
          ],
          [
           "HU120"
          ],
          [
           "HU211"
          ],
          [
           "HU212"
          ],
          [
           "HU213"
          ],
          [
           "HU221"
          ],
          [
           "HU222"
          ],
          [
           "HU223"
          ],
          [
           "HU231"
          ],
          [
           "HU232"
          ],
          [
           "HU233"
          ],
          [
           "HU311"
          ],
          [
           "HU312"
          ],
          [
           "HU313"
          ],
          [
           "HU321"
          ],
          [
           "HU322"
          ],
          [
           "HU323"
          ],
          [
           "HU331"
          ],
          [
           "HU332"
          ],
          [
           "HU333"
          ],
          [
           "IE041"
          ],
          [
           "IE042"
          ],
          [
           "IE051"
          ],
          [
           "IE052"
          ],
          [
           "IE053"
          ],
          [
           "IE061"
          ],
          [
           "IE062"
          ],
          [
           "IE063"
          ],
          [
           "IM000"
          ],
          [
           "IS001"
          ],
          [
           "IS002"
          ],
          [
           "ITC11"
          ],
          [
           "ITC12"
          ],
          [
           "ITC13"
          ],
          [
           "ITC14"
          ],
          [
           "ITC15"
          ],
          [
           "ITC16"
          ],
          [
           "ITC17"
          ],
          [
           "ITC18"
          ],
          [
           "ITC20"
          ],
          [
           "ITC31"
          ],
          [
           "ITC32"
          ],
          [
           "ITC33"
          ],
          [
           "ITC34"
          ],
          [
           "ITC41"
          ],
          [
           "ITC42"
          ],
          [
           "ITC43"
          ],
          [
           "ITC44"
          ],
          [
           "ITC46"
          ],
          [
           "ITC47"
          ],
          [
           "ITC48"
          ],
          [
           "ITC49"
          ],
          [
           "ITC4A"
          ],
          [
           "ITC4B"
          ],
          [
           "ITC4C"
          ],
          [
           "ITC4D"
          ],
          [
           "ITF11"
          ],
          [
           "ITF12"
          ],
          [
           "ITF13"
          ],
          [
           "ITF14"
          ],
          [
           "ITF21"
          ],
          [
           "ITF22"
          ],
          [
           "ITF31"
          ],
          [
           "ITF32"
          ],
          [
           "ITF33"
          ],
          [
           "ITF34"
          ],
          [
           "ITF35"
          ],
          [
           "ITF43"
          ],
          [
           "ITF44"
          ],
          [
           "ITF45"
          ],
          [
           "ITF46"
          ],
          [
           "ITF47"
          ],
          [
           "ITF48"
          ],
          [
           "ITF51"
          ],
          [
           "ITF52"
          ],
          [
           "ITF61"
          ],
          [
           "ITF62"
          ],
          [
           "ITF63"
          ],
          [
           "ITF64"
          ],
          [
           "ITF65"
          ],
          [
           "ITG11"
          ],
          [
           "ITG12"
          ],
          [
           "ITG13"
          ],
          [
           "ITG14"
          ],
          [
           "ITG15"
          ],
          [
           "ITG16"
          ],
          [
           "ITG17"
          ],
          [
           "ITG18"
          ],
          [
           "ITG19"
          ],
          [
           "ITG2D"
          ],
          [
           "ITG2E"
          ],
          [
           "ITG2F"
          ],
          [
           "ITG2G"
          ],
          [
           "ITG2H"
          ],
          [
           "ITH10"
          ],
          [
           "ITH20"
          ],
          [
           "ITH31"
          ],
          [
           "ITH32"
          ],
          [
           "ITH33"
          ],
          [
           "ITH34"
          ],
          [
           "ITH35"
          ],
          [
           "ITH36"
          ],
          [
           "ITH37"
          ],
          [
           "ITH41"
          ],
          [
           "ITH42"
          ],
          [
           "ITH43"
          ],
          [
           "ITH44"
          ],
          [
           "ITH51"
          ],
          [
           "ITH52"
          ],
          [
           "ITH53"
          ],
          [
           "ITH54"
          ],
          [
           "ITH55"
          ],
          [
           "ITH56"
          ],
          [
           "ITH57"
          ],
          [
           "ITH58"
          ],
          [
           "ITH59"
          ],
          [
           "ITI11"
          ],
          [
           "ITI12"
          ],
          [
           "ITI13"
          ],
          [
           "ITI14"
          ],
          [
           "ITI15"
          ],
          [
           "ITI16"
          ],
          [
           "ITI17"
          ],
          [
           "ITI18"
          ],
          [
           "ITI19"
          ],
          [
           "ITI1A"
          ],
          [
           "ITI21"
          ],
          [
           "ITI22"
          ],
          [
           "ITI31"
          ],
          [
           "ITI32"
          ],
          [
           "ITI33"
          ],
          [
           "ITI34"
          ],
          [
           "ITI35"
          ],
          [
           "ITI41"
          ],
          [
           "ITI42"
          ],
          [
           "ITI43"
          ],
          [
           "ITI44"
          ],
          [
           "ITI45"
          ],
          [
           "LI000"
          ],
          [
           "LT011"
          ],
          [
           "LT021"
          ],
          [
           "LT022"
          ],
          [
           "LT023"
          ],
          [
           "LT024"
          ],
          [
           "LT025"
          ],
          [
           "LT026"
          ],
          [
           "LT027"
          ],
          [
           "LT028"
          ],
          [
           "LT029"
          ],
          [
           "LU000"
          ],
          [
           "LV003"
          ],
          [
           "LV005"
          ],
          [
           "LV006"
          ],
          [
           "LV007"
          ],
          [
           "LV008"
          ],
          [
           "LV009"
          ],
          [
           "MC000"
          ],
          [
           "ME000"
          ],
          [
           "MK001"
          ],
          [
           "MK002"
          ],
          [
           "MK003"
          ],
          [
           "MK004"
          ],
          [
           "MK005"
          ],
          [
           "MK006"
          ],
          [
           "MK007"
          ],
          [
           "MK008"
          ],
          [
           "MT001"
          ],
          [
           "MT002"
          ],
          [
           "NL111"
          ],
          [
           "NL112"
          ],
          [
           "NL113"
          ],
          [
           "NL124"
          ],
          [
           "NL125"
          ],
          [
           "NL126"
          ],
          [
           "NL131"
          ],
          [
           "NL132"
          ],
          [
           "NL133"
          ],
          [
           "NL211"
          ],
          [
           "NL212"
          ],
          [
           "NL213"
          ],
          [
           "NL221"
          ],
          [
           "NL224"
          ],
          [
           "NL225"
          ],
          [
           "NL226"
          ],
          [
           "NL230"
          ],
          [
           "NL310"
          ],
          [
           "NL321"
          ],
          [
           "NL323"
          ],
          [
           "NL324"
          ],
          [
           "NL325"
          ],
          [
           "NL327"
          ],
          [
           "NL328"
          ],
          [
           "NL329"
          ],
          [
           "NL332"
          ],
          [
           "NL333"
          ],
          [
           "NL337"
          ],
          [
           "NL33A"
          ],
          [
           "NL33B"
          ],
          [
           "NL33C"
          ],
          [
           "NL341"
          ],
          [
           "NL342"
          ],
          [
           "NL411"
          ],
          [
           "NL412"
          ],
          [
           "NL413"
          ],
          [
           "NL414"
          ],
          [
           "NL421"
          ],
          [
           "NL422"
          ],
          [
           "NL423"
          ],
          [
           "NO020"
          ],
          [
           "NO060"
          ],
          [
           "NO071"
          ],
          [
           "NO074"
          ],
          [
           "NO081"
          ],
          [
           "NO082"
          ],
          [
           "NO091"
          ],
          [
           "NO092"
          ],
          [
           "NO0A1"
          ],
          [
           "NO0A2"
          ],
          [
           "NO0A3"
          ],
          [
           "PL213"
          ],
          [
           "PL214"
          ],
          [
           "PL217"
          ],
          [
           "PL218"
          ],
          [
           "PL219"
          ],
          [
           "PL21A"
          ],
          [
           "PL224"
          ],
          [
           "PL225"
          ],
          [
           "PL227"
          ],
          [
           "PL228"
          ],
          [
           "PL229"
          ],
          [
           "PL22A"
          ],
          [
           "PL22B"
          ],
          [
           "PL22C"
          ],
          [
           "PL411"
          ],
          [
           "PL414"
          ],
          [
           "PL415"
          ],
          [
           "PL416"
          ],
          [
           "PL417"
          ],
          [
           "PL418"
          ],
          [
           "PL424"
          ],
          [
           "PL426"
          ],
          [
           "PL427"
          ],
          [
           "PL428"
          ],
          [
           "PL431"
          ],
          [
           "PL432"
          ],
          [
           "PL514"
          ],
          [
           "PL515"
          ],
          [
           "PL516"
          ],
          [
           "PL517"
          ],
          [
           "PL518"
          ],
          [
           "PL523"
          ],
          [
           "PL524"
          ],
          [
           "PL613"
          ],
          [
           "PL616"
          ],
          [
           "PL617"
          ],
          [
           "PL618"
          ],
          [
           "PL619"
          ],
          [
           "PL621"
          ],
          [
           "PL622"
          ],
          [
           "PL623"
          ],
          [
           "PL633"
          ],
          [
           "PL634"
          ],
          [
           "PL636"
          ],
          [
           "PL637"
          ],
          [
           "PL638"
          ],
          [
           "PL711"
          ],
          [
           "PL712"
          ],
          [
           "PL713"
          ],
          [
           "PL714"
          ],
          [
           "PL715"
          ],
          [
           "PL721"
          ],
          [
           "PL722"
          ],
          [
           "PL811"
          ],
          [
           "PL812"
          ],
          [
           "PL814"
          ],
          [
           "PL815"
          ],
          [
           "PL821"
          ],
          [
           "PL822"
          ],
          [
           "PL823"
          ],
          [
           "PL824"
          ],
          [
           "PL841"
          ],
          [
           "PL842"
          ],
          [
           "PL843"
          ],
          [
           "PL911"
          ],
          [
           "PL912"
          ],
          [
           "PL913"
          ],
          [
           "PL921"
          ],
          [
           "PL922"
          ],
          [
           "PL923"
          ],
          [
           "PL924"
          ],
          [
           "PL925"
          ],
          [
           "PL926"
          ],
          [
           "PT111"
          ],
          [
           "PT112"
          ],
          [
           "PT119"
          ],
          [
           "PT11A"
          ],
          [
           "PT11B"
          ],
          [
           "PT11C"
          ],
          [
           "PT11D"
          ],
          [
           "PT11E"
          ],
          [
           "PT150"
          ],
          [
           "PT16B"
          ],
          [
           "PT16D"
          ],
          [
           "PT16E"
          ],
          [
           "PT16F"
          ],
          [
           "PT16G"
          ],
          [
           "PT16H"
          ],
          [
           "PT16I"
          ],
          [
           "PT16J"
          ],
          [
           "PT170"
          ],
          [
           "PT181"
          ],
          [
           "PT184"
          ],
          [
           "PT185"
          ],
          [
           "PT186"
          ],
          [
           "PT187"
          ],
          [
           "RO111"
          ],
          [
           "RO112"
          ],
          [
           "RO113"
          ],
          [
           "RO114"
          ],
          [
           "RO115"
          ],
          [
           "RO116"
          ],
          [
           "RO121"
          ],
          [
           "RO122"
          ],
          [
           "RO123"
          ],
          [
           "RO124"
          ],
          [
           "RO125"
          ],
          [
           "RO126"
          ],
          [
           "RO211"
          ],
          [
           "RO212"
          ],
          [
           "RO213"
          ],
          [
           "RO214"
          ],
          [
           "RO215"
          ],
          [
           "RO216"
          ],
          [
           "RO221"
          ],
          [
           "RO222"
          ],
          [
           "RO223"
          ],
          [
           "RO224"
          ],
          [
           "RO225"
          ],
          [
           "RO226"
          ],
          [
           "RO311"
          ],
          [
           "RO312"
          ],
          [
           "RO313"
          ],
          [
           "RO314"
          ],
          [
           "RO315"
          ],
          [
           "RO316"
          ],
          [
           "RO317"
          ],
          [
           "RO321"
          ],
          [
           "RO322"
          ],
          [
           "RO411"
          ],
          [
           "RO412"
          ],
          [
           "RO413"
          ],
          [
           "RO414"
          ],
          [
           "RO415"
          ],
          [
           "RO421"
          ],
          [
           "RO422"
          ],
          [
           "RO423"
          ],
          [
           "RO424"
          ],
          [
           "RS110"
          ],
          [
           "RS121"
          ],
          [
           "RS122"
          ],
          [
           "RS123"
          ],
          [
           "RS124"
          ],
          [
           "RS125"
          ],
          [
           "RS126"
          ],
          [
           "RS127"
          ],
          [
           "RS211"
          ],
          [
           "RS212"
          ],
          [
           "RS213"
          ],
          [
           "RS214"
          ],
          [
           "RS215"
          ],
          [
           "RS216"
          ],
          [
           "RS217"
          ],
          [
           "RS218"
          ],
          [
           "RS221"
          ],
          [
           "RS222"
          ],
          [
           "RS223"
          ],
          [
           "RS224"
          ],
          [
           "RS225"
          ],
          [
           "RS226"
          ],
          [
           "RS227"
          ],
          [
           "RS228"
          ],
          [
           "RS229"
          ],
          [
           "SE110"
          ],
          [
           "SE121"
          ],
          [
           "SE122"
          ],
          [
           "SE123"
          ],
          [
           "SE124"
          ],
          [
           "SE125"
          ],
          [
           "SE211"
          ],
          [
           "SE212"
          ],
          [
           "SE213"
          ],
          [
           "SE214"
          ],
          [
           "SE221"
          ],
          [
           "SE224"
          ],
          [
           "SE231"
          ],
          [
           "SE232"
          ],
          [
           "SE311"
          ],
          [
           "SE312"
          ],
          [
           "SE313"
          ],
          [
           "SE321"
          ],
          [
           "SE322"
          ],
          [
           "SE331"
          ],
          [
           "SE332"
          ],
          [
           "SI031"
          ],
          [
           "SI032"
          ],
          [
           "SI033"
          ],
          [
           "SI034"
          ],
          [
           "SI035"
          ],
          [
           "SI036"
          ],
          [
           "SI037"
          ],
          [
           "SI038"
          ],
          [
           "SI041"
          ],
          [
           "SI042"
          ],
          [
           "SI043"
          ],
          [
           "SI044"
          ],
          [
           "SK010"
          ],
          [
           "SK021"
          ],
          [
           "SK022"
          ],
          [
           "SK023"
          ],
          [
           "SK031"
          ],
          [
           "SK032"
          ],
          [
           "SK041"
          ],
          [
           "SK042"
          ],
          [
           "SM000"
          ],
          [
           "UKC11"
          ],
          [
           "UKC12"
          ],
          [
           "UKC13"
          ],
          [
           "UKC14"
          ],
          [
           "UKC21"
          ],
          [
           "UKC22"
          ],
          [
           "UKC23"
          ],
          [
           "UKD11"
          ],
          [
           "UKD12"
          ],
          [
           "UKD33"
          ],
          [
           "UKD34"
          ],
          [
           "UKD35"
          ],
          [
           "UKD36"
          ],
          [
           "UKD37"
          ],
          [
           "UKD41"
          ],
          [
           "UKD42"
          ],
          [
           "UKD44"
          ],
          [
           "UKD45"
          ],
          [
           "UKD46"
          ],
          [
           "UKD47"
          ],
          [
           "UKD61"
          ],
          [
           "UKD62"
          ],
          [
           "UKD63"
          ],
          [
           "UKD71"
          ],
          [
           "UKD72"
          ],
          [
           "UKD73"
          ],
          [
           "UKD74"
          ],
          [
           "UKE11"
          ],
          [
           "UKE12"
          ],
          [
           "UKE13"
          ],
          [
           "UKE21"
          ],
          [
           "UKE22"
          ],
          [
           "UKE31"
          ],
          [
           "UKE32"
          ],
          [
           "UKE41"
          ],
          [
           "UKE42"
          ],
          [
           "UKE44"
          ],
          [
           "UKE45"
          ],
          [
           "UKF11"
          ],
          [
           "UKF12"
          ],
          [
           "UKF13"
          ],
          [
           "UKF14"
          ],
          [
           "UKF15"
          ],
          [
           "UKF16"
          ],
          [
           "UKF21"
          ],
          [
           "UKF22"
          ],
          [
           "UKF24"
          ],
          [
           "UKF25"
          ],
          [
           "UKF30"
          ],
          [
           "UKG11"
          ],
          [
           "UKG12"
          ],
          [
           "UKG13"
          ],
          [
           "UKG21"
          ],
          [
           "UKG22"
          ],
          [
           "UKG23"
          ],
          [
           "UKG24"
          ],
          [
           "UKG31"
          ],
          [
           "UKG32"
          ],
          [
           "UKG33"
          ],
          [
           "UKG36"
          ],
          [
           "UKG37"
          ],
          [
           "UKG38"
          ],
          [
           "UKG39"
          ],
          [
           "UKH11"
          ],
          [
           "UKH12"
          ],
          [
           "UKH14"
          ],
          [
           "UKH15"
          ],
          [
           "UKH16"
          ],
          [
           "UKH17"
          ],
          [
           "UKH21"
          ],
          [
           "UKH23"
          ],
          [
           "UKH24"
          ],
          [
           "UKH25"
          ],
          [
           "UKH31"
          ],
          [
           "UKH32"
          ],
          [
           "UKH34"
          ],
          [
           "UKH35"
          ],
          [
           "UKH36"
          ],
          [
           "UKH37"
          ],
          [
           "UKI31"
          ],
          [
           "UKI32"
          ],
          [
           "UKI33"
          ],
          [
           "UKI34"
          ],
          [
           "UKI41"
          ],
          [
           "UKI42"
          ],
          [
           "UKI43"
          ],
          [
           "UKI44"
          ],
          [
           "UKI45"
          ],
          [
           "UKI51"
          ],
          [
           "UKI52"
          ],
          [
           "UKI53"
          ],
          [
           "UKI54"
          ],
          [
           "UKI61"
          ],
          [
           "UKI62"
          ],
          [
           "UKI63"
          ],
          [
           "UKI71"
          ],
          [
           "UKI72"
          ],
          [
           "UKI73"
          ],
          [
           "UKI74"
          ],
          [
           "UKI75"
          ],
          [
           "UKJ11"
          ],
          [
           "UKJ12"
          ],
          [
           "UKJ13"
          ],
          [
           "UKJ14"
          ],
          [
           "UKJ21"
          ],
          [
           "UKJ22"
          ],
          [
           "UKJ25"
          ],
          [
           "UKJ26"
          ],
          [
           "UKJ27"
          ],
          [
           "UKJ28"
          ],
          [
           "UKJ31"
          ],
          [
           "UKJ32"
          ],
          [
           "UKJ34"
          ],
          [
           "UKJ35"
          ],
          [
           "UKJ36"
          ],
          [
           "UKJ37"
          ],
          [
           "UKJ41"
          ],
          [
           "UKJ43"
          ],
          [
           "UKJ44"
          ],
          [
           "UKJ45"
          ],
          [
           "UKJ46"
          ],
          [
           "UKK11"
          ],
          [
           "UKK12"
          ],
          [
           "UKK13"
          ],
          [
           "UKK14"
          ],
          [
           "UKK15"
          ],
          [
           "UKK23"
          ],
          [
           "UKK24"
          ],
          [
           "UKK25"
          ],
          [
           "UKK30"
          ],
          [
           "UKK41"
          ],
          [
           "UKK42"
          ],
          [
           "UKK43"
          ],
          [
           "UKL11"
          ],
          [
           "UKL12"
          ],
          [
           "UKL13"
          ],
          [
           "UKL14"
          ],
          [
           "UKL15"
          ],
          [
           "UKL16"
          ],
          [
           "UKL17"
          ],
          [
           "UKL18"
          ],
          [
           "UKL21"
          ],
          [
           "UKL22"
          ],
          [
           "UKL23"
          ],
          [
           "UKL24"
          ],
          [
           "UKM50"
          ],
          [
           "UKM61"
          ],
          [
           "UKM62"
          ],
          [
           "UKM63"
          ],
          [
           "UKM64"
          ],
          [
           "UKM65"
          ],
          [
           "UKM66"
          ],
          [
           "UKM71"
          ],
          [
           "UKM72"
          ],
          [
           "UKM73"
          ],
          [
           "UKM75"
          ],
          [
           "UKM76"
          ],
          [
           "UKM77"
          ],
          [
           "UKM78"
          ],
          [
           "UKM81"
          ],
          [
           "UKM82"
          ],
          [
           "UKM83"
          ],
          [
           "UKM84"
          ],
          [
           "UKM91"
          ],
          [
           "UKM92"
          ],
          [
           "UKM93"
          ],
          [
           "UKM94"
          ],
          [
           "UKM95"
          ],
          [
           "UKN06"
          ],
          [
           "UKN07"
          ],
          [
           "UKN08"
          ],
          [
           "UKN09"
          ],
          [
           "UKN0A"
          ],
          [
           "UKN0B"
          ],
          [
           "UKN0C"
          ],
          [
           "UKN0D"
          ],
          [
           "UKN0E"
          ],
          [
           "UKN0F"
          ],
          [
           "UKN0G"
          ],
          [
           "XK005"
          ],
          [
           "XK007"
          ],
          [
           "XK006"
          ],
          [
           "XK002"
          ],
          [
           "XK003"
          ],
          [
           "XK001"
          ],
          [
           "XK004"
          ]
         ],
         "hovertemplate": "<b>%{hovertext}</b><br><br>Sea latitude=%{lat}<br>Sea longitude=%{lon}<br>Code=%{customdata[0]}<extra></extra>",
         "hovertext": [
          "Andorra",
          "Dibër",
          "Durrës",
          "Kukës",
          "Lezhë",
          "Shkodër",
          "Elbasan",
          "Tiranë",
          "Berat",
          "Fier",
          "Gjirokastër",
          "Korçë",
          "Vlorë",
          "Mittelburgenland",
          "Nordburgenland",
          "Südburgenland",
          "Mostviertel-Eisenwurzen",
          "Niederösterreich-Süd",
          "Sankt Pölten",
          "Waldviertel",
          "Weinviertel",
          "Wiener Umland/Nordteil",
          "Wiener Umland/Südteil",
          "Wien",
          "Klagenfurt-Villach",
          "Oberkärnten",
          "Unterkärnten",
          "Graz",
          "Liezen",
          "Östliche Obersteiermark",
          "Oststeiermark",
          "West- und Südsteiermark",
          "Westliche Obersteiermark",
          "Innviertel",
          "Linz-Wels",
          "Mühlviertel",
          "Steyr-Kirchdorf",
          "Traunviertel",
          "Lungau",
          "Pinzgau-Pongau",
          "Salzburg und Umgebung",
          "Außerfern",
          "Innsbruck",
          "Osttirol",
          "Tiroler Oberland",
          "Tiroler Unterland",
          "Bludenz-Bregenzer Wald",
          "Rheintal-Bodenseegebiet",
          "Unsko-sanski kanton",
          "Posavski kanton",
          "Tuzlanski kanton",
          "Zeničko-dobojski kanton",
          "Bosansko-podrinjski kanton Goražde",
          "Srednjobosanski kanton",
          "Hercegovačko-neretvanski kanton",
          "Zapadnohercegovački kanton",
          "Kanton Sarajevo",
          "Kanton 10",
          "Banjalučka",
          "Bijeljinska",
          "Dobojska",
          "Ist. Sarajevska",
          "Prijedorska",
          "Trebinjska",
          "Brčko Distrikt",
          "Arr. De Bruxelles-Capitale / Arr. Van Brussel-Hoofdstad",
          "Arr. Antwerpen",
          "Arr. Mechelen",
          "Arr. Turnhout",
          "Arr. Tongeren",
          "Arr. Hasselt",
          "Arr. Maaseik",
          "Arr. Aalst",
          "Arr. Dendermonde",
          "Arr. Eeklo",
          "Arr. Gent",
          "Arr. Oudenaarde",
          "Arr. Sint-Niklaas",
          "Arr. Halle-Vilvoorde",
          "Arr. Leuven",
          "Arr. Brugge",
          "Arr. Diksmuide",
          "Arr. Ieper",
          "Arr. Kortrijk",
          "Arr. Oostende",
          "Arr. Roeselare",
          "Arr. Tielt",
          "Arr. Veurne",
          "Arr. Nivelles",
          "Arr. Mons",
          "Arr. Tournai-Mouscron",
          "Arr. La Louvière",
          "Arr. Ath",
          "Arr. Charleroi",
          "Arr. Soignies",
          "Arr. Thuin",
          "Arr. Huy",
          "Arr. Liège",
          "Arr. Waremme",
          "Arr. Verviers - Communes Francophones",
          "Bezirk Verviers - Deutschsprachige Gemeinschaft",
          "Arr. Arlon",
          "Arr. Bastogne",
          "Arr. Marche-en-Famenne",
          "Arr. Neufchâteau",
          "Arr. Virton",
          "Arr. Dinant",
          "Arr. Namur",
          "Arr. Philippeville",
          "Vidin",
          "Montana",
          "Vratsa",
          "Pleven",
          "Lovech",
          "Veliko Tarnovo",
          "Gabrovo",
          "Ruse",
          "Razgrad",
          "Silistra",
          "Varna",
          "Dobrich",
          "Shumen",
          "Targovishte",
          "Burgas",
          "Sliven",
          "Yambol",
          "Stara Zagora",
          "Sofia (stolitsa)",
          "Sofia",
          "Blagoevgrad",
          "Pernik",
          "Kyustendil",
          "Plovdiv",
          "Haskovo",
          "Pazardzhik",
          "Smolyan",
          "Kardzhali",
          "Vaud",
          "Valais / Wallis",
          "Genève",
          "Bern / Berne",
          "Fribourg / Freiburg",
          "Solothurn",
          "Neuchâtel",
          "Jura",
          "Basel-Stadt",
          "Basel-Landschaft",
          "Aargau",
          "Zürich",
          "Glarus",
          "Schaffhausen",
          "Appenzell Ausserrhoden",
          "Appenzell Innerrhoden",
          "St. Gallen",
          "Graubünden / Grigioni / Grischun",
          "Thurgau",
          "Luzern",
          "Uri",
          "Schwyz",
          "Obwalden",
          "Nidwalden",
          "Zug",
          "Ticino",
          "Kýpros",
          "Hlavní město Praha",
          "Středočeský kraj",
          "Jihočeský kraj",
          "Plzeňský kraj",
          "Karlovarský kraj",
          "Ústecký kraj",
          "Liberecký kraj",
          "Královéhradecký kraj",
          "Pardubický kraj",
          "Kraj Vysočina",
          "Jihomoravský kraj",
          "Olomoucký kraj",
          "Zlínský kraj",
          "Moravskoslezský kraj",
          "Stuttgart, Stadtkreis",
          "Böblingen",
          "Esslingen",
          "Göppingen",
          "Ludwigsburg",
          "Rems-Murr-Kreis",
          "Heilbronn, Stadtkreis",
          "Heilbronn, Landkreis",
          "Hohenlohekreis",
          "Schwäbisch Hall",
          "Main-Tauber-Kreis",
          "Heidenheim",
          "Ostalbkreis",
          "Baden-Baden, Stadtkreis",
          "Karlsruhe, Stadtkreis",
          "Karlsruhe, Landkreis",
          "Rastatt",
          "Heidelberg, Stadtkreis",
          "Mannheim, Stadtkreis",
          "Neckar-Odenwald-Kreis",
          "Rhein-Neckar-Kreis",
          "Pforzheim, Stadtkreis",
          "Calw",
          "Enzkreis",
          "Freudenstadt",
          "Freiburg im Breisgau, Stadtkreis",
          "Breisgau-Hochschwarzwald",
          "Emmendingen",
          "Ortenaukreis",
          "Rottweil",
          "Schwarzwald-Baar-Kreis",
          "Tuttlingen",
          "Konstanz",
          "Lörrach",
          "Waldshut",
          "Reutlingen",
          "Tübingen, Landkreis",
          "Zollernalbkreis",
          "Ulm, Stadtkreis",
          "Alb-Donau-Kreis",
          "Biberach",
          "Bodenseekreis",
          "Ravensburg",
          "Sigmaringen",
          "Ingolstadt, Kreisfreie Stadt",
          "München, Kreisfreie Stadt",
          "Rosenheim, Kreisfreie Stadt",
          "Altötting",
          "Berchtesgadener Land",
          "Bad Tölz-Wolfratshausen",
          "Dachau",
          "Ebersberg",
          "Eichstätt",
          "Erding",
          "Freising",
          "Fürstenfeldbruck",
          "Garmisch-Partenkirchen",
          "Landsberg am Lech",
          "Miesbach",
          "Mühldorf a. Inn",
          "München, Landkreis",
          "Neuburg-Schrobenhausen",
          "Pfaffenhofen a. d. Ilm",
          "Rosenheim, Landkreis",
          "Starnberg",
          "Traunstein",
          "Weilheim-Schongau",
          "Landshut, Kreisfreie Stadt",
          "Passau, Kreisfreie Stadt",
          "Straubing, Kreisfreie Stadt",
          "Deggendorf",
          "Freyung-Grafenau",
          "Kelheim",
          "Landshut, Landkreis",
          "Passau, Landkreis",
          "Regen",
          "Rottal-Inn",
          "Straubing-Bogen",
          "Dingolfing-Landau",
          "Amberg, Kreisfreie Stadt",
          "Regensburg, Kreisfreie Stadt",
          "Weiden i. d. Opf, Kreisfreie Stadt",
          "Amberg-Sulzbach",
          "Cham",
          "Neumarkt i. d. OPf.",
          "Neustadt a. d. Waldnaab",
          "Regensburg, Landkreis",
          "Schwandorf",
          "Tirschenreuth",
          "Bamberg, Kreisfreie Stadt",
          "Bayreuth, Kreisfreie Stadt",
          "Coburg, Kreisfreie Stadt",
          "Hof, Kreisfreie Stadt",
          "Bamberg, Landkreis",
          "Bayreuth, Landkreis",
          "Coburg, Landkreis",
          "Forchheim",
          "Hof, Landkreis",
          "Kronach",
          "Kulmbach",
          "Lichtenfels",
          "Wunsiedel i. Fichtelgebirge",
          "Ansbach, Kreisfreie Stadt",
          "Erlangen, Kreisfreie Stadt",
          "Fürth, Kreisfreie Stadt",
          "Nürnberg, Kreisfreie Stadt",
          "Schwabach, Kreisfreie Stadt",
          "Ansbach, Landkreis",
          "Erlangen-Höchstadt",
          "Fürth, Landkreis",
          "Nürnberger Land",
          "Neustadt a. d. Aisch-Bad Windsheim",
          "Roth",
          "Weißenburg-Gunzenhausen",
          "Aschaffenburg, Kreisfreie Stadt",
          "Schweinfurt, Kreisfreie Stadt",
          "Würzburg, Kreisfreie Stadt",
          "Aschaffenburg, Landkreis",
          "Bad Kissingen",
          "Rhön-Grabfeld",
          "Haßberge",
          "Kitzingen",
          "Miltenberg",
          "Main-Spessart",
          "Schweinfurt, Landkreis",
          "Würzburg, Landkreis",
          "Augsburg, Kreisfreie Stadt",
          "Kaufbeuren, Kreisfreie Stadt",
          "Kempten (Allgäu), Kreisfreie Stadt",
          "Memmingen, Kreisfreie Stadt",
          "Aichach-Friedberg",
          "Augsburg, Landkreis",
          "Dillingen a.d. Donau",
          "Günzburg",
          "Neu-Ulm",
          "Lindau (Bodensee)",
          "Ostallgäu",
          "Unterallgäu",
          "Donau-Ries",
          "Oberallgäu",
          "Berlin",
          "Brandenburg an der Havel, Kreisfreie Stadt",
          "Cottbus, Kreisfreie Stadt",
          "Frankfurt (Oder), Kreisfreie Stadt",
          "Potsdam, Kreisfreie Stadt",
          "Barnim",
          "Dahme-Spreewald",
          "Elbe-Elster",
          "Havelland",
          "Märkisch-Oderland",
          "Oberhavel",
          "Oberspreewald-Lausitz",
          "Oder-Spree",
          "Ostprignitz-Ruppin",
          "Potsdam-Mittelmark",
          "Prignitz",
          "Spree-Neiße",
          "Teltow-Fläming",
          "Uckermark",
          "Bremen, Kreisfreie Stadt",
          "Bremerhaven, Kreisfreie Stadt",
          "Hamburg",
          "Darmstadt, Kreisfreie Stadt",
          "Frankfurt am Main, Kreisfreie Stadt",
          "Offenbach am Main, Kreisfreie Stadt",
          "Wiesbaden, Kreisfreie Stadt",
          "Bergstraße",
          "Darmstadt-Dieburg",
          "Groß-Gerau",
          "Hochtaunuskreis",
          "Main-Kinzig-Kreis",
          "Main-Taunus-Kreis",
          "Odenwaldkreis",
          "Offenbach, Landkreis",
          "Rheingau-Taunus-Kreis",
          "Wetteraukreis",
          "Gießen, Landkreis",
          "Lahn-Dill-Kreis",
          "Limburg-Weilburg",
          "Marburg-Biedenkopf",
          "Vogelsbergkreis",
          "Kassel, Kreisfreie Stadt",
          "Fulda",
          "Hersfeld-Rotenburg",
          "Kassel, Landkreis",
          "Schwalm-Eder-Kreis",
          "Waldeck-Frankenberg",
          "Werra-Meißner-Kreis",
          "Rostock, Kreisfreie Stadt",
          "Schwerin, Kreisfreie Stadt",
          "Mecklenburgische Seenplatte",
          "Landkreis Rostock",
          "Vorpommern-Rügen",
          "Nordwestmecklenburg",
          "Vorpommern-Greifswald",
          "Ludwigslust-Parchim",
          "Braunschweig, Kreisfreie Stadt",
          "Salzgitter, Kreisfreie Stadt",
          "Wolfsburg, Kreisfreie Stadt",
          "Gifhorn",
          "Goslar",
          "Helmstedt",
          "Northeim",
          "Peine",
          "Wolfenbüttel",
          "Göttingen",
          "Diepholz",
          "Hameln-Pyrmont",
          "Hildesheim",
          "Holzminden",
          "Nienburg (Weser)",
          "Schaumburg",
          "Region Hannover",
          "Celle",
          "Cuxhaven",
          "Harburg",
          "Lüchow-Dannenberg",
          "Lüneburg, Landkreis",
          "Osterholz",
          "Rotenburg (Wümme)",
          "Heidekreis",
          "Stade",
          "Uelzen",
          "Verden",
          "Delmenhorst, Kreisfreie Stadt",
          "Emden, Kreisfreie Stadt",
          "Oldenburg (Oldenburg), Kreisfreie Stadt",
          "Osnabrück, Kreisfreie Stadt",
          "Wilhelmshaven, Kreisfreie Stadt",
          "Ammerland",
          "Aurich",
          "Cloppenburg",
          "Emsland",
          "Friesland (DE)",
          "Grafschaft Bentheim",
          "Leer",
          "Oldenburg, Landkreis",
          "Osnabrück, Landkreis",
          "Vechta",
          "Wesermarsch",
          "Wittmund",
          "Düsseldorf, Kreisfreie Stadt",
          "Duisburg, Kreisfreie Stadt",
          "Essen, Kreisfreie Stadt",
          "Krefeld, Kreisfreie Stadt",
          "Mönchengladbach, Kreisfreie Stadt",
          "Mülheim an der Ruhr, Kreisfreie Stadt",
          "Oberhausen, Kreisfreie Stadt",
          "Remscheid, Kreisfreie Stadt",
          "Solingen, Kreisfreie Stadt",
          "Wuppertal, Kreisfreie Stadt",
          "Kleve",
          "Mettmann",
          "Rhein-Kreis Neuss",
          "Viersen",
          "Wesel",
          "Bonn, Kreisfreie Stadt",
          "Köln, Kreisfreie Stadt",
          "Leverkusen, Kreisfreie Stadt",
          "Düren",
          "Rhein-Erft-Kreis",
          "Euskirchen",
          "Heinsberg",
          "Oberbergischer Kreis",
          "Rheinisch-Bergischer Kreis",
          "Rhein-Sieg-Kreis",
          "Städteregion Aachen",
          "Bottrop, Kreisfreie Stadt",
          "Gelsenkirchen, Kreisfreie Stadt",
          "Münster, Kreisfreie Stadt",
          "Borken",
          "Coesfeld",
          "Recklinghausen",
          "Steinfurt",
          "Warendorf",
          "Bielefeld, Kreisfreie Stadt",
          "Gütersloh",
          "Herford",
          "Höxter",
          "Lippe",
          "Minden-Lübbecke",
          "Paderborn",
          "Bochum, Kreisfreie Stadt",
          "Dortmund, Kreisfreie Stadt",
          "Hagen, Kreisfreie Stadt",
          "Hamm, Kreisfreie Stadt",
          "Herne, Kreisfreie Stadt",
          "Ennepe-Ruhr-Kreis",
          "Hochsauerlandkreis",
          "Märkischer Kreis",
          "Olpe",
          "Siegen-Wittgenstein",
          "Soest",
          "Unna",
          "Koblenz, Kreisfreie Stadt",
          "Ahrweiler",
          "Altenkirchen (Westerwald)",
          "Bad Kreuznach",
          "Birkenfeld",
          "Mayen-Koblenz",
          "Neuwied",
          "Rhein-Lahn-Kreis",
          "Westerwaldkreis",
          "Cochem-Zell",
          "Rhein-Hunsrück-Kreis",
          "Trier, Kreisfreie Stadt",
          "Bernkastel-Wittlich",
          "Eifelkreis Bitburg-Prüm",
          "Vulkaneifel",
          "Trier-Saarburg",
          "Frankenthal (Pfalz), Kreisfreie Stadt",
          "Kaiserslautern, Kreisfreie Stadt",
          "Landau in der Pfalz, Kreisfreie Stadt",
          "Ludwigshafen am Rhein, Kreisfreie Stadt",
          "Mainz, Kreisfreie Stadt",
          "Neustadt an der Weinstraße, Kreisfreie Stadt",
          "Pirmasens, Kreisfreie Stadt",
          "Speyer, Kreisfreie Stadt",
          "Worms, Kreisfreie Stadt",
          "Zweibrücken, Kreisfreie Stadt",
          "Alzey-Worms",
          "Bad Dürkheim",
          "Donnersbergkreis",
          "Germersheim",
          "Kaiserslautern, Landkreis",
          "Kusel",
          "Südliche Weinstraße",
          "Rhein-Pfalz-Kreis",
          "Mainz-Bingen",
          "Südwestpfalz",
          "Regionalverband Saarbrücken",
          "Merzig-Wadern",
          "Neunkirchen",
          "Saarlouis",
          "Saarpfalz-Kreis",
          "St. Wendel",
          "Dresden, Kreisfreie Stadt",
          "Bautzen",
          "Görlitz",
          "Meißen",
          "Sächsische Schweiz-Osterzgebirge",
          "Chemnitz, Kreisfreie Stadt",
          "Erzgebirgskreis",
          "Mittelsachsen",
          "Vogtlandkreis",
          "Zwickau",
          "Leipzig, Kreisfreie Stadt",
          "Leipzig",
          "Nordsachsen",
          "Dessau-Roßlau, Kreisfreie Stadt",
          "Halle (Saale), Kreisfreie Stadt",
          "Magdeburg, Kreisfreie Stadt",
          "Altmarkkreis Salzwedel",
          "Anhalt-Bitterfeld",
          "Jerichower Land",
          "Börde",
          "Burgenlandkreis",
          "Harz",
          "Mansfeld-Südharz",
          "Saalekreis",
          "Salzlandkreis",
          "Stendal",
          "Wittenberg",
          "Flensburg, Kreisfreie Stadt",
          "Kiel, Kreisfreie Stadt",
          "Lübeck, Kreisfreie Stadt",
          "Neumünster, Kreisfreie Stadt",
          "Dithmarschen",
          "Herzogtum Lauenburg",
          "Nordfriesland",
          "Ostholstein",
          "Pinneberg",
          "Plön",
          "Rendsburg-Eckernförde",
          "Schleswig-Flensburg",
          "Segeberg",
          "Steinburg",
          "Stormarn",
          "Erfurt, Kreisfreie Stadt",
          "Gera, Kreisfreie Stadt",
          "Jena, Kreisfreie Stadt",
          "Suhl, Kreisfreie Stadt",
          "Weimar, Kreisfreie Stadt",
          "Eichsfeld",
          "Nordhausen",
          "Unstrut-Hainich-Kreis",
          "Kyffhäuserkreis",
          "Schmalkalden-Meiningen",
          "Gotha",
          "Sömmerda",
          "Hildburghausen",
          "Ilm-Kreis",
          "Weimarer Land",
          "Sonneberg",
          "Saalfeld-Rudolstadt",
          "Saale-Holzland-Kreis",
          "Saale-Orla-Kreis",
          "Greiz",
          "Altenburger Land",
          "Eisenach, Kreisfreie Stadt",
          "Wartburgkreis",
          "Byen København",
          "Københavns omegn",
          "Nordsjælland",
          "Bornholm",
          "Østsjælland",
          "Vest- og Sydsjælland",
          "Fyn",
          "Sydjylland",
          "Vestjylland",
          "Østjylland",
          "Nordjylland",
          "Põhja-Eesti",
          "Lääne-Eesti",
          "Lõuna-Eesti",
          "Kesk-Eesti",
          "Kirde-Eesti",
          "Voreios Tomeas Athinon",
          "Dytikos Tomeas Athinon",
          "Kentrikos Tomeas Athinon",
          "Notios Tomeas Athinon",
          "Anatoliki Attiki",
          "Dytiki Attiki",
          "Peiraias, Nisoi",
          "Lesvos, Limnos",
          "Ikaria, Samos",
          "Chios",
          "Kalymnos, Karpathos, Kasos, Kos, Rodos",
          "Andros, Thira, Kea, Milos, Mykonos, Naxos, Paros, Syros, Tinos",
          "Irakleio",
          "Lasithi",
          "Rethymni",
          "Chania",
          "Evros",
          "Xanthi",
          "Rodopi",
          "Drama",
          "Thasos, Kavala",
          "Imathia",
          "Thessaloniki",
          "Kilkis",
          "Pella",
          "Pieria",
          "Serres",
          "Chalkidiki",
          "Grevena, Kozani",
          "Kastoria",
          "Florina",
          "Arta, Preveza",
          "Thesprotia",
          "Ioannina",
          "Karditsa, Trikala",
          "Larisa",
          "Magnisia, Sporades",
          "Zakynthos",
          "Kerkyra",
          "Ithaki, Kefallinia",
          "Lefkada",
          "Aitoloakarnania",
          "Achaia",
          "Ileia",
          "Voiotia",
          "Evvoia",
          "Evrytania",
          "Fthiotida",
          "Fokida",
          "Argolida, Arkadia",
          "Korinthia",
          "Lakonia, Messinia",
          "A Coruña",
          "Lugo",
          "Ourense",
          "Pontevedra",
          "Asturias",
          "Cantabria",
          "Araba/Álava",
          "Gipuzkoa",
          "Bizkaia",
          "Navarra",
          "La Rioja",
          "Huesca",
          "Teruel",
          "Zaragoza",
          "Madrid",
          "Ávila",
          "Burgos",
          "León",
          "Palencia",
          "Salamanca",
          "Segovia",
          "Soria",
          "Valladolid",
          "Zamora",
          "Albacete",
          "Ciudad Real",
          "Cuenca",
          "Guadalajara",
          "Toledo",
          "Badajoz",
          "Cáceres",
          "Barcelona",
          "Girona",
          "Lleida",
          "Tarragona",
          "Alicante/Alacant",
          "Castellón/Castelló",
          "Valencia/València",
          "Eivissa y Formentera",
          "Mallorca",
          "Menorca",
          "Almería",
          "Cádiz",
          "Córdoba",
          "Granada",
          "Huelva",
          "Jaén",
          "Málaga",
          "Sevilla",
          "Murcia",
          "Keski-Suomi",
          "Etelä-Pohjanmaa",
          "Pohjanmaa",
          "Satakunta",
          "Pirkanmaa",
          "Helsinki-Uusimaa",
          "Varsinais-Suomi",
          "Kanta-Häme",
          "Päijät-Häme",
          "Kymenlaakso",
          "Etelä-Karjala",
          "Etelä-Savo",
          "Pohjois-Savo",
          "Pohjois-Karjala",
          "Keski-Pohjanmaa",
          "Lappi",
          "Kainuu",
          "Pohjois-Pohjanmaa",
          "Åland",
          "Paris",
          "Seine-et-Marne ",
          "Yvelines ",
          "Essonne",
          "Hauts-de-Seine ",
          "Seine-Saint-Denis ",
          "Val-de-Marne",
          "Val-d’Oise",
          "Cher",
          "Eure-et-Loir",
          "Indre",
          "Indre-et-Loire",
          "Loir-et-Cher",
          "Loiret",
          "Côte-d’Or",
          "Nièvre",
          "Saône-et-Loire",
          "Yonne",
          "Doubs",
          "Jura",
          "Haute-Saône",
          "Territoire de Belfort",
          "Calvados",
          "Manche",
          "Orne",
          "Eure",
          "Seine-Maritime",
          "Nord",
          "Pas-de-Calais",
          "Aisne",
          "Oise",
          "Somme",
          "Bas-Rhin",
          "Haut-Rhin",
          "Ardennes",
          "Aube",
          "Marne",
          "Haute-Marne",
          "Meurthe-et-Moselle ",
          "Meuse ",
          "Moselle",
          "Vosges",
          "Loire-Atlantique",
          "Maine-et-Loire",
          "Mayenne",
          "Sarthe",
          "Vendée",
          "Côtes-d’Armor",
          "Finistère",
          "Ille-et-Vilaine",
          "Morbihan",
          "Dordogne",
          "Gironde",
          "Landes",
          "Lot-et-Garonne",
          "Pyrénées-Atlantiques",
          "Corrèze",
          "Creuse",
          "Haute-Vienne",
          "Charente",
          "Charente-Maritime",
          "Deux-Sèvres",
          "Vienne",
          "Aude",
          "Gard",
          "Hérault",
          "Lozère",
          "Pyrénées-Orientales",
          "Ariège",
          "Aveyron",
          "Haute-Garonne",
          "Gers",
          "Lot",
          "Hautes-Pyrénées",
          "Tarn",
          "Tarn-et-Garonne",
          "Allier",
          "Cantal",
          "Haute-Loire",
          "Puy-de-Dôme",
          "Ain",
          "Ardèche",
          "Drôme",
          "Isère",
          "Loire",
          "Rhône",
          "Savoie",
          "Haute-Savoie",
          "Alpes-de-Haute-Provence",
          "Hautes-Alpes ",
          "Alpes-Maritimes",
          "Bouches-du-Rhône",
          "Var",
          "Vaucluse",
          "Corse-du-Sud",
          "Haute-Corse",
          "Bjelovarsko-bilogorska županija",
          "Virovitičko-podravska županija",
          "Požeško-slavonska županija",
          "Brodsko-posavska županija",
          "Osječko-baranjska županija",
          "Vukovarsko-srijemska županija",
          "Karlovačka županija",
          "Sisačko-moslavačka županija",
          "Primorsko-goranska županija",
          "Ličko-senjska županija",
          "Zadarska županija",
          "Šibensko-kninska županija",
          "Splitsko-dalmatinska županija",
          "Istarska županija",
          "Dubrovačko-neretvanska županija",
          "Grad Zagreb",
          "Međimurska županija",
          "Varaždinska županija",
          "Koprivničko-križevačka županija",
          "Krapinsko-zagorska županija",
          "Zagrebačka županija",
          "Budapest",
          "Pest",
          "Fejér",
          "Komárom-Esztergom",
          "Veszprém",
          "Győr-Moson-Sopron",
          "Vas",
          "Zala",
          "Baranya",
          "Somogy",
          "Tolna",
          "Borsod-Abaúj-Zemplén",
          "Heves",
          "Nógrád",
          "Hajdú-Bihar",
          "Jász-Nagykun-Szolnok",
          "Szabolcs-Szatmár-Bereg",
          "Bács-Kiskun",
          "Békés",
          "Csongrád",
          "Border",
          "West",
          "Mid-West",
          "South-East (IE)",
          "South-West (IE)",
          "Dublin",
          "Mid-East",
          "Midland",
          "Isle of Man",
          "Höfuðborgarsvæði",
          "Landsbyggð",
          "Torino",
          "Vercelli",
          "Biella",
          "Verbano-Cusio-Ossola",
          "Novara",
          "Cuneo",
          "Asti",
          "Alessandria",
          "Valle d’Aosta/Vallée d’Aoste",
          "Imperia",
          "Savona",
          "Genova",
          "La Spezia",
          "Varese",
          "Como",
          "Lecco",
          "Sondrio",
          "Bergamo",
          "Brescia",
          "Pavia",
          "Lodi",
          "Cremona",
          "Mantova",
          "Milano",
          "Monza e della Brianza",
          "L’Aquila",
          "Teramo",
          "Pescara",
          "Chieti",
          "Isernia",
          "Campobasso",
          "Caserta",
          "Benevento",
          "Napoli",
          "Avellino",
          "Salerno",
          "Taranto",
          "Brindisi",
          "Lecce",
          "Foggia",
          "Bari",
          "Barletta-Andria-Trani",
          "Potenza",
          "Matera",
          "Cosenza",
          "Crotone",
          "Catanzaro",
          "Vibo Valentia",
          "Reggio di Calabria",
          "Trapani",
          "Palermo",
          "Messina",
          "Agrigento",
          "Caltanissetta",
          "Enna",
          "Catania",
          "Ragusa",
          "Siracusa",
          "Sassari",
          "Nuoro",
          "Cagliari",
          "Oristano",
          "Sud Sardegna",
          "Bolzano-Bozen",
          "Trento",
          "Verona",
          "Vicenza",
          "Belluno",
          "Treviso",
          "Venezia",
          "Padova",
          "Rovigo",
          "Pordenone",
          "Udine",
          "Gorizia",
          "Trieste",
          "Piacenza",
          "Parma",
          "Reggio nell’Emilia",
          "Modena",
          "Bologna",
          "Ferrara",
          "Ravenna",
          "Forlì-Cesena",
          "Rimini",
          "Massa-Carrara",
          "Lucca",
          "Pistoia",
          "Firenze",
          "Prato",
          "Livorno",
          "Pisa",
          "Arezzo",
          "Siena",
          "Grosseto",
          "Perugia",
          "Terni",
          "Pesaro e Urbino",
          "Ancona",
          "Macerata",
          "Ascoli Piceno",
          "Fermo",
          "Viterbo",
          "Rieti",
          "Roma",
          "Latina",
          "Frosinone",
          "Liechtenstein",
          "Vilniaus apskritis",
          "Alytaus apskritis",
          "Kauno apskritis",
          "Klaipėdos apskritis",
          "Marijampolės apskritis",
          "Panevėžio apskritis",
          "Šiaulių apskritis",
          "Tauragės apskritis",
          "Telšių apskritis",
          "Utenos apskritis",
          "Luxembourg",
          "Kurzeme",
          "Latgale",
          "Rīga",
          "Pierīga",
          "Vidzeme",
          "Zemgale",
          "Monaco",
          "Crna Gora",
          "Vardarski",
          "Istočen",
          "Jugozapaden",
          "Jugoistočen",
          "Pelagoniski",
          "Pološki",
          "Severoistočen",
          "Skopski",
          "Malta",
          "Gozo and Comino/Għawdex u Kemmuna",
          "Oost-Groningen",
          "Delfzijl en omgeving",
          "Overig Groningen",
          "Noord-Friesland",
          "Zuidwest-Friesland",
          "Zuidoost-Friesland",
          "Noord-Drenthe",
          "Zuidoost-Drenthe",
          "Zuidwest-Drenthe",
          "Noord-Overijssel",
          "Zuidwest-Overijssel",
          "Twente",
          "Veluwe",
          "Zuidwest-Gelderland",
          "Achterhoek",
          "Arnhem/Nijmegen",
          "Flevoland",
          "Utrecht",
          "Kop van Noord-Holland",
          "IJmond",
          "Agglomeratie Haarlem",
          "Zaanstreek",
          "Het Gooi en Vechtstreek",
          "Alkmaar en omgeving",
          "Groot-Amsterdam",
          "Agglomeratie ’s-Gravenhage",
          "Delft en Westland",
          "Agglomeratie Leiden en Bollenstreek",
          "Zuidoost-Zuid-Holland",
          "Oost-Zuid-Holland",
          "Groot-Rijnmond",
          "Zeeuwsch-Vlaanderen",
          "Overig Zeeland",
          "West-Noord-Brabant",
          "Midden-Noord-Brabant",
          "Noordoost-Noord-Brabant",
          "Zuidoost-Noord-Brabant",
          "Noord-Limburg",
          "Midden-Limburg",
          "Zuid-Limburg",
          "Innlandet",
          "Trøndelag",
          "Nordland",
          "Troms og Finnmark",
          "Oslo",
          "Viken",
          "Vestfold og Telemark",
          "Agder",
          "Rogaland",
          "Vestland",
          "Møre og Romsdal",
          "Miasto Kraków",
          "Krakowski",
          "Tarnowski",
          "Nowosądecki",
          "Nowotarski",
          "Oświęcimski",
          "Częstochowski",
          "Bielski",
          "Rybnicki",
          "Bytomski",
          "Gliwicki",
          "Katowicki",
          "Sosnowiecki",
          "Tyski",
          "Pilski",
          "Koniński",
          "Miasto Poznań",
          "Kaliski",
          "Leszczyński",
          "Poznański",
          "Miasto Szczecin",
          "Koszaliński",
          "Szczecinecko-pyrzycki",
          "Szczeciński",
          "Gorzowski",
          "Zielonogórski",
          "Miasto Wrocław",
          "Jeleniogórski",
          "Legnicko-głogowski",
          "Wałbrzyski",
          "Wrocławski",
          "Nyski",
          "Opolski",
          "Bydgosko-toruński",
          "Grudziądzki",
          "Inowrocławski",
          "Świecki",
          "Włocławski",
          "Elbląski",
          "Olsztyński",
          "Ełcki",
          "Trójmiejski",
          "Gdański",
          "Słupski",
          "Chojnicki",
          "Starogardzki",
          "Miasto Łódź",
          "Łódzki",
          "Piotrkowski",
          "Sieradzki",
          "Skierniewicki",
          "Kielecki",
          "Sandomiersko-jędrzejowski",
          "Bialski",
          "Chełmsko-zamojski",
          "Lubelski",
          "Puławski",
          "Krośnieński",
          "Przemyski",
          "Rzeszowski",
          "Tarnobrzeski",
          "Białostocki",
          "Łomżyński",
          "Suwalski",
          "Miasto Warszawa",
          "Warszawski wschodni",
          "Warszawski zachodni",
          "Radomski",
          "Ciechanowski",
          "Płocki",
          "Ostrołęcki",
          "Siedlecki",
          "Żyrardowski",
          "Alto Minho",
          "Cávado",
          "Ave",
          "Área Metropolitana do Porto",
          "Alto Tâmega",
          "Tâmega e Sousa",
          "Douro",
          "Terras de Trás-os-Montes",
          "Algarve",
          "Oeste",
          "Região de Aveiro",
          "Região de Coimbra",
          "Região de Leiria",
          "Viseu Dão Lafões",
          "Beira Baixa",
          "Médio Tejo",
          "Beiras e Serra da Estrela",
          "Área Metropolitana de Lisboa",
          "Alentejo Litoral",
          "Baixo Alentejo",
          "Lezíria do Tejo",
          "Alto Alentejo",
          "Alentejo Central",
          "Bihor",
          "Bistriţa-Năsăud",
          "Cluj",
          "Maramureş",
          "Satu Mare",
          "Sălaj",
          "Alba",
          "Braşov",
          "Covasna",
          "Harghita",
          "Mureş",
          "Sibiu",
          "Bacău",
          "Botoşani",
          "Iaşi",
          "Neamţ",
          "Suceava",
          "Vaslui",
          "Brăila",
          "Buzău",
          "Constanţa",
          "Galaţi",
          "Tulcea",
          "Vrancea",
          "Argeş",
          "Călăraşi",
          "Dâmboviţa",
          "Giurgiu",
          "Ialomiţa",
          "Prahova",
          "Teleorman",
          "Bucureşti",
          "Ilfov",
          "Dolj",
          "Gorj",
          "Mehedinţi",
          "Olt",
          "Vâlcea",
          "Arad",
          "Caraş-Severin",
          "Hunedoara",
          "Timiş",
          "City of Belgrade",
          "Zapadnobačka oblast ",
          "Južnobanatska oblast",
          "Južnobačka oblast",
          "Severnobanatska oblast",
          "Severnobačka oblast",
          "Srednjobanatska oblast",
          "Sremska oblast",
          "Zlatiborska oblast",
          "Kolubarska oblast",
          "Mačvanska oblast",
          "Moravička oblast",
          "Pomoravska oblast",
          "Rasinska oblast",
          "Raška oblast",
          "Šumadijska oblast",
          "Borska oblast",
          "Braničevska oblast",
          "Zaječarska oblast",
          "Jablanička oblast",
          "Nišavska oblast",
          "Pirotska oblast",
          "Podunavska oblast",
          "Pčinjska oblast",
          "Toplička oblast",
          "Stockholms län",
          "Uppsala län",
          "Södermanlands län",
          "Östergötlands län",
          "Örebro län",
          "Västmanlands län",
          "Jönköpings län",
          "Kronobergs län",
          "Kalmar län",
          "Gotlands län",
          "Blekinge län",
          "Skåne län",
          "Hallands län",
          "Västra Götalands län",
          "Värmlands län",
          "Dalarnas län",
          "Gävleborgs län",
          "Västernorrlands län",
          "Jämtlands län",
          "Västerbottens län",
          "Norrbottens län",
          "Pomurska",
          "Podravska",
          "Koroška",
          "Savinjska",
          "Zasavska",
          "Posavska",
          "Jugovzhodna Slovenija",
          "Primorsko-notranjska",
          "Osrednjeslovenska",
          "Gorenjska",
          "Goriška",
          "Obalno-kraška",
          "Bratislavský kraj",
          "Trnavský kraj",
          "Trenčiansky kraj",
          "Nitriansky kraj",
          "Žilinský kraj",
          "Banskobystrický kraj",
          "Prešovský kraj",
          "Košický kraj",
          "San Marino",
          "Hartlepool and Stockton-on-Tees",
          "South Teesside",
          "Darlington",
          "Durham CC",
          "Northumberland",
          "Tyneside",
          "Sunderland",
          "West Cumbria",
          "East Cumbria",
          "Manchester",
          "Greater Manchester South West",
          "Greater Manchester South East",
          "Greater Manchester North West",
          "Greater Manchester North East",
          "Blackburn with Darwen",
          "Blackpool",
          "Lancaster and Wyre",
          "Mid Lancashire",
          "East Lancashire",
          "Chorley and West Lancashire",
          "Warrington",
          "Cheshire East",
          "Cheshire West and Chester",
          "East Merseyside",
          "Liverpool",
          "Sefton",
          "Wirral",
          "Kingston upon Hull, City of",
          "East Riding of Yorkshire",
          "North and North East Lincolnshire",
          "York",
          "North Yorkshire CC",
          "Barnsley, Doncaster and Rotherham",
          "Sheffield",
          "Bradford",
          "Leeds",
          "Calderdale and Kirklees",
          "Wakefield",
          "Derby",
          "East Derbyshire",
          "South and West Derbyshire",
          "Nottingham",
          "North Nottinghamshire",
          "South Nottinghamshire",
          "Leicester",
          "Leicestershire CC and Rutland",
          "West Northamptonshire",
          "North Northamptonshire",
          "Lincolnshire",
          "Herefordshire, County of",
          "Worcestershire",
          "Warwickshire",
          "Telford and Wrekin",
          "Shropshire CC",
          "Stoke-on-Trent",
          "Staffordshire CC",
          "Birmingham",
          "Solihull",
          "Coventry",
          "Dudley",
          "Sandwell",
          "Walsall",
          "Wolverhampton",
          "Peterborough",
          "Cambridgeshire CC",
          "Suffolk",
          "Norwich and East Norfolk",
          "North and West Norfolk",
          "Breckland and South Norfolk",
          "Luton",
          "Hertfordshire",
          "Bedford",
          "Central Bedfordshire",
          "Southend-on-Sea",
          "Thurrock",
          "Essex Haven Gateway",
          "West Essex",
          "Heart of Essex",
          "Essex Thames Gateway",
          "Camden and City of London",
          "Westminster",
          "Kensington & Chelsea and Hammersmith & Fulham",
          "Wandsworth",
          "Hackney and Newham",
          "Tower Hamlets",
          "Haringey and Islington",
          "Lewisham and Southwark",
          "Lambeth",
          "Bexley and Greenwich",
          "Barking & Dagenham and Havering",
          "Redbridge and Waltham Forest",
          "Enfield",
          "Bromley",
          "Croydon",
          "Merton, Kingston upon Thames and Sutton",
          "Barnet",
          "Brent",
          "Ealing",
          "Harrow and Hillingdon",
          "Hounslow and Richmond upon Thames",
          "Berkshire",
          "Milton Keynes",
          "Buckinghamshire CC",
          "Oxfordshire",
          "Brighton and Hove",
          "East Sussex CC",
          "West Surrey",
          "East Surrey",
          "West Sussex (South West)",
          "West Sussex (North East)",
          "Portsmouth",
          "Southampton",
          "Isle of Wight",
          "South Hampshire",
          "Central Hampshire",
          "North Hampshire",
          "Medway",
          "Kent Thames Gateway",
          "East Kent",
          "Mid Kent",
          "West Kent",
          "Bristol, City of",
          "Bath and North East Somerset, North Somerset and South Gloucestershire",
          "Gloucestershire",
          "Swindon",
          "Wiltshire CC",
          "Somerset",
          "Bournemouth, Christchurch and Poole",
          "Dorset",
          "Cornwall and Isles of Scilly",
          "Plymouth",
          "Torbay",
          "Devon CC",
          "Isle of Anglesey",
          "Gwynedd",
          "Conwy and Denbighshire",
          "South West Wales",
          "Central Valleys",
          "Gwent Valleys",
          "Bridgend and Neath Port Talbot",
          "Swansea",
          "Monmouthshire and Newport",
          "Cardiff and Vale of Glamorgan",
          "Flintshire and Wrexham",
          "Powys",
          "Aberdeen City and Aberdeenshire",
          "Caithness & Sutherland and Ross & Cromarty",
          "Inverness & Nairn and Moray, Badenoch & Strathspey",
          "Lochaber, Skye & Lochalsh, Arran & Cumbrae and Argyll & Bute",
          "Na h-Eileanan Siar (Western Isles)",
          "Orkney Islands",
          "Shetland Islands",
          "Angus and Dundee City",
          "Clackmannanshire and Fife",
          "East Lothian and Midlothian",
          "Edinburgh, City of",
          "Falkirk",
          "Perth & Kinross and Stirling",
          "West Lothian",
          "East Dunbartonshire, West Dunbartonshire and Helensburgh & Lomond",
          "Glasgow City",
          "Inverclyde, East Renfrewshire and Renfrewshire",
          "North Lanarkshire",
          "Scottish Borders",
          "Dumfries & Galloway",
          "East Ayrshire and North Ayrshire mainland",
          "South Ayrshire",
          "South Lanarkshire",
          "Belfast",
          "Armagh City, Banbridge and Craigavon",
          "Newry, Mourne and Down",
          "Ards and North Down",
          "Derry City and Strabane",
          "Mid Ulster",
          "Causeway Coast and Glens",
          "Antrim and Newtownabbey",
          "Lisburn and Castlereagh",
          "Mid and East Antrim",
          "Fermanagh and Omagh",
          "Ferizaj/Uroševac",
          "Gjakovë/Đakovica",
          "Gjilan/Gnjilane",
          "Mitrovicë/Mitrovica",
          "Pejë/Peć",
          "Prishtinë/Priština",
          "Prizren/Prizren"
         ],
         "lat": [
          42.47308299429349,
          41.72009299396103,
          41.32960047442243,
          41.72009299396103,
          41.72155353673755,
          41.877685994031566,
          41.170200691148764,
          41.361890984886934,
          40.64528488253274,
          40.70445164276694,
          39.91509999312088,
          39.91509999312088,
          40.45388126506481,
          45.59112499553761,
          45.61435054258207,
          45.59112499553761,
          45.59112499553761,
          45.59112499553761,
          45.59112499553761,
          45.59112499553761,
          45.61435054258207,
          45.59112499553761,
          45.59112499553761,
          45.59112499553761,
          45.59453861062369,
          45.61435054258207,
          45.61435054258207,
          45.59112499553761,
          45.66814637471268,
          45.59112499553761,
          45.59112499553761,
          45.59112499553761,
          45.59112499553761,
          45.73669399559013,
          45.709945995616074,
          45.71656523438049,
          45.68615883634136,
          45.690956760908634,
          45.73669399559013,
          45.73669399559013,
          45.73669399559013,
          45.4196543939199,
          45.62635785769787,
          45.73669399559013,
          45.38189699546124,
          45.68573947435987,
          45.38189699546124,
          45.61435054258207,
          44.317870995056566,
          43.210082994607376,
          43.13676962754039,
          43.188289689471404,
          42.635165371303884,
          43.210082994607376,
          43.04130781998103,
          43.1397992380655,
          42.988502697687906,
          43.330594215609274,
          44.317870995056566,
          43.05278152259399,
          43.210082994607376,
          42.988502697687906,
          42.95985790282571,
          43.210082994607376,
          43.210082994607376,
          51.46162154107336,
          51.62048299728482,
          51.57495245312665,
          51.62048299728482,
          51.62048299728482,
          51.62048299728482,
          51.62048299728482,
          51.40612748526265,
          51.455694912107425,
          51.35494531136677,
          51.34958873138821,
          51.34209424160058,
          51.52522464451045,
          51.51595412766915,
          51.585401773946295,
          51.3089324248598,
          51.20827258903195,
          51.18642471260165,
          51.266418778952946,
          51.24387443654305,
          51.252635840555996,
          51.304701629052275,
          51.17035896123306,
          51.34838906134715,
          51.34588599722379,
          51.245320441912796,
          51.34588599722379,
          51.34588599722379,
          51.34588599722379,
          51.34588599722379,
          51.34588599722379,
          51.60540035350576,
          51.62048299728482,
          51.62048299728482,
          51.62048299728482,
          51.62048299728482,
          51.44627402573592,
          51.54831342150042,
          51.521238910654546,
          51.391940327748685,
          51.34588599722379,
          51.39521434576976,
          51.46412748791151,
          51.34588599722379,
          40.78854419631155,
          40.80916984853235,
          40.85548112666267,
          42.59732459496463,
          40.94708299360832,
          42.5778809943388,
          42.5778809943388,
          43.271714562872646,
          43.14051135666139,
          43.46968050672179,
          43.19332480904654,
          43.37040398715316,
          43.004411667738594,
          42.89856860184381,
          42.56999986151153,
          42.5778809943388,
          42.5778809943388,
          42.5778809943388,
          40.80047804297148,
          40.77093962702734,
          40.68707299348719,
          40.708029609900464,
          40.68707299348719,
          40.94708299360832,
          40.889994794155676,
          40.925653266356605,
          40.94708299360832,
          40.90466898751942,
          44.23132299502246,
          44.297197426045855,
          44.23132299502246,
          44.36627199507555,
          44.296367103133264,
          44.36627199507555,
          44.26838277620222,
          44.36627199507555,
          44.36627199507555,
          44.36627199507555,
          44.36627199507555,
          44.36627199507555,
          44.36627199507555,
          44.36627199507555,
          45.38189699546124,
          45.38189699546124,
          45.38189699546124,
          45.38189699546124,
          45.38189699546124,
          44.36627199507555,
          44.36627199507555,
          44.36627199507555,
          44.36627199507555,
          44.36627199507555,
          44.36627199507555,
          44.36627199507555,
          36.166902228612024,
          53.757079997706036,
          53.757079997706036,
          45.726781971668096,
          45.73669399559013,
          53.757079997706036,
          53.757079997706036,
          53.757079997706036,
          53.757079997706036,
          53.757079997706036,
          45.59112499553761,
          45.59112499553761,
          53.757079997706036,
          45.59112499553761,
          54.43872099782148,
          45.415655661639406,
          45.38189699546124,
          45.44362272767463,
          45.53019600376685,
          45.452943923415454,
          45.47089750369203,
          51.62048299728482,
          51.62048299728482,
          45.63702947972793,
          45.67490152857288,
          53.52789299766521,
          45.666722072691286,
          45.69784918165321,
          51.62048299728482,
          51.62048299728482,
          51.62048299728482,
          51.62048299728482,
          51.62048299728482,
          51.62048299728482,
          51.62048299728482,
          51.62048299728482,
          51.62048299728482,
          45.38189699546124,
          51.62048299728482,
          45.38189699546124,
          44.36627199507555,
          44.36627199507555,
          44.36627199507555,
          51.62048299728482,
          45.38189699546124,
          44.36627199507555,
          45.38189699546124,
          45.38189699546124,
          44.36627199507555,
          44.36627199507555,
          45.38189699546124,
          45.38189699546124,
          45.38189699546124,
          45.539119202749866,
          45.428813778134746,
          45.38973381850918,
          45.38189699546124,
          45.38189699546124,
          45.38189699546124,
          45.73669399559013,
          45.73669399559013,
          45.73669399559013,
          45.73669399559013,
          45.73669399559013,
          45.73669399559013,
          45.73669399559013,
          45.73669399559013,
          45.73669399559013,
          45.73669399559013,
          45.73669399559013,
          45.73669399559013,
          45.60153403298069,
          45.694297899234165,
          45.73669399559013,
          45.73669399559013,
          45.73669399559013,
          45.73669399559013,
          45.73669399559013,
          45.73669399559013,
          45.73669399559013,
          45.73669399559013,
          45.71586032830888,
          45.73669399559013,
          45.73669399559013,
          45.73669399559013,
          45.73669399559013,
          45.73669399559013,
          45.73669399559013,
          45.73669399559013,
          45.73669399559013,
          45.73669399559013,
          45.73669399559013,
          45.73669399559013,
          45.73669399559013,
          45.73669399559013,
          45.73669399559013,
          45.73669399559013,
          45.73669399559013,
          45.73669399559013,
          45.73669399559013,
          45.73669399559013,
          45.73669399559013,
          45.73669399559013,
          53.757079997706036,
          53.52789299766521,
          54.008727997749666,
          53.52789299766521,
          53.757079997706036,
          53.52789299766521,
          54.008727997749666,
          53.52789299766521,
          45.73669399559013,
          53.757079997706036,
          54.008727997749666,
          54.008727997749666,
          53.52789299766521,
          53.757079997706036,
          45.73669399559013,
          45.73669399559013,
          45.73669399559013,
          45.73669399559013,
          45.73669399559013,
          45.73669399559013,
          53.52789299766521,
          45.73669399559013,
          45.73669399559013,
          45.73669399559013,
          45.73669399559013,
          45.73669399559013,
          53.52789299766521,
          53.52789299766521,
          53.52789299766521,
          53.52789299766521,
          53.52789299766521,
          53.52789299766521,
          53.52789299766521,
          53.52789299766521,
          53.52789299766521,
          53.52789299766521,
          53.52789299766521,
          53.52789299766521,
          45.73669399559013,
          45.574683161404444,
          45.43746599595218,
          45.47150241624711,
          45.73669399559013,
          45.73669399559013,
          45.73669399559013,
          45.63780731337471,
          45.53807912256538,
          45.38189699546124,
          45.542413298916884,
          45.582242110258655,
          45.73669399559013,
          45.38189699546124,
          53.757079997706036,
          53.757079997706036,
          53.757079997706036,
          53.757079997706036,
          53.757079997706036,
          53.757079997706036,
          53.757079997706036,
          53.757079997706036,
          53.757079997706036,
          53.757079997706036,
          53.757079997706036,
          53.757079997706036,
          53.757079997706036,
          53.757079997706036,
          53.757079997706036,
          54.08309157214555,
          53.757079997706036,
          53.757079997706036,
          53.757079997706036,
          53.52789299766521,
          53.66910678761865,
          54.008727997749666,
          51.62048299728482,
          51.62048299728482,
          53.52789299766521,
          51.62048299728482,
          51.62048299728482,
          51.62048299728482,
          51.62048299728482,
          53.52789299766521,
          53.52789299766521,
          51.62048299728482,
          51.62048299728482,
          51.62048299728482,
          51.62048299728482,
          53.52789299766521,
          53.52789299766521,
          53.52789299766521,
          51.62048299728482,
          53.52789299766521,
          53.52789299766521,
          53.52789299766521,
          53.52789299766521,
          53.52789299766521,
          53.52789299766521,
          53.52789299766521,
          53.52789299766521,
          53.52789299766521,
          54.19647199778149,
          54.05343842416347,
          53.89977734925141,
          54.19647199778149,
          54.28778738018872,
          54.0868636531914,
          54.14842381299722,
          54.11131043205927,
          54.008727997749666,
          54.008727997749666,
          54.008727997749666,
          54.008727997749666,
          54.008727997749666,
          54.008727997749666,
          53.52789299766521,
          54.008727997749666,
          54.008727997749666,
          53.52789299766521,
          53.52789299766521,
          53.52789299766521,
          53.52789299766521,
          53.52789299766521,
          53.52789299766521,
          53.52789299766521,
          53.52789299766521,
          54.008727997749666,
          53.891819422941204,
          54.008727997749666,
          54.008727997749666,
          54.008727997749666,
          53.543096631824696,
          53.65050559616673,
          53.70927617449381,
          53.96276783286744,
          54.008727997749666,
          53.52789299766521,
          53.52789299766521,
          53.48229999765703,
          53.52789299766521,
          53.52789299766521,
          53.5349832679542,
          53.52789299766521,
          53.71656080190775,
          53.52789299766521,
          53.48229999765703,
          53.61883202432638,
          53.48229999765703,
          53.48229999765703,
          53.52789299766521,
          53.52789299766521,
          53.52789299766521,
          53.52789299766521,
          53.73675548702476,
          51.88872330459383,
          52.068524589356464,
          52.14612801644357,
          51.93819481911875,
          51.78631620439947,
          52.08165998314663,
          52.137308846967194,
          51.9500376251113,
          51.91403930363513,
          51.9995574705958,
          52.23896477697574,
          51.95331389757383,
          51.85099467542775,
          51.83225480171123,
          52.239869994638696,
          51.62048299728482,
          51.67947545435861,
          51.78710062497835,
          51.62048299728482,
          51.62048299728482,
          51.62048299728482,
          51.62048299728482,
          51.89423348806686,
          51.76140220575533,
          51.62048299728482,
          51.62048299728482,
          52.191165998388286,
          52.2129807370017,
          53.48229999765703,
          53.48229999765703,
          53.48229999765703,
          53.48229999765703,
          53.48229999765703,
          53.52789299766521,
          53.52789299766521,
          53.52789299766521,
          53.52789299766521,
          53.52789299766521,
          53.52789299766521,
          53.52789299766521,
          53.52789299766521,
          53.48229999765703,
          53.48229999765703,
          53.48229999765703,
          53.52789299766521,
          53.48229999765703,
          52.0820157992064,
          53.52789299766521,
          53.48229999765703,
          53.52789299766521,
          53.52789299766521,
          53.52789299766521,
          53.48229999765703,
          51.62048299728482,
          51.62048299728482,
          51.62048299728482,
          51.62048299728482,
          51.62048299728482,
          51.62048299728482,
          51.62048299728482,
          51.62048299728482,
          51.62048299728482,
          51.62048299728482,
          51.62048299728482,
          51.62048299728482,
          51.62048299728482,
          51.62048299728482,
          51.62048299728482,
          51.62048299728482,
          51.62048299728482,
          51.62048299728482,
          51.62048299728482,
          51.62048299728482,
          51.62048299728482,
          51.62048299728482,
          51.62048299728482,
          51.62048299728482,
          51.62048299728482,
          51.62048299728482,
          51.62048299728482,
          51.62048299728482,
          51.62048299728482,
          51.62048299728482,
          51.62048299728482,
          51.62048299728482,
          51.62048299728482,
          51.62048299728482,
          51.62048299728482,
          51.62048299728482,
          51.62048299728482,
          51.61949184210238,
          51.62048299728482,
          51.612684881948276,
          51.62048299728482,
          51.62048299728482,
          53.757079997706036,
          53.757079997706036,
          53.757079997706036,
          53.757079997706036,
          53.757079997706036,
          53.757079997706036,
          53.757079997706036,
          53.757079997706036,
          53.757079997706036,
          53.757079997706036,
          53.757079997706036,
          53.757079997706036,
          53.757079997706036,
          53.757079997706036,
          54.008727997749666,
          54.008727997749666,
          54.008727997749666,
          54.008727997749666,
          54.008727997749666,
          54.008727997749666,
          54.008727997749666,
          53.52789299766521,
          54.008727997749666,
          54.008727997749666,
          54.008727997749666,
          54.03911974768265,
          53.757079997706036,
          54.802127368665396,
          54.52448859583647,
          54.008727997749666,
          54.51899524326197,
          54.02087399775173,
          54.008727997749666,
          54.47334660703117,
          54.129121093399334,
          54.02087399775173,
          54.44186515219272,
          54.59667999784702,
          54.59667999784702,
          54.008727997749666,
          54.008727997749666,
          54.008727997749666,
          54.008727997749666,
          53.757079997706036,
          54.008727997749666,
          53.52789299766521,
          54.008727997749666,
          53.52789299766521,
          54.008727997749666,
          53.52789299766521,
          54.008727997749666,
          53.52789299766521,
          53.52789299766521,
          54.008727997749666,
          53.52789299766521,
          54.008727997749666,
          54.008727997749666,
          54.008727997749666,
          54.008727997749666,
          54.008727997749666,
          54.008727997749666,
          53.757079997706036,
          53.757079997706036,
          53.52789299766521,
          53.52789299766521,
          55.70438851819192,
          55.70438851819192,
          55.9593842433849,
          55.40789799797122,
          55.591697134245045,
          55.36187699796447,
          55.24617264417753,
          55.82182932643298,
          56.08754694119257,
          56.1901249980806,
          57.17158522441691,
          58.38348399833898,
          58.95110839893415,
          58.38348399833898,
          58.38348399833898,
          58.38348399833898,
          38.07132359857672,
          37.78729939739289,
          37.979536789113006,
          37.77614616298498,
          38.27870709264437,
          37.85959011383778,
          37.78797590728792,
          39.326744463529394,
          37.73477247908417,
          38.27615774335153,
          37.10328761838947,
          37.65508999200043,
          36.42248499136867,
          36.658874991490535,
          36.42248499136867,
          36.42248499136867,
          40.824096993551194,
          40.94708299360832,
          40.87339707045297,
          40.8105065766167,
          40.84950414190817,
          40.32907599991447,
          40.47607399338808,
          40.47607399338808,
          40.47607399338808,
          40.25653099328407,
          40.68707299348719,
          40.2344524173698,
          40.25653099328407,
          40.25653099328407,
          40.25653099328407,
          38.936182156946835,
          39.46773493887712,
          39.573691444238094,
          39.659301992997364,
          39.72676469339171,
          39.19012499276843,
          37.84171719017571,
          39.695128993014734,
          38.21194012805552,
          38.821117016441185,
          38.4919505936753,
          38.00123035751599,
          37.62600930719508,
          38.60683095110295,
          38.32808943612107,
          38.57703696467005,
          38.97088599266044,
          38.97088599266044,
          37.77667489449729,
          37.9201049921348,
          37.03388205852679,
          43.47726409178233,
          43.65948520224451,
          42.370158918862714,
          42.43908001571932,
          43.573738938511084,
          43.42545182087606,
          43.44180045825537,
          43.43099160812004,
          43.4421475983493,
          43.42291299469579,
          43.437536147542694,
          41.01470899363962,
          40.028378036899404,
          41.01470899363962,
          39.513856790750204,
          43.40350299468776,
          43.43915290770313,
          43.574441429457714,
          43.40350299468776,
          40.875878385545384,
          43.40350299468776,
          43.435381460673135,
          43.40350299468776,
          43.57439420220373,
          39.310119992827275,
          36.672606558379414,
          39.54574542098805,
          39.823015788704765,
          39.310119992827275,
          38.2662959923093,
          39.755126993043774,
          41.330686300604995,
          41.991370554506176,
          41.01470899363962,
          41.089644447896504,
          38.30900664684521,
          40.07986322644634,
          39.431095335840055,
          38.73852499254531,
          41.226073993736954,
          41.419849055690946,
          36.67197716885493,
          36.51182855083092,
          36.67791699150032,
          36.66405226642724,
          37.02546537596418,
          36.66870495907284,
          36.668839654989476,
          36.94287099163652,
          37.88375218324798,
          63.618981851734034,
          63.43301112311638,
          63.24641292741874,
          61.624710784049405,
          61.70532199862372,
          60.154957156083896,
          60.33754986033648,
          60.1545471551849,
          60.42388899852635,
          60.47170103007738,
          60.50347899853283,
          60.4994018536299,
          64.56035756615768,
          60.50347899853283,
          64.02423522459932,
          66.00689699887518,
          65.11151099882966,
          65.10250782099455,
          60.42388899852635,
          50.127318996932296,
          50.127318996932296,
          49.98901877967191,
          50.01383778157078,
          50.102268328801756,
          50.127318996932296,
          50.127318996932296,
          50.127318996932296,
          46.014892995689074,
          49.773191904460234,
          46.014892995689074,
          46.27460780841028,
          49.65403069056578,
          49.91692747077634,
          50.127318996932296,
          50.127318996932296,
          43.39971899468621,
          50.127318996932296,
          44.23132299502246,
          44.23132299502246,
          44.23132299502246,
          44.356945477603496,
          49.44889912900158,
          49.06448926564035,
          49.48613114445556,
          49.823978115723214,
          49.9279523209175,
          51.208952481911865,
          51.043452039418845,
          50.127318996932296,
          50.127318996932296,
          50.127318996932296,
          51.60577183222341,
          44.36627199507555,
          51.34588599722379,
          50.127318996932296,
          50.127318996932296,
          50.127318996932296,
          51.34588599722379,
          51.34588599722379,
          51.46107170402119,
          51.34588599722379,
          47.06451399604549,
          46.673806399249806,
          48.64446999653119,
          48.64446999653119,
          46.541642839165746,
          48.80809665952044,
          48.215054012904574,
          48.64446999653119,
          47.59751513368525,
          45.25304750399482,
          44.889555696501645,
          44.02270499493963,
          44.340295990473585,
          43.73200130349987,
          45.55125968873958,
          46.014892995689074,
          45.88690505778854,
          45.81895236929234,
          45.76929961485655,
          46.16154374523805,
          43.39971899468621,
          43.0046262730641,
          43.36273457972945,
          43.15330194535545,
          43.29518371030323,
          42.55626667667512,
          42.785951641740084,
          43.07703153097218,
          43.075316994550874,
          44.02270499493963,
          43.075316994550874,
          43.817772144336914,
          43.075316994550874,
          43.075316994550874,
          43.39971899468621,
          43.160755955544325,
          43.39971899468621,
          43.306492020194234,
          43.39971899468621,
          43.39971899468621,
          43.35831515527098,
          43.69390899480698,
          46.014892995689074,
          43.39971899468621,
          44.23132299502246,
          44.23132299502246,
          43.42756761340601,
          43.67884245617074,
          43.69390899480698,
          43.310728523961906,
          43.18267860680257,
          43.347126383384065,
          42.90300648455332,
          42.931518994490105,
          45.07611099534765,
          45.07611099534765,
          44.317870995056566,
          44.317870995056566,
          44.317870995056566,
          43.210082994607376,
          45.07611099534765,
          45.07611099534765,
          45.120976150900724,
          44.47396728706694,
          44.077859887454295,
          43.72727134446184,
          43.29313283505769,
          45.05306573959094,
          42.93860405663656,
          45.07611099534765,
          45.07611099534765,
          45.07611099534765,
          45.07611099534765,
          45.07611099534765,
          45.07611099534765,
          45.07611099534765,
          45.07611099534765,
          45.07611099534765,
          45.07611099534765,
          45.07611099534765,
          45.07611099534765,
          45.07611099534765,
          45.07611099534765,
          45.07611099534765,
          45.07611099534765,
          45.07611099534765,
          45.07611099534765,
          45.07611099534765,
          45.07611099534765,
          45.07611099534765,
          45.07611099534765,
          44.91387899528654,
          45.07611099534765,
          43.210082994607376,
          45.07611099534765,
          49.77648899684208,
          49.77648899684208,
          49.77648899684208,
          48.684081996542524,
          48.684081996542524,
          49.77648899684208,
          49.77648899684208,
          49.77648899684208,
          49.77648899684208,
          61.97112999864236,
          61.97112999864236,
          44.23132299502246,
          44.36627199507555,
          44.330685567583366,
          44.36627199507555,
          44.36627199507555,
          43.9992418020059,
          44.27181649684815,
          44.36627199507555,
          44.23132299502246,
          43.9031965293465,
          44.253212351064384,
          44.3619050726128,
          44.01694450278303,
          44.36627199507555,
          44.36627199507555,
          44.36627199507555,
          45.38189699546124,
          44.36627199507555,
          44.248744497958945,
          44.36627199507555,
          44.36627199507555,
          44.20585158176862,
          45.253380848017294,
          44.36627199507555,
          44.36627199507555,
          42.761107994417564,
          42.76873596951766,
          42.5484123901244,
          42.51322952246851,
          41.18829299371959,
          41.95507799406603,
          40.75313201547512,
          40.64829647074837,
          40.74286772683851,
          40.62073603798782,
          40.60467499344855,
          40.37292712610894,
          40.626189025970554,
          40.430138470854075,
          41.541076993880395,
          41.13832910237755,
          41.36831432786124,
          40.04827899318474,
          40.44232199337214,
          39.18894101922647,
          39.0856492767603,
          38.84368899259749,
          38.785744513135754,
          38.11043082935657,
          37.09210199171305,
          38.11038626469222,
          38.191894052506754,
          37.90887499212908,
          37.90887499212908,
          37.90887499212908,
          37.90887499212908,
          37.90887499212908,
          37.90887499212908,
          42.44827759314581,
          42.13231159727405,
          37.35009799184504,
          37.35009799184504,
          37.35009799184504,
          45.3896662400416,
          45.38189699546124,
          45.38189699546124,
          45.38189699546124,
          45.56004662072468,
          45.43527379432268,
          45.3943736544173,
          45.38189699546124,
          45.108050975916605,
          45.647058511364655,
          45.73669399559013,
          45.66834672123266,
          45.62462832018646,
          44.285488056076005,
          43.977380646400505,
          43.92010499489846,
          43.92010499489846,
          44.60052499516669,
          44.6911474478918,
          44.466841110905854,
          44.18070127691793,
          44.08556904057937,
          43.9835392438219,
          43.796716264339885,
          43.81815133501874,
          43.61251605526459,
          43.73862902237311,
          43.54976980058104,
          43.70067590300171,
          44.09149199496701,
          43.171644059507074,
          42.61673717130432,
          43.819636697292054,
          41.91393833305784,
          43.88151984204095,
          43.600541576456514,
          43.36667712008349,
          42.965554097964024,
          43.18175297863403,
          42.046047512359166,
          41.761551504336545,
          41.63841724313067,
          41.327357724424765,
          41.2194592363616,
          45.38189699546124,
          55.19049099793903,
          55.19049099793903,
          55.19049099793903,
          55.64672248332419,
          55.19049099793903,
          57.02569599818693,
          57.00628699818461,
          55.22169764363028,
          56.11918055045995,
          57.02569599818693,
          51.60869084503944,
          57.023561033771415,
          57.02569599818693,
          57.025301575784184,
          57.02569599818693,
          57.53165900379953,
          57.011640436290534,
          43.694613900441325,
          42.28149399420999,
          40.47607399338808,
          40.47607399338808,
          40.47607399338808,
          40.47607399338808,
          40.47607399338808,
          40.47607399338808,
          40.47607399338808,
          41.72009299396103,
          37.90887499212908,
          37.90887499212908,
          53.493471645254616,
          53.48229999765703,
          53.493570006000425,
          53.45306982965266,
          53.27366483550745,
          53.27366483550745,
          53.490644864606274,
          53.490644864606274,
          53.490644864606274,
          53.285832341014284,
          53.49325229884973,
          53.48229999765703,
          52.57159168670548,
          52.55361435937787,
          52.366509301362285,
          52.23143329518504,
          52.710430143580986,
          52.29625837872171,
          52.88678862004532,
          52.558588747413374,
          52.46001922556851,
          52.56523848450241,
          52.366509301362285,
          52.69705522513361,
          52.49477225552864,
          52.08699658699938,
          52.03222949015597,
          52.22966563590232,
          52.106356478163526,
          52.106356478163526,
          52.366509301362285,
          51.57798379529025,
          51.57798379529025,
          51.66633001158019,
          51.78305830638229,
          51.78305830638229,
          51.78305830638229,
          51.92333696633711,
          51.69488646480094,
          51.92333696633711,
          59.469909998444315,
          63.854110381012184,
          67.21708472870617,
          70.20208699906644,
          59.469909998444315,
          59.469909998444315,
          59.03234796982178,
          58.23489372740176,
          59.10500876497043,
          60.786845811484575,
          62.92985939490578,
          54.42608599781945,
          54.42608599781945,
          54.42608599781945,
          54.42608599781945,
          54.42608599781945,
          54.43058827131767,
          54.42775652384056,
          54.42608599781945,
          54.43872099782148,
          54.432496351701545,
          54.43799427997575,
          54.43352291927846,
          54.43200731168565,
          54.43394749361324,
          54.33483483803634,
          54.43872099782148,
          54.23516114540098,
          54.42608599781945,
          53.824304858987865,
          54.23516114540098,
          53.78092052738645,
          54.405820129516435,
          53.757079997706036,
          53.76550056826478,
          53.757079997706036,
          53.757079997706036,
          53.757079997706036,
          53.757079997706036,
          53.757079997706036,
          53.757079997706036,
          53.757079997706036,
          53.757079997706036,
          54.43872099782148,
          54.43872099782148,
          54.43789290682804,
          54.43872099782148,
          54.43872099782148,
          54.43391572346407,
          54.42692464141688,
          54.42608599781945,
          55.19049099793903,
          54.43872099782148,
          54.43872099782148,
          54.653588156656056,
          54.43872099782148,
          54.43872099782148,
          54.427464246861305,
          54.427464246861305,
          54.42608599781945,
          54.437615395713465,
          54.42608599781945,
          54.42608599781945,
          54.42608599781945,
          54.42608599781945,
          54.432496351701545,
          54.42608599781945,
          54.42608599781945,
          53.757079997706036,
          54.42608599781945,
          54.42608599781945,
          54.42608599781945,
          55.19049099793903,
          54.42608599781945,
          55.19049099793903,
          54.42608599781945,
          54.42608599781945,
          54.42608599781945,
          53.757079997706036,
          54.42608599781945,
          54.42608599781945,
          54.42608599781945,
          54.42608599781945,
          54.42608599781945,
          41.7983201675864,
          41.45864252519096,
          39.755126993043774,
          41.18432599371776,
          39.755126993043774,
          39.755126993043774,
          43.48955462324965,
          41.18432599371776,
          36.978881991655015,
          39.755126993043774,
          40.758063595135944,
          40.28185164379719,
          39.792915581929265,
          40.76068099352161,
          39.755126993043774,
          39.755126993043774,
          40.76068099352161,
          38.515707998778815,
          38.08624623629367,
          39.755126993043774,
          39.563023501522046,
          39.755126993043774,
          38.08624623629367,
          44.91387899528654,
          44.91387899528654,
          44.91387899528654,
          44.91387899528654,
          44.91387899528654,
          44.91387899528654,
          44.91387899528654,
          44.91387899528654,
          44.91387899528654,
          44.91387899528654,
          44.91387899528654,
          44.91387899528654,
          44.91387899528654,
          46.52326512084039,
          46.25864295822734,
          44.91387899528654,
          46.36850658485339,
          45.57327997519292,
          44.91387899528654,
          44.89603148175645,
          44.174324035823986,
          44.91387899528654,
          44.91387899528654,
          44.91387899528654,
          44.637983912032524,
          44.046745139049214,
          44.55378174448923,
          43.293273994642064,
          44.43809285802304,
          44.77361937814548,
          43.279562120906014,
          43.293273994642064,
          44.249226478777175,
          43.04921262921896,
          43.293273994642064,
          42.28149399420999,
          43.26781775807692,
          44.80568547349597,
          42.48679004345778,
          42.28149399420999,
          44.91387899528654,
          42.48010299429654,
          42.435754033707354,
          43.210082994607376,
          42.28149399420999,
          42.28149399420999,
          43.210082994607376,
          42.28149399420999,
          42.28149399420999,
          42.69420700828418,
          42.28149399420999,
          41.877685994031566,
          42.47278124037247,
          42.28149399420999,
          42.28149399420999,
          42.28149399420999,
          42.28149399420999,
          42.28149399420999,
          42.46426523357777,
          42.47257248328308,
          41.87715481573869,
          42.474995827631865,
          41.874248611244816,
          42.28149399420999,
          42.28149399420999,
          42.469494810058364,
          42.48010299429654,
          59.51377798171344,
          60.35246651799875,
          58.75592382366317,
          58.27526776516287,
          58.71990999837302,
          58.759072256073715,
          57.25422796968322,
          56.20092799808203,
          57.09947700462862,
          57.68006997563672,
          56.146559832726524,
          55.90381565999888,
          56.67806687409724,
          58.05983634818878,
          59.023706513260045,
          61.34130899859745,
          61.345236789563444,
          62.93169358083701,
          62.749511998693826,
          66.15551419882428,
          65.72387699886106,
          45.59112499553761,
          45.59112499553761,
          45.084620163156636,
          45.59112499553761,
          45.59112499553761,
          45.59112499553761,
          45.59112499553761,
          45.59112499553761,
          45.59112499553761,
          45.59112499553761,
          45.59112499553761,
          45.59112499553761,
          45.59112499553761,
          45.59112499553761,
          45.59112499553761,
          45.07611099534765,
          45.07611099534765,
          45.07611099534765,
          54.42608599781945,
          45.07611099534765,
          44.08522153991532,
          53.09191899758486,
          53.09191899758486,
          53.09191899758486,
          53.09191899758486,
          53.09191899758486,
          53.09191899758486,
          53.09191899758486,
          50.94671599713196,
          50.94671599713196,
          50.94671599713196,
          50.94671599713196,
          50.94671599713196,
          50.94671599713196,
          50.94671599713196,
          50.94671599713196,
          50.94671599713196,
          50.94671599713196,
          50.94671599713196,
          50.94671599713196,
          50.94671599713196,
          50.94671599713196,
          50.94671599713196,
          49.77648899684208,
          49.77648899684208,
          49.77648899684208,
          49.77648899684208,
          49.77648899684208,
          52.8069259160748,
          50.94671599713196,
          50.94671599713196,
          50.94671599713196,
          50.94671599713196,
          50.94671599713196,
          50.94671599713196,
          50.94671599713196,
          50.94671599713196,
          50.94671599713196,
          50.94671599713196,
          50.94671599713196,
          50.94671599713196,
          50.94671599713196,
          50.94671599713196,
          50.94671599713196,
          50.94671599713196,
          50.94671599713196,
          53.09191899758486,
          50.94671599713196,
          50.94671599713196,
          50.94671599713196,
          49.77648899684208,
          49.77648899684208,
          50.94671599713196,
          49.77648899684208,
          49.77648899684208,
          50.94671599713196,
          50.94671599713196,
          50.94671599713196,
          50.94671599713196,
          50.94671599713196,
          49.77648899684208,
          49.77648899684208,
          50.94671599713196,
          49.77648899684208,
          50.94671599713196,
          50.94671599713196,
          50.99515280022471,
          51.08356697765668,
          50.94671599713196,
          51.05231600715428,
          50.94671599713196,
          50.94671599713196,
          50.94671599713196,
          50.94671599713196,
          50.94671599713196,
          50.94671599713196,
          50.94671599713196,
          50.94671599713196,
          50.94671599713196,
          50.94671599713196,
          50.94671599713196,
          50.94671599713196,
          50.94671599713196,
          50.94671599713196,
          50.94671599713196,
          50.94671599713196,
          50.94671599713196,
          50.94671599713196,
          50.94671599713196,
          50.94671599713196,
          50.94671599713196,
          50.94671599713196,
          50.94671599713196,
          50.94671599713196,
          50.94671599713196,
          50.94671599713196,
          50.94671599713196,
          50.94671599713196,
          50.94671599713196,
          50.94671599713196,
          50.94671599713196,
          49.77648899684208,
          50.94671599713196,
          50.94671599713196,
          50.94671599713196,
          49.89806051173675,
          50.74651894366478,
          50.94671599713196,
          50.94671599713196,
          49.85292440068997,
          49.85292440068997,
          49.77648899684208,
          49.77648899684208,
          49.77648899684208,
          49.77648899684208,
          49.77648899684208,
          49.77648899684208,
          50.94671599713196,
          50.94671599713196,
          50.94671599713196,
          50.94671599713196,
          50.94671599713196,
          49.77648899684208,
          49.77648899684208,
          49.77648899684208,
          49.77648899684208,
          49.77648899684208,
          49.77648899684208,
          49.77648899684208,
          49.77648899684208,
          48.79068711186671,
          49.77648899684208,
          49.77648899684208,
          49.77648899684208,
          49.77648899684208,
          49.77648899684208,
          49.77648899684208,
          49.77648899684208,
          53.09191899758486,
          53.09191899758486,
          49.77648899684208,
          49.77648899684208,
          49.77648899684208,
          49.77648899684208,
          49.77648899684208,
          49.77648899684208,
          58.58807399835986,
          59.200339659884676,
          58.72369682150549,
          58.807839440805765,
          59.456932264062914,
          59.663329998461634,
          60.66500583861482,
          58.58807399835986,
          58.58807399835986,
          53.09191899758486,
          53.09191899758486,
          53.09191899758486,
          58.58807399835986,
          53.09191899758486,
          53.09191899758486,
          53.09191899758486,
          53.09191899758486,
          53.09191899758486,
          53.09191899758486,
          50.94671599713196,
          53.09191899758486,
          50.94671599713196,
          53.09191899758486,
          49.77648899684208,
          49.77648899684208,
          49.77648899684208,
          49.77648899684208,
          49.77648899684208,
          49.77648899684208,
          49.77648899684208,
          49.77648899684208,
          49.77648899684208,
          49.77648899684208,
          49.77648899684208,
          41.72009299396103,
          41.805828547786284,
          41.72009299396103,
          41.877685994031566,
          41.877685994031566,
          41.72988051072899,
          41.72009299396103
         ],
         "legendgroup": "",
         "lon": [
          2.986084000000004,
          19.540099999999995,
          19.393638505351532,
          19.540099999999995,
          19.538546168370797,
          19.371886999999997,
          19.37370185107686,
          19.397695649910425,
          19.334144058261067,
          19.32328754236853,
          19.960083000000004,
          19.960083000000004,
          19.369162654860038,
          13.937683,
          13.813118254105989,
          13.937683,
          13.937683,
          13.937683,
          13.937683,
          13.937683,
          13.813118254105989,
          13.937683,
          13.937683,
          13.937683,
          13.919430392829891,
          13.813118254105989,
          13.813118254105989,
          13.937683,
          13.521123680215487,
          13.937683,
          13.937683,
          13.937683,
          13.937683,
          13.141724000000002,
          13.290775498821462,
          13.25401182350591,
          13.422240742969988,
          13.395805174096386,
          13.141724000000002,
          13.141724000000002,
          13.141724000000002,
          12.414008183921121,
          12.886159495483948,
          13.141724000000002,
          12.328673999999994,
          13.023390084770245,
          12.328673999999994,
          13.813118254105989,
          15.376282,
          16.930115,
          17.049177735826323,
          16.9655614094992,
          18.060082940825843,
          16.930115,
          17.203446573513244,
          17.04426770540341,
          17.288413480143465,
          16.563389965663948,
          15.376282,
          17.184950128430632,
          16.930115,
          17.288413480143465,
          17.33439610250391,
          16.930115,
          16.930115,
          3.531021030145555,
          3.830321999999997,
          3.7441869703384607,
          3.830321999999997,
          3.830321999999997,
          3.830321999999997,
          3.830321999999997,
          3.4272768282360255,
          3.5199215968983935,
          3.3319598338008634,
          3.32200443494126,
          3.2994493317780482,
          3.6504373257852336,
          3.6329974499653335,
          3.763929786140192,
          3.16282670141953,
          2.7532101961398703,
          2.6652914265338934,
          2.9889023247052138,
          2.897223512504452,
          2.93280769369409,
          3.1454570217334843,
          2.600860599113593,
          3.3197753277508633,
          3.315124999999999,
          2.903092496408899,
          3.315124999999999,
          3.315124999999999,
          3.315124999999999,
          3.315124999999999,
          3.315124999999999,
          3.801756826774722,
          3.830321999999997,
          3.830321999999997,
          3.830321999999997,
          3.830321999999997,
          3.502287861494297,
          3.693923429252127,
          3.642937848811674,
          3.4008208753798916,
          3.315124999999999,
          3.4069238110129447,
          3.535715614264313,
          3.315124999999999,
          24.177744013804702,
          24.27330156445715,
          24.489752258954354,
          27.68366090359929,
          24.925902999999998,
          27.673888999999992,
          27.673888999999992,
          28.027943242839456,
          27.96013710749209,
          28.25865740875539,
          27.98738258265414,
          28.1348444324181,
          27.890226005251304,
          27.836153897712705,
          27.67838792395055,
          27.673888999999992,
          27.673888999999992,
          27.673888999999992,
          24.232970380732105,
          24.096585753306204,
          23.714904999999998,
          23.809526763590384,
          23.714904999999998,
          24.925902999999998,
          25.24273950012674,
          24.822885552983863,
          24.925902999999998,
          25.161880017208663,
          8.428711,
          8.652214212843337,
          8.428711,
          8.888915999999996,
          8.649383592829109,
          8.888915999999996,
          8.554185019577849,
          8.888915999999996,
          8.888915999999996,
          8.888915999999996,
          8.888915999999996,
          8.888915999999996,
          8.888915999999996,
          8.888915999999996,
          12.328673999999994,
          12.328673999999994,
          12.328673999999994,
          12.328673999999994,
          12.328673999999994,
          8.888915999999996,
          8.888915999999996,
          8.888915999999996,
          8.888915999999996,
          8.888915999999996,
          8.888915999999996,
          8.888915999999996,
          33.265819536518144,
          14.119689999999995,
          14.119689999999995,
          13.197110892957234,
          13.141724000000002,
          14.119689999999995,
          14.119689999999995,
          14.119689999999995,
          14.119689999999995,
          14.119689999999995,
          13.937683,
          13.937683,
          14.119689999999995,
          13.937683,
          18.696289000000004,
          12.404957646024128,
          12.328673999999994,
          12.468322476882609,
          12.66544738854681,
          12.489475507511727,
          12.530266558757155,
          3.830321999999997,
          3.830321999999997,
          12.910768443969252,
          12.998289760088518,
          8.121704000000001,
          12.979362387183976,
          13.051464369289516,
          3.830321999999997,
          3.830321999999997,
          3.830321999999997,
          3.830321999999997,
          3.830321999999997,
          3.830321999999997,
          3.830321999999997,
          3.830321999999997,
          3.830321999999997,
          12.328673999999994,
          3.830321999999997,
          12.328673999999994,
          8.888915999999996,
          8.888915999999996,
          8.888915999999996,
          3.830321999999997,
          12.328673999999994,
          8.888915999999996,
          12.328673999999994,
          12.328673999999994,
          8.888915999999996,
          8.888915999999996,
          12.328673999999994,
          12.328673999999994,
          12.328673999999994,
          12.68584984171127,
          12.434750861683533,
          12.346362941924706,
          12.328673999999994,
          12.328673999999994,
          12.328673999999994,
          13.141724000000002,
          13.141724000000002,
          13.141724000000002,
          13.141724000000002,
          13.141724000000002,
          13.141724000000002,
          13.141724000000002,
          13.141724000000002,
          13.141724000000002,
          13.141724000000002,
          13.141724000000002,
          13.141724000000002,
          12.829004840506238,
          13.043228196215004,
          13.141724000000002,
          13.141724000000002,
          13.141724000000002,
          13.141724000000002,
          13.141724000000002,
          13.141724000000002,
          13.141724000000002,
          13.141724000000002,
          13.09327612443297,
          13.141724000000002,
          13.141724000000002,
          13.141724000000002,
          13.141724000000002,
          13.141724000000002,
          13.141724000000002,
          13.141724000000002,
          13.141724000000002,
          13.141724000000002,
          13.141724000000002,
          13.141724000000002,
          13.141724000000002,
          13.141724000000002,
          13.141724000000002,
          13.141724000000002,
          13.141724000000002,
          13.141724000000002,
          13.141724000000002,
          13.141724000000002,
          13.141724000000002,
          13.141724000000002,
          14.119689999999995,
          8.121704000000001,
          10.939513999999999,
          8.121704000000001,
          14.119689999999995,
          8.121704000000001,
          10.939513999999999,
          8.121704000000001,
          13.141724000000002,
          14.119689999999995,
          10.939513999999999,
          10.939513999999999,
          8.121704000000001,
          14.119689999999995,
          13.141724000000002,
          13.141724000000002,
          13.141724000000002,
          13.141724000000002,
          13.141724000000002,
          13.141724000000002,
          8.121704000000001,
          13.141724000000002,
          13.141724000000002,
          13.141724000000002,
          13.141724000000002,
          13.141724000000002,
          8.121704000000001,
          8.121704000000001,
          8.121704000000001,
          8.121704000000001,
          8.121704000000001,
          8.121704000000001,
          8.121704000000001,
          8.121704000000001,
          8.121704000000001,
          8.121704000000001,
          8.121704000000001,
          8.121704000000001,
          13.141724000000002,
          12.76732347506062,
          12.454360062329904,
          12.531642043198985,
          13.141724000000002,
          13.141724000000002,
          13.141724000000002,
          12.912563049081465,
          12.683470930919082,
          12.328673999999994,
          12.69338565032959,
          12.784673052671312,
          13.141724000000002,
          12.328673999999994,
          14.119689999999995,
          14.119689999999995,
          14.119689999999995,
          14.119689999999995,
          14.119689999999995,
          14.119689999999995,
          14.119689999999995,
          14.119689999999995,
          14.119689999999995,
          14.119689999999995,
          14.119689999999995,
          14.119689999999995,
          14.119689999999995,
          14.119689999999995,
          14.119689999999995,
          11.33573878615451,
          14.119689999999995,
          14.119689999999995,
          14.119689999999995,
          8.121704000000001,
          8.314084303487732,
          10.939513999999999,
          3.830321999999997,
          3.830321999999997,
          8.121704000000001,
          3.830321999999997,
          3.830321999999997,
          3.830321999999997,
          3.830321999999997,
          8.121704000000001,
          8.121704000000001,
          3.830321999999997,
          3.830321999999997,
          3.830321999999997,
          3.830321999999997,
          8.121704000000001,
          8.121704000000001,
          8.121704000000001,
          3.830321999999997,
          8.121704000000001,
          8.121704000000001,
          8.121704000000001,
          8.121704000000001,
          8.121704000000001,
          8.121704000000001,
          8.121704000000001,
          8.121704000000001,
          8.121704000000001,
          11.956298999999994,
          11.17675286833015,
          13.909286464089773,
          11.956298999999994,
          13.047054007705992,
          11.356058633873245,
          13.442853909302984,
          11.488282789886721,
          10.939513999999999,
          10.939513999999999,
          10.939513999999999,
          10.939513999999999,
          10.939513999999999,
          10.939513999999999,
          8.121704000000001,
          10.939513999999999,
          10.939513999999999,
          8.121704000000001,
          8.121704000000001,
          8.121704000000001,
          8.121704000000001,
          8.121704000000001,
          8.121704000000001,
          8.121704000000001,
          8.121704000000001,
          10.939513999999999,
          8.620939372684195,
          10.939513999999999,
          10.939513999999999,
          10.939513999999999,
          8.142336080394905,
          8.288647222880073,
          8.369115968231394,
          8.719593845458341,
          10.939513999999999,
          8.121704000000001,
          8.121704000000001,
          6.905273000000005,
          8.121704000000001,
          8.121704000000001,
          8.115772773363918,
          8.121704000000001,
          7.437820922572343,
          8.121704000000001,
          6.905273000000005,
          8.045460277397465,
          6.905273000000005,
          6.905273000000005,
          8.121704000000001,
          8.121704000000001,
          8.121704000000001,
          8.121704000000001,
          7.751254492731245,
          3.9856502183763,
          4.090814749621397,
          4.136468327810383,
          4.0145011068138565,
          3.9261308224040814,
          4.0985309654404105,
          4.131271998187046,
          4.021417117824555,
          4.000406055396328,
          4.050375812390938,
          4.191294724345987,
          4.023331058402371,
          3.963690494570204,
          3.952796828189933,
          4.1918304547169,
          3.830321999999997,
          3.864323573698156,
          3.9265856969513586,
          3.830321999999997,
          3.830321999999997,
          3.830321999999997,
          3.830321999999997,
          3.988860492633889,
          3.911691814098294,
          3.830321999999997,
          3.830321999999997,
          4.1630374775933685,
          4.175926110340558,
          6.905273000000005,
          6.905273000000005,
          6.905273000000005,
          6.905273000000005,
          6.905273000000005,
          8.121704000000001,
          8.121704000000001,
          8.121704000000001,
          8.121704000000001,
          8.121704000000001,
          8.121704000000001,
          8.121704000000001,
          8.121704000000001,
          6.905273000000005,
          6.905273000000005,
          6.905273000000005,
          8.121704000000001,
          6.905273000000005,
          4.098740048593126,
          8.121704000000001,
          6.905273000000005,
          8.121704000000001,
          8.121704000000001,
          8.121704000000001,
          6.905273000000005,
          3.830321999999997,
          3.830321999999997,
          3.830321999999997,
          3.830321999999997,
          3.830321999999997,
          3.830321999999997,
          3.830321999999997,
          3.830321999999997,
          3.830321999999997,
          3.830321999999997,
          3.830321999999997,
          3.830321999999997,
          3.830321999999997,
          3.830321999999997,
          3.830321999999997,
          3.830321999999997,
          3.830321999999997,
          3.830321999999997,
          3.830321999999997,
          3.830321999999997,
          3.830321999999997,
          3.830321999999997,
          3.830321999999997,
          3.830321999999997,
          3.830321999999997,
          3.830321999999997,
          3.830321999999997,
          3.830321999999997,
          3.830321999999997,
          3.830321999999997,
          3.830321999999997,
          3.830321999999997,
          3.830321999999997,
          3.830321999999997,
          3.830321999999997,
          3.830321999999997,
          3.830321999999997,
          3.8284438744015836,
          3.830321999999997,
          3.8155491394029957,
          3.830321999999997,
          3.830321999999997,
          14.119689999999995,
          14.119689999999995,
          14.119689999999995,
          14.119689999999995,
          14.119689999999995,
          14.119689999999995,
          14.119689999999995,
          14.119689999999995,
          14.119689999999995,
          14.119689999999995,
          14.119689999999995,
          14.119689999999995,
          14.119689999999995,
          14.119689999999995,
          10.939513999999999,
          10.939513999999999,
          10.939513999999999,
          10.939513999999999,
          10.939513999999999,
          10.939513999999999,
          10.939513999999999,
          8.121704000000001,
          10.939513999999999,
          10.939513999999999,
          10.939513999999999,
          11.100455574878676,
          14.119689999999995,
          9.930263637434624,
          10.257848910125398,
          10.939513999999999,
          10.281867317036184,
          8.800720000000004,
          10.939513999999999,
          8.565896634404517,
          10.943071840269281,
          8.800720000000004,
          10.616320719996182,
          9.939696999999997,
          9.939696999999997,
          10.939513999999999,
          10.939513999999999,
          10.939513999999999,
          10.939513999999999,
          14.119689999999995,
          10.939513999999999,
          8.121704000000001,
          10.939513999999999,
          8.121704000000001,
          10.939513999999999,
          8.121704000000001,
          10.939513999999999,
          8.121704000000001,
          8.121704000000001,
          10.939513999999999,
          8.121704000000001,
          10.939513999999999,
          10.939513999999999,
          10.939513999999999,
          10.939513999999999,
          10.939513999999999,
          10.939513999999999,
          14.119689999999995,
          14.119689999999995,
          8.121704000000001,
          8.121704000000001,
          12.829438249418363,
          12.829438249418363,
          12.74374512774824,
          14.100707999999996,
          12.866968382924433,
          12.942871000000004,
          9.77590990845116,
          9.998041195036866,
          8.103717112288164,
          10.370117,
          9.416528640351304,
          24.429077000000003,
          23.375775911412696,
          24.429077000000003,
          24.429077000000003,
          24.429077000000003,
          24.02898512894063,
          23.583354208478614,
          24.03141052626771,
          23.62224039202045,
          23.925693464038652,
          23.32967962527682,
          23.58099338885992,
          26.3539613877107,
          26.94295257716142,
          26.36022076089479,
          27.378605335840355,
          24.040099999999995,
          23.154297000000003,
          27.64129599999999,
          23.154297000000003,
          23.154297000000003,
          26.056885000000012,
          24.925902999999998,
          25.33372441209996,
          24.279512289263035,
          24.461667503632235,
          22.688139264216975,
          22.814087000000004,
          22.814087000000004,
          22.814087000000004,
          22.626281999999996,
          23.714904999999998,
          23.06363269265145,
          22.626281999999996,
          22.626281999999996,
          22.626281999999996,
          20.58193969653502,
          20.18750801572272,
          20.162329693793264,
          22.849669999999993,
          22.824614192291772,
          23.350098000000003,
          21.24366066663011,
          19.980103000000003,
          21.146163165767057,
          20.684673511836255,
          20.966783858518344,
          21.20175636121818,
          21.304141370108926,
          23.41403786845987,
          23.841697401403824,
          20.894624109459393,
          22.973083,
          22.973083,
          23.198511324522947,
          23.115111999999996,
          21.582345697256066,
          -8.517918190834806,
          -7.361411528945297,
          -9.00007566467588,
          -8.995211009671888,
          -5.979270074634098,
          -4.012819481174411,
          -2.6697684076191,
          -2.201729560744099,
          -2.6865386958149284,
          -1.9013060000000046,
          -2.4737133167295062,
          0.8104860000000043,
          0.06088872005545044,
          0.8104860000000043,
          -0.1830983631678303,
          -4.3477780000000035,
          -3.7946067578995244,
          -5.551970905021918,
          -4.3477780000000035,
          -8.774591485447308,
          -4.3477780000000035,
          -2.3807503230158273,
          -4.3477780000000035,
          -5.707291908367657,
          -0.2786870000000087,
          -4.048208405497922,
          -0.16808496231245934,
          -0.03694393730712156,
          -0.2786870000000087,
          -8.84002699999999,
          -9.048279000000031,
          2.238618253041475,
          3.0304703733298135,
          0.8104860000000043,
          1.2525814969310964,
          -0.44587900146446746,
          0.08551062055448985,
          -0.2219972311949343,
          0.11132800000000093,
          2.0919189999999994,
          2.3642703136823653,
          -2.4539383012610303,
          -6.30714630652148,
          -4.368895999999999,
          -3.631781398238394,
          -7.009710883968137,
          -3.8468840345763633,
          -4.385155862754612,
          -6.520202999999915,
          -0.6034956358479304,
          22.150305807581038,
          21.881369715041227,
          21.615735144265805,
          21.526062691714444,
          21.544922000000007,
          24.950939461975643,
          22.349474720636454,
          24.94901167923036,
          26.255310000000012,
          27.27855344810305,
          28.070129000000005,
          27.96191127713547,
          23.981485750757273,
          28.070129000000005,
          22.85896183250009,
          23.903502999999994,
          25.398070999999998,
          25.368941231150067,
          26.255310000000012,
          1.3386840000000024,
          1.3386840000000024,
          0.9098984960072828,
          0.9863093762239618,
          1.2604704710054904,
          1.3386840000000024,
          1.3386840000000024,
          1.3386840000000024,
          -1.1937869999999082,
          0.2550109376753125,
          -1.1937869999999082,
          -1.4440373381362264,
          -0.09944312979474264,
          0.6892561785756762,
          1.3386840000000024,
          1.3386840000000024,
          4.556885000000002,
          1.3386840000000024,
          8.428711,
          8.428711,
          8.428711,
          8.856814127453818,
          -0.6983370760076121,
          -1.7319559283951145,
          -0.5906692092190582,
          0.4075937184056852,
          0.7228738773519889,
          2.755951737863041,
          2.053836542424512,
          1.3386840000000024,
          1.3386840000000024,
          1.3386840000000024,
          3.8024599961441647,
          8.888915999999996,
          3.315124999999999,
          1.3386840000000024,
          1.3386840000000024,
          1.3386840000000024,
          3.315124999999999,
          3.315124999999999,
          3.5299910914932036,
          3.315124999999999,
          -2.2257080000000355,
          -1.8351291767706872,
          -1.6165159999999636,
          -1.6165159999999636,
          -1.7047713446516846,
          -2.662839073921909,
          -4.526962908506676,
          -1.6165159999999636,
          -3.0676615084712986,
          -1.2671994497406558,
          -1.3019616185150533,
          -1.3842159999999912,
          -1.3541827038201018,
          -1.6363472795228529,
          -1.2385546120497128,
          -1.1937869999999082,
          -1.2061742360630836,
          -1.212741947155323,
          -1.2175370095653535,
          -1.3346938574755534,
          4.556885000000002,
          3.086992697809444,
          4.385233572776454,
          3.4409110666586264,
          4.075620981413654,
          3.001778486507784,
          3.0453000433476163,
          3.107946644941087,
          3.100525000000004,
          -1.3842159999999912,
          3.100525000000004,
          -1.562255871229244,
          3.100525000000004,
          3.100525000000004,
          4.556885000000002,
          3.47375257379437,
          4.556885000000002,
          4.1271069497793285,
          4.556885000000002,
          4.556885000000002,
          4.878732065492093,
          7.435302999999999,
          -1.1937869999999082,
          4.556885000000002,
          8.428711,
          8.428711,
          7.0044334079978166,
          7.410745219351221,
          7.435302999999999,
          5.2386778176959945,
          6.160346695305218,
          4.964292605438241,
          10.546180764325005,
          10.512085000000003,
          14.901672000000003,
          14.901672000000003,
          15.376282,
          15.376282,
          15.376282,
          16.930115,
          14.901672000000003,
          14.901672000000003,
          14.720821739158136,
          15.208096482730769,
          15.366061027215782,
          15.76716536959705,
          16.677971877617555,
          13.731539241713676,
          17.368465044751034,
          14.901672000000003,
          14.901672000000003,
          14.901672000000003,
          14.901672000000003,
          14.901672000000003,
          14.901672000000003,
          14.901672000000003,
          14.901672000000003,
          14.901672000000003,
          14.901672000000003,
          14.901672000000003,
          14.901672000000003,
          14.901672000000003,
          14.901672000000003,
          14.901672000000003,
          14.901672000000003,
          14.901672000000003,
          14.901672000000003,
          14.901672000000003,
          14.901672000000003,
          14.901672000000003,
          14.901672000000003,
          28.83789099999999,
          14.901672000000003,
          16.930115,
          14.901672000000003,
          -1.933410999999899,
          -1.933410999999899,
          -1.933410999999899,
          -4.59228500000003,
          -4.59228500000003,
          -1.933410999999899,
          -1.933410999999899,
          -1.933410999999899,
          -1.933410999999899,
          4.992126000000004,
          4.992126000000004,
          8.428711,
          8.888915999999996,
          8.766666930213578,
          8.888915999999996,
          8.888915999999996,
          8.138054716041877,
          8.565845017987309,
          8.888915999999996,
          8.428711,
          8.018754332168538,
          8.502740288729859,
          8.899851724108789,
          9.786315660388825,
          8.888915999999996,
          8.888915999999996,
          8.888915999999996,
          12.328673999999994,
          8.888915999999996,
          9.181635526205417,
          8.888915999999996,
          8.888915999999996,
          9.28765106002355,
          12.343060418818286,
          8.888915999999996,
          8.888915999999996,
          14.029907000000003,
          14.02533490561054,
          14.32808147838374,
          14.377084334746423,
          13.628112999999997,
          15.142699999999996,
          14.180039312264963,
          14.550812115828517,
          14.216613109613077,
          14.647279884286872,
          14.703308,
          17.241423954810887,
          17.935115091540716,
          18.25587844646859,
          15.889281999999996,
          16.886628246856105,
          16.32127914923644,
          15.413696000000005,
          16.869690000000002,
          15.959034157062682,
          17.094187370638238,
          16.635070999999996,
          15.92737769971583,
          15.686721420827173,
          11.028930999999996,
          15.6867208308166,
          15.687804719720216,
          15.684082,
          15.684082,
          15.684082,
          15.684082,
          15.684082,
          15.684082,
          11.083685777545334,
          11.50912827009654,
          9.510071000000002,
          9.510071000000002,
          9.510071000000002,
          12.346210355767965,
          12.328673999999994,
          12.328673999999994,
          12.328673999999994,
          12.733761830677757,
          12.449390317345648,
          12.356841398255064,
          12.328673999999994,
          12.359256458289407,
          12.93391672469079,
          13.141724000000002,
          13.520026961855631,
          13.75771075770319,
          9.090474211303926,
          9.956385551945221,
          10.200073000000001,
          10.200073000000001,
          12.261475000000006,
          12.300261948396203,
          12.348199417144379,
          12.532310858082997,
          12.600506748985696,
          9.930006643708062,
          10.239623591170655,
          10.232765557119881,
          10.298339084991206,
          10.258181581011538,
          10.318251252405167,
          10.270286008134642,
          12.589293999999997,
          10.437305888023351,
          10.885922356298689,
          13.099251757236157,
          11.815848524711246,
          12.984003332007383,
          13.503426202924793,
          13.662928003036908,
          13.906923856375561,
          13.77586354146716,
          11.630715847211906,
          12.027807399694348,
          12.222523273649232,
          12.761106375023148,
          13.280326486537588,
          12.328673999999994,
          21.268493999999986,
          21.268493999999986,
          21.268493999999986,
          21.15399729146772,
          21.268493999999986,
          24.120727999999996,
          23.31848099999999,
          21.26072709749179,
          21.05980518549688,
          24.120727999999996,
          3.8079860382454798,
          24.02130621743764,
          24.120727999999996,
          24.102089278447416,
          24.120727999999996,
          24.246227823329978,
          23.52036478406282,
          7.439246546674727,
          18.882080000000006,
          22.814087000000004,
          22.814087000000004,
          22.814087000000004,
          22.814087000000004,
          22.814087000000004,
          22.814087000000004,
          22.814087000000004,
          19.540099999999995,
          15.684082,
          15.684082,
          6.595768919012588,
          6.905273000000005,
          6.59294241236079,
          5.881981966603374,
          5.290824720106152,
          5.290824720106152,
          6.676201406382409,
          6.676201406382409,
          6.676201406382409,
          5.330469938195459,
          6.602065238519625,
          6.905273000000005,
          4.389649891043384,
          4.378851967388674,
          4.266996763820275,
          4.186838259999993,
          4.473344503015823,
          4.225246022137087,
          4.580436933567699,
          4.38183889512709,
          4.322778904535621,
          4.385832874237259,
          4.266996763820275,
          4.465258418793831,
          4.343571384174913,
          4.101667191009528,
          4.06951742002743,
          4.185792536611935,
          4.113050996128571,
          4.113050996128571,
          4.266996763820275,
          3.749912802288135,
          3.749912802288135,
          3.8567392100427424,
          3.924241783058538,
          3.924241783058538,
          3.924241783058538,
          4.0058295526037355,
          3.8732207118438566,
          4.0058295526037355,
          10.356688999999998,
          9.296690983371533,
          13.978037750599254,
          23.023682000000004,
          10.356688999999998,
          10.356688999999998,
          9.588756768218609,
          7.925799079617238,
          5.4969196316418945,
          5.160832989835442,
          6.871309114241948,
          19.660706000000005,
          19.660706000000005,
          19.660706000000005,
          19.660706000000005,
          19.660706000000005,
          19.376753614419485,
          19.56006036456454,
          19.660706000000005,
          18.696289000000004,
          19.242005617294996,
          18.772724674013432,
          19.164834570120036,
          19.277549536659787,
          19.131810394111238,
          15.749186980545518,
          18.696289000000004,
          15.412915197464205,
          19.660706000000005,
          14.274467642836958,
          15.412915197464205,
          14.174470773022511,
          15.991618692958484,
          14.119689999999995,
          14.139025112717643,
          14.119689999999995,
          14.119689999999995,
          14.119689999999995,
          14.119689999999995,
          14.119689999999995,
          14.119689999999995,
          14.119689999999995,
          14.119689999999995,
          18.696289000000004,
          18.696289000000004,
          18.783007603186526,
          18.696289000000004,
          18.696289000000004,
          19.134305515543417,
          19.610797438396013,
          19.660706000000005,
          21.268493999999986,
          18.696289000000004,
          18.696289000000004,
          16.87725459147589,
          18.696289000000004,
          18.696289000000004,
          19.57803199555264,
          19.57803199555264,
          19.660706000000005,
          18.810725098876016,
          19.660706000000005,
          19.660706000000005,
          19.660706000000005,
          19.660706000000005,
          19.242005617294996,
          19.660706000000005,
          19.660706000000005,
          14.119689999999995,
          19.660706000000005,
          19.660706000000005,
          19.660706000000005,
          21.268493999999986,
          19.660706000000005,
          21.268493999999986,
          19.660706000000005,
          19.660706000000005,
          19.660706000000005,
          14.119689999999995,
          19.660706000000005,
          19.660706000000005,
          19.660706000000005,
          19.660706000000005,
          19.660706000000005,
          -9.023956014430409,
          -8.943234499550638,
          -9.048279000000031,
          -8.79077099999993,
          -9.048279000000031,
          -9.048279000000031,
          -4.874204377215893,
          -8.79077099999993,
          -8.382812000000008,
          -9.048279000000031,
          -8.769591315243245,
          -8.935017317425666,
          -9.041657160011008,
          -8.768677000000043,
          -9.048279000000031,
          -9.048279000000031,
          -8.768677000000043,
          -9.38614655072952,
          -8.812196885401171,
          -9.048279000000031,
          -9.25991652005927,
          -9.048279000000031,
          -8.812196885401171,
          28.83789099999999,
          28.83789099999999,
          28.83789099999999,
          28.83789099999999,
          28.83789099999999,
          28.83789099999999,
          28.83789099999999,
          28.83789099999999,
          28.83789099999999,
          28.83789099999999,
          28.83789099999999,
          28.83789099999999,
          28.83789099999999,
          30.708044838572402,
          30.52891610114476,
          28.83789099999999,
          30.602996135355344,
          29.892988514076013,
          28.83789099999999,
          28.83361957141151,
          28.664252240651745,
          28.83789099999999,
          28.83789099999999,
          28.83789099999999,
          28.772313783943453,
          28.634981501534654,
          28.75249112838385,
          28.039123999999994,
          28.725400315013207,
          28.804432249094685,
          28.03201172791045,
          28.039123999999994,
          28.68152961386406,
          27.913191577553825,
          28.039123999999994,
          18.882080000000006,
          28.025923525294527,
          28.81205950261618,
          18.433371564679593,
          18.882080000000006,
          28.83789099999999,
          18.450072999999993,
          18.547124455169296,
          16.930115,
          18.882080000000006,
          18.882080000000006,
          16.930115,
          18.882080000000006,
          18.882080000000006,
          17.91007792521506,
          18.882080000000006,
          19.371886999999997,
          18.466119089281957,
          18.882080000000006,
          18.882080000000006,
          18.882080000000006,
          18.882080000000006,
          18.882080000000006,
          18.484770767038338,
          18.466576457362976,
          19.37245586121454,
          18.461266661648487,
          19.375568011013485,
          18.882080000000006,
          18.882080000000006,
          18.473318486946006,
          18.450072999999993,
          18.316641117058502,
          18.326572841422173,
          16.98616244188831,
          16.724268597276403,
          16.829284999999995,
          16.999930441241634,
          16.49396280814552,
          14.666687000000001,
          16.460310306087457,
          16.588238538288053,
          15.367572605730498,
          12.762511307397398,
          12.357284212554912,
          11.46305764922207,
          10.846805699017349,
          17.119689999999995,
          17.121623892717135,
          18.242980784977288,
          17.8479,
          12.677219665588924,
          22.183288999999995,
          13.937683,
          13.937683,
          14.867489509964049,
          13.937683,
          13.937683,
          13.937683,
          13.937683,
          13.937683,
          13.937683,
          13.937683,
          13.937683,
          13.937683,
          13.937683,
          13.937683,
          13.937683,
          14.901672000000003,
          14.901672000000003,
          14.901672000000003,
          19.660706000000005,
          14.901672000000003,
          12.601164459414214,
          4.706116,
          4.706116,
          4.706116,
          4.706116,
          4.706116,
          4.706116,
          4.706116,
          1.6390989999999994,
          1.6390989999999994,
          1.6390989999999994,
          1.6390989999999994,
          1.6390989999999994,
          1.6390989999999994,
          1.6390989999999994,
          1.6390989999999994,
          1.6390989999999994,
          1.6390989999999994,
          1.6390989999999994,
          1.6390989999999994,
          1.6390989999999994,
          1.6390989999999994,
          1.6390989999999994,
          -1.933410999999899,
          -1.933410999999899,
          -1.933410999999899,
          -1.933410999999899,
          -1.933410999999899,
          4.531831986672702,
          1.6390989999999994,
          1.6390989999999994,
          1.6390989999999994,
          1.6390989999999994,
          1.6390989999999994,
          1.6390989999999994,
          1.6390989999999994,
          1.6390989999999994,
          1.6390989999999994,
          1.6390989999999994,
          1.6390989999999994,
          1.6390989999999994,
          1.6390989999999994,
          1.6390989999999994,
          1.6390989999999994,
          1.6390989999999994,
          1.6390989999999994,
          4.706116,
          1.6390989999999994,
          1.6390989999999994,
          1.6390989999999994,
          -1.933410999999899,
          -1.933410999999899,
          1.6390989999999994,
          -1.933410999999899,
          -1.933410999999899,
          1.6390989999999994,
          1.6390989999999994,
          1.6390989999999994,
          1.6390989999999994,
          1.6390989999999994,
          -1.933410999999899,
          -1.933410999999899,
          1.6390989999999994,
          -1.933410999999899,
          1.6390989999999994,
          1.6390989999999994,
          1.845765115847051,
          2.228198694189365,
          1.6390989999999994,
          2.0922422081293974,
          1.6390989999999994,
          1.6390989999999994,
          1.6390989999999994,
          1.6390989999999994,
          1.6390989999999994,
          1.6390989999999994,
          1.6390989999999994,
          1.6390989999999994,
          1.6390989999999994,
          1.6390989999999994,
          1.6390989999999994,
          1.6390989999999994,
          1.6390989999999994,
          1.6390989999999994,
          1.6390989999999994,
          1.6390989999999994,
          1.6390989999999994,
          1.6390989999999994,
          1.6390989999999994,
          1.6390989999999994,
          1.6390989999999994,
          1.6390989999999994,
          1.6390989999999994,
          1.6390989999999994,
          1.6390989999999994,
          1.6390989999999994,
          1.6390989999999994,
          1.6390989999999994,
          1.6390989999999994,
          1.6390989999999994,
          1.6390989999999994,
          -1.933410999999899,
          1.6390989999999994,
          1.6390989999999994,
          1.6390989999999994,
          0.6318295223222271,
          1.5648197240278459,
          1.6390989999999994,
          1.6390989999999994,
          0.4949731281624936,
          0.4949731281624936,
          -1.933410999999899,
          -1.933410999999899,
          -1.933410999999899,
          -1.933410999999899,
          -1.933410999999899,
          -1.933410999999899,
          1.6390989999999994,
          1.6390989999999994,
          1.6390989999999994,
          1.6390989999999994,
          1.6390989999999994,
          -1.933410999999899,
          -1.933410999999899,
          -1.933410999999899,
          -1.933410999999899,
          -1.933410999999899,
          -1.933410999999899,
          -1.933410999999899,
          -1.933410999999899,
          -3.9695403882507647,
          -1.933410999999899,
          -1.933410999999899,
          -1.933410999999899,
          -1.933410999999899,
          -1.933410999999899,
          -1.933410999999899,
          -1.933410999999899,
          4.706116,
          4.706116,
          -1.933410999999899,
          -1.933410999999899,
          -1.933410999999899,
          -1.933410999999899,
          -1.933410999999899,
          -1.933410999999899,
          5.665894,
          5.465171480853612,
          5.622073592127042,
          5.594705527309001,
          5.378784170988423,
          5.3082889999999985,
          5.1773903443900355,
          5.665894,
          5.665894,
          4.706116,
          4.706116,
          4.706116,
          5.665894,
          4.706116,
          4.706116,
          4.706116,
          4.706116,
          4.706116,
          4.706116,
          1.6390989999999994,
          4.706116,
          1.6390989999999994,
          4.706116,
          -1.933410999999899,
          -1.933410999999899,
          -1.933410999999899,
          -1.933410999999899,
          -1.933410999999899,
          -1.933410999999899,
          -1.933410999999899,
          -1.933410999999899,
          -1.933410999999899,
          -1.933410999999899,
          -1.933410999999899,
          19.540099999999995,
          19.448725916710544,
          19.540099999999995,
          19.371886999999997,
          19.371886999999997,
          19.529685500500737,
          19.540099999999995
         ],
         "marker": {
          "color": "#636efa"
         },
         "mode": "markers",
         "name": "",
         "showlegend": false,
         "subplot": "map",
         "type": "scattermap"
        }
       ],
       "layout": {
        "legend": {
         "tracegroupgap": 0
        },
        "map": {
         "center": {
          "lat": 48.57562690734943,
          "lon": 10.162425429819242
         },
         "domain": {
          "x": [
           0,
           1
          ],
          "y": [
           0,
           1
          ]
         },
         "zoom": 8
        },
        "mapbox": {
         "center": {
          "lat": 48.57562690734943,
          "lon": 10.162425429819242
         },
         "zoom": 8
        },
        "margin": {
         "t": 60
        },
        "template": {
         "data": {
          "bar": [
           {
            "error_x": {
             "color": "#2a3f5f"
            },
            "error_y": {
             "color": "#2a3f5f"
            },
            "marker": {
             "line": {
              "color": "#E5ECF6",
              "width": 0.5
             },
             "pattern": {
              "fillmode": "overlay",
              "size": 10,
              "solidity": 0.2
             }
            },
            "type": "bar"
           }
          ],
          "barpolar": [
           {
            "marker": {
             "line": {
              "color": "#E5ECF6",
              "width": 0.5
             },
             "pattern": {
              "fillmode": "overlay",
              "size": 10,
              "solidity": 0.2
             }
            },
            "type": "barpolar"
           }
          ],
          "carpet": [
           {
            "aaxis": {
             "endlinecolor": "#2a3f5f",
             "gridcolor": "white",
             "linecolor": "white",
             "minorgridcolor": "white",
             "startlinecolor": "#2a3f5f"
            },
            "baxis": {
             "endlinecolor": "#2a3f5f",
             "gridcolor": "white",
             "linecolor": "white",
             "minorgridcolor": "white",
             "startlinecolor": "#2a3f5f"
            },
            "type": "carpet"
           }
          ],
          "choropleth": [
           {
            "colorbar": {
             "outlinewidth": 0,
             "ticks": ""
            },
            "type": "choropleth"
           }
          ],
          "contour": [
           {
            "colorbar": {
             "outlinewidth": 0,
             "ticks": ""
            },
            "colorscale": [
             [
              0,
              "#0d0887"
             ],
             [
              0.1111111111111111,
              "#46039f"
             ],
             [
              0.2222222222222222,
              "#7201a8"
             ],
             [
              0.3333333333333333,
              "#9c179e"
             ],
             [
              0.4444444444444444,
              "#bd3786"
             ],
             [
              0.5555555555555556,
              "#d8576b"
             ],
             [
              0.6666666666666666,
              "#ed7953"
             ],
             [
              0.7777777777777778,
              "#fb9f3a"
             ],
             [
              0.8888888888888888,
              "#fdca26"
             ],
             [
              1,
              "#f0f921"
             ]
            ],
            "type": "contour"
           }
          ],
          "contourcarpet": [
           {
            "colorbar": {
             "outlinewidth": 0,
             "ticks": ""
            },
            "type": "contourcarpet"
           }
          ],
          "heatmap": [
           {
            "colorbar": {
             "outlinewidth": 0,
             "ticks": ""
            },
            "colorscale": [
             [
              0,
              "#0d0887"
             ],
             [
              0.1111111111111111,
              "#46039f"
             ],
             [
              0.2222222222222222,
              "#7201a8"
             ],
             [
              0.3333333333333333,
              "#9c179e"
             ],
             [
              0.4444444444444444,
              "#bd3786"
             ],
             [
              0.5555555555555556,
              "#d8576b"
             ],
             [
              0.6666666666666666,
              "#ed7953"
             ],
             [
              0.7777777777777778,
              "#fb9f3a"
             ],
             [
              0.8888888888888888,
              "#fdca26"
             ],
             [
              1,
              "#f0f921"
             ]
            ],
            "type": "heatmap"
           }
          ],
          "heatmapgl": [
           {
            "colorbar": {
             "outlinewidth": 0,
             "ticks": ""
            },
            "colorscale": [
             [
              0,
              "#0d0887"
             ],
             [
              0.1111111111111111,
              "#46039f"
             ],
             [
              0.2222222222222222,
              "#7201a8"
             ],
             [
              0.3333333333333333,
              "#9c179e"
             ],
             [
              0.4444444444444444,
              "#bd3786"
             ],
             [
              0.5555555555555556,
              "#d8576b"
             ],
             [
              0.6666666666666666,
              "#ed7953"
             ],
             [
              0.7777777777777778,
              "#fb9f3a"
             ],
             [
              0.8888888888888888,
              "#fdca26"
             ],
             [
              1,
              "#f0f921"
             ]
            ],
            "type": "heatmapgl"
           }
          ],
          "histogram": [
           {
            "marker": {
             "pattern": {
              "fillmode": "overlay",
              "size": 10,
              "solidity": 0.2
             }
            },
            "type": "histogram"
           }
          ],
          "histogram2d": [
           {
            "colorbar": {
             "outlinewidth": 0,
             "ticks": ""
            },
            "colorscale": [
             [
              0,
              "#0d0887"
             ],
             [
              0.1111111111111111,
              "#46039f"
             ],
             [
              0.2222222222222222,
              "#7201a8"
             ],
             [
              0.3333333333333333,
              "#9c179e"
             ],
             [
              0.4444444444444444,
              "#bd3786"
             ],
             [
              0.5555555555555556,
              "#d8576b"
             ],
             [
              0.6666666666666666,
              "#ed7953"
             ],
             [
              0.7777777777777778,
              "#fb9f3a"
             ],
             [
              0.8888888888888888,
              "#fdca26"
             ],
             [
              1,
              "#f0f921"
             ]
            ],
            "type": "histogram2d"
           }
          ],
          "histogram2dcontour": [
           {
            "colorbar": {
             "outlinewidth": 0,
             "ticks": ""
            },
            "colorscale": [
             [
              0,
              "#0d0887"
             ],
             [
              0.1111111111111111,
              "#46039f"
             ],
             [
              0.2222222222222222,
              "#7201a8"
             ],
             [
              0.3333333333333333,
              "#9c179e"
             ],
             [
              0.4444444444444444,
              "#bd3786"
             ],
             [
              0.5555555555555556,
              "#d8576b"
             ],
             [
              0.6666666666666666,
              "#ed7953"
             ],
             [
              0.7777777777777778,
              "#fb9f3a"
             ],
             [
              0.8888888888888888,
              "#fdca26"
             ],
             [
              1,
              "#f0f921"
             ]
            ],
            "type": "histogram2dcontour"
           }
          ],
          "mesh3d": [
           {
            "colorbar": {
             "outlinewidth": 0,
             "ticks": ""
            },
            "type": "mesh3d"
           }
          ],
          "parcoords": [
           {
            "line": {
             "colorbar": {
              "outlinewidth": 0,
              "ticks": ""
             }
            },
            "type": "parcoords"
           }
          ],
          "pie": [
           {
            "automargin": true,
            "type": "pie"
           }
          ],
          "scatter": [
           {
            "fillpattern": {
             "fillmode": "overlay",
             "size": 10,
             "solidity": 0.2
            },
            "type": "scatter"
           }
          ],
          "scatter3d": [
           {
            "line": {
             "colorbar": {
              "outlinewidth": 0,
              "ticks": ""
             }
            },
            "marker": {
             "colorbar": {
              "outlinewidth": 0,
              "ticks": ""
             }
            },
            "type": "scatter3d"
           }
          ],
          "scattercarpet": [
           {
            "marker": {
             "colorbar": {
              "outlinewidth": 0,
              "ticks": ""
             }
            },
            "type": "scattercarpet"
           }
          ],
          "scattergeo": [
           {
            "marker": {
             "colorbar": {
              "outlinewidth": 0,
              "ticks": ""
             }
            },
            "type": "scattergeo"
           }
          ],
          "scattergl": [
           {
            "marker": {
             "colorbar": {
              "outlinewidth": 0,
              "ticks": ""
             }
            },
            "type": "scattergl"
           }
          ],
          "scattermapbox": [
           {
            "marker": {
             "colorbar": {
              "outlinewidth": 0,
              "ticks": ""
             }
            },
            "type": "scattermapbox"
           }
          ],
          "scatterpolar": [
           {
            "marker": {
             "colorbar": {
              "outlinewidth": 0,
              "ticks": ""
             }
            },
            "type": "scatterpolar"
           }
          ],
          "scatterpolargl": [
           {
            "marker": {
             "colorbar": {
              "outlinewidth": 0,
              "ticks": ""
             }
            },
            "type": "scatterpolargl"
           }
          ],
          "scatterternary": [
           {
            "marker": {
             "colorbar": {
              "outlinewidth": 0,
              "ticks": ""
             }
            },
            "type": "scatterternary"
           }
          ],
          "surface": [
           {
            "colorbar": {
             "outlinewidth": 0,
             "ticks": ""
            },
            "colorscale": [
             [
              0,
              "#0d0887"
             ],
             [
              0.1111111111111111,
              "#46039f"
             ],
             [
              0.2222222222222222,
              "#7201a8"
             ],
             [
              0.3333333333333333,
              "#9c179e"
             ],
             [
              0.4444444444444444,
              "#bd3786"
             ],
             [
              0.5555555555555556,
              "#d8576b"
             ],
             [
              0.6666666666666666,
              "#ed7953"
             ],
             [
              0.7777777777777778,
              "#fb9f3a"
             ],
             [
              0.8888888888888888,
              "#fdca26"
             ],
             [
              1,
              "#f0f921"
             ]
            ],
            "type": "surface"
           }
          ],
          "table": [
           {
            "cells": {
             "fill": {
              "color": "#EBF0F8"
             },
             "line": {
              "color": "white"
             }
            },
            "header": {
             "fill": {
              "color": "#C8D4E3"
             },
             "line": {
              "color": "white"
             }
            },
            "type": "table"
           }
          ]
         },
         "layout": {
          "annotationdefaults": {
           "arrowcolor": "#2a3f5f",
           "arrowhead": 0,
           "arrowwidth": 1
          },
          "autotypenumbers": "strict",
          "coloraxis": {
           "colorbar": {
            "outlinewidth": 0,
            "ticks": ""
           }
          },
          "colorscale": {
           "diverging": [
            [
             0,
             "#8e0152"
            ],
            [
             0.1,
             "#c51b7d"
            ],
            [
             0.2,
             "#de77ae"
            ],
            [
             0.3,
             "#f1b6da"
            ],
            [
             0.4,
             "#fde0ef"
            ],
            [
             0.5,
             "#f7f7f7"
            ],
            [
             0.6,
             "#e6f5d0"
            ],
            [
             0.7,
             "#b8e186"
            ],
            [
             0.8,
             "#7fbc41"
            ],
            [
             0.9,
             "#4d9221"
            ],
            [
             1,
             "#276419"
            ]
           ],
           "sequential": [
            [
             0,
             "#0d0887"
            ],
            [
             0.1111111111111111,
             "#46039f"
            ],
            [
             0.2222222222222222,
             "#7201a8"
            ],
            [
             0.3333333333333333,
             "#9c179e"
            ],
            [
             0.4444444444444444,
             "#bd3786"
            ],
            [
             0.5555555555555556,
             "#d8576b"
            ],
            [
             0.6666666666666666,
             "#ed7953"
            ],
            [
             0.7777777777777778,
             "#fb9f3a"
            ],
            [
             0.8888888888888888,
             "#fdca26"
            ],
            [
             1,
             "#f0f921"
            ]
           ],
           "sequentialminus": [
            [
             0,
             "#0d0887"
            ],
            [
             0.1111111111111111,
             "#46039f"
            ],
            [
             0.2222222222222222,
             "#7201a8"
            ],
            [
             0.3333333333333333,
             "#9c179e"
            ],
            [
             0.4444444444444444,
             "#bd3786"
            ],
            [
             0.5555555555555556,
             "#d8576b"
            ],
            [
             0.6666666666666666,
             "#ed7953"
            ],
            [
             0.7777777777777778,
             "#fb9f3a"
            ],
            [
             0.8888888888888888,
             "#fdca26"
            ],
            [
             1,
             "#f0f921"
            ]
           ]
          },
          "colorway": [
           "#636efa",
           "#EF553B",
           "#00cc96",
           "#ab63fa",
           "#FFA15A",
           "#19d3f3",
           "#FF6692",
           "#B6E880",
           "#FF97FF",
           "#FECB52"
          ],
          "font": {
           "color": "#2a3f5f"
          },
          "geo": {
           "bgcolor": "white",
           "lakecolor": "white",
           "landcolor": "#E5ECF6",
           "showlakes": true,
           "showland": true,
           "subunitcolor": "white"
          },
          "hoverlabel": {
           "align": "left"
          },
          "hovermode": "closest",
          "mapbox": {
           "style": "light"
          },
          "paper_bgcolor": "white",
          "plot_bgcolor": "#E5ECF6",
          "polar": {
           "angularaxis": {
            "gridcolor": "white",
            "linecolor": "white",
            "ticks": ""
           },
           "bgcolor": "#E5ECF6",
           "radialaxis": {
            "gridcolor": "white",
            "linecolor": "white",
            "ticks": ""
           }
          },
          "scene": {
           "xaxis": {
            "backgroundcolor": "#E5ECF6",
            "gridcolor": "white",
            "gridwidth": 2,
            "linecolor": "white",
            "showbackground": true,
            "ticks": "",
            "zerolinecolor": "white"
           },
           "yaxis": {
            "backgroundcolor": "#E5ECF6",
            "gridcolor": "white",
            "gridwidth": 2,
            "linecolor": "white",
            "showbackground": true,
            "ticks": "",
            "zerolinecolor": "white"
           },
           "zaxis": {
            "backgroundcolor": "#E5ECF6",
            "gridcolor": "white",
            "gridwidth": 2,
            "linecolor": "white",
            "showbackground": true,
            "ticks": "",
            "zerolinecolor": "white"
           }
          },
          "shapedefaults": {
           "line": {
            "color": "#2a3f5f"
           }
          },
          "ternary": {
           "aaxis": {
            "gridcolor": "white",
            "linecolor": "white",
            "ticks": ""
           },
           "baxis": {
            "gridcolor": "white",
            "linecolor": "white",
            "ticks": ""
           },
           "bgcolor": "#E5ECF6",
           "caxis": {
            "gridcolor": "white",
            "linecolor": "white",
            "ticks": ""
           }
          },
          "title": {
           "x": 0.05
          },
          "xaxis": {
           "automargin": true,
           "gridcolor": "white",
           "linecolor": "white",
           "ticks": "",
           "title": {
            "standoff": 15
           },
           "zerolinecolor": "white",
           "zerolinewidth": 2
          },
          "yaxis": {
           "automargin": true,
           "gridcolor": "white",
           "linecolor": "white",
           "ticks": "",
           "title": {
            "standoff": 15
           },
           "zerolinecolor": "white",
           "zerolinewidth": 2
          }
         }
        }
       }
      }
     },
     "metadata": {},
     "output_type": "display_data"
    }
   ],
   "source": [
    "px.scatter_map(region_df, lat=\"Sea latitude\", lon=\"Sea longitude\", hover_name=\"Name\", hover_data=\"Code\")"
   ]
  },
  {
   "cell_type": "code",
   "execution_count": 111,
   "metadata": {},
   "outputs": [],
   "source": [
    "region_df.to_csv(\"output/regions_codes_names_and_coords.csv\", index=False)"
   ]
  }
 ],
 "metadata": {
  "kernelspec": {
   "display_name": "base",
   "language": "python",
   "name": "python3"
  },
  "language_info": {
   "codemirror_mode": {
    "name": "ipython",
    "version": 3
   },
   "file_extension": ".py",
   "mimetype": "text/x-python",
   "name": "python",
   "nbconvert_exporter": "python",
   "pygments_lexer": "ipython3",
   "version": "3.12.4"
  }
 },
 "nbformat": 4,
 "nbformat_minor": 2
}
