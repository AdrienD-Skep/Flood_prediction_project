{
 "cells": [
  {
   "cell_type": "code",
   "execution_count": 1,
   "metadata": {},
   "outputs": [],
   "source": [
    "import numpy as np\n",
    "import pandas as pd\n",
    "import joblib\n",
    "import time\n",
    "\n",
    "from sklearn.linear_model import LogisticRegression\n",
    "from sklearn.preprocessing import  StandardScaler\n",
    "from sklearn.ensemble import RandomForestClassifier\n",
    "from xgboost import XGBClassifier\n",
    "from sklearn.svm import SVC\n",
    "from sklearn.pipeline import Pipeline\n",
    "from sklearn.model_selection import train_test_split\n",
    "from imblearn.over_sampling import ADASYN,  RandomOverSampler \n",
    "from sklearn.metrics import accuracy_score, f1_score, classification_report, confusion_matrix, log_loss, brier_score_loss, roc_auc_score, average_precision_score\n",
    "from skopt import BayesSearchCV\n",
    "from skopt.space import Real, Integer, Categorical\n",
    "from sklearn.calibration import CalibratedClassifierCV, calibration_curve\n",
    "from sklearn.utils.class_weight import compute_class_weight\n",
    "from sklearn.inspection import permutation_importance\n",
    "\n",
    "from tensorflow.keras.models import Sequential\n",
    "from tensorflow.keras.layers import Dense, Input\n",
    "from tensorflow.keras.optimizers import Adam\n",
    "from keras.callbacks import EarlyStopping, TerminateOnNaN\n",
    "from keras.optimizers.schedules import ExponentialDecay\n",
    "import tensorflow as tf \n",
    "\n",
    "import matplotlib.pyplot as plt\n",
    "import plotly.graph_objects as go\n",
    "import plotly.express as px"
   ]
  },
  {
   "cell_type": "code",
   "execution_count": 2,
   "metadata": {},
   "outputs": [
    {
     "data": {
      "text/html": [
       "<div>\n",
       "<style scoped>\n",
       "    .dataframe tbody tr th:only-of-type {\n",
       "        vertical-align: middle;\n",
       "    }\n",
       "\n",
       "    .dataframe tbody tr th {\n",
       "        vertical-align: top;\n",
       "    }\n",
       "\n",
       "    .dataframe thead th {\n",
       "        text-align: right;\n",
       "    }\n",
       "</style>\n",
       "<table border=\"1\" class=\"dataframe\">\n",
       "  <thead>\n",
       "    <tr style=\"text-align: right;\">\n",
       "      <th></th>\n",
       "      <th>median_sea_level_height_msl_30</th>\n",
       "      <th>mean_sea_level_height_msl_30</th>\n",
       "      <th>mean_sea_level_height_msl_5</th>\n",
       "      <th>mean_sea_level_height_msl_1</th>\n",
       "      <th>max_sea_level_height_msl_1</th>\n",
       "      <th>lat</th>\n",
       "      <th>lon</th>\n",
       "      <th>Sea distance</th>\n",
       "      <th>Type</th>\n",
       "      <th>median_river_discharge_30</th>\n",
       "      <th>...</th>\n",
       "      <th>max_soil_moisture_28_to_100cm_1</th>\n",
       "      <th>max_soil_moisture_100_to_255cm_1</th>\n",
       "      <th>elevation</th>\n",
       "      <th>median_wave_height_30</th>\n",
       "      <th>mean_wave_height_30</th>\n",
       "      <th>mean_wave_height_5</th>\n",
       "      <th>mean_wave_height_1</th>\n",
       "      <th>max_wave_height_1</th>\n",
       "      <th>month</th>\n",
       "      <th>Type_cd</th>\n",
       "    </tr>\n",
       "  </thead>\n",
       "  <tbody>\n",
       "    <tr>\n",
       "      <th>0</th>\n",
       "      <td>0.80470</td>\n",
       "      <td>0.802224</td>\n",
       "      <td>1.036652</td>\n",
       "      <td>0.958875</td>\n",
       "      <td>1.2597</td>\n",
       "      <td>41.324590</td>\n",
       "      <td>19.456469</td>\n",
       "      <td>5300.276600</td>\n",
       "      <td>River</td>\n",
       "      <td>0.383566</td>\n",
       "      <td>...</td>\n",
       "      <td>0.427</td>\n",
       "      <td>0.352</td>\n",
       "      <td>3.0</td>\n",
       "      <td>0.70</td>\n",
       "      <td>0.899865</td>\n",
       "      <td>1.667167</td>\n",
       "      <td>2.015833</td>\n",
       "      <td>3.14</td>\n",
       "      <td>11</td>\n",
       "      <td>2</td>\n",
       "    </tr>\n",
       "    <tr>\n",
       "      <th>1</th>\n",
       "      <td>0.81185</td>\n",
       "      <td>0.807646</td>\n",
       "      <td>0.982063</td>\n",
       "      <td>0.889192</td>\n",
       "      <td>1.1707</td>\n",
       "      <td>41.324590</td>\n",
       "      <td>19.456469</td>\n",
       "      <td>5300.276600</td>\n",
       "      <td>River</td>\n",
       "      <td>0.570363</td>\n",
       "      <td>...</td>\n",
       "      <td>0.428</td>\n",
       "      <td>0.360</td>\n",
       "      <td>3.0</td>\n",
       "      <td>0.74</td>\n",
       "      <td>0.923091</td>\n",
       "      <td>1.512000</td>\n",
       "      <td>1.275000</td>\n",
       "      <td>2.10</td>\n",
       "      <td>12</td>\n",
       "      <td>2</td>\n",
       "    </tr>\n",
       "    <tr>\n",
       "      <th>2</th>\n",
       "      <td>0.81370</td>\n",
       "      <td>0.813203</td>\n",
       "      <td>0.957242</td>\n",
       "      <td>0.940275</td>\n",
       "      <td>1.1667</td>\n",
       "      <td>41.324590</td>\n",
       "      <td>19.456469</td>\n",
       "      <td>5300.276600</td>\n",
       "      <td>River</td>\n",
       "      <td>0.625549</td>\n",
       "      <td>...</td>\n",
       "      <td>0.428</td>\n",
       "      <td>0.365</td>\n",
       "      <td>3.0</td>\n",
       "      <td>0.76</td>\n",
       "      <td>0.934274</td>\n",
       "      <td>1.224000</td>\n",
       "      <td>0.780833</td>\n",
       "      <td>1.22</td>\n",
       "      <td>12</td>\n",
       "      <td>2</td>\n",
       "    </tr>\n",
       "    <tr>\n",
       "      <th>3</th>\n",
       "      <td>0.82515</td>\n",
       "      <td>0.824850</td>\n",
       "      <td>0.991565</td>\n",
       "      <td>1.146608</td>\n",
       "      <td>1.4819</td>\n",
       "      <td>41.324590</td>\n",
       "      <td>19.456469</td>\n",
       "      <td>5300.276600</td>\n",
       "      <td>River</td>\n",
       "      <td>0.782379</td>\n",
       "      <td>...</td>\n",
       "      <td>0.422</td>\n",
       "      <td>0.368</td>\n",
       "      <td>3.0</td>\n",
       "      <td>0.78</td>\n",
       "      <td>0.961371</td>\n",
       "      <td>1.237667</td>\n",
       "      <td>1.142500</td>\n",
       "      <td>1.90</td>\n",
       "      <td>12</td>\n",
       "      <td>2</td>\n",
       "    </tr>\n",
       "    <tr>\n",
       "      <th>4</th>\n",
       "      <td>0.80470</td>\n",
       "      <td>0.802224</td>\n",
       "      <td>1.036652</td>\n",
       "      <td>0.958875</td>\n",
       "      <td>1.2597</td>\n",
       "      <td>41.786073</td>\n",
       "      <td>19.646076</td>\n",
       "      <td>11519.642694</td>\n",
       "      <td>River</td>\n",
       "      <td>0.428894</td>\n",
       "      <td>...</td>\n",
       "      <td>0.408</td>\n",
       "      <td>0.373</td>\n",
       "      <td>20.0</td>\n",
       "      <td>0.70</td>\n",
       "      <td>0.899865</td>\n",
       "      <td>1.667167</td>\n",
       "      <td>2.015833</td>\n",
       "      <td>3.14</td>\n",
       "      <td>11</td>\n",
       "      <td>2</td>\n",
       "    </tr>\n",
       "  </tbody>\n",
       "</table>\n",
       "<p>5 rows × 82 columns</p>\n",
       "</div>"
      ],
      "text/plain": [
       "   median_sea_level_height_msl_30  mean_sea_level_height_msl_30  \\\n",
       "0                         0.80470                      0.802224   \n",
       "1                         0.81185                      0.807646   \n",
       "2                         0.81370                      0.813203   \n",
       "3                         0.82515                      0.824850   \n",
       "4                         0.80470                      0.802224   \n",
       "\n",
       "   mean_sea_level_height_msl_5  mean_sea_level_height_msl_1  \\\n",
       "0                     1.036652                     0.958875   \n",
       "1                     0.982063                     0.889192   \n",
       "2                     0.957242                     0.940275   \n",
       "3                     0.991565                     1.146608   \n",
       "4                     1.036652                     0.958875   \n",
       "\n",
       "   max_sea_level_height_msl_1        lat        lon  Sea distance   Type  \\\n",
       "0                      1.2597  41.324590  19.456469   5300.276600  River   \n",
       "1                      1.1707  41.324590  19.456469   5300.276600  River   \n",
       "2                      1.1667  41.324590  19.456469   5300.276600  River   \n",
       "3                      1.4819  41.324590  19.456469   5300.276600  River   \n",
       "4                      1.2597  41.786073  19.646076  11519.642694  River   \n",
       "\n",
       "   median_river_discharge_30  ...  max_soil_moisture_28_to_100cm_1  \\\n",
       "0                   0.383566  ...                            0.427   \n",
       "1                   0.570363  ...                            0.428   \n",
       "2                   0.625549  ...                            0.428   \n",
       "3                   0.782379  ...                            0.422   \n",
       "4                   0.428894  ...                            0.408   \n",
       "\n",
       "   max_soil_moisture_100_to_255cm_1  elevation  median_wave_height_30  \\\n",
       "0                             0.352        3.0                   0.70   \n",
       "1                             0.360        3.0                   0.74   \n",
       "2                             0.365        3.0                   0.76   \n",
       "3                             0.368        3.0                   0.78   \n",
       "4                             0.373       20.0                   0.70   \n",
       "\n",
       "   mean_wave_height_30  mean_wave_height_5  mean_wave_height_1  \\\n",
       "0             0.899865            1.667167            2.015833   \n",
       "1             0.923091            1.512000            1.275000   \n",
       "2             0.934274            1.224000            0.780833   \n",
       "3             0.961371            1.237667            1.142500   \n",
       "4             0.899865            1.667167            2.015833   \n",
       "\n",
       "   max_wave_height_1  month  Type_cd  \n",
       "0               3.14     11        2  \n",
       "1               2.10     12        2  \n",
       "2               1.22     12        2  \n",
       "3               1.90     12        2  \n",
       "4               3.14     11        2  \n",
       "\n",
       "[5 rows x 82 columns]"
      ]
     },
     "execution_count": 2,
     "metadata": {},
     "output_type": "execute_result"
    }
   ],
   "source": [
    "df = pd.read_csv(\"../3 flood data analysis/output/Flood_Type_data.csv\")\n",
    "df.head()"
   ]
  },
  {
   "cell_type": "code",
   "execution_count": 3,
   "metadata": {},
   "outputs": [
    {
     "name": "stdout",
     "output_type": "stream",
     "text": [
      "<class 'pandas.core.frame.DataFrame'>\n",
      "RangeIndex: 19860 entries, 0 to 19859\n",
      "Data columns (total 82 columns):\n",
      " #   Column                                Non-Null Count  Dtype  \n",
      "---  ------                                --------------  -----  \n",
      " 0   median_sea_level_height_msl_30        19860 non-null  float64\n",
      " 1   mean_sea_level_height_msl_30          19860 non-null  float64\n",
      " 2   mean_sea_level_height_msl_5           19860 non-null  float64\n",
      " 3   mean_sea_level_height_msl_1           19860 non-null  float64\n",
      " 4   max_sea_level_height_msl_1            19860 non-null  float64\n",
      " 5   lat                                   19860 non-null  float64\n",
      " 6   lon                                   19860 non-null  float64\n",
      " 7   Sea distance                          19860 non-null  float64\n",
      " 8   Type                                  19860 non-null  object \n",
      " 9   median_river_discharge_30             19860 non-null  float64\n",
      " 10  mean_river_discharge_30               19860 non-null  float64\n",
      " 11  mean_river_discharge_5                19860 non-null  float64\n",
      " 12  mean_river_discharge_1                19860 non-null  float64\n",
      " 13  max_river_discharge_1                 19860 non-null  float64\n",
      " 14  median_temperature_2m_30              19860 non-null  float64\n",
      " 15  median_relative_humidity_2m_30        19860 non-null  float64\n",
      " 16  median_dew_point_2m_30                19860 non-null  float64\n",
      " 17  median_precipitation_30               19860 non-null  float64\n",
      " 18  median_et0_fao_evapotranspiration_30  19860 non-null  float64\n",
      " 19  median_vapour_pressure_deficit_30     19860 non-null  float64\n",
      " 20  median_wind_speed_10m_30              19860 non-null  float64\n",
      " 21  median_wind_gusts_10m_30              19860 non-null  float64\n",
      " 22  mean_temperature_2m_30                19860 non-null  float64\n",
      " 23  mean_relative_humidity_2m_30          19860 non-null  float64\n",
      " 24  mean_dew_point_2m_30                  19860 non-null  float64\n",
      " 25  mean_precipitation_30                 19860 non-null  float64\n",
      " 26  mean_et0_fao_evapotranspiration_30    19860 non-null  float64\n",
      " 27  mean_vapour_pressure_deficit_30       19860 non-null  float64\n",
      " 28  mean_wind_speed_10m_30                19860 non-null  float64\n",
      " 29  mean_wind_gusts_10m_30                19860 non-null  float64\n",
      " 30  mean_temperature_2m_5                 19860 non-null  float64\n",
      " 31  mean_relative_humidity_2m_5           19860 non-null  float64\n",
      " 32  mean_dew_point_2m_5                   19860 non-null  float64\n",
      " 33  mean_precipitation_5                  19860 non-null  float64\n",
      " 34  mean_et0_fao_evapotranspiration_5     19860 non-null  float64\n",
      " 35  mean_vapour_pressure_deficit_5        19860 non-null  float64\n",
      " 36  mean_wind_speed_10m_5                 19860 non-null  float64\n",
      " 37  mean_wind_gusts_10m_5                 19860 non-null  float64\n",
      " 38  mean_temperature_2m_1                 19860 non-null  float64\n",
      " 39  mean_relative_humidity_2m_1           19860 non-null  float64\n",
      " 40  mean_dew_point_2m_1                   19860 non-null  float64\n",
      " 41  mean_precipitation_1                  19860 non-null  float64\n",
      " 42  mean_et0_fao_evapotranspiration_1     19860 non-null  float64\n",
      " 43  mean_vapour_pressure_deficit_1        19860 non-null  float64\n",
      " 44  mean_wind_speed_10m_1                 19860 non-null  float64\n",
      " 45  mean_wind_gusts_10m_1                 19860 non-null  float64\n",
      " 46  max_temperature_2m_1                  19860 non-null  float64\n",
      " 47  max_relative_humidity_2m_1            19860 non-null  float64\n",
      " 48  max_dew_point_2m_1                    19860 non-null  float64\n",
      " 49  max_precipitation_1                   19860 non-null  float64\n",
      " 50  max_et0_fao_evapotranspiration_1      19860 non-null  float64\n",
      " 51  max_vapour_pressure_deficit_1         19860 non-null  float64\n",
      " 52  max_wind_speed_10m_1                  19860 non-null  float64\n",
      " 53  max_wind_gusts_10m_1                  19860 non-null  float64\n",
      " 54  median_soil_moisture_0_to_7cm_30      19860 non-null  float64\n",
      " 55  median_soil_moisture_7_to_28cm_30     19860 non-null  float64\n",
      " 56  median_soil_moisture_28_to_100cm_30   19860 non-null  float64\n",
      " 57  median_soil_moisture_100_to_255cm_30  19860 non-null  float64\n",
      " 58  mean_soil_moisture_0_to_7cm_30        19860 non-null  float64\n",
      " 59  mean_soil_moisture_7_to_28cm_30       19860 non-null  float64\n",
      " 60  mean_soil_moisture_28_to_100cm_30     19860 non-null  float64\n",
      " 61  mean_soil_moisture_100_to_255cm_30    19860 non-null  float64\n",
      " 62  mean_soil_moisture_0_to_7cm_5         19860 non-null  float64\n",
      " 63  mean_soil_moisture_7_to_28cm_5        19860 non-null  float64\n",
      " 64  mean_soil_moisture_28_to_100cm_5      19860 non-null  float64\n",
      " 65  mean_soil_moisture_100_to_255cm_5     19860 non-null  float64\n",
      " 66  mean_soil_moisture_0_to_7cm_1         19860 non-null  float64\n",
      " 67  mean_soil_moisture_7_to_28cm_1        19860 non-null  float64\n",
      " 68  mean_soil_moisture_28_to_100cm_1      19860 non-null  float64\n",
      " 69  mean_soil_moisture_100_to_255cm_1     19860 non-null  float64\n",
      " 70  max_soil_moisture_0_to_7cm_1          19860 non-null  float64\n",
      " 71  max_soil_moisture_7_to_28cm_1         19860 non-null  float64\n",
      " 72  max_soil_moisture_28_to_100cm_1       19860 non-null  float64\n",
      " 73  max_soil_moisture_100_to_255cm_1      19860 non-null  float64\n",
      " 74  elevation                             19860 non-null  float64\n",
      " 75  median_wave_height_30                 19860 non-null  float64\n",
      " 76  mean_wave_height_30                   19860 non-null  float64\n",
      " 77  mean_wave_height_5                    19860 non-null  float64\n",
      " 78  mean_wave_height_1                    19860 non-null  float64\n",
      " 79  max_wave_height_1                     19860 non-null  float64\n",
      " 80  month                                 19860 non-null  int64  \n",
      " 81  Type_cd                               19860 non-null  int64  \n",
      "dtypes: float64(79), int64(2), object(1)\n",
      "memory usage: 12.4+ MB\n"
     ]
    }
   ],
   "source": [
    "df.info()"
   ]
  },
  {
   "cell_type": "code",
   "execution_count": 4,
   "metadata": {},
   "outputs": [],
   "source": [
    "\n",
    "X = df.drop([\"lat\", \"lon\", \"Type\", \"Type_cd\"], axis=1)\n",
    "y = df.loc[:,\"Type_cd\"] # predict flood type\n",
    "X_train, X_test, y_train, y_test = train_test_split(X, y, test_size=0.2, random_state=24, stratify=y)"
   ]
  },
  {
   "cell_type": "code",
   "execution_count": 5,
   "metadata": {},
   "outputs": [],
   "source": [
    "adasyn = ADASYN(random_state=24)\n",
    "X_train_resampled_ada, y_train_resampled_ada = adasyn.fit_resample(X_train, y_train)\n",
    "\n",
    "ros = RandomOverSampler(random_state=24)\n",
    "X_train_resampled_ros, y_train_resampled_ros = ros.fit_resample(X_train, y_train)"
   ]
  },
  {
   "cell_type": "code",
   "execution_count": 6,
   "metadata": {},
   "outputs": [],
   "source": [
    "def get_LG_model() :\n",
    "    model = Pipeline(steps=[\n",
    "        (\"standard_scaler\", StandardScaler()),\n",
    "        (\"Classifier\",LogisticRegression(max_iter=1000))\n",
    "    ])\n",
    "    return model"
   ]
  },
  {
   "cell_type": "code",
   "execution_count": 7,
   "metadata": {},
   "outputs": [],
   "source": [
    "lg_model = get_LG_model()"
   ]
  },
  {
   "cell_type": "code",
   "execution_count": 8,
   "metadata": {},
   "outputs": [
    {
     "data": {
      "text/html": [
       "<style>#sk-container-id-1 {\n",
       "  /* Definition of color scheme common for light and dark mode */\n",
       "  --sklearn-color-text: #000;\n",
       "  --sklearn-color-text-muted: #666;\n",
       "  --sklearn-color-line: gray;\n",
       "  /* Definition of color scheme for unfitted estimators */\n",
       "  --sklearn-color-unfitted-level-0: #fff5e6;\n",
       "  --sklearn-color-unfitted-level-1: #f6e4d2;\n",
       "  --sklearn-color-unfitted-level-2: #ffe0b3;\n",
       "  --sklearn-color-unfitted-level-3: chocolate;\n",
       "  /* Definition of color scheme for fitted estimators */\n",
       "  --sklearn-color-fitted-level-0: #f0f8ff;\n",
       "  --sklearn-color-fitted-level-1: #d4ebff;\n",
       "  --sklearn-color-fitted-level-2: #b3dbfd;\n",
       "  --sklearn-color-fitted-level-3: cornflowerblue;\n",
       "\n",
       "  /* Specific color for light theme */\n",
       "  --sklearn-color-text-on-default-background: var(--sg-text-color, var(--theme-code-foreground, var(--jp-content-font-color1, black)));\n",
       "  --sklearn-color-background: var(--sg-background-color, var(--theme-background, var(--jp-layout-color0, white)));\n",
       "  --sklearn-color-border-box: var(--sg-text-color, var(--theme-code-foreground, var(--jp-content-font-color1, black)));\n",
       "  --sklearn-color-icon: #696969;\n",
       "\n",
       "  @media (prefers-color-scheme: dark) {\n",
       "    /* Redefinition of color scheme for dark theme */\n",
       "    --sklearn-color-text-on-default-background: var(--sg-text-color, var(--theme-code-foreground, var(--jp-content-font-color1, white)));\n",
       "    --sklearn-color-background: var(--sg-background-color, var(--theme-background, var(--jp-layout-color0, #111)));\n",
       "    --sklearn-color-border-box: var(--sg-text-color, var(--theme-code-foreground, var(--jp-content-font-color1, white)));\n",
       "    --sklearn-color-icon: #878787;\n",
       "  }\n",
       "}\n",
       "\n",
       "#sk-container-id-1 {\n",
       "  color: var(--sklearn-color-text);\n",
       "}\n",
       "\n",
       "#sk-container-id-1 pre {\n",
       "  padding: 0;\n",
       "}\n",
       "\n",
       "#sk-container-id-1 input.sk-hidden--visually {\n",
       "  border: 0;\n",
       "  clip: rect(1px 1px 1px 1px);\n",
       "  clip: rect(1px, 1px, 1px, 1px);\n",
       "  height: 1px;\n",
       "  margin: -1px;\n",
       "  overflow: hidden;\n",
       "  padding: 0;\n",
       "  position: absolute;\n",
       "  width: 1px;\n",
       "}\n",
       "\n",
       "#sk-container-id-1 div.sk-dashed-wrapped {\n",
       "  border: 1px dashed var(--sklearn-color-line);\n",
       "  margin: 0 0.4em 0.5em 0.4em;\n",
       "  box-sizing: border-box;\n",
       "  padding-bottom: 0.4em;\n",
       "  background-color: var(--sklearn-color-background);\n",
       "}\n",
       "\n",
       "#sk-container-id-1 div.sk-container {\n",
       "  /* jupyter's `normalize.less` sets `[hidden] { display: none; }`\n",
       "     but bootstrap.min.css set `[hidden] { display: none !important; }`\n",
       "     so we also need the `!important` here to be able to override the\n",
       "     default hidden behavior on the sphinx rendered scikit-learn.org.\n",
       "     See: https://github.com/scikit-learn/scikit-learn/issues/21755 */\n",
       "  display: inline-block !important;\n",
       "  position: relative;\n",
       "}\n",
       "\n",
       "#sk-container-id-1 div.sk-text-repr-fallback {\n",
       "  display: none;\n",
       "}\n",
       "\n",
       "div.sk-parallel-item,\n",
       "div.sk-serial,\n",
       "div.sk-item {\n",
       "  /* draw centered vertical line to link estimators */\n",
       "  background-image: linear-gradient(var(--sklearn-color-text-on-default-background), var(--sklearn-color-text-on-default-background));\n",
       "  background-size: 2px 100%;\n",
       "  background-repeat: no-repeat;\n",
       "  background-position: center center;\n",
       "}\n",
       "\n",
       "/* Parallel-specific style estimator block */\n",
       "\n",
       "#sk-container-id-1 div.sk-parallel-item::after {\n",
       "  content: \"\";\n",
       "  width: 100%;\n",
       "  border-bottom: 2px solid var(--sklearn-color-text-on-default-background);\n",
       "  flex-grow: 1;\n",
       "}\n",
       "\n",
       "#sk-container-id-1 div.sk-parallel {\n",
       "  display: flex;\n",
       "  align-items: stretch;\n",
       "  justify-content: center;\n",
       "  background-color: var(--sklearn-color-background);\n",
       "  position: relative;\n",
       "}\n",
       "\n",
       "#sk-container-id-1 div.sk-parallel-item {\n",
       "  display: flex;\n",
       "  flex-direction: column;\n",
       "}\n",
       "\n",
       "#sk-container-id-1 div.sk-parallel-item:first-child::after {\n",
       "  align-self: flex-end;\n",
       "  width: 50%;\n",
       "}\n",
       "\n",
       "#sk-container-id-1 div.sk-parallel-item:last-child::after {\n",
       "  align-self: flex-start;\n",
       "  width: 50%;\n",
       "}\n",
       "\n",
       "#sk-container-id-1 div.sk-parallel-item:only-child::after {\n",
       "  width: 0;\n",
       "}\n",
       "\n",
       "/* Serial-specific style estimator block */\n",
       "\n",
       "#sk-container-id-1 div.sk-serial {\n",
       "  display: flex;\n",
       "  flex-direction: column;\n",
       "  align-items: center;\n",
       "  background-color: var(--sklearn-color-background);\n",
       "  padding-right: 1em;\n",
       "  padding-left: 1em;\n",
       "}\n",
       "\n",
       "\n",
       "/* Toggleable style: style used for estimator/Pipeline/ColumnTransformer box that is\n",
       "clickable and can be expanded/collapsed.\n",
       "- Pipeline and ColumnTransformer use this feature and define the default style\n",
       "- Estimators will overwrite some part of the style using the `sk-estimator` class\n",
       "*/\n",
       "\n",
       "/* Pipeline and ColumnTransformer style (default) */\n",
       "\n",
       "#sk-container-id-1 div.sk-toggleable {\n",
       "  /* Default theme specific background. It is overwritten whether we have a\n",
       "  specific estimator or a Pipeline/ColumnTransformer */\n",
       "  background-color: var(--sklearn-color-background);\n",
       "}\n",
       "\n",
       "/* Toggleable label */\n",
       "#sk-container-id-1 label.sk-toggleable__label {\n",
       "  cursor: pointer;\n",
       "  display: flex;\n",
       "  width: 100%;\n",
       "  margin-bottom: 0;\n",
       "  padding: 0.5em;\n",
       "  box-sizing: border-box;\n",
       "  text-align: center;\n",
       "  align-items: start;\n",
       "  justify-content: space-between;\n",
       "  gap: 0.5em;\n",
       "}\n",
       "\n",
       "#sk-container-id-1 label.sk-toggleable__label .caption {\n",
       "  font-size: 0.6rem;\n",
       "  font-weight: lighter;\n",
       "  color: var(--sklearn-color-text-muted);\n",
       "}\n",
       "\n",
       "#sk-container-id-1 label.sk-toggleable__label-arrow:before {\n",
       "  /* Arrow on the left of the label */\n",
       "  content: \"▸\";\n",
       "  float: left;\n",
       "  margin-right: 0.25em;\n",
       "  color: var(--sklearn-color-icon);\n",
       "}\n",
       "\n",
       "#sk-container-id-1 label.sk-toggleable__label-arrow:hover:before {\n",
       "  color: var(--sklearn-color-text);\n",
       "}\n",
       "\n",
       "/* Toggleable content - dropdown */\n",
       "\n",
       "#sk-container-id-1 div.sk-toggleable__content {\n",
       "  max-height: 0;\n",
       "  max-width: 0;\n",
       "  overflow: hidden;\n",
       "  text-align: left;\n",
       "  /* unfitted */\n",
       "  background-color: var(--sklearn-color-unfitted-level-0);\n",
       "}\n",
       "\n",
       "#sk-container-id-1 div.sk-toggleable__content.fitted {\n",
       "  /* fitted */\n",
       "  background-color: var(--sklearn-color-fitted-level-0);\n",
       "}\n",
       "\n",
       "#sk-container-id-1 div.sk-toggleable__content pre {\n",
       "  margin: 0.2em;\n",
       "  border-radius: 0.25em;\n",
       "  color: var(--sklearn-color-text);\n",
       "  /* unfitted */\n",
       "  background-color: var(--sklearn-color-unfitted-level-0);\n",
       "}\n",
       "\n",
       "#sk-container-id-1 div.sk-toggleable__content.fitted pre {\n",
       "  /* unfitted */\n",
       "  background-color: var(--sklearn-color-fitted-level-0);\n",
       "}\n",
       "\n",
       "#sk-container-id-1 input.sk-toggleable__control:checked~div.sk-toggleable__content {\n",
       "  /* Expand drop-down */\n",
       "  max-height: 200px;\n",
       "  max-width: 100%;\n",
       "  overflow: auto;\n",
       "}\n",
       "\n",
       "#sk-container-id-1 input.sk-toggleable__control:checked~label.sk-toggleable__label-arrow:before {\n",
       "  content: \"▾\";\n",
       "}\n",
       "\n",
       "/* Pipeline/ColumnTransformer-specific style */\n",
       "\n",
       "#sk-container-id-1 div.sk-label input.sk-toggleable__control:checked~label.sk-toggleable__label {\n",
       "  color: var(--sklearn-color-text);\n",
       "  background-color: var(--sklearn-color-unfitted-level-2);\n",
       "}\n",
       "\n",
       "#sk-container-id-1 div.sk-label.fitted input.sk-toggleable__control:checked~label.sk-toggleable__label {\n",
       "  background-color: var(--sklearn-color-fitted-level-2);\n",
       "}\n",
       "\n",
       "/* Estimator-specific style */\n",
       "\n",
       "/* Colorize estimator box */\n",
       "#sk-container-id-1 div.sk-estimator input.sk-toggleable__control:checked~label.sk-toggleable__label {\n",
       "  /* unfitted */\n",
       "  background-color: var(--sklearn-color-unfitted-level-2);\n",
       "}\n",
       "\n",
       "#sk-container-id-1 div.sk-estimator.fitted input.sk-toggleable__control:checked~label.sk-toggleable__label {\n",
       "  /* fitted */\n",
       "  background-color: var(--sklearn-color-fitted-level-2);\n",
       "}\n",
       "\n",
       "#sk-container-id-1 div.sk-label label.sk-toggleable__label,\n",
       "#sk-container-id-1 div.sk-label label {\n",
       "  /* The background is the default theme color */\n",
       "  color: var(--sklearn-color-text-on-default-background);\n",
       "}\n",
       "\n",
       "/* On hover, darken the color of the background */\n",
       "#sk-container-id-1 div.sk-label:hover label.sk-toggleable__label {\n",
       "  color: var(--sklearn-color-text);\n",
       "  background-color: var(--sklearn-color-unfitted-level-2);\n",
       "}\n",
       "\n",
       "/* Label box, darken color on hover, fitted */\n",
       "#sk-container-id-1 div.sk-label.fitted:hover label.sk-toggleable__label.fitted {\n",
       "  color: var(--sklearn-color-text);\n",
       "  background-color: var(--sklearn-color-fitted-level-2);\n",
       "}\n",
       "\n",
       "/* Estimator label */\n",
       "\n",
       "#sk-container-id-1 div.sk-label label {\n",
       "  font-family: monospace;\n",
       "  font-weight: bold;\n",
       "  display: inline-block;\n",
       "  line-height: 1.2em;\n",
       "}\n",
       "\n",
       "#sk-container-id-1 div.sk-label-container {\n",
       "  text-align: center;\n",
       "}\n",
       "\n",
       "/* Estimator-specific */\n",
       "#sk-container-id-1 div.sk-estimator {\n",
       "  font-family: monospace;\n",
       "  border: 1px dotted var(--sklearn-color-border-box);\n",
       "  border-radius: 0.25em;\n",
       "  box-sizing: border-box;\n",
       "  margin-bottom: 0.5em;\n",
       "  /* unfitted */\n",
       "  background-color: var(--sklearn-color-unfitted-level-0);\n",
       "}\n",
       "\n",
       "#sk-container-id-1 div.sk-estimator.fitted {\n",
       "  /* fitted */\n",
       "  background-color: var(--sklearn-color-fitted-level-0);\n",
       "}\n",
       "\n",
       "/* on hover */\n",
       "#sk-container-id-1 div.sk-estimator:hover {\n",
       "  /* unfitted */\n",
       "  background-color: var(--sklearn-color-unfitted-level-2);\n",
       "}\n",
       "\n",
       "#sk-container-id-1 div.sk-estimator.fitted:hover {\n",
       "  /* fitted */\n",
       "  background-color: var(--sklearn-color-fitted-level-2);\n",
       "}\n",
       "\n",
       "/* Specification for estimator info (e.g. \"i\" and \"?\") */\n",
       "\n",
       "/* Common style for \"i\" and \"?\" */\n",
       "\n",
       ".sk-estimator-doc-link,\n",
       "a:link.sk-estimator-doc-link,\n",
       "a:visited.sk-estimator-doc-link {\n",
       "  float: right;\n",
       "  font-size: smaller;\n",
       "  line-height: 1em;\n",
       "  font-family: monospace;\n",
       "  background-color: var(--sklearn-color-background);\n",
       "  border-radius: 1em;\n",
       "  height: 1em;\n",
       "  width: 1em;\n",
       "  text-decoration: none !important;\n",
       "  margin-left: 0.5em;\n",
       "  text-align: center;\n",
       "  /* unfitted */\n",
       "  border: var(--sklearn-color-unfitted-level-1) 1pt solid;\n",
       "  color: var(--sklearn-color-unfitted-level-1);\n",
       "}\n",
       "\n",
       ".sk-estimator-doc-link.fitted,\n",
       "a:link.sk-estimator-doc-link.fitted,\n",
       "a:visited.sk-estimator-doc-link.fitted {\n",
       "  /* fitted */\n",
       "  border: var(--sklearn-color-fitted-level-1) 1pt solid;\n",
       "  color: var(--sklearn-color-fitted-level-1);\n",
       "}\n",
       "\n",
       "/* On hover */\n",
       "div.sk-estimator:hover .sk-estimator-doc-link:hover,\n",
       ".sk-estimator-doc-link:hover,\n",
       "div.sk-label-container:hover .sk-estimator-doc-link:hover,\n",
       ".sk-estimator-doc-link:hover {\n",
       "  /* unfitted */\n",
       "  background-color: var(--sklearn-color-unfitted-level-3);\n",
       "  color: var(--sklearn-color-background);\n",
       "  text-decoration: none;\n",
       "}\n",
       "\n",
       "div.sk-estimator.fitted:hover .sk-estimator-doc-link.fitted:hover,\n",
       ".sk-estimator-doc-link.fitted:hover,\n",
       "div.sk-label-container:hover .sk-estimator-doc-link.fitted:hover,\n",
       ".sk-estimator-doc-link.fitted:hover {\n",
       "  /* fitted */\n",
       "  background-color: var(--sklearn-color-fitted-level-3);\n",
       "  color: var(--sklearn-color-background);\n",
       "  text-decoration: none;\n",
       "}\n",
       "\n",
       "/* Span, style for the box shown on hovering the info icon */\n",
       ".sk-estimator-doc-link span {\n",
       "  display: none;\n",
       "  z-index: 9999;\n",
       "  position: relative;\n",
       "  font-weight: normal;\n",
       "  right: .2ex;\n",
       "  padding: .5ex;\n",
       "  margin: .5ex;\n",
       "  width: min-content;\n",
       "  min-width: 20ex;\n",
       "  max-width: 50ex;\n",
       "  color: var(--sklearn-color-text);\n",
       "  box-shadow: 2pt 2pt 4pt #999;\n",
       "  /* unfitted */\n",
       "  background: var(--sklearn-color-unfitted-level-0);\n",
       "  border: .5pt solid var(--sklearn-color-unfitted-level-3);\n",
       "}\n",
       "\n",
       ".sk-estimator-doc-link.fitted span {\n",
       "  /* fitted */\n",
       "  background: var(--sklearn-color-fitted-level-0);\n",
       "  border: var(--sklearn-color-fitted-level-3);\n",
       "}\n",
       "\n",
       ".sk-estimator-doc-link:hover span {\n",
       "  display: block;\n",
       "}\n",
       "\n",
       "/* \"?\"-specific style due to the `<a>` HTML tag */\n",
       "\n",
       "#sk-container-id-1 a.estimator_doc_link {\n",
       "  float: right;\n",
       "  font-size: 1rem;\n",
       "  line-height: 1em;\n",
       "  font-family: monospace;\n",
       "  background-color: var(--sklearn-color-background);\n",
       "  border-radius: 1rem;\n",
       "  height: 1rem;\n",
       "  width: 1rem;\n",
       "  text-decoration: none;\n",
       "  /* unfitted */\n",
       "  color: var(--sklearn-color-unfitted-level-1);\n",
       "  border: var(--sklearn-color-unfitted-level-1) 1pt solid;\n",
       "}\n",
       "\n",
       "#sk-container-id-1 a.estimator_doc_link.fitted {\n",
       "  /* fitted */\n",
       "  border: var(--sklearn-color-fitted-level-1) 1pt solid;\n",
       "  color: var(--sklearn-color-fitted-level-1);\n",
       "}\n",
       "\n",
       "/* On hover */\n",
       "#sk-container-id-1 a.estimator_doc_link:hover {\n",
       "  /* unfitted */\n",
       "  background-color: var(--sklearn-color-unfitted-level-3);\n",
       "  color: var(--sklearn-color-background);\n",
       "  text-decoration: none;\n",
       "}\n",
       "\n",
       "#sk-container-id-1 a.estimator_doc_link.fitted:hover {\n",
       "  /* fitted */\n",
       "  background-color: var(--sklearn-color-fitted-level-3);\n",
       "}\n",
       "</style><div id=\"sk-container-id-1\" class=\"sk-top-container\"><div class=\"sk-text-repr-fallback\"><pre>Pipeline(steps=[(&#x27;standard_scaler&#x27;, StandardScaler()),\n",
       "                (&#x27;Classifier&#x27;, LogisticRegression(max_iter=1000))])</pre><b>In a Jupyter environment, please rerun this cell to show the HTML representation or trust the notebook. <br />On GitHub, the HTML representation is unable to render, please try loading this page with nbviewer.org.</b></div><div class=\"sk-container\" hidden><div class=\"sk-item sk-dashed-wrapped\"><div class=\"sk-label-container\"><div class=\"sk-label fitted sk-toggleable\"><input class=\"sk-toggleable__control sk-hidden--visually\" id=\"sk-estimator-id-1\" type=\"checkbox\" ><label for=\"sk-estimator-id-1\" class=\"sk-toggleable__label fitted sk-toggleable__label-arrow\"><div><div>Pipeline</div></div><div><a class=\"sk-estimator-doc-link fitted\" rel=\"noreferrer\" target=\"_blank\" href=\"https://scikit-learn.org/1.6/modules/generated/sklearn.pipeline.Pipeline.html\">?<span>Documentation for Pipeline</span></a><span class=\"sk-estimator-doc-link fitted\">i<span>Fitted</span></span></div></label><div class=\"sk-toggleable__content fitted\"><pre>Pipeline(steps=[(&#x27;standard_scaler&#x27;, StandardScaler()),\n",
       "                (&#x27;Classifier&#x27;, LogisticRegression(max_iter=1000))])</pre></div> </div></div><div class=\"sk-serial\"><div class=\"sk-item\"><div class=\"sk-estimator fitted sk-toggleable\"><input class=\"sk-toggleable__control sk-hidden--visually\" id=\"sk-estimator-id-2\" type=\"checkbox\" ><label for=\"sk-estimator-id-2\" class=\"sk-toggleable__label fitted sk-toggleable__label-arrow\"><div><div>StandardScaler</div></div><div><a class=\"sk-estimator-doc-link fitted\" rel=\"noreferrer\" target=\"_blank\" href=\"https://scikit-learn.org/1.6/modules/generated/sklearn.preprocessing.StandardScaler.html\">?<span>Documentation for StandardScaler</span></a></div></label><div class=\"sk-toggleable__content fitted\"><pre>StandardScaler()</pre></div> </div></div><div class=\"sk-item\"><div class=\"sk-estimator fitted sk-toggleable\"><input class=\"sk-toggleable__control sk-hidden--visually\" id=\"sk-estimator-id-3\" type=\"checkbox\" ><label for=\"sk-estimator-id-3\" class=\"sk-toggleable__label fitted sk-toggleable__label-arrow\"><div><div>LogisticRegression</div></div><div><a class=\"sk-estimator-doc-link fitted\" rel=\"noreferrer\" target=\"_blank\" href=\"https://scikit-learn.org/1.6/modules/generated/sklearn.linear_model.LogisticRegression.html\">?<span>Documentation for LogisticRegression</span></a></div></label><div class=\"sk-toggleable__content fitted\"><pre>LogisticRegression(max_iter=1000)</pre></div> </div></div></div></div></div></div>"
      ],
      "text/plain": [
       "Pipeline(steps=[('standard_scaler', StandardScaler()),\n",
       "                ('Classifier', LogisticRegression(max_iter=1000))])"
      ]
     },
     "execution_count": 8,
     "metadata": {},
     "output_type": "execute_result"
    }
   ],
   "source": [
    "lg_model.fit(X_train, y_train)"
   ]
  },
  {
   "cell_type": "code",
   "execution_count": 9,
   "metadata": {},
   "outputs": [],
   "source": [
    "def evaluate_model(y_pred, y_true, return_metrics=True):\n",
    "    accuracy = accuracy_score(y_true, y_pred)\n",
    "    f1_macro = f1_score(y_true, y_pred, average='macro')\n",
    "    f1_micro = f1_score(y_true, y_pred, average='micro')\n",
    "    report = classification_report(y_true, y_pred)\n",
    "    conf_matrix = confusion_matrix(y_true, y_pred)\n",
    "\n",
    "    print(\"Accuracy:\", accuracy)\n",
    "    print(\"Macro F1 Score:\", f1_macro)\n",
    "    print(\"Micro F1 Score:\", f1_micro)\n",
    "    print(\"\\nClassification Report:\\n\", report)\n",
    "    print(\"Confusion Matrix:\\n\", conf_matrix)\n",
    "    if return_metrics :\n",
    "        return {\n",
    "            'accuracy': accuracy,\n",
    "            'f1_macro': f1_macro,\n",
    "            'f1_micro': f1_micro,\n",
    "            'classification_report': classification_report(y_true, y_pred, output_dict=True),\n",
    "            'confusion_matrix': conf_matrix.tolist()\n",
    "        }"
   ]
  },
  {
   "cell_type": "code",
   "execution_count": 10,
   "metadata": {},
   "outputs": [
    {
     "name": "stdout",
     "output_type": "stream",
     "text": [
      "Train score: 0.9375\n",
      "Accuracy: 0.93932527693857\n",
      "Macro F1 Score: 0.5951655102190604\n",
      "Micro F1 Score: 0.93932527693857\n",
      "\n",
      "Classification Report:\n",
      "               precision    recall  f1-score   support\n",
      "\n",
      "           0       1.00      0.53      0.69        34\n",
      "           1       0.69      0.16      0.26       210\n",
      "           2       0.94      0.99      0.97      3684\n",
      "           3       0.62      0.36      0.46        44\n",
      "\n",
      "    accuracy                           0.94      3972\n",
      "   macro avg       0.81      0.51      0.60      3972\n",
      "weighted avg       0.93      0.94      0.92      3972\n",
      "\n",
      "Confusion Matrix:\n",
      " [[  18    0   16    0]\n",
      " [   0   34  172    4]\n",
      " [   0   15 3663    6]\n",
      " [   0    0   28   16]]\n"
     ]
    }
   ],
   "source": [
    "y_pred = lg_model.predict(X_test)\n",
    "print(f\"Train score: {lg_model.score(X_train, y_train)}\")\n",
    "evaluate_model(y_pred, y_test, False)"
   ]
  },
  {
   "cell_type": "code",
   "execution_count": 11,
   "metadata": {},
   "outputs": [],
   "source": [
    "def get_RF_model() :\n",
    "    model = Pipeline(steps=[\n",
    "        (\"standard_scaler\", StandardScaler()),\n",
    "        (\"Classifier\",RandomForestClassifier(random_state=24))\n",
    "    ])\n",
    "    return model"
   ]
  },
  {
   "cell_type": "code",
   "execution_count": 12,
   "metadata": {},
   "outputs": [],
   "source": [
    "def get_XGBC_model() :\n",
    "    model = Pipeline(steps=[\n",
    "        (\"standard_scaler\", StandardScaler()),\n",
    "        (\"Classifier\",XGBClassifier(random_state=24))\n",
    "    ])\n",
    "    return model"
   ]
  },
  {
   "cell_type": "code",
   "execution_count": 13,
   "metadata": {},
   "outputs": [],
   "source": [
    "def get_SVC_model() :\n",
    "    model = Pipeline(steps=[\n",
    "        (\"standard_scaler\", StandardScaler()),\n",
    "        (\"Classifier\",SVC())\n",
    "    ])\n",
    "    return model"
   ]
  },
  {
   "cell_type": "code",
   "execution_count": 14,
   "metadata": {},
   "outputs": [],
   "source": [
    "dataset_config = {\n",
    "    \"names\": [\"raw_data\", \"adasyn_oversampled\", \"random_oversampled\"],\n",
    "    \"features\": {\n",
    "        \"raw_data\": X_train,\n",
    "        \"adasyn_oversampled\": X_train_resampled_ada,\n",
    "        \"random_oversampled\": X_train_resampled_ros\n",
    "    },\n",
    "    \"labels\": {\n",
    "        \"raw_data\": y_train,\n",
    "        \"adasyn_oversampled\": y_train_resampled_ada,\n",
    "        \"random_oversampled\": y_train_resampled_ros\n",
    "    }\n",
    "}\n",
    "\n",
    "model_config = {\n",
    "    \"classifier_names\": [\n",
    "        \"logistic_regression\", \n",
    "        \"random_forest\", \n",
    "        \"xgboost_classifier\", \n",
    "        \"support_vector_machine\"\n",
    "    ],\n",
    "    \"initializers\": {\n",
    "        \"logistic_regression\": get_LG_model,\n",
    "        \"random_forest\": get_RF_model,\n",
    "        \"xgboost_classifier\": get_XGBC_model,\n",
    "        \"support_vector_machine\": get_SVC_model\n",
    "    }\n",
    "}"
   ]
  },
  {
   "cell_type": "code",
   "execution_count": 15,
   "metadata": {},
   "outputs": [
    {
     "name": "stdout",
     "output_type": "stream",
     "text": [
      "\n",
      "Evaluating logistic_regression on raw_data\n",
      "Train score: 0.9375\n",
      "Accuracy: 0.93932527693857\n",
      "Macro F1 Score: 0.5951655102190604\n",
      "Micro F1 Score: 0.93932527693857\n",
      "\n",
      "Classification Report:\n",
      "               precision    recall  f1-score   support\n",
      "\n",
      "           0       1.00      0.53      0.69        34\n",
      "           1       0.69      0.16      0.26       210\n",
      "           2       0.94      0.99      0.97      3684\n",
      "           3       0.62      0.36      0.46        44\n",
      "\n",
      "    accuracy                           0.94      3972\n",
      "   macro avg       0.81      0.51      0.60      3972\n",
      "weighted avg       0.93      0.94      0.92      3972\n",
      "\n",
      "Confusion Matrix:\n",
      " [[  18    0   16    0]\n",
      " [   0   34  172    4]\n",
      " [   0   15 3663    6]\n",
      " [   0    0   28   16]]\n",
      "\n",
      "Evaluating random_forest on raw_data\n",
      "Train score: 1.0\n",
      "Accuracy: 0.9675226586102719\n",
      "Macro F1 Score: 0.8366145706220507\n",
      "Micro F1 Score: 0.9675226586102719\n",
      "\n",
      "Classification Report:\n",
      "               precision    recall  f1-score   support\n",
      "\n",
      "           0       1.00      0.79      0.89        34\n",
      "           1       0.99      0.49      0.65       210\n",
      "           2       0.97      1.00      0.98      3684\n",
      "           3       1.00      0.70      0.83        44\n",
      "\n",
      "    accuracy                           0.97      3972\n",
      "   macro avg       0.99      0.75      0.84      3972\n",
      "weighted avg       0.97      0.97      0.96      3972\n",
      "\n",
      "Confusion Matrix:\n",
      " [[  27    0    7    0]\n",
      " [   0  102  108    0]\n",
      " [   0    1 3683    0]\n",
      " [   0    0   13   31]]\n",
      "\n",
      "Evaluating xgboost_classifier on raw_data\n",
      "Train score: 1.0\n",
      "Accuracy: 0.9813695871097684\n",
      "Macro F1 Score: 0.9086579132535846\n",
      "Micro F1 Score: 0.9813695871097684\n",
      "\n",
      "Classification Report:\n",
      "               precision    recall  f1-score   support\n",
      "\n",
      "           0       0.97      0.82      0.89        34\n",
      "           1       0.99      0.71      0.83       210\n",
      "           2       0.98      1.00      0.99      3684\n",
      "           3       1.00      0.86      0.93        44\n",
      "\n",
      "    accuracy                           0.98      3972\n",
      "   macro avg       0.98      0.85      0.91      3972\n",
      "weighted avg       0.98      0.98      0.98      3972\n",
      "\n",
      "Confusion Matrix:\n",
      " [[  28    0    6    0]\n",
      " [   0  150   60    0]\n",
      " [   0    2 3682    0]\n",
      " [   1    0    5   38]]\n",
      "\n",
      "Evaluating support_vector_machine on raw_data\n",
      "Train score: 0.9485146022155085\n",
      "Accuracy: 0.9451158106747231\n",
      "Macro F1 Score: 0.5828803777730258\n",
      "Micro F1 Score: 0.9451158106747231\n",
      "\n",
      "Classification Report:\n",
      "               precision    recall  f1-score   support\n",
      "\n",
      "           0       1.00      0.53      0.69        34\n",
      "           1       0.92      0.22      0.36       210\n",
      "           2       0.95      1.00      0.97      3684\n",
      "           3       1.00      0.18      0.31        44\n",
      "\n",
      "    accuracy                           0.95      3972\n",
      "   macro avg       0.97      0.48      0.58      3972\n",
      "weighted avg       0.94      0.95      0.93      3972\n",
      "\n",
      "Confusion Matrix:\n",
      " [[  18    0   16    0]\n",
      " [   0   47  163    0]\n",
      " [   0    3 3681    0]\n",
      " [   0    1   35    8]]\n",
      "\n",
      "Evaluating logistic_regression on adasyn_oversampled\n",
      "Train score: 0.7600704934541792\n",
      "Accuracy: 0.7646022155085599\n",
      "Macro F1 Score: 0.45957903722653454\n",
      "Micro F1 Score: 0.7646022155085599\n",
      "\n",
      "Classification Report:\n",
      "               precision    recall  f1-score   support\n",
      "\n",
      "           0       0.19      0.97      0.32        34\n",
      "           1       0.21      0.77      0.33       210\n",
      "           2       0.98      0.76      0.86      3684\n",
      "           3       0.20      0.89      0.33        44\n",
      "\n",
      "    accuracy                           0.76      3972\n",
      "   macro avg       0.40      0.85      0.46      3972\n",
      "weighted avg       0.93      0.76      0.82      3972\n",
      "\n",
      "Confusion Matrix:\n",
      " [[  33    0    0    1]\n",
      " [   1  161   43    5]\n",
      " [ 138  593 2804  149]\n",
      " [   1    2    2   39]]\n",
      "\n",
      "Evaluating random_forest on adasyn_oversampled\n",
      "Train score: 1.0\n",
      "Accuracy: 0.9768378650553877\n",
      "Macro F1 Score: 0.9111530544345985\n",
      "Micro F1 Score: 0.9768378650553877\n",
      "\n",
      "Classification Report:\n",
      "               precision    recall  f1-score   support\n",
      "\n",
      "           0       1.00      0.76      0.87        34\n",
      "           1       0.80      0.80      0.80       210\n",
      "           2       0.99      0.99      0.99      3684\n",
      "           3       1.00      0.98      0.99        44\n",
      "\n",
      "    accuracy                           0.98      3972\n",
      "   macro avg       0.95      0.88      0.91      3972\n",
      "weighted avg       0.98      0.98      0.98      3972\n",
      "\n",
      "Confusion Matrix:\n",
      " [[  26    0    8    0]\n",
      " [   0  168   42    0]\n",
      " [   0   41 3643    0]\n",
      " [   0    0    1   43]]\n",
      "\n",
      "Evaluating xgboost_classifier on adasyn_oversampled\n",
      "Train score: 1.0\n",
      "Accuracy: 0.9780966767371602\n",
      "Macro F1 Score: 0.9121882901107747\n",
      "Micro F1 Score: 0.9780966767371602\n",
      "\n",
      "Classification Report:\n",
      "               precision    recall  f1-score   support\n",
      "\n",
      "           0       0.84      0.91      0.87        34\n",
      "           1       0.82      0.80      0.81       210\n",
      "           2       0.99      0.99      0.99      3684\n",
      "           3       0.98      0.98      0.98        44\n",
      "\n",
      "    accuracy                           0.98      3972\n",
      "   macro avg       0.91      0.92      0.91      3972\n",
      "weighted avg       0.98      0.98      0.98      3972\n",
      "\n",
      "Confusion Matrix:\n",
      " [[  31    0    3    0]\n",
      " [   1  168   40    1]\n",
      " [   4   37 3643    0]\n",
      " [   1    0    0   43]]\n",
      "\n",
      "Evaluating support_vector_machine on adasyn_oversampled\n",
      "Train score: 0.9339123867069486\n",
      "Accuracy: 0.9227089627391742\n",
      "Macro F1 Score: 0.7938843349095666\n",
      "Micro F1 Score: 0.9227089627391742\n",
      "\n",
      "Classification Report:\n",
      "               precision    recall  f1-score   support\n",
      "\n",
      "           0       0.86      0.88      0.87        34\n",
      "           1       0.41      0.80      0.54       210\n",
      "           2       0.99      0.93      0.96      3684\n",
      "           3       0.68      0.98      0.80        44\n",
      "\n",
      "    accuracy                           0.92      3972\n",
      "   macro avg       0.74      0.90      0.79      3972\n",
      "weighted avg       0.95      0.92      0.93      3972\n",
      "\n",
      "Confusion Matrix:\n",
      " [[  30    0    4    0]\n",
      " [   1  167   42    0]\n",
      " [   4  235 3425   20]\n",
      " [   0    1    0   43]]\n",
      "\n",
      "Evaluating logistic_regression on random_oversampled\n",
      "Train score: 0.7493076535750252\n",
      "Accuracy: 0.7477341389728097\n",
      "Macro F1 Score: 0.4439591123906492\n",
      "Micro F1 Score: 0.7477341389728097\n",
      "\n",
      "Classification Report:\n",
      "               precision    recall  f1-score   support\n",
      "\n",
      "           0       0.18      0.97      0.30        34\n",
      "           1       0.21      0.77      0.32       210\n",
      "           2       0.98      0.74      0.85      3684\n",
      "           3       0.18      0.91      0.31        44\n",
      "\n",
      "    accuracy                           0.75      3972\n",
      "   macro avg       0.39      0.85      0.44      3972\n",
      "weighted avg       0.93      0.75      0.81      3972\n",
      "\n",
      "Confusion Matrix:\n",
      " [[  33    0    0    1]\n",
      " [   1  162   41    6]\n",
      " [ 152  627 2735  170]\n",
      " [   1    0    3   40]]\n",
      "\n",
      "Evaluating random_forest on random_oversampled\n",
      "Train score: 1.0\n",
      "Accuracy: 0.9715508559919436\n",
      "Macro F1 Score: 0.8659952554843773\n",
      "Micro F1 Score: 0.9715508559919436\n",
      "\n",
      "Classification Report:\n",
      "               precision    recall  f1-score   support\n",
      "\n",
      "           0       1.00      0.74      0.85        34\n",
      "           1       0.96      0.56      0.70       210\n",
      "           2       0.97      1.00      0.98      3684\n",
      "           3       1.00      0.86      0.93        44\n",
      "\n",
      "    accuracy                           0.97      3972\n",
      "   macro avg       0.98      0.79      0.87      3972\n",
      "weighted avg       0.97      0.97      0.97      3972\n",
      "\n",
      "Confusion Matrix:\n",
      " [[  25    0    9    0]\n",
      " [   0  117   93    0]\n",
      " [   0    5 3679    0]\n",
      " [   0    0    6   38]]\n",
      "\n",
      "Evaluating xgboost_classifier on random_oversampled\n",
      "Train score: 1.0\n",
      "Accuracy: 0.9866565961732124\n",
      "Macro F1 Score: 0.9424119423545404\n",
      "Micro F1 Score: 0.9866565961732124\n",
      "\n",
      "Classification Report:\n",
      "               precision    recall  f1-score   support\n",
      "\n",
      "           0       0.97      0.85      0.91        34\n",
      "           1       0.96      0.82      0.88       210\n",
      "           2       0.99      1.00      0.99      3684\n",
      "           3       1.00      0.98      0.99        44\n",
      "\n",
      "    accuracy                           0.99      3972\n",
      "   macro avg       0.98      0.91      0.94      3972\n",
      "weighted avg       0.99      0.99      0.99      3972\n",
      "\n",
      "Confusion Matrix:\n",
      " [[  29    0    5    0]\n",
      " [   0  172   38    0]\n",
      " [   1    8 3675    0]\n",
      " [   0    0    1   43]]\n",
      "\n",
      "Evaluating support_vector_machine on random_oversampled\n",
      "Train score: 0.9193731117824774\n",
      "Accuracy: 0.9045820745216515\n",
      "Macro F1 Score: 0.7715494287859124\n",
      "Micro F1 Score: 0.9045820745216515\n",
      "\n",
      "Classification Report:\n",
      "               precision    recall  f1-score   support\n",
      "\n",
      "           0       0.73      0.94      0.82        34\n",
      "           1       0.36      0.85      0.51       210\n",
      "           2       0.99      0.91      0.95      3684\n",
      "           3       0.69      0.98      0.81        44\n",
      "\n",
      "    accuracy                           0.90      3972\n",
      "   macro avg       0.69      0.92      0.77      3972\n",
      "weighted avg       0.95      0.90      0.92      3972\n",
      "\n",
      "Confusion Matrix:\n",
      " [[  32    0    2    0]\n",
      " [   1  179   30    0]\n",
      " [  11  315 3339   19]\n",
      " [   0    1    0   43]]\n"
     ]
    }
   ],
   "source": [
    "metrics_store = {}\n",
    "\n",
    "for ds_name in dataset_config[\"names\"]:\n",
    "    metrics_store[ds_name] = {}\n",
    "    X_data = dataset_config[\"features\"][ds_name]\n",
    "    y_data = dataset_config[\"labels\"][ds_name]\n",
    "    \n",
    "    for model_name in model_config[\"classifier_names\"]:\n",
    "        print(f\"\\nEvaluating {model_name} on {ds_name}\")\n",
    "        \n",
    "        classifier = model_config[\"initializers\"][model_name]()\n",
    "        \n",
    "        start_time = time.time()\n",
    "        classifier.fit(X_data, y_data)\n",
    "        training_time = time.time() - start_time\n",
    "        \n",
    "        y_pred = classifier.predict(X_test)\n",
    "        \n",
    "        print(f\"Train score: {classifier.score(X_train, y_train)}\")\n",
    "        metrics = evaluate_model(y_pred, y_test)\n",
    "        \n",
    "        metrics_store[ds_name][model_name] = {\n",
    "            **metrics,\n",
    "            \"training_time\": training_time\n",
    "        }\n",
    "        "
   ]
  },
  {
   "cell_type": "code",
   "execution_count": 16,
   "metadata": {},
   "outputs": [
    {
     "data": {
      "application/vnd.plotly.v1+json": {
       "config": {
        "plotlyServerURL": "https://plot.ly"
       },
       "data": [
        {
         "alignmentgroup": "True",
         "hovertemplate": "Dataset=raw data<br>Metric=Accuracy<br>Model=%{x}<br>Score=%{y}<extra></extra>",
         "legendgroup": "raw data",
         "marker": {
          "color": "#636efa",
          "pattern": {
           "shape": ""
          }
         },
         "name": "raw data",
         "offsetgroup": "raw data",
         "orientation": "v",
         "showlegend": true,
         "textposition": "auto",
         "type": "bar",
         "x": [
          "logistic regression",
          "random forest",
          "xgboost classifier",
          "support vector machine"
         ],
         "xaxis": "x",
         "y": [
          0.93932527693857,
          0.9675226586102719,
          0.9813695871097684,
          0.9451158106747231
         ],
         "yaxis": "y"
        },
        {
         "alignmentgroup": "True",
         "hovertemplate": "Dataset=raw data<br>Metric=F1 Macro<br>Model=%{x}<br>Score=%{y}<extra></extra>",
         "legendgroup": "raw data",
         "marker": {
          "color": "#636efa",
          "pattern": {
           "shape": ""
          }
         },
         "name": "raw data",
         "offsetgroup": "raw data",
         "orientation": "v",
         "showlegend": false,
         "textposition": "auto",
         "type": "bar",
         "x": [
          "logistic regression",
          "random forest",
          "xgboost classifier",
          "support vector machine"
         ],
         "xaxis": "x2",
         "y": [
          0.5951655102190604,
          0.8366145706220507,
          0.9086579132535846,
          0.5828803777730258
         ],
         "yaxis": "y2"
        },
        {
         "alignmentgroup": "True",
         "hovertemplate": "Dataset=raw data<br>Metric=F1 Micro<br>Model=%{x}<br>Score=%{y}<extra></extra>",
         "legendgroup": "raw data",
         "marker": {
          "color": "#636efa",
          "pattern": {
           "shape": ""
          }
         },
         "name": "raw data",
         "offsetgroup": "raw data",
         "orientation": "v",
         "showlegend": false,
         "textposition": "auto",
         "type": "bar",
         "x": [
          "logistic regression",
          "random forest",
          "xgboost classifier",
          "support vector machine"
         ],
         "xaxis": "x3",
         "y": [
          0.93932527693857,
          0.9675226586102719,
          0.9813695871097684,
          0.9451158106747231
         ],
         "yaxis": "y3"
        },
        {
         "alignmentgroup": "True",
         "hovertemplate": "Dataset=adasyn oversampled<br>Metric=Accuracy<br>Model=%{x}<br>Score=%{y}<extra></extra>",
         "legendgroup": "adasyn oversampled",
         "marker": {
          "color": "#EF553B",
          "pattern": {
           "shape": ""
          }
         },
         "name": "adasyn oversampled",
         "offsetgroup": "adasyn oversampled",
         "orientation": "v",
         "showlegend": true,
         "textposition": "auto",
         "type": "bar",
         "x": [
          "logistic regression",
          "random forest",
          "xgboost classifier",
          "support vector machine"
         ],
         "xaxis": "x",
         "y": [
          0.7646022155085599,
          0.9768378650553877,
          0.9780966767371602,
          0.9227089627391742
         ],
         "yaxis": "y"
        },
        {
         "alignmentgroup": "True",
         "hovertemplate": "Dataset=adasyn oversampled<br>Metric=F1 Macro<br>Model=%{x}<br>Score=%{y}<extra></extra>",
         "legendgroup": "adasyn oversampled",
         "marker": {
          "color": "#EF553B",
          "pattern": {
           "shape": ""
          }
         },
         "name": "adasyn oversampled",
         "offsetgroup": "adasyn oversampled",
         "orientation": "v",
         "showlegend": false,
         "textposition": "auto",
         "type": "bar",
         "x": [
          "logistic regression",
          "random forest",
          "xgboost classifier",
          "support vector machine"
         ],
         "xaxis": "x2",
         "y": [
          0.45957903722653454,
          0.9111530544345985,
          0.9121882901107747,
          0.7938843349095666
         ],
         "yaxis": "y2"
        },
        {
         "alignmentgroup": "True",
         "hovertemplate": "Dataset=adasyn oversampled<br>Metric=F1 Micro<br>Model=%{x}<br>Score=%{y}<extra></extra>",
         "legendgroup": "adasyn oversampled",
         "marker": {
          "color": "#EF553B",
          "pattern": {
           "shape": ""
          }
         },
         "name": "adasyn oversampled",
         "offsetgroup": "adasyn oversampled",
         "orientation": "v",
         "showlegend": false,
         "textposition": "auto",
         "type": "bar",
         "x": [
          "logistic regression",
          "random forest",
          "xgboost classifier",
          "support vector machine"
         ],
         "xaxis": "x3",
         "y": [
          0.7646022155085599,
          0.9768378650553877,
          0.9780966767371602,
          0.9227089627391742
         ],
         "yaxis": "y3"
        },
        {
         "alignmentgroup": "True",
         "hovertemplate": "Dataset=random oversampled<br>Metric=Accuracy<br>Model=%{x}<br>Score=%{y}<extra></extra>",
         "legendgroup": "random oversampled",
         "marker": {
          "color": "#00cc96",
          "pattern": {
           "shape": ""
          }
         },
         "name": "random oversampled",
         "offsetgroup": "random oversampled",
         "orientation": "v",
         "showlegend": true,
         "textposition": "auto",
         "type": "bar",
         "x": [
          "logistic regression",
          "random forest",
          "xgboost classifier",
          "support vector machine"
         ],
         "xaxis": "x",
         "y": [
          0.7477341389728097,
          0.9715508559919436,
          0.9866565961732124,
          0.9045820745216515
         ],
         "yaxis": "y"
        },
        {
         "alignmentgroup": "True",
         "hovertemplate": "Dataset=random oversampled<br>Metric=F1 Macro<br>Model=%{x}<br>Score=%{y}<extra></extra>",
         "legendgroup": "random oversampled",
         "marker": {
          "color": "#00cc96",
          "pattern": {
           "shape": ""
          }
         },
         "name": "random oversampled",
         "offsetgroup": "random oversampled",
         "orientation": "v",
         "showlegend": false,
         "textposition": "auto",
         "type": "bar",
         "x": [
          "logistic regression",
          "random forest",
          "xgboost classifier",
          "support vector machine"
         ],
         "xaxis": "x2",
         "y": [
          0.4439591123906492,
          0.8659952554843773,
          0.9424119423545404,
          0.7715494287859124
         ],
         "yaxis": "y2"
        },
        {
         "alignmentgroup": "True",
         "hovertemplate": "Dataset=random oversampled<br>Metric=F1 Micro<br>Model=%{x}<br>Score=%{y}<extra></extra>",
         "legendgroup": "random oversampled",
         "marker": {
          "color": "#00cc96",
          "pattern": {
           "shape": ""
          }
         },
         "name": "random oversampled",
         "offsetgroup": "random oversampled",
         "orientation": "v",
         "showlegend": false,
         "textposition": "auto",
         "type": "bar",
         "x": [
          "logistic regression",
          "random forest",
          "xgboost classifier",
          "support vector machine"
         ],
         "xaxis": "x3",
         "y": [
          0.7477341389728097,
          0.9715508559919436,
          0.9866565961732124,
          0.9045820745216515
         ],
         "yaxis": "y3"
        }
       ],
       "layout": {
        "annotations": [
         {
          "font": {},
          "showarrow": false,
          "text": "Metric=Accuracy",
          "x": 0.15999999999999998,
          "xanchor": "center",
          "xref": "paper",
          "y": 1,
          "yanchor": "bottom",
          "yref": "paper"
         },
         {
          "font": {},
          "showarrow": false,
          "text": "Metric=F1 Macro",
          "x": 0.49999999999999994,
          "xanchor": "center",
          "xref": "paper",
          "y": 1,
          "yanchor": "bottom",
          "yref": "paper"
         },
         {
          "font": {},
          "showarrow": false,
          "text": "Metric=F1 Micro",
          "x": 0.8399999999999999,
          "xanchor": "center",
          "xref": "paper",
          "y": 1,
          "yanchor": "bottom",
          "yref": "paper"
         }
        ],
        "barmode": "group",
        "legend": {
         "title": {
          "text": "Dataset"
         },
         "tracegroupgap": 0
        },
        "template": {
         "data": {
          "bar": [
           {
            "error_x": {
             "color": "#2a3f5f"
            },
            "error_y": {
             "color": "#2a3f5f"
            },
            "marker": {
             "line": {
              "color": "#E5ECF6",
              "width": 0.5
             },
             "pattern": {
              "fillmode": "overlay",
              "size": 10,
              "solidity": 0.2
             }
            },
            "type": "bar"
           }
          ],
          "barpolar": [
           {
            "marker": {
             "line": {
              "color": "#E5ECF6",
              "width": 0.5
             },
             "pattern": {
              "fillmode": "overlay",
              "size": 10,
              "solidity": 0.2
             }
            },
            "type": "barpolar"
           }
          ],
          "carpet": [
           {
            "aaxis": {
             "endlinecolor": "#2a3f5f",
             "gridcolor": "white",
             "linecolor": "white",
             "minorgridcolor": "white",
             "startlinecolor": "#2a3f5f"
            },
            "baxis": {
             "endlinecolor": "#2a3f5f",
             "gridcolor": "white",
             "linecolor": "white",
             "minorgridcolor": "white",
             "startlinecolor": "#2a3f5f"
            },
            "type": "carpet"
           }
          ],
          "choropleth": [
           {
            "colorbar": {
             "outlinewidth": 0,
             "ticks": ""
            },
            "type": "choropleth"
           }
          ],
          "contour": [
           {
            "colorbar": {
             "outlinewidth": 0,
             "ticks": ""
            },
            "colorscale": [
             [
              0,
              "#0d0887"
             ],
             [
              0.1111111111111111,
              "#46039f"
             ],
             [
              0.2222222222222222,
              "#7201a8"
             ],
             [
              0.3333333333333333,
              "#9c179e"
             ],
             [
              0.4444444444444444,
              "#bd3786"
             ],
             [
              0.5555555555555556,
              "#d8576b"
             ],
             [
              0.6666666666666666,
              "#ed7953"
             ],
             [
              0.7777777777777778,
              "#fb9f3a"
             ],
             [
              0.8888888888888888,
              "#fdca26"
             ],
             [
              1,
              "#f0f921"
             ]
            ],
            "type": "contour"
           }
          ],
          "contourcarpet": [
           {
            "colorbar": {
             "outlinewidth": 0,
             "ticks": ""
            },
            "type": "contourcarpet"
           }
          ],
          "heatmap": [
           {
            "colorbar": {
             "outlinewidth": 0,
             "ticks": ""
            },
            "colorscale": [
             [
              0,
              "#0d0887"
             ],
             [
              0.1111111111111111,
              "#46039f"
             ],
             [
              0.2222222222222222,
              "#7201a8"
             ],
             [
              0.3333333333333333,
              "#9c179e"
             ],
             [
              0.4444444444444444,
              "#bd3786"
             ],
             [
              0.5555555555555556,
              "#d8576b"
             ],
             [
              0.6666666666666666,
              "#ed7953"
             ],
             [
              0.7777777777777778,
              "#fb9f3a"
             ],
             [
              0.8888888888888888,
              "#fdca26"
             ],
             [
              1,
              "#f0f921"
             ]
            ],
            "type": "heatmap"
           }
          ],
          "heatmapgl": [
           {
            "colorbar": {
             "outlinewidth": 0,
             "ticks": ""
            },
            "colorscale": [
             [
              0,
              "#0d0887"
             ],
             [
              0.1111111111111111,
              "#46039f"
             ],
             [
              0.2222222222222222,
              "#7201a8"
             ],
             [
              0.3333333333333333,
              "#9c179e"
             ],
             [
              0.4444444444444444,
              "#bd3786"
             ],
             [
              0.5555555555555556,
              "#d8576b"
             ],
             [
              0.6666666666666666,
              "#ed7953"
             ],
             [
              0.7777777777777778,
              "#fb9f3a"
             ],
             [
              0.8888888888888888,
              "#fdca26"
             ],
             [
              1,
              "#f0f921"
             ]
            ],
            "type": "heatmapgl"
           }
          ],
          "histogram": [
           {
            "marker": {
             "pattern": {
              "fillmode": "overlay",
              "size": 10,
              "solidity": 0.2
             }
            },
            "type": "histogram"
           }
          ],
          "histogram2d": [
           {
            "colorbar": {
             "outlinewidth": 0,
             "ticks": ""
            },
            "colorscale": [
             [
              0,
              "#0d0887"
             ],
             [
              0.1111111111111111,
              "#46039f"
             ],
             [
              0.2222222222222222,
              "#7201a8"
             ],
             [
              0.3333333333333333,
              "#9c179e"
             ],
             [
              0.4444444444444444,
              "#bd3786"
             ],
             [
              0.5555555555555556,
              "#d8576b"
             ],
             [
              0.6666666666666666,
              "#ed7953"
             ],
             [
              0.7777777777777778,
              "#fb9f3a"
             ],
             [
              0.8888888888888888,
              "#fdca26"
             ],
             [
              1,
              "#f0f921"
             ]
            ],
            "type": "histogram2d"
           }
          ],
          "histogram2dcontour": [
           {
            "colorbar": {
             "outlinewidth": 0,
             "ticks": ""
            },
            "colorscale": [
             [
              0,
              "#0d0887"
             ],
             [
              0.1111111111111111,
              "#46039f"
             ],
             [
              0.2222222222222222,
              "#7201a8"
             ],
             [
              0.3333333333333333,
              "#9c179e"
             ],
             [
              0.4444444444444444,
              "#bd3786"
             ],
             [
              0.5555555555555556,
              "#d8576b"
             ],
             [
              0.6666666666666666,
              "#ed7953"
             ],
             [
              0.7777777777777778,
              "#fb9f3a"
             ],
             [
              0.8888888888888888,
              "#fdca26"
             ],
             [
              1,
              "#f0f921"
             ]
            ],
            "type": "histogram2dcontour"
           }
          ],
          "mesh3d": [
           {
            "colorbar": {
             "outlinewidth": 0,
             "ticks": ""
            },
            "type": "mesh3d"
           }
          ],
          "parcoords": [
           {
            "line": {
             "colorbar": {
              "outlinewidth": 0,
              "ticks": ""
             }
            },
            "type": "parcoords"
           }
          ],
          "pie": [
           {
            "automargin": true,
            "type": "pie"
           }
          ],
          "scatter": [
           {
            "fillpattern": {
             "fillmode": "overlay",
             "size": 10,
             "solidity": 0.2
            },
            "type": "scatter"
           }
          ],
          "scatter3d": [
           {
            "line": {
             "colorbar": {
              "outlinewidth": 0,
              "ticks": ""
             }
            },
            "marker": {
             "colorbar": {
              "outlinewidth": 0,
              "ticks": ""
             }
            },
            "type": "scatter3d"
           }
          ],
          "scattercarpet": [
           {
            "marker": {
             "colorbar": {
              "outlinewidth": 0,
              "ticks": ""
             }
            },
            "type": "scattercarpet"
           }
          ],
          "scattergeo": [
           {
            "marker": {
             "colorbar": {
              "outlinewidth": 0,
              "ticks": ""
             }
            },
            "type": "scattergeo"
           }
          ],
          "scattergl": [
           {
            "marker": {
             "colorbar": {
              "outlinewidth": 0,
              "ticks": ""
             }
            },
            "type": "scattergl"
           }
          ],
          "scattermapbox": [
           {
            "marker": {
             "colorbar": {
              "outlinewidth": 0,
              "ticks": ""
             }
            },
            "type": "scattermapbox"
           }
          ],
          "scatterpolar": [
           {
            "marker": {
             "colorbar": {
              "outlinewidth": 0,
              "ticks": ""
             }
            },
            "type": "scatterpolar"
           }
          ],
          "scatterpolargl": [
           {
            "marker": {
             "colorbar": {
              "outlinewidth": 0,
              "ticks": ""
             }
            },
            "type": "scatterpolargl"
           }
          ],
          "scatterternary": [
           {
            "marker": {
             "colorbar": {
              "outlinewidth": 0,
              "ticks": ""
             }
            },
            "type": "scatterternary"
           }
          ],
          "surface": [
           {
            "colorbar": {
             "outlinewidth": 0,
             "ticks": ""
            },
            "colorscale": [
             [
              0,
              "#0d0887"
             ],
             [
              0.1111111111111111,
              "#46039f"
             ],
             [
              0.2222222222222222,
              "#7201a8"
             ],
             [
              0.3333333333333333,
              "#9c179e"
             ],
             [
              0.4444444444444444,
              "#bd3786"
             ],
             [
              0.5555555555555556,
              "#d8576b"
             ],
             [
              0.6666666666666666,
              "#ed7953"
             ],
             [
              0.7777777777777778,
              "#fb9f3a"
             ],
             [
              0.8888888888888888,
              "#fdca26"
             ],
             [
              1,
              "#f0f921"
             ]
            ],
            "type": "surface"
           }
          ],
          "table": [
           {
            "cells": {
             "fill": {
              "color": "#EBF0F8"
             },
             "line": {
              "color": "white"
             }
            },
            "header": {
             "fill": {
              "color": "#C8D4E3"
             },
             "line": {
              "color": "white"
             }
            },
            "type": "table"
           }
          ]
         },
         "layout": {
          "annotationdefaults": {
           "arrowcolor": "#2a3f5f",
           "arrowhead": 0,
           "arrowwidth": 1
          },
          "autotypenumbers": "strict",
          "coloraxis": {
           "colorbar": {
            "outlinewidth": 0,
            "ticks": ""
           }
          },
          "colorscale": {
           "diverging": [
            [
             0,
             "#8e0152"
            ],
            [
             0.1,
             "#c51b7d"
            ],
            [
             0.2,
             "#de77ae"
            ],
            [
             0.3,
             "#f1b6da"
            ],
            [
             0.4,
             "#fde0ef"
            ],
            [
             0.5,
             "#f7f7f7"
            ],
            [
             0.6,
             "#e6f5d0"
            ],
            [
             0.7,
             "#b8e186"
            ],
            [
             0.8,
             "#7fbc41"
            ],
            [
             0.9,
             "#4d9221"
            ],
            [
             1,
             "#276419"
            ]
           ],
           "sequential": [
            [
             0,
             "#0d0887"
            ],
            [
             0.1111111111111111,
             "#46039f"
            ],
            [
             0.2222222222222222,
             "#7201a8"
            ],
            [
             0.3333333333333333,
             "#9c179e"
            ],
            [
             0.4444444444444444,
             "#bd3786"
            ],
            [
             0.5555555555555556,
             "#d8576b"
            ],
            [
             0.6666666666666666,
             "#ed7953"
            ],
            [
             0.7777777777777778,
             "#fb9f3a"
            ],
            [
             0.8888888888888888,
             "#fdca26"
            ],
            [
             1,
             "#f0f921"
            ]
           ],
           "sequentialminus": [
            [
             0,
             "#0d0887"
            ],
            [
             0.1111111111111111,
             "#46039f"
            ],
            [
             0.2222222222222222,
             "#7201a8"
            ],
            [
             0.3333333333333333,
             "#9c179e"
            ],
            [
             0.4444444444444444,
             "#bd3786"
            ],
            [
             0.5555555555555556,
             "#d8576b"
            ],
            [
             0.6666666666666666,
             "#ed7953"
            ],
            [
             0.7777777777777778,
             "#fb9f3a"
            ],
            [
             0.8888888888888888,
             "#fdca26"
            ],
            [
             1,
             "#f0f921"
            ]
           ]
          },
          "colorway": [
           "#636efa",
           "#EF553B",
           "#00cc96",
           "#ab63fa",
           "#FFA15A",
           "#19d3f3",
           "#FF6692",
           "#B6E880",
           "#FF97FF",
           "#FECB52"
          ],
          "font": {
           "color": "#2a3f5f"
          },
          "geo": {
           "bgcolor": "white",
           "lakecolor": "white",
           "landcolor": "#E5ECF6",
           "showlakes": true,
           "showland": true,
           "subunitcolor": "white"
          },
          "hoverlabel": {
           "align": "left"
          },
          "hovermode": "closest",
          "mapbox": {
           "style": "light"
          },
          "paper_bgcolor": "white",
          "plot_bgcolor": "#E5ECF6",
          "polar": {
           "angularaxis": {
            "gridcolor": "white",
            "linecolor": "white",
            "ticks": ""
           },
           "bgcolor": "#E5ECF6",
           "radialaxis": {
            "gridcolor": "white",
            "linecolor": "white",
            "ticks": ""
           }
          },
          "scene": {
           "xaxis": {
            "backgroundcolor": "#E5ECF6",
            "gridcolor": "white",
            "gridwidth": 2,
            "linecolor": "white",
            "showbackground": true,
            "ticks": "",
            "zerolinecolor": "white"
           },
           "yaxis": {
            "backgroundcolor": "#E5ECF6",
            "gridcolor": "white",
            "gridwidth": 2,
            "linecolor": "white",
            "showbackground": true,
            "ticks": "",
            "zerolinecolor": "white"
           },
           "zaxis": {
            "backgroundcolor": "#E5ECF6",
            "gridcolor": "white",
            "gridwidth": 2,
            "linecolor": "white",
            "showbackground": true,
            "ticks": "",
            "zerolinecolor": "white"
           }
          },
          "shapedefaults": {
           "line": {
            "color": "#2a3f5f"
           }
          },
          "ternary": {
           "aaxis": {
            "gridcolor": "white",
            "linecolor": "white",
            "ticks": ""
           },
           "baxis": {
            "gridcolor": "white",
            "linecolor": "white",
            "ticks": ""
           },
           "bgcolor": "#E5ECF6",
           "caxis": {
            "gridcolor": "white",
            "linecolor": "white",
            "ticks": ""
           }
          },
          "title": {
           "x": 0.05
          },
          "xaxis": {
           "automargin": true,
           "gridcolor": "white",
           "linecolor": "white",
           "ticks": "",
           "title": {
            "standoff": 15
           },
           "zerolinecolor": "white",
           "zerolinewidth": 2
          },
          "yaxis": {
           "automargin": true,
           "gridcolor": "white",
           "linecolor": "white",
           "ticks": "",
           "title": {
            "standoff": 15
           },
           "zerolinecolor": "white",
           "zerolinewidth": 2
          }
         }
        },
        "title": {
         "text": "Model Performance Metrics"
        },
        "xaxis": {
         "anchor": "y",
         "domain": [
          0,
          0.31999999999999995
         ],
         "title": {
          "text": "Model"
         }
        },
        "xaxis2": {
         "anchor": "y2",
         "domain": [
          0.33999999999999997,
          0.6599999999999999
         ],
         "matches": "x",
         "title": {
          "text": "Model"
         }
        },
        "xaxis3": {
         "anchor": "y3",
         "domain": [
          0.6799999999999999,
          0.9999999999999999
         ],
         "matches": "x",
         "title": {
          "text": "Model"
         }
        },
        "yaxis": {
         "anchor": "x",
         "domain": [
          0,
          1
         ],
         "title": {
          "text": "Score"
         }
        },
        "yaxis2": {
         "anchor": "x2",
         "domain": [
          0,
          1
         ],
         "matches": "y",
         "showticklabels": false
        },
        "yaxis3": {
         "anchor": "x3",
         "domain": [
          0,
          1
         ],
         "matches": "y",
         "showticklabels": false
        }
       }
      }
     },
     "metadata": {},
     "output_type": "display_data"
    },
    {
     "data": {
      "application/vnd.plotly.v1+json": {
       "config": {
        "plotlyServerURL": "https://plot.ly"
       },
       "data": [
        {
         "alignmentgroup": "True",
         "hovertemplate": "Dataset=raw data<br>Model=%{x}<br>Seconds=%{y}<extra></extra>",
         "legendgroup": "raw data",
         "marker": {
          "color": "#636efa",
          "pattern": {
           "shape": ""
          }
         },
         "name": "raw data",
         "offsetgroup": "raw data",
         "orientation": "v",
         "showlegend": true,
         "textposition": "auto",
         "type": "bar",
         "x": [
          "logistic regression",
          "random forest",
          "xgboost classifier",
          "support vector machine"
         ],
         "xaxis": "x",
         "y": [
          0.6621279716491699,
          10.544065952301025,
          2.6340737342834473,
          1.6792569160461426
         ],
         "yaxis": "y"
        },
        {
         "alignmentgroup": "True",
         "hovertemplate": "Dataset=adasyn oversampled<br>Model=%{x}<br>Seconds=%{y}<extra></extra>",
         "legendgroup": "adasyn oversampled",
         "marker": {
          "color": "#EF553B",
          "pattern": {
           "shape": ""
          }
         },
         "name": "adasyn oversampled",
         "offsetgroup": "adasyn oversampled",
         "orientation": "v",
         "showlegend": true,
         "textposition": "auto",
         "type": "bar",
         "x": [
          "logistic regression",
          "random forest",
          "xgboost classifier",
          "support vector machine"
         ],
         "xaxis": "x",
         "y": [
          6.465041399002075,
          46.27538466453552,
          6.366157293319702,
          15.891158103942871
         ],
         "yaxis": "y"
        },
        {
         "alignmentgroup": "True",
         "hovertemplate": "Dataset=random oversampled<br>Model=%{x}<br>Seconds=%{y}<extra></extra>",
         "legendgroup": "random oversampled",
         "marker": {
          "color": "#00cc96",
          "pattern": {
           "shape": ""
          }
         },
         "name": "random oversampled",
         "offsetgroup": "random oversampled",
         "orientation": "v",
         "showlegend": true,
         "textposition": "auto",
         "type": "bar",
         "x": [
          "logistic regression",
          "random forest",
          "xgboost classifier",
          "support vector machine"
         ],
         "xaxis": "x",
         "y": [
          6.803123712539673,
          12.316916942596436,
          5.737522602081299,
          16.83121919631958
         ],
         "yaxis": "y"
        }
       ],
       "layout": {
        "barmode": "group",
        "legend": {
         "title": {
          "text": "Dataset"
         },
         "tracegroupgap": 0
        },
        "template": {
         "data": {
          "bar": [
           {
            "error_x": {
             "color": "#2a3f5f"
            },
            "error_y": {
             "color": "#2a3f5f"
            },
            "marker": {
             "line": {
              "color": "#E5ECF6",
              "width": 0.5
             },
             "pattern": {
              "fillmode": "overlay",
              "size": 10,
              "solidity": 0.2
             }
            },
            "type": "bar"
           }
          ],
          "barpolar": [
           {
            "marker": {
             "line": {
              "color": "#E5ECF6",
              "width": 0.5
             },
             "pattern": {
              "fillmode": "overlay",
              "size": 10,
              "solidity": 0.2
             }
            },
            "type": "barpolar"
           }
          ],
          "carpet": [
           {
            "aaxis": {
             "endlinecolor": "#2a3f5f",
             "gridcolor": "white",
             "linecolor": "white",
             "minorgridcolor": "white",
             "startlinecolor": "#2a3f5f"
            },
            "baxis": {
             "endlinecolor": "#2a3f5f",
             "gridcolor": "white",
             "linecolor": "white",
             "minorgridcolor": "white",
             "startlinecolor": "#2a3f5f"
            },
            "type": "carpet"
           }
          ],
          "choropleth": [
           {
            "colorbar": {
             "outlinewidth": 0,
             "ticks": ""
            },
            "type": "choropleth"
           }
          ],
          "contour": [
           {
            "colorbar": {
             "outlinewidth": 0,
             "ticks": ""
            },
            "colorscale": [
             [
              0,
              "#0d0887"
             ],
             [
              0.1111111111111111,
              "#46039f"
             ],
             [
              0.2222222222222222,
              "#7201a8"
             ],
             [
              0.3333333333333333,
              "#9c179e"
             ],
             [
              0.4444444444444444,
              "#bd3786"
             ],
             [
              0.5555555555555556,
              "#d8576b"
             ],
             [
              0.6666666666666666,
              "#ed7953"
             ],
             [
              0.7777777777777778,
              "#fb9f3a"
             ],
             [
              0.8888888888888888,
              "#fdca26"
             ],
             [
              1,
              "#f0f921"
             ]
            ],
            "type": "contour"
           }
          ],
          "contourcarpet": [
           {
            "colorbar": {
             "outlinewidth": 0,
             "ticks": ""
            },
            "type": "contourcarpet"
           }
          ],
          "heatmap": [
           {
            "colorbar": {
             "outlinewidth": 0,
             "ticks": ""
            },
            "colorscale": [
             [
              0,
              "#0d0887"
             ],
             [
              0.1111111111111111,
              "#46039f"
             ],
             [
              0.2222222222222222,
              "#7201a8"
             ],
             [
              0.3333333333333333,
              "#9c179e"
             ],
             [
              0.4444444444444444,
              "#bd3786"
             ],
             [
              0.5555555555555556,
              "#d8576b"
             ],
             [
              0.6666666666666666,
              "#ed7953"
             ],
             [
              0.7777777777777778,
              "#fb9f3a"
             ],
             [
              0.8888888888888888,
              "#fdca26"
             ],
             [
              1,
              "#f0f921"
             ]
            ],
            "type": "heatmap"
           }
          ],
          "heatmapgl": [
           {
            "colorbar": {
             "outlinewidth": 0,
             "ticks": ""
            },
            "colorscale": [
             [
              0,
              "#0d0887"
             ],
             [
              0.1111111111111111,
              "#46039f"
             ],
             [
              0.2222222222222222,
              "#7201a8"
             ],
             [
              0.3333333333333333,
              "#9c179e"
             ],
             [
              0.4444444444444444,
              "#bd3786"
             ],
             [
              0.5555555555555556,
              "#d8576b"
             ],
             [
              0.6666666666666666,
              "#ed7953"
             ],
             [
              0.7777777777777778,
              "#fb9f3a"
             ],
             [
              0.8888888888888888,
              "#fdca26"
             ],
             [
              1,
              "#f0f921"
             ]
            ],
            "type": "heatmapgl"
           }
          ],
          "histogram": [
           {
            "marker": {
             "pattern": {
              "fillmode": "overlay",
              "size": 10,
              "solidity": 0.2
             }
            },
            "type": "histogram"
           }
          ],
          "histogram2d": [
           {
            "colorbar": {
             "outlinewidth": 0,
             "ticks": ""
            },
            "colorscale": [
             [
              0,
              "#0d0887"
             ],
             [
              0.1111111111111111,
              "#46039f"
             ],
             [
              0.2222222222222222,
              "#7201a8"
             ],
             [
              0.3333333333333333,
              "#9c179e"
             ],
             [
              0.4444444444444444,
              "#bd3786"
             ],
             [
              0.5555555555555556,
              "#d8576b"
             ],
             [
              0.6666666666666666,
              "#ed7953"
             ],
             [
              0.7777777777777778,
              "#fb9f3a"
             ],
             [
              0.8888888888888888,
              "#fdca26"
             ],
             [
              1,
              "#f0f921"
             ]
            ],
            "type": "histogram2d"
           }
          ],
          "histogram2dcontour": [
           {
            "colorbar": {
             "outlinewidth": 0,
             "ticks": ""
            },
            "colorscale": [
             [
              0,
              "#0d0887"
             ],
             [
              0.1111111111111111,
              "#46039f"
             ],
             [
              0.2222222222222222,
              "#7201a8"
             ],
             [
              0.3333333333333333,
              "#9c179e"
             ],
             [
              0.4444444444444444,
              "#bd3786"
             ],
             [
              0.5555555555555556,
              "#d8576b"
             ],
             [
              0.6666666666666666,
              "#ed7953"
             ],
             [
              0.7777777777777778,
              "#fb9f3a"
             ],
             [
              0.8888888888888888,
              "#fdca26"
             ],
             [
              1,
              "#f0f921"
             ]
            ],
            "type": "histogram2dcontour"
           }
          ],
          "mesh3d": [
           {
            "colorbar": {
             "outlinewidth": 0,
             "ticks": ""
            },
            "type": "mesh3d"
           }
          ],
          "parcoords": [
           {
            "line": {
             "colorbar": {
              "outlinewidth": 0,
              "ticks": ""
             }
            },
            "type": "parcoords"
           }
          ],
          "pie": [
           {
            "automargin": true,
            "type": "pie"
           }
          ],
          "scatter": [
           {
            "fillpattern": {
             "fillmode": "overlay",
             "size": 10,
             "solidity": 0.2
            },
            "type": "scatter"
           }
          ],
          "scatter3d": [
           {
            "line": {
             "colorbar": {
              "outlinewidth": 0,
              "ticks": ""
             }
            },
            "marker": {
             "colorbar": {
              "outlinewidth": 0,
              "ticks": ""
             }
            },
            "type": "scatter3d"
           }
          ],
          "scattercarpet": [
           {
            "marker": {
             "colorbar": {
              "outlinewidth": 0,
              "ticks": ""
             }
            },
            "type": "scattercarpet"
           }
          ],
          "scattergeo": [
           {
            "marker": {
             "colorbar": {
              "outlinewidth": 0,
              "ticks": ""
             }
            },
            "type": "scattergeo"
           }
          ],
          "scattergl": [
           {
            "marker": {
             "colorbar": {
              "outlinewidth": 0,
              "ticks": ""
             }
            },
            "type": "scattergl"
           }
          ],
          "scattermapbox": [
           {
            "marker": {
             "colorbar": {
              "outlinewidth": 0,
              "ticks": ""
             }
            },
            "type": "scattermapbox"
           }
          ],
          "scatterpolar": [
           {
            "marker": {
             "colorbar": {
              "outlinewidth": 0,
              "ticks": ""
             }
            },
            "type": "scatterpolar"
           }
          ],
          "scatterpolargl": [
           {
            "marker": {
             "colorbar": {
              "outlinewidth": 0,
              "ticks": ""
             }
            },
            "type": "scatterpolargl"
           }
          ],
          "scatterternary": [
           {
            "marker": {
             "colorbar": {
              "outlinewidth": 0,
              "ticks": ""
             }
            },
            "type": "scatterternary"
           }
          ],
          "surface": [
           {
            "colorbar": {
             "outlinewidth": 0,
             "ticks": ""
            },
            "colorscale": [
             [
              0,
              "#0d0887"
             ],
             [
              0.1111111111111111,
              "#46039f"
             ],
             [
              0.2222222222222222,
              "#7201a8"
             ],
             [
              0.3333333333333333,
              "#9c179e"
             ],
             [
              0.4444444444444444,
              "#bd3786"
             ],
             [
              0.5555555555555556,
              "#d8576b"
             ],
             [
              0.6666666666666666,
              "#ed7953"
             ],
             [
              0.7777777777777778,
              "#fb9f3a"
             ],
             [
              0.8888888888888888,
              "#fdca26"
             ],
             [
              1,
              "#f0f921"
             ]
            ],
            "type": "surface"
           }
          ],
          "table": [
           {
            "cells": {
             "fill": {
              "color": "#EBF0F8"
             },
             "line": {
              "color": "white"
             }
            },
            "header": {
             "fill": {
              "color": "#C8D4E3"
             },
             "line": {
              "color": "white"
             }
            },
            "type": "table"
           }
          ]
         },
         "layout": {
          "annotationdefaults": {
           "arrowcolor": "#2a3f5f",
           "arrowhead": 0,
           "arrowwidth": 1
          },
          "autotypenumbers": "strict",
          "coloraxis": {
           "colorbar": {
            "outlinewidth": 0,
            "ticks": ""
           }
          },
          "colorscale": {
           "diverging": [
            [
             0,
             "#8e0152"
            ],
            [
             0.1,
             "#c51b7d"
            ],
            [
             0.2,
             "#de77ae"
            ],
            [
             0.3,
             "#f1b6da"
            ],
            [
             0.4,
             "#fde0ef"
            ],
            [
             0.5,
             "#f7f7f7"
            ],
            [
             0.6,
             "#e6f5d0"
            ],
            [
             0.7,
             "#b8e186"
            ],
            [
             0.8,
             "#7fbc41"
            ],
            [
             0.9,
             "#4d9221"
            ],
            [
             1,
             "#276419"
            ]
           ],
           "sequential": [
            [
             0,
             "#0d0887"
            ],
            [
             0.1111111111111111,
             "#46039f"
            ],
            [
             0.2222222222222222,
             "#7201a8"
            ],
            [
             0.3333333333333333,
             "#9c179e"
            ],
            [
             0.4444444444444444,
             "#bd3786"
            ],
            [
             0.5555555555555556,
             "#d8576b"
            ],
            [
             0.6666666666666666,
             "#ed7953"
            ],
            [
             0.7777777777777778,
             "#fb9f3a"
            ],
            [
             0.8888888888888888,
             "#fdca26"
            ],
            [
             1,
             "#f0f921"
            ]
           ],
           "sequentialminus": [
            [
             0,
             "#0d0887"
            ],
            [
             0.1111111111111111,
             "#46039f"
            ],
            [
             0.2222222222222222,
             "#7201a8"
            ],
            [
             0.3333333333333333,
             "#9c179e"
            ],
            [
             0.4444444444444444,
             "#bd3786"
            ],
            [
             0.5555555555555556,
             "#d8576b"
            ],
            [
             0.6666666666666666,
             "#ed7953"
            ],
            [
             0.7777777777777778,
             "#fb9f3a"
            ],
            [
             0.8888888888888888,
             "#fdca26"
            ],
            [
             1,
             "#f0f921"
            ]
           ]
          },
          "colorway": [
           "#636efa",
           "#EF553B",
           "#00cc96",
           "#ab63fa",
           "#FFA15A",
           "#19d3f3",
           "#FF6692",
           "#B6E880",
           "#FF97FF",
           "#FECB52"
          ],
          "font": {
           "color": "#2a3f5f"
          },
          "geo": {
           "bgcolor": "white",
           "lakecolor": "white",
           "landcolor": "#E5ECF6",
           "showlakes": true,
           "showland": true,
           "subunitcolor": "white"
          },
          "hoverlabel": {
           "align": "left"
          },
          "hovermode": "closest",
          "mapbox": {
           "style": "light"
          },
          "paper_bgcolor": "white",
          "plot_bgcolor": "#E5ECF6",
          "polar": {
           "angularaxis": {
            "gridcolor": "white",
            "linecolor": "white",
            "ticks": ""
           },
           "bgcolor": "#E5ECF6",
           "radialaxis": {
            "gridcolor": "white",
            "linecolor": "white",
            "ticks": ""
           }
          },
          "scene": {
           "xaxis": {
            "backgroundcolor": "#E5ECF6",
            "gridcolor": "white",
            "gridwidth": 2,
            "linecolor": "white",
            "showbackground": true,
            "ticks": "",
            "zerolinecolor": "white"
           },
           "yaxis": {
            "backgroundcolor": "#E5ECF6",
            "gridcolor": "white",
            "gridwidth": 2,
            "linecolor": "white",
            "showbackground": true,
            "ticks": "",
            "zerolinecolor": "white"
           },
           "zaxis": {
            "backgroundcolor": "#E5ECF6",
            "gridcolor": "white",
            "gridwidth": 2,
            "linecolor": "white",
            "showbackground": true,
            "ticks": "",
            "zerolinecolor": "white"
           }
          },
          "shapedefaults": {
           "line": {
            "color": "#2a3f5f"
           }
          },
          "ternary": {
           "aaxis": {
            "gridcolor": "white",
            "linecolor": "white",
            "ticks": ""
           },
           "baxis": {
            "gridcolor": "white",
            "linecolor": "white",
            "ticks": ""
           },
           "bgcolor": "#E5ECF6",
           "caxis": {
            "gridcolor": "white",
            "linecolor": "white",
            "ticks": ""
           }
          },
          "title": {
           "x": 0.05
          },
          "xaxis": {
           "automargin": true,
           "gridcolor": "white",
           "linecolor": "white",
           "ticks": "",
           "title": {
            "standoff": 15
           },
           "zerolinecolor": "white",
           "zerolinewidth": 2
          },
          "yaxis": {
           "automargin": true,
           "gridcolor": "white",
           "linecolor": "white",
           "ticks": "",
           "title": {
            "standoff": 15
           },
           "zerolinecolor": "white",
           "zerolinewidth": 2
          }
         }
        },
        "title": {
         "text": "Model Training Times"
        },
        "xaxis": {
         "anchor": "y",
         "domain": [
          0,
          1
         ],
         "title": {
          "text": "Model"
         }
        },
        "yaxis": {
         "anchor": "x",
         "domain": [
          0,
          1
         ],
         "title": {
          "text": "Seconds"
         }
        }
       }
      }
     },
     "metadata": {},
     "output_type": "display_data"
    }
   ],
   "source": [
    "\n",
    "metrics_data = []\n",
    "for dataset_name, model_data in metrics_store.items():\n",
    "    for model_name, metrics in model_data.items():\n",
    "        metrics_data.append({\n",
    "            'Model': model_name.replace(\"_\", \" \"),\n",
    "            'Dataset': dataset_name.replace(\"_\", \" \"),\n",
    "            'Accuracy': metrics['accuracy'],\n",
    "            'F1 Macro': metrics['f1_macro'],\n",
    "            'F1 Micro': metrics['f1_micro'],\n",
    "            'Training Time': metrics['training_time']\n",
    "        })\n",
    "\n",
    "df = pd.DataFrame(metrics_data)\n",
    "\n",
    "# Create separate plots for performance metrics and training times\n",
    "fig_perf = px.bar(\n",
    "    df.melt(id_vars=['Model', 'Dataset'], \n",
    "            value_vars=['Accuracy', 'F1 Macro', 'F1 Micro'],\n",
    "            var_name='Metric'),\n",
    "    x='Model', y='value', color='Dataset',\n",
    "    facet_col='Metric', barmode='group',\n",
    "    title='Model Performance Metrics',\n",
    "    labels={'value': 'Score'}\n",
    ")\n",
    "\n",
    "fig_time = px.bar(\n",
    "    df, x='Model', y='Training Time', color='Dataset',\n",
    "    title='Model Training Times',\n",
    "    labels={'Training Time': 'Seconds'},\n",
    "    barmode='group'\n",
    ")\n",
    "\n",
    "fig_perf.show()\n",
    "fig_time.show()"
   ]
  },
  {
   "cell_type": "code",
   "execution_count": 17,
   "metadata": {},
   "outputs": [
    {
     "name": "stdout",
     "output_type": "stream",
     "text": [
      "Train score: 1.0\n",
      "Accuracy: 0.9859013091641491\n",
      "Macro F1 Score: 0.9436044533026076\n",
      "Micro F1 Score: 0.9859013091641491\n",
      "\n",
      "Classification Report:\n",
      "               precision    recall  f1-score   support\n",
      "\n",
      "           0       1.00      0.88      0.94        34\n",
      "           1       0.98      0.78      0.87       210\n",
      "           2       0.99      1.00      0.99      3684\n",
      "           3       1.00      0.95      0.98        44\n",
      "\n",
      "    accuracy                           0.99      3972\n",
      "   macro avg       0.99      0.90      0.94      3972\n",
      "weighted avg       0.99      0.99      0.99      3972\n",
      "\n",
      "Confusion Matrix:\n",
      " [[  30    0    4    0]\n",
      " [   0  164   46    0]\n",
      " [   0    4 3680    0]\n",
      " [   0    0    2   42]]\n",
      "OrderedDict({'colsample_bytree': 0.6, 'gamma': 0.0, 'learning_rate': 0.3, 'max_depth': 8, 'n_estimators': 500, 'reg_alpha': 0.0, 'reg_lambda': 0.0, 'subsample': 1.0})\n"
     ]
    }
   ],
   "source": [
    "\n",
    "search_spaces = {\n",
    "    'n_estimators': Integer(100, 500),  \n",
    "    'learning_rate': Real(0.001, 0.3, prior='log-uniform'),  \n",
    "    'max_depth': Integer(3, 8),  \n",
    "    'gamma': Real(0.0, 0.5),  \n",
    "    'colsample_bytree': Real(0.6, 1.0),  \n",
    "    'subsample': Real(0.6, 1.0),\n",
    "    'reg_alpha': Real(0.0, 1.0),\n",
    "    'reg_lambda': Real(0.0, 1.0)\n",
    "}\n",
    "\n",
    "bayes_search_XGBC = BayesSearchCV(\n",
    "    estimator=XGBClassifier(random_state=24),\n",
    "    search_spaces=search_spaces,\n",
    "    n_iter=100, \n",
    "    cv=3,\n",
    "    n_jobs=5,\n",
    "    scoring='f1_macro',\n",
    "    random_state=24\n",
    ")\n",
    "model_bayes_XGBC = Pipeline(steps=[\n",
    "    (\"standard_scaler\", StandardScaler()),\n",
    "    (\"Classifier\",bayes_search_XGBC)\n",
    "])\n",
    "model_bayes_XGBC.fit(X_train_resampled_ros, y_train_resampled_ros)\n",
    "\n",
    "y_pred = model_bayes_XGBC.predict(X_test)\n",
    "print(f\"Train score: {model_bayes_XGBC.score(X_train, y_train)}\")\n",
    "evaluate_model(y_pred, y_test, False)\n",
    "print(bayes_search_XGBC.best_params_)"
   ]
  },
  {
   "cell_type": "code",
   "execution_count": 18,
   "metadata": {},
   "outputs": [],
   "source": [
    "# Convert data to TensorFlow Dataset\n",
    "def create_dataset(X, y, batch_size=32, shuffle=True):\n",
    "    dataset = tf.data.Dataset.from_tensor_slices((X, y))\n",
    "    if shuffle:\n",
    "        dataset = dataset.shuffle(buffer_size=len(X))  \n",
    "    dataset = dataset.batch(batch_size)  \n",
    "    return dataset\n",
    "\n",
    "# Create training and testing datasets\n",
    "batch_size = 64\n",
    "train_dataset = create_dataset(X_train, pd.get_dummies(y_train, prefix='Type'), batch_size=batch_size)\n",
    "val_dataset = create_dataset(X_test, pd.get_dummies(y_test, prefix='Type'), batch_size=batch_size)\n",
    "train_dataset_ada = create_dataset(X_train_resampled_ada, pd.get_dummies(y_train_resampled_ada, prefix='Type'), batch_size=batch_size)\n",
    "train_dataset_ros = create_dataset(X_train_resampled_ros, pd.get_dummies(y_train_resampled_ros, prefix='Type'), batch_size=batch_size)"
   ]
  },
  {
   "cell_type": "code",
   "execution_count": 19,
   "metadata": {},
   "outputs": [],
   "source": [
    "input_shape = (X_train.shape[1],)\n",
    "def get_fc_model():\n",
    "    model = Sequential([\n",
    "        Input(shape=input_shape),\n",
    "        Dense(512, activation='relu'),\n",
    "        Dense(256, activation='relu'),\n",
    "        Dense(128, activation='relu'),\n",
    "        Dense(4, activation='softmax')\n",
    "    ])\n",
    "    return model"
   ]
  },
  {
   "cell_type": "code",
   "execution_count": 20,
   "metadata": {},
   "outputs": [],
   "source": [
    "lr_schedule = ExponentialDecay(\n",
    "    initial_learning_rate=3e-4,\n",
    "    decay_steps=1000,\n",
    "    decay_rate=0.9\n",
    ")\n",
    "\n",
    "class_weights = compute_class_weight(\n",
    "    'balanced',\n",
    "    classes=np.unique(y_train),  \n",
    "    y=y_train                  \n",
    ")\n",
    "class_weights = dict(enumerate(class_weights))\n",
    "\n",
    "callbacks = [\n",
    "    EarlyStopping(monitor='val_f1_macro', patience=25, restore_best_weights=True, mode='max'),\n",
    "    TerminateOnNaN()\n",
    "]\n",
    "\n",
    "loss = tf.keras.losses.CategoricalCrossentropy(label_smoothing=0.1)"
   ]
  },
  {
   "cell_type": "code",
   "execution_count": 21,
   "metadata": {},
   "outputs": [
    {
     "name": "stdout",
     "output_type": "stream",
     "text": [
      "Epoch 1/100\n",
      "\u001b[1m249/249\u001b[0m \u001b[32m━━━━━━━━━━━━━━━━━━━━\u001b[0m\u001b[37m\u001b[0m \u001b[1m1s\u001b[0m 3ms/step - accuracy: 0.4182 - f1_macro: 0.1805 - f1_micro: 0.4182 - loss: 1373.5647 - val_accuracy: 0.8424 - val_f1_macro: 0.2950 - val_f1_micro: 0.8424 - val_loss: 146.1216\n",
      "Epoch 2/100\n",
      "\u001b[1m249/249\u001b[0m \u001b[32m━━━━━━━━━━━━━━━━━━━━\u001b[0m\u001b[37m\u001b[0m \u001b[1m1s\u001b[0m 2ms/step - accuracy: 0.4000 - f1_macro: 0.1772 - f1_micro: 0.4000 - loss: 708.1039 - val_accuracy: 0.0697 - val_f1_macro: 0.0377 - val_f1_micro: 0.0697 - val_loss: 224.4837\n",
      "Epoch 3/100\n",
      "\u001b[1m249/249\u001b[0m \u001b[32m━━━━━━━━━━━━━━━━━━━━\u001b[0m\u001b[37m\u001b[0m \u001b[1m0s\u001b[0m 2ms/step - accuracy: 0.3636 - f1_macro: 0.1704 - f1_micro: 0.3636 - loss: 423.4774 - val_accuracy: 0.5904 - val_f1_macro: 0.2598 - val_f1_micro: 0.5904 - val_loss: 52.4290\n",
      "Epoch 4/100\n",
      "\u001b[1m249/249\u001b[0m \u001b[32m━━━━━━━━━━━━━━━━━━━━\u001b[0m\u001b[37m\u001b[0m \u001b[1m1s\u001b[0m 2ms/step - accuracy: 0.3819 - f1_macro: 0.1797 - f1_micro: 0.3819 - loss: 348.4711 - val_accuracy: 0.0244 - val_f1_macro: 0.0255 - val_f1_micro: 0.0244 - val_loss: 451.3761\n",
      "Epoch 5/100\n",
      "\u001b[1m249/249\u001b[0m \u001b[32m━━━━━━━━━━━━━━━━━━━━\u001b[0m\u001b[37m\u001b[0m \u001b[1m0s\u001b[0m 2ms/step - accuracy: 0.3504 - f1_macro: 0.1691 - f1_micro: 0.3504 - loss: 194.2097 - val_accuracy: 0.9089 - val_f1_macro: 0.2795 - val_f1_micro: 0.9089 - val_loss: 69.0699\n",
      "Epoch 6/100\n",
      "\u001b[1m249/249\u001b[0m \u001b[32m━━━━━━━━━━━━━━━━━━━━\u001b[0m\u001b[37m\u001b[0m \u001b[1m0s\u001b[0m 2ms/step - accuracy: 0.4238 - f1_macro: 0.1911 - f1_micro: 0.4238 - loss: 147.5995 - val_accuracy: 0.0584 - val_f1_macro: 0.0627 - val_f1_micro: 0.0584 - val_loss: 149.5848\n",
      "Epoch 7/100\n",
      "\u001b[1m249/249\u001b[0m \u001b[32m━━━━━━━━━━━━━━━━━━━━\u001b[0m\u001b[37m\u001b[0m \u001b[1m0s\u001b[0m 2ms/step - accuracy: 0.3629 - f1_macro: 0.1769 - f1_micro: 0.3629 - loss: 114.9806 - val_accuracy: 0.8741 - val_f1_macro: 0.3445 - val_f1_micro: 0.8741 - val_loss: 28.8654\n",
      "Epoch 8/100\n",
      "\u001b[1m249/249\u001b[0m \u001b[32m━━━━━━━━━━━━━━━━━━━━\u001b[0m\u001b[37m\u001b[0m \u001b[1m0s\u001b[0m 2ms/step - accuracy: 0.3744 - f1_macro: 0.1809 - f1_micro: 0.3744 - loss: 89.1811 - val_accuracy: 0.0655 - val_f1_macro: 0.0705 - val_f1_micro: 0.0655 - val_loss: 34.4601\n",
      "Epoch 9/100\n",
      "\u001b[1m249/249\u001b[0m \u001b[32m━━━━━━━━━━━━━━━━━━━━\u001b[0m\u001b[37m\u001b[0m \u001b[1m0s\u001b[0m 2ms/step - accuracy: 0.3640 - f1_macro: 0.1742 - f1_micro: 0.3640 - loss: 71.6189 - val_accuracy: 0.0692 - val_f1_macro: 0.0342 - val_f1_micro: 0.0692 - val_loss: 75.8643\n",
      "Epoch 10/100\n",
      "\u001b[1m249/249\u001b[0m \u001b[32m━━━━━━━━━━━━━━━━━━━━\u001b[0m\u001b[37m\u001b[0m \u001b[1m0s\u001b[0m 2ms/step - accuracy: 0.4147 - f1_macro: 0.1842 - f1_micro: 0.4147 - loss: 41.7599 - val_accuracy: 0.8590 - val_f1_macro: 0.2735 - val_f1_micro: 0.8590 - val_loss: 10.6186\n",
      "Epoch 11/100\n",
      "\u001b[1m249/249\u001b[0m \u001b[32m━━━━━━━━━━━━━━━━━━━━\u001b[0m\u001b[37m\u001b[0m \u001b[1m1s\u001b[0m 2ms/step - accuracy: 0.3360 - f1_macro: 0.1640 - f1_micro: 0.3360 - loss: 35.6245 - val_accuracy: 0.0214 - val_f1_macro: 0.0270 - val_f1_micro: 0.0214 - val_loss: 48.2665\n",
      "Epoch 12/100\n",
      "\u001b[1m249/249\u001b[0m \u001b[32m━━━━━━━━━━━━━━━━━━━━\u001b[0m\u001b[37m\u001b[0m \u001b[1m0s\u001b[0m 2ms/step - accuracy: 0.4074 - f1_macro: 0.1903 - f1_micro: 0.4074 - loss: 28.3508 - val_accuracy: 0.9003 - val_f1_macro: 0.3452 - val_f1_micro: 0.9003 - val_loss: 14.2128\n",
      "Epoch 13/100\n",
      "\u001b[1m249/249\u001b[0m \u001b[32m━━━━━━━━━━━━━━━━━━━━\u001b[0m\u001b[37m\u001b[0m \u001b[1m0s\u001b[0m 2ms/step - accuracy: 0.4372 - f1_macro: 0.2023 - f1_micro: 0.4372 - loss: 21.2829 - val_accuracy: 0.0206 - val_f1_macro: 0.0292 - val_f1_micro: 0.0206 - val_loss: 33.3553\n",
      "Epoch 14/100\n",
      "\u001b[1m249/249\u001b[0m \u001b[32m━━━━━━━━━━━━━━━━━━━━\u001b[0m\u001b[37m\u001b[0m \u001b[1m1s\u001b[0m 2ms/step - accuracy: 0.3760 - f1_macro: 0.1742 - f1_micro: 0.3760 - loss: 19.8162 - val_accuracy: 0.9036 - val_f1_macro: 0.2859 - val_f1_micro: 0.9036 - val_loss: 8.1230\n",
      "Epoch 15/100\n",
      "\u001b[1m249/249\u001b[0m \u001b[32m━━━━━━━━━━━━━━━━━━━━\u001b[0m\u001b[37m\u001b[0m \u001b[1m1s\u001b[0m 2ms/step - accuracy: 0.4213 - f1_macro: 0.1969 - f1_micro: 0.4213 - loss: 10.2179 - val_accuracy: 0.8960 - val_f1_macro: 0.2885 - val_f1_micro: 0.8960 - val_loss: 5.5373\n",
      "Epoch 16/100\n",
      "\u001b[1m249/249\u001b[0m \u001b[32m━━━━━━━━━━━━━━━━━━━━\u001b[0m\u001b[37m\u001b[0m \u001b[1m1s\u001b[0m 2ms/step - accuracy: 0.3867 - f1_macro: 0.1883 - f1_micro: 0.3867 - loss: 13.1441 - val_accuracy: 0.1241 - val_f1_macro: 0.0741 - val_f1_micro: 0.1241 - val_loss: 10.8582\n",
      "Epoch 17/100\n",
      "\u001b[1m249/249\u001b[0m \u001b[32m━━━━━━━━━━━━━━━━━━━━\u001b[0m\u001b[37m\u001b[0m \u001b[1m1s\u001b[0m 2ms/step - accuracy: 0.3328 - f1_macro: 0.1696 - f1_micro: 0.3328 - loss: 11.6789 - val_accuracy: 0.8447 - val_f1_macro: 0.2749 - val_f1_micro: 0.8447 - val_loss: 5.1007\n",
      "Epoch 18/100\n",
      "\u001b[1m249/249\u001b[0m \u001b[32m━━━━━━━━━━━━━━━━━━━━\u001b[0m\u001b[37m\u001b[0m \u001b[1m1s\u001b[0m 2ms/step - accuracy: 0.4178 - f1_macro: 0.1850 - f1_micro: 0.4178 - loss: 7.8562 - val_accuracy: 0.7759 - val_f1_macro: 0.2801 - val_f1_micro: 0.7759 - val_loss: 1.9749\n",
      "Epoch 19/100\n",
      "\u001b[1m249/249\u001b[0m \u001b[32m━━━━━━━━━━━━━━━━━━━━\u001b[0m\u001b[37m\u001b[0m \u001b[1m1s\u001b[0m 2ms/step - accuracy: 0.3795 - f1_macro: 0.1728 - f1_micro: 0.3795 - loss: 12.4212 - val_accuracy: 0.0690 - val_f1_macro: 0.0747 - val_f1_micro: 0.0690 - val_loss: 2.0394\n",
      "Epoch 20/100\n",
      "\u001b[1m249/249\u001b[0m \u001b[32m━━━━━━━━━━━━━━━━━━━━\u001b[0m\u001b[37m\u001b[0m \u001b[1m1s\u001b[0m 2ms/step - accuracy: 0.3565 - f1_macro: 0.1791 - f1_micro: 0.3565 - loss: 2.8581 - val_accuracy: 0.0257 - val_f1_macro: 0.0235 - val_f1_micro: 0.0257 - val_loss: 16.3804\n",
      "Epoch 21/100\n",
      "\u001b[1m249/249\u001b[0m \u001b[32m━━━━━━━━━━━━━━━━━━━━\u001b[0m\u001b[37m\u001b[0m \u001b[1m1s\u001b[0m 2ms/step - accuracy: 0.3360 - f1_macro: 0.1687 - f1_micro: 0.3360 - loss: 5.5143 - val_accuracy: 0.0529 - val_f1_macro: 0.0808 - val_f1_micro: 0.0529 - val_loss: 2.1222\n",
      "Epoch 22/100\n",
      "\u001b[1m249/249\u001b[0m \u001b[32m━━━━━━━━━━━━━━━━━━━━\u001b[0m\u001b[37m\u001b[0m \u001b[1m1s\u001b[0m 2ms/step - accuracy: 0.3561 - f1_macro: 0.1750 - f1_micro: 0.3561 - loss: 2.1159 - val_accuracy: 0.6775 - val_f1_macro: 0.3471 - val_f1_micro: 0.6775 - val_loss: 1.1074\n",
      "Epoch 23/100\n",
      "\u001b[1m249/249\u001b[0m \u001b[32m━━━━━━━━━━━━━━━━━━━━\u001b[0m\u001b[37m\u001b[0m \u001b[1m1s\u001b[0m 2ms/step - accuracy: 0.3469 - f1_macro: 0.1782 - f1_micro: 0.3469 - loss: 2.8579 - val_accuracy: 0.0607 - val_f1_macro: 0.0801 - val_f1_micro: 0.0607 - val_loss: 1.3142\n",
      "Epoch 24/100\n",
      "\u001b[1m249/249\u001b[0m \u001b[32m━━━━━━━━━━━━━━━━━━━━\u001b[0m\u001b[37m\u001b[0m \u001b[1m1s\u001b[0m 2ms/step - accuracy: 0.3453 - f1_macro: 0.1773 - f1_micro: 0.3453 - loss: 1.5199 - val_accuracy: 0.6931 - val_f1_macro: 0.3220 - val_f1_micro: 0.6931 - val_loss: 1.0875\n",
      "Epoch 25/100\n",
      "\u001b[1m249/249\u001b[0m \u001b[32m━━━━━━━━━━━━━━━━━━━━\u001b[0m\u001b[37m\u001b[0m \u001b[1m1s\u001b[0m 2ms/step - accuracy: 0.3414 - f1_macro: 0.1719 - f1_micro: 0.3414 - loss: 1.4446 - val_accuracy: 0.7548 - val_f1_macro: 0.3243 - val_f1_micro: 0.7548 - val_loss: 1.0921\n",
      "Epoch 26/100\n",
      "\u001b[1m249/249\u001b[0m \u001b[32m━━━━━━━━━━━━━━━━━━━━\u001b[0m\u001b[37m\u001b[0m \u001b[1m1s\u001b[0m 2ms/step - accuracy: 0.3882 - f1_macro: 0.1818 - f1_micro: 0.3882 - loss: 1.6562 - val_accuracy: 0.6614 - val_f1_macro: 0.2990 - val_f1_micro: 0.6614 - val_loss: 1.0742\n",
      "Epoch 27/100\n",
      "\u001b[1m249/249\u001b[0m \u001b[32m━━━━━━━━━━━━━━━━━━━━\u001b[0m\u001b[37m\u001b[0m \u001b[1m1s\u001b[0m 2ms/step - accuracy: 0.4314 - f1_macro: 0.1976 - f1_micro: 0.4314 - loss: 1.6028 - val_accuracy: 0.8223 - val_f1_macro: 0.3009 - val_f1_micro: 0.8223 - val_loss: 0.8762\n",
      "Epoch 28/100\n",
      "\u001b[1m249/249\u001b[0m \u001b[32m━━━━━━━━━━━━━━━━━━━━\u001b[0m\u001b[37m\u001b[0m \u001b[1m1s\u001b[0m 2ms/step - accuracy: 0.3570 - f1_macro: 0.1793 - f1_micro: 0.3570 - loss: 2.0915 - val_accuracy: 0.6095 - val_f1_macro: 0.2665 - val_f1_micro: 0.6095 - val_loss: 1.1202\n",
      "Epoch 29/100\n",
      "\u001b[1m249/249\u001b[0m \u001b[32m━━━━━━━━━━━━━━━━━━━━\u001b[0m\u001b[37m\u001b[0m \u001b[1m1s\u001b[0m 2ms/step - accuracy: 0.4568 - f1_macro: 0.2021 - f1_micro: 0.4568 - loss: 1.4609 - val_accuracy: 0.7933 - val_f1_macro: 0.2927 - val_f1_micro: 0.7933 - val_loss: 0.8824\n",
      "Epoch 30/100\n",
      "\u001b[1m249/249\u001b[0m \u001b[32m━━━━━━━━━━━━━━━━━━━━\u001b[0m\u001b[37m\u001b[0m \u001b[1m0s\u001b[0m 2ms/step - accuracy: 0.3502 - f1_macro: 0.1744 - f1_micro: 0.3502 - loss: 1.9356 - val_accuracy: 0.4101 - val_f1_macro: 0.2051 - val_f1_micro: 0.4101 - val_loss: 1.3641\n",
      "Epoch 31/100\n",
      "\u001b[1m249/249\u001b[0m \u001b[32m━━━━━━━━━━━━━━━━━━━━\u001b[0m\u001b[37m\u001b[0m \u001b[1m1s\u001b[0m 2ms/step - accuracy: 0.4544 - f1_macro: 0.2221 - f1_micro: 0.4544 - loss: 1.2772 - val_accuracy: 0.0274 - val_f1_macro: 0.0476 - val_f1_micro: 0.0274 - val_loss: 1.7238\n",
      "Epoch 32/100\n",
      "\u001b[1m249/249\u001b[0m \u001b[32m━━━━━━━━━━━━━━━━━━━━\u001b[0m\u001b[37m\u001b[0m \u001b[1m1s\u001b[0m 2ms/step - accuracy: 0.2479 - f1_macro: 0.1420 - f1_micro: 0.2479 - loss: 1.3666 - val_accuracy: 0.7633 - val_f1_macro: 0.3395 - val_f1_micro: 0.7633 - val_loss: 1.0798\n",
      "Epoch 33/100\n",
      "\u001b[1m249/249\u001b[0m \u001b[32m━━━━━━━━━━━━━━━━━━━━\u001b[0m\u001b[37m\u001b[0m \u001b[1m1s\u001b[0m 2ms/step - accuracy: 0.5737 - f1_macro: 0.2551 - f1_micro: 0.5737 - loss: 1.2601 - val_accuracy: 0.7238 - val_f1_macro: 0.3408 - val_f1_micro: 0.7238 - val_loss: 1.1707\n",
      "Epoch 34/100\n",
      "\u001b[1m249/249\u001b[0m \u001b[32m━━━━━━━━━━━━━━━━━━━━\u001b[0m\u001b[37m\u001b[0m \u001b[1m1s\u001b[0m 2ms/step - accuracy: 0.3618 - f1_macro: 0.1852 - f1_micro: 0.3618 - loss: 1.4059 - val_accuracy: 0.0292 - val_f1_macro: 0.0718 - val_f1_micro: 0.0292 - val_loss: 1.7212\n",
      "Epoch 35/100\n",
      "\u001b[1m249/249\u001b[0m \u001b[32m━━━━━━━━━━━━━━━━━━━━\u001b[0m\u001b[37m\u001b[0m \u001b[1m1s\u001b[0m 2ms/step - accuracy: 0.0291 - f1_macro: 0.0778 - f1_micro: 0.0291 - loss: 1.3108 - val_accuracy: 0.0282 - val_f1_macro: 0.0433 - val_f1_micro: 0.0282 - val_loss: 1.6007\n",
      "Epoch 36/100\n",
      "\u001b[1m249/249\u001b[0m \u001b[32m━━━━━━━━━━━━━━━━━━━━\u001b[0m\u001b[37m\u001b[0m \u001b[1m1s\u001b[0m 2ms/step - accuracy: 0.0454 - f1_macro: 0.0654 - f1_micro: 0.0454 - loss: 1.3420 - val_accuracy: 0.0572 - val_f1_macro: 0.0720 - val_f1_micro: 0.0572 - val_loss: 1.5706\n",
      "Epoch 37/100\n",
      "\u001b[1m249/249\u001b[0m \u001b[32m━━━━━━━━━━━━━━━━━━━━\u001b[0m\u001b[37m\u001b[0m \u001b[1m1s\u001b[0m 2ms/step - accuracy: 0.0616 - f1_macro: 0.0719 - f1_micro: 0.0616 - loss: 1.3116 - val_accuracy: 0.0645 - val_f1_macro: 0.0855 - val_f1_micro: 0.0645 - val_loss: 1.5278\n",
      "Epoch 38/100\n",
      "\u001b[1m249/249\u001b[0m \u001b[32m━━━━━━━━━━━━━━━━━━━━\u001b[0m\u001b[37m\u001b[0m \u001b[1m1s\u001b[0m 2ms/step - accuracy: 0.0598 - f1_macro: 0.0912 - f1_micro: 0.0598 - loss: 1.2660 - val_accuracy: 0.0506 - val_f1_macro: 0.0617 - val_f1_micro: 0.0506 - val_loss: 1.5156\n",
      "Epoch 39/100\n",
      "\u001b[1m249/249\u001b[0m \u001b[32m━━━━━━━━━━━━━━━━━━━━\u001b[0m\u001b[37m\u001b[0m \u001b[1m1s\u001b[0m 2ms/step - accuracy: 0.0594 - f1_macro: 0.0778 - f1_micro: 0.0594 - loss: 1.2464 - val_accuracy: 0.0622 - val_f1_macro: 0.0724 - val_f1_micro: 0.0622 - val_loss: 1.4679\n",
      "Epoch 40/100\n",
      "\u001b[1m249/249\u001b[0m \u001b[32m━━━━━━━━━━━━━━━━━━━━\u001b[0m\u001b[37m\u001b[0m \u001b[1m1s\u001b[0m 2ms/step - accuracy: 0.0623 - f1_macro: 0.0928 - f1_micro: 0.0623 - loss: 1.2979 - val_accuracy: 0.0347 - val_f1_macro: 0.0526 - val_f1_micro: 0.0347 - val_loss: 2.0272\n",
      "Epoch 41/100\n",
      "\u001b[1m249/249\u001b[0m \u001b[32m━━━━━━━━━━━━━━━━━━━━\u001b[0m\u001b[37m\u001b[0m \u001b[1m1s\u001b[0m 2ms/step - accuracy: 0.0606 - f1_macro: 0.0971 - f1_micro: 0.0606 - loss: 1.2505 - val_accuracy: 0.0564 - val_f1_macro: 0.0488 - val_f1_micro: 0.0564 - val_loss: 1.4445\n",
      "Epoch 42/100\n",
      "\u001b[1m249/249\u001b[0m \u001b[32m━━━━━━━━━━━━━━━━━━━━\u001b[0m\u001b[37m\u001b[0m \u001b[1m1s\u001b[0m 2ms/step - accuracy: 0.0585 - f1_macro: 0.0707 - f1_micro: 0.0585 - loss: 1.3283 - val_accuracy: 0.0599 - val_f1_macro: 0.0785 - val_f1_micro: 0.0599 - val_loss: 1.3858\n",
      "Epoch 43/100\n",
      "\u001b[1m249/249\u001b[0m \u001b[32m━━━━━━━━━━━━━━━━━━━━\u001b[0m\u001b[37m\u001b[0m \u001b[1m1s\u001b[0m 2ms/step - accuracy: 0.0793 - f1_macro: 0.0929 - f1_micro: 0.0793 - loss: 1.4647 - val_accuracy: 0.0617 - val_f1_macro: 0.0301 - val_f1_micro: 0.0617 - val_loss: 1.3396\n",
      "Epoch 44/100\n",
      "\u001b[1m249/249\u001b[0m \u001b[32m━━━━━━━━━━━━━━━━━━━━\u001b[0m\u001b[37m\u001b[0m \u001b[1m1s\u001b[0m 2ms/step - accuracy: 0.0612 - f1_macro: 0.0534 - f1_micro: 0.0612 - loss: 1.3673 - val_accuracy: 0.0604 - val_f1_macro: 0.0293 - val_f1_micro: 0.0604 - val_loss: 1.3599\n",
      "Epoch 45/100\n",
      "\u001b[1m249/249\u001b[0m \u001b[32m━━━━━━━━━━━━━━━━━━━━\u001b[0m\u001b[37m\u001b[0m \u001b[1m1s\u001b[0m 2ms/step - accuracy: 0.0600 - f1_macro: 0.0466 - f1_micro: 0.0600 - loss: 1.3892 - val_accuracy: 0.0607 - val_f1_macro: 0.0295 - val_f1_micro: 0.0607 - val_loss: 1.3525\n",
      "Epoch 46/100\n",
      "\u001b[1m249/249\u001b[0m \u001b[32m━━━━━━━━━━━━━━━━━━━━\u001b[0m\u001b[37m\u001b[0m \u001b[1m1s\u001b[0m 2ms/step - accuracy: 0.0605 - f1_macro: 0.0671 - f1_micro: 0.0605 - loss: 1.3755 - val_accuracy: 0.0556 - val_f1_macro: 0.0538 - val_f1_micro: 0.0556 - val_loss: 1.4065\n",
      "Epoch 47/100\n",
      "\u001b[1m249/249\u001b[0m \u001b[32m━━━━━━━━━━━━━━━━━━━━\u001b[0m\u001b[37m\u001b[0m \u001b[1m1s\u001b[0m 2ms/step - accuracy: 0.0615 - f1_macro: 0.0563 - f1_micro: 0.0615 - loss: 1.3289 - val_accuracy: 0.0617 - val_f1_macro: 0.0301 - val_f1_micro: 0.0617 - val_loss: 1.3629\n"
     ]
    }
   ],
   "source": [
    "fc_model = get_fc_model()\n",
    "\n",
    "fc_model.compile(\n",
    "    optimizer=Adam(learning_rate=lr_schedule),\n",
    "    loss=loss,\n",
    "    metrics=[\n",
    "        'accuracy',\n",
    "        tf.keras.metrics.F1Score(average='macro', name='f1_macro'),\n",
    "        tf.keras.metrics.F1Score(average='micro', name='f1_micro')\n",
    "    ]\n",
    ")\n",
    "\n",
    "history = fc_model.fit(\n",
    "    train_dataset,\n",
    "    validation_data=val_dataset,\n",
    "    epochs=100,\n",
    "    callbacks=callbacks,\n",
    "    class_weight=class_weights  \n",
    ")"
   ]
  },
  {
   "cell_type": "code",
   "execution_count": 23,
   "metadata": {},
   "outputs": [
    {
     "name": "stdout",
     "output_type": "stream",
     "text": [
      "\u001b[1m125/125\u001b[0m \u001b[32m━━━━━━━━━━━━━━━━━━━━\u001b[0m\u001b[37m\u001b[0m \u001b[1m0s\u001b[0m 788us/step\n",
      "Accuracy: 0.6774924471299094\n",
      "Macro F1 Score: 0.34708217977453504\n",
      "Micro F1 Score: 0.6774924471299094\n",
      "\n",
      "Classification Report:\n",
      "               precision    recall  f1-score   support\n",
      "\n",
      "           0       0.20      0.35      0.25        34\n",
      "           1       0.10      0.54      0.17       210\n",
      "           2       0.96      0.69      0.80      3684\n",
      "           3       0.10      0.39      0.16        44\n",
      "\n",
      "    accuracy                           0.68      3972\n",
      "   macro avg       0.34      0.49      0.35      3972\n",
      "weighted avg       0.90      0.68      0.76      3972\n",
      "\n",
      "Confusion Matrix:\n",
      " [[  12    0   19    3]\n",
      " [   0  113   78   19]\n",
      " [  46  955 2549  134]\n",
      " [   3   15    9   17]]\n"
     ]
    }
   ],
   "source": [
    "y_pred = np.argmax(fc_model.predict(X_test), axis=1)\n",
    "evaluate_model(y_pred, y_test, False)"
   ]
  },
  {
   "cell_type": "code",
   "execution_count": 24,
   "metadata": {},
   "outputs": [
    {
     "name": "stdout",
     "output_type": "stream",
     "text": [
      "Epoch 1/100\n",
      "\u001b[1m921/921\u001b[0m \u001b[32m━━━━━━━━━━━━━━━━━━━━\u001b[0m\u001b[37m\u001b[0m \u001b[1m2s\u001b[0m 2ms/step - accuracy: 0.2963 - f1_macro: 0.2945 - f1_micro: 0.2963 - loss: 739.7559 - val_accuracy: 0.8006 - val_f1_macro: 0.3146 - val_f1_micro: 0.8006 - val_loss: 108.2412\n",
      "Epoch 2/100\n",
      "\u001b[1m921/921\u001b[0m \u001b[32m━━━━━━━━━━━━━━━━━━━━\u001b[0m\u001b[37m\u001b[0m \u001b[1m1s\u001b[0m 1ms/step - accuracy: 0.3803 - f1_macro: 0.3792 - f1_micro: 0.3803 - loss: 245.4552 - val_accuracy: 0.0647 - val_f1_macro: 0.1079 - val_f1_micro: 0.0647 - val_loss: 291.3677\n",
      "Epoch 3/100\n",
      "\u001b[1m921/921\u001b[0m \u001b[32m━━━━━━━━━━━━━━━━━━━━\u001b[0m\u001b[37m\u001b[0m \u001b[1m1s\u001b[0m 1ms/step - accuracy: 0.4122 - f1_macro: 0.4113 - f1_micro: 0.4122 - loss: 157.9705 - val_accuracy: 0.0768 - val_f1_macro: 0.1041 - val_f1_micro: 0.0768 - val_loss: 124.6369\n",
      "Epoch 4/100\n",
      "\u001b[1m921/921\u001b[0m \u001b[32m━━━━━━━━━━━━━━━━━━━━\u001b[0m\u001b[37m\u001b[0m \u001b[1m2s\u001b[0m 2ms/step - accuracy: 0.4549 - f1_macro: 0.4541 - f1_micro: 0.4549 - loss: 88.3170 - val_accuracy: 0.8260 - val_f1_macro: 0.3306 - val_f1_micro: 0.8260 - val_loss: 31.5285\n",
      "Epoch 5/100\n",
      "\u001b[1m921/921\u001b[0m \u001b[32m━━━━━━━━━━━━━━━━━━━━\u001b[0m\u001b[37m\u001b[0m \u001b[1m1s\u001b[0m 2ms/step - accuracy: 0.4915 - f1_macro: 0.4900 - f1_micro: 0.4915 - loss: 47.5560 - val_accuracy: 0.9096 - val_f1_macro: 0.4375 - val_f1_micro: 0.9096 - val_loss: 19.3067\n",
      "Epoch 6/100\n",
      "\u001b[1m921/921\u001b[0m \u001b[32m━━━━━━━━━━━━━━━━━━━━\u001b[0m\u001b[37m\u001b[0m \u001b[1m1s\u001b[0m 1ms/step - accuracy: 0.5067 - f1_macro: 0.5065 - f1_micro: 0.5067 - loss: 33.9301 - val_accuracy: 0.7772 - val_f1_macro: 0.3017 - val_f1_micro: 0.7772 - val_loss: 10.4361\n",
      "Epoch 7/100\n",
      "\u001b[1m921/921\u001b[0m \u001b[32m━━━━━━━━━━━━━━━━━━━━\u001b[0m\u001b[37m\u001b[0m \u001b[1m1s\u001b[0m 2ms/step - accuracy: 0.5272 - f1_macro: 0.5259 - f1_micro: 0.5272 - loss: 23.1370 - val_accuracy: 0.0823 - val_f1_macro: 0.0843 - val_f1_micro: 0.0823 - val_loss: 34.5840\n",
      "Epoch 8/100\n",
      "\u001b[1m921/921\u001b[0m \u001b[32m━━━━━━━━━━━━━━━━━━━━\u001b[0m\u001b[37m\u001b[0m \u001b[1m1s\u001b[0m 1ms/step - accuracy: 0.5475 - f1_macro: 0.5460 - f1_micro: 0.5475 - loss: 14.4208 - val_accuracy: 0.1093 - val_f1_macro: 0.1274 - val_f1_micro: 0.1093 - val_loss: 19.0888\n",
      "Epoch 9/100\n",
      "\u001b[1m921/921\u001b[0m \u001b[32m━━━━━━━━━━━━━━━━━━━━\u001b[0m\u001b[37m\u001b[0m \u001b[1m1s\u001b[0m 2ms/step - accuracy: 0.5538 - f1_macro: 0.5522 - f1_micro: 0.5538 - loss: 11.7402 - val_accuracy: 0.9081 - val_f1_macro: 0.4044 - val_f1_micro: 0.9081 - val_loss: 6.5622\n",
      "Epoch 10/100\n",
      "\u001b[1m921/921\u001b[0m \u001b[32m━━━━━━━━━━━━━━━━━━━━\u001b[0m\u001b[37m\u001b[0m \u001b[1m1s\u001b[0m 2ms/step - accuracy: 0.5758 - f1_macro: 0.5737 - f1_micro: 0.5758 - loss: 7.0231 - val_accuracy: 0.3865 - val_f1_macro: 0.2684 - val_f1_micro: 0.3865 - val_loss: 12.8925\n",
      "Epoch 11/100\n",
      "\u001b[1m921/921\u001b[0m \u001b[32m━━━━━━━━━━━━━━━━━━━━\u001b[0m\u001b[37m\u001b[0m \u001b[1m1s\u001b[0m 1ms/step - accuracy: 0.5491 - f1_macro: 0.5471 - f1_micro: 0.5491 - loss: 7.9572 - val_accuracy: 0.0992 - val_f1_macro: 0.0809 - val_f1_micro: 0.0992 - val_loss: 11.4858\n",
      "Epoch 12/100\n",
      "\u001b[1m921/921\u001b[0m \u001b[32m━━━━━━━━━━━━━━━━━━━━\u001b[0m\u001b[37m\u001b[0m \u001b[1m1s\u001b[0m 2ms/step - accuracy: 0.5758 - f1_macro: 0.5731 - f1_micro: 0.5758 - loss: 4.5085 - val_accuracy: 0.1624 - val_f1_macro: 0.1999 - val_f1_micro: 0.1624 - val_loss: 2.9198\n",
      "Epoch 13/100\n",
      "\u001b[1m921/921\u001b[0m \u001b[32m━━━━━━━━━━━━━━━━━━━━\u001b[0m\u001b[37m\u001b[0m \u001b[1m2s\u001b[0m 2ms/step - accuracy: 0.5903 - f1_macro: 0.5889 - f1_micro: 0.5903 - loss: 3.8176 - val_accuracy: 0.8467 - val_f1_macro: 0.4311 - val_f1_micro: 0.8467 - val_loss: 1.8384\n",
      "Epoch 14/100\n",
      "\u001b[1m921/921\u001b[0m \u001b[32m━━━━━━━━━━━━━━━━━━━━\u001b[0m\u001b[37m\u001b[0m \u001b[1m2s\u001b[0m 2ms/step - accuracy: 0.6305 - f1_macro: 0.6273 - f1_micro: 0.6305 - loss: 2.4340 - val_accuracy: 0.2845 - val_f1_macro: 0.2138 - val_f1_micro: 0.2845 - val_loss: 2.3016\n",
      "Epoch 15/100\n",
      "\u001b[1m921/921\u001b[0m \u001b[32m━━━━━━━━━━━━━━━━━━━━\u001b[0m\u001b[37m\u001b[0m \u001b[1m2s\u001b[0m 2ms/step - accuracy: 0.6252 - f1_macro: 0.6215 - f1_micro: 0.6252 - loss: 2.1167 - val_accuracy: 0.4164 - val_f1_macro: 0.2858 - val_f1_micro: 0.4164 - val_loss: 1.4982\n",
      "Epoch 16/100\n",
      "\u001b[1m921/921\u001b[0m \u001b[32m━━━━━━━━━━━━━━━━━━━━\u001b[0m\u001b[37m\u001b[0m \u001b[1m2s\u001b[0m 2ms/step - accuracy: 0.6643 - f1_macro: 0.6600 - f1_micro: 0.6643 - loss: 1.4193 - val_accuracy: 0.7724 - val_f1_macro: 0.3935 - val_f1_micro: 0.7724 - val_loss: 1.0309\n",
      "Epoch 17/100\n",
      "\u001b[1m921/921\u001b[0m \u001b[32m━━━━━━━━━━━━━━━━━━━━\u001b[0m\u001b[37m\u001b[0m \u001b[1m2s\u001b[0m 2ms/step - accuracy: 0.6659 - f1_macro: 0.6612 - f1_micro: 0.6659 - loss: 1.4261 - val_accuracy: 0.2100 - val_f1_macro: 0.1572 - val_f1_micro: 0.2100 - val_loss: 2.2008\n",
      "Epoch 18/100\n",
      "\u001b[1m921/921\u001b[0m \u001b[32m━━━━━━━━━━━━━━━━━━━━\u001b[0m\u001b[37m\u001b[0m \u001b[1m2s\u001b[0m 2ms/step - accuracy: 0.6944 - f1_macro: 0.6909 - f1_micro: 0.6944 - loss: 1.1480 - val_accuracy: 0.1183 - val_f1_macro: 0.1241 - val_f1_micro: 0.1183 - val_loss: 2.3764\n",
      "Epoch 19/100\n",
      "\u001b[1m921/921\u001b[0m \u001b[32m━━━━━━━━━━━━━━━━━━━━\u001b[0m\u001b[37m\u001b[0m \u001b[1m2s\u001b[0m 2ms/step - accuracy: 0.6912 - f1_macro: 0.6853 - f1_micro: 0.6912 - loss: 1.1235 - val_accuracy: 0.7296 - val_f1_macro: 0.3761 - val_f1_micro: 0.7296 - val_loss: 1.0317\n",
      "Epoch 20/100\n",
      "\u001b[1m921/921\u001b[0m \u001b[32m━━━━━━━━━━━━━━━━━━━━\u001b[0m\u001b[37m\u001b[0m \u001b[1m2s\u001b[0m 2ms/step - accuracy: 0.6965 - f1_macro: 0.6906 - f1_micro: 0.6965 - loss: 1.0649 - val_accuracy: 0.4809 - val_f1_macro: 0.3181 - val_f1_micro: 0.4811 - val_loss: 1.2485\n",
      "Epoch 21/100\n",
      "\u001b[1m921/921\u001b[0m \u001b[32m━━━━━━━━━━━━━━━━━━━━\u001b[0m\u001b[37m\u001b[0m \u001b[1m2s\u001b[0m 2ms/step - accuracy: 0.7167 - f1_macro: 0.7129 - f1_micro: 0.7167 - loss: 0.9725 - val_accuracy: 0.4919 - val_f1_macro: 0.3210 - val_f1_micro: 0.4919 - val_loss: 1.5617\n",
      "Epoch 22/100\n",
      "\u001b[1m921/921\u001b[0m \u001b[32m━━━━━━━━━━━━━━━━━━━━\u001b[0m\u001b[37m\u001b[0m \u001b[1m2s\u001b[0m 2ms/step - accuracy: 0.6809 - f1_macro: 0.6760 - f1_micro: 0.6809 - loss: 1.2410 - val_accuracy: 0.7802 - val_f1_macro: 0.3860 - val_f1_micro: 0.7802 - val_loss: 0.8905\n",
      "Epoch 23/100\n",
      "\u001b[1m921/921\u001b[0m \u001b[32m━━━━━━━━━━━━━━━━━━━━\u001b[0m\u001b[37m\u001b[0m \u001b[1m2s\u001b[0m 2ms/step - accuracy: 0.7233 - f1_macro: 0.7180 - f1_micro: 0.7233 - loss: 0.9418 - val_accuracy: 0.5320 - val_f1_macro: 0.2952 - val_f1_micro: 0.5320 - val_loss: 1.1564\n",
      "Epoch 24/100\n",
      "\u001b[1m921/921\u001b[0m \u001b[32m━━━━━━━━━━━━━━━━━━━━\u001b[0m\u001b[37m\u001b[0m \u001b[1m2s\u001b[0m 2ms/step - accuracy: 0.7423 - f1_macro: 0.7380 - f1_micro: 0.7423 - loss: 0.8688 - val_accuracy: 0.1825 - val_f1_macro: 0.1758 - val_f1_micro: 0.1825 - val_loss: 1.7647\n",
      "Epoch 25/100\n",
      "\u001b[1m921/921\u001b[0m \u001b[32m━━━━━━━━━━━━━━━━━━━━\u001b[0m\u001b[37m\u001b[0m \u001b[1m2s\u001b[0m 2ms/step - accuracy: 0.7423 - f1_macro: 0.7381 - f1_micro: 0.7423 - loss: 0.8798 - val_accuracy: 0.7943 - val_f1_macro: 0.3801 - val_f1_micro: 0.7943 - val_loss: 0.9477\n",
      "Epoch 26/100\n",
      "\u001b[1m921/921\u001b[0m \u001b[32m━━━━━━━━━━━━━━━━━━━━\u001b[0m\u001b[37m\u001b[0m \u001b[1m2s\u001b[0m 2ms/step - accuracy: 0.6870 - f1_macro: 0.6805 - f1_micro: 0.6870 - loss: 1.1127 - val_accuracy: 0.7774 - val_f1_macro: 0.3958 - val_f1_micro: 0.7774 - val_loss: 0.8790\n",
      "Epoch 27/100\n",
      "\u001b[1m921/921\u001b[0m \u001b[32m━━━━━━━━━━━━━━━━━━━━\u001b[0m\u001b[37m\u001b[0m \u001b[1m2s\u001b[0m 2ms/step - accuracy: 0.7564 - f1_macro: 0.7521 - f1_micro: 0.7564 - loss: 0.8298 - val_accuracy: 0.7205 - val_f1_macro: 0.3759 - val_f1_micro: 0.7205 - val_loss: 0.9454\n",
      "Epoch 28/100\n",
      "\u001b[1m921/921\u001b[0m \u001b[32m━━━━━━━━━━━━━━━━━━━━\u001b[0m\u001b[37m\u001b[0m \u001b[1m2s\u001b[0m 2ms/step - accuracy: 0.7681 - f1_macro: 0.7635 - f1_micro: 0.7681 - loss: 0.8100 - val_accuracy: 0.7052 - val_f1_macro: 0.3654 - val_f1_micro: 0.7052 - val_loss: 1.0009\n",
      "Epoch 29/100\n",
      "\u001b[1m921/921\u001b[0m \u001b[32m━━━━━━━━━━━━━━━━━━━━\u001b[0m\u001b[37m\u001b[0m \u001b[1m2s\u001b[0m 2ms/step - accuracy: 0.7592 - f1_macro: 0.7550 - f1_micro: 0.7592 - loss: 0.8186 - val_accuracy: 0.8046 - val_f1_macro: 0.4181 - val_f1_micro: 0.8046 - val_loss: 0.8430\n",
      "Epoch 30/100\n",
      "\u001b[1m921/921\u001b[0m \u001b[32m━━━━━━━━━━━━━━━━━━━━\u001b[0m\u001b[37m\u001b[0m \u001b[1m2s\u001b[0m 2ms/step - accuracy: 0.7606 - f1_macro: 0.7561 - f1_micro: 0.7606 - loss: 0.8191 - val_accuracy: 0.6198 - val_f1_macro: 0.3444 - val_f1_micro: 0.6198 - val_loss: 1.0314\n"
     ]
    }
   ],
   "source": [
    "fc_model = get_fc_model()\n",
    "\n",
    "fc_model.compile(\n",
    "    optimizer=Adam(learning_rate=lr_schedule),\n",
    "    loss=loss,\n",
    "    metrics=[\n",
    "        'accuracy',\n",
    "        tf.keras.metrics.F1Score(average='macro', name='f1_macro'),\n",
    "        tf.keras.metrics.F1Score(average='micro', name='f1_micro')\n",
    "    ]\n",
    ")\n",
    "\n",
    "history = fc_model.fit(\n",
    "    train_dataset_ada,\n",
    "    validation_data=val_dataset,\n",
    "    epochs=100,\n",
    "    callbacks=callbacks \n",
    ")"
   ]
  },
  {
   "cell_type": "code",
   "execution_count": 25,
   "metadata": {},
   "outputs": [
    {
     "name": "stdout",
     "output_type": "stream",
     "text": [
      "\u001b[1m125/125\u001b[0m \u001b[32m━━━━━━━━━━━━━━━━━━━━\u001b[0m\u001b[37m\u001b[0m \u001b[1m0s\u001b[0m 816us/step\n",
      "Accuracy: 0.9096173212487412\n",
      "Macro F1 Score: 0.43748626731442114\n",
      "Micro F1 Score: 0.9096173212487412\n",
      "\n",
      "Classification Report:\n",
      "               precision    recall  f1-score   support\n",
      "\n",
      "           0       0.35      0.35      0.35        34\n",
      "           1       0.40      0.17      0.24       210\n",
      "           2       0.94      0.96      0.95      3684\n",
      "           3       0.16      0.30      0.21        44\n",
      "\n",
      "    accuracy                           0.91      3972\n",
      "   macro avg       0.46      0.44      0.44      3972\n",
      "weighted avg       0.90      0.91      0.90      3972\n",
      "\n",
      "Confusion Matrix:\n",
      " [[  12    0   21    1]\n",
      " [   1   35  166    8]\n",
      " [  20   52 3553   59]\n",
      " [   1    0   30   13]]\n"
     ]
    }
   ],
   "source": [
    "y_pred = np.argmax(fc_model.predict(X_test), axis=1)\n",
    "evaluate_model(y_pred, y_test, False)"
   ]
  },
  {
   "cell_type": "code",
   "execution_count": 26,
   "metadata": {},
   "outputs": [
    {
     "name": "stdout",
     "output_type": "stream",
     "text": [
      "Epoch 1/100\n",
      "\u001b[1m921/921\u001b[0m \u001b[32m━━━━━━━━━━━━━━━━━━━━\u001b[0m\u001b[37m\u001b[0m \u001b[1m2s\u001b[0m 2ms/step - accuracy: 0.2950 - f1_macro: 0.2907 - f1_micro: 0.2950 - loss: 737.0424 - val_accuracy: 0.0760 - val_f1_macro: 0.0614 - val_f1_micro: 0.0760 - val_loss: 215.5440\n",
      "Epoch 2/100\n",
      "\u001b[1m921/921\u001b[0m \u001b[32m━━━━━━━━━━━━━━━━━━━━\u001b[0m\u001b[37m\u001b[0m \u001b[1m2s\u001b[0m 2ms/step - accuracy: 0.3807 - f1_macro: 0.3798 - f1_micro: 0.3807 - loss: 269.3705 - val_accuracy: 0.0989 - val_f1_macro: 0.0912 - val_f1_micro: 0.0989 - val_loss: 138.5979\n",
      "Epoch 3/100\n",
      "\u001b[1m921/921\u001b[0m \u001b[32m━━━━━━━━━━━━━━━━━━━━\u001b[0m\u001b[37m\u001b[0m \u001b[1m2s\u001b[0m 2ms/step - accuracy: 0.4196 - f1_macro: 0.4190 - f1_micro: 0.4196 - loss: 154.0168 - val_accuracy: 0.8625 - val_f1_macro: 0.3392 - val_f1_micro: 0.8625 - val_loss: 46.1676\n",
      "Epoch 4/100\n",
      "\u001b[1m921/921\u001b[0m \u001b[32m━━━━━━━━━━━━━━━━━━━━\u001b[0m\u001b[37m\u001b[0m \u001b[1m2s\u001b[0m 2ms/step - accuracy: 0.4566 - f1_macro: 0.4550 - f1_micro: 0.4566 - loss: 94.8753 - val_accuracy: 0.8502 - val_f1_macro: 0.3575 - val_f1_micro: 0.8502 - val_loss: 26.3930\n",
      "Epoch 5/100\n",
      "\u001b[1m921/921\u001b[0m \u001b[32m━━━━━━━━━━━━━━━━━━━━\u001b[0m\u001b[37m\u001b[0m \u001b[1m2s\u001b[0m 2ms/step - accuracy: 0.4951 - f1_macro: 0.4941 - f1_micro: 0.4951 - loss: 45.8756 - val_accuracy: 0.9026 - val_f1_macro: 0.3945 - val_f1_micro: 0.9026 - val_loss: 23.8860\n",
      "Epoch 6/100\n",
      "\u001b[1m921/921\u001b[0m \u001b[32m━━━━━━━━━━━━━━━━━━━━\u001b[0m\u001b[37m\u001b[0m \u001b[1m2s\u001b[0m 2ms/step - accuracy: 0.5140 - f1_macro: 0.5119 - f1_micro: 0.5140 - loss: 31.0367 - val_accuracy: 0.0670 - val_f1_macro: 0.1535 - val_f1_micro: 0.0670 - val_loss: 114.7959\n",
      "Epoch 7/100\n",
      "\u001b[1m921/921\u001b[0m \u001b[32m━━━━━━━━━━━━━━━━━━━━\u001b[0m\u001b[37m\u001b[0m \u001b[1m2s\u001b[0m 2ms/step - accuracy: 0.5067 - f1_macro: 0.5059 - f1_micro: 0.5067 - loss: 26.7254 - val_accuracy: 0.0730 - val_f1_macro: 0.1266 - val_f1_micro: 0.0730 - val_loss: 28.0453\n",
      "Epoch 8/100\n",
      "\u001b[1m921/921\u001b[0m \u001b[32m━━━━━━━━━━━━━━━━━━━━\u001b[0m\u001b[37m\u001b[0m \u001b[1m2s\u001b[0m 2ms/step - accuracy: 0.5368 - f1_macro: 0.5348 - f1_micro: 0.5368 - loss: 13.4065 - val_accuracy: 0.8573 - val_f1_macro: 0.4333 - val_f1_micro: 0.8573 - val_loss: 3.3395\n",
      "Epoch 9/100\n",
      "\u001b[1m921/921\u001b[0m \u001b[32m━━━━━━━━━━━━━━━━━━━━\u001b[0m\u001b[37m\u001b[0m \u001b[1m2s\u001b[0m 2ms/step - accuracy: 0.5288 - f1_macro: 0.5264 - f1_micro: 0.5288 - loss: 10.7661 - val_accuracy: 0.2807 - val_f1_macro: 0.1714 - val_f1_micro: 0.2807 - val_loss: 8.4925\n",
      "Epoch 10/100\n",
      "\u001b[1m921/921\u001b[0m \u001b[32m━━━━━━━━━━━━━━━━━━━━\u001b[0m\u001b[37m\u001b[0m \u001b[1m2s\u001b[0m 2ms/step - accuracy: 0.5473 - f1_macro: 0.5451 - f1_micro: 0.5473 - loss: 6.8752 - val_accuracy: 0.8386 - val_f1_macro: 0.3895 - val_f1_micro: 0.8386 - val_loss: 2.9564\n",
      "Epoch 11/100\n",
      "\u001b[1m921/921\u001b[0m \u001b[32m━━━━━━━━━━━━━━━━━━━━\u001b[0m\u001b[37m\u001b[0m \u001b[1m2s\u001b[0m 2ms/step - accuracy: 0.5603 - f1_macro: 0.5578 - f1_micro: 0.5603 - loss: 4.5467 - val_accuracy: 0.6621 - val_f1_macro: 0.3476 - val_f1_micro: 0.6621 - val_loss: 2.0439\n",
      "Epoch 12/100\n",
      "\u001b[1m921/921\u001b[0m \u001b[32m━━━━━━━━━━━━━━━━━━━━\u001b[0m\u001b[37m\u001b[0m \u001b[1m2s\u001b[0m 2ms/step - accuracy: 0.5862 - f1_macro: 0.5829 - f1_micro: 0.5862 - loss: 2.7788 - val_accuracy: 0.0622 - val_f1_macro: 0.1374 - val_f1_micro: 0.0622 - val_loss: 6.9555\n",
      "Epoch 13/100\n",
      "\u001b[1m921/921\u001b[0m \u001b[32m━━━━━━━━━━━━━━━━━━━━\u001b[0m\u001b[37m\u001b[0m \u001b[1m2s\u001b[0m 2ms/step - accuracy: 0.5913 - f1_macro: 0.5866 - f1_micro: 0.5913 - loss: 2.7403 - val_accuracy: 0.7762 - val_f1_macro: 0.3642 - val_f1_micro: 0.7762 - val_loss: 1.4066\n",
      "Epoch 14/100\n",
      "\u001b[1m921/921\u001b[0m \u001b[32m━━━━━━━━━━━━━━━━━━━━\u001b[0m\u001b[37m\u001b[0m \u001b[1m2s\u001b[0m 2ms/step - accuracy: 0.5999 - f1_macro: 0.5952 - f1_micro: 0.5999 - loss: 2.2143 - val_accuracy: 0.1531 - val_f1_macro: 0.1836 - val_f1_micro: 0.1531 - val_loss: 1.6278\n",
      "Epoch 15/100\n",
      "\u001b[1m921/921\u001b[0m \u001b[32m━━━━━━━━━━━━━━━━━━━━\u001b[0m\u001b[37m\u001b[0m \u001b[1m2s\u001b[0m 2ms/step - accuracy: 0.6325 - f1_macro: 0.6265 - f1_micro: 0.6325 - loss: 1.3735 - val_accuracy: 0.2822 - val_f1_macro: 0.2133 - val_f1_micro: 0.2822 - val_loss: 3.3705\n",
      "Epoch 16/100\n",
      "\u001b[1m921/921\u001b[0m \u001b[32m━━━━━━━━━━━━━━━━━━━━\u001b[0m\u001b[37m\u001b[0m \u001b[1m2s\u001b[0m 2ms/step - accuracy: 0.6177 - f1_macro: 0.6126 - f1_micro: 0.6177 - loss: 1.5341 - val_accuracy: 0.1654 - val_f1_macro: 0.1335 - val_f1_micro: 0.1654 - val_loss: 1.5712\n",
      "Epoch 17/100\n",
      "\u001b[1m921/921\u001b[0m \u001b[32m━━━━━━━━━━━━━━━━━━━━\u001b[0m\u001b[37m\u001b[0m \u001b[1m2s\u001b[0m 2ms/step - accuracy: 0.6469 - f1_macro: 0.6406 - f1_micro: 0.6469 - loss: 1.1503 - val_accuracy: 0.4305 - val_f1_macro: 0.2670 - val_f1_micro: 0.4305 - val_loss: 1.1833\n",
      "Epoch 18/100\n",
      "\u001b[1m921/921\u001b[0m \u001b[32m━━━━━━━━━━━━━━━━━━━━\u001b[0m\u001b[37m\u001b[0m \u001b[1m2s\u001b[0m 2ms/step - accuracy: 0.6145 - f1_macro: 0.6093 - f1_micro: 0.6145 - loss: 1.4381 - val_accuracy: 0.3865 - val_f1_macro: 0.2504 - val_f1_micro: 0.3865 - val_loss: 1.2021\n",
      "Epoch 19/100\n",
      "\u001b[1m921/921\u001b[0m \u001b[32m━━━━━━━━━━━━━━━━━━━━\u001b[0m\u001b[37m\u001b[0m \u001b[1m2s\u001b[0m 2ms/step - accuracy: 0.6231 - f1_macro: 0.6171 - f1_micro: 0.6231 - loss: 1.0867 - val_accuracy: 0.7787 - val_f1_macro: 0.3822 - val_f1_micro: 0.7787 - val_loss: 0.9864\n",
      "Epoch 20/100\n",
      "\u001b[1m921/921\u001b[0m \u001b[32m━━━━━━━━━━━━━━━━━━━━\u001b[0m\u001b[37m\u001b[0m \u001b[1m2s\u001b[0m 2ms/step - accuracy: 0.6430 - f1_macro: 0.6400 - f1_micro: 0.6430 - loss: 1.0107 - val_accuracy: 0.7805 - val_f1_macro: 0.3542 - val_f1_micro: 0.7805 - val_loss: 0.9847\n",
      "Epoch 21/100\n",
      "\u001b[1m921/921\u001b[0m \u001b[32m━━━━━━━━━━━━━━━━━━━━\u001b[0m\u001b[37m\u001b[0m \u001b[1m2s\u001b[0m 2ms/step - accuracy: 0.6438 - f1_macro: 0.6416 - f1_micro: 0.6438 - loss: 1.0144 - val_accuracy: 0.2616 - val_f1_macro: 0.1841 - val_f1_micro: 0.2616 - val_loss: 1.5106\n",
      "Epoch 22/100\n",
      "\u001b[1m921/921\u001b[0m \u001b[32m━━━━━━━━━━━━━━━━━━━━\u001b[0m\u001b[37m\u001b[0m \u001b[1m2s\u001b[0m 2ms/step - accuracy: 0.6294 - f1_macro: 0.6250 - f1_micro: 0.6294 - loss: 1.0341 - val_accuracy: 0.6760 - val_f1_macro: 0.3341 - val_f1_micro: 0.6760 - val_loss: 1.0165\n",
      "Epoch 23/100\n",
      "\u001b[1m921/921\u001b[0m \u001b[32m━━━━━━━━━━━━━━━━━━━━\u001b[0m\u001b[37m\u001b[0m \u001b[1m2s\u001b[0m 2ms/step - accuracy: 0.6603 - f1_macro: 0.6577 - f1_micro: 0.6603 - loss: 0.9655 - val_accuracy: 0.5504 - val_f1_macro: 0.2892 - val_f1_micro: 0.5504 - val_loss: 1.2987\n",
      "Epoch 24/100\n",
      "\u001b[1m921/921\u001b[0m \u001b[32m━━━━━━━━━━━━━━━━━━━━\u001b[0m\u001b[37m\u001b[0m \u001b[1m2s\u001b[0m 2ms/step - accuracy: 0.6565 - f1_macro: 0.6526 - f1_micro: 0.6565 - loss: 0.9896 - val_accuracy: 0.5816 - val_f1_macro: 0.3247 - val_f1_micro: 0.5816 - val_loss: 1.0936\n",
      "Epoch 25/100\n",
      "\u001b[1m921/921\u001b[0m \u001b[32m━━━━━━━━━━━━━━━━━━━━\u001b[0m\u001b[37m\u001b[0m \u001b[1m2s\u001b[0m 2ms/step - accuracy: 0.6739 - f1_macro: 0.6700 - f1_micro: 0.6739 - loss: 0.9365 - val_accuracy: 0.6908 - val_f1_macro: 0.3686 - val_f1_micro: 0.6908 - val_loss: 1.0056\n",
      "Epoch 26/100\n",
      "\u001b[1m921/921\u001b[0m \u001b[32m━━━━━━━━━━━━━━━━━━━━\u001b[0m\u001b[37m\u001b[0m \u001b[1m2s\u001b[0m 2ms/step - accuracy: 0.6779 - f1_macro: 0.6742 - f1_micro: 0.6779 - loss: 0.9325 - val_accuracy: 0.5707 - val_f1_macro: 0.2964 - val_f1_micro: 0.5707 - val_loss: 1.1639\n",
      "Epoch 27/100\n",
      "\u001b[1m921/921\u001b[0m \u001b[32m━━━━━━━━━━━━━━━━━━━━\u001b[0m\u001b[37m\u001b[0m \u001b[1m2s\u001b[0m 2ms/step - accuracy: 0.6776 - f1_macro: 0.6755 - f1_micro: 0.6776 - loss: 0.9303 - val_accuracy: 0.3686 - val_f1_macro: 0.2109 - val_f1_micro: 0.3686 - val_loss: 1.4068\n",
      "Epoch 28/100\n",
      "\u001b[1m921/921\u001b[0m \u001b[32m━━━━━━━━━━━━━━━━━━━━\u001b[0m\u001b[37m\u001b[0m \u001b[1m2s\u001b[0m 2ms/step - accuracy: 0.6947 - f1_macro: 0.6913 - f1_micro: 0.6947 - loss: 0.9022 - val_accuracy: 0.5385 - val_f1_macro: 0.3038 - val_f1_micro: 0.5385 - val_loss: 1.2593\n",
      "Epoch 29/100\n",
      "\u001b[1m921/921\u001b[0m \u001b[32m━━━━━━━━━━━━━━━━━━━━\u001b[0m\u001b[37m\u001b[0m \u001b[1m2s\u001b[0m 2ms/step - accuracy: 0.7027 - f1_macro: 0.6981 - f1_micro: 0.7027 - loss: 0.8865 - val_accuracy: 0.5760 - val_f1_macro: 0.3019 - val_f1_micro: 0.5760 - val_loss: 1.0877\n",
      "Epoch 30/100\n",
      "\u001b[1m921/921\u001b[0m \u001b[32m━━━━━━━━━━━━━━━━━━━━\u001b[0m\u001b[37m\u001b[0m \u001b[1m2s\u001b[0m 2ms/step - accuracy: 0.7164 - f1_macro: 0.7118 - f1_micro: 0.7164 - loss: 0.8676 - val_accuracy: 0.6065 - val_f1_macro: 0.3101 - val_f1_micro: 0.6065 - val_loss: 1.1841\n",
      "Epoch 31/100\n",
      "\u001b[1m921/921\u001b[0m \u001b[32m━━━━━━━━━━━━━━━━━━━━\u001b[0m\u001b[37m\u001b[0m \u001b[1m2s\u001b[0m 2ms/step - accuracy: 0.7194 - f1_macro: 0.7145 - f1_micro: 0.7194 - loss: 0.8593 - val_accuracy: 0.7054 - val_f1_macro: 0.3548 - val_f1_micro: 0.7054 - val_loss: 0.9956\n",
      "Epoch 32/100\n",
      "\u001b[1m921/921\u001b[0m \u001b[32m━━━━━━━━━━━━━━━━━━━━\u001b[0m\u001b[37m\u001b[0m \u001b[1m2s\u001b[0m 2ms/step - accuracy: 0.7168 - f1_macro: 0.7128 - f1_micro: 0.7168 - loss: 0.8585 - val_accuracy: 0.5655 - val_f1_macro: 0.2967 - val_f1_micro: 0.5655 - val_loss: 1.1912\n",
      "Epoch 33/100\n",
      "\u001b[1m921/921\u001b[0m \u001b[32m━━━━━━━━━━━━━━━━━━━━\u001b[0m\u001b[37m\u001b[0m \u001b[1m2s\u001b[0m 2ms/step - accuracy: 0.7210 - f1_macro: 0.7160 - f1_micro: 0.7210 - loss: 0.8561 - val_accuracy: 0.7258 - val_f1_macro: 0.3632 - val_f1_micro: 0.7258 - val_loss: 0.9737\n"
     ]
    }
   ],
   "source": [
    "fc_model = get_fc_model()\n",
    "\n",
    "fc_model.compile(\n",
    "    optimizer=Adam(learning_rate=lr_schedule),\n",
    "    loss=loss,\n",
    "    metrics=[\n",
    "        'accuracy',\n",
    "        tf.keras.metrics.F1Score(average='macro', name='f1_macro'),\n",
    "        tf.keras.metrics.F1Score(average='micro', name='f1_micro')\n",
    "    ]\n",
    ")\n",
    "\n",
    "history = fc_model.fit(\n",
    "    train_dataset_ros,\n",
    "    validation_data=val_dataset,\n",
    "    epochs=100,\n",
    "    callbacks=callbacks \n",
    ")"
   ]
  },
  {
   "cell_type": "code",
   "execution_count": 27,
   "metadata": {},
   "outputs": [
    {
     "name": "stdout",
     "output_type": "stream",
     "text": [
      "\u001b[1m125/125\u001b[0m \u001b[32m━━━━━━━━━━━━━━━━━━━━\u001b[0m\u001b[37m\u001b[0m \u001b[1m0s\u001b[0m 819us/step\n",
      "Accuracy: 0.8572507552870091\n",
      "Macro F1 Score: 0.4332514074594531\n",
      "Micro F1 Score: 0.8572507552870091\n",
      "\n",
      "Classification Report:\n",
      "               precision    recall  f1-score   support\n",
      "\n",
      "           0       0.24      0.53      0.33        34\n",
      "           1       0.25      0.41      0.31       210\n",
      "           2       0.96      0.89      0.92      3684\n",
      "           3       0.12      0.30      0.17        44\n",
      "\n",
      "    accuracy                           0.86      3972\n",
      "   macro avg       0.39      0.53      0.43      3972\n",
      "weighted avg       0.90      0.86      0.88      3972\n",
      "\n",
      "Confusion Matrix:\n",
      " [[  18    0   14    2]\n",
      " [   1   87  115    7]\n",
      " [  54  255 3287   88]\n",
      " [   2    8   21   13]]\n"
     ]
    }
   ],
   "source": [
    "y_pred = np.argmax(fc_model.predict(X_test), axis=1)\n",
    "evaluate_model(y_pred, y_test, False)"
   ]
  },
  {
   "cell_type": "code",
   "execution_count": 28,
   "metadata": {},
   "outputs": [
    {
     "name": "stdout",
     "output_type": "stream",
     "text": [
      "Train score: 1.0\n",
      "Accuracy: 0.986404833836858\n",
      "Macro F1 Score: 0.9496588924077598\n",
      "Micro F1 Score: 0.986404833836858\n",
      "\n",
      "Classification Report:\n",
      "               precision    recall  f1-score   support\n",
      "\n",
      "           0       1.00      0.88      0.94        34\n",
      "           1       0.97      0.79      0.87       210\n",
      "           2       0.99      1.00      0.99      3684\n",
      "           3       1.00      1.00      1.00        44\n",
      "\n",
      "    accuracy                           0.99      3972\n",
      "   macro avg       0.99      0.92      0.95      3972\n",
      "weighted avg       0.99      0.99      0.99      3972\n",
      "\n",
      "Confusion Matrix:\n",
      " [[  30    0    4    0]\n",
      " [   0  165   45    0]\n",
      " [   0    5 3679    0]\n",
      " [   0    0    0   44]]\n"
     ]
    }
   ],
   "source": [
    "model_XGBC_best_params = Pipeline(steps=[\n",
    "    (\"standard_scaler\", StandardScaler()),\n",
    "    (\"Classifier\",XGBClassifier(**bayes_search_XGBC.best_params_))\n",
    "])\n",
    "\n",
    "model_XGBC_best_params.fit(X_train_resampled_ros, y_train_resampled_ros)\n",
    "\n",
    "y_pred = model_XGBC_best_params.predict(X_test)\n",
    "\n",
    "print(f\"Train score: {model_XGBC_best_params.score(X_train, y_train)}\")\n",
    "evaluate_model(y_pred,y_test, False)"
   ]
  },
  {
   "cell_type": "code",
   "execution_count": 29,
   "metadata": {},
   "outputs": [
    {
     "name": "stdout",
     "output_type": "stream",
     "text": [
      "Train score: 1.0\n",
      "Accuracy: 1.0\n",
      "Macro F1 Score: 1.0\n",
      "Micro F1 Score: 1.0\n",
      "\n",
      "Classification Report:\n",
      "               precision    recall  f1-score   support\n",
      "\n",
      "           0       1.00      1.00      1.00     18420\n",
      "           1       1.00      1.00      1.00     18420\n",
      "           2       1.00      1.00      1.00     18420\n",
      "           3       1.00      1.00      1.00     18420\n",
      "\n",
      "    accuracy                           1.00     73680\n",
      "   macro avg       1.00      1.00      1.00     73680\n",
      "weighted avg       1.00      1.00      1.00     73680\n",
      "\n",
      "Confusion Matrix:\n",
      " [[18420     0     0     0]\n",
      " [    0 18420     0     0]\n",
      " [    0     0 18420     0]\n",
      " [    0     0     0 18420]]\n"
     ]
    }
   ],
   "source": [
    "model_XGBC_best_params = Pipeline(steps=[\n",
    "    (\"standard_scaler\", StandardScaler()),\n",
    "    (\"Classifier\",XGBClassifier(**bayes_search_XGBC.best_params_))\n",
    "])\n",
    "\n",
    "X_resampled_ros, y_resampled_ros = ros.fit_resample(X, y)\n",
    "model_XGBC_best_params.fit(X_resampled_ros, y_resampled_ros)\n",
    "\n",
    "y_pred = model_XGBC_best_params.predict(X_resampled_ros)\n",
    "\n",
    "print(f\"Train score: {model_XGBC_best_params.score(X_train, y_train)}\")\n",
    "evaluate_model(y_pred,y_resampled_ros, False)"
   ]
  },
  {
   "cell_type": "code",
   "execution_count": 30,
   "metadata": {},
   "outputs": [],
   "source": [
    "feature_names = X.columns.tolist() \n",
    "feature_map = {f'f{i}': name for i, name in enumerate(feature_names)}\n",
    "xgb_model = model_XGBC_best_params.named_steps['Classifier']\n",
    "importance_weights = xgb_model.feature_importances_\n",
    "importance_gain = xgb_model.get_booster().get_score(importance_type='gain')\n",
    "importance_cover = xgb_model.get_booster().get_score(importance_type='cover')\n",
    "\n",
    "importance_gain_mapped = {\n",
    "    feature_map[key]: value \n",
    "    for key, value in importance_gain.items()\n",
    "    if key in feature_map\n",
    "}"
   ]
  },
  {
   "cell_type": "code",
   "execution_count": 31,
   "metadata": {},
   "outputs": [
    {
     "data": {
      "image/png": "[encoded data removed]",
      "text/plain": [
       "<Figure size 1000x600 with 1 Axes>"
      ]
     },
     "metadata": {},
     "output_type": "display_data"
    }
   ],
   "source": [
    "importance_df = pd.DataFrame({\n",
    "    'feature': list(importance_gain_mapped.keys()),\n",
    "    'gain': list(importance_gain_mapped.values())\n",
    "}).sort_values('gain', ascending=False)\n",
    "\n",
    "plt.figure(figsize=(10, 6))\n",
    "plt.barh(importance_df['feature'][:20], importance_df['gain'][:20])\n",
    "plt.gca().invert_yaxis()\n",
    "plt.title('XGBoost Feature Importance (Gain)')\n",
    "plt.xlabel('Average Gain')\n",
    "plt.show()"
   ]
  },
  {
   "cell_type": "code",
   "execution_count": 32,
   "metadata": {},
   "outputs": [
    {
     "data": {
      "image/png": "[encoded data removed]",
      "text/plain": [
       "<Figure size 1000x600 with 1 Axes>"
      ]
     },
     "metadata": {},
     "output_type": "display_data"
    }
   ],
   "source": [
    "\n",
    "# Calculate permutation importance \n",
    "result = permutation_importance(\n",
    "    model_XGBC_best_params,  \n",
    "    X_test, \n",
    "    y_test,\n",
    "    n_repeats=5,\n",
    "    random_state=24,\n",
    "    n_jobs=5\n",
    ")\n",
    "\n",
    "sorted_idx = result.importances_mean.argsort()\n",
    "plt.figure(figsize=(10, 6))\n",
    "plt.boxplot(\n",
    "    result.importances[sorted_idx[-20:]].T,  # Top 20 features\n",
    "    vert=False,\n",
    "    labels=X_test.columns[sorted_idx[-20:]]\n",
    ")\n",
    "plt.title(\"Permutation Importance\")\n",
    "plt.show()"
   ]
  },
  {
   "cell_type": "code",
   "execution_count": 33,
   "metadata": {},
   "outputs": [],
   "source": [
    "# 1. Feature Importance (Gain) - Top 10 features\n",
    "top_features = importance_df.head(10)  # Get the top 10 features\n",
    "bar_x = top_features['gain']\n",
    "bar_y = top_features['feature']"
   ]
  },
  {
   "cell_type": "code",
   "execution_count": 34,
   "metadata": {},
   "outputs": [
    {
     "data": {
      "text/plain": [
       "43                  max_temperature_2m_1\n",
       "23    mean_et0_fao_evapotranspiration_30\n",
       "24       mean_vapour_pressure_deficit_30\n",
       "11              median_temperature_2m_30\n",
       "20          mean_relative_humidity_2m_30\n",
       "5                           Sea distance\n",
       "74                    mean_wave_height_5\n",
       "75                    mean_wave_height_1\n",
       "16     median_vapour_pressure_deficit_30\n",
       "63         mean_soil_moisture_0_to_7cm_1\n",
       "Name: feature, dtype: object"
      ]
     },
     "execution_count": 34,
     "metadata": {},
     "output_type": "execute_result"
    }
   ],
   "source": [
    "bar_y"
   ]
  },
  {
   "cell_type": "code",
   "execution_count": 37,
   "metadata": {},
   "outputs": [
    {
     "data": {
      "application/vnd.plotly.v1+json": {
       "config": {
        "plotlyServerURL": "https://plot.ly"
       },
       "data": [
        {
         "marker": {
          "color": "royalblue"
         },
         "name": "Importance des caractéristiques (Gain)",
         "orientation": "v",
         "type": "bar",
         "x": [
          "Température maximale à 2m (1 jour)",
          "Évapotranspiration moyenne FAO ET0 (30 jours)",
          "Déficit moyen de pression de vapeur (30 jours)",
          "Température médiane à 2m (30 jours)",
          "Humidité relative moyenne à 2m (30 jours)",
          "Distance à la mer (fixe)",
          "Hauteur moyenne des vagues (5 jours)",
          "Hauteur moyenne des vagues (1 jour)",
          "Déficit médian de pression de vapeur (30 jours)",
          "Humidité moyenne du sol (0 à 7 cm, 1 jour)"
         ],
         "y": [
          80.39913940429688,
          48.6410026550293,
          42.3878059387207,
          39.8161735534668,
          29.789710998535156,
          29.611726760864258,
          29.41863250732422,
          28.63901710510254,
          28.28801727294922,
          28.169403076171875
         ]
        }
       ],
       "layout": {
        "height": 800,
        "showlegend": false,
        "template": {
         "data": {
          "bar": [
           {
            "error_x": {
             "color": "#2a3f5f"
            },
            "error_y": {
             "color": "#2a3f5f"
            },
            "marker": {
             "line": {
              "color": "#E5ECF6",
              "width": 0.5
             },
             "pattern": {
              "fillmode": "overlay",
              "size": 10,
              "solidity": 0.2
             }
            },
            "type": "bar"
           }
          ],
          "barpolar": [
           {
            "marker": {
             "line": {
              "color": "#E5ECF6",
              "width": 0.5
             },
             "pattern": {
              "fillmode": "overlay",
              "size": 10,
              "solidity": 0.2
             }
            },
            "type": "barpolar"
           }
          ],
          "carpet": [
           {
            "aaxis": {
             "endlinecolor": "#2a3f5f",
             "gridcolor": "white",
             "linecolor": "white",
             "minorgridcolor": "white",
             "startlinecolor": "#2a3f5f"
            },
            "baxis": {
             "endlinecolor": "#2a3f5f",
             "gridcolor": "white",
             "linecolor": "white",
             "minorgridcolor": "white",
             "startlinecolor": "#2a3f5f"
            },
            "type": "carpet"
           }
          ],
          "choropleth": [
           {
            "colorbar": {
             "outlinewidth": 0,
             "ticks": ""
            },
            "type": "choropleth"
           }
          ],
          "contour": [
           {
            "colorbar": {
             "outlinewidth": 0,
             "ticks": ""
            },
            "colorscale": [
             [
              0,
              "#0d0887"
             ],
             [
              0.1111111111111111,
              "#46039f"
             ],
             [
              0.2222222222222222,
              "#7201a8"
             ],
             [
              0.3333333333333333,
              "#9c179e"
             ],
             [
              0.4444444444444444,
              "#bd3786"
             ],
             [
              0.5555555555555556,
              "#d8576b"
             ],
             [
              0.6666666666666666,
              "#ed7953"
             ],
             [
              0.7777777777777778,
              "#fb9f3a"
             ],
             [
              0.8888888888888888,
              "#fdca26"
             ],
             [
              1,
              "#f0f921"
             ]
            ],
            "type": "contour"
           }
          ],
          "contourcarpet": [
           {
            "colorbar": {
             "outlinewidth": 0,
             "ticks": ""
            },
            "type": "contourcarpet"
           }
          ],
          "heatmap": [
           {
            "colorbar": {
             "outlinewidth": 0,
             "ticks": ""
            },
            "colorscale": [
             [
              0,
              "#0d0887"
             ],
             [
              0.1111111111111111,
              "#46039f"
             ],
             [
              0.2222222222222222,
              "#7201a8"
             ],
             [
              0.3333333333333333,
              "#9c179e"
             ],
             [
              0.4444444444444444,
              "#bd3786"
             ],
             [
              0.5555555555555556,
              "#d8576b"
             ],
             [
              0.6666666666666666,
              "#ed7953"
             ],
             [
              0.7777777777777778,
              "#fb9f3a"
             ],
             [
              0.8888888888888888,
              "#fdca26"
             ],
             [
              1,
              "#f0f921"
             ]
            ],
            "type": "heatmap"
           }
          ],
          "heatmapgl": [
           {
            "colorbar": {
             "outlinewidth": 0,
             "ticks": ""
            },
            "colorscale": [
             [
              0,
              "#0d0887"
             ],
             [
              0.1111111111111111,
              "#46039f"
             ],
             [
              0.2222222222222222,
              "#7201a8"
             ],
             [
              0.3333333333333333,
              "#9c179e"
             ],
             [
              0.4444444444444444,
              "#bd3786"
             ],
             [
              0.5555555555555556,
              "#d8576b"
             ],
             [
              0.6666666666666666,
              "#ed7953"
             ],
             [
              0.7777777777777778,
              "#fb9f3a"
             ],
             [
              0.8888888888888888,
              "#fdca26"
             ],
             [
              1,
              "#f0f921"
             ]
            ],
            "type": "heatmapgl"
           }
          ],
          "histogram": [
           {
            "marker": {
             "pattern": {
              "fillmode": "overlay",
              "size": 10,
              "solidity": 0.2
             }
            },
            "type": "histogram"
           }
          ],
          "histogram2d": [
           {
            "colorbar": {
             "outlinewidth": 0,
             "ticks": ""
            },
            "colorscale": [
             [
              0,
              "#0d0887"
             ],
             [
              0.1111111111111111,
              "#46039f"
             ],
             [
              0.2222222222222222,
              "#7201a8"
             ],
             [
              0.3333333333333333,
              "#9c179e"
             ],
             [
              0.4444444444444444,
              "#bd3786"
             ],
             [
              0.5555555555555556,
              "#d8576b"
             ],
             [
              0.6666666666666666,
              "#ed7953"
             ],
             [
              0.7777777777777778,
              "#fb9f3a"
             ],
             [
              0.8888888888888888,
              "#fdca26"
             ],
             [
              1,
              "#f0f921"
             ]
            ],
            "type": "histogram2d"
           }
          ],
          "histogram2dcontour": [
           {
            "colorbar": {
             "outlinewidth": 0,
             "ticks": ""
            },
            "colorscale": [
             [
              0,
              "#0d0887"
             ],
             [
              0.1111111111111111,
              "#46039f"
             ],
             [
              0.2222222222222222,
              "#7201a8"
             ],
             [
              0.3333333333333333,
              "#9c179e"
             ],
             [
              0.4444444444444444,
              "#bd3786"
             ],
             [
              0.5555555555555556,
              "#d8576b"
             ],
             [
              0.6666666666666666,
              "#ed7953"
             ],
             [
              0.7777777777777778,
              "#fb9f3a"
             ],
             [
              0.8888888888888888,
              "#fdca26"
             ],
             [
              1,
              "#f0f921"
             ]
            ],
            "type": "histogram2dcontour"
           }
          ],
          "mesh3d": [
           {
            "colorbar": {
             "outlinewidth": 0,
             "ticks": ""
            },
            "type": "mesh3d"
           }
          ],
          "parcoords": [
           {
            "line": {
             "colorbar": {
              "outlinewidth": 0,
              "ticks": ""
             }
            },
            "type": "parcoords"
           }
          ],
          "pie": [
           {
            "automargin": true,
            "type": "pie"
           }
          ],
          "scatter": [
           {
            "fillpattern": {
             "fillmode": "overlay",
             "size": 10,
             "solidity": 0.2
            },
            "type": "scatter"
           }
          ],
          "scatter3d": [
           {
            "line": {
             "colorbar": {
              "outlinewidth": 0,
              "ticks": ""
             }
            },
            "marker": {
             "colorbar": {
              "outlinewidth": 0,
              "ticks": ""
             }
            },
            "type": "scatter3d"
           }
          ],
          "scattercarpet": [
           {
            "marker": {
             "colorbar": {
              "outlinewidth": 0,
              "ticks": ""
             }
            },
            "type": "scattercarpet"
           }
          ],
          "scattergeo": [
           {
            "marker": {
             "colorbar": {
              "outlinewidth": 0,
              "ticks": ""
             }
            },
            "type": "scattergeo"
           }
          ],
          "scattergl": [
           {
            "marker": {
             "colorbar": {
              "outlinewidth": 0,
              "ticks": ""
             }
            },
            "type": "scattergl"
           }
          ],
          "scattermapbox": [
           {
            "marker": {
             "colorbar": {
              "outlinewidth": 0,
              "ticks": ""
             }
            },
            "type": "scattermapbox"
           }
          ],
          "scatterpolar": [
           {
            "marker": {
             "colorbar": {
              "outlinewidth": 0,
              "ticks": ""
             }
            },
            "type": "scatterpolar"
           }
          ],
          "scatterpolargl": [
           {
            "marker": {
             "colorbar": {
              "outlinewidth": 0,
              "ticks": ""
             }
            },
            "type": "scatterpolargl"
           }
          ],
          "scatterternary": [
           {
            "marker": {
             "colorbar": {
              "outlinewidth": 0,
              "ticks": ""
             }
            },
            "type": "scatterternary"
           }
          ],
          "surface": [
           {
            "colorbar": {
             "outlinewidth": 0,
             "ticks": ""
            },
            "colorscale": [
             [
              0,
              "#0d0887"
             ],
             [
              0.1111111111111111,
              "#46039f"
             ],
             [
              0.2222222222222222,
              "#7201a8"
             ],
             [
              0.3333333333333333,
              "#9c179e"
             ],
             [
              0.4444444444444444,
              "#bd3786"
             ],
             [
              0.5555555555555556,
              "#d8576b"
             ],
             [
              0.6666666666666666,
              "#ed7953"
             ],
             [
              0.7777777777777778,
              "#fb9f3a"
             ],
             [
              0.8888888888888888,
              "#fdca26"
             ],
             [
              1,
              "#f0f921"
             ]
            ],
            "type": "surface"
           }
          ],
          "table": [
           {
            "cells": {
             "fill": {
              "color": "#EBF0F8"
             },
             "line": {
              "color": "white"
             }
            },
            "header": {
             "fill": {
              "color": "#C8D4E3"
             },
             "line": {
              "color": "white"
             }
            },
            "type": "table"
           }
          ]
         },
         "layout": {
          "annotationdefaults": {
           "arrowcolor": "#2a3f5f",
           "arrowhead": 0,
           "arrowwidth": 1
          },
          "autotypenumbers": "strict",
          "coloraxis": {
           "colorbar": {
            "outlinewidth": 0,
            "ticks": ""
           }
          },
          "colorscale": {
           "diverging": [
            [
             0,
             "#8e0152"
            ],
            [
             0.1,
             "#c51b7d"
            ],
            [
             0.2,
             "#de77ae"
            ],
            [
             0.3,
             "#f1b6da"
            ],
            [
             0.4,
             "#fde0ef"
            ],
            [
             0.5,
             "#f7f7f7"
            ],
            [
             0.6,
             "#e6f5d0"
            ],
            [
             0.7,
             "#b8e186"
            ],
            [
             0.8,
             "#7fbc41"
            ],
            [
             0.9,
             "#4d9221"
            ],
            [
             1,
             "#276419"
            ]
           ],
           "sequential": [
            [
             0,
             "#0d0887"
            ],
            [
             0.1111111111111111,
             "#46039f"
            ],
            [
             0.2222222222222222,
             "#7201a8"
            ],
            [
             0.3333333333333333,
             "#9c179e"
            ],
            [
             0.4444444444444444,
             "#bd3786"
            ],
            [
             0.5555555555555556,
             "#d8576b"
            ],
            [
             0.6666666666666666,
             "#ed7953"
            ],
            [
             0.7777777777777778,
             "#fb9f3a"
            ],
            [
             0.8888888888888888,
             "#fdca26"
            ],
            [
             1,
             "#f0f921"
            ]
           ],
           "sequentialminus": [
            [
             0,
             "#0d0887"
            ],
            [
             0.1111111111111111,
             "#46039f"
            ],
            [
             0.2222222222222222,
             "#7201a8"
            ],
            [
             0.3333333333333333,
             "#9c179e"
            ],
            [
             0.4444444444444444,
             "#bd3786"
            ],
            [
             0.5555555555555556,
             "#d8576b"
            ],
            [
             0.6666666666666666,
             "#ed7953"
            ],
            [
             0.7777777777777778,
             "#fb9f3a"
            ],
            [
             0.8888888888888888,
             "#fdca26"
            ],
            [
             1,
             "#f0f921"
            ]
           ]
          },
          "colorway": [
           "#636efa",
           "#EF553B",
           "#00cc96",
           "#ab63fa",
           "#FFA15A",
           "#19d3f3",
           "#FF6692",
           "#B6E880",
           "#FF97FF",
           "#FECB52"
          ],
          "font": {
           "color": "#2a3f5f"
          },
          "geo": {
           "bgcolor": "white",
           "lakecolor": "white",
           "landcolor": "#E5ECF6",
           "showlakes": true,
           "showland": true,
           "subunitcolor": "white"
          },
          "hoverlabel": {
           "align": "left"
          },
          "hovermode": "closest",
          "mapbox": {
           "style": "light"
          },
          "paper_bgcolor": "white",
          "plot_bgcolor": "#E5ECF6",
          "polar": {
           "angularaxis": {
            "gridcolor": "white",
            "linecolor": "white",
            "ticks": ""
           },
           "bgcolor": "#E5ECF6",
           "radialaxis": {
            "gridcolor": "white",
            "linecolor": "white",
            "ticks": ""
           }
          },
          "scene": {
           "xaxis": {
            "backgroundcolor": "#E5ECF6",
            "gridcolor": "white",
            "gridwidth": 2,
            "linecolor": "white",
            "showbackground": true,
            "ticks": "",
            "zerolinecolor": "white"
           },
           "yaxis": {
            "backgroundcolor": "#E5ECF6",
            "gridcolor": "white",
            "gridwidth": 2,
            "linecolor": "white",
            "showbackground": true,
            "ticks": "",
            "zerolinecolor": "white"
           },
           "zaxis": {
            "backgroundcolor": "#E5ECF6",
            "gridcolor": "white",
            "gridwidth": 2,
            "linecolor": "white",
            "showbackground": true,
            "ticks": "",
            "zerolinecolor": "white"
           }
          },
          "shapedefaults": {
           "line": {
            "color": "#2a3f5f"
           }
          },
          "ternary": {
           "aaxis": {
            "gridcolor": "white",
            "linecolor": "white",
            "ticks": ""
           },
           "baxis": {
            "gridcolor": "white",
            "linecolor": "white",
            "ticks": ""
           },
           "bgcolor": "#E5ECF6",
           "caxis": {
            "gridcolor": "white",
            "linecolor": "white",
            "ticks": ""
           }
          },
          "title": {
           "x": 0.05
          },
          "xaxis": {
           "automargin": true,
           "gridcolor": "white",
           "linecolor": "white",
           "ticks": "",
           "title": {
            "standoff": 15
           },
           "zerolinecolor": "white",
           "zerolinewidth": 2
          },
          "yaxis": {
           "automargin": true,
           "gridcolor": "white",
           "linecolor": "white",
           "ticks": "",
           "title": {
            "standoff": 15
           },
           "zerolinecolor": "white",
           "zerolinewidth": 2
          }
         }
        },
        "title": {
         "text": "Analyse de l'importance des caractéristiques"
        },
        "width": 1500,
        "xaxis": {
         "showgrid": false,
         "title": {
          "text": "Caractéristiques"
         }
        },
        "yaxis": {
         "showgrid": false,
         "title": {
          "text": "Gain moyen"
         }
        }
       }
      }
     },
     "metadata": {},
     "output_type": "display_data"
    }
   ],
   "source": [
    "bar_y = [\n",
    "    \"Température maximale à 2m (1 jour)\",\n",
    "    \"Évapotranspiration moyenne FAO ET0 (30 jours)\",\n",
    "    \"Déficit moyen de pression de vapeur (30 jours)\",\n",
    "    \"Température médiane à 2m (30 jours)\",\n",
    "    \"Humidité relative moyenne à 2m (30 jours)\",\n",
    "    \"Distance à la mer (fixe)\",\n",
    "    \"Hauteur moyenne des vagues (5 jours)\",\n",
    "    \"Hauteur moyenne des vagues (1 jour)\",\n",
    "    \"Déficit médian de pression de vapeur (30 jours)\",\n",
    "    \"Humidité moyenne du sol (0 à 7 cm, 1 jour)\"\n",
    "]\n",
    "\n",
    "perm_features = X_test.columns[sorted_idx[-5:]]\n",
    "perm_importances = result.importances[sorted_idx[-5:]]\n",
    "\n",
    "fig = go.Figure()\n",
    "\n",
    "\n",
    "fig.add_trace(\n",
    "    go.Bar(\n",
    "        x=bar_y,  \n",
    "        y=bar_x,  \n",
    "        orientation='v',  \n",
    "        marker=dict(color='royalblue'),\n",
    "        name=\"Importance des caractéristiques (Gain)\"\n",
    "    )\n",
    ")\n",
    "\n",
    "\n",
    "fig.update_layout(\n",
    "    title=\"Analyse de l'importance des caractéristiques\",\n",
    "    height=800,\n",
    "    width=1500,\n",
    "    showlegend=False,\n",
    "    xaxis=dict(title=\"Caractéristiques\", showgrid=False),  \n",
    "    yaxis=dict(title=\"Gain moyen\", showgrid=False),  \n",
    "\n",
    ")\n",
    "\n",
    "fig.show()"
   ]
  },
  {
   "cell_type": "code",
   "execution_count": 36,
   "metadata": {},
   "outputs": [
    {
     "data": {
      "text/plain": [
       "['output/model_XGBC_flood_type.pkl']"
      ]
     },
     "execution_count": 36,
     "metadata": {},
     "output_type": "execute_result"
    }
   ],
   "source": [
    "joblib.dump(model_XGBC_best_params, 'output/model_XGBC_flood_type.pkl')"
   ]
  },
  {
   "cell_type": "code",
   "execution_count": 91,
   "metadata": {},
   "outputs": [],
   "source": [
    "df_complete = pd.read_csv(\"../3 flood data analysis/output/complete_flood_data.csv\")"
   ]
  },
  {
   "cell_type": "code",
   "execution_count": 92,
   "metadata": {},
   "outputs": [
    {
     "data": {
      "text/html": [
       "<div>\n",
       "<style scoped>\n",
       "    .dataframe tbody tr th:only-of-type {\n",
       "        vertical-align: middle;\n",
       "    }\n",
       "\n",
       "    .dataframe tbody tr th {\n",
       "        vertical-align: top;\n",
       "    }\n",
       "\n",
       "    .dataframe thead th {\n",
       "        text-align: right;\n",
       "    }\n",
       "</style>\n",
       "<table border=\"1\" class=\"dataframe\">\n",
       "  <thead>\n",
       "    <tr style=\"text-align: right;\">\n",
       "      <th></th>\n",
       "      <th>median_sea_level_height_msl_30</th>\n",
       "      <th>mean_sea_level_height_msl_30</th>\n",
       "      <th>mean_sea_level_height_msl_5</th>\n",
       "      <th>mean_sea_level_height_msl_1</th>\n",
       "      <th>max_sea_level_height_msl_1</th>\n",
       "      <th>lat</th>\n",
       "      <th>lon</th>\n",
       "      <th>Sea distance</th>\n",
       "      <th>Type</th>\n",
       "      <th>median_river_discharge_30</th>\n",
       "      <th>...</th>\n",
       "      <th>max_soil_moisture_100_to_255cm_1</th>\n",
       "      <th>elevation</th>\n",
       "      <th>median_wave_height_30</th>\n",
       "      <th>mean_wave_height_30</th>\n",
       "      <th>mean_wave_height_5</th>\n",
       "      <th>mean_wave_height_1</th>\n",
       "      <th>max_wave_height_1</th>\n",
       "      <th>month</th>\n",
       "      <th>Type_cd</th>\n",
       "      <th>is_flood</th>\n",
       "    </tr>\n",
       "  </thead>\n",
       "  <tbody>\n",
       "    <tr>\n",
       "      <th>0</th>\n",
       "      <td>0.80470</td>\n",
       "      <td>0.802224</td>\n",
       "      <td>1.036652</td>\n",
       "      <td>0.958875</td>\n",
       "      <td>1.2597</td>\n",
       "      <td>41.324590</td>\n",
       "      <td>19.456469</td>\n",
       "      <td>5300.276600</td>\n",
       "      <td>River</td>\n",
       "      <td>0.383566</td>\n",
       "      <td>...</td>\n",
       "      <td>0.352</td>\n",
       "      <td>3.0</td>\n",
       "      <td>0.70</td>\n",
       "      <td>0.899865</td>\n",
       "      <td>1.667167</td>\n",
       "      <td>2.015833</td>\n",
       "      <td>3.14</td>\n",
       "      <td>11</td>\n",
       "      <td>2</td>\n",
       "      <td>1</td>\n",
       "    </tr>\n",
       "    <tr>\n",
       "      <th>1</th>\n",
       "      <td>0.81185</td>\n",
       "      <td>0.807646</td>\n",
       "      <td>0.982063</td>\n",
       "      <td>0.889192</td>\n",
       "      <td>1.1707</td>\n",
       "      <td>41.324590</td>\n",
       "      <td>19.456469</td>\n",
       "      <td>5300.276600</td>\n",
       "      <td>River</td>\n",
       "      <td>0.570363</td>\n",
       "      <td>...</td>\n",
       "      <td>0.360</td>\n",
       "      <td>3.0</td>\n",
       "      <td>0.74</td>\n",
       "      <td>0.923091</td>\n",
       "      <td>1.512000</td>\n",
       "      <td>1.275000</td>\n",
       "      <td>2.10</td>\n",
       "      <td>12</td>\n",
       "      <td>2</td>\n",
       "      <td>1</td>\n",
       "    </tr>\n",
       "    <tr>\n",
       "      <th>2</th>\n",
       "      <td>0.81370</td>\n",
       "      <td>0.813203</td>\n",
       "      <td>0.957242</td>\n",
       "      <td>0.940275</td>\n",
       "      <td>1.1667</td>\n",
       "      <td>41.324590</td>\n",
       "      <td>19.456469</td>\n",
       "      <td>5300.276600</td>\n",
       "      <td>River</td>\n",
       "      <td>0.625549</td>\n",
       "      <td>...</td>\n",
       "      <td>0.365</td>\n",
       "      <td>3.0</td>\n",
       "      <td>0.76</td>\n",
       "      <td>0.934274</td>\n",
       "      <td>1.224000</td>\n",
       "      <td>0.780833</td>\n",
       "      <td>1.22</td>\n",
       "      <td>12</td>\n",
       "      <td>2</td>\n",
       "      <td>1</td>\n",
       "    </tr>\n",
       "    <tr>\n",
       "      <th>3</th>\n",
       "      <td>0.82515</td>\n",
       "      <td>0.824850</td>\n",
       "      <td>0.991565</td>\n",
       "      <td>1.146608</td>\n",
       "      <td>1.4819</td>\n",
       "      <td>41.324590</td>\n",
       "      <td>19.456469</td>\n",
       "      <td>5300.276600</td>\n",
       "      <td>River</td>\n",
       "      <td>0.782379</td>\n",
       "      <td>...</td>\n",
       "      <td>0.368</td>\n",
       "      <td>3.0</td>\n",
       "      <td>0.78</td>\n",
       "      <td>0.961371</td>\n",
       "      <td>1.237667</td>\n",
       "      <td>1.142500</td>\n",
       "      <td>1.90</td>\n",
       "      <td>12</td>\n",
       "      <td>2</td>\n",
       "      <td>1</td>\n",
       "    </tr>\n",
       "    <tr>\n",
       "      <th>4</th>\n",
       "      <td>0.80470</td>\n",
       "      <td>0.802224</td>\n",
       "      <td>1.036652</td>\n",
       "      <td>0.958875</td>\n",
       "      <td>1.2597</td>\n",
       "      <td>41.786073</td>\n",
       "      <td>19.646076</td>\n",
       "      <td>11519.642694</td>\n",
       "      <td>River</td>\n",
       "      <td>0.428894</td>\n",
       "      <td>...</td>\n",
       "      <td>0.373</td>\n",
       "      <td>20.0</td>\n",
       "      <td>0.70</td>\n",
       "      <td>0.899865</td>\n",
       "      <td>1.667167</td>\n",
       "      <td>2.015833</td>\n",
       "      <td>3.14</td>\n",
       "      <td>11</td>\n",
       "      <td>2</td>\n",
       "      <td>1</td>\n",
       "    </tr>\n",
       "  </tbody>\n",
       "</table>\n",
       "<p>5 rows × 83 columns</p>\n",
       "</div>"
      ],
      "text/plain": [
       "   median_sea_level_height_msl_30  mean_sea_level_height_msl_30  \\\n",
       "0                         0.80470                      0.802224   \n",
       "1                         0.81185                      0.807646   \n",
       "2                         0.81370                      0.813203   \n",
       "3                         0.82515                      0.824850   \n",
       "4                         0.80470                      0.802224   \n",
       "\n",
       "   mean_sea_level_height_msl_5  mean_sea_level_height_msl_1  \\\n",
       "0                     1.036652                     0.958875   \n",
       "1                     0.982063                     0.889192   \n",
       "2                     0.957242                     0.940275   \n",
       "3                     0.991565                     1.146608   \n",
       "4                     1.036652                     0.958875   \n",
       "\n",
       "   max_sea_level_height_msl_1        lat        lon  Sea distance   Type  \\\n",
       "0                      1.2597  41.324590  19.456469   5300.276600  River   \n",
       "1                      1.1707  41.324590  19.456469   5300.276600  River   \n",
       "2                      1.1667  41.324590  19.456469   5300.276600  River   \n",
       "3                      1.4819  41.324590  19.456469   5300.276600  River   \n",
       "4                      1.2597  41.786073  19.646076  11519.642694  River   \n",
       "\n",
       "   median_river_discharge_30  ...  max_soil_moisture_100_to_255cm_1  \\\n",
       "0                   0.383566  ...                             0.352   \n",
       "1                   0.570363  ...                             0.360   \n",
       "2                   0.625549  ...                             0.365   \n",
       "3                   0.782379  ...                             0.368   \n",
       "4                   0.428894  ...                             0.373   \n",
       "\n",
       "   elevation  median_wave_height_30  mean_wave_height_30  mean_wave_height_5  \\\n",
       "0        3.0                   0.70             0.899865            1.667167   \n",
       "1        3.0                   0.74             0.923091            1.512000   \n",
       "2        3.0                   0.76             0.934274            1.224000   \n",
       "3        3.0                   0.78             0.961371            1.237667   \n",
       "4       20.0                   0.70             0.899865            1.667167   \n",
       "\n",
       "   mean_wave_height_1  max_wave_height_1  month  Type_cd  is_flood  \n",
       "0            2.015833               3.14     11        2         1  \n",
       "1            1.275000               2.10     12        2         1  \n",
       "2            0.780833               1.22     12        2         1  \n",
       "3            1.142500               1.90     12        2         1  \n",
       "4            2.015833               3.14     11        2         1  \n",
       "\n",
       "[5 rows x 83 columns]"
      ]
     },
     "execution_count": 92,
     "metadata": {},
     "output_type": "execute_result"
    }
   ],
   "source": [
    "df_complete.head()"
   ]
  },
  {
   "cell_type": "code",
   "execution_count": 93,
   "metadata": {},
   "outputs": [
    {
     "name": "stdout",
     "output_type": "stream",
     "text": [
      "<class 'pandas.core.frame.DataFrame'>\n",
      "RangeIndex: 119794 entries, 0 to 119793\n",
      "Data columns (total 83 columns):\n",
      " #   Column                                Non-Null Count   Dtype  \n",
      "---  ------                                --------------   -----  \n",
      " 0   median_sea_level_height_msl_30        119794 non-null  float64\n",
      " 1   mean_sea_level_height_msl_30          119794 non-null  float64\n",
      " 2   mean_sea_level_height_msl_5           119794 non-null  float64\n",
      " 3   mean_sea_level_height_msl_1           119794 non-null  float64\n",
      " 4   max_sea_level_height_msl_1            119794 non-null  float64\n",
      " 5   lat                                   119794 non-null  float64\n",
      " 6   lon                                   119794 non-null  float64\n",
      " 7   Sea distance                          119794 non-null  float64\n",
      " 8   Type                                  119794 non-null  object \n",
      " 9   median_river_discharge_30             119794 non-null  float64\n",
      " 10  mean_river_discharge_30               119794 non-null  float64\n",
      " 11  mean_river_discharge_5                119794 non-null  float64\n",
      " 12  mean_river_discharge_1                119794 non-null  float64\n",
      " 13  max_river_discharge_1                 119794 non-null  float64\n",
      " 14  median_temperature_2m_30              119794 non-null  float64\n",
      " 15  median_relative_humidity_2m_30        119794 non-null  float64\n",
      " 16  median_dew_point_2m_30                119794 non-null  float64\n",
      " 17  median_precipitation_30               119794 non-null  float64\n",
      " 18  median_et0_fao_evapotranspiration_30  119794 non-null  float64\n",
      " 19  median_vapour_pressure_deficit_30     119794 non-null  float64\n",
      " 20  median_wind_speed_10m_30              119794 non-null  float64\n",
      " 21  median_wind_gusts_10m_30              119794 non-null  float64\n",
      " 22  mean_temperature_2m_30                119794 non-null  float64\n",
      " 23  mean_relative_humidity_2m_30          119794 non-null  float64\n",
      " 24  mean_dew_point_2m_30                  119794 non-null  float64\n",
      " 25  mean_precipitation_30                 119794 non-null  float64\n",
      " 26  mean_et0_fao_evapotranspiration_30    119794 non-null  float64\n",
      " 27  mean_vapour_pressure_deficit_30       119794 non-null  float64\n",
      " 28  mean_wind_speed_10m_30                119794 non-null  float64\n",
      " 29  mean_wind_gusts_10m_30                119794 non-null  float64\n",
      " 30  mean_temperature_2m_5                 119794 non-null  float64\n",
      " 31  mean_relative_humidity_2m_5           119794 non-null  float64\n",
      " 32  mean_dew_point_2m_5                   119794 non-null  float64\n",
      " 33  mean_precipitation_5                  119794 non-null  float64\n",
      " 34  mean_et0_fao_evapotranspiration_5     119794 non-null  float64\n",
      " 35  mean_vapour_pressure_deficit_5        119794 non-null  float64\n",
      " 36  mean_wind_speed_10m_5                 119794 non-null  float64\n",
      " 37  mean_wind_gusts_10m_5                 119794 non-null  float64\n",
      " 38  mean_temperature_2m_1                 119794 non-null  float64\n",
      " 39  mean_relative_humidity_2m_1           119794 non-null  float64\n",
      " 40  mean_dew_point_2m_1                   119794 non-null  float64\n",
      " 41  mean_precipitation_1                  119794 non-null  float64\n",
      " 42  mean_et0_fao_evapotranspiration_1     119794 non-null  float64\n",
      " 43  mean_vapour_pressure_deficit_1        119794 non-null  float64\n",
      " 44  mean_wind_speed_10m_1                 119794 non-null  float64\n",
      " 45  mean_wind_gusts_10m_1                 119794 non-null  float64\n",
      " 46  max_temperature_2m_1                  119794 non-null  float64\n",
      " 47  max_relative_humidity_2m_1            119794 non-null  float64\n",
      " 48  max_dew_point_2m_1                    119794 non-null  float64\n",
      " 49  max_precipitation_1                   119794 non-null  float64\n",
      " 50  max_et0_fao_evapotranspiration_1      119794 non-null  float64\n",
      " 51  max_vapour_pressure_deficit_1         119794 non-null  float64\n",
      " 52  max_wind_speed_10m_1                  119794 non-null  float64\n",
      " 53  max_wind_gusts_10m_1                  119794 non-null  float64\n",
      " 54  median_soil_moisture_0_to_7cm_30      119794 non-null  float64\n",
      " 55  median_soil_moisture_7_to_28cm_30     119794 non-null  float64\n",
      " 56  median_soil_moisture_28_to_100cm_30   119794 non-null  float64\n",
      " 57  median_soil_moisture_100_to_255cm_30  119794 non-null  float64\n",
      " 58  mean_soil_moisture_0_to_7cm_30        119794 non-null  float64\n",
      " 59  mean_soil_moisture_7_to_28cm_30       119794 non-null  float64\n",
      " 60  mean_soil_moisture_28_to_100cm_30     119794 non-null  float64\n",
      " 61  mean_soil_moisture_100_to_255cm_30    119794 non-null  float64\n",
      " 62  mean_soil_moisture_0_to_7cm_5         119794 non-null  float64\n",
      " 63  mean_soil_moisture_7_to_28cm_5        119794 non-null  float64\n",
      " 64  mean_soil_moisture_28_to_100cm_5      119794 non-null  float64\n",
      " 65  mean_soil_moisture_100_to_255cm_5     119794 non-null  float64\n",
      " 66  mean_soil_moisture_0_to_7cm_1         119794 non-null  float64\n",
      " 67  mean_soil_moisture_7_to_28cm_1        119794 non-null  float64\n",
      " 68  mean_soil_moisture_28_to_100cm_1      119794 non-null  float64\n",
      " 69  mean_soil_moisture_100_to_255cm_1     119794 non-null  float64\n",
      " 70  max_soil_moisture_0_to_7cm_1          119794 non-null  float64\n",
      " 71  max_soil_moisture_7_to_28cm_1         119794 non-null  float64\n",
      " 72  max_soil_moisture_28_to_100cm_1       119794 non-null  float64\n",
      " 73  max_soil_moisture_100_to_255cm_1      119794 non-null  float64\n",
      " 74  elevation                             119794 non-null  float64\n",
      " 75  median_wave_height_30                 119794 non-null  float64\n",
      " 76  mean_wave_height_30                   119794 non-null  float64\n",
      " 77  mean_wave_height_5                    119794 non-null  float64\n",
      " 78  mean_wave_height_1                    119794 non-null  float64\n",
      " 79  max_wave_height_1                     119794 non-null  float64\n",
      " 80  month                                 119794 non-null  int64  \n",
      " 81  Type_cd                               119794 non-null  int64  \n",
      " 82  is_flood                              119794 non-null  int64  \n",
      "dtypes: float64(79), int64(3), object(1)\n",
      "memory usage: 75.9+ MB\n"
     ]
    }
   ],
   "source": [
    "df_complete.info()"
   ]
  },
  {
   "cell_type": "code",
   "execution_count": null,
   "metadata": {},
   "outputs": [],
   "source": [
    "X = df_complete.drop([\"lat\", \"lon\", \"Type\", \"Type_cd\", \"is_flood\"], axis=1)\n",
    "y = df_complete.loc[:,\"is_flood\"] # predict flood\n",
    "X_train, X_test, y_train, y_test = train_test_split(X, y, test_size=0.2, random_state=24, stratify=y)"
   ]
  },
  {
   "cell_type": "code",
   "execution_count": 99,
   "metadata": {},
   "outputs": [],
   "source": [
    "X_train_resampled_ada, y_train_resampled_ada = adasyn.fit_resample(X_train, y_train)\n",
    "X_train_resampled_ros, y_train_resampled_ros = ros.fit_resample(X_train, y_train)"
   ]
  },
  {
   "cell_type": "code",
   "execution_count": null,
   "metadata": {},
   "outputs": [],
   "source": [
    "dataset_config = {\n",
    "    \"names\": [\"raw_data\", \"adasyn_oversampled\", \"random_oversampled\"],\n",
    "    \"features\": {\n",
    "        \"raw_data\": X_train,\n",
    "        \"adasyn_oversampled\": X_train_resampled_ada,\n",
    "        \"random_oversampled\": X_train_resampled_ros\n",
    "    },\n",
    "    \"labels\": {\n",
    "        \"raw_data\": y_train,\n",
    "        \"adasyn_oversampled\": y_train_resampled_ada,\n",
    "        \"random_oversampled\": y_train_resampled_ros\n",
    "    }\n",
    "}\n",
    "# Removing SVC due to its poor performance and is excessively slow\n",
    "model_config = {\n",
    "    \"classifier_names\": [\n",
    "        \"logistic_regression\", \n",
    "        \"random_forest\", \n",
    "        \"xgboost_classifier\"\n",
    "    ],\n",
    "    \"initializers\": {\n",
    "        \"logistic_regression\": get_LG_model,\n",
    "        \"random_forest\": get_RF_model,\n",
    "        \"xgboost_classifier\": get_XGBC_model\n",
    "    }\n",
    "}\n"
   ]
  },
  {
   "cell_type": "code",
   "execution_count": 106,
   "metadata": {},
   "outputs": [
    {
     "name": "stdout",
     "output_type": "stream",
     "text": [
      "\n",
      "Evaluating logistic_regression on raw_data\n",
      "Train score: 0.8908123336985444\n",
      "Accuracy: 0.8945281522601111\n",
      "Macro F1 Score: 0.7792438015316794\n",
      "Micro F1 Score: 0.8945281522601111\n",
      "\n",
      "Classification Report:\n",
      "               precision    recall  f1-score   support\n",
      "\n",
      "           0       0.91      0.97      0.94     19987\n",
      "           1       0.77      0.52      0.62      3972\n",
      "\n",
      "    accuracy                           0.89     23959\n",
      "   macro avg       0.84      0.74      0.78     23959\n",
      "weighted avg       0.89      0.89      0.89     23959\n",
      "\n",
      "Confusion Matrix:\n",
      " [[19373   614]\n",
      " [ 1913  2059]]\n",
      "\n",
      "Evaluating random_forest on raw_data\n",
      "Train score: 1.0\n",
      "Accuracy: 0.9826787428523728\n",
      "Macro F1 Score: 0.9674289301081865\n",
      "Micro F1 Score: 0.9826787428523728\n",
      "\n",
      "Classification Report:\n",
      "               precision    recall  f1-score   support\n",
      "\n",
      "           0       0.98      1.00      0.99     19987\n",
      "           1       0.99      0.90      0.95      3972\n",
      "\n",
      "    accuracy                           0.98     23959\n",
      "   macro avg       0.99      0.95      0.97     23959\n",
      "weighted avg       0.98      0.98      0.98     23959\n",
      "\n",
      "Confusion Matrix:\n",
      " [[19969    18]\n",
      " [  397  3575]]\n",
      "\n",
      "Evaluating xgboost_classifier on raw_data\n",
      "Train score: 0.9959618093598372\n",
      "Accuracy: 0.987979464919237\n",
      "Macro F1 Score: 0.9778390268620519\n",
      "Micro F1 Score: 0.987979464919237\n",
      "\n",
      "Classification Report:\n",
      "               precision    recall  f1-score   support\n",
      "\n",
      "           0       0.99      1.00      0.99     19987\n",
      "           1       0.99      0.94      0.96      3972\n",
      "\n",
      "    accuracy                           0.99     23959\n",
      "   macro avg       0.99      0.97      0.98     23959\n",
      "weighted avg       0.99      0.99      0.99     23959\n",
      "\n",
      "Confusion Matrix:\n",
      " [[19939    48]\n",
      " [  240  3732]]\n",
      "\n",
      "Evaluating logistic_regression on adasyn_oversampled\n",
      "Train score: 0.8267751865184954\n",
      "Accuracy: 0.8330063859092617\n",
      "Macro F1 Score: 0.7576176272410717\n",
      "Micro F1 Score: 0.8330063859092617\n",
      "\n",
      "Classification Report:\n",
      "               precision    recall  f1-score   support\n",
      "\n",
      "           0       0.96      0.83      0.89     19987\n",
      "           1       0.50      0.83      0.62      3972\n",
      "\n",
      "    accuracy                           0.83     23959\n",
      "   macro avg       0.73      0.83      0.76     23959\n",
      "weighted avg       0.88      0.83      0.85     23959\n",
      "\n",
      "Confusion Matrix:\n",
      " [[16660  3327]\n",
      " [  674  3298]]\n",
      "\n",
      "Evaluating random_forest on adasyn_oversampled\n",
      "Train score: 1.0\n",
      "Accuracy: 0.9861012563128678\n",
      "Macro F1 Score: 0.9747094311184683\n",
      "Micro F1 Score: 0.9861012563128678\n",
      "\n",
      "Classification Report:\n",
      "               precision    recall  f1-score   support\n",
      "\n",
      "           0       0.99      0.99      0.99     19987\n",
      "           1       0.97      0.95      0.96      3972\n",
      "\n",
      "    accuracy                           0.99     23959\n",
      "   macro avg       0.98      0.97      0.97     23959\n",
      "weighted avg       0.99      0.99      0.99     23959\n",
      "\n",
      "Confusion Matrix:\n",
      " [[19853   134]\n",
      " [  199  3773]]\n",
      "\n",
      "Evaluating xgboost_classifier on adasyn_oversampled\n",
      "Train score: 0.9904627745604424\n",
      "Accuracy: 0.9797153470512124\n",
      "Macro F1 Score: 0.9638188990177099\n",
      "Micro F1 Score: 0.9797153470512124\n",
      "\n",
      "Classification Report:\n",
      "               precision    recall  f1-score   support\n",
      "\n",
      "           0       0.99      0.98      0.99     19987\n",
      "           1       0.92      0.96      0.94      3972\n",
      "\n",
      "    accuracy                           0.98     23959\n",
      "   macro avg       0.96      0.97      0.96     23959\n",
      "weighted avg       0.98      0.98      0.98     23959\n",
      "\n",
      "Confusion Matrix:\n",
      " [[19677   310]\n",
      " [  176  3796]]\n",
      "\n",
      "Evaluating logistic_regression on random_oversampled\n",
      "Train score: 0.8358428549068712\n",
      "Accuracy: 0.8440252097332944\n",
      "Macro F1 Score: 0.7700377572796955\n",
      "Micro F1 Score: 0.8440252097332944\n",
      "\n",
      "Classification Report:\n",
      "               precision    recall  f1-score   support\n",
      "\n",
      "           0       0.96      0.85      0.90     19987\n",
      "           1       0.52      0.83      0.64      3972\n",
      "\n",
      "    accuracy                           0.84     23959\n",
      "   macro avg       0.74      0.84      0.77     23959\n",
      "weighted avg       0.89      0.84      0.86     23959\n",
      "\n",
      "Confusion Matrix:\n",
      " [[16906  3081]\n",
      " [  656  3316]]\n",
      "\n",
      "Evaluating random_forest on random_oversampled\n",
      "Train score: 1.0\n",
      "Accuracy: 0.9893985558662716\n",
      "Macro F1 Score: 0.9804471098502505\n",
      "Micro F1 Score: 0.9893985558662716\n",
      "\n",
      "Classification Report:\n",
      "               precision    recall  f1-score   support\n",
      "\n",
      "           0       0.99      1.00      0.99     19987\n",
      "           1       0.99      0.94      0.97      3972\n",
      "\n",
      "    accuracy                           0.99     23959\n",
      "   macro avg       0.99      0.97      0.98     23959\n",
      "weighted avg       0.99      0.99      0.99     23959\n",
      "\n",
      "Confusion Matrix:\n",
      " [[19958    29]\n",
      " [  225  3747]]\n",
      "\n",
      "Evaluating xgboost_classifier on random_oversampled\n",
      "Train score: 0.9942922731778577\n",
      "Accuracy: 0.9868525397554155\n",
      "Macro F1 Score: 0.9764304628080873\n",
      "Micro F1 Score: 0.9868525397554155\n",
      "\n",
      "Classification Report:\n",
      "               precision    recall  f1-score   support\n",
      "\n",
      "           0       0.99      0.99      0.99     19987\n",
      "           1       0.95      0.97      0.96      3972\n",
      "\n",
      "    accuracy                           0.99     23959\n",
      "   macro avg       0.97      0.98      0.98     23959\n",
      "weighted avg       0.99      0.99      0.99     23959\n",
      "\n",
      "Confusion Matrix:\n",
      " [[19788   199]\n",
      " [  116  3856]]\n"
     ]
    }
   ],
   "source": [
    "metrics_store = {}\n",
    "\n",
    "for ds_name in dataset_config[\"names\"]:\n",
    "    metrics_store[ds_name] = {}\n",
    "    X_data = dataset_config[\"features\"][ds_name]\n",
    "    y_data = dataset_config[\"labels\"][ds_name]\n",
    "    \n",
    "    for model_name in model_config[\"classifier_names\"]:\n",
    "        print(f\"\\nEvaluating {model_name} on {ds_name}\")\n",
    "        \n",
    "        classifier = model_config[\"initializers\"][model_name]()\n",
    "        \n",
    "        start_time = time.time()\n",
    "        classifier.fit(X_data, y_data)\n",
    "        training_time = time.time() - start_time\n",
    "        \n",
    "        y_pred = classifier.predict(X_test)\n",
    "        \n",
    "        print(f\"Train score: {classifier.score(X_train, y_train)}\")\n",
    "        metrics = evaluate_model(y_pred, y_test)\n",
    "        \n",
    "        metrics_store[ds_name][model_name] = {\n",
    "            **metrics,\n",
    "            \"training_time\": training_time\n",
    "        }  "
   ]
  },
  {
   "cell_type": "code",
   "execution_count": null,
   "metadata": {},
   "outputs": [
    {
     "data": {
      "application/vnd.plotly.v1+json": {
       "config": {
        "plotlyServerURL": "https://plot.ly"
       },
       "data": [
        {
         "alignmentgroup": "True",
         "hovertemplate": "Dataset=raw data<br>Metric=Accuracy<br>Model=%{x}<br>Score=%{y}<extra></extra>",
         "legendgroup": "raw data",
         "marker": {
          "color": "#636efa",
          "pattern": {
           "shape": ""
          }
         },
         "name": "raw data",
         "offsetgroup": "raw data",
         "orientation": "v",
         "showlegend": true,
         "textposition": "auto",
         "type": "bar",
         "x": [
          "logistic regression",
          "random forest",
          "xgboost classifier"
         ],
         "xaxis": "x",
         "y": [
          0.8945281522601111,
          0.9826787428523728,
          0.987979464919237
         ],
         "yaxis": "y"
        },
        {
         "alignmentgroup": "True",
         "hovertemplate": "Dataset=raw data<br>Metric=F1 Macro<br>Model=%{x}<br>Score=%{y}<extra></extra>",
         "legendgroup": "raw data",
         "marker": {
          "color": "#636efa",
          "pattern": {
           "shape": ""
          }
         },
         "name": "raw data",
         "offsetgroup": "raw data",
         "orientation": "v",
         "showlegend": false,
         "textposition": "auto",
         "type": "bar",
         "x": [
          "logistic regression",
          "random forest",
          "xgboost classifier"
         ],
         "xaxis": "x2",
         "y": [
          0.7792438015316794,
          0.9674289301081865,
          0.9778390268620519
         ],
         "yaxis": "y2"
        },
        {
         "alignmentgroup": "True",
         "hovertemplate": "Dataset=raw data<br>Metric=F1 Micro<br>Model=%{x}<br>Score=%{y}<extra></extra>",
         "legendgroup": "raw data",
         "marker": {
          "color": "#636efa",
          "pattern": {
           "shape": ""
          }
         },
         "name": "raw data",
         "offsetgroup": "raw data",
         "orientation": "v",
         "showlegend": false,
         "textposition": "auto",
         "type": "bar",
         "x": [
          "logistic regression",
          "random forest",
          "xgboost classifier"
         ],
         "xaxis": "x3",
         "y": [
          0.8945281522601111,
          0.9826787428523728,
          0.987979464919237
         ],
         "yaxis": "y3"
        },
        {
         "alignmentgroup": "True",
         "hovertemplate": "Dataset=adasyn oversampled<br>Metric=Accuracy<br>Model=%{x}<br>Score=%{y}<extra></extra>",
         "legendgroup": "adasyn oversampled",
         "marker": {
          "color": "#EF553B",
          "pattern": {
           "shape": ""
          }
         },
         "name": "adasyn oversampled",
         "offsetgroup": "adasyn oversampled",
         "orientation": "v",
         "showlegend": true,
         "textposition": "auto",
         "type": "bar",
         "x": [
          "logistic regression",
          "random forest",
          "xgboost classifier"
         ],
         "xaxis": "x",
         "y": [
          0.8330063859092617,
          0.9861012563128678,
          0.9797153470512124
         ],
         "yaxis": "y"
        },
        {
         "alignmentgroup": "True",
         "hovertemplate": "Dataset=adasyn oversampled<br>Metric=F1 Macro<br>Model=%{x}<br>Score=%{y}<extra></extra>",
         "legendgroup": "adasyn oversampled",
         "marker": {
          "color": "#EF553B",
          "pattern": {
           "shape": ""
          }
         },
         "name": "adasyn oversampled",
         "offsetgroup": "adasyn oversampled",
         "orientation": "v",
         "showlegend": false,
         "textposition": "auto",
         "type": "bar",
         "x": [
          "logistic regression",
          "random forest",
          "xgboost classifier"
         ],
         "xaxis": "x2",
         "y": [
          0.7576176272410717,
          0.9747094311184683,
          0.9638188990177099
         ],
         "yaxis": "y2"
        },
        {
         "alignmentgroup": "True",
         "hovertemplate": "Dataset=adasyn oversampled<br>Metric=F1 Micro<br>Model=%{x}<br>Score=%{y}<extra></extra>",
         "legendgroup": "adasyn oversampled",
         "marker": {
          "color": "#EF553B",
          "pattern": {
           "shape": ""
          }
         },
         "name": "adasyn oversampled",
         "offsetgroup": "adasyn oversampled",
         "orientation": "v",
         "showlegend": false,
         "textposition": "auto",
         "type": "bar",
         "x": [
          "logistic regression",
          "random forest",
          "xgboost classifier"
         ],
         "xaxis": "x3",
         "y": [
          0.8330063859092617,
          0.9861012563128678,
          0.9797153470512124
         ],
         "yaxis": "y3"
        },
        {
         "alignmentgroup": "True",
         "hovertemplate": "Dataset=random oversampled<br>Metric=Accuracy<br>Model=%{x}<br>Score=%{y}<extra></extra>",
         "legendgroup": "random oversampled",
         "marker": {
          "color": "#00cc96",
          "pattern": {
           "shape": ""
          }
         },
         "name": "random oversampled",
         "offsetgroup": "random oversampled",
         "orientation": "v",
         "showlegend": true,
         "textposition": "auto",
         "type": "bar",
         "x": [
          "logistic regression",
          "random forest",
          "xgboost classifier"
         ],
         "xaxis": "x",
         "y": [
          0.8440252097332944,
          0.9893985558662716,
          0.9868525397554155
         ],
         "yaxis": "y"
        },
        {
         "alignmentgroup": "True",
         "hovertemplate": "Dataset=random oversampled<br>Metric=F1 Macro<br>Model=%{x}<br>Score=%{y}<extra></extra>",
         "legendgroup": "random oversampled",
         "marker": {
          "color": "#00cc96",
          "pattern": {
           "shape": ""
          }
         },
         "name": "random oversampled",
         "offsetgroup": "random oversampled",
         "orientation": "v",
         "showlegend": false,
         "textposition": "auto",
         "type": "bar",
         "x": [
          "logistic regression",
          "random forest",
          "xgboost classifier"
         ],
         "xaxis": "x2",
         "y": [
          0.7700377572796955,
          0.9804471098502505,
          0.9764304628080873
         ],
         "yaxis": "y2"
        },
        {
         "alignmentgroup": "True",
         "hovertemplate": "Dataset=random oversampled<br>Metric=F1 Micro<br>Model=%{x}<br>Score=%{y}<extra></extra>",
         "legendgroup": "random oversampled",
         "marker": {
          "color": "#00cc96",
          "pattern": {
           "shape": ""
          }
         },
         "name": "random oversampled",
         "offsetgroup": "random oversampled",
         "orientation": "v",
         "showlegend": false,
         "textposition": "auto",
         "type": "bar",
         "x": [
          "logistic regression",
          "random forest",
          "xgboost classifier"
         ],
         "xaxis": "x3",
         "y": [
          0.8440252097332944,
          0.9893985558662716,
          0.9868525397554155
         ],
         "yaxis": "y3"
        }
       ],
       "layout": {
        "annotations": [
         {
          "font": {},
          "showarrow": false,
          "text": "Metric=Accuracy",
          "x": 0.15999999999999998,
          "xanchor": "center",
          "xref": "paper",
          "y": 1,
          "yanchor": "bottom",
          "yref": "paper"
         },
         {
          "font": {},
          "showarrow": false,
          "text": "Metric=F1 Macro",
          "x": 0.49999999999999994,
          "xanchor": "center",
          "xref": "paper",
          "y": 1,
          "yanchor": "bottom",
          "yref": "paper"
         },
         {
          "font": {},
          "showarrow": false,
          "text": "Metric=F1 Micro",
          "x": 0.8399999999999999,
          "xanchor": "center",
          "xref": "paper",
          "y": 1,
          "yanchor": "bottom",
          "yref": "paper"
         }
        ],
        "barmode": "group",
        "legend": {
         "title": {
          "text": "Dataset"
         },
         "tracegroupgap": 0
        },
        "template": {
         "data": {
          "bar": [
           {
            "error_x": {
             "color": "#2a3f5f"
            },
            "error_y": {
             "color": "#2a3f5f"
            },
            "marker": {
             "line": {
              "color": "#E5ECF6",
              "width": 0.5
             },
             "pattern": {
              "fillmode": "overlay",
              "size": 10,
              "solidity": 0.2
             }
            },
            "type": "bar"
           }
          ],
          "barpolar": [
           {
            "marker": {
             "line": {
              "color": "#E5ECF6",
              "width": 0.5
             },
             "pattern": {
              "fillmode": "overlay",
              "size": 10,
              "solidity": 0.2
             }
            },
            "type": "barpolar"
           }
          ],
          "carpet": [
           {
            "aaxis": {
             "endlinecolor": "#2a3f5f",
             "gridcolor": "white",
             "linecolor": "white",
             "minorgridcolor": "white",
             "startlinecolor": "#2a3f5f"
            },
            "baxis": {
             "endlinecolor": "#2a3f5f",
             "gridcolor": "white",
             "linecolor": "white",
             "minorgridcolor": "white",
             "startlinecolor": "#2a3f5f"
            },
            "type": "carpet"
           }
          ],
          "choropleth": [
           {
            "colorbar": {
             "outlinewidth": 0,
             "ticks": ""
            },
            "type": "choropleth"
           }
          ],
          "contour": [
           {
            "colorbar": {
             "outlinewidth": 0,
             "ticks": ""
            },
            "colorscale": [
             [
              0,
              "#0d0887"
             ],
             [
              0.1111111111111111,
              "#46039f"
             ],
             [
              0.2222222222222222,
              "#7201a8"
             ],
             [
              0.3333333333333333,
              "#9c179e"
             ],
             [
              0.4444444444444444,
              "#bd3786"
             ],
             [
              0.5555555555555556,
              "#d8576b"
             ],
             [
              0.6666666666666666,
              "#ed7953"
             ],
             [
              0.7777777777777778,
              "#fb9f3a"
             ],
             [
              0.8888888888888888,
              "#fdca26"
             ],
             [
              1,
              "#f0f921"
             ]
            ],
            "type": "contour"
           }
          ],
          "contourcarpet": [
           {
            "colorbar": {
             "outlinewidth": 0,
             "ticks": ""
            },
            "type": "contourcarpet"
           }
          ],
          "heatmap": [
           {
            "colorbar": {
             "outlinewidth": 0,
             "ticks": ""
            },
            "colorscale": [
             [
              0,
              "#0d0887"
             ],
             [
              0.1111111111111111,
              "#46039f"
             ],
             [
              0.2222222222222222,
              "#7201a8"
             ],
             [
              0.3333333333333333,
              "#9c179e"
             ],
             [
              0.4444444444444444,
              "#bd3786"
             ],
             [
              0.5555555555555556,
              "#d8576b"
             ],
             [
              0.6666666666666666,
              "#ed7953"
             ],
             [
              0.7777777777777778,
              "#fb9f3a"
             ],
             [
              0.8888888888888888,
              "#fdca26"
             ],
             [
              1,
              "#f0f921"
             ]
            ],
            "type": "heatmap"
           }
          ],
          "heatmapgl": [
           {
            "colorbar": {
             "outlinewidth": 0,
             "ticks": ""
            },
            "colorscale": [
             [
              0,
              "#0d0887"
             ],
             [
              0.1111111111111111,
              "#46039f"
             ],
             [
              0.2222222222222222,
              "#7201a8"
             ],
             [
              0.3333333333333333,
              "#9c179e"
             ],
             [
              0.4444444444444444,
              "#bd3786"
             ],
             [
              0.5555555555555556,
              "#d8576b"
             ],
             [
              0.6666666666666666,
              "#ed7953"
             ],
             [
              0.7777777777777778,
              "#fb9f3a"
             ],
             [
              0.8888888888888888,
              "#fdca26"
             ],
             [
              1,
              "#f0f921"
             ]
            ],
            "type": "heatmapgl"
           }
          ],
          "histogram": [
           {
            "marker": {
             "pattern": {
              "fillmode": "overlay",
              "size": 10,
              "solidity": 0.2
             }
            },
            "type": "histogram"
           }
          ],
          "histogram2d": [
           {
            "colorbar": {
             "outlinewidth": 0,
             "ticks": ""
            },
            "colorscale": [
             [
              0,
              "#0d0887"
             ],
             [
              0.1111111111111111,
              "#46039f"
             ],
             [
              0.2222222222222222,
              "#7201a8"
             ],
             [
              0.3333333333333333,
              "#9c179e"
             ],
             [
              0.4444444444444444,
              "#bd3786"
             ],
             [
              0.5555555555555556,
              "#d8576b"
             ],
             [
              0.6666666666666666,
              "#ed7953"
             ],
             [
              0.7777777777777778,
              "#fb9f3a"
             ],
             [
              0.8888888888888888,
              "#fdca26"
             ],
             [
              1,
              "#f0f921"
             ]
            ],
            "type": "histogram2d"
           }
          ],
          "histogram2dcontour": [
           {
            "colorbar": {
             "outlinewidth": 0,
             "ticks": ""
            },
            "colorscale": [
             [
              0,
              "#0d0887"
             ],
             [
              0.1111111111111111,
              "#46039f"
             ],
             [
              0.2222222222222222,
              "#7201a8"
             ],
             [
              0.3333333333333333,
              "#9c179e"
             ],
             [
              0.4444444444444444,
              "#bd3786"
             ],
             [
              0.5555555555555556,
              "#d8576b"
             ],
             [
              0.6666666666666666,
              "#ed7953"
             ],
             [
              0.7777777777777778,
              "#fb9f3a"
             ],
             [
              0.8888888888888888,
              "#fdca26"
             ],
             [
              1,
              "#f0f921"
             ]
            ],
            "type": "histogram2dcontour"
           }
          ],
          "mesh3d": [
           {
            "colorbar": {
             "outlinewidth": 0,
             "ticks": ""
            },
            "type": "mesh3d"
           }
          ],
          "parcoords": [
           {
            "line": {
             "colorbar": {
              "outlinewidth": 0,
              "ticks": ""
             }
            },
            "type": "parcoords"
           }
          ],
          "pie": [
           {
            "automargin": true,
            "type": "pie"
           }
          ],
          "scatter": [
           {
            "fillpattern": {
             "fillmode": "overlay",
             "size": 10,
             "solidity": 0.2
            },
            "type": "scatter"
           }
          ],
          "scatter3d": [
           {
            "line": {
             "colorbar": {
              "outlinewidth": 0,
              "ticks": ""
             }
            },
            "marker": {
             "colorbar": {
              "outlinewidth": 0,
              "ticks": ""
             }
            },
            "type": "scatter3d"
           }
          ],
          "scattercarpet": [
           {
            "marker": {
             "colorbar": {
              "outlinewidth": 0,
              "ticks": ""
             }
            },
            "type": "scattercarpet"
           }
          ],
          "scattergeo": [
           {
            "marker": {
             "colorbar": {
              "outlinewidth": 0,
              "ticks": ""
             }
            },
            "type": "scattergeo"
           }
          ],
          "scattergl": [
           {
            "marker": {
             "colorbar": {
              "outlinewidth": 0,
              "ticks": ""
             }
            },
            "type": "scattergl"
           }
          ],
          "scattermapbox": [
           {
            "marker": {
             "colorbar": {
              "outlinewidth": 0,
              "ticks": ""
             }
            },
            "type": "scattermapbox"
           }
          ],
          "scatterpolar": [
           {
            "marker": {
             "colorbar": {
              "outlinewidth": 0,
              "ticks": ""
             }
            },
            "type": "scatterpolar"
           }
          ],
          "scatterpolargl": [
           {
            "marker": {
             "colorbar": {
              "outlinewidth": 0,
              "ticks": ""
             }
            },
            "type": "scatterpolargl"
           }
          ],
          "scatterternary": [
           {
            "marker": {
             "colorbar": {
              "outlinewidth": 0,
              "ticks": ""
             }
            },
            "type": "scatterternary"
           }
          ],
          "surface": [
           {
            "colorbar": {
             "outlinewidth": 0,
             "ticks": ""
            },
            "colorscale": [
             [
              0,
              "#0d0887"
             ],
             [
              0.1111111111111111,
              "#46039f"
             ],
             [
              0.2222222222222222,
              "#7201a8"
             ],
             [
              0.3333333333333333,
              "#9c179e"
             ],
             [
              0.4444444444444444,
              "#bd3786"
             ],
             [
              0.5555555555555556,
              "#d8576b"
             ],
             [
              0.6666666666666666,
              "#ed7953"
             ],
             [
              0.7777777777777778,
              "#fb9f3a"
             ],
             [
              0.8888888888888888,
              "#fdca26"
             ],
             [
              1,
              "#f0f921"
             ]
            ],
            "type": "surface"
           }
          ],
          "table": [
           {
            "cells": {
             "fill": {
              "color": "#EBF0F8"
             },
             "line": {
              "color": "white"
             }
            },
            "header": {
             "fill": {
              "color": "#C8D4E3"
             },
             "line": {
              "color": "white"
             }
            },
            "type": "table"
           }
          ]
         },
         "layout": {
          "annotationdefaults": {
           "arrowcolor": "#2a3f5f",
           "arrowhead": 0,
           "arrowwidth": 1
          },
          "autotypenumbers": "strict",
          "coloraxis": {
           "colorbar": {
            "outlinewidth": 0,
            "ticks": ""
           }
          },
          "colorscale": {
           "diverging": [
            [
             0,
             "#8e0152"
            ],
            [
             0.1,
             "#c51b7d"
            ],
            [
             0.2,
             "#de77ae"
            ],
            [
             0.3,
             "#f1b6da"
            ],
            [
             0.4,
             "#fde0ef"
            ],
            [
             0.5,
             "#f7f7f7"
            ],
            [
             0.6,
             "#e6f5d0"
            ],
            [
             0.7,
             "#b8e186"
            ],
            [
             0.8,
             "#7fbc41"
            ],
            [
             0.9,
             "#4d9221"
            ],
            [
             1,
             "#276419"
            ]
           ],
           "sequential": [
            [
             0,
             "#0d0887"
            ],
            [
             0.1111111111111111,
             "#46039f"
            ],
            [
             0.2222222222222222,
             "#7201a8"
            ],
            [
             0.3333333333333333,
             "#9c179e"
            ],
            [
             0.4444444444444444,
             "#bd3786"
            ],
            [
             0.5555555555555556,
             "#d8576b"
            ],
            [
             0.6666666666666666,
             "#ed7953"
            ],
            [
             0.7777777777777778,
             "#fb9f3a"
            ],
            [
             0.8888888888888888,
             "#fdca26"
            ],
            [
             1,
             "#f0f921"
            ]
           ],
           "sequentialminus": [
            [
             0,
             "#0d0887"
            ],
            [
             0.1111111111111111,
             "#46039f"
            ],
            [
             0.2222222222222222,
             "#7201a8"
            ],
            [
             0.3333333333333333,
             "#9c179e"
            ],
            [
             0.4444444444444444,
             "#bd3786"
            ],
            [
             0.5555555555555556,
             "#d8576b"
            ],
            [
             0.6666666666666666,
             "#ed7953"
            ],
            [
             0.7777777777777778,
             "#fb9f3a"
            ],
            [
             0.8888888888888888,
             "#fdca26"
            ],
            [
             1,
             "#f0f921"
            ]
           ]
          },
          "colorway": [
           "#636efa",
           "#EF553B",
           "#00cc96",
           "#ab63fa",
           "#FFA15A",
           "#19d3f3",
           "#FF6692",
           "#B6E880",
           "#FF97FF",
           "#FECB52"
          ],
          "font": {
           "color": "#2a3f5f"
          },
          "geo": {
           "bgcolor": "white",
           "lakecolor": "white",
           "landcolor": "#E5ECF6",
           "showlakes": true,
           "showland": true,
           "subunitcolor": "white"
          },
          "hoverlabel": {
           "align": "left"
          },
          "hovermode": "closest",
          "mapbox": {
           "style": "light"
          },
          "paper_bgcolor": "white",
          "plot_bgcolor": "#E5ECF6",
          "polar": {
           "angularaxis": {
            "gridcolor": "white",
            "linecolor": "white",
            "ticks": ""
           },
           "bgcolor": "#E5ECF6",
           "radialaxis": {
            "gridcolor": "white",
            "linecolor": "white",
            "ticks": ""
           }
          },
          "scene": {
           "xaxis": {
            "backgroundcolor": "#E5ECF6",
            "gridcolor": "white",
            "gridwidth": 2,
            "linecolor": "white",
            "showbackground": true,
            "ticks": "",
            "zerolinecolor": "white"
           },
           "yaxis": {
            "backgroundcolor": "#E5ECF6",
            "gridcolor": "white",
            "gridwidth": 2,
            "linecolor": "white",
            "showbackground": true,
            "ticks": "",
            "zerolinecolor": "white"
           },
           "zaxis": {
            "backgroundcolor": "#E5ECF6",
            "gridcolor": "white",
            "gridwidth": 2,
            "linecolor": "white",
            "showbackground": true,
            "ticks": "",
            "zerolinecolor": "white"
           }
          },
          "shapedefaults": {
           "line": {
            "color": "#2a3f5f"
           }
          },
          "ternary": {
           "aaxis": {
            "gridcolor": "white",
            "linecolor": "white",
            "ticks": ""
           },
           "baxis": {
            "gridcolor": "white",
            "linecolor": "white",
            "ticks": ""
           },
           "bgcolor": "#E5ECF6",
           "caxis": {
            "gridcolor": "white",
            "linecolor": "white",
            "ticks": ""
           }
          },
          "title": {
           "x": 0.05
          },
          "xaxis": {
           "automargin": true,
           "gridcolor": "white",
           "linecolor": "white",
           "ticks": "",
           "title": {
            "standoff": 15
           },
           "zerolinecolor": "white",
           "zerolinewidth": 2
          },
          "yaxis": {
           "automargin": true,
           "gridcolor": "white",
           "linecolor": "white",
           "ticks": "",
           "title": {
            "standoff": 15
           },
           "zerolinecolor": "white",
           "zerolinewidth": 2
          }
         }
        },
        "title": {
         "text": "Model Performance Metrics"
        },
        "xaxis": {
         "anchor": "y",
         "domain": [
          0,
          0.31999999999999995
         ],
         "title": {
          "text": "Model"
         }
        },
        "xaxis2": {
         "anchor": "y2",
         "domain": [
          0.33999999999999997,
          0.6599999999999999
         ],
         "matches": "x",
         "title": {
          "text": "Model"
         }
        },
        "xaxis3": {
         "anchor": "y3",
         "domain": [
          0.6799999999999999,
          0.9999999999999999
         ],
         "matches": "x",
         "title": {
          "text": "Model"
         }
        },
        "yaxis": {
         "anchor": "x",
         "domain": [
          0,
          1
         ],
         "title": {
          "text": "Score"
         }
        },
        "yaxis2": {
         "anchor": "x2",
         "domain": [
          0,
          1
         ],
         "matches": "y",
         "showticklabels": false
        },
        "yaxis3": {
         "anchor": "x3",
         "domain": [
          0,
          1
         ],
         "matches": "y",
         "showticklabels": false
        }
       }
      }
     },
     "metadata": {},
     "output_type": "display_data"
    },
    {
     "data": {
      "application/vnd.plotly.v1+json": {
       "config": {
        "plotlyServerURL": "https://plot.ly"
       },
       "data": [
        {
         "alignmentgroup": "True",
         "hovertemplate": "Dataset=raw data<br>Model=%{x}<br>Seconds=%{y}<extra></extra>",
         "legendgroup": "raw data",
         "marker": {
          "color": "#636efa",
          "pattern": {
           "shape": ""
          }
         },
         "name": "raw data",
         "offsetgroup": "raw data",
         "orientation": "v",
         "showlegend": true,
         "textposition": "auto",
         "type": "bar",
         "x": [
          "logistic regression",
          "random forest",
          "xgboost classifier"
         ],
         "xaxis": "x",
         "y": [
          3.0439839363098145,
          64.01716637611389,
          3.311491012573242
         ],
         "yaxis": "y"
        },
        {
         "alignmentgroup": "True",
         "hovertemplate": "Dataset=adasyn oversampled<br>Model=%{x}<br>Seconds=%{y}<extra></extra>",
         "legendgroup": "adasyn oversampled",
         "marker": {
          "color": "#EF553B",
          "pattern": {
           "shape": ""
          }
         },
         "name": "adasyn oversampled",
         "offsetgroup": "adasyn oversampled",
         "orientation": "v",
         "showlegend": true,
         "textposition": "auto",
         "type": "bar",
         "x": [
          "logistic regression",
          "random forest",
          "xgboost classifier"
         ],
         "xaxis": "x",
         "y": [
          5.873749017715454,
          123.47923469543457,
          5.11353325843811
         ],
         "yaxis": "y"
        },
        {
         "alignmentgroup": "True",
         "hovertemplate": "Dataset=random oversampled<br>Model=%{x}<br>Seconds=%{y}<extra></extra>",
         "legendgroup": "random oversampled",
         "marker": {
          "color": "#00cc96",
          "pattern": {
           "shape": ""
          }
         },
         "name": "random oversampled",
         "offsetgroup": "random oversampled",
         "orientation": "v",
         "showlegend": true,
         "textposition": "auto",
         "type": "bar",
         "x": [
          "logistic regression",
          "random forest",
          "xgboost classifier"
         ],
         "xaxis": "x",
         "y": [
          5.538252830505371,
          81.06224322319031,
          4.979642152786255
         ],
         "yaxis": "y"
        }
       ],
       "layout": {
        "barmode": "group",
        "legend": {
         "title": {
          "text": "Dataset"
         },
         "tracegroupgap": 0
        },
        "template": {
         "data": {
          "bar": [
           {
            "error_x": {
             "color": "#2a3f5f"
            },
            "error_y": {
             "color": "#2a3f5f"
            },
            "marker": {
             "line": {
              "color": "#E5ECF6",
              "width": 0.5
             },
             "pattern": {
              "fillmode": "overlay",
              "size": 10,
              "solidity": 0.2
             }
            },
            "type": "bar"
           }
          ],
          "barpolar": [
           {
            "marker": {
             "line": {
              "color": "#E5ECF6",
              "width": 0.5
             },
             "pattern": {
              "fillmode": "overlay",
              "size": 10,
              "solidity": 0.2
             }
            },
            "type": "barpolar"
           }
          ],
          "carpet": [
           {
            "aaxis": {
             "endlinecolor": "#2a3f5f",
             "gridcolor": "white",
             "linecolor": "white",
             "minorgridcolor": "white",
             "startlinecolor": "#2a3f5f"
            },
            "baxis": {
             "endlinecolor": "#2a3f5f",
             "gridcolor": "white",
             "linecolor": "white",
             "minorgridcolor": "white",
             "startlinecolor": "#2a3f5f"
            },
            "type": "carpet"
           }
          ],
          "choropleth": [
           {
            "colorbar": {
             "outlinewidth": 0,
             "ticks": ""
            },
            "type": "choropleth"
           }
          ],
          "contour": [
           {
            "colorbar": {
             "outlinewidth": 0,
             "ticks": ""
            },
            "colorscale": [
             [
              0,
              "#0d0887"
             ],
             [
              0.1111111111111111,
              "#46039f"
             ],
             [
              0.2222222222222222,
              "#7201a8"
             ],
             [
              0.3333333333333333,
              "#9c179e"
             ],
             [
              0.4444444444444444,
              "#bd3786"
             ],
             [
              0.5555555555555556,
              "#d8576b"
             ],
             [
              0.6666666666666666,
              "#ed7953"
             ],
             [
              0.7777777777777778,
              "#fb9f3a"
             ],
             [
              0.8888888888888888,
              "#fdca26"
             ],
             [
              1,
              "#f0f921"
             ]
            ],
            "type": "contour"
           }
          ],
          "contourcarpet": [
           {
            "colorbar": {
             "outlinewidth": 0,
             "ticks": ""
            },
            "type": "contourcarpet"
           }
          ],
          "heatmap": [
           {
            "colorbar": {
             "outlinewidth": 0,
             "ticks": ""
            },
            "colorscale": [
             [
              0,
              "#0d0887"
             ],
             [
              0.1111111111111111,
              "#46039f"
             ],
             [
              0.2222222222222222,
              "#7201a8"
             ],
             [
              0.3333333333333333,
              "#9c179e"
             ],
             [
              0.4444444444444444,
              "#bd3786"
             ],
             [
              0.5555555555555556,
              "#d8576b"
             ],
             [
              0.6666666666666666,
              "#ed7953"
             ],
             [
              0.7777777777777778,
              "#fb9f3a"
             ],
             [
              0.8888888888888888,
              "#fdca26"
             ],
             [
              1,
              "#f0f921"
             ]
            ],
            "type": "heatmap"
           }
          ],
          "heatmapgl": [
           {
            "colorbar": {
             "outlinewidth": 0,
             "ticks": ""
            },
            "colorscale": [
             [
              0,
              "#0d0887"
             ],
             [
              0.1111111111111111,
              "#46039f"
             ],
             [
              0.2222222222222222,
              "#7201a8"
             ],
             [
              0.3333333333333333,
              "#9c179e"
             ],
             [
              0.4444444444444444,
              "#bd3786"
             ],
             [
              0.5555555555555556,
              "#d8576b"
             ],
             [
              0.6666666666666666,
              "#ed7953"
             ],
             [
              0.7777777777777778,
              "#fb9f3a"
             ],
             [
              0.8888888888888888,
              "#fdca26"
             ],
             [
              1,
              "#f0f921"
             ]
            ],
            "type": "heatmapgl"
           }
          ],
          "histogram": [
           {
            "marker": {
             "pattern": {
              "fillmode": "overlay",
              "size": 10,
              "solidity": 0.2
             }
            },
            "type": "histogram"
           }
          ],
          "histogram2d": [
           {
            "colorbar": {
             "outlinewidth": 0,
             "ticks": ""
            },
            "colorscale": [
             [
              0,
              "#0d0887"
             ],
             [
              0.1111111111111111,
              "#46039f"
             ],
             [
              0.2222222222222222,
              "#7201a8"
             ],
             [
              0.3333333333333333,
              "#9c179e"
             ],
             [
              0.4444444444444444,
              "#bd3786"
             ],
             [
              0.5555555555555556,
              "#d8576b"
             ],
             [
              0.6666666666666666,
              "#ed7953"
             ],
             [
              0.7777777777777778,
              "#fb9f3a"
             ],
             [
              0.8888888888888888,
              "#fdca26"
             ],
             [
              1,
              "#f0f921"
             ]
            ],
            "type": "histogram2d"
           }
          ],
          "histogram2dcontour": [
           {
            "colorbar": {
             "outlinewidth": 0,
             "ticks": ""
            },
            "colorscale": [
             [
              0,
              "#0d0887"
             ],
             [
              0.1111111111111111,
              "#46039f"
             ],
             [
              0.2222222222222222,
              "#7201a8"
             ],
             [
              0.3333333333333333,
              "#9c179e"
             ],
             [
              0.4444444444444444,
              "#bd3786"
             ],
             [
              0.5555555555555556,
              "#d8576b"
             ],
             [
              0.6666666666666666,
              "#ed7953"
             ],
             [
              0.7777777777777778,
              "#fb9f3a"
             ],
             [
              0.8888888888888888,
              "#fdca26"
             ],
             [
              1,
              "#f0f921"
             ]
            ],
            "type": "histogram2dcontour"
           }
          ],
          "mesh3d": [
           {
            "colorbar": {
             "outlinewidth": 0,
             "ticks": ""
            },
            "type": "mesh3d"
           }
          ],
          "parcoords": [
           {
            "line": {
             "colorbar": {
              "outlinewidth": 0,
              "ticks": ""
             }
            },
            "type": "parcoords"
           }
          ],
          "pie": [
           {
            "automargin": true,
            "type": "pie"
           }
          ],
          "scatter": [
           {
            "fillpattern": {
             "fillmode": "overlay",
             "size": 10,
             "solidity": 0.2
            },
            "type": "scatter"
           }
          ],
          "scatter3d": [
           {
            "line": {
             "colorbar": {
              "outlinewidth": 0,
              "ticks": ""
             }
            },
            "marker": {
             "colorbar": {
              "outlinewidth": 0,
              "ticks": ""
             }
            },
            "type": "scatter3d"
           }
          ],
          "scattercarpet": [
           {
            "marker": {
             "colorbar": {
              "outlinewidth": 0,
              "ticks": ""
             }
            },
            "type": "scattercarpet"
           }
          ],
          "scattergeo": [
           {
            "marker": {
             "colorbar": {
              "outlinewidth": 0,
              "ticks": ""
             }
            },
            "type": "scattergeo"
           }
          ],
          "scattergl": [
           {
            "marker": {
             "colorbar": {
              "outlinewidth": 0,
              "ticks": ""
             }
            },
            "type": "scattergl"
           }
          ],
          "scattermapbox": [
           {
            "marker": {
             "colorbar": {
              "outlinewidth": 0,
              "ticks": ""
             }
            },
            "type": "scattermapbox"
           }
          ],
          "scatterpolar": [
           {
            "marker": {
             "colorbar": {
              "outlinewidth": 0,
              "ticks": ""
             }
            },
            "type": "scatterpolar"
           }
          ],
          "scatterpolargl": [
           {
            "marker": {
             "colorbar": {
              "outlinewidth": 0,
              "ticks": ""
             }
            },
            "type": "scatterpolargl"
           }
          ],
          "scatterternary": [
           {
            "marker": {
             "colorbar": {
              "outlinewidth": 0,
              "ticks": ""
             }
            },
            "type": "scatterternary"
           }
          ],
          "surface": [
           {
            "colorbar": {
             "outlinewidth": 0,
             "ticks": ""
            },
            "colorscale": [
             [
              0,
              "#0d0887"
             ],
             [
              0.1111111111111111,
              "#46039f"
             ],
             [
              0.2222222222222222,
              "#7201a8"
             ],
             [
              0.3333333333333333,
              "#9c179e"
             ],
             [
              0.4444444444444444,
              "#bd3786"
             ],
             [
              0.5555555555555556,
              "#d8576b"
             ],
             [
              0.6666666666666666,
              "#ed7953"
             ],
             [
              0.7777777777777778,
              "#fb9f3a"
             ],
             [
              0.8888888888888888,
              "#fdca26"
             ],
             [
              1,
              "#f0f921"
             ]
            ],
            "type": "surface"
           }
          ],
          "table": [
           {
            "cells": {
             "fill": {
              "color": "#EBF0F8"
             },
             "line": {
              "color": "white"
             }
            },
            "header": {
             "fill": {
              "color": "#C8D4E3"
             },
             "line": {
              "color": "white"
             }
            },
            "type": "table"
           }
          ]
         },
         "layout": {
          "annotationdefaults": {
           "arrowcolor": "#2a3f5f",
           "arrowhead": 0,
           "arrowwidth": 1
          },
          "autotypenumbers": "strict",
          "coloraxis": {
           "colorbar": {
            "outlinewidth": 0,
            "ticks": ""
           }
          },
          "colorscale": {
           "diverging": [
            [
             0,
             "#8e0152"
            ],
            [
             0.1,
             "#c51b7d"
            ],
            [
             0.2,
             "#de77ae"
            ],
            [
             0.3,
             "#f1b6da"
            ],
            [
             0.4,
             "#fde0ef"
            ],
            [
             0.5,
             "#f7f7f7"
            ],
            [
             0.6,
             "#e6f5d0"
            ],
            [
             0.7,
             "#b8e186"
            ],
            [
             0.8,
             "#7fbc41"
            ],
            [
             0.9,
             "#4d9221"
            ],
            [
             1,
             "#276419"
            ]
           ],
           "sequential": [
            [
             0,
             "#0d0887"
            ],
            [
             0.1111111111111111,
             "#46039f"
            ],
            [
             0.2222222222222222,
             "#7201a8"
            ],
            [
             0.3333333333333333,
             "#9c179e"
            ],
            [
             0.4444444444444444,
             "#bd3786"
            ],
            [
             0.5555555555555556,
             "#d8576b"
            ],
            [
             0.6666666666666666,
             "#ed7953"
            ],
            [
             0.7777777777777778,
             "#fb9f3a"
            ],
            [
             0.8888888888888888,
             "#fdca26"
            ],
            [
             1,
             "#f0f921"
            ]
           ],
           "sequentialminus": [
            [
             0,
             "#0d0887"
            ],
            [
             0.1111111111111111,
             "#46039f"
            ],
            [
             0.2222222222222222,
             "#7201a8"
            ],
            [
             0.3333333333333333,
             "#9c179e"
            ],
            [
             0.4444444444444444,
             "#bd3786"
            ],
            [
             0.5555555555555556,
             "#d8576b"
            ],
            [
             0.6666666666666666,
             "#ed7953"
            ],
            [
             0.7777777777777778,
             "#fb9f3a"
            ],
            [
             0.8888888888888888,
             "#fdca26"
            ],
            [
             1,
             "#f0f921"
            ]
           ]
          },
          "colorway": [
           "#636efa",
           "#EF553B",
           "#00cc96",
           "#ab63fa",
           "#FFA15A",
           "#19d3f3",
           "#FF6692",
           "#B6E880",
           "#FF97FF",
           "#FECB52"
          ],
          "font": {
           "color": "#2a3f5f"
          },
          "geo": {
           "bgcolor": "white",
           "lakecolor": "white",
           "landcolor": "#E5ECF6",
           "showlakes": true,
           "showland": true,
           "subunitcolor": "white"
          },
          "hoverlabel": {
           "align": "left"
          },
          "hovermode": "closest",
          "mapbox": {
           "style": "light"
          },
          "paper_bgcolor": "white",
          "plot_bgcolor": "#E5ECF6",
          "polar": {
           "angularaxis": {
            "gridcolor": "white",
            "linecolor": "white",
            "ticks": ""
           },
           "bgcolor": "#E5ECF6",
           "radialaxis": {
            "gridcolor": "white",
            "linecolor": "white",
            "ticks": ""
           }
          },
          "scene": {
           "xaxis": {
            "backgroundcolor": "#E5ECF6",
            "gridcolor": "white",
            "gridwidth": 2,
            "linecolor": "white",
            "showbackground": true,
            "ticks": "",
            "zerolinecolor": "white"
           },
           "yaxis": {
            "backgroundcolor": "#E5ECF6",
            "gridcolor": "white",
            "gridwidth": 2,
            "linecolor": "white",
            "showbackground": true,
            "ticks": "",
            "zerolinecolor": "white"
           },
           "zaxis": {
            "backgroundcolor": "#E5ECF6",
            "gridcolor": "white",
            "gridwidth": 2,
            "linecolor": "white",
            "showbackground": true,
            "ticks": "",
            "zerolinecolor": "white"
           }
          },
          "shapedefaults": {
           "line": {
            "color": "#2a3f5f"
           }
          },
          "ternary": {
           "aaxis": {
            "gridcolor": "white",
            "linecolor": "white",
            "ticks": ""
           },
           "baxis": {
            "gridcolor": "white",
            "linecolor": "white",
            "ticks": ""
           },
           "bgcolor": "#E5ECF6",
           "caxis": {
            "gridcolor": "white",
            "linecolor": "white",
            "ticks": ""
           }
          },
          "title": {
           "x": 0.05
          },
          "xaxis": {
           "automargin": true,
           "gridcolor": "white",
           "linecolor": "white",
           "ticks": "",
           "title": {
            "standoff": 15
           },
           "zerolinecolor": "white",
           "zerolinewidth": 2
          },
          "yaxis": {
           "automargin": true,
           "gridcolor": "white",
           "linecolor": "white",
           "ticks": "",
           "title": {
            "standoff": 15
           },
           "zerolinecolor": "white",
           "zerolinewidth": 2
          }
         }
        },
        "title": {
         "text": "Model Training Times"
        },
        "xaxis": {
         "anchor": "y",
         "domain": [
          0,
          1
         ],
         "title": {
          "text": "Model"
         }
        },
        "yaxis": {
         "anchor": "x",
         "domain": [
          0,
          1
         ],
         "title": {
          "text": "Seconds"
         }
        }
       }
      }
     },
     "metadata": {},
     "output_type": "display_data"
    }
   ],
   "source": [
    "metrics_data = []\n",
    "for dataset_name, model_data in metrics_store.items():\n",
    "    for model_name, metrics in model_data.items():\n",
    "        metrics_data.append({\n",
    "            'Model': model_name.replace(\"_\", \" \"),\n",
    "            'Dataset': dataset_name.replace(\"_\", \" \"),\n",
    "            'Accuracy': metrics['accuracy'],\n",
    "            'F1 Macro': metrics['f1_macro'],\n",
    "            'F1 Micro': metrics['f1_micro'],\n",
    "            'Training Time': metrics['training_time']\n",
    "        })\n",
    "\n",
    "df = pd.DataFrame(metrics_data)\n",
    "\n",
    "fig_perf = px.bar(\n",
    "    df.melt(id_vars=['Model', 'Dataset'], \n",
    "            value_vars=['Accuracy', 'F1 Macro', 'F1 Micro'],\n",
    "            var_name='Metric'),\n",
    "    x='Model', y='value', color='Dataset',\n",
    "    facet_col='Metric', barmode='group',\n",
    "    title='Model Performance Metrics',\n",
    "    labels={'value': 'Score'}\n",
    ")\n",
    "\n",
    "fig_time = px.bar(\n",
    "    df, x='Model', y='Training Time', color='Dataset',\n",
    "    title='Model Training Times',\n",
    "    labels={'Training Time': 'Seconds'},\n",
    "    barmode='group'\n",
    ")\n",
    "\n",
    "fig_perf.show()\n",
    "fig_time.show() "
   ]
  },
  {
   "cell_type": "code",
   "execution_count": 138,
   "metadata": {},
   "outputs": [
    {
     "name": "stdout",
     "output_type": "stream",
     "text": [
      "Train score: 0.9943944797189357\n",
      "Accuracy: 0.9860177803748069\n",
      "Macro F1 Score: 0.9745989469607856\n",
      "Micro F1 Score: 0.9860177803748069\n",
      "\n",
      "Classification Report:\n",
      "               precision    recall  f1-score   support\n",
      "\n",
      "           0       0.99      0.99      0.99     19987\n",
      "           1       0.96      0.95      0.96      3972\n",
      "\n",
      "    accuracy                           0.99     23959\n",
      "   macro avg       0.98      0.97      0.97     23959\n",
      "weighted avg       0.99      0.99      0.99     23959\n",
      "\n",
      "Confusion Matrix:\n",
      " [[19844   143]\n",
      " [  192  3780]]\n",
      "OrderedDict({'bootstrap': True, 'criterion': 'gini', 'max_depth': 19, 'max_features': 0.3, 'min_samples_leaf': 6, 'min_samples_split': 9, 'n_estimators': 381})\n"
     ]
    }
   ],
   "source": [
    "search_spaces = {\n",
    "    'n_estimators': Integer(50, 500),  \n",
    "    'max_depth': Categorical([None] + list(range(3, 21))),  \n",
    "    'min_samples_split': Integer(2, 20), \n",
    "    'min_samples_leaf': Integer(1, 10),  \n",
    "    'max_features': Categorical(['sqrt', 'log2', 0.3, 0.5, 0.7]),\n",
    "    'bootstrap': Categorical([True, False]),\n",
    "    'criterion': Categorical(['gini', 'entropy'])\n",
    "}\n",
    "\n",
    "bayes_search_RF = BayesSearchCV(\n",
    "    estimator=RandomForestClassifier(random_state=24),\n",
    "    search_spaces=search_spaces,\n",
    "    n_iter=5,  \n",
    "    cv=3,\n",
    "    n_jobs=5,\n",
    "    scoring=\"f1_macro\",\n",
    "    random_state=24\n",
    ")\n",
    "\n",
    "model_bayes_RF = Pipeline([\n",
    "    (\"standard_scaler\", StandardScaler()),\n",
    "    (\"Classifier\", bayes_search_RF)\n",
    "])\n",
    "\n",
    "model_bayes_RF.fit(X_train_resampled_ros, y_train_resampled_ros)\n",
    "\n",
    "y_pred = model_bayes_RF.predict(X_test)\n",
    "print(f\"Train score: {model_bayes_RF.score(X_train, y_train)}\")\n",
    "evaluate_model(y_pred, y_test, False)\n",
    "print(bayes_search_RF.best_params_)"
   ]
  },
  {
   "cell_type": "code",
   "execution_count": null,
   "metadata": {},
   "outputs": [
    {
     "name": "stdout",
     "output_type": "stream",
     "text": [
      "Train score: 1.0\n",
      "Accuracy: 0.994824491840227\n",
      "Macro F1 Score: 0.9905448533522896\n",
      "Micro F1 Score: 0.994824491840227\n",
      "\n",
      "Classification Report:\n",
      "               precision    recall  f1-score   support\n",
      "\n",
      "           0       0.99      1.00      1.00     19987\n",
      "           1       1.00      0.97      0.98      3972\n",
      "\n",
      "    accuracy                           0.99     23959\n",
      "   macro avg       1.00      0.99      0.99     23959\n",
      "weighted avg       0.99      0.99      0.99     23959\n",
      "\n",
      "Confusion Matrix:\n",
      " [[19977    10]\n",
      " [  114  3858]]\n",
      "OrderedDict({'colsample_bytree': 0.7014101893279452, 'gamma': 0.0020657631919344115, 'learning_rate': 0.10055436132294916, 'max_depth': 8, 'n_estimators': 447, 'reg_alpha': 0.7487104995781331, 'reg_lambda': 0.9360007063056492, 'subsample': 0.9548051491131722})\n"
     ]
    }
   ],
   "source": [
    "search_spaces = {\n",
    "    'n_estimators': Integer(100, 500),  \n",
    "    'learning_rate': Real(0.001, 0.3, prior='log-uniform'),  \n",
    "    'max_depth': Integer(3, 8),  \n",
    "    'gamma': Real(0.0, 0.5),  \n",
    "    'colsample_bytree': Real(0.6, 1.0),  \n",
    "    'subsample': Real(0.6, 1.0),\n",
    "    'reg_alpha': Real(0.0, 1.0),\n",
    "    'reg_lambda': Real(0.0, 1.0)\n",
    "}\n",
    "\n",
    "bayes_search_XGBC_2 = BayesSearchCV(\n",
    "    estimator=XGBClassifier(random_state=24),\n",
    "    search_spaces=search_spaces,\n",
    "    n_iter=5, \n",
    "    cv=3,\n",
    "    n_jobs=5,\n",
    "    scoring='f1_macro',\n",
    "    random_state=24\n",
    ")\n",
    "model_bayes_XGBC_2 = Pipeline(steps=[\n",
    "    (\"standard_scaler\", StandardScaler()),\n",
    "    (\"Classifier\",bayes_search_XGBC_2)\n",
    "])\n",
    "model_bayes_XGBC_2.fit(X_train, y_train)\n",
    "\n",
    "y_pred = model_bayes_XGBC_2.predict(X_test)\n",
    "print(f\"Train score: {model_bayes_XGBC_2.score(X_train, y_train)}\")\n",
    "evaluate_model(y_pred, y_test, False)\n",
    "print(bayes_search_XGBC_2.best_params_)"
   ]
  },
  {
   "cell_type": "code",
   "execution_count": 139,
   "metadata": {},
   "outputs": [
    {
     "name": "stdout",
     "output_type": "stream",
     "text": [
      "Train score: 1.0\n",
      "Accuracy: 0.995700989189866\n",
      "Macro F1 Score: 0.9921757962465774\n",
      "Micro F1 Score: 0.995700989189866\n",
      "\n",
      "Classification Report:\n",
      "               precision    recall  f1-score   support\n",
      "\n",
      "           0       1.00      1.00      1.00     19987\n",
      "           1       1.00      0.98      0.99      3972\n",
      "\n",
      "    accuracy                           1.00     23959\n",
      "   macro avg       1.00      0.99      0.99     23959\n",
      "weighted avg       1.00      1.00      1.00     23959\n",
      "\n",
      "Confusion Matrix:\n",
      " [[19969    18]\n",
      " [   85  3887]]\n",
      "OrderedDict({'colsample_bytree': 0.7014101893279452, 'gamma': 0.0020657631919344115, 'learning_rate': 0.10055436132294916, 'max_depth': 8, 'n_estimators': 447, 'reg_alpha': 0.7487104995781331, 'reg_lambda': 0.9360007063056492, 'subsample': 0.9548051491131722})\n"
     ]
    }
   ],
   "source": [
    "search_spaces = {\n",
    "    'n_estimators': Integer(100, 500),  \n",
    "    'learning_rate': Real(0.001, 0.3, prior='log-uniform'),  \n",
    "    'max_depth': Integer(3, 8),  \n",
    "    'gamma': Real(0.0, 0.5),  \n",
    "    'colsample_bytree': Real(0.6, 1.0),  \n",
    "    'subsample': Real(0.6, 1.0),\n",
    "    'reg_alpha': Real(0.0, 1.0),\n",
    "    'reg_lambda': Real(0.0, 1.0)\n",
    "}\n",
    "\n",
    "bayes_search_XGBC_3 = BayesSearchCV(\n",
    "    estimator=XGBClassifier(random_state=24),\n",
    "    search_spaces=search_spaces,\n",
    "    n_iter=5, \n",
    "    cv=3,\n",
    "    n_jobs=5,\n",
    "    scoring='f1_macro',\n",
    "    random_state=24\n",
    ")\n",
    "model_bayes_XGBC_3 = Pipeline(steps=[\n",
    "    (\"standard_scaler\", StandardScaler()),\n",
    "    (\"Classifier\",bayes_search_XGBC_3)\n",
    "])\n",
    "model_bayes_XGBC_3.fit(X_train_resampled_ros, y_train_resampled_ros)\n",
    "\n",
    "y_pred = model_bayes_XGBC_3.predict(X_test)\n",
    "# Print Scores \n",
    "print(f\"Train score: {model_bayes_XGBC_3.score(X_train, y_train)}\")\n",
    "evaluate_model(y_pred, y_test, False)\n",
    "print(bayes_search_XGBC_3.best_params_)"
   ]
  },
  {
   "cell_type": "code",
   "execution_count": null,
   "metadata": {},
   "outputs": [
    {
     "name": "stdout",
     "output_type": "stream",
     "text": [
      "Train score: -6.779782903658843e-07\n",
      "Accuracy: 0.9964105346633833\n",
      "Macro F1 Score: 0.9934704984747424\n",
      "Micro F1 Score: 0.9964105346633833\n",
      "\n",
      "Classification Report:\n",
      "               precision    recall  f1-score   support\n",
      "\n",
      "           0       1.00      1.00      1.00     19987\n",
      "           1       1.00      0.98      0.99      3972\n",
      "\n",
      "    accuracy                           1.00     23959\n",
      "   macro avg       1.00      0.99      0.99     23959\n",
      "weighted avg       1.00      1.00      1.00     23959\n",
      "\n",
      "Confusion Matrix:\n",
      " [[19975    12]\n",
      " [   74  3898]]\n",
      "OrderedDict({'colsample_bytree': 1.0, 'gamma': 0.0, 'learning_rate': 0.22688747947345916, 'max_depth': 8, 'n_estimators': 407, 'reg_alpha': 0.0, 'reg_lambda': 0.0, 'subsample': 1.0})\n"
     ]
    }
   ],
   "source": [
    "search_spaces = {\n",
    "    'n_estimators': Integer(100, 500),  \n",
    "    'learning_rate': Real(0.001, 0.3, prior='log-uniform'),  \n",
    "    'max_depth': Integer(3, 8),  \n",
    "    'gamma': Real(0.0, 0.5),  \n",
    "    'colsample_bytree': Real(0.6, 1.0),  \n",
    "    'subsample': Real(0.6, 1.0),\n",
    "    'reg_alpha': Real(0.0, 1.0),\n",
    "    'reg_lambda': Real(0.0, 1.0)\n",
    "}\n",
    "\n",
    "bayes_search_XGBC_3 = BayesSearchCV(\n",
    "    estimator=XGBClassifier(random_state=24),\n",
    "    search_spaces=search_spaces,\n",
    "    n_iter=100, \n",
    "    cv=3,\n",
    "    n_jobs=5,\n",
    "    scoring='neg_brier_score',\n",
    "    random_state=24\n",
    ")\n",
    "model_bayes_XGBC_3 = Pipeline(steps=[\n",
    "    (\"standard_scaler\", StandardScaler()),\n",
    "    (\"Classifier\",bayes_search_XGBC_3)\n",
    "])\n",
    "model_bayes_XGBC_3.fit(X_train_resampled_ros, y_train_resampled_ros)\n",
    "\n",
    "y_pred = model_bayes_XGBC_3.predict(X_test)\n",
    "print(f\"Train score: {model_bayes_XGBC_3.score(X_train, y_train)}\")\n",
    "evaluate_model(y_pred, y_test, False)\n",
    "print(bayes_search_XGBC_3.best_params_)"
   ]
  },
  {
   "cell_type": "code",
   "execution_count": 142,
   "metadata": {},
   "outputs": [
    {
     "name": "stdout",
     "output_type": "stream",
     "text": [
      "Train score: -4.16461699558053e-05\n",
      "Accuracy: 0.990024625401728\n",
      "Macro F1 Score: 0.9815305392570364\n",
      "Micro F1 Score: 0.990024625401728\n",
      "\n",
      "Classification Report:\n",
      "               precision    recall  f1-score   support\n",
      "\n",
      "           0       0.99      1.00      0.99     19987\n",
      "           1       1.00      0.94      0.97      3972\n",
      "\n",
      "    accuracy                           0.99     23959\n",
      "   macro avg       0.99      0.97      0.98     23959\n",
      "weighted avg       0.99      0.99      0.99     23959\n",
      "\n",
      "Confusion Matrix:\n",
      " [[19984     3]\n",
      " [  236  3736]]\n",
      "OrderedDict({'calibrator__estimator__colsample_bytree': 1.0, 'calibrator__estimator__gamma': 0.0, 'calibrator__estimator__learning_rate': 0.3, 'calibrator__estimator__max_depth': 8, 'calibrator__estimator__n_estimators': 450, 'calibrator__estimator__reg_alpha': 0.0, 'calibrator__estimator__reg_lambda': 0.5451599017129555, 'calibrator__estimator__subsample': 1.0, 'calibrator__method': 'isotonic'})\n"
     ]
    }
   ],
   "source": [
    "search_spaces = {\n",
    "    'calibrator__estimator__n_estimators': Integer(100, 500),\n",
    "    'calibrator__estimator__learning_rate': Real(1e-3, 0.3, prior='log-uniform'),\n",
    "    'calibrator__estimator__max_depth': Integer(3, 8),\n",
    "    'calibrator__estimator__gamma': Real(0.0, 0.5),\n",
    "    'calibrator__estimator__colsample_bytree': Real(0.6, 1.0),\n",
    "    'calibrator__estimator__subsample': Real(0.6, 1.0),\n",
    "    'calibrator__estimator__reg_alpha': Real(0.0, 1.0),\n",
    "    'calibrator__estimator__reg_lambda': Real(0.0, 1.0),\n",
    "    'calibrator__method': Categorical(['sigmoid', 'isotonic'])\n",
    "}\n",
    "\n",
    "pipeline = Pipeline(steps=[\n",
    "    (\"standard_scaler\", StandardScaler()),\n",
    "    ('calibrator', CalibratedClassifierCV(\n",
    "        estimator=XGBClassifier(random_state=24),\n",
    "        cv=3  \n",
    "    ))\n",
    "])\n",
    "\n",
    "bayes_search = BayesSearchCV(\n",
    "    estimator=pipeline,\n",
    "    search_spaces=search_spaces,\n",
    "    n_iter=100,\n",
    "    cv=3,\n",
    "    n_jobs=5,\n",
    "    scoring='neg_brier_score',\n",
    "    random_state=24\n",
    ")\n",
    "\n",
    "bayes_search.fit(X_train_resampled_ros, y_train_resampled_ros)\n",
    "\n",
    "y_pred = bayes_search.predict(X_test)\n",
    "print(f\"Train score: {bayes_search.score(X_train, y_train)}\")\n",
    "evaluate_model(y_pred, y_test, False)\n",
    "print(bayes_search.best_params_)"
   ]
  },
  {
   "cell_type": "code",
   "execution_count": 148,
   "metadata": {},
   "outputs": [
    {
     "name": "stdout",
     "output_type": "stream",
     "text": [
      "Train score: 1.0\n",
      "Accuracy: 0.9908593847823365\n",
      "Macro F1 Score: 0.9831150095427811\n",
      "Micro F1 Score: 0.9908593847823365\n",
      "\n",
      "Classification Report:\n",
      "               precision    recall  f1-score   support\n",
      "\n",
      "           0       0.99      1.00      0.99     19987\n",
      "           1       1.00      0.95      0.97      3972\n",
      "\n",
      "    accuracy                           0.99     23959\n",
      "   macro avg       0.99      0.97      0.98     23959\n",
      "weighted avg       0.99      0.99      0.99     23959\n",
      "\n",
      "Confusion Matrix:\n",
      " [[19983     4]\n",
      " [  215  3757]]\n"
     ]
    }
   ],
   "source": [
    "bestmodel_calibrated_XGBC = Pipeline(steps=[\n",
    "    (\"standard_scaler\", StandardScaler()),\n",
    "    ('calibrator', CalibratedClassifierCV(\n",
    "        estimator=XGBClassifier(**bayes_search_XGBC_3.best_params_),\n",
    "        cv=3,\n",
    "        method=\"isotonic\"\n",
    "    ))\n",
    "])\n",
    "\n",
    "bestmodel_calibrated_XGBC.fit(X_train_resampled_ros, y_train_resampled_ros)\n",
    "y_pred = bestmodel_calibrated_XGBC.predict(X_test)\n",
    "print(f\"Train score: {bestmodel_calibrated_XGBC.score(X_train, y_train)}\")\n",
    "evaluate_model(y_pred, y_test, False)"
   ]
  },
  {
   "cell_type": "code",
   "execution_count": null,
   "metadata": {},
   "outputs": [
    {
     "data": {
      "image/png": "[encoded data removed]",
      "text/plain": [
       "<Figure size 1200x600 with 1 Axes>"
      ]
     },
     "metadata": {},
     "output_type": "display_data"
    },
    {
     "name": "stdout",
     "output_type": "stream",
     "text": [
      "brier score 0.002922775998140172\n",
      "log loss 0.011802703210718319\n",
      "roc auc 0.9996356770873878\n",
      "pr auc 0.9988404582809471\n"
     ]
    },
    {
     "data": {
      "image/png": "[encoded data removed]",
      "text/plain": [
       "<Figure size 1200x600 with 1 Axes>"
      ]
     },
     "metadata": {},
     "output_type": "display_data"
    },
    {
     "name": "stdout",
     "output_type": "stream",
     "text": [
      "brier score 0.0077160161240967615\n",
      "log loss 0.03273598055188643\n",
      "roc auc 0.9992836229752763\n",
      "pr auc 0.9976024679650235\n"
     ]
    },
    {
     "data": {
      "image/png": "[encoded data removed]",
      "text/plain": [
       "<Figure size 1200x600 with 1 Axes>"
      ]
     },
     "metadata": {},
     "output_type": "display_data"
    },
    {
     "name": "stdout",
     "output_type": "stream",
     "text": [
      "brier score 0.0074880215569494485\n",
      "log loss 0.0346369786107424\n",
      "roc auc 0.9991166841528565\n",
      "pr auc 0.9967958086813626\n"
     ]
    }
   ],
   "source": [
    "def evaluate_proba(y_true, y_proba, n_bins=10, model_name=\"\"):\n",
    "    # Evaluate probability quality with metrics and plots.\n",
    "    \n",
    "    # Calculate metrics\n",
    "    brier = brier_score_loss(y_true, y_proba)\n",
    "    logloss = log_loss(y_true, y_proba)\n",
    "    roc_auc = roc_auc_score(y_true, y_proba)\n",
    "    pr_auc = average_precision_score(y_true, y_proba)\n",
    "    \n",
    "    # Calibration curve\n",
    "    prob_true, prob_pred = calibration_curve(y_true, y_proba, n_bins=n_bins)\n",
    "    \n",
    "    # Plot\n",
    "    plt.figure(figsize=(12, 6))\n",
    "    \n",
    "    # Reliability diagram\n",
    "    plt.subplot(1, 2, 1)\n",
    "    plt.plot([0, 1], [0, 1], \"k:\", label=\"Perfectly calibrated\")\n",
    "    plt.plot(prob_pred, prob_true, \"s-\", label=f\"{model_name} (Brier={brier:.3f})\")\n",
    "    plt.xlabel(\"Mean predicted probability\")\n",
    "    plt.ylabel(\"Fraction of positives\")\n",
    "    plt.legend()\n",
    "    \n",
    "    plt.suptitle(f\"Probability Calibration: {model_name}\")\n",
    "    plt.show()\n",
    "    \n",
    "    print(\"brier score\", brier)\n",
    "    print(\"log loss\", logloss)\n",
    "    print(\"roc auc\", roc_auc)\n",
    "    print(\"pr auc\", pr_auc)\n",
    "\n",
    "\n",
    "y_proba = model_bayes_XGBC_3.predict_proba(X_test)[:, 1]  \n",
    "evaluate_proba(y_test, y_proba, model_name=\"XGBoost\")\n",
    "y_proba = bayes_search.predict_proba(X_test)[:, 1]  \n",
    "evaluate_proba(y_test, y_proba, model_name=\"XGBoost + calibrator\")\n",
    "y_proba = bestmodel_calibrated_XGBC.predict_proba(X_test)[:, 1]  \n",
    "evaluate_proba(y_test, y_proba, model_name=\"best XGBoost + calibrator\")"
   ]
  },
  {
   "cell_type": "code",
   "execution_count": 216,
   "metadata": {},
   "outputs": [
    {
     "name": "stdout",
     "output_type": "stream",
     "text": [
      "Accuracy: 0.9959096790350181\n",
      "Macro F1 Score: 0.992629790879825\n",
      "Micro F1 Score: 0.9959096790350181\n",
      "\n",
      "Classification Report:\n",
      "               precision    recall  f1-score   support\n",
      "\n",
      "           0       1.00      1.00      1.00     19987\n",
      "           1       0.98      0.99      0.99      3972\n",
      "\n",
      "    accuracy                           1.00     23959\n",
      "   macro avg       0.99      0.99      0.99     23959\n",
      "weighted avg       1.00      1.00      1.00     23959\n",
      "\n",
      "Confusion Matrix:\n",
      " [[19922    65]\n",
      " [   33  3939]]\n"
     ]
    }
   ],
   "source": [
    "y_pred = (model_bayes_XGBC_3.predict_proba(X_test)[:, 1]  >= 0.1).astype(int)\n",
    "evaluate_model(y_pred, y_test, False)"
   ]
  },
  {
   "cell_type": "code",
   "execution_count": 206,
   "metadata": {},
   "outputs": [
    {
     "name": "stdout",
     "output_type": "stream",
     "text": [
      "Train score: 1.0\n",
      "Accuracy: 1.0\n",
      "Macro F1 Score: 1.0\n",
      "Micro F1 Score: 1.0\n",
      "\n",
      "Classification Report:\n",
      "               precision    recall  f1-score   support\n",
      "\n",
      "           0       1.00      1.00      1.00     99934\n",
      "           1       1.00      1.00      1.00     19860\n",
      "\n",
      "    accuracy                           1.00    119794\n",
      "   macro avg       1.00      1.00      1.00    119794\n",
      "weighted avg       1.00      1.00      1.00    119794\n",
      "\n",
      "Confusion Matrix:\n",
      " [[99934     0]\n",
      " [    0 19860]]\n"
     ]
    },
    {
     "data": {
      "image/png": "[encoded data removed]",
      "text/plain": [
       "<Figure size 1200x600 with 1 Axes>"
      ]
     },
     "metadata": {},
     "output_type": "display_data"
    },
    {
     "name": "stdout",
     "output_type": "stream",
     "text": [
      "brier score 6.510566176626954e-07\n",
      "log loss 0.00024534218865031614\n",
      "roc auc 1.0\n",
      "pr auc 1.0\n"
     ]
    }
   ],
   "source": [
    "\n",
    "final_model_XGBC_best_params = Pipeline(steps=[\n",
    "    (\"standard_scaler\", StandardScaler()),\n",
    "    (\"Classifier\", XGBClassifier(**bayes_search_XGBC_3.best_params_))\n",
    "])\n",
    "X_resampled_ros, y_resampled_ros = ros.fit_resample(X, y)\n",
    "final_model_XGBC_best_params.fit(X_resampled_ros, y_resampled_ros)\n",
    "\n",
    "y_pred = final_model_XGBC_best_params.predict(X)\n",
    "\n",
    "print(f\"Train score: {final_model_XGBC_best_params.score(X, y)}\")\n",
    "evaluate_model(y_pred,y)\n",
    "y_proba = final_model_XGBC_best_params.predict_proba(X)[:, 1]  \n",
    "evaluate_proba(y, y_proba, model_name=\"best XGBoost\")"
   ]
  },
  {
   "cell_type": "code",
   "execution_count": 210,
   "metadata": {},
   "outputs": [
    {
     "data": {
      "text/plain": [
       "1.0"
      ]
     },
     "execution_count": 210,
     "metadata": {},
     "output_type": "execute_result"
    }
   ],
   "source": [
    "f1_score((y_proba  >= 0.1).astype(int), y)"
   ]
  },
  {
   "cell_type": "code",
   "execution_count": 211,
   "metadata": {},
   "outputs": [
    {
     "data": {
      "image/png": "[encoded data removed]",
      "text/plain": [
       "<Figure size 1000x600 with 1 Axes>"
      ]
     },
     "metadata": {},
     "output_type": "display_data"
    },
    {
     "data": {
      "image/png": "[encoded data removed]",
      "text/plain": [
       "<Figure size 1000x600 with 1 Axes>"
      ]
     },
     "metadata": {},
     "output_type": "display_data"
    }
   ],
   "source": [
    "feature_names = X.columns.tolist() \n",
    "feature_map = {f'f{i}': name for i, name in enumerate(feature_names)}\n",
    "xgb_model = final_model_XGBC_best_params.named_steps['Classifier']\n",
    "importance_weights = xgb_model.feature_importances_\n",
    "importance_gain = xgb_model.get_booster().get_score(importance_type='gain')\n",
    "importance_cover = xgb_model.get_booster().get_score(importance_type='cover')\n",
    "\n",
    "importance_gain_mapped = {\n",
    "    feature_map[key]: value \n",
    "    for key, value in importance_gain.items()\n",
    "    if key in feature_map\n",
    "}\n",
    "\n",
    "importance_df = pd.DataFrame({\n",
    "    'feature': list(importance_gain_mapped.keys()),\n",
    "    'gain': list(importance_gain_mapped.values())\n",
    "}).sort_values('gain', ascending=False)\n",
    "\n",
    "plt.figure(figsize=(10, 6))\n",
    "plt.barh(importance_df['feature'][:20], importance_df['gain'][:20])\n",
    "plt.gca().invert_yaxis()\n",
    "plt.title('XGBoost Feature Importance (Gain)')\n",
    "plt.xlabel('Average Gain')\n",
    "plt.show()\n",
    "\n",
    "\n",
    "result = permutation_importance(\n",
    "    model_XGBC_best_params,  \n",
    "    X_test, \n",
    "    y_test,\n",
    "    n_repeats=5,\n",
    "    random_state=24,\n",
    "    n_jobs=5\n",
    ")\n",
    "\n",
    "sorted_idx = result.importances_mean.argsort()\n",
    "plt.figure(figsize=(10, 6))\n",
    "plt.boxplot(\n",
    "    result.importances[sorted_idx[-20:]].T,  # Top 20 features\n",
    "    vert=False,\n",
    "    labels=X_test.columns[sorted_idx[-20:]]\n",
    ")\n",
    "plt.title(\"Permutation Importance\")\n",
    "plt.show()"
   ]
  },
  {
   "cell_type": "code",
   "execution_count": 212,
   "metadata": {},
   "outputs": [],
   "source": [
    "# 1. Feature Importance (Gain) - Top 10 features\n",
    "top_features = importance_df.head(10)  # Get the top 10 features\n",
    "bar_x = top_features['gain']\n",
    "bar_y = top_features['feature']"
   ]
  },
  {
   "cell_type": "code",
   "execution_count": 213,
   "metadata": {},
   "outputs": [
    {
     "data": {
      "text/plain": [
       "21              mean_precipitation_30\n",
       "66       max_soil_moisture_0_to_7cm_1\n",
       "68    max_soil_moisture_28_to_100cm_1\n",
       "0      median_sea_level_height_msl_30\n",
       "67      max_soil_moisture_7_to_28cm_1\n",
       "29               mean_precipitation_5\n",
       "4          max_sea_level_height_msl_1\n",
       "3         mean_sea_level_height_msl_1\n",
       "76                              month\n",
       "45                max_precipitation_1\n",
       "Name: feature, dtype: object"
      ]
     },
     "execution_count": 213,
     "metadata": {},
     "output_type": "execute_result"
    }
   ],
   "source": [
    "bar_y"
   ]
  },
  {
   "cell_type": "code",
   "execution_count": 214,
   "metadata": {},
   "outputs": [
    {
     "data": {
      "application/vnd.plotly.v1+json": {
       "config": {
        "plotlyServerURL": "https://plot.ly"
       },
       "data": [
        {
         "marker": {
          "color": "royalblue"
         },
         "name": "Importance des caractéristiques (Gain)",
         "orientation": "v",
         "type": "bar",
         "x": [
          "Précipitation moyenne (30 jours)",
          "Humidité maximale du sol (0 à 7 cm, 1 jour)",
          "Humidité maximale du sol (28 à 100 cm, 1 jour)",
          "Hauteur médiane du niveau de la mer (30 jours)",
          "Humidité maximale du sol (7 à 28 cm, 1 jour)",
          "Précipitation moyenne (5 jours)",
          "Hauteur maximale du niveau de la mer (1 jour)",
          "Hauteur moyenne du niveau de la mer (1 jour)",
          "Mois",
          "Précipitation maximale (1 jour)"
         ],
         "y": [
          203.4452667236328,
          68.89864349365234,
          60.36131286621094,
          47.23272705078125,
          44.20301818847656,
          43.6541748046875,
          40.11140823364258,
          37.97712326049805,
          32.05677032470703,
          30.521223068237305
         ]
        }
       ],
       "layout": {
        "height": 800,
        "showlegend": false,
        "template": {
         "data": {
          "bar": [
           {
            "error_x": {
             "color": "#2a3f5f"
            },
            "error_y": {
             "color": "#2a3f5f"
            },
            "marker": {
             "line": {
              "color": "#E5ECF6",
              "width": 0.5
             },
             "pattern": {
              "fillmode": "overlay",
              "size": 10,
              "solidity": 0.2
             }
            },
            "type": "bar"
           }
          ],
          "barpolar": [
           {
            "marker": {
             "line": {
              "color": "#E5ECF6",
              "width": 0.5
             },
             "pattern": {
              "fillmode": "overlay",
              "size": 10,
              "solidity": 0.2
             }
            },
            "type": "barpolar"
           }
          ],
          "carpet": [
           {
            "aaxis": {
             "endlinecolor": "#2a3f5f",
             "gridcolor": "white",
             "linecolor": "white",
             "minorgridcolor": "white",
             "startlinecolor": "#2a3f5f"
            },
            "baxis": {
             "endlinecolor": "#2a3f5f",
             "gridcolor": "white",
             "linecolor": "white",
             "minorgridcolor": "white",
             "startlinecolor": "#2a3f5f"
            },
            "type": "carpet"
           }
          ],
          "choropleth": [
           {
            "colorbar": {
             "outlinewidth": 0,
             "ticks": ""
            },
            "type": "choropleth"
           }
          ],
          "contour": [
           {
            "colorbar": {
             "outlinewidth": 0,
             "ticks": ""
            },
            "colorscale": [
             [
              0,
              "#0d0887"
             ],
             [
              0.1111111111111111,
              "#46039f"
             ],
             [
              0.2222222222222222,
              "#7201a8"
             ],
             [
              0.3333333333333333,
              "#9c179e"
             ],
             [
              0.4444444444444444,
              "#bd3786"
             ],
             [
              0.5555555555555556,
              "#d8576b"
             ],
             [
              0.6666666666666666,
              "#ed7953"
             ],
             [
              0.7777777777777778,
              "#fb9f3a"
             ],
             [
              0.8888888888888888,
              "#fdca26"
             ],
             [
              1,
              "#f0f921"
             ]
            ],
            "type": "contour"
           }
          ],
          "contourcarpet": [
           {
            "colorbar": {
             "outlinewidth": 0,
             "ticks": ""
            },
            "type": "contourcarpet"
           }
          ],
          "heatmap": [
           {
            "colorbar": {
             "outlinewidth": 0,
             "ticks": ""
            },
            "colorscale": [
             [
              0,
              "#0d0887"
             ],
             [
              0.1111111111111111,
              "#46039f"
             ],
             [
              0.2222222222222222,
              "#7201a8"
             ],
             [
              0.3333333333333333,
              "#9c179e"
             ],
             [
              0.4444444444444444,
              "#bd3786"
             ],
             [
              0.5555555555555556,
              "#d8576b"
             ],
             [
              0.6666666666666666,
              "#ed7953"
             ],
             [
              0.7777777777777778,
              "#fb9f3a"
             ],
             [
              0.8888888888888888,
              "#fdca26"
             ],
             [
              1,
              "#f0f921"
             ]
            ],
            "type": "heatmap"
           }
          ],
          "heatmapgl": [
           {
            "colorbar": {
             "outlinewidth": 0,
             "ticks": ""
            },
            "colorscale": [
             [
              0,
              "#0d0887"
             ],
             [
              0.1111111111111111,
              "#46039f"
             ],
             [
              0.2222222222222222,
              "#7201a8"
             ],
             [
              0.3333333333333333,
              "#9c179e"
             ],
             [
              0.4444444444444444,
              "#bd3786"
             ],
             [
              0.5555555555555556,
              "#d8576b"
             ],
             [
              0.6666666666666666,
              "#ed7953"
             ],
             [
              0.7777777777777778,
              "#fb9f3a"
             ],
             [
              0.8888888888888888,
              "#fdca26"
             ],
             [
              1,
              "#f0f921"
             ]
            ],
            "type": "heatmapgl"
           }
          ],
          "histogram": [
           {
            "marker": {
             "pattern": {
              "fillmode": "overlay",
              "size": 10,
              "solidity": 0.2
             }
            },
            "type": "histogram"
           }
          ],
          "histogram2d": [
           {
            "colorbar": {
             "outlinewidth": 0,
             "ticks": ""
            },
            "colorscale": [
             [
              0,
              "#0d0887"
             ],
             [
              0.1111111111111111,
              "#46039f"
             ],
             [
              0.2222222222222222,
              "#7201a8"
             ],
             [
              0.3333333333333333,
              "#9c179e"
             ],
             [
              0.4444444444444444,
              "#bd3786"
             ],
             [
              0.5555555555555556,
              "#d8576b"
             ],
             [
              0.6666666666666666,
              "#ed7953"
             ],
             [
              0.7777777777777778,
              "#fb9f3a"
             ],
             [
              0.8888888888888888,
              "#fdca26"
             ],
             [
              1,
              "#f0f921"
             ]
            ],
            "type": "histogram2d"
           }
          ],
          "histogram2dcontour": [
           {
            "colorbar": {
             "outlinewidth": 0,
             "ticks": ""
            },
            "colorscale": [
             [
              0,
              "#0d0887"
             ],
             [
              0.1111111111111111,
              "#46039f"
             ],
             [
              0.2222222222222222,
              "#7201a8"
             ],
             [
              0.3333333333333333,
              "#9c179e"
             ],
             [
              0.4444444444444444,
              "#bd3786"
             ],
             [
              0.5555555555555556,
              "#d8576b"
             ],
             [
              0.6666666666666666,
              "#ed7953"
             ],
             [
              0.7777777777777778,
              "#fb9f3a"
             ],
             [
              0.8888888888888888,
              "#fdca26"
             ],
             [
              1,
              "#f0f921"
             ]
            ],
            "type": "histogram2dcontour"
           }
          ],
          "mesh3d": [
           {
            "colorbar": {
             "outlinewidth": 0,
             "ticks": ""
            },
            "type": "mesh3d"
           }
          ],
          "parcoords": [
           {
            "line": {
             "colorbar": {
              "outlinewidth": 0,
              "ticks": ""
             }
            },
            "type": "parcoords"
           }
          ],
          "pie": [
           {
            "automargin": true,
            "type": "pie"
           }
          ],
          "scatter": [
           {
            "fillpattern": {
             "fillmode": "overlay",
             "size": 10,
             "solidity": 0.2
            },
            "type": "scatter"
           }
          ],
          "scatter3d": [
           {
            "line": {
             "colorbar": {
              "outlinewidth": 0,
              "ticks": ""
             }
            },
            "marker": {
             "colorbar": {
              "outlinewidth": 0,
              "ticks": ""
             }
            },
            "type": "scatter3d"
           }
          ],
          "scattercarpet": [
           {
            "marker": {
             "colorbar": {
              "outlinewidth": 0,
              "ticks": ""
             }
            },
            "type": "scattercarpet"
           }
          ],
          "scattergeo": [
           {
            "marker": {
             "colorbar": {
              "outlinewidth": 0,
              "ticks": ""
             }
            },
            "type": "scattergeo"
           }
          ],
          "scattergl": [
           {
            "marker": {
             "colorbar": {
              "outlinewidth": 0,
              "ticks": ""
             }
            },
            "type": "scattergl"
           }
          ],
          "scattermapbox": [
           {
            "marker": {
             "colorbar": {
              "outlinewidth": 0,
              "ticks": ""
             }
            },
            "type": "scattermapbox"
           }
          ],
          "scatterpolar": [
           {
            "marker": {
             "colorbar": {
              "outlinewidth": 0,
              "ticks": ""
             }
            },
            "type": "scatterpolar"
           }
          ],
          "scatterpolargl": [
           {
            "marker": {
             "colorbar": {
              "outlinewidth": 0,
              "ticks": ""
             }
            },
            "type": "scatterpolargl"
           }
          ],
          "scatterternary": [
           {
            "marker": {
             "colorbar": {
              "outlinewidth": 0,
              "ticks": ""
             }
            },
            "type": "scatterternary"
           }
          ],
          "surface": [
           {
            "colorbar": {
             "outlinewidth": 0,
             "ticks": ""
            },
            "colorscale": [
             [
              0,
              "#0d0887"
             ],
             [
              0.1111111111111111,
              "#46039f"
             ],
             [
              0.2222222222222222,
              "#7201a8"
             ],
             [
              0.3333333333333333,
              "#9c179e"
             ],
             [
              0.4444444444444444,
              "#bd3786"
             ],
             [
              0.5555555555555556,
              "#d8576b"
             ],
             [
              0.6666666666666666,
              "#ed7953"
             ],
             [
              0.7777777777777778,
              "#fb9f3a"
             ],
             [
              0.8888888888888888,
              "#fdca26"
             ],
             [
              1,
              "#f0f921"
             ]
            ],
            "type": "surface"
           }
          ],
          "table": [
           {
            "cells": {
             "fill": {
              "color": "#EBF0F8"
             },
             "line": {
              "color": "white"
             }
            },
            "header": {
             "fill": {
              "color": "#C8D4E3"
             },
             "line": {
              "color": "white"
             }
            },
            "type": "table"
           }
          ]
         },
         "layout": {
          "annotationdefaults": {
           "arrowcolor": "#2a3f5f",
           "arrowhead": 0,
           "arrowwidth": 1
          },
          "autotypenumbers": "strict",
          "coloraxis": {
           "colorbar": {
            "outlinewidth": 0,
            "ticks": ""
           }
          },
          "colorscale": {
           "diverging": [
            [
             0,
             "#8e0152"
            ],
            [
             0.1,
             "#c51b7d"
            ],
            [
             0.2,
             "#de77ae"
            ],
            [
             0.3,
             "#f1b6da"
            ],
            [
             0.4,
             "#fde0ef"
            ],
            [
             0.5,
             "#f7f7f7"
            ],
            [
             0.6,
             "#e6f5d0"
            ],
            [
             0.7,
             "#b8e186"
            ],
            [
             0.8,
             "#7fbc41"
            ],
            [
             0.9,
             "#4d9221"
            ],
            [
             1,
             "#276419"
            ]
           ],
           "sequential": [
            [
             0,
             "#0d0887"
            ],
            [
             0.1111111111111111,
             "#46039f"
            ],
            [
             0.2222222222222222,
             "#7201a8"
            ],
            [
             0.3333333333333333,
             "#9c179e"
            ],
            [
             0.4444444444444444,
             "#bd3786"
            ],
            [
             0.5555555555555556,
             "#d8576b"
            ],
            [
             0.6666666666666666,
             "#ed7953"
            ],
            [
             0.7777777777777778,
             "#fb9f3a"
            ],
            [
             0.8888888888888888,
             "#fdca26"
            ],
            [
             1,
             "#f0f921"
            ]
           ],
           "sequentialminus": [
            [
             0,
             "#0d0887"
            ],
            [
             0.1111111111111111,
             "#46039f"
            ],
            [
             0.2222222222222222,
             "#7201a8"
            ],
            [
             0.3333333333333333,
             "#9c179e"
            ],
            [
             0.4444444444444444,
             "#bd3786"
            ],
            [
             0.5555555555555556,
             "#d8576b"
            ],
            [
             0.6666666666666666,
             "#ed7953"
            ],
            [
             0.7777777777777778,
             "#fb9f3a"
            ],
            [
             0.8888888888888888,
             "#fdca26"
            ],
            [
             1,
             "#f0f921"
            ]
           ]
          },
          "colorway": [
           "#636efa",
           "#EF553B",
           "#00cc96",
           "#ab63fa",
           "#FFA15A",
           "#19d3f3",
           "#FF6692",
           "#B6E880",
           "#FF97FF",
           "#FECB52"
          ],
          "font": {
           "color": "#2a3f5f"
          },
          "geo": {
           "bgcolor": "white",
           "lakecolor": "white",
           "landcolor": "#E5ECF6",
           "showlakes": true,
           "showland": true,
           "subunitcolor": "white"
          },
          "hoverlabel": {
           "align": "left"
          },
          "hovermode": "closest",
          "mapbox": {
           "style": "light"
          },
          "paper_bgcolor": "white",
          "plot_bgcolor": "#E5ECF6",
          "polar": {
           "angularaxis": {
            "gridcolor": "white",
            "linecolor": "white",
            "ticks": ""
           },
           "bgcolor": "#E5ECF6",
           "radialaxis": {
            "gridcolor": "white",
            "linecolor": "white",
            "ticks": ""
           }
          },
          "scene": {
           "xaxis": {
            "backgroundcolor": "#E5ECF6",
            "gridcolor": "white",
            "gridwidth": 2,
            "linecolor": "white",
            "showbackground": true,
            "ticks": "",
            "zerolinecolor": "white"
           },
           "yaxis": {
            "backgroundcolor": "#E5ECF6",
            "gridcolor": "white",
            "gridwidth": 2,
            "linecolor": "white",
            "showbackground": true,
            "ticks": "",
            "zerolinecolor": "white"
           },
           "zaxis": {
            "backgroundcolor": "#E5ECF6",
            "gridcolor": "white",
            "gridwidth": 2,
            "linecolor": "white",
            "showbackground": true,
            "ticks": "",
            "zerolinecolor": "white"
           }
          },
          "shapedefaults": {
           "line": {
            "color": "#2a3f5f"
           }
          },
          "ternary": {
           "aaxis": {
            "gridcolor": "white",
            "linecolor": "white",
            "ticks": ""
           },
           "baxis": {
            "gridcolor": "white",
            "linecolor": "white",
            "ticks": ""
           },
           "bgcolor": "#E5ECF6",
           "caxis": {
            "gridcolor": "white",
            "linecolor": "white",
            "ticks": ""
           }
          },
          "title": {
           "x": 0.05
          },
          "xaxis": {
           "automargin": true,
           "gridcolor": "white",
           "linecolor": "white",
           "ticks": "",
           "title": {
            "standoff": 15
           },
           "zerolinecolor": "white",
           "zerolinewidth": 2
          },
          "yaxis": {
           "automargin": true,
           "gridcolor": "white",
           "linecolor": "white",
           "ticks": "",
           "title": {
            "standoff": 15
           },
           "zerolinecolor": "white",
           "zerolinewidth": 2
          }
         }
        },
        "title": {
         "text": "Analyse de l'importance des caractéristiques"
        },
        "width": 1500,
        "xaxis": {
         "showgrid": false,
         "title": {
          "text": "Caractéristiques"
         }
        },
        "yaxis": {
         "showgrid": false,
         "title": {
          "text": "Gain moyen"
         }
        }
       }
      }
     },
     "metadata": {},
     "output_type": "display_data"
    }
   ],
   "source": [
    "bar_y = [\n",
    "    \"Précipitation moyenne (30 jours)\",\n",
    "    \"Humidité maximale du sol (0 à 7 cm, 1 jour)\",\n",
    "    \"Humidité maximale du sol (28 à 100 cm, 1 jour)\",\n",
    "    \"Hauteur médiane du niveau de la mer (30 jours)\",\n",
    "    \"Humidité maximale du sol (7 à 28 cm, 1 jour)\",\n",
    "    \"Précipitation moyenne (5 jours)\",\n",
    "    \"Hauteur maximale du niveau de la mer (1 jour)\",\n",
    "    \"Hauteur moyenne du niveau de la mer (1 jour)\",\n",
    "    \"Mois\",\n",
    "    \"Précipitation maximale (1 jour)\"\n",
    "]\n",
    "\n",
    "perm_features = X_test.columns[sorted_idx[-5:]]\n",
    "perm_importances = result.importances[sorted_idx[-5:]]\n",
    "\n",
    "fig = go.Figure()\n",
    "\n",
    "\n",
    "fig.add_trace(\n",
    "    go.Bar(\n",
    "        x=bar_y,  \n",
    "        y=bar_x,  \n",
    "        orientation='v',  \n",
    "        marker=dict(color='royalblue'),\n",
    "        name=\"Importance des caractéristiques (Gain)\"\n",
    "    )\n",
    ")\n",
    "\n",
    "\n",
    "fig.update_layout(\n",
    "    title=\"Analyse de l'importance des caractéristiques\",\n",
    "    height=800,\n",
    "    width=1500,\n",
    "    showlegend=False,\n",
    "    xaxis=dict(title=\"Caractéristiques\", showgrid=False),  \n",
    "    yaxis=dict(title=\"Gain moyen\", showgrid=False),  \n",
    "\n",
    ")\n",
    "\n",
    "fig.show()"
   ]
  },
  {
   "cell_type": "code",
   "execution_count": 215,
   "metadata": {},
   "outputs": [
    {
     "data": {
      "text/plain": [
       "['output/model_XGBC_predict_flood.pkl']"
      ]
     },
     "execution_count": 215,
     "metadata": {},
     "output_type": "execute_result"
    }
   ],
   "source": [
    "joblib.dump(final_model_XGBC_best_params, 'output/model_XGBC_predict_flood.pkl')"
   ]
  }
 ],
 "metadata": {
  "kernelspec": {
   "display_name": "base",
   "language": "python",
   "name": "python3"
  },
  "language_info": {
   "codemirror_mode": {
    "name": "ipython",
    "version": 3
   },
   "file_extension": ".py",
   "mimetype": "text/x-python",
   "name": "python",
   "nbconvert_exporter": "python",
   "pygments_lexer": "ipython3",
   "version": "3.12.4"
  }
 },
 "nbformat": 4,
 "nbformat_minor": 2
}
